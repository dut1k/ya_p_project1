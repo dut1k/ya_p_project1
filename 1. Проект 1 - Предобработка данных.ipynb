{
 "cells": [
  {
   "cell_type": "markdown",
   "id": "6aa8db89",
   "metadata": {
    "deletable": false,
    "editable": false,
    "id": "c81daeeb"
   },
   "source": [
    "# Исследование надежности заемщиков\n"
   ]
  },
  {
   "cell_type": "markdown",
   "id": "b4367d07",
   "metadata": {
    "deletable": false,
    "editable": false,
    "id": "827c20bf"
   },
   "source": [
    "Во второй части проекта вы выполните шаги 3 и 4. Их вручную проверит ревьюер.\n",
    "Чтобы вам не пришлось писать код заново для шагов 1 и 2, мы добавили авторские решения в ячейки с кодом. \n",
    "\n"
   ]
  },
  {
   "cell_type": "markdown",
   "id": "4413085a",
   "metadata": {
    "deletable": false,
    "editable": false,
    "id": "744d7639"
   },
   "source": [
    "## Откройте таблицу и изучите общую информацию о данных"
   ]
  },
  {
   "cell_type": "markdown",
   "id": "7bd3cce9",
   "metadata": {
    "deletable": false,
    "editable": false,
    "id": "e7a14c31"
   },
   "source": [
    "**Задание 1. Импортируйте библиотеку pandas. Считайте данные из csv-файла в датафрейм и сохраните в переменную `data`. Путь к файлу:**\n",
    "\n",
    "`/datasets/data.csv`"
   ]
  },
  {
   "cell_type": "code",
   "execution_count": 1,
   "id": "032679ab",
   "metadata": {
    "deletable": false,
    "id": "7bcf75c9"
   },
   "outputs": [],
   "source": [
    "import pandas as pd\n",
    "\n",
    "try:\n",
    "    data = pd.read_csv('/datasets/data.csv')\n",
    "except:\n",
    "    data = pd.read_csv('https://code.s3.yandex.net/datasets/data.csv')"
   ]
  },
  {
   "cell_type": "markdown",
   "id": "b17b04ef",
   "metadata": {
    "deletable": false,
    "editable": false,
    "id": "b8038fe3"
   },
   "source": [
    "**Задание 2. Выведите первые 20 строчек датафрейма `data` на экран.**"
   ]
  },
  {
   "cell_type": "code",
   "execution_count": 2,
   "id": "4c9066dc",
   "metadata": {
    "deletable": false,
    "id": "2a7cab99",
    "outputId": "1a8f3ef2-d323-4ec2-ddf7-89670b5944c4"
   },
   "outputs": [
    {
     "data": {
      "text/html": [
       "<div>\n",
       "<style scoped>\n",
       "    .dataframe tbody tr th:only-of-type {\n",
       "        vertical-align: middle;\n",
       "    }\n",
       "\n",
       "    .dataframe tbody tr th {\n",
       "        vertical-align: top;\n",
       "    }\n",
       "\n",
       "    .dataframe thead th {\n",
       "        text-align: right;\n",
       "    }\n",
       "</style>\n",
       "<table border=\"1\" class=\"dataframe\">\n",
       "  <thead>\n",
       "    <tr style=\"text-align: right;\">\n",
       "      <th></th>\n",
       "      <th>children</th>\n",
       "      <th>days_employed</th>\n",
       "      <th>dob_years</th>\n",
       "      <th>education</th>\n",
       "      <th>education_id</th>\n",
       "      <th>family_status</th>\n",
       "      <th>family_status_id</th>\n",
       "      <th>gender</th>\n",
       "      <th>income_type</th>\n",
       "      <th>debt</th>\n",
       "      <th>total_income</th>\n",
       "      <th>purpose</th>\n",
       "    </tr>\n",
       "  </thead>\n",
       "  <tbody>\n",
       "    <tr>\n",
       "      <th>0</th>\n",
       "      <td>1</td>\n",
       "      <td>-8437.673028</td>\n",
       "      <td>42</td>\n",
       "      <td>высшее</td>\n",
       "      <td>0</td>\n",
       "      <td>женат / замужем</td>\n",
       "      <td>0</td>\n",
       "      <td>F</td>\n",
       "      <td>сотрудник</td>\n",
       "      <td>0</td>\n",
       "      <td>253875.639453</td>\n",
       "      <td>покупка жилья</td>\n",
       "    </tr>\n",
       "    <tr>\n",
       "      <th>1</th>\n",
       "      <td>1</td>\n",
       "      <td>-4024.803754</td>\n",
       "      <td>36</td>\n",
       "      <td>среднее</td>\n",
       "      <td>1</td>\n",
       "      <td>женат / замужем</td>\n",
       "      <td>0</td>\n",
       "      <td>F</td>\n",
       "      <td>сотрудник</td>\n",
       "      <td>0</td>\n",
       "      <td>112080.014102</td>\n",
       "      <td>приобретение автомобиля</td>\n",
       "    </tr>\n",
       "    <tr>\n",
       "      <th>2</th>\n",
       "      <td>0</td>\n",
       "      <td>-5623.422610</td>\n",
       "      <td>33</td>\n",
       "      <td>Среднее</td>\n",
       "      <td>1</td>\n",
       "      <td>женат / замужем</td>\n",
       "      <td>0</td>\n",
       "      <td>M</td>\n",
       "      <td>сотрудник</td>\n",
       "      <td>0</td>\n",
       "      <td>145885.952297</td>\n",
       "      <td>покупка жилья</td>\n",
       "    </tr>\n",
       "    <tr>\n",
       "      <th>3</th>\n",
       "      <td>3</td>\n",
       "      <td>-4124.747207</td>\n",
       "      <td>32</td>\n",
       "      <td>среднее</td>\n",
       "      <td>1</td>\n",
       "      <td>женат / замужем</td>\n",
       "      <td>0</td>\n",
       "      <td>M</td>\n",
       "      <td>сотрудник</td>\n",
       "      <td>0</td>\n",
       "      <td>267628.550329</td>\n",
       "      <td>дополнительное образование</td>\n",
       "    </tr>\n",
       "    <tr>\n",
       "      <th>4</th>\n",
       "      <td>0</td>\n",
       "      <td>340266.072047</td>\n",
       "      <td>53</td>\n",
       "      <td>среднее</td>\n",
       "      <td>1</td>\n",
       "      <td>гражданский брак</td>\n",
       "      <td>1</td>\n",
       "      <td>F</td>\n",
       "      <td>пенсионер</td>\n",
       "      <td>0</td>\n",
       "      <td>158616.077870</td>\n",
       "      <td>сыграть свадьбу</td>\n",
       "    </tr>\n",
       "    <tr>\n",
       "      <th>5</th>\n",
       "      <td>0</td>\n",
       "      <td>-926.185831</td>\n",
       "      <td>27</td>\n",
       "      <td>высшее</td>\n",
       "      <td>0</td>\n",
       "      <td>гражданский брак</td>\n",
       "      <td>1</td>\n",
       "      <td>M</td>\n",
       "      <td>компаньон</td>\n",
       "      <td>0</td>\n",
       "      <td>255763.565419</td>\n",
       "      <td>покупка жилья</td>\n",
       "    </tr>\n",
       "    <tr>\n",
       "      <th>6</th>\n",
       "      <td>0</td>\n",
       "      <td>-2879.202052</td>\n",
       "      <td>43</td>\n",
       "      <td>высшее</td>\n",
       "      <td>0</td>\n",
       "      <td>женат / замужем</td>\n",
       "      <td>0</td>\n",
       "      <td>F</td>\n",
       "      <td>компаньон</td>\n",
       "      <td>0</td>\n",
       "      <td>240525.971920</td>\n",
       "      <td>операции с жильем</td>\n",
       "    </tr>\n",
       "    <tr>\n",
       "      <th>7</th>\n",
       "      <td>0</td>\n",
       "      <td>-152.779569</td>\n",
       "      <td>50</td>\n",
       "      <td>СРЕДНЕЕ</td>\n",
       "      <td>1</td>\n",
       "      <td>женат / замужем</td>\n",
       "      <td>0</td>\n",
       "      <td>M</td>\n",
       "      <td>сотрудник</td>\n",
       "      <td>0</td>\n",
       "      <td>135823.934197</td>\n",
       "      <td>образование</td>\n",
       "    </tr>\n",
       "    <tr>\n",
       "      <th>8</th>\n",
       "      <td>2</td>\n",
       "      <td>-6929.865299</td>\n",
       "      <td>35</td>\n",
       "      <td>ВЫСШЕЕ</td>\n",
       "      <td>0</td>\n",
       "      <td>гражданский брак</td>\n",
       "      <td>1</td>\n",
       "      <td>F</td>\n",
       "      <td>сотрудник</td>\n",
       "      <td>0</td>\n",
       "      <td>95856.832424</td>\n",
       "      <td>на проведение свадьбы</td>\n",
       "    </tr>\n",
       "    <tr>\n",
       "      <th>9</th>\n",
       "      <td>0</td>\n",
       "      <td>-2188.756445</td>\n",
       "      <td>41</td>\n",
       "      <td>среднее</td>\n",
       "      <td>1</td>\n",
       "      <td>женат / замужем</td>\n",
       "      <td>0</td>\n",
       "      <td>M</td>\n",
       "      <td>сотрудник</td>\n",
       "      <td>0</td>\n",
       "      <td>144425.938277</td>\n",
       "      <td>покупка жилья для семьи</td>\n",
       "    </tr>\n",
       "    <tr>\n",
       "      <th>10</th>\n",
       "      <td>2</td>\n",
       "      <td>-4171.483647</td>\n",
       "      <td>36</td>\n",
       "      <td>высшее</td>\n",
       "      <td>0</td>\n",
       "      <td>женат / замужем</td>\n",
       "      <td>0</td>\n",
       "      <td>M</td>\n",
       "      <td>компаньон</td>\n",
       "      <td>0</td>\n",
       "      <td>113943.491460</td>\n",
       "      <td>покупка недвижимости</td>\n",
       "    </tr>\n",
       "    <tr>\n",
       "      <th>11</th>\n",
       "      <td>0</td>\n",
       "      <td>-792.701887</td>\n",
       "      <td>40</td>\n",
       "      <td>среднее</td>\n",
       "      <td>1</td>\n",
       "      <td>женат / замужем</td>\n",
       "      <td>0</td>\n",
       "      <td>F</td>\n",
       "      <td>сотрудник</td>\n",
       "      <td>0</td>\n",
       "      <td>77069.234271</td>\n",
       "      <td>покупка коммерческой недвижимости</td>\n",
       "    </tr>\n",
       "    <tr>\n",
       "      <th>12</th>\n",
       "      <td>0</td>\n",
       "      <td>NaN</td>\n",
       "      <td>65</td>\n",
       "      <td>среднее</td>\n",
       "      <td>1</td>\n",
       "      <td>гражданский брак</td>\n",
       "      <td>1</td>\n",
       "      <td>M</td>\n",
       "      <td>пенсионер</td>\n",
       "      <td>0</td>\n",
       "      <td>NaN</td>\n",
       "      <td>сыграть свадьбу</td>\n",
       "    </tr>\n",
       "    <tr>\n",
       "      <th>13</th>\n",
       "      <td>0</td>\n",
       "      <td>-1846.641941</td>\n",
       "      <td>54</td>\n",
       "      <td>неоконченное высшее</td>\n",
       "      <td>2</td>\n",
       "      <td>женат / замужем</td>\n",
       "      <td>0</td>\n",
       "      <td>F</td>\n",
       "      <td>сотрудник</td>\n",
       "      <td>0</td>\n",
       "      <td>130458.228857</td>\n",
       "      <td>приобретение автомобиля</td>\n",
       "    </tr>\n",
       "    <tr>\n",
       "      <th>14</th>\n",
       "      <td>0</td>\n",
       "      <td>-1844.956182</td>\n",
       "      <td>56</td>\n",
       "      <td>высшее</td>\n",
       "      <td>0</td>\n",
       "      <td>гражданский брак</td>\n",
       "      <td>1</td>\n",
       "      <td>F</td>\n",
       "      <td>компаньон</td>\n",
       "      <td>1</td>\n",
       "      <td>165127.911772</td>\n",
       "      <td>покупка жилой недвижимости</td>\n",
       "    </tr>\n",
       "    <tr>\n",
       "      <th>15</th>\n",
       "      <td>1</td>\n",
       "      <td>-972.364419</td>\n",
       "      <td>26</td>\n",
       "      <td>среднее</td>\n",
       "      <td>1</td>\n",
       "      <td>женат / замужем</td>\n",
       "      <td>0</td>\n",
       "      <td>F</td>\n",
       "      <td>сотрудник</td>\n",
       "      <td>0</td>\n",
       "      <td>116820.904450</td>\n",
       "      <td>строительство собственной недвижимости</td>\n",
       "    </tr>\n",
       "    <tr>\n",
       "      <th>16</th>\n",
       "      <td>0</td>\n",
       "      <td>-1719.934226</td>\n",
       "      <td>35</td>\n",
       "      <td>среднее</td>\n",
       "      <td>1</td>\n",
       "      <td>женат / замужем</td>\n",
       "      <td>0</td>\n",
       "      <td>F</td>\n",
       "      <td>сотрудник</td>\n",
       "      <td>0</td>\n",
       "      <td>289202.704229</td>\n",
       "      <td>недвижимость</td>\n",
       "    </tr>\n",
       "    <tr>\n",
       "      <th>17</th>\n",
       "      <td>0</td>\n",
       "      <td>-2369.999720</td>\n",
       "      <td>33</td>\n",
       "      <td>высшее</td>\n",
       "      <td>0</td>\n",
       "      <td>гражданский брак</td>\n",
       "      <td>1</td>\n",
       "      <td>M</td>\n",
       "      <td>сотрудник</td>\n",
       "      <td>0</td>\n",
       "      <td>90410.586745</td>\n",
       "      <td>строительство недвижимости</td>\n",
       "    </tr>\n",
       "    <tr>\n",
       "      <th>18</th>\n",
       "      <td>0</td>\n",
       "      <td>400281.136913</td>\n",
       "      <td>53</td>\n",
       "      <td>среднее</td>\n",
       "      <td>1</td>\n",
       "      <td>вдовец / вдова</td>\n",
       "      <td>2</td>\n",
       "      <td>F</td>\n",
       "      <td>пенсионер</td>\n",
       "      <td>0</td>\n",
       "      <td>56823.777243</td>\n",
       "      <td>на покупку подержанного автомобиля</td>\n",
       "    </tr>\n",
       "    <tr>\n",
       "      <th>19</th>\n",
       "      <td>0</td>\n",
       "      <td>-10038.818549</td>\n",
       "      <td>48</td>\n",
       "      <td>СРЕДНЕЕ</td>\n",
       "      <td>1</td>\n",
       "      <td>в разводе</td>\n",
       "      <td>3</td>\n",
       "      <td>F</td>\n",
       "      <td>сотрудник</td>\n",
       "      <td>0</td>\n",
       "      <td>242831.107982</td>\n",
       "      <td>на покупку своего автомобиля</td>\n",
       "    </tr>\n",
       "  </tbody>\n",
       "</table>\n",
       "</div>"
      ],
      "text/plain": [
       "    children  days_employed  dob_years            education  education_id  \\\n",
       "0          1   -8437.673028         42               высшее             0   \n",
       "1          1   -4024.803754         36              среднее             1   \n",
       "2          0   -5623.422610         33              Среднее             1   \n",
       "3          3   -4124.747207         32              среднее             1   \n",
       "4          0  340266.072047         53              среднее             1   \n",
       "5          0    -926.185831         27               высшее             0   \n",
       "6          0   -2879.202052         43               высшее             0   \n",
       "7          0    -152.779569         50              СРЕДНЕЕ             1   \n",
       "8          2   -6929.865299         35               ВЫСШЕЕ             0   \n",
       "9          0   -2188.756445         41              среднее             1   \n",
       "10         2   -4171.483647         36               высшее             0   \n",
       "11         0    -792.701887         40              среднее             1   \n",
       "12         0            NaN         65              среднее             1   \n",
       "13         0   -1846.641941         54  неоконченное высшее             2   \n",
       "14         0   -1844.956182         56               высшее             0   \n",
       "15         1    -972.364419         26              среднее             1   \n",
       "16         0   -1719.934226         35              среднее             1   \n",
       "17         0   -2369.999720         33               высшее             0   \n",
       "18         0  400281.136913         53              среднее             1   \n",
       "19         0  -10038.818549         48              СРЕДНЕЕ             1   \n",
       "\n",
       "       family_status  family_status_id gender income_type  debt  \\\n",
       "0    женат / замужем                 0      F   сотрудник     0   \n",
       "1    женат / замужем                 0      F   сотрудник     0   \n",
       "2    женат / замужем                 0      M   сотрудник     0   \n",
       "3    женат / замужем                 0      M   сотрудник     0   \n",
       "4   гражданский брак                 1      F   пенсионер     0   \n",
       "5   гражданский брак                 1      M   компаньон     0   \n",
       "6    женат / замужем                 0      F   компаньон     0   \n",
       "7    женат / замужем                 0      M   сотрудник     0   \n",
       "8   гражданский брак                 1      F   сотрудник     0   \n",
       "9    женат / замужем                 0      M   сотрудник     0   \n",
       "10   женат / замужем                 0      M   компаньон     0   \n",
       "11   женат / замужем                 0      F   сотрудник     0   \n",
       "12  гражданский брак                 1      M   пенсионер     0   \n",
       "13   женат / замужем                 0      F   сотрудник     0   \n",
       "14  гражданский брак                 1      F   компаньон     1   \n",
       "15   женат / замужем                 0      F   сотрудник     0   \n",
       "16   женат / замужем                 0      F   сотрудник     0   \n",
       "17  гражданский брак                 1      M   сотрудник     0   \n",
       "18    вдовец / вдова                 2      F   пенсионер     0   \n",
       "19         в разводе                 3      F   сотрудник     0   \n",
       "\n",
       "     total_income                                 purpose  \n",
       "0   253875.639453                           покупка жилья  \n",
       "1   112080.014102                 приобретение автомобиля  \n",
       "2   145885.952297                           покупка жилья  \n",
       "3   267628.550329              дополнительное образование  \n",
       "4   158616.077870                         сыграть свадьбу  \n",
       "5   255763.565419                           покупка жилья  \n",
       "6   240525.971920                       операции с жильем  \n",
       "7   135823.934197                             образование  \n",
       "8    95856.832424                   на проведение свадьбы  \n",
       "9   144425.938277                 покупка жилья для семьи  \n",
       "10  113943.491460                    покупка недвижимости  \n",
       "11   77069.234271       покупка коммерческой недвижимости  \n",
       "12            NaN                         сыграть свадьбу  \n",
       "13  130458.228857                 приобретение автомобиля  \n",
       "14  165127.911772              покупка жилой недвижимости  \n",
       "15  116820.904450  строительство собственной недвижимости  \n",
       "16  289202.704229                            недвижимость  \n",
       "17   90410.586745              строительство недвижимости  \n",
       "18   56823.777243      на покупку подержанного автомобиля  \n",
       "19  242831.107982            на покупку своего автомобиля  "
      ]
     },
     "execution_count": 2,
     "metadata": {},
     "output_type": "execute_result"
    }
   ],
   "source": [
    "data.head(20)"
   ]
  },
  {
   "cell_type": "markdown",
   "id": "8f0d2012",
   "metadata": {
    "deletable": false,
    "editable": false,
    "id": "1c12e233"
   },
   "source": [
    "**Задание 3. Выведите основную информацию о датафрейме с помощью метода `info()`.**"
   ]
  },
  {
   "cell_type": "code",
   "execution_count": 3,
   "id": "6a784726",
   "metadata": {
    "deletable": false,
    "id": "2b757bca",
    "outputId": "15376089-8dad-46c9-b520-c05248d43158"
   },
   "outputs": [
    {
     "name": "stdout",
     "output_type": "stream",
     "text": [
      "<class 'pandas.core.frame.DataFrame'>\n",
      "RangeIndex: 21525 entries, 0 to 21524\n",
      "Data columns (total 12 columns):\n",
      " #   Column            Non-Null Count  Dtype  \n",
      "---  ------            --------------  -----  \n",
      " 0   children          21525 non-null  int64  \n",
      " 1   days_employed     19351 non-null  float64\n",
      " 2   dob_years         21525 non-null  int64  \n",
      " 3   education         21525 non-null  object \n",
      " 4   education_id      21525 non-null  int64  \n",
      " 5   family_status     21525 non-null  object \n",
      " 6   family_status_id  21525 non-null  int64  \n",
      " 7   gender            21525 non-null  object \n",
      " 8   income_type       21525 non-null  object \n",
      " 9   debt              21525 non-null  int64  \n",
      " 10  total_income      19351 non-null  float64\n",
      " 11  purpose           21525 non-null  object \n",
      "dtypes: float64(2), int64(5), object(5)\n",
      "memory usage: 2.0+ MB\n"
     ]
    }
   ],
   "source": [
    "data.info()"
   ]
  },
  {
   "cell_type": "markdown",
   "id": "f8412af2",
   "metadata": {
    "deletable": false,
    "editable": false,
    "id": "333ec665"
   },
   "source": [
    "## Предобработка данных"
   ]
  },
  {
   "cell_type": "markdown",
   "id": "50b4d32b",
   "metadata": {
    "deletable": false,
    "editable": false,
    "id": "02d92d53"
   },
   "source": [
    "### Удаление пропусков"
   ]
  },
  {
   "cell_type": "markdown",
   "id": "3d5e5b54",
   "metadata": {
    "deletable": false,
    "editable": false,
    "id": "cd84967c"
   },
   "source": [
    "**Задание 4. Выведите количество пропущенных значений для каждого столбца. Используйте комбинацию двух методов.**"
   ]
  },
  {
   "cell_type": "code",
   "execution_count": 4,
   "id": "0d1b87f5",
   "metadata": {
    "deletable": false,
    "id": "7f9b2309",
    "outputId": "81f4d817-781c-465c-ed15-91ce4446810d"
   },
   "outputs": [
    {
     "data": {
      "text/plain": [
       "children               0\n",
       "days_employed       2174\n",
       "dob_years              0\n",
       "education              0\n",
       "education_id           0\n",
       "family_status          0\n",
       "family_status_id       0\n",
       "gender                 0\n",
       "income_type            0\n",
       "debt                   0\n",
       "total_income        2174\n",
       "purpose                0\n",
       "dtype: int64"
      ]
     },
     "execution_count": 4,
     "metadata": {},
     "output_type": "execute_result"
    }
   ],
   "source": [
    "data.isna().sum()"
   ]
  },
  {
   "cell_type": "markdown",
   "id": "c7727f0d",
   "metadata": {
    "deletable": false,
    "editable": false,
    "id": "db86e27b"
   },
   "source": [
    "**Задание 5. В двух столбцах есть пропущенные значения. Один из них — `days_employed`. Пропуски в этом столбце вы обработаете на следующем этапе. Другой столбец с пропущенными значениями — `total_income` — хранит данные о доходах. На сумму дохода сильнее всего влияет тип занятости, поэтому заполнить пропуски в этом столбце нужно медианным значением по каждому типу из столбца `income_type`. Например, у человека с типом занятости `сотрудник` пропуск в столбце `total_income` должен быть заполнен медианным доходом среди всех записей с тем же типом.**"
   ]
  },
  {
   "cell_type": "code",
   "execution_count": 5,
   "id": "183cad62",
   "metadata": {
    "deletable": false,
    "id": "42006a93"
   },
   "outputs": [],
   "source": [
    "for t in data['income_type'].unique():\n",
    "    data.loc[(data['income_type'] == t) & (data['total_income'].isna()), 'total_income'] = \\\n",
    "    data.loc[(data['income_type'] == t), 'total_income'].median()"
   ]
  },
  {
   "cell_type": "markdown",
   "id": "996e96af",
   "metadata": {
    "deletable": false,
    "editable": false,
    "id": "89da5ece"
   },
   "source": [
    "### Обработка аномальных значений"
   ]
  },
  {
   "cell_type": "markdown",
   "id": "6a985d34",
   "metadata": {
    "deletable": false,
    "editable": false,
    "id": "57964554"
   },
   "source": [
    "**Задание 6. В данных могут встречаться артефакты (аномалии) — значения, которые не отражают действительность и появились по какой-то ошибке. таким артефактом будет отрицательное количество дней трудового стажа в столбце `days_employed`. Для реальных данных это нормально. Обработайте значения в этом столбце: замените все отрицательные значения положительными с помощью метода `abs()`.**"
   ]
  },
  {
   "cell_type": "code",
   "execution_count": 6,
   "id": "7a1ad3a9",
   "metadata": {
    "deletable": false,
    "id": "f6f055bf"
   },
   "outputs": [],
   "source": [
    "data['days_employed'] = data['days_employed'].abs()"
   ]
  },
  {
   "cell_type": "markdown",
   "id": "a3c2667f",
   "metadata": {
    "deletable": false,
    "editable": false,
    "id": "6107dd2f"
   },
   "source": [
    "**Задание 7. Для каждого типа занятости выведите медианное значение трудового стажа `days_employed` в днях.**"
   ]
  },
  {
   "cell_type": "code",
   "execution_count": 7,
   "id": "d519d74e",
   "metadata": {
    "deletable": false,
    "id": "85a5faf6",
    "outputId": "801ef80e-522b-4668-f34e-565af7432bcf"
   },
   "outputs": [
    {
     "data": {
      "text/plain": [
       "income_type\n",
       "безработный        366413.652744\n",
       "в декрете            3296.759962\n",
       "госслужащий          2689.368353\n",
       "компаньон            1547.382223\n",
       "пенсионер          365213.306266\n",
       "предприниматель       520.848083\n",
       "сотрудник            1574.202821\n",
       "студент               578.751554\n",
       "Name: days_employed, dtype: float64"
      ]
     },
     "execution_count": 7,
     "metadata": {},
     "output_type": "execute_result"
    }
   ],
   "source": [
    "data.groupby('income_type')['days_employed'].agg('median')"
   ]
  },
  {
   "cell_type": "markdown",
   "id": "13b30359",
   "metadata": {
    "deletable": false,
    "editable": false,
    "id": "38d1a030"
   },
   "source": [
    "У двух типов (безработные и пенсионеры) получатся аномально большие значения. Исправить такие значения сложно, поэтому оставьте их как есть. Тем более этот столбец не понадобится вам для исследования."
   ]
  },
  {
   "cell_type": "markdown",
   "id": "4657e40d",
   "metadata": {
    "deletable": false,
    "editable": false,
    "id": "d8a9f147"
   },
   "source": [
    "**Задание 8. Выведите перечень уникальных значений столбца `children`.**"
   ]
  },
  {
   "cell_type": "code",
   "execution_count": 8,
   "id": "3635507e",
   "metadata": {
    "deletable": false,
    "id": "ef5056eb",
    "outputId": "6975b15c-7f95-4697-d16d-a0c79b657b03"
   },
   "outputs": [
    {
     "data": {
      "text/plain": [
       "array([ 1,  0,  3,  2, -1,  4, 20,  5])"
      ]
     },
     "execution_count": 8,
     "metadata": {},
     "output_type": "execute_result"
    }
   ],
   "source": [
    "data['children'].unique()"
   ]
  },
  {
   "cell_type": "markdown",
   "id": "1a976ad2",
   "metadata": {
    "deletable": false,
    "editable": false,
    "id": "40b9ebf2"
   },
   "source": [
    "**Задание 9. В столбце `children` есть два аномальных значения. Удалите строки, в которых встречаются такие аномальные значения из датафрейма `data`.**"
   ]
  },
  {
   "cell_type": "code",
   "execution_count": 9,
   "id": "ce181e06",
   "metadata": {
    "deletable": false,
    "id": "3ff9801d"
   },
   "outputs": [],
   "source": [
    "data = data[(data['children'] != -1) & (data['children'] != 20)]"
   ]
  },
  {
   "cell_type": "markdown",
   "id": "ba48afee",
   "metadata": {
    "deletable": false,
    "editable": false,
    "id": "bbc4d0ce"
   },
   "source": [
    "**Задание 10. Ещё раз выведите перечень уникальных значений столбца `children`, чтобы убедиться, что артефакты удалены.**"
   ]
  },
  {
   "cell_type": "code",
   "execution_count": 10,
   "id": "c2549760",
   "metadata": {
    "deletable": false,
    "id": "ad4fa8b7",
    "outputId": "b2097101-d49d-44d9-901b-32a65c9463d1"
   },
   "outputs": [
    {
     "data": {
      "text/plain": [
       "array([1, 0, 3, 2, 4, 5])"
      ]
     },
     "execution_count": 10,
     "metadata": {},
     "output_type": "execute_result"
    }
   ],
   "source": [
    "data['children'].unique()"
   ]
  },
  {
   "cell_type": "markdown",
   "id": "03e86e18",
   "metadata": {
    "deletable": false,
    "editable": false,
    "id": "75440b63"
   },
   "source": [
    "### Удаление пропусков (продолжение)"
   ]
  },
  {
   "cell_type": "markdown",
   "id": "ef6ee322",
   "metadata": {
    "deletable": false,
    "editable": false,
    "id": "f4ea573f"
   },
   "source": [
    "**Задание 11. Заполните пропуски в столбце `days_employed` медианными значениями по каждого типа занятости `income_type`.**"
   ]
  },
  {
   "cell_type": "code",
   "execution_count": 11,
   "id": "1eefa711",
   "metadata": {
    "deletable": false,
    "id": "af6b1a7e"
   },
   "outputs": [],
   "source": [
    "for t in data['income_type'].unique():\n",
    "    data.loc[(data['income_type'] == t) & (data['days_employed'].isna()), 'days_employed'] = \\\n",
    "    data.loc[(data['income_type'] == t), 'days_employed'].median()"
   ]
  },
  {
   "cell_type": "markdown",
   "id": "75e8d4c4",
   "metadata": {
    "deletable": false,
    "editable": false,
    "id": "2753f40d"
   },
   "source": [
    "**Задание 12. Убедитесь, что все пропуски заполнены. Проверьте себя и ещё раз выведите количество пропущенных значений для каждого столбца с помощью двух методов.**"
   ]
  },
  {
   "cell_type": "code",
   "execution_count": 12,
   "id": "dd455fcf",
   "metadata": {
    "deletable": false,
    "id": "55f78bc2",
    "outputId": "8da1e4e1-358e-4e87-98c9-f261bce0a7b2"
   },
   "outputs": [
    {
     "data": {
      "text/plain": [
       "children            0\n",
       "days_employed       0\n",
       "dob_years           0\n",
       "education           0\n",
       "education_id        0\n",
       "family_status       0\n",
       "family_status_id    0\n",
       "gender              0\n",
       "income_type         0\n",
       "debt                0\n",
       "total_income        0\n",
       "purpose             0\n",
       "dtype: int64"
      ]
     },
     "execution_count": 12,
     "metadata": {},
     "output_type": "execute_result"
    }
   ],
   "source": [
    "data.isna().sum()"
   ]
  },
  {
   "cell_type": "markdown",
   "id": "01c21e2a",
   "metadata": {
    "deletable": false,
    "editable": false,
    "id": "ddc81e43"
   },
   "source": [
    "### Изменение типов данных"
   ]
  },
  {
   "cell_type": "markdown",
   "id": "3a4db3e0",
   "metadata": {
    "deletable": false,
    "editable": false,
    "id": "42d19d24"
   },
   "source": [
    "**Задание 13. Замените вещественный тип данных в столбце `total_income` на целочисленный с помощью метода `astype()`.**"
   ]
  },
  {
   "cell_type": "code",
   "execution_count": 13,
   "id": "99c19622",
   "metadata": {
    "deletable": false,
    "id": "920b65ad"
   },
   "outputs": [],
   "source": [
    "data['total_income'] = data['total_income'].astype(int)"
   ]
  },
  {
   "cell_type": "markdown",
   "id": "bcff7ca0",
   "metadata": {
    "deletable": false,
    "editable": false,
    "id": "80c420ba"
   },
   "source": [
    "### Обработка дубликатов"
   ]
  },
  {
   "cell_type": "markdown",
   "id": "f759b380",
   "metadata": {
    "deletable": false,
    "editable": false
   },
   "source": [
    "**Задание 14. Обработайте неявные дубликаты в столбце `education`. В этом столбце есть одни и те же значения, но записанные по-разному: с использованием заглавных и строчных букв. Приведите их к нижнему регистру. Проверьте остальные столбцы.**"
   ]
  },
  {
   "cell_type": "code",
   "execution_count": 14,
   "id": "a2306dd4",
   "metadata": {
    "deletable": false
   },
   "outputs": [],
   "source": [
    "data['education'] = data['education'].str.lower()"
   ]
  },
  {
   "cell_type": "markdown",
   "id": "0443d2f6",
   "metadata": {
    "deletable": false,
    "editable": false,
    "id": "dc587695"
   },
   "source": [
    "**Задание 15. Выведите на экран количество строк-дубликатов в данных. Если такие строки присутствуют, удалите их.**"
   ]
  },
  {
   "cell_type": "code",
   "execution_count": 15,
   "id": "ec991cb3",
   "metadata": {
    "deletable": false,
    "id": "3ee445e4",
    "outputId": "9684deba-1934-42d1-99e1-cda61740f822"
   },
   "outputs": [
    {
     "data": {
      "text/plain": [
       "71"
      ]
     },
     "execution_count": 15,
     "metadata": {},
     "output_type": "execute_result"
    }
   ],
   "source": [
    "data.duplicated().sum()"
   ]
  },
  {
   "cell_type": "code",
   "execution_count": 16,
   "id": "f654ce9d",
   "metadata": {
    "deletable": false,
    "id": "8575fe05"
   },
   "outputs": [],
   "source": [
    "data = data.drop_duplicates()"
   ]
  },
  {
   "cell_type": "markdown",
   "id": "2a7122be",
   "metadata": {
    "deletable": false,
    "editable": false,
    "id": "9904cf55"
   },
   "source": [
    "### Категоризация данных"
   ]
  },
  {
   "cell_type": "markdown",
   "id": "2fb2c6cf",
   "metadata": {
    "deletable": false,
    "editable": false,
    "id": "72fcc8a2"
   },
   "source": [
    "**Задание 16. На основании диапазонов, указанных ниже, создайте в датафрейме `data` столбец `total_income_category` с категориями:**\n",
    "\n",
    "- 0–30000 — `'E'`;\n",
    "- 30001–50000 — `'D'`;\n",
    "- 50001–200000 — `'C'`;\n",
    "- 200001–1000000 — `'B'`;\n",
    "- 1000001 и выше — `'A'`.\n",
    "\n",
    "\n",
    "**Например, кредитополучателю с доходом 25000 нужно назначить категорию `'E'`, а клиенту, получающему 235000, — `'B'`. Используйте собственную функцию с именем `categorize_income()` и метод `apply()`.**"
   ]
  },
  {
   "cell_type": "code",
   "execution_count": 17,
   "id": "dda26ab7",
   "metadata": {
    "deletable": false,
    "id": "e1771346"
   },
   "outputs": [],
   "source": [
    "def categorize_income(income):\n",
    "    try:\n",
    "        if 0 <= income <= 30000:\n",
    "            return 'E'\n",
    "        elif 30001 <= income <= 50000:\n",
    "            return 'D'\n",
    "        elif 50001 <= income <= 200000:\n",
    "            return 'C'\n",
    "        elif 200001 <= income <= 1000000:\n",
    "            return 'B'\n",
    "        elif income >= 1000001:\n",
    "            return 'A'\n",
    "    except:\n",
    "        pass"
   ]
  },
  {
   "cell_type": "code",
   "execution_count": 18,
   "id": "c8755c8f",
   "metadata": {
    "deletable": false,
    "id": "d5f3586d"
   },
   "outputs": [],
   "source": [
    "data['total_income_category'] = data['total_income'].apply(categorize_income)"
   ]
  },
  {
   "cell_type": "markdown",
   "id": "13aac2cc",
   "metadata": {
    "deletable": false,
    "editable": false,
    "id": "dde49b5c"
   },
   "source": [
    "**Задание 17. Выведите на экран перечень уникальных целей взятия кредита из столбца `purpose`.**"
   ]
  },
  {
   "cell_type": "code",
   "execution_count": 19,
   "id": "4a68a76a",
   "metadata": {
    "deletable": false,
    "id": "f67ce9b3",
    "outputId": "673c12d9-7d7e-4ae0-9812-c622c89dd244"
   },
   "outputs": [
    {
     "data": {
      "text/plain": [
       "array(['покупка жилья', 'приобретение автомобиля',\n",
       "       'дополнительное образование', 'сыграть свадьбу',\n",
       "       'операции с жильем', 'образование', 'на проведение свадьбы',\n",
       "       'покупка жилья для семьи', 'покупка недвижимости',\n",
       "       'покупка коммерческой недвижимости', 'покупка жилой недвижимости',\n",
       "       'строительство собственной недвижимости', 'недвижимость',\n",
       "       'строительство недвижимости', 'на покупку подержанного автомобиля',\n",
       "       'на покупку своего автомобиля',\n",
       "       'операции с коммерческой недвижимостью',\n",
       "       'строительство жилой недвижимости', 'жилье',\n",
       "       'операции со своей недвижимостью', 'автомобили',\n",
       "       'заняться образованием', 'сделка с подержанным автомобилем',\n",
       "       'получение образования', 'автомобиль', 'свадьба',\n",
       "       'получение дополнительного образования', 'покупка своего жилья',\n",
       "       'операции с недвижимостью', 'получение высшего образования',\n",
       "       'свой автомобиль', 'сделка с автомобилем',\n",
       "       'профильное образование', 'высшее образование',\n",
       "       'покупка жилья для сдачи', 'на покупку автомобиля', 'ремонт жилью',\n",
       "       'заняться высшим образованием'], dtype=object)"
      ]
     },
     "execution_count": 19,
     "metadata": {},
     "output_type": "execute_result"
    }
   ],
   "source": [
    "data['purpose'].unique()"
   ]
  },
  {
   "cell_type": "markdown",
   "id": "1f7f046a",
   "metadata": {
    "deletable": false,
    "editable": false,
    "id": "85d0aef0"
   },
   "source": [
    "**Задание 18. Создайте функцию, которая на основании данных из столбца `purpose` сформирует новый столбец `purpose_category`, в который войдут следующие категории:**\n",
    "\n",
    "- `'операции с автомобилем'`,\n",
    "- `'операции с недвижимостью'`,\n",
    "- `'проведение свадьбы'`,\n",
    "- `'получение образования'`.\n",
    "\n",
    "**Например, если в столбце `purpose` находится подстрока `'на покупку автомобиля'`, то в столбце `purpose_category` должна появиться строка `'операции с автомобилем'`.**\n",
    "\n",
    "**Используйте собственную функцию с именем `categorize_purpose()` и метод `apply()`. Изучите данные в столбце `purpose` и определите, какие подстроки помогут вам правильно определить категорию.**"
   ]
  },
  {
   "cell_type": "code",
   "execution_count": 20,
   "id": "83ca070d",
   "metadata": {
    "deletable": false,
    "id": "e149fab4"
   },
   "outputs": [],
   "source": [
    "def categorize_purpose(row):\n",
    "    try:\n",
    "        if 'автом' in row:\n",
    "            return 'операции с автомобилем'\n",
    "        elif 'жил' in row or 'недвиж' in row:\n",
    "            return 'операции с недвижимостью'\n",
    "        elif 'свад' in row:\n",
    "            return 'проведение свадьбы'\n",
    "        elif 'образов' in row:\n",
    "            return 'получение образования'\n",
    "    except:\n",
    "        return 'нет категории'"
   ]
  },
  {
   "cell_type": "code",
   "execution_count": 21,
   "id": "74c34836",
   "metadata": {
    "deletable": false,
    "id": "bf36e69b"
   },
   "outputs": [],
   "source": [
    "data['purpose_category'] = data['purpose'].apply(categorize_purpose)"
   ]
  },
  {
   "cell_type": "markdown",
   "id": "39c612e2",
   "metadata": {
    "deletable": false,
    "editable": false,
    "id": "09b242bf"
   },
   "source": [
    "### Шаг 3. Исследуйте данные и ответьте на вопросы"
   ]
  },
  {
   "cell_type": "code",
   "execution_count": 23,
   "id": "0a87de04",
   "metadata": {},
   "outputs": [
    {
     "data": {
      "text/html": [
       "<div>\n",
       "<style scoped>\n",
       "    .dataframe tbody tr th:only-of-type {\n",
       "        vertical-align: middle;\n",
       "    }\n",
       "\n",
       "    .dataframe tbody tr th {\n",
       "        vertical-align: top;\n",
       "    }\n",
       "\n",
       "    .dataframe thead tr th {\n",
       "        text-align: left;\n",
       "    }\n",
       "</style>\n",
       "<table border=\"1\" class=\"dataframe\">\n",
       "  <thead>\n",
       "    <tr>\n",
       "      <th></th>\n",
       "      <th>children</th>\n",
       "      <th>sum</th>\n",
       "      <th>count</th>\n",
       "      <th>mean</th>\n",
       "    </tr>\n",
       "    <tr>\n",
       "      <th></th>\n",
       "      <th></th>\n",
       "      <th>debt</th>\n",
       "      <th>debt</th>\n",
       "      <th>debt</th>\n",
       "    </tr>\n",
       "  </thead>\n",
       "  <tbody>\n",
       "    <tr>\n",
       "      <th>0</th>\n",
       "      <td>0</td>\n",
       "      <td>1063</td>\n",
       "      <td>14091</td>\n",
       "      <td>0.075438</td>\n",
       "    </tr>\n",
       "    <tr>\n",
       "      <th>1</th>\n",
       "      <td>1</td>\n",
       "      <td>444</td>\n",
       "      <td>4808</td>\n",
       "      <td>0.092346</td>\n",
       "    </tr>\n",
       "    <tr>\n",
       "      <th>2</th>\n",
       "      <td>2</td>\n",
       "      <td>194</td>\n",
       "      <td>2052</td>\n",
       "      <td>0.094542</td>\n",
       "    </tr>\n",
       "    <tr>\n",
       "      <th>3</th>\n",
       "      <td>3</td>\n",
       "      <td>27</td>\n",
       "      <td>330</td>\n",
       "      <td>0.081818</td>\n",
       "    </tr>\n",
       "    <tr>\n",
       "      <th>4</th>\n",
       "      <td>4</td>\n",
       "      <td>4</td>\n",
       "      <td>41</td>\n",
       "      <td>0.097561</td>\n",
       "    </tr>\n",
       "    <tr>\n",
       "      <th>5</th>\n",
       "      <td>5</td>\n",
       "      <td>0</td>\n",
       "      <td>9</td>\n",
       "      <td>0.000000</td>\n",
       "    </tr>\n",
       "  </tbody>\n",
       "</table>\n",
       "</div>"
      ],
      "text/plain": [
       "  children   sum  count      mean\n",
       "            debt   debt      debt\n",
       "0        0  1063  14091  0.075438\n",
       "1        1   444   4808  0.092346\n",
       "2        2   194   2052  0.094542\n",
       "3        3    27    330  0.081818\n",
       "4        4     4     41  0.097561\n",
       "5        5     0      9  0.000000"
      ]
     },
     "execution_count": 23,
     "metadata": {},
     "output_type": "execute_result"
    }
   ],
   "source": [
    "data_pivot2 = pd.pivot_table(data, index='children', values='debt', aggfunc=['sum','count','mean'])\n",
    "data_pivot2 = data_pivot2.reset_index()\n",
    "data_pivot2"
   ]
  },
  {
   "cell_type": "markdown",
   "id": "06a4bd8c",
   "metadata": {
    "deletable": false,
    "editable": false,
    "id": "c5d66278"
   },
   "source": [
    "#### 3.1 Есть ли зависимость между количеством детей и возвратом кредита в срок?"
   ]
  },
  {
   "cell_type": "markdown",
   "id": "f1924059",
   "metadata": {},
   "source": [
    "Для отображения результатов используем графики библиотеки seaborn"
   ]
  },
  {
   "cell_type": "code",
   "execution_count": 24,
   "id": "efffbf4e",
   "metadata": {},
   "outputs": [],
   "source": [
    "import matplotlib.pyplot as plt\n",
    "from matplotlib.ticker import PercentFormatter\n",
    "import seaborn as sns\n",
    "from io import StringIO"
   ]
  },
  {
   "cell_type": "markdown",
   "id": "01d44b8f",
   "metadata": {},
   "source": [
    "Создадим таблицу, группирующую исходные данные по количеству детей. В таблицу войдут значения:\n",
    "- Количество детей (\"*children*\")\n",
    "- Количество людей в каждой группе (\"*cnt_person*\")\n",
    "- Количество должников в каждой группе (\"*debt*\")\n",
    "- Отношение должников к общему кол-ву людей (\"*ratio*\")\n",
    "\n",
    "*Здесь и далее данные в таблицах представлены аналогичным методом*"
   ]
  },
  {
   "cell_type": "code",
   "execution_count": 25,
   "id": "d3efe3ca",
   "metadata": {
    "deletable": false,
    "id": "2cacfc4a",
    "scrolled": true
   },
   "outputs": [
    {
     "data": {
      "text/html": [
       "<div>\n",
       "<style scoped>\n",
       "    .dataframe tbody tr th:only-of-type {\n",
       "        vertical-align: middle;\n",
       "    }\n",
       "\n",
       "    .dataframe tbody tr th {\n",
       "        vertical-align: top;\n",
       "    }\n",
       "\n",
       "    .dataframe thead th {\n",
       "        text-align: right;\n",
       "    }\n",
       "</style>\n",
       "<table border=\"1\" class=\"dataframe\">\n",
       "  <thead>\n",
       "    <tr style=\"text-align: right;\">\n",
       "      <th></th>\n",
       "      <th>children</th>\n",
       "      <th>cnt_person</th>\n",
       "      <th>debt</th>\n",
       "      <th>ratio</th>\n",
       "    </tr>\n",
       "  </thead>\n",
       "  <tbody>\n",
       "    <tr>\n",
       "      <th>4</th>\n",
       "      <td>4</td>\n",
       "      <td>41</td>\n",
       "      <td>4</td>\n",
       "      <td>0.097561</td>\n",
       "    </tr>\n",
       "    <tr>\n",
       "      <th>2</th>\n",
       "      <td>2</td>\n",
       "      <td>2052</td>\n",
       "      <td>194</td>\n",
       "      <td>0.094542</td>\n",
       "    </tr>\n",
       "    <tr>\n",
       "      <th>1</th>\n",
       "      <td>1</td>\n",
       "      <td>4808</td>\n",
       "      <td>444</td>\n",
       "      <td>0.092346</td>\n",
       "    </tr>\n",
       "    <tr>\n",
       "      <th>3</th>\n",
       "      <td>3</td>\n",
       "      <td>330</td>\n",
       "      <td>27</td>\n",
       "      <td>0.081818</td>\n",
       "    </tr>\n",
       "    <tr>\n",
       "      <th>0</th>\n",
       "      <td>0</td>\n",
       "      <td>14091</td>\n",
       "      <td>1063</td>\n",
       "      <td>0.075438</td>\n",
       "    </tr>\n",
       "    <tr>\n",
       "      <th>5</th>\n",
       "      <td>5</td>\n",
       "      <td>9</td>\n",
       "      <td>0</td>\n",
       "      <td>0.000000</td>\n",
       "    </tr>\n",
       "  </tbody>\n",
       "</table>\n",
       "</div>"
      ],
      "text/plain": [
       "   children  cnt_person  debt     ratio\n",
       "4         4          41     4  0.097561\n",
       "2         2        2052   194  0.094542\n",
       "1         1        4808   444  0.092346\n",
       "3         3         330    27  0.081818\n",
       "0         0       14091  1063  0.075438\n",
       "5         5           9     0  0.000000"
      ]
     },
     "execution_count": 25,
     "metadata": {},
     "output_type": "execute_result"
    }
   ],
   "source": [
    "# Количество детей и количество людей в группе\n",
    "df = data.groupby('children')['debt'].count()\n",
    "task_one = pd.DataFrame({'children':df.index, 'cnt_person':df.values})\n",
    "\n",
    "# количество должников\n",
    "task_one['debt'] = data.groupby('children')['debt'].sum()\n",
    "\n",
    "# Отношение количества должников к общему ко-ву людей \n",
    "task_one['ratio'] = task_one['debt'] / task_one['cnt_person']\n",
    "\n",
    "task_one = task_one.sort_values(by='ratio', ascending=False)\n",
    "task_one"
   ]
  },
  {
   "cell_type": "markdown",
   "id": "69f3bd51",
   "metadata": {},
   "source": [
    "**Построим график по таблице**"
   ]
  },
  {
   "cell_type": "code",
   "execution_count": 26,
   "id": "1eb98e14",
   "metadata": {},
   "outputs": [
    {
     "data": {
      "image/png": "[encoded data removed]",
      "text/plain": [
       "<Figure size 1080x576 with 2 Axes>"
      ]
     },
     "metadata": {
      "needs_background": "light"
     },
     "output_type": "display_data"
    }
   ],
   "source": [
    "x_ = task_one.columns[0]\n",
    "y_ = task_one.columns[3]\n",
    "y_2 = task_one.columns[1]\n",
    "\n",
    "data1 = task_one[[x_, y_]]\n",
    "data2 = task_one[[x_, y_2]]\n",
    "\n",
    "plt.figure(figsize=(15, 8))\n",
    "ax = sns.barplot(x=x_, y=y_, data=data1, )\n",
    "width_scale = 0.45\n",
    "for bar in ax.containers[0]:\n",
    "    bar.set_width(bar.get_width() * width_scale)\n",
    "ax.yaxis.set_major_formatter(PercentFormatter(1))\n",
    "#plt.legend(bbox_to_anchor=(1.05, 1), loc='upper left', borderaxespad=2, title='Кол-во детей')\n",
    "ax.set(xlabel='Количество детей', ylabel='Доля должников')\n",
    "\n",
    "ax2 = ax.twinx()\n",
    "sns.barplot(x=x_, y=y_2, data=data2, alpha=0.2, hatch='\\\\', ax=ax2, saturation=0.5,)\n",
    "for bar in ax2.containers[0]:\n",
    "    x = bar.get_x()\n",
    "    w = bar.get_width()\n",
    "    bar.set_x(x + w * (1- width_scale))\n",
    "    bar.set_width(w * width_scale)\n",
    "ax2.set(ylabel='Количество людей в группе')\n",
    "\n",
    "#plt.legend(bbox_to_anchor=(1.05, 0.12), loc='center left', borderaxespad=2, title='Кол-во детей')\n",
    "plt.show()\n"
   ]
  },
  {
   "cell_type": "markdown",
   "id": "60621fa0",
   "metadata": {
    "deletable": false,
    "id": "3a6b99ec"
   },
   "source": [
    "**Вывод:** "
   ]
  },
  {
   "cell_type": "markdown",
   "id": "c8f46ff6",
   "metadata": {},
   "source": [
    "Из графика видно, что флуктуация показателя **доли должников** у всех группу примерно **одинакова**, расхождение не более 1 процента\n",
    "\n",
    "Из-за молой доли (менее 0,1%) людей с 5-ю и более детьми не было получено данных о должниках"
   ]
  },
  {
   "cell_type": "markdown",
   "id": "cf1ec01b",
   "metadata": {
    "deletable": false,
    "editable": false,
    "id": "97be82ca"
   },
   "source": [
    "#### 3.2 Есть ли зависимость между семейным положением и возвратом кредита в срок?"
   ]
  },
  {
   "cell_type": "markdown",
   "id": "77ba09d7",
   "metadata": {},
   "source": [
    "Категории граждан разбиты по статусу семейного положения"
   ]
  },
  {
   "cell_type": "code",
   "execution_count": 27,
   "id": "8c4034e2",
   "metadata": {
    "deletable": false,
    "id": "dc3f7ee8",
    "scrolled": true
   },
   "outputs": [
    {
     "data": {
      "text/html": [
       "<div>\n",
       "<style scoped>\n",
       "    .dataframe tbody tr th:only-of-type {\n",
       "        vertical-align: middle;\n",
       "    }\n",
       "\n",
       "    .dataframe tbody tr th {\n",
       "        vertical-align: top;\n",
       "    }\n",
       "\n",
       "    .dataframe thead th {\n",
       "        text-align: right;\n",
       "    }\n",
       "</style>\n",
       "<table border=\"1\" class=\"dataframe\">\n",
       "  <thead>\n",
       "    <tr style=\"text-align: right;\">\n",
       "      <th></th>\n",
       "      <th>family_status</th>\n",
       "      <th>cnt_person</th>\n",
       "      <th>debt</th>\n",
       "      <th>ratio</th>\n",
       "    </tr>\n",
       "  </thead>\n",
       "  <tbody>\n",
       "    <tr>\n",
       "      <th>0</th>\n",
       "      <td>Не женат / не замужем</td>\n",
       "      <td>2796</td>\n",
       "      <td>273</td>\n",
       "      <td>0.097639</td>\n",
       "    </tr>\n",
       "    <tr>\n",
       "      <th>3</th>\n",
       "      <td>гражданский брак</td>\n",
       "      <td>4134</td>\n",
       "      <td>385</td>\n",
       "      <td>0.093130</td>\n",
       "    </tr>\n",
       "    <tr>\n",
       "      <th>4</th>\n",
       "      <td>женат / замужем</td>\n",
       "      <td>12261</td>\n",
       "      <td>927</td>\n",
       "      <td>0.075606</td>\n",
       "    </tr>\n",
       "    <tr>\n",
       "      <th>1</th>\n",
       "      <td>в разводе</td>\n",
       "      <td>1189</td>\n",
       "      <td>84</td>\n",
       "      <td>0.070648</td>\n",
       "    </tr>\n",
       "    <tr>\n",
       "      <th>2</th>\n",
       "      <td>вдовец / вдова</td>\n",
       "      <td>951</td>\n",
       "      <td>63</td>\n",
       "      <td>0.066246</td>\n",
       "    </tr>\n",
       "  </tbody>\n",
       "</table>\n",
       "</div>"
      ],
      "text/plain": [
       "           family_status  cnt_person  debt     ratio\n",
       "0  Не женат / не замужем        2796   273  0.097639\n",
       "3       гражданский брак        4134   385  0.093130\n",
       "4        женат / замужем       12261   927  0.075606\n",
       "1              в разводе        1189    84  0.070648\n",
       "2         вдовец / вдова         951    63  0.066246"
      ]
     },
     "execution_count": 27,
     "metadata": {},
     "output_type": "execute_result"
    }
   ],
   "source": [
    "# статус семейного положения и количество людей в группе\n",
    "df2 = data.groupby('family_status')['debt'].count()\n",
    "task_two = pd.DataFrame({'family_status':df2.index, 'cnt_person':df2.values})\n",
    "\n",
    "# количество должников\n",
    "task_two['debt'] = data.groupby('family_status')['debt'].sum().reset_index(drop=True)\n",
    "\n",
    "# Отношение количества должников к общему ко-ву людей \n",
    "task_two['ratio'] = task_two['debt'] / task_two['cnt_person']\n",
    "\n",
    "task_two = task_two.sort_values(by='ratio', ascending=False)\n",
    "task_two"
   ]
  },
  {
   "cell_type": "code",
   "execution_count": 28,
   "id": "9e647376",
   "metadata": {},
   "outputs": [
    {
     "data": {
      "image/png": "[encoded data removed]",
      "text/plain": [
       "<Figure size 1080x576 with 2 Axes>"
      ]
     },
     "metadata": {
      "needs_background": "light"
     },
     "output_type": "display_data"
    }
   ],
   "source": [
    "x_ = task_two.columns[0]\n",
    "y_ = task_two.columns[3]\n",
    "y_2 = task_two.columns[1]\n",
    "\n",
    "data1 = task_two[[x_, y_]]\n",
    "data2 = task_two[[x_, y_2]]\n",
    "\n",
    "plt.figure(figsize=(15, 8))\n",
    "ax = sns.barplot(x=x_, y=y_, data=data1, )\n",
    "width_scale = 0.45\n",
    "for bar in ax.containers[0]:\n",
    "    bar.set_width(bar.get_width() * width_scale)\n",
    "ax.yaxis.set_major_formatter(PercentFormatter(1))\n",
    "#plt.legend(bbox_to_anchor=(1.05, 1), loc='upper left', borderaxespad=2, title='Кол-во детей')\n",
    "ax.set(xlabel='Семейное положение', ylabel='Доля должников')\n",
    "\n",
    "ax2 = ax.twinx()\n",
    "sns.barplot(x=x_, y=y_2, data=data2, alpha=0.2, hatch='\\\\', ax=ax2, saturation=0.5,)\n",
    "for bar in ax2.containers[0]:\n",
    "    x = bar.get_x()\n",
    "    w = bar.get_width()\n",
    "    bar.set_x(x + w * (1- width_scale))\n",
    "    bar.set_width(w * width_scale)\n",
    "ax2.set(ylabel='Количество людей в группе')\n",
    "\n",
    "#plt.legend(bbox_to_anchor=(1.05, 0.12), loc='center left', borderaxespad=2, title='Кол-во детей')\n",
    "plt.show()\n"
   ]
  },
  {
   "cell_type": "markdown",
   "id": "d1d8330a",
   "metadata": {
    "deletable": false,
    "id": "1cef7837"
   },
   "source": [
    "**Вывод:** "
   ]
  },
  {
   "cell_type": "markdown",
   "id": "5e6e3ef2",
   "metadata": {},
   "source": [
    "Людине **женатые** или **состоящие в гражданском браке** имеют большую долю задолженностей, в среднем разница между женатыми и не женатыми составляет 20%\n",
    "\n",
    "**Меньше** всего задолженностей у вдовцов/вдов - **6,6%**\n",
    "\n",
    "**Больше** всего - Не женат / не замужем - **9,7%**"
   ]
  },
  {
   "cell_type": "markdown",
   "id": "3720a762",
   "metadata": {
    "deletable": false,
    "editable": false,
    "id": "1e8b2fca"
   },
   "source": [
    "#### 3.3 Есть ли зависимость между уровнем дохода и возвратом кредита в срок?"
   ]
  },
  {
   "cell_type": "markdown",
   "id": "5409f995",
   "metadata": {},
   "source": [
    "Категории граждан разбиты на группы по уровню дохода:\n",
    "- 0–30000 — `'E'`;\n",
    "- 30001–50000 — `'D'`;\n",
    "- 50001–200000 — `'C'`;\n",
    "- 200001–1000000 — `'B'`;\n",
    "- 1000001 и выше — `'A'`."
   ]
  },
  {
   "cell_type": "code",
   "execution_count": 29,
   "id": "85d7900a",
   "metadata": {
    "deletable": false,
    "id": "cd7e3720"
   },
   "outputs": [
    {
     "data": {
      "text/html": [
       "<div>\n",
       "<style scoped>\n",
       "    .dataframe tbody tr th:only-of-type {\n",
       "        vertical-align: middle;\n",
       "    }\n",
       "\n",
       "    .dataframe tbody tr th {\n",
       "        vertical-align: top;\n",
       "    }\n",
       "\n",
       "    .dataframe thead th {\n",
       "        text-align: right;\n",
       "    }\n",
       "</style>\n",
       "<table border=\"1\" class=\"dataframe\">\n",
       "  <thead>\n",
       "    <tr style=\"text-align: right;\">\n",
       "      <th></th>\n",
       "      <th>total_income_category</th>\n",
       "      <th>cnt_person</th>\n",
       "      <th>debt</th>\n",
       "      <th>ratio</th>\n",
       "    </tr>\n",
       "  </thead>\n",
       "  <tbody>\n",
       "    <tr>\n",
       "      <th>4</th>\n",
       "      <td>E</td>\n",
       "      <td>22</td>\n",
       "      <td>2</td>\n",
       "      <td>0.090909</td>\n",
       "    </tr>\n",
       "    <tr>\n",
       "      <th>2</th>\n",
       "      <td>C</td>\n",
       "      <td>15921</td>\n",
       "      <td>1353</td>\n",
       "      <td>0.084982</td>\n",
       "    </tr>\n",
       "    <tr>\n",
       "      <th>0</th>\n",
       "      <td>A</td>\n",
       "      <td>25</td>\n",
       "      <td>2</td>\n",
       "      <td>0.080000</td>\n",
       "    </tr>\n",
       "    <tr>\n",
       "      <th>1</th>\n",
       "      <td>B</td>\n",
       "      <td>5014</td>\n",
       "      <td>354</td>\n",
       "      <td>0.070602</td>\n",
       "    </tr>\n",
       "    <tr>\n",
       "      <th>3</th>\n",
       "      <td>D</td>\n",
       "      <td>349</td>\n",
       "      <td>21</td>\n",
       "      <td>0.060172</td>\n",
       "    </tr>\n",
       "  </tbody>\n",
       "</table>\n",
       "</div>"
      ],
      "text/plain": [
       "  total_income_category  cnt_person  debt     ratio\n",
       "4                     E          22     2  0.090909\n",
       "2                     C       15921  1353  0.084982\n",
       "0                     A          25     2  0.080000\n",
       "1                     B        5014   354  0.070602\n",
       "3                     D         349    21  0.060172"
      ]
     },
     "execution_count": 29,
     "metadata": {},
     "output_type": "execute_result"
    }
   ],
   "source": [
    "# категория уровня дохода и количество людей в группе\n",
    "df = data.groupby('total_income_category')['debt'].count()\n",
    "task_three = pd.DataFrame({'total_income_category':df.index, 'cnt_person':df.values})\n",
    "\n",
    "# количество должников\n",
    "task_three['debt'] = data.groupby('total_income_category')['debt'].sum().reset_index(drop=True)\n",
    "\n",
    "# Отношение количества должников к общему ко-ву людей \n",
    "task_three['ratio'] = task_three['debt'] / task_three['cnt_person']\n",
    "\n",
    "task_three = task_three.sort_values(by='ratio', ascending=False) \n",
    "task_three"
   ]
  },
  {
   "cell_type": "code",
   "execution_count": 30,
   "id": "30f8e609",
   "metadata": {},
   "outputs": [
    {
     "data": {
      "image/png": "[encoded data removed]",
      "text/plain": [
       "<Figure size 1080x576 with 2 Axes>"
      ]
     },
     "metadata": {
      "needs_background": "light"
     },
     "output_type": "display_data"
    }
   ],
   "source": [
    "x_ = task_three.columns[0]\n",
    "y_ = task_three.columns[3]\n",
    "y_2 = task_three.columns[1]\n",
    "\n",
    "data1 = task_three[[x_, y_]]\n",
    "data2 = task_three[[x_, y_2]]\n",
    "\n",
    "plt.figure(figsize=(15, 8))\n",
    "ax = sns.barplot(x=x_, y=y_, data=data1, )\n",
    "width_scale = 0.45\n",
    "for bar in ax.containers[0]:\n",
    "    bar.set_width(bar.get_width() * width_scale)\n",
    "ax.yaxis.set_major_formatter(PercentFormatter(1))\n",
    "#plt.legend(bbox_to_anchor=(1.05, 1), loc='upper left', borderaxespad=2, title='Кол-во детей')\n",
    "ax.set(xlabel='Уровень дохода', ylabel='Доля должников')\n",
    "\n",
    "ax2 = ax.twinx()\n",
    "sns.barplot(x=x_, y=y_2, data=data2, alpha=0.2, hatch='\\\\', ax=ax2, saturation=0.5,)\n",
    "for bar in ax2.containers[0]:\n",
    "    x = bar.get_x()\n",
    "    w = bar.get_width()\n",
    "    bar.set_x(x + w * (1- width_scale))\n",
    "    bar.set_width(w * width_scale)\n",
    "ax2.set(ylabel='Количество людей в группе')\n",
    "\n",
    "#plt.legend(bbox_to_anchor=(1.05, 0.12), loc='center left', borderaxespad=2, title='Кол-во детей')\n",
    "plt.show()\n"
   ]
  },
  {
   "cell_type": "markdown",
   "id": "3f453687",
   "metadata": {
    "deletable": false,
    "id": "e8593def"
   },
   "source": [
    "**Вывод:** "
   ]
  },
  {
   "cell_type": "markdown",
   "id": "8dda02be",
   "metadata": {},
   "source": [
    "Из-за маленького числа людей в категориях **свыше 1'000'000** и **ниже 50'000** нельзя достоверно сказать, что уровень дохода этих групп влияет на долю возврата. Эти категории граждан составляют 2% от общей выборки.\n",
    "\n",
    "\n",
    "Категория граждан с доходом **50'000-200'000** на 17% чаше просрачивают кредит, чем категория граждан с доходом **200'000-1'000'000**\n",
    "\n",
    "**Можно утверждать, что уровень дохода влияет на погашение кредита без просрочки.** У более богатой группы граждан просрочка случается реже."
   ]
  },
  {
   "cell_type": "markdown",
   "id": "b4eaeec2",
   "metadata": {
    "deletable": false,
    "editable": false,
    "id": "99ecbd1f"
   },
   "source": [
    "#### 3.4 Как разные цели кредита влияют на его возврат в срок?"
   ]
  },
  {
   "cell_type": "markdown",
   "id": "b9f092ed",
   "metadata": {},
   "source": [
    "Из вопроса следует, что необходим анализ именно по целям получения кредита. У меня возникли сомнения, я вывел две таблица:\n",
    "1. Таблица с данными по целям получения кредита\n",
    "2. Таблица с данными по группам целей\n",
    "\n",
    "График и отчёт построен по второй таблице, т.к. общий вывод не меняется"
   ]
  },
  {
   "cell_type": "code",
   "execution_count": 31,
   "id": "84085f35",
   "metadata": {
    "deletable": false,
    "id": "2b687290"
   },
   "outputs": [
    {
     "data": {
      "text/html": [
       "<div>\n",
       "<style scoped>\n",
       "    .dataframe tbody tr th:only-of-type {\n",
       "        vertical-align: middle;\n",
       "    }\n",
       "\n",
       "    .dataframe tbody tr th {\n",
       "        vertical-align: top;\n",
       "    }\n",
       "\n",
       "    .dataframe thead th {\n",
       "        text-align: right;\n",
       "    }\n",
       "</style>\n",
       "<table border=\"1\" class=\"dataframe\">\n",
       "  <thead>\n",
       "    <tr style=\"text-align: right;\">\n",
       "      <th></th>\n",
       "      <th>purpose</th>\n",
       "      <th>cnt_person</th>\n",
       "      <th>debt</th>\n",
       "      <th>ratio</th>\n",
       "    </tr>\n",
       "  </thead>\n",
       "  <tbody>\n",
       "    <tr>\n",
       "      <th>25</th>\n",
       "      <td>получение дополнительного образования</td>\n",
       "      <td>444</td>\n",
       "      <td>51</td>\n",
       "      <td>0.114865</td>\n",
       "    </tr>\n",
       "    <tr>\n",
       "      <th>32</th>\n",
       "      <td>сделка с автомобилем</td>\n",
       "      <td>455</td>\n",
       "      <td>50</td>\n",
       "      <td>0.109890</td>\n",
       "    </tr>\n",
       "    <tr>\n",
       "      <th>24</th>\n",
       "      <td>получение высшего образования</td>\n",
       "      <td>425</td>\n",
       "      <td>46</td>\n",
       "      <td>0.108235</td>\n",
       "    </tr>\n",
       "    <tr>\n",
       "      <th>33</th>\n",
       "      <td>сделка с подержанным автомобилем</td>\n",
       "      <td>481</td>\n",
       "      <td>51</td>\n",
       "      <td>0.106029</td>\n",
       "    </tr>\n",
       "    <tr>\n",
       "      <th>28</th>\n",
       "      <td>профильное образование</td>\n",
       "      <td>432</td>\n",
       "      <td>44</td>\n",
       "      <td>0.101852</td>\n",
       "    </tr>\n",
       "  </tbody>\n",
       "</table>\n",
       "</div>"
      ],
      "text/plain": [
       "                                  purpose  cnt_person  debt     ratio\n",
       "25  получение дополнительного образования         444    51  0.114865\n",
       "32                   сделка с автомобилем         455    50  0.109890\n",
       "24          получение высшего образования         425    46  0.108235\n",
       "33       сделка с подержанным автомобилем         481    51  0.106029\n",
       "28                 профильное образование         432    44  0.101852"
      ]
     },
     "execution_count": 31,
     "metadata": {},
     "output_type": "execute_result"
    }
   ],
   "source": [
    "# категория уровня дохода и количество людей в группе\n",
    "df = data.groupby('purpose')['debt'].count()\n",
    "task_four = pd.DataFrame({'purpose':df.index, 'cnt_person':df.values})\n",
    "\n",
    "# количество должников\n",
    "task_four['debt'] = data.groupby('purpose')['debt'].sum().reset_index(drop=True)\n",
    "\n",
    "# Отношение количества должников к общему ко-ву людей \n",
    "task_four['ratio'] = task_four['debt'] / task_four['cnt_person']\n",
    "\n",
    "task_four = task_four.sort_values(by='ratio', ascending=False) \n",
    "task_four.head()"
   ]
  },
  {
   "cell_type": "code",
   "execution_count": 32,
   "id": "e43aae30",
   "metadata": {
    "scrolled": true
   },
   "outputs": [
    {
     "data": {
      "text/html": [
       "<div>\n",
       "<style scoped>\n",
       "    .dataframe tbody tr th:only-of-type {\n",
       "        vertical-align: middle;\n",
       "    }\n",
       "\n",
       "    .dataframe tbody tr th {\n",
       "        vertical-align: top;\n",
       "    }\n",
       "\n",
       "    .dataframe thead th {\n",
       "        text-align: right;\n",
       "    }\n",
       "</style>\n",
       "<table border=\"1\" class=\"dataframe\">\n",
       "  <thead>\n",
       "    <tr style=\"text-align: right;\">\n",
       "      <th></th>\n",
       "      <th>purpose_category</th>\n",
       "      <th>cnt_person</th>\n",
       "      <th>debt</th>\n",
       "      <th>ratio</th>\n",
       "    </tr>\n",
       "  </thead>\n",
       "  <tbody>\n",
       "    <tr>\n",
       "      <th>0</th>\n",
       "      <td>операции с автомобилем</td>\n",
       "      <td>4279</td>\n",
       "      <td>400</td>\n",
       "      <td>0.093480</td>\n",
       "    </tr>\n",
       "    <tr>\n",
       "      <th>2</th>\n",
       "      <td>получение образования</td>\n",
       "      <td>3988</td>\n",
       "      <td>369</td>\n",
       "      <td>0.092528</td>\n",
       "    </tr>\n",
       "    <tr>\n",
       "      <th>3</th>\n",
       "      <td>проведение свадьбы</td>\n",
       "      <td>2313</td>\n",
       "      <td>183</td>\n",
       "      <td>0.079118</td>\n",
       "    </tr>\n",
       "    <tr>\n",
       "      <th>1</th>\n",
       "      <td>операции с недвижимостью</td>\n",
       "      <td>10751</td>\n",
       "      <td>780</td>\n",
       "      <td>0.072551</td>\n",
       "    </tr>\n",
       "  </tbody>\n",
       "</table>\n",
       "</div>"
      ],
      "text/plain": [
       "           purpose_category  cnt_person  debt     ratio\n",
       "0    операции с автомобилем        4279   400  0.093480\n",
       "2     получение образования        3988   369  0.092528\n",
       "3        проведение свадьбы        2313   183  0.079118\n",
       "1  операции с недвижимостью       10751   780  0.072551"
      ]
     },
     "execution_count": 32,
     "metadata": {},
     "output_type": "execute_result"
    }
   ],
   "source": [
    "# категория уровня дохода и количество людей в группе\n",
    "df = data.groupby('purpose_category')['debt'].count()\n",
    "task_five = pd.DataFrame({'purpose_category':df.index, 'cnt_person':df.values})\n",
    "\n",
    "# количество должников\n",
    "task_five['debt'] = data.groupby('purpose_category')['debt'].sum().reset_index(drop=True)\n",
    "\n",
    "# Отношение количества должников к общему ко-ву людей \n",
    "task_five['ratio'] = task_five['debt'] / task_five['cnt_person']\n",
    "\n",
    "task_five = task_five.sort_values(by='ratio', ascending=False)\n",
    "task_five"
   ]
  },
  {
   "cell_type": "code",
   "execution_count": 33,
   "id": "ea7daca3",
   "metadata": {},
   "outputs": [
    {
     "data": {
      "image/png": "[encoded data removed]",
      "text/plain": [
       "<Figure size 1080x576 with 2 Axes>"
      ]
     },
     "metadata": {
      "needs_background": "light"
     },
     "output_type": "display_data"
    }
   ],
   "source": [
    "x_ = task_five.columns[0]\n",
    "y_ = task_five.columns[3]\n",
    "y_2 = task_five.columns[1]\n",
    "\n",
    "data1 = task_five[[x_, y_]]\n",
    "data2 = task_five[[x_, y_2]]\n",
    "\n",
    "plt.figure(figsize=(15, 8))\n",
    "ax = sns.barplot(x=x_, y=y_, data=data1, )\n",
    "width_scale = 0.45\n",
    "for bar in ax.containers[0]:\n",
    "    bar.set_width(bar.get_width() * width_scale)\n",
    "ax.yaxis.set_major_formatter(PercentFormatter(1))\n",
    "#plt.legend(bbox_to_anchor=(1.05, 1), loc='upper left', borderaxespad=2, title='Кол-во детей')\n",
    "ax.set(xlabel='Цель получения кредита', ylabel='Доля должников')\n",
    "\n",
    "ax2 = ax.twinx()\n",
    "sns.barplot(x=x_, y=y_2, data=data2, alpha=0.2, hatch='\\\\', ax=ax2, saturation=0.5,)\n",
    "for bar in ax2.containers[0]:\n",
    "    x = bar.get_x()\n",
    "    w = bar.get_width()\n",
    "    bar.set_x(x + w * (1- width_scale))\n",
    "    bar.set_width(w * width_scale)\n",
    "ax2.set(ylabel='Количество людей в группе')\n",
    "\n",
    "#plt.legend(bbox_to_anchor=(1.05, 0.12), loc='center left', borderaxespad=2, title='Кол-во детей')\n",
    "plt.show()\n"
   ]
  },
  {
   "cell_type": "markdown",
   "id": "ab4050ee",
   "metadata": {
    "deletable": false,
    "id": "b4bb2ce6"
   },
   "source": [
    "**Вывод:** "
   ]
  },
  {
   "cell_type": "markdown",
   "id": "6b6153a2",
   "metadata": {},
   "source": [
    "**Чаще** всего задолженность образовывается у категории граждан \"операции с автомобилем\" ~ **9%**\n",
    "\n",
    "**Реже** всего - \"операции с недвижимостью\" ~ **7%**\n",
    "\n",
    "\n",
    "Категория граждан с целью получения кредита **\"операции с недвижимостью\"** в среднем на 22% реже просрачивают кредиты, чемкатегория **\"операции с автомобилем\"**\n",
    "\n",
    "На одном уровне с **\"операции с автомобилем\"** категория **\"получение образования\"** - задолженность ~ 9%\n"
   ]
  },
  {
   "cell_type": "markdown",
   "id": "41414dd1",
   "metadata": {
    "deletable": false,
    "editable": false,
    "id": "09c3ac4c"
   },
   "source": [
    "#### 3.5 Приведите возможные причины появления пропусков в исходных данных."
   ]
  },
  {
   "cell_type": "markdown",
   "id": "be65347f",
   "metadata": {
    "deletable": false,
    "id": "9da2ceda"
   },
   "source": [
    "Пропуски в столбцах \"days_employed\" и \"total_income\" взаимосвязаны.\n",
    "Это может говорить о том, что произошёл технический сбой при получении данных."
   ]
  },
  {
   "cell_type": "markdown",
   "id": "c44f54e9",
   "metadata": {
    "deletable": false,
    "editable": false,
    "id": "7b0487d6"
   },
   "source": [
    "#### 3.6 Объясните, почему заполнить пропуски медианным значением — лучшее решение для количественных переменных."
   ]
  },
  {
   "cell_type": "markdown",
   "id": "0990b881",
   "metadata": {
    "deletable": false,
    "id": "7ecf2b8e"
   },
   "source": [
    "Медианное значение менее подвержено резким скачкам в значениях"
   ]
  },
  {
   "cell_type": "markdown",
   "id": "666f4636",
   "metadata": {
    "deletable": false,
    "editable": false,
    "id": "6db5255a"
   },
   "source": [
    "### Шаг 4: общий вывод."
   ]
  },
  {
   "cell_type": "markdown",
   "id": "af9451a1",
   "metadata": {
    "deletable": false,
    "id": "bad65432"
   },
   "source": [
    "Люди **без детей** реже допускают просрочки. При этом важно отметить, что количество клиентов в некоторых группах недостаточно для корректного анализа (группа с 3 и более детьми)  \n",
    "\n",
    "\n",
    "Люди **не женатые** или **состоящие в гражданском браке** имеют большую долю задолженностей.  \n",
    "**Меньше** всего задолженностей у вдовцов/вдов - **6,6%**  \n",
    "**Больше** всего - Не женат / не замужем - **9,7%**  \n",
    "\n",
    "\n",
    "Из-за маленького числа людей в категориях **свыше 1'000'000** и **ниже 50'000** нельзя достоверно сказать, что уровень дохода этих групп влияет на долю возврата. Эти категории граждан составляют 2% от общей выборки.  \n",
    "Категория граждан с доходом **50'000-200'000** на 17% чаше просрачивают кредит, чем категория граждан с доходом **200'000-1'000'000**  \n",
    "**Можно утверждать, что уровень дохода влияет на погашение кредита без просрочки.** У более богатой группы граждан просрочка случается реже.  \n",
    "\n",
    "\n",
    "**Чаще** всего задолженность образовывается у категории граждан \"операции с автомобилем\" ~ **9%**  \n",
    "**Реже** всего - \"операции с недвижимостью\" ~ **7%**  \n",
    "\n",
    "Категория граждан с целью получения кредита **\"операции с недвижимостью\"** в среднем на 22% реже просрачивают кредиты, чемкатегория **\"операции с автомобилем\"**  \n",
    "На одном уровне с **\"операции с автомобилем\"** категория **\"получение образования\"** - задолженность ~ 9%  \n",
    "\n",
    "Как **рекомендация**, стоит проверить гипотизу, согласно которой, **количество дней трудового** стажа положительно влияют на погашение кредитов в срок.  \n",
    "Возможно так же стоит попробовать проанализировать данные на основе **типа занятости** криентов"
   ]
  },
  {
   "cell_type": "code",
   "execution_count": null,
   "id": "71501d63-98f9-43c4-8b4c-44dadea737e4",
   "metadata": {},
   "outputs": [],
   "source": []
  }
 ],
 "metadata": {
  "ExecuteTimeLog": [
   {
    "duration": 535,
    "start_time": "2023-03-25T18:29:49.043Z"
   },
   {
    "duration": 38,
    "start_time": "2023-03-25T18:29:49.582Z"
   },
   {
    "duration": 38,
    "start_time": "2023-03-25T18:29:49.622Z"
   },
   {
    "duration": 16,
    "start_time": "2023-03-25T18:29:49.662Z"
   },
   {
    "duration": 64,
    "start_time": "2023-03-25T18:29:49.681Z"
   },
   {
    "duration": 6,
    "start_time": "2023-03-25T18:29:49.747Z"
   },
   {
    "duration": 35,
    "start_time": "2023-03-25T18:29:49.755Z"
   },
   {
    "duration": 5,
    "start_time": "2023-03-25T18:29:49.792Z"
   },
   {
    "duration": 22,
    "start_time": "2023-03-25T18:29:49.799Z"
   },
   {
    "duration": 6,
    "start_time": "2023-03-25T18:29:49.823Z"
   },
   {
    "duration": 40,
    "start_time": "2023-03-25T18:29:49.833Z"
   },
   {
    "duration": 12,
    "start_time": "2023-03-25T18:29:49.875Z"
   },
   {
    "duration": 6,
    "start_time": "2023-03-25T18:29:49.890Z"
   },
   {
    "duration": 26,
    "start_time": "2023-03-25T18:29:49.909Z"
   },
   {
    "duration": 31,
    "start_time": "2023-03-25T18:29:49.937Z"
   },
   {
    "duration": 33,
    "start_time": "2023-03-25T18:29:49.970Z"
   },
   {
    "duration": 16,
    "start_time": "2023-03-25T18:29:50.005Z"
   },
   {
    "duration": 20,
    "start_time": "2023-03-25T18:29:50.027Z"
   },
   {
    "duration": 22,
    "start_time": "2023-03-25T18:29:50.049Z"
   },
   {
    "duration": 4,
    "start_time": "2023-03-25T18:29:50.074Z"
   },
   {
    "duration": 15,
    "start_time": "2023-03-25T18:29:50.080Z"
   },
   {
    "duration": 13,
    "start_time": "2023-03-25T18:29:50.097Z"
   },
   {
    "duration": 3,
    "start_time": "2023-03-25T18:29:50.113Z"
   },
   {
    "duration": 8,
    "start_time": "2023-03-25T18:29:50.118Z"
   },
   {
    "duration": 3,
    "start_time": "2023-03-25T18:29:50.128Z"
   },
   {
    "duration": 7,
    "start_time": "2023-03-25T18:31:28.846Z"
   },
   {
    "duration": 6,
    "start_time": "2023-03-25T18:35:49.688Z"
   },
   {
    "duration": 78,
    "start_time": "2023-03-25T18:39:52.356Z"
   },
   {
    "duration": 1381,
    "start_time": "2023-03-25T19:14:56.360Z"
   },
   {
    "duration": 4,
    "start_time": "2023-03-25T19:15:22.592Z"
   },
   {
    "duration": 8,
    "start_time": "2023-03-25T19:15:41.090Z"
   },
   {
    "duration": 9,
    "start_time": "2023-03-25T19:16:02.861Z"
   },
   {
    "duration": 10,
    "start_time": "2023-03-25T19:17:19.126Z"
   },
   {
    "duration": 21,
    "start_time": "2023-03-25T19:17:54.305Z"
   },
   {
    "duration": 16,
    "start_time": "2023-03-25T19:18:17.827Z"
   },
   {
    "duration": 1424,
    "start_time": "2023-03-25T19:18:26.327Z"
   },
   {
    "duration": 9,
    "start_time": "2023-03-25T19:18:39.973Z"
   },
   {
    "duration": 13,
    "start_time": "2023-03-25T19:20:23.265Z"
   },
   {
    "duration": 12,
    "start_time": "2023-03-25T19:21:19.452Z"
   },
   {
    "duration": 13,
    "start_time": "2023-03-25T19:21:41.327Z"
   },
   {
    "duration": 6,
    "start_time": "2023-03-25T19:22:14.751Z"
   },
   {
    "duration": 23,
    "start_time": "2023-03-25T19:24:57.401Z"
   },
   {
    "duration": 14,
    "start_time": "2023-03-25T19:25:23.865Z"
   },
   {
    "duration": 14,
    "start_time": "2023-03-25T19:30:18.719Z"
   },
   {
    "duration": 10,
    "start_time": "2023-03-25T20:09:53.084Z"
   },
   {
    "duration": 14,
    "start_time": "2023-03-25T20:10:22.771Z"
   },
   {
    "duration": 24,
    "start_time": "2023-03-25T20:11:01.266Z"
   },
   {
    "duration": 12,
    "start_time": "2023-03-25T20:11:35.585Z"
   },
   {
    "duration": 16,
    "start_time": "2023-03-25T20:11:40.928Z"
   },
   {
    "duration": 10,
    "start_time": "2023-03-25T20:11:53.622Z"
   },
   {
    "duration": 16,
    "start_time": "2023-03-25T20:11:57.565Z"
   },
   {
    "duration": 15,
    "start_time": "2023-03-25T20:12:07.796Z"
   },
   {
    "duration": 18,
    "start_time": "2023-03-25T20:12:22.607Z"
   },
   {
    "duration": 16,
    "start_time": "2023-03-25T20:13:01.904Z"
   },
   {
    "duration": 19,
    "start_time": "2023-03-25T20:14:12.462Z"
   },
   {
    "duration": 8,
    "start_time": "2023-03-25T20:14:35.667Z"
   },
   {
    "duration": 15,
    "start_time": "2023-03-25T20:14:43.923Z"
   },
   {
    "duration": 16,
    "start_time": "2023-03-25T20:14:50.769Z"
   },
   {
    "duration": 21,
    "start_time": "2023-03-25T20:15:02.194Z"
   },
   {
    "duration": 16,
    "start_time": "2023-03-25T20:15:24.365Z"
   },
   {
    "duration": 12,
    "start_time": "2023-03-25T20:15:48.917Z"
   },
   {
    "duration": 16,
    "start_time": "2023-03-25T20:17:03.272Z"
   },
   {
    "duration": 16,
    "start_time": "2023-03-25T20:17:15.492Z"
   },
   {
    "duration": 17,
    "start_time": "2023-03-25T20:17:37.004Z"
   },
   {
    "duration": 16,
    "start_time": "2023-03-25T20:17:59.915Z"
   },
   {
    "duration": 17,
    "start_time": "2023-03-25T20:18:22.276Z"
   },
   {
    "duration": 1117,
    "start_time": "2023-03-25T20:18:27.987Z"
   },
   {
    "duration": 19,
    "start_time": "2023-03-25T20:18:53.708Z"
   },
   {
    "duration": 13,
    "start_time": "2023-03-25T20:20:11.585Z"
   },
   {
    "duration": 18,
    "start_time": "2023-03-25T20:21:56.000Z"
   },
   {
    "duration": 27,
    "start_time": "2023-03-25T20:22:41.990Z"
   },
   {
    "duration": 16,
    "start_time": "2023-03-25T20:23:00.637Z"
   },
   {
    "duration": 17,
    "start_time": "2023-03-25T20:23:16.810Z"
   },
   {
    "duration": 16,
    "start_time": "2023-03-25T20:23:24.977Z"
   },
   {
    "duration": 21,
    "start_time": "2023-03-25T20:23:34.264Z"
   },
   {
    "duration": 22,
    "start_time": "2023-03-25T20:23:41.609Z"
   },
   {
    "duration": 1113,
    "start_time": "2023-03-25T20:23:53.464Z"
   },
   {
    "duration": 21,
    "start_time": "2023-03-25T20:24:08.166Z"
   },
   {
    "duration": 18,
    "start_time": "2023-03-25T20:24:33.452Z"
   },
   {
    "duration": 21,
    "start_time": "2023-03-25T20:25:01.961Z"
   },
   {
    "duration": 17,
    "start_time": "2023-03-25T20:25:19.724Z"
   },
   {
    "duration": 481,
    "start_time": "2023-03-25T20:25:47.700Z"
   },
   {
    "duration": 25,
    "start_time": "2023-03-25T20:25:48.183Z"
   },
   {
    "duration": 16,
    "start_time": "2023-03-25T20:25:48.210Z"
   },
   {
    "duration": 10,
    "start_time": "2023-03-25T20:25:48.228Z"
   },
   {
    "duration": 38,
    "start_time": "2023-03-25T20:25:48.241Z"
   },
   {
    "duration": 23,
    "start_time": "2023-03-25T20:25:48.281Z"
   },
   {
    "duration": 10,
    "start_time": "2023-03-25T20:25:48.307Z"
   },
   {
    "duration": 5,
    "start_time": "2023-03-25T20:25:48.319Z"
   },
   {
    "duration": 10,
    "start_time": "2023-03-25T20:25:48.326Z"
   },
   {
    "duration": 5,
    "start_time": "2023-03-25T20:25:48.338Z"
   },
   {
    "duration": 72,
    "start_time": "2023-03-25T20:25:48.346Z"
   },
   {
    "duration": 9,
    "start_time": "2023-03-25T20:25:48.419Z"
   },
   {
    "duration": 3,
    "start_time": "2023-03-25T20:25:48.430Z"
   },
   {
    "duration": 11,
    "start_time": "2023-03-25T20:25:48.435Z"
   },
   {
    "duration": 21,
    "start_time": "2023-03-25T20:25:48.447Z"
   },
   {
    "duration": 43,
    "start_time": "2023-03-25T20:25:48.469Z"
   },
   {
    "duration": 3,
    "start_time": "2023-03-25T20:25:48.514Z"
   },
   {
    "duration": 14,
    "start_time": "2023-03-25T20:25:48.518Z"
   },
   {
    "duration": 5,
    "start_time": "2023-03-25T20:25:48.534Z"
   },
   {
    "duration": 3,
    "start_time": "2023-03-25T20:25:48.541Z"
   },
   {
    "duration": 10,
    "start_time": "2023-03-25T20:25:48.545Z"
   },
   {
    "duration": 8,
    "start_time": "2023-03-25T20:25:48.556Z"
   },
   {
    "duration": 39,
    "start_time": "2023-03-25T20:25:48.565Z"
   },
   {
    "duration": 71,
    "start_time": "2023-03-25T20:25:48.605Z"
   },
   {
    "duration": 0,
    "start_time": "2023-03-25T20:25:48.677Z"
   },
   {
    "duration": 0,
    "start_time": "2023-03-25T20:25:48.678Z"
   },
   {
    "duration": 0,
    "start_time": "2023-03-25T20:25:48.679Z"
   },
   {
    "duration": 18,
    "start_time": "2023-03-25T20:25:57.261Z"
   },
   {
    "duration": 16,
    "start_time": "2023-03-25T20:26:17.718Z"
   },
   {
    "duration": 16,
    "start_time": "2023-03-25T20:26:47.346Z"
   },
   {
    "duration": 17,
    "start_time": "2023-03-25T20:26:58.681Z"
   },
   {
    "duration": 15,
    "start_time": "2023-03-25T20:41:06.232Z"
   },
   {
    "duration": 16,
    "start_time": "2023-03-25T20:41:25.380Z"
   },
   {
    "duration": 29,
    "start_time": "2023-03-25T20:50:29.105Z"
   },
   {
    "duration": 13,
    "start_time": "2023-03-25T20:51:01.442Z"
   },
   {
    "duration": 26,
    "start_time": "2023-03-25T20:51:25.512Z"
   },
   {
    "duration": 20,
    "start_time": "2023-03-25T20:51:52.735Z"
   },
   {
    "duration": 19,
    "start_time": "2023-03-25T20:52:14.565Z"
   },
   {
    "duration": 21,
    "start_time": "2023-03-25T20:52:36.211Z"
   },
   {
    "duration": 11,
    "start_time": "2023-03-25T20:53:54.259Z"
   },
   {
    "duration": 19,
    "start_time": "2023-03-25T20:54:00.250Z"
   },
   {
    "duration": 15,
    "start_time": "2023-03-25T20:54:58.223Z"
   },
   {
    "duration": 72,
    "start_time": "2023-03-25T20:55:33.827Z"
   },
   {
    "duration": 15,
    "start_time": "2023-03-25T20:57:34.963Z"
   },
   {
    "duration": 16,
    "start_time": "2023-03-25T20:59:13.172Z"
   },
   {
    "duration": 13,
    "start_time": "2023-03-25T20:59:41.691Z"
   },
   {
    "duration": 16,
    "start_time": "2023-03-25T20:59:51.677Z"
   },
   {
    "duration": 17,
    "start_time": "2023-03-25T21:00:03.677Z"
   },
   {
    "duration": 14,
    "start_time": "2023-03-25T21:00:30.290Z"
   },
   {
    "duration": 22,
    "start_time": "2023-03-25T21:00:36.724Z"
   },
   {
    "duration": 15,
    "start_time": "2023-03-25T21:00:49.979Z"
   },
   {
    "duration": 15,
    "start_time": "2023-03-25T21:01:14.759Z"
   },
   {
    "duration": 21,
    "start_time": "2023-03-25T21:01:56.406Z"
   },
   {
    "duration": 21,
    "start_time": "2023-03-25T21:02:21.154Z"
   },
   {
    "duration": 17,
    "start_time": "2023-03-25T21:03:28.547Z"
   },
   {
    "duration": 20,
    "start_time": "2023-03-25T21:03:34.219Z"
   },
   {
    "duration": 17,
    "start_time": "2023-03-25T21:05:03.062Z"
   },
   {
    "duration": 16,
    "start_time": "2023-03-25T21:06:23.041Z"
   },
   {
    "duration": 18,
    "start_time": "2023-03-25T21:06:33.105Z"
   },
   {
    "duration": 14,
    "start_time": "2023-03-25T21:06:36.823Z"
   },
   {
    "duration": 778,
    "start_time": "2023-03-26T08:52:24.865Z"
   },
   {
    "duration": 38,
    "start_time": "2023-03-26T08:52:25.645Z"
   },
   {
    "duration": 36,
    "start_time": "2023-03-26T08:52:25.690Z"
   },
   {
    "duration": 11,
    "start_time": "2023-03-26T08:52:25.728Z"
   },
   {
    "duration": 78,
    "start_time": "2023-03-26T08:52:25.741Z"
   },
   {
    "duration": 5,
    "start_time": "2023-03-26T08:52:25.821Z"
   },
   {
    "duration": 15,
    "start_time": "2023-03-26T08:52:25.828Z"
   },
   {
    "duration": 5,
    "start_time": "2023-03-26T08:52:25.845Z"
   },
   {
    "duration": 11,
    "start_time": "2023-03-26T08:52:25.852Z"
   },
   {
    "duration": 8,
    "start_time": "2023-03-26T08:52:25.867Z"
   },
   {
    "duration": 55,
    "start_time": "2023-03-26T08:52:25.877Z"
   },
   {
    "duration": 10,
    "start_time": "2023-03-26T08:52:25.934Z"
   },
   {
    "duration": 5,
    "start_time": "2023-03-26T08:52:25.962Z"
   },
   {
    "duration": 30,
    "start_time": "2023-03-26T08:52:25.971Z"
   },
   {
    "duration": 32,
    "start_time": "2023-03-26T08:52:26.003Z"
   },
   {
    "duration": 34,
    "start_time": "2023-03-26T08:52:26.037Z"
   },
   {
    "duration": 4,
    "start_time": "2023-03-26T08:52:26.073Z"
   },
   {
    "duration": 27,
    "start_time": "2023-03-26T08:52:26.079Z"
   },
   {
    "duration": 8,
    "start_time": "2023-03-26T08:52:26.108Z"
   },
   {
    "duration": 6,
    "start_time": "2023-03-26T08:52:26.119Z"
   },
   {
    "duration": 13,
    "start_time": "2023-03-26T08:52:26.127Z"
   },
   {
    "duration": 1215,
    "start_time": "2023-03-26T08:52:26.142Z"
   },
   {
    "duration": 27,
    "start_time": "2023-03-26T08:52:27.360Z"
   },
   {
    "duration": 36,
    "start_time": "2023-03-26T08:52:27.394Z"
   },
   {
    "duration": 19,
    "start_time": "2023-03-26T08:52:27.433Z"
   },
   {
    "duration": 38,
    "start_time": "2023-03-26T08:52:27.454Z"
   },
   {
    "duration": 38,
    "start_time": "2023-03-26T08:52:27.504Z"
   },
   {
    "duration": 25,
    "start_time": "2023-03-26T08:52:27.544Z"
   },
   {
    "duration": 5,
    "start_time": "2023-03-26T09:13:05.175Z"
   },
   {
    "duration": 429,
    "start_time": "2023-03-26T09:14:09.521Z"
   },
   {
    "duration": 335,
    "start_time": "2023-03-26T09:15:45.206Z"
   },
   {
    "duration": 328,
    "start_time": "2023-03-26T09:15:57.138Z"
   },
   {
    "duration": 327,
    "start_time": "2023-03-26T09:16:03.960Z"
   },
   {
    "duration": 385,
    "start_time": "2023-03-26T09:16:11.443Z"
   },
   {
    "duration": 303,
    "start_time": "2023-03-26T09:16:17.702Z"
   },
   {
    "duration": 310,
    "start_time": "2023-03-26T09:23:32.039Z"
   },
   {
    "duration": 302,
    "start_time": "2023-03-26T09:23:38.136Z"
   },
   {
    "duration": 330,
    "start_time": "2023-03-26T09:23:54.700Z"
   },
   {
    "duration": 362,
    "start_time": "2023-03-26T09:24:26.605Z"
   },
   {
    "duration": 355,
    "start_time": "2023-03-26T09:26:33.940Z"
   },
   {
    "duration": 411,
    "start_time": "2023-03-26T09:26:42.434Z"
   },
   {
    "duration": 285,
    "start_time": "2023-03-26T09:26:59.777Z"
   },
   {
    "duration": 302,
    "start_time": "2023-03-26T09:27:09.633Z"
   },
   {
    "duration": 292,
    "start_time": "2023-03-26T09:27:19.261Z"
   },
   {
    "duration": 267,
    "start_time": "2023-03-26T09:27:28.987Z"
   },
   {
    "duration": 262,
    "start_time": "2023-03-26T09:27:37.458Z"
   },
   {
    "duration": 381,
    "start_time": "2023-03-26T09:27:42.427Z"
   },
   {
    "duration": 307,
    "start_time": "2023-03-26T09:27:47.194Z"
   },
   {
    "duration": 431,
    "start_time": "2023-03-26T09:27:59.650Z"
   },
   {
    "duration": 281,
    "start_time": "2023-03-26T09:28:06.400Z"
   },
   {
    "duration": 20,
    "start_time": "2023-03-26T09:28:43.184Z"
   },
   {
    "duration": 20,
    "start_time": "2023-03-26T09:29:11.798Z"
   },
   {
    "duration": 303,
    "start_time": "2023-03-26T09:33:03.087Z"
   },
   {
    "duration": 41,
    "start_time": "2023-03-26T09:38:26.545Z"
   },
   {
    "duration": 974,
    "start_time": "2023-03-26T09:39:09.120Z"
   },
   {
    "duration": 16,
    "start_time": "2023-03-26T09:39:42.992Z"
   },
   {
    "duration": 27,
    "start_time": "2023-03-26T09:39:52.684Z"
   },
   {
    "duration": 582,
    "start_time": "2023-03-26T09:39:58.433Z"
   },
   {
    "duration": 655,
    "start_time": "2023-03-26T09:40:23.089Z"
   },
   {
    "duration": 792,
    "start_time": "2023-03-26T09:40:36.490Z"
   },
   {
    "duration": 852,
    "start_time": "2023-03-26T09:54:56.686Z"
   },
   {
    "duration": 597,
    "start_time": "2023-03-26T09:55:03.053Z"
   },
   {
    "duration": 287,
    "start_time": "2023-03-26T09:55:19.640Z"
   },
   {
    "duration": 447,
    "start_time": "2023-03-26T09:56:45.007Z"
   },
   {
    "duration": 269,
    "start_time": "2023-03-26T09:56:53.391Z"
   },
   {
    "duration": 295,
    "start_time": "2023-03-26T09:57:00.792Z"
   },
   {
    "duration": 291,
    "start_time": "2023-03-26T09:57:09.229Z"
   },
   {
    "duration": 12,
    "start_time": "2023-03-26T10:57:54.886Z"
   },
   {
    "duration": 329,
    "start_time": "2023-03-26T11:00:11.997Z"
   },
   {
    "duration": 313,
    "start_time": "2023-03-26T11:00:23.351Z"
   },
   {
    "duration": 1054,
    "start_time": "2023-03-26T11:02:35.155Z"
   },
   {
    "duration": 726,
    "start_time": "2023-03-26T11:02:47.992Z"
   },
   {
    "duration": 732,
    "start_time": "2023-03-26T11:03:20.864Z"
   },
   {
    "duration": 1148,
    "start_time": "2023-03-26T11:04:14.699Z"
   },
   {
    "duration": 705,
    "start_time": "2023-03-26T11:04:36.506Z"
   },
   {
    "duration": 585,
    "start_time": "2023-03-26T11:04:41.539Z"
   },
   {
    "duration": 725,
    "start_time": "2023-03-26T11:05:12.357Z"
   },
   {
    "duration": 871,
    "start_time": "2023-03-26T11:05:26.044Z"
   },
   {
    "duration": 747,
    "start_time": "2023-03-26T11:05:35.103Z"
   },
   {
    "duration": 720,
    "start_time": "2023-03-26T11:05:44.753Z"
   },
   {
    "duration": 742,
    "start_time": "2023-03-26T11:05:57.691Z"
   },
   {
    "duration": 980,
    "start_time": "2023-03-26T11:06:13.995Z"
   },
   {
    "duration": 737,
    "start_time": "2023-03-26T11:06:21.231Z"
   },
   {
    "duration": 806,
    "start_time": "2023-03-26T11:06:29.946Z"
   },
   {
    "duration": 991,
    "start_time": "2023-03-26T11:06:44.017Z"
   },
   {
    "duration": 778,
    "start_time": "2023-03-26T11:07:25.201Z"
   },
   {
    "duration": 820,
    "start_time": "2023-03-26T11:09:51.520Z"
   },
   {
    "duration": 792,
    "start_time": "2023-03-26T11:11:39.304Z"
   },
   {
    "duration": 948,
    "start_time": "2023-03-26T11:11:43.698Z"
   },
   {
    "duration": 736,
    "start_time": "2023-03-26T11:11:48.539Z"
   },
   {
    "duration": 807,
    "start_time": "2023-03-26T11:11:55.188Z"
   },
   {
    "duration": 340,
    "start_time": "2023-03-26T11:12:13.164Z"
   },
   {
    "duration": 353,
    "start_time": "2023-03-26T11:12:35.087Z"
   },
   {
    "duration": 1020,
    "start_time": "2023-03-26T11:12:43.436Z"
   },
   {
    "duration": 559,
    "start_time": "2023-03-26T11:12:54.390Z"
   },
   {
    "duration": 466,
    "start_time": "2023-03-26T11:13:07.469Z"
   },
   {
    "duration": 578,
    "start_time": "2023-03-26T11:13:19.800Z"
   },
   {
    "duration": 767,
    "start_time": "2023-03-26T11:13:33.406Z"
   },
   {
    "duration": 637,
    "start_time": "2023-03-26T11:13:41.888Z"
   },
   {
    "duration": 610,
    "start_time": "2023-03-26T11:13:48.893Z"
   },
   {
    "duration": 745,
    "start_time": "2023-03-26T11:13:53.850Z"
   },
   {
    "duration": 818,
    "start_time": "2023-03-26T11:14:01.933Z"
   },
   {
    "duration": 602,
    "start_time": "2023-03-26T11:15:07.026Z"
   },
   {
    "duration": 638,
    "start_time": "2023-03-26T11:15:17.221Z"
   },
   {
    "duration": 800,
    "start_time": "2023-03-26T11:15:34.440Z"
   },
   {
    "duration": 577,
    "start_time": "2023-03-26T11:15:49.561Z"
   },
   {
    "duration": 726,
    "start_time": "2023-03-26T11:16:57.200Z"
   },
   {
    "duration": 692,
    "start_time": "2023-03-26T11:17:07.915Z"
   },
   {
    "duration": 105,
    "start_time": "2023-03-26T11:17:50.636Z"
   },
   {
    "duration": 304,
    "start_time": "2023-03-26T11:17:59.895Z"
   },
   {
    "duration": 14,
    "start_time": "2023-03-26T11:28:16.233Z"
   },
   {
    "duration": 14,
    "start_time": "2023-03-26T11:28:49.302Z"
   },
   {
    "duration": 17,
    "start_time": "2023-03-26T11:28:55.631Z"
   },
   {
    "duration": 467,
    "start_time": "2023-03-26T11:31:47.535Z"
   },
   {
    "duration": 296,
    "start_time": "2023-03-26T11:32:54.554Z"
   },
   {
    "duration": 234,
    "start_time": "2023-03-26T11:34:27.610Z"
   },
   {
    "duration": 290,
    "start_time": "2023-03-26T11:36:33.100Z"
   },
   {
    "duration": 296,
    "start_time": "2023-03-26T13:04:29.852Z"
   },
   {
    "duration": 125,
    "start_time": "2023-03-26T13:05:36.806Z"
   },
   {
    "duration": 291,
    "start_time": "2023-03-26T13:05:53.354Z"
   },
   {
    "duration": 510,
    "start_time": "2023-03-26T13:11:27.787Z"
   },
   {
    "duration": 22,
    "start_time": "2023-03-26T13:11:28.302Z"
   },
   {
    "duration": 17,
    "start_time": "2023-03-26T13:11:28.326Z"
   },
   {
    "duration": 30,
    "start_time": "2023-03-26T13:11:28.345Z"
   },
   {
    "duration": 45,
    "start_time": "2023-03-26T13:11:28.383Z"
   },
   {
    "duration": 4,
    "start_time": "2023-03-26T13:11:28.430Z"
   },
   {
    "duration": 11,
    "start_time": "2023-03-26T13:11:28.435Z"
   },
   {
    "duration": 4,
    "start_time": "2023-03-26T13:11:28.447Z"
   },
   {
    "duration": 20,
    "start_time": "2023-03-26T13:11:28.452Z"
   },
   {
    "duration": 19,
    "start_time": "2023-03-26T13:11:28.474Z"
   },
   {
    "duration": 39,
    "start_time": "2023-03-26T13:11:28.495Z"
   },
   {
    "duration": 10,
    "start_time": "2023-03-26T13:11:28.536Z"
   },
   {
    "duration": 3,
    "start_time": "2023-03-26T13:11:28.548Z"
   },
   {
    "duration": 22,
    "start_time": "2023-03-26T13:11:28.553Z"
   },
   {
    "duration": 41,
    "start_time": "2023-03-26T13:11:28.577Z"
   },
   {
    "duration": 18,
    "start_time": "2023-03-26T13:11:28.620Z"
   },
   {
    "duration": 4,
    "start_time": "2023-03-26T13:11:28.639Z"
   },
   {
    "duration": 39,
    "start_time": "2023-03-26T13:11:28.645Z"
   },
   {
    "duration": 6,
    "start_time": "2023-03-26T13:11:28.698Z"
   },
   {
    "duration": 3,
    "start_time": "2023-03-26T13:11:28.706Z"
   },
   {
    "duration": 10,
    "start_time": "2023-03-26T13:11:28.711Z"
   },
   {
    "duration": 813,
    "start_time": "2023-03-26T13:11:28.723Z"
   },
   {
    "duration": 15,
    "start_time": "2023-03-26T13:11:29.538Z"
   },
   {
    "duration": 318,
    "start_time": "2023-03-26T13:11:29.554Z"
   },
   {
    "duration": 144,
    "start_time": "2023-03-26T13:11:29.874Z"
   },
   {
    "duration": 19,
    "start_time": "2023-03-26T13:11:30.019Z"
   },
   {
    "duration": 43,
    "start_time": "2023-03-26T13:11:30.039Z"
   },
   {
    "duration": 27,
    "start_time": "2023-03-26T13:11:30.086Z"
   },
   {
    "duration": 18,
    "start_time": "2023-03-26T13:11:30.114Z"
   },
   {
    "duration": 570,
    "start_time": "2023-03-26T13:12:03.643Z"
   },
   {
    "duration": 29,
    "start_time": "2023-03-26T13:12:04.216Z"
   },
   {
    "duration": 39,
    "start_time": "2023-03-26T13:12:04.247Z"
   },
   {
    "duration": 20,
    "start_time": "2023-03-26T13:12:04.292Z"
   },
   {
    "duration": 42,
    "start_time": "2023-03-26T13:12:04.315Z"
   },
   {
    "duration": 18,
    "start_time": "2023-03-26T13:12:04.359Z"
   },
   {
    "duration": 21,
    "start_time": "2023-03-26T13:12:04.392Z"
   },
   {
    "duration": 5,
    "start_time": "2023-03-26T13:12:04.416Z"
   },
   {
    "duration": 16,
    "start_time": "2023-03-26T13:12:04.423Z"
   },
   {
    "duration": 5,
    "start_time": "2023-03-26T13:12:04.441Z"
   },
   {
    "duration": 56,
    "start_time": "2023-03-26T13:12:04.448Z"
   },
   {
    "duration": 16,
    "start_time": "2023-03-26T13:12:04.506Z"
   },
   {
    "duration": 8,
    "start_time": "2023-03-26T13:12:04.523Z"
   },
   {
    "duration": 12,
    "start_time": "2023-03-26T13:12:04.534Z"
   },
   {
    "duration": 44,
    "start_time": "2023-03-26T13:12:04.548Z"
   },
   {
    "duration": 19,
    "start_time": "2023-03-26T13:12:04.600Z"
   },
   {
    "duration": 3,
    "start_time": "2023-03-26T13:12:04.621Z"
   },
   {
    "duration": 12,
    "start_time": "2023-03-26T13:12:04.626Z"
   },
   {
    "duration": 6,
    "start_time": "2023-03-26T13:12:04.640Z"
   },
   {
    "duration": 14,
    "start_time": "2023-03-26T13:12:04.648Z"
   },
   {
    "duration": 28,
    "start_time": "2023-03-26T13:12:04.664Z"
   },
   {
    "duration": 864,
    "start_time": "2023-03-26T13:12:04.694Z"
   },
   {
    "duration": 29,
    "start_time": "2023-03-26T13:12:05.559Z"
   },
   {
    "duration": 332,
    "start_time": "2023-03-26T13:12:05.594Z"
   },
   {
    "duration": 19,
    "start_time": "2023-03-26T13:12:05.928Z"
   },
   {
    "duration": 49,
    "start_time": "2023-03-26T13:12:05.949Z"
   },
   {
    "duration": 22,
    "start_time": "2023-03-26T13:12:06.004Z"
   },
   {
    "duration": 18,
    "start_time": "2023-03-26T13:12:06.028Z"
   },
   {
    "duration": 328,
    "start_time": "2023-03-26T13:17:32.291Z"
   },
   {
    "duration": 321,
    "start_time": "2023-03-26T13:18:08.814Z"
   },
   {
    "duration": 19,
    "start_time": "2023-03-26T13:18:54.901Z"
   },
   {
    "duration": 357,
    "start_time": "2023-03-26T13:18:55.626Z"
   },
   {
    "duration": 18,
    "start_time": "2023-03-26T13:19:20.007Z"
   },
   {
    "duration": 321,
    "start_time": "2023-03-26T13:19:20.609Z"
   },
   {
    "duration": 18,
    "start_time": "2023-03-26T13:19:28.723Z"
   },
   {
    "duration": 31,
    "start_time": "2023-03-26T13:26:03.760Z"
   },
   {
    "duration": 289,
    "start_time": "2023-03-26T13:26:04.685Z"
   },
   {
    "duration": 29,
    "start_time": "2023-03-26T13:26:32.751Z"
   },
   {
    "duration": 305,
    "start_time": "2023-03-26T13:26:36.054Z"
   },
   {
    "duration": 556,
    "start_time": "2023-03-26T13:27:00.647Z"
   },
   {
    "duration": 40,
    "start_time": "2023-03-26T13:27:01.210Z"
   },
   {
    "duration": 39,
    "start_time": "2023-03-26T13:27:01.253Z"
   },
   {
    "duration": 46,
    "start_time": "2023-03-26T13:27:01.302Z"
   },
   {
    "duration": 102,
    "start_time": "2023-03-26T13:27:01.350Z"
   },
   {
    "duration": 4,
    "start_time": "2023-03-26T13:27:01.454Z"
   },
   {
    "duration": 61,
    "start_time": "2023-03-26T13:27:01.460Z"
   },
   {
    "duration": 48,
    "start_time": "2023-03-26T13:27:01.524Z"
   },
   {
    "duration": 77,
    "start_time": "2023-03-26T13:27:01.574Z"
   },
   {
    "duration": 35,
    "start_time": "2023-03-26T13:27:01.654Z"
   },
   {
    "duration": 61,
    "start_time": "2023-03-26T13:27:01.691Z"
   },
   {
    "duration": 45,
    "start_time": "2023-03-26T13:27:01.753Z"
   },
   {
    "duration": 39,
    "start_time": "2023-03-26T13:27:01.802Z"
   },
   {
    "duration": 70,
    "start_time": "2023-03-26T13:27:01.843Z"
   },
   {
    "duration": 31,
    "start_time": "2023-03-26T13:27:01.915Z"
   },
   {
    "duration": 75,
    "start_time": "2023-03-26T13:27:01.948Z"
   },
   {
    "duration": 36,
    "start_time": "2023-03-26T13:27:02.025Z"
   },
   {
    "duration": 63,
    "start_time": "2023-03-26T13:27:02.064Z"
   },
   {
    "duration": 15,
    "start_time": "2023-03-26T13:27:02.129Z"
   },
   {
    "duration": 56,
    "start_time": "2023-03-26T13:27:02.147Z"
   },
   {
    "duration": 17,
    "start_time": "2023-03-26T13:27:02.207Z"
   },
   {
    "duration": 823,
    "start_time": "2023-03-26T13:27:02.226Z"
   },
   {
    "duration": 22,
    "start_time": "2023-03-26T13:27:03.051Z"
   },
   {
    "duration": 338,
    "start_time": "2023-03-26T13:27:03.076Z"
   },
   {
    "duration": 19,
    "start_time": "2023-03-26T13:27:03.416Z"
   },
   {
    "duration": 308,
    "start_time": "2023-03-26T13:27:03.438Z"
   },
   {
    "duration": 30,
    "start_time": "2023-03-26T13:27:03.748Z"
   },
   {
    "duration": 358,
    "start_time": "2023-03-26T13:27:03.783Z"
   },
   {
    "duration": 53,
    "start_time": "2023-03-26T13:27:04.143Z"
   },
   {
    "duration": 25,
    "start_time": "2023-03-26T13:27:04.200Z"
   },
   {
    "duration": 23,
    "start_time": "2023-03-26T13:27:47.454Z"
   },
   {
    "duration": 283,
    "start_time": "2023-03-26T13:27:50.801Z"
   },
   {
    "duration": 34,
    "start_time": "2023-03-26T13:38:54.673Z"
   },
   {
    "duration": 333,
    "start_time": "2023-03-26T13:38:56.316Z"
   },
   {
    "duration": 32,
    "start_time": "2023-03-26T13:42:24.278Z"
   },
   {
    "duration": 43,
    "start_time": "2023-03-26T13:42:37.157Z"
   },
   {
    "duration": 24,
    "start_time": "2023-03-26T13:42:49.102Z"
   },
   {
    "duration": 27,
    "start_time": "2023-03-26T13:42:50.788Z"
   },
   {
    "duration": 19,
    "start_time": "2023-03-26T13:42:53.634Z"
   },
   {
    "duration": 507,
    "start_time": "2023-03-26T13:43:54.102Z"
   },
   {
    "duration": 149,
    "start_time": "2023-03-26T14:14:05.403Z"
   },
   {
    "duration": 35,
    "start_time": "2023-03-26T14:15:31.580Z"
   },
   {
    "duration": 18,
    "start_time": "2023-03-26T14:15:49.328Z"
   },
   {
    "duration": 30,
    "start_time": "2023-03-26T14:17:07.764Z"
   },
   {
    "duration": 29,
    "start_time": "2023-03-26T14:21:17.637Z"
   },
   {
    "duration": 36,
    "start_time": "2023-03-26T14:21:27.993Z"
   },
   {
    "duration": 30,
    "start_time": "2023-03-26T14:22:40.121Z"
   },
   {
    "duration": 36,
    "start_time": "2023-03-26T14:25:05.710Z"
   },
   {
    "duration": 32,
    "start_time": "2023-03-26T14:25:24.220Z"
   },
   {
    "duration": 33,
    "start_time": "2023-03-26T14:25:35.761Z"
   },
   {
    "duration": 11,
    "start_time": "2023-03-26T14:26:07.347Z"
   },
   {
    "duration": 24,
    "start_time": "2023-03-26T14:26:27.047Z"
   },
   {
    "duration": 17,
    "start_time": "2023-03-26T14:26:39.215Z"
   },
   {
    "duration": 42,
    "start_time": "2023-03-26T14:27:01.995Z"
   },
   {
    "duration": 28,
    "start_time": "2023-03-26T14:27:02.826Z"
   },
   {
    "duration": 56,
    "start_time": "2023-03-26T14:27:03.536Z"
   },
   {
    "duration": 57,
    "start_time": "2023-03-26T14:27:55.983Z"
   },
   {
    "duration": 19,
    "start_time": "2023-03-26T14:28:26.909Z"
   },
   {
    "duration": 31,
    "start_time": "2023-03-26T14:29:05.619Z"
   },
   {
    "duration": 37,
    "start_time": "2023-03-26T14:39:25.527Z"
   },
   {
    "duration": 31,
    "start_time": "2023-03-26T14:39:38.252Z"
   },
   {
    "duration": 32,
    "start_time": "2023-03-26T14:39:46.255Z"
   },
   {
    "duration": 28,
    "start_time": "2023-03-26T14:40:03.785Z"
   },
   {
    "duration": 23,
    "start_time": "2023-03-26T14:40:10.502Z"
   },
   {
    "duration": 26,
    "start_time": "2023-03-26T14:40:26.587Z"
   },
   {
    "duration": 30,
    "start_time": "2023-03-26T14:42:29.549Z"
   },
   {
    "duration": 21,
    "start_time": "2023-03-26T14:42:36.704Z"
   },
   {
    "duration": 21,
    "start_time": "2023-03-26T14:43:03.116Z"
   },
   {
    "duration": 27,
    "start_time": "2023-03-26T14:43:44.102Z"
   },
   {
    "duration": 70,
    "start_time": "2023-03-26T17:30:52.684Z"
   },
   {
    "duration": 865,
    "start_time": "2023-03-26T17:31:00.669Z"
   },
   {
    "duration": 26,
    "start_time": "2023-03-26T17:31:01.537Z"
   },
   {
    "duration": 69,
    "start_time": "2023-03-26T17:31:01.565Z"
   },
   {
    "duration": 43,
    "start_time": "2023-03-26T17:31:01.636Z"
   },
   {
    "duration": 144,
    "start_time": "2023-03-26T17:31:01.680Z"
   },
   {
    "duration": 4,
    "start_time": "2023-03-26T17:31:01.826Z"
   },
   {
    "duration": 43,
    "start_time": "2023-03-26T17:31:01.831Z"
   },
   {
    "duration": 55,
    "start_time": "2023-03-26T17:31:01.876Z"
   },
   {
    "duration": 44,
    "start_time": "2023-03-26T17:31:01.933Z"
   },
   {
    "duration": 50,
    "start_time": "2023-03-26T17:31:01.981Z"
   },
   {
    "duration": 91,
    "start_time": "2023-03-26T17:31:02.033Z"
   },
   {
    "duration": 18,
    "start_time": "2023-03-26T17:31:02.126Z"
   },
   {
    "duration": 16,
    "start_time": "2023-03-26T17:31:02.146Z"
   },
   {
    "duration": 38,
    "start_time": "2023-03-26T17:31:02.164Z"
   },
   {
    "duration": 65,
    "start_time": "2023-03-26T17:31:02.204Z"
   },
   {
    "duration": 21,
    "start_time": "2023-03-26T17:31:02.270Z"
   },
   {
    "duration": 27,
    "start_time": "2023-03-26T17:31:02.293Z"
   },
   {
    "duration": 21,
    "start_time": "2023-03-26T17:31:02.322Z"
   },
   {
    "duration": 28,
    "start_time": "2023-03-26T17:31:02.345Z"
   },
   {
    "duration": 5,
    "start_time": "2023-03-26T17:31:02.374Z"
   },
   {
    "duration": 56,
    "start_time": "2023-03-26T17:31:02.381Z"
   },
   {
    "duration": 28,
    "start_time": "2023-03-26T17:31:02.439Z"
   },
   {
    "duration": 39,
    "start_time": "2023-03-26T17:31:02.469Z"
   },
   {
    "duration": 1169,
    "start_time": "2023-03-26T17:31:02.510Z"
   },
   {
    "duration": 29,
    "start_time": "2023-03-26T17:31:03.681Z"
   },
   {
    "duration": 364,
    "start_time": "2023-03-26T17:31:03.712Z"
   },
   {
    "duration": 32,
    "start_time": "2023-03-26T17:31:04.078Z"
   },
   {
    "duration": 343,
    "start_time": "2023-03-26T17:31:04.117Z"
   },
   {
    "duration": 28,
    "start_time": "2023-03-26T17:31:04.462Z"
   },
   {
    "duration": 318,
    "start_time": "2023-03-26T17:31:04.495Z"
   },
   {
    "duration": 26,
    "start_time": "2023-03-26T17:31:04.815Z"
   },
   {
    "duration": 18,
    "start_time": "2023-03-26T17:31:04.843Z"
   },
   {
    "duration": 359,
    "start_time": "2023-03-26T17:31:04.863Z"
   }
  ],
  "colab": {
   "name": "dpp_template_part2.ipynb",
   "provenance": []
  },
  "kernelspec": {
   "display_name": "Python 3 (ipykernel)",
   "language": "python",
   "name": "python3"
  },
  "language_info": {
   "codemirror_mode": {
    "name": "ipython",
    "version": 3
   },
   "file_extension": ".py",
   "mimetype": "text/x-python",
   "name": "python",
   "nbconvert_exporter": "python",
   "pygments_lexer": "ipython3",
   "version": "3.9.13"
  },
  "toc": {
   "base_numbering": 1,
   "nav_menu": {},
   "number_sections": true,
   "sideBar": true,
   "skip_h1_title": true,
   "title_cell": "Table of Contents",
   "title_sidebar": "Contents",
   "toc_cell": false,
   "toc_position": {},
   "toc_section_display": true,
   "toc_window_display": false
  }
 },
 "nbformat": 4,
 "nbformat_minor": 5
}
