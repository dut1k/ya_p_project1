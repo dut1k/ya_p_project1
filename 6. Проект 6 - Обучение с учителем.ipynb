{
 "cells": [
  {
   "cell_type": "markdown",
   "metadata": {
    "toc": true
   },
   "source": [
    "<h1>Содержание<span class=\"tocSkip\"></span></h1>\n",
    "<div class=\"toc\"><ul class=\"toc-item\"><li><span><a href=\"#Подготовка-данных\" data-toc-modified-id=\"Подготовка-данных-1\"><span class=\"toc-item-num\">1&nbsp;&nbsp;</span>Подготовка данных</a></span></li><li><span><a href=\"#Исследование-задачи\" data-toc-modified-id=\"Исследование-задачи-2\"><span class=\"toc-item-num\">2&nbsp;&nbsp;</span>Исследование задачи</a></span><ul class=\"toc-item\"><li><span><a href=\"#Посмотрим-на-равнометрость-распределения-данных-между-выборками\" data-toc-modified-id=\"Посмотрим-на-равнометрость-распределения-данных-между-выборками-2.1\"><span class=\"toc-item-num\">2.1&nbsp;&nbsp;</span>Посмотрим на равнометрость распределения данных между выборками</a></span></li><li><span><a href=\"#Борьба-с-дисбалансом\" data-toc-modified-id=\"Борьба-с-дисбалансом-2.2\"><span class=\"toc-item-num\">2.2&nbsp;&nbsp;</span>Борьба с дисбалансом</a></span><ul class=\"toc-item\"><li><span><a href=\"#class_weight=’balanced’\" data-toc-modified-id=\"class_weight=’balanced’-2.2.1\"><span class=\"toc-item-num\">2.2.1&nbsp;&nbsp;</span>class_weight=’balanced’</a></span></li><li><span><a href=\"#upsampling\" data-toc-modified-id=\"upsampling-2.2.2\"><span class=\"toc-item-num\">2.2.2&nbsp;&nbsp;</span>upsampling</a></span></li><li><span><a href=\"#downsampling\" data-toc-modified-id=\"downsampling-2.2.3\"><span class=\"toc-item-num\">2.2.3&nbsp;&nbsp;</span>downsampling</a></span></li></ul></li><li><span><a href=\"#Модель\" data-toc-modified-id=\"Модель-2.3\"><span class=\"toc-item-num\">2.3&nbsp;&nbsp;</span>Модель</a></span><ul class=\"toc-item\"><li><span><a href=\"#Решающее-дерево\" data-toc-modified-id=\"Решающее-дерево-2.3.1\"><span class=\"toc-item-num\">2.3.1&nbsp;&nbsp;</span>Решающее дерево</a></span><ul class=\"toc-item\"><li><span><a href=\"#Решающее-дерево---перебор-гиперпараметров-в-цикле-(несбалансированы)\" data-toc-modified-id=\"Решающее-дерево---перебор-гиперпараметров-в-цикле-(несбалансированы)-2.3.1.1\"><span class=\"toc-item-num\">2.3.1.1&nbsp;&nbsp;</span>Решающее дерево - перебор гиперпараметров в цикле (несбалансированы)</a></span></li><li><span><a href=\"#Решающее-дерево---перебор-гиперпараметров-в-цикле-(class_weight)\" data-toc-modified-id=\"Решающее-дерево---перебор-гиперпараметров-в-цикле-(class_weight)-2.3.1.2\"><span class=\"toc-item-num\">2.3.1.2&nbsp;&nbsp;</span>Решающее дерево - перебор гиперпараметров в цикле (class_weight)</a></span></li><li><span><a href=\"#Решающее-дерево---перебор-гиперпараметров-в-цикле-(upsampling)\" data-toc-modified-id=\"Решающее-дерево---перебор-гиперпараметров-в-цикле-(upsampling)-2.3.1.3\"><span class=\"toc-item-num\">2.3.1.3&nbsp;&nbsp;</span>Решающее дерево - перебор гиперпараметров в цикле (upsampling)</a></span></li><li><span><a href=\"#Решающее-дерево---перебор-гиперпараметров-в-цикле-(downsample)\" data-toc-modified-id=\"Решающее-дерево---перебор-гиперпараметров-в-цикле-(downsample)-2.3.1.4\"><span class=\"toc-item-num\">2.3.1.4&nbsp;&nbsp;</span>Решающее дерево - перебор гиперпараметров в цикле (downsample)</a></span></li><li><span><a href=\"#ROC-кривая\" data-toc-modified-id=\"ROC-кривая-2.3.1.5\"><span class=\"toc-item-num\">2.3.1.5&nbsp;&nbsp;</span>ROC-кривая</a></span></li></ul></li><li><span><a href=\"#Случайный-лес\" data-toc-modified-id=\"Случайный-лес-2.3.2\"><span class=\"toc-item-num\">2.3.2&nbsp;&nbsp;</span>Случайный лес</a></span><ul class=\"toc-item\"><li><span><a href=\"#Случайный-лес---перебор-гиперпараметров-в-цикле-(несбалансированы)\" data-toc-modified-id=\"Случайный-лес---перебор-гиперпараметров-в-цикле-(несбалансированы)-2.3.2.1\"><span class=\"toc-item-num\">2.3.2.1&nbsp;&nbsp;</span>Случайный лес - перебор гиперпараметров в цикле (несбалансированы)</a></span></li><li><span><a href=\"#Случайный-лес---перебор-гиперпараметров-в-цикле-(class_weight)\" data-toc-modified-id=\"Случайный-лес---перебор-гиперпараметров-в-цикле-(class_weight)-2.3.2.2\"><span class=\"toc-item-num\">2.3.2.2&nbsp;&nbsp;</span>Случайный лес - перебор гиперпараметров в цикле (class_weight)</a></span></li><li><span><a href=\"#Случайный-лес---перебор-гиперпараметров-в-цикле-(upsampling)\" data-toc-modified-id=\"Случайный-лес---перебор-гиперпараметров-в-цикле-(upsampling)-2.3.2.3\"><span class=\"toc-item-num\">2.3.2.3&nbsp;&nbsp;</span>Случайный лес - перебор гиперпараметров в цикле (upsampling)</a></span></li><li><span><a href=\"#Случайный-лес---перебор-гиперпараметров-в-цикле-(downsample)\" data-toc-modified-id=\"Случайный-лес---перебор-гиперпараметров-в-цикле-(downsample)-2.3.2.4\"><span class=\"toc-item-num\">2.3.2.4&nbsp;&nbsp;</span>Случайный лес - перебор гиперпараметров в цикле (downsample)</a></span></li><li><span><a href=\"#ROC-кривая\" data-toc-modified-id=\"ROC-кривая-2.3.2.5\"><span class=\"toc-item-num\">2.3.2.5&nbsp;&nbsp;</span>ROC-кривая</a></span></li></ul></li></ul></li><li><span><a href=\"#Неправильные-решения-спрятал\" data-toc-modified-id=\"Неправильные-решения-спрятал-2.4\"><span class=\"toc-item-num\">2.4&nbsp;&nbsp;</span>Неправильные решения спрятал</a></span></li></ul></li><li><span><a href=\"#Тестирование-модели\" data-toc-modified-id=\"Тестирование-модели-3\"><span class=\"toc-item-num\">3&nbsp;&nbsp;</span>Тестирование модели</a></span></li><li><span><a href=\"#Общий-вывод\" data-toc-modified-id=\"Общий-вывод-4\"><span class=\"toc-item-num\">4&nbsp;&nbsp;</span>Общий вывод</a></span></li><li><span><a href=\"#Чек-лист-готовности-проекта\" data-toc-modified-id=\"Чек-лист-готовности-проекта-5\"><span class=\"toc-item-num\">5&nbsp;&nbsp;</span>Чек-лист готовности проекта</a></span></li></ul></div>"
   ]
  },
  {
   "cell_type": "markdown",
   "metadata": {},
   "source": [
    "# Отток клиентов"
   ]
  },
  {
   "cell_type": "markdown",
   "metadata": {},
   "source": [
    "Из «Бета-Банка» стали уходить клиенты. Каждый месяц. Немного, но заметно. Банковские маркетологи посчитали: сохранять текущих клиентов дешевле, чем привлекать новых.\n",
    "\n",
    "Нужно спрогнозировать, уйдёт клиент из банка в ближайшее время или нет. Вам предоставлены исторические данные о поведении клиентов и расторжении договоров с банком. \n",
    "\n",
    "Постройте модель с предельно большим значением *F1*-меры. Чтобы сдать проект успешно, нужно довести метрику до 0.59. Проверьте *F1*-меру на тестовой выборке самостоятельно.\n",
    "\n",
    "Дополнительно измеряйте *AUC-ROC*, сравнивайте её значение с *F1*-мерой.\n",
    "\n",
    "Источник данных: [https://www.kaggle.com/barelydedicated/bank-customer-churn-modeling](https://www.kaggle.com/barelydedicated/bank-customer-churn-modeling)"
   ]
  },
  {
   "cell_type": "markdown",
   "metadata": {},
   "source": [
    "## Подготовка данных"
   ]
  },
  {
   "cell_type": "code",
   "execution_count": 1,
   "metadata": {},
   "outputs": [
    {
     "name": "stdout",
     "output_type": "stream",
     "text": [
      "Collecting scikit-learn==1.1.3\n",
      "  Downloading scikit_learn-1.1.3-cp311-cp311-win_amd64.whl (7.5 MB)\n",
      "     ---------------------------------------- 0.0/7.5 MB ? eta -:--:--\n",
      "      --------------------------------------- 0.1/7.5 MB 6.8 MB/s eta 0:00:02\n",
      "     --- ------------------------------------ 0.7/7.5 MB 8.3 MB/s eta 0:00:01\n",
      "     ----- ---------------------------------- 1.0/7.5 MB 11.1 MB/s eta 0:00:01\n",
      "     ------ --------------------------------- 1.1/7.5 MB 6.6 MB/s eta 0:00:01\n",
      "     ------------------- -------------------- 3.6/7.5 MB 16.4 MB/s eta 0:00:01\n",
      "     --------------------------- ------------ 5.2/7.5 MB 19.6 MB/s eta 0:00:01\n",
      "     ------------------------------------- -- 7.1/7.5 MB 22.7 MB/s eta 0:00:01\n",
      "     ---------------------------------------- 7.5/7.5 MB 21.8 MB/s eta 0:00:00\n",
      "Requirement already satisfied: numpy>=1.17.3 in c:\\users\\user\\anaconda3\\lib\\site-packages (from scikit-learn==1.1.3) (1.24.3)\n",
      "Requirement already satisfied: scipy>=1.3.2 in c:\\users\\user\\anaconda3\\lib\\site-packages (from scikit-learn==1.1.3) (1.11.1)\n",
      "Requirement already satisfied: joblib>=1.0.0 in c:\\users\\user\\anaconda3\\lib\\site-packages (from scikit-learn==1.1.3) (1.2.0)\n",
      "Requirement already satisfied: threadpoolctl>=2.0.0 in c:\\users\\user\\anaconda3\\lib\\site-packages (from scikit-learn==1.1.3) (2.2.0)\n",
      "Installing collected packages: scikit-learn\n",
      "  Attempting uninstall: scikit-learn\n",
      "    Found existing installation: scikit-learn 1.3.0\n",
      "    Uninstalling scikit-learn-1.3.0:\n",
      "      Successfully uninstalled scikit-learn-1.3.0\n",
      "Successfully installed scikit-learn-1.1.3\n"
     ]
    }
   ],
   "source": [
    "!pip install scikit-learn==1.1.3"
   ]
  },
  {
   "cell_type": "code",
   "execution_count": 2,
   "metadata": {},
   "outputs": [
    {
     "name": "stdout",
     "output_type": "stream",
     "text": [
      "Requirement already satisfied: optuna in c:\\users\\user\\anaconda3\\lib\\site-packages (3.3.0)Note: you may need to restart the kernel to use updated packages.\n",
      "\n",
      "Requirement already satisfied: fast_ml in c:\\users\\user\\anaconda3\\lib\\site-packages (3.68)\n",
      "Requirement already satisfied: alembic>=1.5.0 in c:\\users\\user\\anaconda3\\lib\\site-packages (from optuna) (1.11.3)\n",
      "Requirement already satisfied: cmaes>=0.10.0 in c:\\users\\user\\anaconda3\\lib\\site-packages (from optuna) (0.10.0)\n",
      "Requirement already satisfied: colorlog in c:\\users\\user\\anaconda3\\lib\\site-packages (from optuna) (6.7.0)\n",
      "Requirement already satisfied: numpy in c:\\users\\user\\anaconda3\\lib\\site-packages (from optuna) (1.24.3)\n",
      "Requirement already satisfied: packaging>=20.0 in c:\\users\\user\\anaconda3\\lib\\site-packages (from optuna) (23.0)\n",
      "Requirement already satisfied: sqlalchemy>=1.3.0 in c:\\users\\user\\anaconda3\\lib\\site-packages (from optuna) (1.4.39)\n",
      "Requirement already satisfied: tqdm in c:\\users\\user\\anaconda3\\lib\\site-packages (from optuna) (4.65.0)\n",
      "Requirement already satisfied: PyYAML in c:\\users\\user\\anaconda3\\lib\\site-packages (from optuna) (6.0)\n",
      "Requirement already satisfied: Mako in c:\\users\\user\\anaconda3\\lib\\site-packages (from alembic>=1.5.0->optuna) (1.2.4)\n",
      "Requirement already satisfied: typing-extensions>=4 in c:\\users\\user\\anaconda3\\lib\\site-packages (from alembic>=1.5.0->optuna) (4.7.1)\n",
      "Requirement already satisfied: greenlet!=0.4.17 in c:\\users\\user\\anaconda3\\lib\\site-packages (from sqlalchemy>=1.3.0->optuna) (2.0.1)\n",
      "Requirement already satisfied: colorama in c:\\users\\user\\anaconda3\\lib\\site-packages (from colorlog->optuna) (0.4.6)\n",
      "Requirement already satisfied: MarkupSafe>=0.9.2 in c:\\users\\user\\anaconda3\\lib\\site-packages (from Mako->alembic>=1.5.0->optuna) (2.1.1)\n"
     ]
    }
   ],
   "source": [
    "pip install optuna fast_ml"
   ]
  },
  {
   "cell_type": "code",
   "execution_count": 3,
   "metadata": {},
   "outputs": [],
   "source": [
    "import pandas as pd\n",
    "import matplotlib.pyplot as plt\n",
    "import numpy as np\n",
    "import seaborn as sns\n",
    "import sklearn\n",
    "\n",
    "from sklearn.preprocessing import StandardScaler, OneHotEncoder\n",
    "from sklearn.ensemble import RandomForestClassifier\n",
    "from sklearn.tree import DecisionTreeClassifier\n",
    "# from sklearn.linear_model import LogisticRegression\n",
    "from fast_ml.model_development import train_valid_test_split\n",
    "from sklearn.metrics import f1_score, roc_auc_score, roc_curve\n",
    "from sklearn.metrics import recall_score, precision_score, confusion_matrix\n",
    "from datetime import datetime\n",
    "from sklearn.utils import shuffle"
   ]
  },
  {
   "cell_type": "code",
   "execution_count": 4,
   "metadata": {},
   "outputs": [
    {
     "name": "stdout",
     "output_type": "stream",
     "text": [
      "The scikit-learn version is 1.1.3.\n"
     ]
    }
   ],
   "source": [
    "print('The scikit-learn version is {}.'.format(sklearn.__version__))"
   ]
  },
  {
   "cell_type": "code",
   "execution_count": 5,
   "metadata": {},
   "outputs": [],
   "source": [
    "try:\n",
    "    df = pd.read_csv('/datasets/Churn.csv')\n",
    "except:\n",
    "    df = pd.read_csv(\"https://code.s3.yandex.net/datasets/Churn.csv\")"
   ]
  },
  {
   "cell_type": "code",
   "execution_count": 6,
   "metadata": {},
   "outputs": [
    {
     "data": {
      "text/html": [
       "<div>\n",
       "<style scoped>\n",
       "    .dataframe tbody tr th:only-of-type {\n",
       "        vertical-align: middle;\n",
       "    }\n",
       "\n",
       "    .dataframe tbody tr th {\n",
       "        vertical-align: top;\n",
       "    }\n",
       "\n",
       "    .dataframe thead th {\n",
       "        text-align: right;\n",
       "    }\n",
       "</style>\n",
       "<table border=\"1\" class=\"dataframe\">\n",
       "  <thead>\n",
       "    <tr style=\"text-align: right;\">\n",
       "      <th></th>\n",
       "      <th>RowNumber</th>\n",
       "      <th>CustomerId</th>\n",
       "      <th>Surname</th>\n",
       "      <th>CreditScore</th>\n",
       "      <th>Geography</th>\n",
       "      <th>Gender</th>\n",
       "      <th>Age</th>\n",
       "      <th>Tenure</th>\n",
       "      <th>Balance</th>\n",
       "      <th>NumOfProducts</th>\n",
       "      <th>HasCrCard</th>\n",
       "      <th>IsActiveMember</th>\n",
       "      <th>EstimatedSalary</th>\n",
       "      <th>Exited</th>\n",
       "    </tr>\n",
       "  </thead>\n",
       "  <tbody>\n",
       "    <tr>\n",
       "      <th>0</th>\n",
       "      <td>1</td>\n",
       "      <td>15634602</td>\n",
       "      <td>Hargrave</td>\n",
       "      <td>619</td>\n",
       "      <td>France</td>\n",
       "      <td>Female</td>\n",
       "      <td>42</td>\n",
       "      <td>2.0</td>\n",
       "      <td>0.00</td>\n",
       "      <td>1</td>\n",
       "      <td>1</td>\n",
       "      <td>1</td>\n",
       "      <td>101348.88</td>\n",
       "      <td>1</td>\n",
       "    </tr>\n",
       "    <tr>\n",
       "      <th>1</th>\n",
       "      <td>2</td>\n",
       "      <td>15647311</td>\n",
       "      <td>Hill</td>\n",
       "      <td>608</td>\n",
       "      <td>Spain</td>\n",
       "      <td>Female</td>\n",
       "      <td>41</td>\n",
       "      <td>1.0</td>\n",
       "      <td>83807.86</td>\n",
       "      <td>1</td>\n",
       "      <td>0</td>\n",
       "      <td>1</td>\n",
       "      <td>112542.58</td>\n",
       "      <td>0</td>\n",
       "    </tr>\n",
       "    <tr>\n",
       "      <th>2</th>\n",
       "      <td>3</td>\n",
       "      <td>15619304</td>\n",
       "      <td>Onio</td>\n",
       "      <td>502</td>\n",
       "      <td>France</td>\n",
       "      <td>Female</td>\n",
       "      <td>42</td>\n",
       "      <td>8.0</td>\n",
       "      <td>159660.80</td>\n",
       "      <td>3</td>\n",
       "      <td>1</td>\n",
       "      <td>0</td>\n",
       "      <td>113931.57</td>\n",
       "      <td>1</td>\n",
       "    </tr>\n",
       "    <tr>\n",
       "      <th>3</th>\n",
       "      <td>4</td>\n",
       "      <td>15701354</td>\n",
       "      <td>Boni</td>\n",
       "      <td>699</td>\n",
       "      <td>France</td>\n",
       "      <td>Female</td>\n",
       "      <td>39</td>\n",
       "      <td>1.0</td>\n",
       "      <td>0.00</td>\n",
       "      <td>2</td>\n",
       "      <td>0</td>\n",
       "      <td>0</td>\n",
       "      <td>93826.63</td>\n",
       "      <td>0</td>\n",
       "    </tr>\n",
       "    <tr>\n",
       "      <th>4</th>\n",
       "      <td>5</td>\n",
       "      <td>15737888</td>\n",
       "      <td>Mitchell</td>\n",
       "      <td>850</td>\n",
       "      <td>Spain</td>\n",
       "      <td>Female</td>\n",
       "      <td>43</td>\n",
       "      <td>2.0</td>\n",
       "      <td>125510.82</td>\n",
       "      <td>1</td>\n",
       "      <td>1</td>\n",
       "      <td>1</td>\n",
       "      <td>79084.10</td>\n",
       "      <td>0</td>\n",
       "    </tr>\n",
       "  </tbody>\n",
       "</table>\n",
       "</div>"
      ],
      "text/plain": [
       "   RowNumber  CustomerId   Surname  CreditScore Geography  Gender  Age  \\\n",
       "0          1    15634602  Hargrave          619    France  Female   42   \n",
       "1          2    15647311      Hill          608     Spain  Female   41   \n",
       "2          3    15619304      Onio          502    France  Female   42   \n",
       "3          4    15701354      Boni          699    France  Female   39   \n",
       "4          5    15737888  Mitchell          850     Spain  Female   43   \n",
       "\n",
       "   Tenure    Balance  NumOfProducts  HasCrCard  IsActiveMember  \\\n",
       "0     2.0       0.00              1          1               1   \n",
       "1     1.0   83807.86              1          0               1   \n",
       "2     8.0  159660.80              3          1               0   \n",
       "3     1.0       0.00              2          0               0   \n",
       "4     2.0  125510.82              1          1               1   \n",
       "\n",
       "   EstimatedSalary  Exited  \n",
       "0        101348.88       1  \n",
       "1        112542.58       0  \n",
       "2        113931.57       1  \n",
       "3         93826.63       0  \n",
       "4         79084.10       0  "
      ]
     },
     "execution_count": 6,
     "metadata": {},
     "output_type": "execute_result"
    }
   ],
   "source": [
    "df.head()"
   ]
  },
  {
   "cell_type": "code",
   "execution_count": 7,
   "metadata": {},
   "outputs": [
    {
     "name": "stdout",
     "output_type": "stream",
     "text": [
      "<class 'pandas.core.frame.DataFrame'>\n",
      "RangeIndex: 10000 entries, 0 to 9999\n",
      "Data columns (total 14 columns):\n",
      " #   Column           Non-Null Count  Dtype  \n",
      "---  ------           --------------  -----  \n",
      " 0   RowNumber        10000 non-null  int64  \n",
      " 1   CustomerId       10000 non-null  int64  \n",
      " 2   Surname          10000 non-null  object \n",
      " 3   CreditScore      10000 non-null  int64  \n",
      " 4   Geography        10000 non-null  object \n",
      " 5   Gender           10000 non-null  object \n",
      " 6   Age              10000 non-null  int64  \n",
      " 7   Tenure           9091 non-null   float64\n",
      " 8   Balance          10000 non-null  float64\n",
      " 9   NumOfProducts    10000 non-null  int64  \n",
      " 10  HasCrCard        10000 non-null  int64  \n",
      " 11  IsActiveMember   10000 non-null  int64  \n",
      " 12  EstimatedSalary  10000 non-null  float64\n",
      " 13  Exited           10000 non-null  int64  \n",
      "dtypes: float64(3), int64(8), object(3)\n",
      "memory usage: 1.1+ MB\n"
     ]
    }
   ],
   "source": [
    "df.info()"
   ]
  },
  {
   "cell_type": "code",
   "execution_count": 8,
   "metadata": {},
   "outputs": [
    {
     "data": {
      "text/html": [
       "<div>\n",
       "<style scoped>\n",
       "    .dataframe tbody tr th:only-of-type {\n",
       "        vertical-align: middle;\n",
       "    }\n",
       "\n",
       "    .dataframe tbody tr th {\n",
       "        vertical-align: top;\n",
       "    }\n",
       "\n",
       "    .dataframe thead th {\n",
       "        text-align: right;\n",
       "    }\n",
       "</style>\n",
       "<table border=\"1\" class=\"dataframe\">\n",
       "  <thead>\n",
       "    <tr style=\"text-align: right;\">\n",
       "      <th></th>\n",
       "      <th>RowNumber</th>\n",
       "      <th>CustomerId</th>\n",
       "      <th>CreditScore</th>\n",
       "      <th>Age</th>\n",
       "      <th>Tenure</th>\n",
       "      <th>Balance</th>\n",
       "      <th>NumOfProducts</th>\n",
       "      <th>HasCrCard</th>\n",
       "      <th>IsActiveMember</th>\n",
       "      <th>EstimatedSalary</th>\n",
       "      <th>Exited</th>\n",
       "    </tr>\n",
       "  </thead>\n",
       "  <tbody>\n",
       "    <tr>\n",
       "      <th>count</th>\n",
       "      <td>10000.00000</td>\n",
       "      <td>1.000000e+04</td>\n",
       "      <td>10000.000000</td>\n",
       "      <td>10000.000000</td>\n",
       "      <td>9091.000000</td>\n",
       "      <td>10000.000000</td>\n",
       "      <td>10000.000000</td>\n",
       "      <td>10000.00000</td>\n",
       "      <td>10000.000000</td>\n",
       "      <td>10000.000000</td>\n",
       "      <td>10000.000000</td>\n",
       "    </tr>\n",
       "    <tr>\n",
       "      <th>mean</th>\n",
       "      <td>5000.50000</td>\n",
       "      <td>1.569094e+07</td>\n",
       "      <td>650.528800</td>\n",
       "      <td>38.921800</td>\n",
       "      <td>4.997690</td>\n",
       "      <td>76485.889288</td>\n",
       "      <td>1.530200</td>\n",
       "      <td>0.70550</td>\n",
       "      <td>0.515100</td>\n",
       "      <td>100090.239881</td>\n",
       "      <td>0.203700</td>\n",
       "    </tr>\n",
       "    <tr>\n",
       "      <th>std</th>\n",
       "      <td>2886.89568</td>\n",
       "      <td>7.193619e+04</td>\n",
       "      <td>96.653299</td>\n",
       "      <td>10.487806</td>\n",
       "      <td>2.894723</td>\n",
       "      <td>62397.405202</td>\n",
       "      <td>0.581654</td>\n",
       "      <td>0.45584</td>\n",
       "      <td>0.499797</td>\n",
       "      <td>57510.492818</td>\n",
       "      <td>0.402769</td>\n",
       "    </tr>\n",
       "    <tr>\n",
       "      <th>min</th>\n",
       "      <td>1.00000</td>\n",
       "      <td>1.556570e+07</td>\n",
       "      <td>350.000000</td>\n",
       "      <td>18.000000</td>\n",
       "      <td>0.000000</td>\n",
       "      <td>0.000000</td>\n",
       "      <td>1.000000</td>\n",
       "      <td>0.00000</td>\n",
       "      <td>0.000000</td>\n",
       "      <td>11.580000</td>\n",
       "      <td>0.000000</td>\n",
       "    </tr>\n",
       "    <tr>\n",
       "      <th>25%</th>\n",
       "      <td>2500.75000</td>\n",
       "      <td>1.562853e+07</td>\n",
       "      <td>584.000000</td>\n",
       "      <td>32.000000</td>\n",
       "      <td>2.000000</td>\n",
       "      <td>0.000000</td>\n",
       "      <td>1.000000</td>\n",
       "      <td>0.00000</td>\n",
       "      <td>0.000000</td>\n",
       "      <td>51002.110000</td>\n",
       "      <td>0.000000</td>\n",
       "    </tr>\n",
       "    <tr>\n",
       "      <th>50%</th>\n",
       "      <td>5000.50000</td>\n",
       "      <td>1.569074e+07</td>\n",
       "      <td>652.000000</td>\n",
       "      <td>37.000000</td>\n",
       "      <td>5.000000</td>\n",
       "      <td>97198.540000</td>\n",
       "      <td>1.000000</td>\n",
       "      <td>1.00000</td>\n",
       "      <td>1.000000</td>\n",
       "      <td>100193.915000</td>\n",
       "      <td>0.000000</td>\n",
       "    </tr>\n",
       "    <tr>\n",
       "      <th>75%</th>\n",
       "      <td>7500.25000</td>\n",
       "      <td>1.575323e+07</td>\n",
       "      <td>718.000000</td>\n",
       "      <td>44.000000</td>\n",
       "      <td>7.000000</td>\n",
       "      <td>127644.240000</td>\n",
       "      <td>2.000000</td>\n",
       "      <td>1.00000</td>\n",
       "      <td>1.000000</td>\n",
       "      <td>149388.247500</td>\n",
       "      <td>0.000000</td>\n",
       "    </tr>\n",
       "    <tr>\n",
       "      <th>max</th>\n",
       "      <td>10000.00000</td>\n",
       "      <td>1.581569e+07</td>\n",
       "      <td>850.000000</td>\n",
       "      <td>92.000000</td>\n",
       "      <td>10.000000</td>\n",
       "      <td>250898.090000</td>\n",
       "      <td>4.000000</td>\n",
       "      <td>1.00000</td>\n",
       "      <td>1.000000</td>\n",
       "      <td>199992.480000</td>\n",
       "      <td>1.000000</td>\n",
       "    </tr>\n",
       "  </tbody>\n",
       "</table>\n",
       "</div>"
      ],
      "text/plain": [
       "         RowNumber    CustomerId   CreditScore           Age       Tenure  \\\n",
       "count  10000.00000  1.000000e+04  10000.000000  10000.000000  9091.000000   \n",
       "mean    5000.50000  1.569094e+07    650.528800     38.921800     4.997690   \n",
       "std     2886.89568  7.193619e+04     96.653299     10.487806     2.894723   \n",
       "min        1.00000  1.556570e+07    350.000000     18.000000     0.000000   \n",
       "25%     2500.75000  1.562853e+07    584.000000     32.000000     2.000000   \n",
       "50%     5000.50000  1.569074e+07    652.000000     37.000000     5.000000   \n",
       "75%     7500.25000  1.575323e+07    718.000000     44.000000     7.000000   \n",
       "max    10000.00000  1.581569e+07    850.000000     92.000000    10.000000   \n",
       "\n",
       "             Balance  NumOfProducts    HasCrCard  IsActiveMember  \\\n",
       "count   10000.000000   10000.000000  10000.00000    10000.000000   \n",
       "mean    76485.889288       1.530200      0.70550        0.515100   \n",
       "std     62397.405202       0.581654      0.45584        0.499797   \n",
       "min         0.000000       1.000000      0.00000        0.000000   \n",
       "25%         0.000000       1.000000      0.00000        0.000000   \n",
       "50%     97198.540000       1.000000      1.00000        1.000000   \n",
       "75%    127644.240000       2.000000      1.00000        1.000000   \n",
       "max    250898.090000       4.000000      1.00000        1.000000   \n",
       "\n",
       "       EstimatedSalary        Exited  \n",
       "count     10000.000000  10000.000000  \n",
       "mean     100090.239881      0.203700  \n",
       "std       57510.492818      0.402769  \n",
       "min          11.580000      0.000000  \n",
       "25%       51002.110000      0.000000  \n",
       "50%      100193.915000      0.000000  \n",
       "75%      149388.247500      0.000000  \n",
       "max      199992.480000      1.000000  "
      ]
     },
     "execution_count": 8,
     "metadata": {},
     "output_type": "execute_result"
    }
   ],
   "source": [
    "df.describe()"
   ]
  },
  {
   "cell_type": "code",
   "execution_count": 9,
   "metadata": {},
   "outputs": [
    {
     "data": {
      "text/html": [
       "<div>\n",
       "<style scoped>\n",
       "    .dataframe tbody tr th:only-of-type {\n",
       "        vertical-align: middle;\n",
       "    }\n",
       "\n",
       "    .dataframe tbody tr th {\n",
       "        vertical-align: top;\n",
       "    }\n",
       "\n",
       "    .dataframe thead th {\n",
       "        text-align: right;\n",
       "    }\n",
       "</style>\n",
       "<table border=\"1\" class=\"dataframe\">\n",
       "  <thead>\n",
       "    <tr style=\"text-align: right;\">\n",
       "      <th></th>\n",
       "      <th>RowNumber</th>\n",
       "      <th>CustomerId</th>\n",
       "      <th>Surname</th>\n",
       "      <th>CreditScore</th>\n",
       "      <th>Geography</th>\n",
       "      <th>Gender</th>\n",
       "      <th>Age</th>\n",
       "      <th>Tenure</th>\n",
       "      <th>Balance</th>\n",
       "      <th>NumOfProducts</th>\n",
       "      <th>HasCrCard</th>\n",
       "      <th>IsActiveMember</th>\n",
       "      <th>EstimatedSalary</th>\n",
       "      <th>Exited</th>\n",
       "    </tr>\n",
       "  </thead>\n",
       "  <tbody>\n",
       "    <tr>\n",
       "      <th>count</th>\n",
       "      <td>10000.00000</td>\n",
       "      <td>1.000000e+04</td>\n",
       "      <td>10000</td>\n",
       "      <td>10000.000000</td>\n",
       "      <td>10000</td>\n",
       "      <td>10000</td>\n",
       "      <td>10000.000000</td>\n",
       "      <td>9091.000000</td>\n",
       "      <td>10000.000000</td>\n",
       "      <td>10000.000000</td>\n",
       "      <td>10000.00000</td>\n",
       "      <td>10000.000000</td>\n",
       "      <td>10000.000000</td>\n",
       "      <td>10000.000000</td>\n",
       "    </tr>\n",
       "    <tr>\n",
       "      <th>unique</th>\n",
       "      <td>NaN</td>\n",
       "      <td>NaN</td>\n",
       "      <td>2932</td>\n",
       "      <td>NaN</td>\n",
       "      <td>3</td>\n",
       "      <td>2</td>\n",
       "      <td>NaN</td>\n",
       "      <td>NaN</td>\n",
       "      <td>NaN</td>\n",
       "      <td>NaN</td>\n",
       "      <td>NaN</td>\n",
       "      <td>NaN</td>\n",
       "      <td>NaN</td>\n",
       "      <td>NaN</td>\n",
       "    </tr>\n",
       "    <tr>\n",
       "      <th>top</th>\n",
       "      <td>NaN</td>\n",
       "      <td>NaN</td>\n",
       "      <td>Smith</td>\n",
       "      <td>NaN</td>\n",
       "      <td>France</td>\n",
       "      <td>Male</td>\n",
       "      <td>NaN</td>\n",
       "      <td>NaN</td>\n",
       "      <td>NaN</td>\n",
       "      <td>NaN</td>\n",
       "      <td>NaN</td>\n",
       "      <td>NaN</td>\n",
       "      <td>NaN</td>\n",
       "      <td>NaN</td>\n",
       "    </tr>\n",
       "    <tr>\n",
       "      <th>freq</th>\n",
       "      <td>NaN</td>\n",
       "      <td>NaN</td>\n",
       "      <td>32</td>\n",
       "      <td>NaN</td>\n",
       "      <td>5014</td>\n",
       "      <td>5457</td>\n",
       "      <td>NaN</td>\n",
       "      <td>NaN</td>\n",
       "      <td>NaN</td>\n",
       "      <td>NaN</td>\n",
       "      <td>NaN</td>\n",
       "      <td>NaN</td>\n",
       "      <td>NaN</td>\n",
       "      <td>NaN</td>\n",
       "    </tr>\n",
       "    <tr>\n",
       "      <th>mean</th>\n",
       "      <td>5000.50000</td>\n",
       "      <td>1.569094e+07</td>\n",
       "      <td>NaN</td>\n",
       "      <td>650.528800</td>\n",
       "      <td>NaN</td>\n",
       "      <td>NaN</td>\n",
       "      <td>38.921800</td>\n",
       "      <td>4.997690</td>\n",
       "      <td>76485.889288</td>\n",
       "      <td>1.530200</td>\n",
       "      <td>0.70550</td>\n",
       "      <td>0.515100</td>\n",
       "      <td>100090.239881</td>\n",
       "      <td>0.203700</td>\n",
       "    </tr>\n",
       "    <tr>\n",
       "      <th>std</th>\n",
       "      <td>2886.89568</td>\n",
       "      <td>7.193619e+04</td>\n",
       "      <td>NaN</td>\n",
       "      <td>96.653299</td>\n",
       "      <td>NaN</td>\n",
       "      <td>NaN</td>\n",
       "      <td>10.487806</td>\n",
       "      <td>2.894723</td>\n",
       "      <td>62397.405202</td>\n",
       "      <td>0.581654</td>\n",
       "      <td>0.45584</td>\n",
       "      <td>0.499797</td>\n",
       "      <td>57510.492818</td>\n",
       "      <td>0.402769</td>\n",
       "    </tr>\n",
       "    <tr>\n",
       "      <th>min</th>\n",
       "      <td>1.00000</td>\n",
       "      <td>1.556570e+07</td>\n",
       "      <td>NaN</td>\n",
       "      <td>350.000000</td>\n",
       "      <td>NaN</td>\n",
       "      <td>NaN</td>\n",
       "      <td>18.000000</td>\n",
       "      <td>0.000000</td>\n",
       "      <td>0.000000</td>\n",
       "      <td>1.000000</td>\n",
       "      <td>0.00000</td>\n",
       "      <td>0.000000</td>\n",
       "      <td>11.580000</td>\n",
       "      <td>0.000000</td>\n",
       "    </tr>\n",
       "    <tr>\n",
       "      <th>25%</th>\n",
       "      <td>2500.75000</td>\n",
       "      <td>1.562853e+07</td>\n",
       "      <td>NaN</td>\n",
       "      <td>584.000000</td>\n",
       "      <td>NaN</td>\n",
       "      <td>NaN</td>\n",
       "      <td>32.000000</td>\n",
       "      <td>2.000000</td>\n",
       "      <td>0.000000</td>\n",
       "      <td>1.000000</td>\n",
       "      <td>0.00000</td>\n",
       "      <td>0.000000</td>\n",
       "      <td>51002.110000</td>\n",
       "      <td>0.000000</td>\n",
       "    </tr>\n",
       "    <tr>\n",
       "      <th>50%</th>\n",
       "      <td>5000.50000</td>\n",
       "      <td>1.569074e+07</td>\n",
       "      <td>NaN</td>\n",
       "      <td>652.000000</td>\n",
       "      <td>NaN</td>\n",
       "      <td>NaN</td>\n",
       "      <td>37.000000</td>\n",
       "      <td>5.000000</td>\n",
       "      <td>97198.540000</td>\n",
       "      <td>1.000000</td>\n",
       "      <td>1.00000</td>\n",
       "      <td>1.000000</td>\n",
       "      <td>100193.915000</td>\n",
       "      <td>0.000000</td>\n",
       "    </tr>\n",
       "    <tr>\n",
       "      <th>75%</th>\n",
       "      <td>7500.25000</td>\n",
       "      <td>1.575323e+07</td>\n",
       "      <td>NaN</td>\n",
       "      <td>718.000000</td>\n",
       "      <td>NaN</td>\n",
       "      <td>NaN</td>\n",
       "      <td>44.000000</td>\n",
       "      <td>7.000000</td>\n",
       "      <td>127644.240000</td>\n",
       "      <td>2.000000</td>\n",
       "      <td>1.00000</td>\n",
       "      <td>1.000000</td>\n",
       "      <td>149388.247500</td>\n",
       "      <td>0.000000</td>\n",
       "    </tr>\n",
       "    <tr>\n",
       "      <th>max</th>\n",
       "      <td>10000.00000</td>\n",
       "      <td>1.581569e+07</td>\n",
       "      <td>NaN</td>\n",
       "      <td>850.000000</td>\n",
       "      <td>NaN</td>\n",
       "      <td>NaN</td>\n",
       "      <td>92.000000</td>\n",
       "      <td>10.000000</td>\n",
       "      <td>250898.090000</td>\n",
       "      <td>4.000000</td>\n",
       "      <td>1.00000</td>\n",
       "      <td>1.000000</td>\n",
       "      <td>199992.480000</td>\n",
       "      <td>1.000000</td>\n",
       "    </tr>\n",
       "  </tbody>\n",
       "</table>\n",
       "</div>"
      ],
      "text/plain": [
       "          RowNumber    CustomerId Surname   CreditScore Geography Gender  \\\n",
       "count   10000.00000  1.000000e+04   10000  10000.000000     10000  10000   \n",
       "unique          NaN           NaN    2932           NaN         3      2   \n",
       "top             NaN           NaN   Smith           NaN    France   Male   \n",
       "freq            NaN           NaN      32           NaN      5014   5457   \n",
       "mean     5000.50000  1.569094e+07     NaN    650.528800       NaN    NaN   \n",
       "std      2886.89568  7.193619e+04     NaN     96.653299       NaN    NaN   \n",
       "min         1.00000  1.556570e+07     NaN    350.000000       NaN    NaN   \n",
       "25%      2500.75000  1.562853e+07     NaN    584.000000       NaN    NaN   \n",
       "50%      5000.50000  1.569074e+07     NaN    652.000000       NaN    NaN   \n",
       "75%      7500.25000  1.575323e+07     NaN    718.000000       NaN    NaN   \n",
       "max     10000.00000  1.581569e+07     NaN    850.000000       NaN    NaN   \n",
       "\n",
       "                 Age       Tenure        Balance  NumOfProducts    HasCrCard  \\\n",
       "count   10000.000000  9091.000000   10000.000000   10000.000000  10000.00000   \n",
       "unique           NaN          NaN            NaN            NaN          NaN   \n",
       "top              NaN          NaN            NaN            NaN          NaN   \n",
       "freq             NaN          NaN            NaN            NaN          NaN   \n",
       "mean       38.921800     4.997690   76485.889288       1.530200      0.70550   \n",
       "std        10.487806     2.894723   62397.405202       0.581654      0.45584   \n",
       "min        18.000000     0.000000       0.000000       1.000000      0.00000   \n",
       "25%        32.000000     2.000000       0.000000       1.000000      0.00000   \n",
       "50%        37.000000     5.000000   97198.540000       1.000000      1.00000   \n",
       "75%        44.000000     7.000000  127644.240000       2.000000      1.00000   \n",
       "max        92.000000    10.000000  250898.090000       4.000000      1.00000   \n",
       "\n",
       "        IsActiveMember  EstimatedSalary        Exited  \n",
       "count     10000.000000     10000.000000  10000.000000  \n",
       "unique             NaN              NaN           NaN  \n",
       "top                NaN              NaN           NaN  \n",
       "freq               NaN              NaN           NaN  \n",
       "mean          0.515100    100090.239881      0.203700  \n",
       "std           0.499797     57510.492818      0.402769  \n",
       "min           0.000000        11.580000      0.000000  \n",
       "25%           0.000000     51002.110000      0.000000  \n",
       "50%           1.000000    100193.915000      0.000000  \n",
       "75%           1.000000    149388.247500      0.000000  \n",
       "max           1.000000    199992.480000      1.000000  "
      ]
     },
     "execution_count": 9,
     "metadata": {},
     "output_type": "execute_result"
    }
   ],
   "source": [
    "df.describe(include='all')"
   ]
  },
  {
   "cell_type": "code",
   "execution_count": 10,
   "metadata": {},
   "outputs": [
    {
     "data": {
      "text/html": [
       "<div>\n",
       "<style scoped>\n",
       "    .dataframe tbody tr th:only-of-type {\n",
       "        vertical-align: middle;\n",
       "    }\n",
       "\n",
       "    .dataframe tbody tr th {\n",
       "        vertical-align: top;\n",
       "    }\n",
       "\n",
       "    .dataframe thead th {\n",
       "        text-align: right;\n",
       "    }\n",
       "</style>\n",
       "<table border=\"1\" class=\"dataframe\">\n",
       "  <thead>\n",
       "    <tr style=\"text-align: right;\">\n",
       "      <th></th>\n",
       "      <th>count</th>\n",
       "      <th>unique</th>\n",
       "      <th>top</th>\n",
       "      <th>freq</th>\n",
       "      <th>mean</th>\n",
       "      <th>std</th>\n",
       "      <th>min</th>\n",
       "      <th>25%</th>\n",
       "      <th>50%</th>\n",
       "      <th>75%</th>\n",
       "      <th>max</th>\n",
       "    </tr>\n",
       "  </thead>\n",
       "  <tbody>\n",
       "    <tr>\n",
       "      <th>RowNumber</th>\n",
       "      <td>10000.0</td>\n",
       "      <td>NaN</td>\n",
       "      <td>NaN</td>\n",
       "      <td>NaN</td>\n",
       "      <td>5000.5</td>\n",
       "      <td>2886.89568</td>\n",
       "      <td>1.0</td>\n",
       "      <td>2500.75</td>\n",
       "      <td>5000.5</td>\n",
       "      <td>7500.25</td>\n",
       "      <td>10000.0</td>\n",
       "    </tr>\n",
       "    <tr>\n",
       "      <th>CustomerId</th>\n",
       "      <td>10000.0</td>\n",
       "      <td>NaN</td>\n",
       "      <td>NaN</td>\n",
       "      <td>NaN</td>\n",
       "      <td>15690940.5694</td>\n",
       "      <td>71936.186123</td>\n",
       "      <td>15565701.0</td>\n",
       "      <td>15628528.25</td>\n",
       "      <td>15690738.0</td>\n",
       "      <td>15753233.75</td>\n",
       "      <td>15815690.0</td>\n",
       "    </tr>\n",
       "    <tr>\n",
       "      <th>Surname</th>\n",
       "      <td>10000</td>\n",
       "      <td>2932</td>\n",
       "      <td>Smith</td>\n",
       "      <td>32</td>\n",
       "      <td>NaN</td>\n",
       "      <td>NaN</td>\n",
       "      <td>NaN</td>\n",
       "      <td>NaN</td>\n",
       "      <td>NaN</td>\n",
       "      <td>NaN</td>\n",
       "      <td>NaN</td>\n",
       "    </tr>\n",
       "    <tr>\n",
       "      <th>CreditScore</th>\n",
       "      <td>10000.0</td>\n",
       "      <td>NaN</td>\n",
       "      <td>NaN</td>\n",
       "      <td>NaN</td>\n",
       "      <td>650.5288</td>\n",
       "      <td>96.653299</td>\n",
       "      <td>350.0</td>\n",
       "      <td>584.0</td>\n",
       "      <td>652.0</td>\n",
       "      <td>718.0</td>\n",
       "      <td>850.0</td>\n",
       "    </tr>\n",
       "    <tr>\n",
       "      <th>Geography</th>\n",
       "      <td>10000</td>\n",
       "      <td>3</td>\n",
       "      <td>France</td>\n",
       "      <td>5014</td>\n",
       "      <td>NaN</td>\n",
       "      <td>NaN</td>\n",
       "      <td>NaN</td>\n",
       "      <td>NaN</td>\n",
       "      <td>NaN</td>\n",
       "      <td>NaN</td>\n",
       "      <td>NaN</td>\n",
       "    </tr>\n",
       "    <tr>\n",
       "      <th>Gender</th>\n",
       "      <td>10000</td>\n",
       "      <td>2</td>\n",
       "      <td>Male</td>\n",
       "      <td>5457</td>\n",
       "      <td>NaN</td>\n",
       "      <td>NaN</td>\n",
       "      <td>NaN</td>\n",
       "      <td>NaN</td>\n",
       "      <td>NaN</td>\n",
       "      <td>NaN</td>\n",
       "      <td>NaN</td>\n",
       "    </tr>\n",
       "    <tr>\n",
       "      <th>Age</th>\n",
       "      <td>10000.0</td>\n",
       "      <td>NaN</td>\n",
       "      <td>NaN</td>\n",
       "      <td>NaN</td>\n",
       "      <td>38.9218</td>\n",
       "      <td>10.487806</td>\n",
       "      <td>18.0</td>\n",
       "      <td>32.0</td>\n",
       "      <td>37.0</td>\n",
       "      <td>44.0</td>\n",
       "      <td>92.0</td>\n",
       "    </tr>\n",
       "    <tr>\n",
       "      <th>Tenure</th>\n",
       "      <td>9091.0</td>\n",
       "      <td>NaN</td>\n",
       "      <td>NaN</td>\n",
       "      <td>NaN</td>\n",
       "      <td>4.99769</td>\n",
       "      <td>2.894723</td>\n",
       "      <td>0.0</td>\n",
       "      <td>2.0</td>\n",
       "      <td>5.0</td>\n",
       "      <td>7.0</td>\n",
       "      <td>10.0</td>\n",
       "    </tr>\n",
       "    <tr>\n",
       "      <th>Balance</th>\n",
       "      <td>10000.0</td>\n",
       "      <td>NaN</td>\n",
       "      <td>NaN</td>\n",
       "      <td>NaN</td>\n",
       "      <td>76485.889288</td>\n",
       "      <td>62397.405202</td>\n",
       "      <td>0.0</td>\n",
       "      <td>0.0</td>\n",
       "      <td>97198.54</td>\n",
       "      <td>127644.24</td>\n",
       "      <td>250898.09</td>\n",
       "    </tr>\n",
       "    <tr>\n",
       "      <th>NumOfProducts</th>\n",
       "      <td>10000.0</td>\n",
       "      <td>NaN</td>\n",
       "      <td>NaN</td>\n",
       "      <td>NaN</td>\n",
       "      <td>1.5302</td>\n",
       "      <td>0.581654</td>\n",
       "      <td>1.0</td>\n",
       "      <td>1.0</td>\n",
       "      <td>1.0</td>\n",
       "      <td>2.0</td>\n",
       "      <td>4.0</td>\n",
       "    </tr>\n",
       "    <tr>\n",
       "      <th>HasCrCard</th>\n",
       "      <td>10000.0</td>\n",
       "      <td>NaN</td>\n",
       "      <td>NaN</td>\n",
       "      <td>NaN</td>\n",
       "      <td>0.7055</td>\n",
       "      <td>0.45584</td>\n",
       "      <td>0.0</td>\n",
       "      <td>0.0</td>\n",
       "      <td>1.0</td>\n",
       "      <td>1.0</td>\n",
       "      <td>1.0</td>\n",
       "    </tr>\n",
       "    <tr>\n",
       "      <th>IsActiveMember</th>\n",
       "      <td>10000.0</td>\n",
       "      <td>NaN</td>\n",
       "      <td>NaN</td>\n",
       "      <td>NaN</td>\n",
       "      <td>0.5151</td>\n",
       "      <td>0.499797</td>\n",
       "      <td>0.0</td>\n",
       "      <td>0.0</td>\n",
       "      <td>1.0</td>\n",
       "      <td>1.0</td>\n",
       "      <td>1.0</td>\n",
       "    </tr>\n",
       "    <tr>\n",
       "      <th>EstimatedSalary</th>\n",
       "      <td>10000.0</td>\n",
       "      <td>NaN</td>\n",
       "      <td>NaN</td>\n",
       "      <td>NaN</td>\n",
       "      <td>100090.239881</td>\n",
       "      <td>57510.492818</td>\n",
       "      <td>11.58</td>\n",
       "      <td>51002.11</td>\n",
       "      <td>100193.915</td>\n",
       "      <td>149388.2475</td>\n",
       "      <td>199992.48</td>\n",
       "    </tr>\n",
       "    <tr>\n",
       "      <th>Exited</th>\n",
       "      <td>10000.0</td>\n",
       "      <td>NaN</td>\n",
       "      <td>NaN</td>\n",
       "      <td>NaN</td>\n",
       "      <td>0.2037</td>\n",
       "      <td>0.402769</td>\n",
       "      <td>0.0</td>\n",
       "      <td>0.0</td>\n",
       "      <td>0.0</td>\n",
       "      <td>0.0</td>\n",
       "      <td>1.0</td>\n",
       "    </tr>\n",
       "  </tbody>\n",
       "</table>\n",
       "</div>"
      ],
      "text/plain": [
       "                   count unique     top  freq           mean           std  \\\n",
       "RowNumber        10000.0    NaN     NaN   NaN         5000.5    2886.89568   \n",
       "CustomerId       10000.0    NaN     NaN   NaN  15690940.5694  71936.186123   \n",
       "Surname            10000   2932   Smith    32            NaN           NaN   \n",
       "CreditScore      10000.0    NaN     NaN   NaN       650.5288     96.653299   \n",
       "Geography          10000      3  France  5014            NaN           NaN   \n",
       "Gender             10000      2    Male  5457            NaN           NaN   \n",
       "Age              10000.0    NaN     NaN   NaN        38.9218     10.487806   \n",
       "Tenure            9091.0    NaN     NaN   NaN        4.99769      2.894723   \n",
       "Balance          10000.0    NaN     NaN   NaN   76485.889288  62397.405202   \n",
       "NumOfProducts    10000.0    NaN     NaN   NaN         1.5302      0.581654   \n",
       "HasCrCard        10000.0    NaN     NaN   NaN         0.7055       0.45584   \n",
       "IsActiveMember   10000.0    NaN     NaN   NaN         0.5151      0.499797   \n",
       "EstimatedSalary  10000.0    NaN     NaN   NaN  100090.239881  57510.492818   \n",
       "Exited           10000.0    NaN     NaN   NaN         0.2037      0.402769   \n",
       "\n",
       "                        min          25%         50%          75%         max  \n",
       "RowNumber               1.0      2500.75      5000.5      7500.25     10000.0  \n",
       "CustomerId       15565701.0  15628528.25  15690738.0  15753233.75  15815690.0  \n",
       "Surname                 NaN          NaN         NaN          NaN         NaN  \n",
       "CreditScore           350.0        584.0       652.0        718.0       850.0  \n",
       "Geography               NaN          NaN         NaN          NaN         NaN  \n",
       "Gender                  NaN          NaN         NaN          NaN         NaN  \n",
       "Age                    18.0         32.0        37.0         44.0        92.0  \n",
       "Tenure                  0.0          2.0         5.0          7.0        10.0  \n",
       "Balance                 0.0          0.0    97198.54    127644.24   250898.09  \n",
       "NumOfProducts           1.0          1.0         1.0          2.0         4.0  \n",
       "HasCrCard               0.0          0.0         1.0          1.0         1.0  \n",
       "IsActiveMember          0.0          0.0         1.0          1.0         1.0  \n",
       "EstimatedSalary       11.58     51002.11  100193.915  149388.2475   199992.48  \n",
       "Exited                  0.0          0.0         0.0          0.0         1.0  "
      ]
     },
     "execution_count": 10,
     "metadata": {},
     "output_type": "execute_result"
    }
   ],
   "source": [
    "df.describe(include='all').T"
   ]
  },
  {
   "cell_type": "code",
   "execution_count": 11,
   "metadata": {},
   "outputs": [
    {
     "data": {
      "image/png": "[encoded data removed]",
      "text/plain": [
       "<Figure size 2000x1300 with 12 Axes>"
      ]
     },
     "metadata": {},
     "output_type": "display_data"
    }
   ],
   "source": [
    "df.hist(bins=50, figsize=(20,13), edgecolor='black')\n",
    "plt.show()"
   ]
  },
  {
   "cell_type": "markdown",
   "metadata": {},
   "source": [
    "<div class=\"alert alert-info\">\n",
    "вместо нуля берем медиану\n",
    "</div>"
   ]
  },
  {
   "cell_type": "markdown",
   "metadata": {},
   "source": [
    "У параметра \"Tenure\" есть nan, заменим на медианное значение"
   ]
  },
  {
   "cell_type": "code",
   "execution_count": 12,
   "metadata": {},
   "outputs": [
    {
     "data": {
      "text/html": [
       "<div>\n",
       "<style scoped>\n",
       "    .dataframe tbody tr th:only-of-type {\n",
       "        vertical-align: middle;\n",
       "    }\n",
       "\n",
       "    .dataframe tbody tr th {\n",
       "        vertical-align: top;\n",
       "    }\n",
       "\n",
       "    .dataframe thead th {\n",
       "        text-align: right;\n",
       "    }\n",
       "</style>\n",
       "<table border=\"1\" class=\"dataframe\">\n",
       "  <thead>\n",
       "    <tr style=\"text-align: right;\">\n",
       "      <th></th>\n",
       "      <th>RowNumber</th>\n",
       "      <th>CustomerId</th>\n",
       "      <th>Surname</th>\n",
       "      <th>CreditScore</th>\n",
       "      <th>Geography</th>\n",
       "      <th>Gender</th>\n",
       "      <th>Age</th>\n",
       "      <th>Tenure</th>\n",
       "      <th>Balance</th>\n",
       "      <th>NumOfProducts</th>\n",
       "      <th>HasCrCard</th>\n",
       "      <th>IsActiveMember</th>\n",
       "      <th>EstimatedSalary</th>\n",
       "      <th>Exited</th>\n",
       "    </tr>\n",
       "  </thead>\n",
       "  <tbody>\n",
       "    <tr>\n",
       "      <th>30</th>\n",
       "      <td>31</td>\n",
       "      <td>15589475</td>\n",
       "      <td>Azikiwe</td>\n",
       "      <td>591</td>\n",
       "      <td>Spain</td>\n",
       "      <td>Female</td>\n",
       "      <td>39</td>\n",
       "      <td>NaN</td>\n",
       "      <td>0.00</td>\n",
       "      <td>3</td>\n",
       "      <td>1</td>\n",
       "      <td>0</td>\n",
       "      <td>140469.38</td>\n",
       "      <td>1</td>\n",
       "    </tr>\n",
       "    <tr>\n",
       "      <th>48</th>\n",
       "      <td>49</td>\n",
       "      <td>15766205</td>\n",
       "      <td>Yin</td>\n",
       "      <td>550</td>\n",
       "      <td>Germany</td>\n",
       "      <td>Male</td>\n",
       "      <td>38</td>\n",
       "      <td>NaN</td>\n",
       "      <td>103391.38</td>\n",
       "      <td>1</td>\n",
       "      <td>0</td>\n",
       "      <td>1</td>\n",
       "      <td>90878.13</td>\n",
       "      <td>0</td>\n",
       "    </tr>\n",
       "    <tr>\n",
       "      <th>51</th>\n",
       "      <td>52</td>\n",
       "      <td>15768193</td>\n",
       "      <td>Trevisani</td>\n",
       "      <td>585</td>\n",
       "      <td>Germany</td>\n",
       "      <td>Male</td>\n",
       "      <td>36</td>\n",
       "      <td>NaN</td>\n",
       "      <td>146050.97</td>\n",
       "      <td>2</td>\n",
       "      <td>0</td>\n",
       "      <td>0</td>\n",
       "      <td>86424.57</td>\n",
       "      <td>0</td>\n",
       "    </tr>\n",
       "    <tr>\n",
       "      <th>53</th>\n",
       "      <td>54</td>\n",
       "      <td>15702298</td>\n",
       "      <td>Parkhill</td>\n",
       "      <td>655</td>\n",
       "      <td>Germany</td>\n",
       "      <td>Male</td>\n",
       "      <td>41</td>\n",
       "      <td>NaN</td>\n",
       "      <td>125561.97</td>\n",
       "      <td>1</td>\n",
       "      <td>0</td>\n",
       "      <td>0</td>\n",
       "      <td>164040.94</td>\n",
       "      <td>1</td>\n",
       "    </tr>\n",
       "    <tr>\n",
       "      <th>60</th>\n",
       "      <td>61</td>\n",
       "      <td>15651280</td>\n",
       "      <td>Hunter</td>\n",
       "      <td>742</td>\n",
       "      <td>Germany</td>\n",
       "      <td>Male</td>\n",
       "      <td>35</td>\n",
       "      <td>NaN</td>\n",
       "      <td>136857.00</td>\n",
       "      <td>1</td>\n",
       "      <td>0</td>\n",
       "      <td>0</td>\n",
       "      <td>84509.57</td>\n",
       "      <td>0</td>\n",
       "    </tr>\n",
       "    <tr>\n",
       "      <th>...</th>\n",
       "      <td>...</td>\n",
       "      <td>...</td>\n",
       "      <td>...</td>\n",
       "      <td>...</td>\n",
       "      <td>...</td>\n",
       "      <td>...</td>\n",
       "      <td>...</td>\n",
       "      <td>...</td>\n",
       "      <td>...</td>\n",
       "      <td>...</td>\n",
       "      <td>...</td>\n",
       "      <td>...</td>\n",
       "      <td>...</td>\n",
       "      <td>...</td>\n",
       "    </tr>\n",
       "    <tr>\n",
       "      <th>9944</th>\n",
       "      <td>9945</td>\n",
       "      <td>15703923</td>\n",
       "      <td>Cameron</td>\n",
       "      <td>744</td>\n",
       "      <td>Germany</td>\n",
       "      <td>Male</td>\n",
       "      <td>41</td>\n",
       "      <td>NaN</td>\n",
       "      <td>190409.34</td>\n",
       "      <td>2</td>\n",
       "      <td>1</td>\n",
       "      <td>1</td>\n",
       "      <td>138361.48</td>\n",
       "      <td>0</td>\n",
       "    </tr>\n",
       "    <tr>\n",
       "      <th>9956</th>\n",
       "      <td>9957</td>\n",
       "      <td>15707861</td>\n",
       "      <td>Nucci</td>\n",
       "      <td>520</td>\n",
       "      <td>France</td>\n",
       "      <td>Female</td>\n",
       "      <td>46</td>\n",
       "      <td>NaN</td>\n",
       "      <td>85216.61</td>\n",
       "      <td>1</td>\n",
       "      <td>1</td>\n",
       "      <td>0</td>\n",
       "      <td>117369.52</td>\n",
       "      <td>1</td>\n",
       "    </tr>\n",
       "    <tr>\n",
       "      <th>9964</th>\n",
       "      <td>9965</td>\n",
       "      <td>15642785</td>\n",
       "      <td>Douglas</td>\n",
       "      <td>479</td>\n",
       "      <td>France</td>\n",
       "      <td>Male</td>\n",
       "      <td>34</td>\n",
       "      <td>NaN</td>\n",
       "      <td>117593.48</td>\n",
       "      <td>2</td>\n",
       "      <td>0</td>\n",
       "      <td>0</td>\n",
       "      <td>113308.29</td>\n",
       "      <td>0</td>\n",
       "    </tr>\n",
       "    <tr>\n",
       "      <th>9985</th>\n",
       "      <td>9986</td>\n",
       "      <td>15586914</td>\n",
       "      <td>Nepean</td>\n",
       "      <td>659</td>\n",
       "      <td>France</td>\n",
       "      <td>Male</td>\n",
       "      <td>36</td>\n",
       "      <td>NaN</td>\n",
       "      <td>123841.49</td>\n",
       "      <td>2</td>\n",
       "      <td>1</td>\n",
       "      <td>0</td>\n",
       "      <td>96833.00</td>\n",
       "      <td>0</td>\n",
       "    </tr>\n",
       "    <tr>\n",
       "      <th>9999</th>\n",
       "      <td>10000</td>\n",
       "      <td>15628319</td>\n",
       "      <td>Walker</td>\n",
       "      <td>792</td>\n",
       "      <td>France</td>\n",
       "      <td>Female</td>\n",
       "      <td>28</td>\n",
       "      <td>NaN</td>\n",
       "      <td>130142.79</td>\n",
       "      <td>1</td>\n",
       "      <td>1</td>\n",
       "      <td>0</td>\n",
       "      <td>38190.78</td>\n",
       "      <td>0</td>\n",
       "    </tr>\n",
       "  </tbody>\n",
       "</table>\n",
       "<p>909 rows × 14 columns</p>\n",
       "</div>"
      ],
      "text/plain": [
       "      RowNumber  CustomerId    Surname  CreditScore Geography  Gender  Age  \\\n",
       "30           31    15589475    Azikiwe          591     Spain  Female   39   \n",
       "48           49    15766205        Yin          550   Germany    Male   38   \n",
       "51           52    15768193  Trevisani          585   Germany    Male   36   \n",
       "53           54    15702298   Parkhill          655   Germany    Male   41   \n",
       "60           61    15651280     Hunter          742   Germany    Male   35   \n",
       "...         ...         ...        ...          ...       ...     ...  ...   \n",
       "9944       9945    15703923    Cameron          744   Germany    Male   41   \n",
       "9956       9957    15707861      Nucci          520    France  Female   46   \n",
       "9964       9965    15642785    Douglas          479    France    Male   34   \n",
       "9985       9986    15586914     Nepean          659    France    Male   36   \n",
       "9999      10000    15628319     Walker          792    France  Female   28   \n",
       "\n",
       "      Tenure    Balance  NumOfProducts  HasCrCard  IsActiveMember  \\\n",
       "30       NaN       0.00              3          1               0   \n",
       "48       NaN  103391.38              1          0               1   \n",
       "51       NaN  146050.97              2          0               0   \n",
       "53       NaN  125561.97              1          0               0   \n",
       "60       NaN  136857.00              1          0               0   \n",
       "...      ...        ...            ...        ...             ...   \n",
       "9944     NaN  190409.34              2          1               1   \n",
       "9956     NaN   85216.61              1          1               0   \n",
       "9964     NaN  117593.48              2          0               0   \n",
       "9985     NaN  123841.49              2          1               0   \n",
       "9999     NaN  130142.79              1          1               0   \n",
       "\n",
       "      EstimatedSalary  Exited  \n",
       "30          140469.38       1  \n",
       "48           90878.13       0  \n",
       "51           86424.57       0  \n",
       "53          164040.94       1  \n",
       "60           84509.57       0  \n",
       "...               ...     ...  \n",
       "9944        138361.48       0  \n",
       "9956        117369.52       1  \n",
       "9964        113308.29       0  \n",
       "9985         96833.00       0  \n",
       "9999         38190.78       0  \n",
       "\n",
       "[909 rows x 14 columns]"
      ]
     },
     "execution_count": 12,
     "metadata": {},
     "output_type": "execute_result"
    }
   ],
   "source": [
    "df[df[\"Tenure\"].isnull()]"
   ]
  },
  {
   "cell_type": "markdown",
   "metadata": {},
   "source": [
    "~Заменим nan на ноль~"
   ]
  },
  {
   "cell_type": "code",
   "execution_count": 13,
   "metadata": {},
   "outputs": [],
   "source": [
    "df.loc[df[\"Tenure\"].isnull(), \"Tenure\"] = df[\"Tenure\"].median()"
   ]
  },
  {
   "cell_type": "markdown",
   "metadata": {},
   "source": [
    "Посмотрим на дубликаты даных по id клиента"
   ]
  },
  {
   "cell_type": "code",
   "execution_count": 14,
   "metadata": {},
   "outputs": [
    {
     "data": {
      "text/plain": [
       "0"
      ]
     },
     "execution_count": 14,
     "metadata": {},
     "output_type": "execute_result"
    }
   ],
   "source": [
    "df.duplicated(subset=['CustomerId']).sum()"
   ]
  },
  {
   "cell_type": "markdown",
   "metadata": {},
   "source": [
    "'RowNumber', 'Surname', 'CustomerId' - удалим"
   ]
  },
  {
   "cell_type": "code",
   "execution_count": 15,
   "metadata": {},
   "outputs": [],
   "source": [
    "df = df.drop(columns=['RowNumber', 'Surname', 'CustomerId'])"
   ]
  },
  {
   "cell_type": "markdown",
   "metadata": {},
   "source": [
    "Данные выгружены, заменили nan на медианное значение. Исследуем баланс классов ниже"
   ]
  },
  {
   "cell_type": "markdown",
   "metadata": {},
   "source": [
    "## Исследование задачи"
   ]
  },
  {
   "cell_type": "markdown",
   "metadata": {},
   "source": [
    "Наш целевой показатель \"Exited\" - по нему делим данные features и target. После этого переведем все категориальные признаки в числовые"
   ]
  },
  {
   "cell_type": "code",
   "execution_count": 16,
   "metadata": {
    "scrolled": true
   },
   "outputs": [],
   "source": [
    "X_train, y_train, X_valid, y_valid, X_test, y_test = \\\n",
    "train_valid_test_split(df, \n",
    "                       'Exited', \n",
    "                       train_size=0.7, \n",
    "                       valid_size=0.15, \n",
    "                       test_size=0.15, \n",
    "                       random_state=12345)"
   ]
  },
  {
   "cell_type": "code",
   "execution_count": 17,
   "metadata": {},
   "outputs": [
    {
     "data": {
      "text/html": [
       "<div>\n",
       "<style scoped>\n",
       "    .dataframe tbody tr th:only-of-type {\n",
       "        vertical-align: middle;\n",
       "    }\n",
       "\n",
       "    .dataframe tbody tr th {\n",
       "        vertical-align: top;\n",
       "    }\n",
       "\n",
       "    .dataframe thead th {\n",
       "        text-align: right;\n",
       "    }\n",
       "</style>\n",
       "<table border=\"1\" class=\"dataframe\">\n",
       "  <thead>\n",
       "    <tr style=\"text-align: right;\">\n",
       "      <th></th>\n",
       "      <th>CreditScore</th>\n",
       "      <th>Geography</th>\n",
       "      <th>Gender</th>\n",
       "      <th>Age</th>\n",
       "      <th>Tenure</th>\n",
       "      <th>Balance</th>\n",
       "      <th>NumOfProducts</th>\n",
       "      <th>HasCrCard</th>\n",
       "      <th>IsActiveMember</th>\n",
       "      <th>EstimatedSalary</th>\n",
       "      <th>Exited</th>\n",
       "    </tr>\n",
       "  </thead>\n",
       "  <tbody>\n",
       "    <tr>\n",
       "      <th>0</th>\n",
       "      <td>619</td>\n",
       "      <td>France</td>\n",
       "      <td>Female</td>\n",
       "      <td>42</td>\n",
       "      <td>2.0</td>\n",
       "      <td>0.00</td>\n",
       "      <td>1</td>\n",
       "      <td>1</td>\n",
       "      <td>1</td>\n",
       "      <td>101348.88</td>\n",
       "      <td>1</td>\n",
       "    </tr>\n",
       "    <tr>\n",
       "      <th>1</th>\n",
       "      <td>608</td>\n",
       "      <td>Spain</td>\n",
       "      <td>Female</td>\n",
       "      <td>41</td>\n",
       "      <td>1.0</td>\n",
       "      <td>83807.86</td>\n",
       "      <td>1</td>\n",
       "      <td>0</td>\n",
       "      <td>1</td>\n",
       "      <td>112542.58</td>\n",
       "      <td>0</td>\n",
       "    </tr>\n",
       "    <tr>\n",
       "      <th>2</th>\n",
       "      <td>502</td>\n",
       "      <td>France</td>\n",
       "      <td>Female</td>\n",
       "      <td>42</td>\n",
       "      <td>8.0</td>\n",
       "      <td>159660.80</td>\n",
       "      <td>3</td>\n",
       "      <td>1</td>\n",
       "      <td>0</td>\n",
       "      <td>113931.57</td>\n",
       "      <td>1</td>\n",
       "    </tr>\n",
       "    <tr>\n",
       "      <th>3</th>\n",
       "      <td>699</td>\n",
       "      <td>France</td>\n",
       "      <td>Female</td>\n",
       "      <td>39</td>\n",
       "      <td>1.0</td>\n",
       "      <td>0.00</td>\n",
       "      <td>2</td>\n",
       "      <td>0</td>\n",
       "      <td>0</td>\n",
       "      <td>93826.63</td>\n",
       "      <td>0</td>\n",
       "    </tr>\n",
       "    <tr>\n",
       "      <th>4</th>\n",
       "      <td>850</td>\n",
       "      <td>Spain</td>\n",
       "      <td>Female</td>\n",
       "      <td>43</td>\n",
       "      <td>2.0</td>\n",
       "      <td>125510.82</td>\n",
       "      <td>1</td>\n",
       "      <td>1</td>\n",
       "      <td>1</td>\n",
       "      <td>79084.10</td>\n",
       "      <td>0</td>\n",
       "    </tr>\n",
       "  </tbody>\n",
       "</table>\n",
       "</div>"
      ],
      "text/plain": [
       "   CreditScore Geography  Gender  Age  Tenure    Balance  NumOfProducts  \\\n",
       "0          619    France  Female   42     2.0       0.00              1   \n",
       "1          608     Spain  Female   41     1.0   83807.86              1   \n",
       "2          502    France  Female   42     8.0  159660.80              3   \n",
       "3          699    France  Female   39     1.0       0.00              2   \n",
       "4          850     Spain  Female   43     2.0  125510.82              1   \n",
       "\n",
       "   HasCrCard  IsActiveMember  EstimatedSalary  Exited  \n",
       "0          1               1        101348.88       1  \n",
       "1          0               1        112542.58       0  \n",
       "2          1               0        113931.57       1  \n",
       "3          0               0         93826.63       0  \n",
       "4          1               1         79084.10       0  "
      ]
     },
     "execution_count": 17,
     "metadata": {},
     "output_type": "execute_result"
    }
   ],
   "source": [
    "df.head()"
   ]
  },
  {
   "cell_type": "code",
   "execution_count": 18,
   "metadata": {},
   "outputs": [
    {
     "name": "stdout",
     "output_type": "stream",
     "text": [
      "['Geography', 'Gender']\n"
     ]
    }
   ],
   "source": [
    "#категориальные признаки для OHE\n",
    "ohe_features = X_train.select_dtypes(include='object').columns.to_list()\n",
    "print(ohe_features)"
   ]
  },
  {
   "cell_type": "code",
   "execution_count": 19,
   "metadata": {},
   "outputs": [
    {
     "data": {
      "text/plain": [
       "['CreditScore', 'Age', 'Tenure', 'Balance', 'NumOfProducts', 'EstimatedSalary']"
      ]
     },
     "execution_count": 19,
     "metadata": {},
     "output_type": "execute_result"
    }
   ],
   "source": [
    "#численные признаки\n",
    "num_features = X_train.select_dtypes(exclude='object').columns.to_list()\n",
    "bin_col = {'HasCrCard', 'IsActiveMember', 'Exited'} #Бинарные признаки\n",
    "num_features = [ele for ele in num_features if ele not in bin_col]\n",
    "num_features"
   ]
  },
  {
   "cell_type": "code",
   "execution_count": 20,
   "metadata": {},
   "outputs": [],
   "source": [
    "# drop='first' удаляет первый признак из закодированных:\n",
    "# таким образом обходим dummy-ловушку\n",
    "# задаём handle_unknown='ignore':\n",
    "# игнорируется ранее невстречающиеся значения признака (при transform)\n",
    "encoder_ohe = OneHotEncoder(drop='first', handle_unknown='ignore', sparse=False)\n",
    "\n",
    "# обучаем энкодер на заданных категориальных признаках тренировочной выборки\n",
    "encoder_ohe.fit(X_train[ohe_features])\n",
    "\n",
    "# добавляем закодированные признаки\n",
    "# encoder_ohe.get_feature_names_out() позволяет получить названия колонок\n",
    "X_train[encoder_ohe.get_feature_names_out()] = encoder_ohe.transform(X_train[ohe_features])\n",
    "X_valid[encoder_ohe.get_feature_names_out()] = encoder_ohe.transform(X_valid[ohe_features])\n",
    "X_test[encoder_ohe.get_feature_names_out()] = encoder_ohe.transform(X_test[ohe_features])\n",
    "\n",
    "# удаляем незакодированные категориальные признаки (изначальные колонки)\n",
    "X_train = X_train.drop(ohe_features, axis=1)\n",
    "X_valid = X_valid.drop(ohe_features, axis=1)\n",
    "X_test = X_test.drop(ohe_features, axis=1)\n",
    "\n",
    "# создаём скелер\n",
    "scaler = StandardScaler()\n",
    "\n",
    "# обучаем его на численных признаках тренировочной выборки\n",
    "scaler.fit(X_train[num_features])\n",
    "\n",
    "# Трансформируем выборки\n",
    "X_train[num_features] = scaler.transform(X_train[num_features])\n",
    "X_valid[num_features] = scaler.transform(X_valid[num_features])\n",
    "X_test[num_features] = scaler.transform(X_test[num_features])"
   ]
  },
  {
   "cell_type": "markdown",
   "metadata": {},
   "source": [
    "Размер данных:"
   ]
  },
  {
   "cell_type": "code",
   "execution_count": 21,
   "metadata": {
    "scrolled": true
   },
   "outputs": [
    {
     "data": {
      "text/plain": [
       "((7000, 11), (1500, 11), (1500, 11), (7000,), (1500,), (1500,))"
      ]
     },
     "execution_count": 21,
     "metadata": {},
     "output_type": "execute_result"
    }
   ],
   "source": [
    "X_train.shape, X_valid.shape, X_test.shape, y_train.shape, y_valid.shape, y_test.shape"
   ]
  },
  {
   "cell_type": "markdown",
   "metadata": {},
   "source": [
    "### Посмотрим на равнометрость распределения данных между выборками"
   ]
  },
  {
   "cell_type": "markdown",
   "metadata": {},
   "source": [
    "По целевому показателю \"**Exited**\" - факт ухода клиента"
   ]
  },
  {
   "cell_type": "code",
   "execution_count": 22,
   "metadata": {},
   "outputs": [
    {
     "data": {
      "image/png": "[encoded data removed]",
      "text/plain": [
       "<Figure size 1500x600 with 1 Axes>"
      ]
     },
     "metadata": {},
     "output_type": "display_data"
    }
   ],
   "source": [
    "fig = plt.figure(figsize=(15,6))\n",
    "sns.distplot(y_train, label='train')\n",
    "sns.distplot(y_valid, label='valid', color='#dddddd')\n",
    "sns.distplot(y_test, label='test', color='#f5853b')\n",
    "fig.legend(loc='upper right')\n",
    "plt.title('Распределение по факту ухода клиента' + \"\\n\", loc=\"left\", fontsize = 22, color = 'SteelBlue');"
   ]
  },
  {
   "cell_type": "markdown",
   "metadata": {},
   "source": [
    "Я не смог победить этот график. потратил час, примерно. Как их друг под другом разместить, я забыл и не смог нагуглить, кроме как создавать датафрейм по этим данным,"
   ]
  },
  {
   "cell_type": "markdown",
   "metadata": {},
   "source": [
    "**CreditScore** - кредитный рейтинг"
   ]
  },
  {
   "cell_type": "code",
   "execution_count": 23,
   "metadata": {
    "scrolled": true
   },
   "outputs": [
    {
     "data": {
      "image/png": "[encoded data removed]",
      "text/plain": [
       "<Figure size 640x480 with 1 Axes>"
      ]
     },
     "metadata": {},
     "output_type": "display_data"
    }
   ],
   "source": [
    "sns.histplot(x=X_train['CreditScore'])\n",
    "sns.histplot(x=X_valid['CreditScore'], color='#dddddd')\n",
    "sns.histplot(x=X_test['CreditScore'], color='#f5853b')\n",
    "\n",
    "plt.title('Распределение по CreditScore' + \"\\n\", loc=\"left\", fontsize = 22, color = 'SteelBlue');"
   ]
  },
  {
   "cell_type": "markdown",
   "metadata": {},
   "source": [
    "**Age** - возраст"
   ]
  },
  {
   "cell_type": "code",
   "execution_count": 24,
   "metadata": {},
   "outputs": [
    {
     "data": {
      "image/png": "[encoded data removed]",
      "text/plain": [
       "<Figure size 640x480 with 1 Axes>"
      ]
     },
     "metadata": {},
     "output_type": "display_data"
    }
   ],
   "source": [
    "sns.histplot(x=X_train['Age'])\n",
    "sns.histplot(x=X_valid['Age'], color='#dddddd')\n",
    "sns.histplot(x=X_test['Age'], color='#f5853b')\n",
    "\n",
    "plt.title('Распределение по Age' + \"\\n\", loc=\"left\", fontsize = 22, color = 'SteelBlue');"
   ]
  },
  {
   "cell_type": "markdown",
   "metadata": {},
   "source": [
    "**Balance** - баланс на счёте"
   ]
  },
  {
   "cell_type": "code",
   "execution_count": 25,
   "metadata": {},
   "outputs": [
    {
     "data": {
      "image/png": "[encoded data removed]",
      "text/plain": [
       "<Figure size 640x480 with 1 Axes>"
      ]
     },
     "metadata": {},
     "output_type": "display_data"
    }
   ],
   "source": [
    "sns.histplot(x=X_train['Balance'])\n",
    "sns.histplot(x=X_valid['Balance'], color='#dddddd')\n",
    "sns.histplot(x=X_test['Balance'], color='#f5853b')\n",
    "\n",
    "plt.title('Распределение по Balance' + \"\\n\", loc=\"left\", fontsize = 22, color = 'SteelBlue');"
   ]
  },
  {
   "cell_type": "markdown",
   "metadata": {},
   "source": [
    "**Tenure** - сколько лет человек является клиентом банка"
   ]
  },
  {
   "cell_type": "code",
   "execution_count": 26,
   "metadata": {},
   "outputs": [
    {
     "data": {
      "image/png": "[encoded data removed]",
      "text/plain": [
       "<Figure size 640x480 with 1 Axes>"
      ]
     },
     "metadata": {},
     "output_type": "display_data"
    }
   ],
   "source": [
    "sns.histplot(x=X_train['Tenure'])\n",
    "sns.histplot(x=X_valid['Tenure'], color='#dddddd')\n",
    "sns.histplot(x=X_test['Tenure'], color='#f5853b')\n",
    "\n",
    "plt.title('Распределение по Tenure' + \"\\n\", loc=\"left\", fontsize = 22, color = 'SteelBlue');"
   ]
  },
  {
   "cell_type": "markdown",
   "metadata": {},
   "source": [
    "**NumOfProducts** - количество продуктов банка, используемых клиентом"
   ]
  },
  {
   "cell_type": "code",
   "execution_count": 27,
   "metadata": {
    "scrolled": true
   },
   "outputs": [
    {
     "data": {
      "image/png": "[encoded data removed]",
      "text/plain": [
       "<Figure size 640x480 with 1 Axes>"
      ]
     },
     "metadata": {},
     "output_type": "display_data"
    }
   ],
   "source": [
    "sns.histplot(x=X_train['NumOfProducts'])\n",
    "sns.histplot(x=X_valid['NumOfProducts'], color='#dddddd')\n",
    "sns.histplot(x=X_test['NumOfProducts'], color='#f5853b')\n",
    "\n",
    "plt.title('Распределение по NumOfProducts' + \"\\n\", loc=\"left\", fontsize = 22, color = 'SteelBlue');"
   ]
  },
  {
   "cell_type": "markdown",
   "metadata": {},
   "source": [
    "**HasCrCard** - аналичие кредитной карты"
   ]
  },
  {
   "cell_type": "code",
   "execution_count": 28,
   "metadata": {},
   "outputs": [
    {
     "data": {
      "image/png": "[encoded data removed]",
      "text/plain": [
       "<Figure size 640x480 with 1 Axes>"
      ]
     },
     "metadata": {},
     "output_type": "display_data"
    }
   ],
   "source": [
    "sns.histplot(x=X_train['HasCrCard'])\n",
    "sns.histplot(x=X_valid['HasCrCard'], color='#dddddd')\n",
    "sns.histplot(x=X_test['HasCrCard'], color='#f5853b')\n",
    "\n",
    "plt.title('Распределение по HasCrCard' + \"\\n\", loc=\"left\", fontsize = 22, color = 'SteelBlue');"
   ]
  },
  {
   "cell_type": "markdown",
   "metadata": {},
   "source": [
    "**IsActiveMember** - активность клиента"
   ]
  },
  {
   "cell_type": "code",
   "execution_count": 29,
   "metadata": {},
   "outputs": [
    {
     "data": {
      "image/png": "[encoded data removed]",
      "text/plain": [
       "<Figure size 640x480 with 1 Axes>"
      ]
     },
     "metadata": {},
     "output_type": "display_data"
    }
   ],
   "source": [
    "sns.histplot(x=X_train['IsActiveMember'])\n",
    "sns.histplot(x=X_valid['IsActiveMember'], color='#dddddd')\n",
    "sns.histplot(x=X_test['IsActiveMember'], color='#f5853b')\n",
    "\n",
    "plt.title('Распределение по IsActiveMember' + \"\\n\", loc=\"left\", fontsize = 22, color = 'SteelBlue');"
   ]
  },
  {
   "cell_type": "markdown",
   "metadata": {},
   "source": [
    "**EstimatedSalary** - предполагаемая зарплата"
   ]
  },
  {
   "cell_type": "code",
   "execution_count": 30,
   "metadata": {},
   "outputs": [
    {
     "data": {
      "image/png": "[encoded data removed]",
      "text/plain": [
       "<Figure size 640x480 with 1 Axes>"
      ]
     },
     "metadata": {},
     "output_type": "display_data"
    }
   ],
   "source": [
    "sns.histplot(x=X_train['EstimatedSalary'])\n",
    "sns.histplot(x=X_valid['EstimatedSalary'], color='#dddddd')\n",
    "sns.histplot(x=X_test['EstimatedSalary'], color='#f5853b')\n",
    "\n",
    "plt.title('Распределение по EstimatedSalary' + \"\\n\", loc=\"left\", fontsize = 22, color = 'SteelBlue');"
   ]
  },
  {
   "cell_type": "markdown",
   "metadata": {},
   "source": [
    "Видим, что данные не всегда распределены равномерно. После просмотра модели на несбалансированных данных, будем улучшать данные и модель"
   ]
  },
  {
   "cell_type": "markdown",
   "metadata": {},
   "source": [
    "### Борьба с дисбалансом"
   ]
  },
  {
   "cell_type": "markdown",
   "metadata": {},
   "source": [
    "Исследуем несколько методов борьбы с дибсалансом классов. \n",
    "class_weight=’balanced’, а также апсемплинг и даунсемплинг"
   ]
  },
  {
   "cell_type": "markdown",
   "metadata": {},
   "source": [
    "#### upsampling"
   ]
  },
  {
   "cell_type": "markdown",
   "metadata": {},
   "source": [
    "Применим метод из тренажера"
   ]
  },
  {
   "cell_type": "code",
   "execution_count": 31,
   "metadata": {},
   "outputs": [],
   "source": [
    "def upsample(features, target):\n",
    "    features_zeros = features[target == 0]\n",
    "    features_ones = features[target == 1]\n",
    "    target_zeros = target[target == 0]\n",
    "    target_ones = target[target == 1]\n",
    "    repeat = round(len(features_zeros) / len(features_ones))\n",
    "\n",
    "    features_upsampled = pd.concat([features_zeros] + [features_ones] * repeat)\n",
    "    target_upsampled = pd.concat([target_zeros] + [target_ones] * repeat)\n",
    "    \n",
    "    features_upsampled, target_upsampled = shuffle(\n",
    "        features_upsampled, target_upsampled, random_state=12345)\n",
    "    \n",
    "    return features_upsampled, target_upsampled\n",
    "\n",
    "X_train_upsampled, y_train_upsampled = upsample(X_train, y_train)\n",
    "X_valid_upsampled, y_valid_upsampled = upsample(X_valid, y_valid)\n",
    "X_test_upsampled, y_test_upsampled = upsample(X_test, y_test)"
   ]
  },
  {
   "cell_type": "markdown",
   "metadata": {},
   "source": [
    "#### downsampling"
   ]
  },
  {
   "cell_type": "code",
   "execution_count": 32,
   "metadata": {},
   "outputs": [],
   "source": [
    "def downsample(features, target):\n",
    "    features_zeros = features[target == 0]\n",
    "    features_ones = features[target == 1]\n",
    "    target_zeros = target[target == 0]\n",
    "    target_ones = target[target == 1]\n",
    "    fraction = len(features_ones) / len(features_zeros)\n",
    "\n",
    "    features_downsampled = pd.concat(\n",
    "        [features_zeros.sample(frac=fraction, random_state=12345)] + [features_ones])\n",
    "    target_downsampled = pd.concat(\n",
    "        [target_zeros.sample(frac=fraction, random_state=12345)] + [target_ones])\n",
    "    \n",
    "    features_downsampled, target_downsampled = shuffle(\n",
    "        features_downsampled, target_downsampled, random_state=12345)\n",
    "    \n",
    "    return features_downsampled, target_downsampled\n",
    "\n",
    "X_train_downsampled, y_train_downsampled = downsample(X_train, y_train)\n",
    "X_valid_downsampled, y_valid_downsampled = downsample(X_valid, y_valid)\n",
    "X_test_downsampled, y_test_downsampled = downsample(X_test, y_test)"
   ]
  },
  {
   "cell_type": "markdown",
   "metadata": {},
   "source": [
    "### Модель"
   ]
  },
  {
   "cell_type": "markdown",
   "metadata": {},
   "source": [
    "Создадим модель случайного леса и подберем гиперпараметры. Посмотрим на F1-меру и AUC-ROC. После сбалансируем класс. Обучим модели решающее дерево, случайный лес, логистическая регрессия  \n",
    "Создадим пайплайн без препроцессора для первой модели с препроцессором для вторых, сбалансированных моделей  \n",
    "Выьрали первой модельб - случайный лет, т.к. в целом такая модель лучше   \n",
    "Для подбора параметров будем использовать RandomizedSearchCV, т.к. он более успешно может найти подходящие параметры. Значения параметров взяты из вебинара"
   ]
  },
  {
   "cell_type": "markdown",
   "metadata": {},
   "source": [
    "#### Решающее дерево"
   ]
  },
  {
   "cell_type": "markdown",
   "metadata": {},
   "source": [
    "Обучим модели решающего дерева с дисбалансом и без дисбаланса, используя class_weight, upsampling и downsampling"
   ]
  },
  {
   "cell_type": "markdown",
   "metadata": {},
   "source": [
    "##### Решающее дерево - перебор гиперпараметров в цикле (несбалансированы)"
   ]
  },
  {
   "cell_type": "code",
   "execution_count": 33,
   "metadata": {},
   "outputs": [
    {
     "name": "stdout",
     "output_type": "stream",
     "text": [
      "Значения гиперпараметров лучшей модели:\n",
      "Глубина дерева: 5\n",
      "f1-метрика:0.5611222444889779\n",
      "0:00:00.402404\n"
     ]
    }
   ],
   "source": [
    "start = datetime.now()\n",
    "\n",
    "best_model_DT_simple = None\n",
    "best_result_DT_simple = 0\n",
    "best_depth_DT_simple = 0\n",
    "\n",
    "\n",
    "for depth in range(1, 20):\n",
    "    model = DecisionTreeClassifier(\n",
    "                                    random_state = 12345,\n",
    "                                    max_depth = depth\n",
    "                                    )\n",
    "    model.fit(X_train, y_train)\n",
    "    predictions_valid = model.predict(X_valid)\n",
    "    result = f1_score(y_valid, predictions_valid)\n",
    "    if result > best_result_DT_simple:\n",
    "        best_model_DT_simple = model # наилучшая модель\n",
    "        best_result_DT_simple = result # наилучшее значение f1-метрики\n",
    "        best_depth_DT_simple = depth # лучшая глубина\n",
    "\n",
    "print(f\"Значения гиперпараметров лучшей модели:\\n\\\n",
    "Глубина дерева: {best_depth_DT_simple}\\n\\\n",
    "f1-метрика:{best_result_DT_simple}\") \n",
    "            \n",
    "print(datetime.now() - start)"
   ]
  },
  {
   "cell_type": "markdown",
   "metadata": {},
   "source": [
    "##### Решающее дерево - перебор гиперпараметров в цикле (class_weight)"
   ]
  },
  {
   "cell_type": "code",
   "execution_count": 34,
   "metadata": {},
   "outputs": [
    {
     "name": "stdout",
     "output_type": "stream",
     "text": [
      "Значения гиперпараметров лучшей модели:\n",
      "Глубина дерева: 5\n",
      "f1-метрика:0.5958041958041959\n",
      "0:00:00.436575\n"
     ]
    }
   ],
   "source": [
    "start = datetime.now()\n",
    "\n",
    "best_model_DT_bln = None\n",
    "best_result_DT_bln = 0\n",
    "best_depth_DT_bln = 0\n",
    "\n",
    "for depth in range(1, 20):\n",
    "    model = DecisionTreeClassifier(\n",
    "                                    random_state = 12345,\n",
    "                                    max_depth = depth,\n",
    "                                    class_weight='balanced'\n",
    "                                    )\n",
    "    model.fit(X_train, y_train)\n",
    "    predictions_valid = model.predict(X_valid)\n",
    "    result = f1_score(y_valid, predictions_valid)\n",
    "    if result > best_result_DT_bln:\n",
    "        best_model_DT_bln = model # наилучшая модель\n",
    "        best_result_DT_bln = result # наилучшее значение f1-метрики\n",
    "        best_depth_DT_bln = depth # лучшая глубина\n",
    "\n",
    "print(f\"Значения гиперпараметров лучшей модели:\\n\\\n",
    "Глубина дерева: {best_depth_DT_bln}\\n\\\n",
    "f1-метрика:{best_result_DT_bln}\")\n",
    "\n",
    "print(datetime.now() - start)"
   ]
  },
  {
   "cell_type": "markdown",
   "metadata": {},
   "source": [
    "##### Решающее дерево - перебор гиперпараметров в цикле (upsampling)"
   ]
  },
  {
   "cell_type": "code",
   "execution_count": 35,
   "metadata": {},
   "outputs": [
    {
     "name": "stdout",
     "output_type": "stream",
     "text": [
      "Значения гиперпараметров лучшей модели:\n",
      "Глубина дерева: 5\n",
      "f1-метрика:0.5958041958041959\n",
      "0:00:00.352184\n"
     ]
    }
   ],
   "source": [
    "start = datetime.now()\n",
    "\n",
    "best_model_DT_ups = None\n",
    "best_result_DT_ups = 0\n",
    "best_depth_DT_ups = 0\n",
    "\n",
    "for depth in range(1, 15):\n",
    "    model = DecisionTreeClassifier(\n",
    "                                    random_state = 12345,\n",
    "                                    max_depth = depth,\n",
    "                                    )\n",
    "    model.fit(X_train_upsampled, y_train_upsampled)\n",
    "    predictions_valid = model.predict(X_valid)\n",
    "    result = f1_score(y_valid, predictions_valid)\n",
    "    if result > best_result_DT_ups:\n",
    "        best_model_DT_ups = model # наилучшая модель\n",
    "        best_result_DT_ups = result # наилучшее значение f1-метрики\n",
    "        best_depth_DT_ups = depth # лучшая глубина          \n",
    "            \n",
    "print(f\"Значения гиперпараметров лучшей модели:\\n\\\n",
    "Глубина дерева: {best_depth_DT_ups}\\n\\\n",
    "f1-метрика:{best_result_DT_ups}\")\n",
    "\n",
    "print(datetime.now() - start)"
   ]
  },
  {
   "cell_type": "markdown",
   "metadata": {},
   "source": [
    "##### Решающее дерево - перебор гиперпараметров в цикле (downsample)"
   ]
  },
  {
   "cell_type": "code",
   "execution_count": 36,
   "metadata": {},
   "outputs": [
    {
     "name": "stdout",
     "output_type": "stream",
     "text": [
      "Значения гиперпараметров лучшей модели:\n",
      "Глубина дерева: 5\n",
      "f1-метрика:0.5600961538461539\n",
      "0:00:00.137132\n"
     ]
    }
   ],
   "source": [
    "start = datetime.now()\n",
    "\n",
    "best_model_DT_down = None\n",
    "best_result_DT_down = 0\n",
    "best_depth_DT_down = 0\n",
    "\n",
    "for depth in range(1, 15):\n",
    "    model = DecisionTreeClassifier(\n",
    "                                    random_state = 12345,\n",
    "                                    max_depth = depth,\n",
    "                                    )\n",
    "    model.fit(X_train_downsampled, y_train_downsampled)\n",
    "    predictions_valid = model.predict(X_valid)\n",
    "    result = f1_score(y_valid, predictions_valid)\n",
    "    if result > best_result_DT_down:\n",
    "        best_model_DT_down = model # наилучшая модель\n",
    "        best_result_DT_down = result # наилучшее значение f1-метрики\n",
    "        best_depth_DT_down = depth # лучшая глубина          \n",
    "\n",
    "print(f\"Значения гиперпараметров лучшей модели:\\n\\\n",
    "Глубина дерева: {best_depth_DT_down}\\n\\\n",
    "f1-метрика:{best_result_DT_down}\")\n",
    "\n",
    "print(datetime.now() - start)"
   ]
  },
  {
   "cell_type": "markdown",
   "metadata": {},
   "source": [
    "**Наши результаты f1-метрики:**"
   ]
  },
  {
   "cell_type": "code",
   "execution_count": 37,
   "metadata": {},
   "outputs": [
    {
     "name": "stdout",
     "output_type": "stream",
     "text": [
      "модель с дисбалансом: 0.56\n",
      "модель class_weight: 0.60\n",
      "модель upsampling: 0.60\n",
      "модель downsample: 0.56\n"
     ]
    }
   ],
   "source": [
    "print(f'модель с дисбалансом: {best_result_DT_simple:.2f}\\n\\\n",
    "модель class_weight: {best_result_DT_bln:.2f}\\n\\\n",
    "модель upsampling: {best_result_DT_ups:.2f}\\n\\\n",
    "модель downsample: {best_result_DT_down:.2f}')"
   ]
  },
  {
   "cell_type": "markdown",
   "metadata": {},
   "source": [
    "##### ROC-кривая"
   ]
  },
  {
   "cell_type": "markdown",
   "metadata": {},
   "source": [
    "**Построим ROC-кривую лучшей модели решающего дерева (upsampling)  \n",
    "Посчитаем значение AUC-ROC**"
   ]
  },
  {
   "cell_type": "code",
   "execution_count": 38,
   "metadata": {},
   "outputs": [
    {
     "data": {
      "image/png": "[encoded data removed]",
      "text/plain": [
       "<Figure size 1000x600 with 1 Axes>"
      ]
     },
     "metadata": {},
     "output_type": "display_data"
    },
    {
     "name": "stdout",
     "output_type": "stream",
     "text": [
      "F1-мера: 0.58\n",
      "AUC-ROC: 0.837\n"
     ]
    }
   ],
   "source": [
    "predicted_test_DT = best_model_DT_ups.predict(X_test)\n",
    "\n",
    "probabilities_test_DT = best_model_DT_ups.predict_proba(X_test)\n",
    "probabilities_one_test_DT = probabilities_test_DT[:, 1]\n",
    "\n",
    "f1_score_DT = f1_score(y_test, predicted_test_DT)\n",
    "auc_roc_DT = roc_auc_score(y_test, probabilities_one_test_DT)\n",
    "\n",
    "plt.figure(figsize=(10, 6))\n",
    "fpr, tpr, thresholds = roc_curve(y_test, probabilities_one_test_DT, pos_label=1)\n",
    "lw = 2\n",
    "plt.plot(fpr, tpr, lw=lw, label='ROC curve ')\n",
    "plt.plot([0, 1], [0, 1])\n",
    "plt.xlim([0.0, 1.0])\n",
    "plt.ylim([0.0, 1.05])\n",
    "plt.xlabel('False Positive Rate')\n",
    "plt.ylabel('True Positive Rate')\n",
    "plt.title('ROC curve')\n",
    "\n",
    "plt.show()\n",
    "\n",
    "print(f'F1-мера: {f1_score_DT:.2f}\\nAUC-ROC: {auc_roc_DT:.3f}')"
   ]
  },
  {
   "cell_type": "markdown",
   "metadata": {},
   "source": [
    "Наша модель предсказывает значения лучше, чем случайная модель"
   ]
  },
  {
   "cell_type": "markdown",
   "metadata": {},
   "source": [
    "#### Случайный лес"
   ]
  },
  {
   "cell_type": "markdown",
   "metadata": {},
   "source": [
    "Обучим модели случайного леса с дисбалансом и без дисбаланса, используя `class_weight`, `upsampling` и `downsampling`"
   ]
  },
  {
   "cell_type": "markdown",
   "metadata": {},
   "source": [
    "##### Случайный лес - перебор гиперпараметров в цикле (несбалансированы)"
   ]
  },
  {
   "cell_type": "code",
   "execution_count": 39,
   "metadata": {},
   "outputs": [
    {
     "name": "stdout",
     "output_type": "stream",
     "text": [
      "Значения гиперпараметров лучшей модели:\n",
      "Количество деревьев: 70\n",
      "Глубина дерева: 20\n",
      "f1-метрика:0.6178861788617885\n",
      "0:01:10.334473\n"
     ]
    }
   ],
   "source": [
    "start = datetime.now()\n",
    "\n",
    "best_model_RF_simple = None\n",
    "best_result_RF_simple = 0\n",
    "best_est_RF_simple = 0\n",
    "best_depth_RF_simple = 0\n",
    "\n",
    "for est in range(10, 110, 10):\n",
    "    for depth in range(1, 25):\n",
    "        model = RandomForestClassifier(\n",
    "                                        random_state = 12345,\n",
    "                                        n_estimators = est,\n",
    "                                        max_depth = depth\n",
    "                                        )\n",
    "        model.fit(X_train, y_train)\n",
    "        predictions_valid = model.predict(X_valid)\n",
    "        result = f1_score(y_valid, predictions_valid)\n",
    "        if result > best_result_RF_simple:\n",
    "            best_model_RF_simple = model # наилучшая модель\n",
    "            best_result_RF_simple = result # наилучшее значение f1-метрики\n",
    "            best_est_RF_simple = est # количество дереиьев\n",
    "            best_depth_RF_simple = depth # лучшая глубина\n",
    "\n",
    "print(f\"Значения гиперпараметров лучшей модели:\\n\\\n",
    "Количество деревьев: {best_est_RF_simple}\\n\\\n",
    "Глубина дерева: {best_depth_RF_simple}\\n\\\n",
    "f1-метрика:{best_result_RF_simple}\")\n",
    "\n",
    "print(datetime.now() - start)"
   ]
  },
  {
   "cell_type": "markdown",
   "metadata": {},
   "source": [
    "##### Случайный лес - перебор гиперпараметров в цикле (class_weight)"
   ]
  },
  {
   "cell_type": "code",
   "execution_count": 40,
   "metadata": {},
   "outputs": [
    {
     "name": "stdout",
     "output_type": "stream",
     "text": [
      "Значения гиперпараметров лучшей модели:\n",
      "Количество деревьев: 70\n",
      "Глубина дерева: 8\n",
      "f1-метрика:0.6450662739322532\n",
      "0:00:33.227919\n"
     ]
    }
   ],
   "source": [
    "start = datetime.now()\n",
    "\n",
    "best_model_RF_bln = None\n",
    "best_result_RF_bln = 0\n",
    "best_est_RF_bln = 0\n",
    "best_depth_RF_bln = 0\n",
    "\n",
    "for est in range(10, 110, 10):\n",
    "    for depth in range(1, 15):\n",
    "        model = RandomForestClassifier(\n",
    "                                        random_state = 12345,\n",
    "                                        n_estimators = est,\n",
    "                                        max_depth = depth,\n",
    "                                        class_weight='balanced'\n",
    "                                        )\n",
    "        model.fit(X_train, y_train)\n",
    "        predictions_valid = model.predict(X_valid)\n",
    "        result = f1_score(y_valid, predictions_valid)\n",
    "        if result > best_result_RF_bln:\n",
    "            best_model_RF_bln = model # наилучшая модель\n",
    "            best_result_RF_bln = result # наилучшее значение f1-метрики\n",
    "            best_est_RF_bln = est # количество дереиьев\n",
    "            best_depth_RF_bln = depth # лучшая глубина\n",
    "\n",
    "print(f\"Значения гиперпараметров лучшей модели:\\n\\\n",
    "Количество деревьев: {best_est_RF_bln}\\n\\\n",
    "Глубина дерева: {best_depth_RF_bln}\\n\\\n",
    "f1-метрика:{best_result_RF_bln}\")\n",
    "\n",
    "print(datetime.now() - start)"
   ]
  },
  {
   "cell_type": "markdown",
   "metadata": {},
   "source": [
    "##### Случайный лес - перебор гиперпараметров в цикле (upsampling)"
   ]
  },
  {
   "cell_type": "code",
   "execution_count": 41,
   "metadata": {},
   "outputs": [
    {
     "name": "stdout",
     "output_type": "stream",
     "text": [
      "Значения гиперпараметров лучшей модели:\n",
      "Количество деревьев: 100\n",
      "Глубина дерева: 14\n",
      "f1-метрика:0.6350245499181669\n",
      "0:00:46.961138\n"
     ]
    }
   ],
   "source": [
    "start = datetime.now()\n",
    "\n",
    "best_model_RF_ups = None\n",
    "best_result_RF_ups = 0\n",
    "best_est_RF_ups = 0\n",
    "best_depth_RF_ups = 0\n",
    "\n",
    "for est in range(10, 110, 10):\n",
    "    for depth in range(1, 15):\n",
    "        model = RandomForestClassifier(\n",
    "                                        random_state = 12345,\n",
    "                                        n_estimators = est,\n",
    "                                        max_depth = depth,\n",
    "                                        )\n",
    "        model.fit(X_train_upsampled, y_train_upsampled)\n",
    "        predictions_valid = model.predict(X_valid)\n",
    "        result = f1_score(y_valid, predictions_valid)\n",
    "        if result > best_result_RF_ups:\n",
    "            best_model_RF_ups = model # наилучшая модель\n",
    "            best_result_RF_ups = result # наилучшее значение f1-метрики\n",
    "            best_est_RF_ups = est # количество дереиьев\n",
    "            best_depth_RF_ups = depth # лучшая глубина          \n",
    "            \n",
    "print(f\"Значения гиперпараметров лучшей модели:\\n\\\n",
    "Количество деревьев: {best_est_RF_ups}\\n\\\n",
    "Глубина дерева: {best_depth_RF_ups}\\n\\\n",
    "f1-метрика:{best_result_RF_ups}\")\n",
    "\n",
    "print(datetime.now() - start)"
   ]
  },
  {
   "cell_type": "markdown",
   "metadata": {},
   "source": [
    "##### Случайный лес - перебор гиперпараметров в цикле (downsample)"
   ]
  },
  {
   "cell_type": "code",
   "execution_count": 42,
   "metadata": {},
   "outputs": [
    {
     "name": "stdout",
     "output_type": "stream",
     "text": [
      "Значения гиперпараметров лучшей модели:\n",
      "Количество деревьев: 70\n",
      "Глубина дерева: 8\n",
      "f1-метрика:0.6124523506988564\n",
      "0:00:19.125108\n"
     ]
    }
   ],
   "source": [
    "start = datetime.now()\n",
    "\n",
    "best_model_RF_down = None\n",
    "best_result_RF_down = 0\n",
    "best_est_RF_down = 0\n",
    "best_depth_RF_down = 0\n",
    "\n",
    "for est in range(10, 110, 10):\n",
    "    for depth in range(1, 15):\n",
    "        model = RandomForestClassifier(\n",
    "                                        random_state = 12345,\n",
    "                                        n_estimators = est,\n",
    "                                        max_depth = depth,\n",
    "                                        )\n",
    "        model.fit(X_train_downsampled, y_train_downsampled)\n",
    "        predictions_valid = model.predict(X_valid)\n",
    "        result = f1_score(y_valid, predictions_valid)\n",
    "        if result > best_result_RF_down:\n",
    "            best_model_RF_down = model # наилучшая модель\n",
    "            best_result_RF_down = result # наилучшее значение f1-метрики\n",
    "            best_est_RF_down = est # количество дереиьев\n",
    "            best_depth_RF_down = depth # лучшая глубина          \n",
    "\n",
    "print(f\"Значения гиперпараметров лучшей модели:\\n\\\n",
    "Количество деревьев: {best_est_RF_down}\\n\\\n",
    "Глубина дерева: {best_depth_RF_down}\\n\\\n",
    "f1-метрика:{best_result_RF_down}\")\n",
    "\n",
    "print(datetime.now() - start)"
   ]
  },
  {
   "cell_type": "markdown",
   "metadata": {},
   "source": [
    "**Наши результаты f1-метрики:**"
   ]
  },
  {
   "cell_type": "code",
   "execution_count": 43,
   "metadata": {},
   "outputs": [
    {
     "name": "stdout",
     "output_type": "stream",
     "text": [
      "модель с дисбалансом: 0.62\n",
      "модель class_weight: 0.65\n",
      "модель upsampling: 0.64\n",
      "модель downsample: 0.61\n"
     ]
    }
   ],
   "source": [
    "print(f'модель с дисбалансом: {best_result_RF_simple:.2f}\\n\\\n",
    "модель class_weight: {best_result_RF_bln:.2f}\\n\\\n",
    "модель upsampling: {best_result_RF_ups:.2f}\\n\\\n",
    "модель downsample: {best_result_RF_down:.2f}')"
   ]
  },
  {
   "cell_type": "markdown",
   "metadata": {},
   "source": [
    "##### ROC-кривая"
   ]
  },
  {
   "cell_type": "markdown",
   "metadata": {},
   "source": [
    "**Построим ROC-кривую лучшей модели решающего дерева (upsampling)  \n",
    "Посчитаем значение AUC-ROC**"
   ]
  },
  {
   "cell_type": "code",
   "execution_count": 44,
   "metadata": {},
   "outputs": [
    {
     "data": {
      "image/png": "[encoded data removed]",
      "text/plain": [
       "<Figure size 1000x600 with 1 Axes>"
      ]
     },
     "metadata": {},
     "output_type": "display_data"
    },
    {
     "name": "stdout",
     "output_type": "stream",
     "text": [
      "F1-мера: 0.61\n",
      "AUC-ROC: 0.855\n"
     ]
    }
   ],
   "source": [
    "predicted_test_RF = best_model_RF_ups.predict(X_test)\n",
    "\n",
    "probabilities_test_RF = best_model_RF_ups.predict_proba(X_test)\n",
    "probabilities_one_test_RF = probabilities_test_RF[:, 1]\n",
    "\n",
    "f1_score_RF = f1_score(y_test, predicted_test_RF)\n",
    "auc_roc_RF = roc_auc_score(y_test, probabilities_one_test_RF)\n",
    "\n",
    "plt.figure(figsize=(10, 6))\n",
    "fpr, tpr, thresholds = roc_curve(y_test, probabilities_one_test_RF, pos_label=1)\n",
    "lw = 2\n",
    "plt.plot(fpr, tpr, lw=lw, label='ROC curve ')\n",
    "plt.plot([0, 1], [0, 1])\n",
    "plt.xlim([0.0, 1.0])\n",
    "plt.ylim([0.0, 1.05])\n",
    "plt.xlabel('False Positive Rate')\n",
    "plt.ylabel('True Positive Rate')\n",
    "plt.title('ROC curve')\n",
    "\n",
    "plt.show()\n",
    "\n",
    "print(f'F1-мера: {f1_score_RF:.2f}\\nAUC-ROC: {auc_roc_RF:.3f}')"
   ]
  },
  {
   "cell_type": "markdown",
   "metadata": {},
   "source": [
    "## Тестирование модели"
   ]
  },
  {
   "cell_type": "markdown",
   "metadata": {},
   "source": [
    "Решающее дерево upsampling и Случайный лес показали upsampling показали лучшие результаты.  \n",
    "Но Случайнылй лес предсказал значения лучше:  \n",
    "Решающее дерево AUC-ROC: 0.821  \n",
    "Решающее дерево AUC-ROC: 0.855"
   ]
  },
  {
   "cell_type": "code",
   "execution_count": 45,
   "metadata": {
    "scrolled": true
   },
   "outputs": [
    {
     "name": "stdout",
     "output_type": "stream",
     "text": [
      "Выбираем лучшую модель - это случайный лес upsampling, со значениями параметров:\n",
      "Количество деревьев: 100\n",
      "Глубина дерева: 14\n",
      "f1-метрика:0.64\n",
      "\n",
      "Создадим модель и протестируем её\n"
     ]
    }
   ],
   "source": [
    "print(f\"Выбираем лучшую модель - это случайный лес upsampling, со значениями параметров:\\n\\\n",
    "Количество деревьев: {best_est_RF_ups}\\n\\\n",
    "Глубина дерева: {best_depth_RF_ups}\\n\\\n",
    "f1-метрика:{best_result_RF_ups:.2f}\\n\\n\\\n",
    "Создадим модель и протестируем её\")"
   ]
  },
  {
   "cell_type": "code",
   "execution_count": 46,
   "metadata": {},
   "outputs": [],
   "source": [
    "top_model = RandomForestClassifier(random_state = 12345,\n",
    "                                   n_estimators = best_model_RF_ups.get_params()['n_estimators'],\n",
    "                                   max_depth = best_model_RF_ups.get_params()['max_depth'],\n",
    "                                  )\n",
    "\n",
    "top_model.fit(X_train_upsampled, y_train_upsampled);"
   ]
  },
  {
   "cell_type": "code",
   "execution_count": 47,
   "metadata": {
    "scrolled": true
   },
   "outputs": [
    {
     "name": "stdout",
     "output_type": "stream",
     "text": [
      "F1-мера: 0.61\n",
      "AUC-ROC: 0.855\n"
     ]
    }
   ],
   "source": [
    "predicted_test_top = top_model.predict(X_test)\n",
    "\n",
    "probabilities_test_top = top_model.predict_proba(X_test)\n",
    "probabilities_one_test_top = probabilities_test_top[:, 1]\n",
    "\n",
    "f1_score_top = f1_score(y_test, predicted_test_top)\n",
    "auc_roc_top = roc_auc_score(y_test, probabilities_one_test_top)\n",
    "\n",
    "print(f'F1-мера: {f1_score_top:.2f}\\nAUC-ROC: {auc_roc_top:.3f}')"
   ]
  },
  {
   "cell_type": "markdown",
   "metadata": {},
   "source": [
    "Наша модель показала необходимый результат, мы достигли поставленной задачи"
   ]
  },
  {
   "cell_type": "code",
   "execution_count": 48,
   "metadata": {},
   "outputs": [
    {
     "name": "stdout",
     "output_type": "stream",
     "text": [
      "Матрица ошибок:\n",
      "[[1005  176]\n",
      " [  98  221]]\n",
      "FPR = 0.149\n",
      "\n",
      "Порог с лучшей f1-мерой:\n",
      "пopoг = 0.42 | Полнота = 0.693 , Точность= 0.557 , f1-мера = 0.6173\n"
     ]
    }
   ],
   "source": [
    "best_threshold = 0\n",
    "best_recall = 0\n",
    "best_precision = 0\n",
    "best_f1 = 0\n",
    "best_predicted_valid = None\n",
    "best_model = None\n",
    "\n",
    "for threshold in np.arange(0.1, 0.5, 0.01):\n",
    "    predicted_valid = probabilities_one_test_top > threshold\n",
    "    recall = recall_score(y_test, predicted_valid)\n",
    "    precision = precision_score(y_test, predicted_valid)\n",
    "    f1 = f1_score(y_test, predicted_valid)\n",
    "    if f1 > best_f1:\n",
    "        best_threshold = threshold\n",
    "        best_recall = recall\n",
    "        best_precision = precision\n",
    "        best_f1 = f1\n",
    "        best_predicted_valid = predicted_valid\n",
    "print('Матрица ошибок:')\n",
    "conf_matrix = confusion_matrix(y_test, best_predicted_valid)\n",
    "print(conf_matrix)\n",
    "print('FPR =', round(conf_matrix[0,1]/(conf_matrix[0,0]+conf_matrix[0,1]),4))\n",
    "print('')\n",
    "print('Порог с лучшей f1-мерой:')\n",
    "print(f\"пopoг = {best_threshold:.2f} | Полнота = {best_recall:.3f} , Точность= {best_precision:.3f} , f1-мера = {best_f1:.4f}\")"
   ]
  },
  {
   "cell_type": "markdown",
   "metadata": {},
   "source": [
    "## Общий вывод"
   ]
  },
  {
   "cell_type": "code",
   "execution_count": 49,
   "metadata": {},
   "outputs": [
    {
     "name": "stdout",
     "output_type": "stream",
     "text": [
      "Мы проверили, что балансировака классов улучшает модель. Для этого использовали решающее дерево и случайный лес.\n",
      "Исследовали модели с дисбаласоми без дисбаланса, используя class_weight, upsampling и downsampling\n",
      "Для нахождения лучших гиперпараметров использовали перебор значений в цикле.\n",
      "\n",
      "Мы получили модель случайного леса со следующими гиперпарамтерами:\n",
      "Число деревьев (n_estimators): 100;\n",
      "Максимальная глубина деревьев (max_depth): 14\n",
      "\n",
      "На тестовой выборке значение f1-меры равно: 0.61\n"
     ]
    }
   ],
   "source": [
    "print(\n",
    "f\"Мы проверили, что балансировака классов улучшает модель. Для этого использовали решающее дерево и случайный лес.\\n\\\n",
    "Исследовали модели с дисбаласоми без дисбаланса, используя class_weight, upsampling и downsampling\\n\\\n",
    "Для нахождения лучших гиперпараметров использовали перебор значений в цикле.\\n\\n\\\n",
    "Мы получили модель случайного леса со следующими гиперпарамтерами:\\n\\\n",
    "Число деревьев (n_estimators): {best_model_RF_ups.get_params()['n_estimators']};\\n\\\n",
    "Максимальная глубина деревьев (max_depth): {best_model_RF_ups.get_params()['max_depth']}\\n\\n\\\n",
    "На тестовой выборке значение f1-меры равно: {f1_score_top:.2f}\")"
   ]
  },
  {
   "cell_type": "code",
   "execution_count": null,
   "metadata": {},
   "outputs": [],
   "source": []
  }
 ],
 "metadata": {
  "ExecuteTimeLog": [
   {
    "duration": 880,
    "start_time": "2023-06-11T11:26:37.858Z"
   },
   {
    "duration": 69,
    "start_time": "2023-06-11T11:26:53.643Z"
   },
   {
    "duration": 73,
    "start_time": "2023-06-11T11:27:04.684Z"
   },
   {
    "duration": 50,
    "start_time": "2023-06-11T11:27:59.571Z"
   },
   {
    "duration": 86,
    "start_time": "2023-06-11T11:46:30.979Z"
   },
   {
    "duration": 117,
    "start_time": "2023-06-11T11:48:17.690Z"
   },
   {
    "duration": 2144,
    "start_time": "2023-06-11T15:31:27.549Z"
   },
   {
    "duration": 3772,
    "start_time": "2023-06-11T15:32:47.715Z"
   },
   {
    "duration": 4,
    "start_time": "2023-06-11T15:36:15.103Z"
   },
   {
    "duration": 245,
    "start_time": "2023-06-11T15:36:33.019Z"
   },
   {
    "duration": 12,
    "start_time": "2023-06-11T15:42:46.514Z"
   },
   {
    "duration": 169,
    "start_time": "2023-06-11T15:43:08.163Z"
   },
   {
    "duration": 9,
    "start_time": "2023-06-11T15:43:11.682Z"
   },
   {
    "duration": 11,
    "start_time": "2023-06-11T15:43:28.456Z"
   },
   {
    "duration": 33,
    "start_time": "2023-06-11T15:44:57.652Z"
   },
   {
    "duration": 2541,
    "start_time": "2023-06-11T15:54:42.753Z"
   },
   {
    "duration": 52,
    "start_time": "2023-06-11T15:56:13.191Z"
   },
   {
    "duration": 18,
    "start_time": "2023-06-11T15:56:16.553Z"
   },
   {
    "duration": 12,
    "start_time": "2023-06-11T15:56:28.312Z"
   },
   {
    "duration": 3,
    "start_time": "2023-06-12T04:19:07.592Z"
   },
   {
    "duration": 165,
    "start_time": "2023-06-12T04:19:08.224Z"
   },
   {
    "duration": 11,
    "start_time": "2023-06-12T04:19:09.540Z"
   },
   {
    "duration": 12,
    "start_time": "2023-06-12T04:24:20.138Z"
   },
   {
    "duration": 39,
    "start_time": "2023-06-12T04:24:37.033Z"
   },
   {
    "duration": 23,
    "start_time": "2023-06-12T04:25:48.396Z"
   },
   {
    "duration": 4,
    "start_time": "2023-06-12T04:28:29.433Z"
   },
   {
    "duration": 5,
    "start_time": "2023-06-12T04:28:30.190Z"
   },
   {
    "duration": 9,
    "start_time": "2023-06-12T04:29:32.752Z"
   },
   {
    "duration": 7,
    "start_time": "2023-06-12T04:29:41.694Z"
   },
   {
    "duration": 9,
    "start_time": "2023-06-12T04:30:48.828Z"
   },
   {
    "duration": 20,
    "start_time": "2023-06-12T04:31:27.590Z"
   },
   {
    "duration": 8,
    "start_time": "2023-06-12T04:31:36.206Z"
   },
   {
    "duration": 77,
    "start_time": "2023-06-12T04:31:48.215Z"
   },
   {
    "duration": 20,
    "start_time": "2023-06-12T04:32:07.915Z"
   },
   {
    "duration": 19,
    "start_time": "2023-06-12T04:34:59.591Z"
   },
   {
    "duration": 7,
    "start_time": "2023-06-12T04:35:37.519Z"
   },
   {
    "duration": 5,
    "start_time": "2023-06-12T04:35:39.173Z"
   },
   {
    "duration": 5,
    "start_time": "2023-06-12T04:35:39.998Z"
   },
   {
    "duration": 8,
    "start_time": "2023-06-12T04:35:44.638Z"
   },
   {
    "duration": 6,
    "start_time": "2023-06-12T04:35:52.303Z"
   },
   {
    "duration": 20,
    "start_time": "2023-06-12T04:36:08.402Z"
   },
   {
    "duration": 40,
    "start_time": "2023-06-12T04:36:47.059Z"
   },
   {
    "duration": 11,
    "start_time": "2023-06-12T04:36:53.627Z"
   },
   {
    "duration": 20,
    "start_time": "2023-06-12T04:36:57.211Z"
   },
   {
    "duration": 23,
    "start_time": "2023-06-12T04:37:02.103Z"
   },
   {
    "duration": 6,
    "start_time": "2023-06-12T04:37:05.221Z"
   },
   {
    "duration": 4,
    "start_time": "2023-06-12T04:37:06.207Z"
   },
   {
    "duration": 13,
    "start_time": "2023-06-12T04:37:06.647Z"
   },
   {
    "duration": 5,
    "start_time": "2023-06-12T04:37:23.082Z"
   },
   {
    "duration": 5,
    "start_time": "2023-06-12T04:37:35.200Z"
   },
   {
    "duration": 21,
    "start_time": "2023-06-12T04:37:41.554Z"
   },
   {
    "duration": 4,
    "start_time": "2023-06-12T04:37:56.044Z"
   },
   {
    "duration": 20,
    "start_time": "2023-06-12T04:37:57.303Z"
   },
   {
    "duration": 5,
    "start_time": "2023-06-12T04:37:57.821Z"
   },
   {
    "duration": 5,
    "start_time": "2023-06-12T04:37:58.530Z"
   },
   {
    "duration": 5,
    "start_time": "2023-06-12T04:43:17.883Z"
   },
   {
    "duration": 4,
    "start_time": "2023-06-12T04:43:22.702Z"
   },
   {
    "duration": 12,
    "start_time": "2023-06-12T04:50:46.489Z"
   },
   {
    "duration": 19,
    "start_time": "2023-06-12T04:50:50.870Z"
   },
   {
    "duration": 11,
    "start_time": "2023-06-12T04:51:06.366Z"
   },
   {
    "duration": 7,
    "start_time": "2023-06-12T04:51:13.925Z"
   },
   {
    "duration": 13,
    "start_time": "2023-06-12T04:51:14.460Z"
   },
   {
    "duration": 7,
    "start_time": "2023-06-12T04:55:23.558Z"
   },
   {
    "duration": 752,
    "start_time": "2023-06-12T04:55:52.722Z"
   },
   {
    "duration": 38,
    "start_time": "2023-06-12T04:55:57.744Z"
   },
   {
    "duration": 6,
    "start_time": "2023-06-12T04:56:28.706Z"
   },
   {
    "duration": 3,
    "start_time": "2023-06-12T04:56:32.326Z"
   },
   {
    "duration": 11,
    "start_time": "2023-06-12T04:56:41.995Z"
   },
   {
    "duration": 15,
    "start_time": "2023-06-12T05:05:57.575Z"
   },
   {
    "duration": 4,
    "start_time": "2023-06-12T05:06:05.804Z"
   },
   {
    "duration": 8,
    "start_time": "2023-06-12T05:07:24.737Z"
   },
   {
    "duration": 1341,
    "start_time": "2023-06-12T05:09:01.783Z"
   },
   {
    "duration": 41,
    "start_time": "2023-06-12T05:09:03.126Z"
   },
   {
    "duration": 18,
    "start_time": "2023-06-12T05:09:03.169Z"
   },
   {
    "duration": 24,
    "start_time": "2023-06-12T05:09:03.188Z"
   },
   {
    "duration": 45,
    "start_time": "2023-06-12T05:09:03.214Z"
   },
   {
    "duration": 21,
    "start_time": "2023-06-12T05:09:03.261Z"
   },
   {
    "duration": 7,
    "start_time": "2023-06-12T05:09:03.284Z"
   },
   {
    "duration": 32,
    "start_time": "2023-06-12T05:09:03.293Z"
   },
   {
    "duration": 14,
    "start_time": "2023-06-12T05:09:03.327Z"
   },
   {
    "duration": 45,
    "start_time": "2023-06-12T05:09:03.343Z"
   },
   {
    "duration": 50,
    "start_time": "2023-06-12T05:09:03.390Z"
   },
   {
    "duration": 142,
    "start_time": "2023-06-12T05:09:03.442Z"
   },
   {
    "duration": 9,
    "start_time": "2023-06-12T05:09:24.225Z"
   },
   {
    "duration": 103,
    "start_time": "2023-06-12T05:11:11.863Z"
   },
   {
    "duration": 9,
    "start_time": "2023-06-12T05:11:16.805Z"
   },
   {
    "duration": 10,
    "start_time": "2023-06-12T05:11:29.001Z"
   },
   {
    "duration": 3624,
    "start_time": "2023-06-12T05:12:05.706Z"
   },
   {
    "duration": 14,
    "start_time": "2023-06-12T05:12:12.405Z"
   },
   {
    "duration": 2946,
    "start_time": "2023-06-12T05:12:37.483Z"
   },
   {
    "duration": 219,
    "start_time": "2023-06-12T05:12:42.442Z"
   },
   {
    "duration": 12,
    "start_time": "2023-06-12T05:12:51.511Z"
   },
   {
    "duration": 3,
    "start_time": "2023-06-12T05:12:54.619Z"
   },
   {
    "duration": 9,
    "start_time": "2023-06-12T05:12:56.192Z"
   },
   {
    "duration": 40,
    "start_time": "2023-06-12T05:15:18.956Z"
   },
   {
    "duration": 4,
    "start_time": "2023-06-12T05:15:25.864Z"
   },
   {
    "duration": 11,
    "start_time": "2023-06-12T05:15:33.682Z"
   },
   {
    "duration": 3,
    "start_time": "2023-06-12T05:15:34.544Z"
   },
   {
    "duration": 9,
    "start_time": "2023-06-12T05:15:35.263Z"
   },
   {
    "duration": 5,
    "start_time": "2023-06-12T05:16:03.915Z"
   },
   {
    "duration": 293,
    "start_time": "2023-06-12T05:16:37.624Z"
   },
   {
    "duration": 229,
    "start_time": "2023-06-12T05:17:19.696Z"
   },
   {
    "duration": 10,
    "start_time": "2023-06-12T05:17:39.042Z"
   },
   {
    "duration": 3,
    "start_time": "2023-06-12T05:17:39.691Z"
   },
   {
    "duration": 296,
    "start_time": "2023-06-12T05:17:40.803Z"
   },
   {
    "duration": 19,
    "start_time": "2023-06-12T05:18:21.796Z"
   },
   {
    "duration": 5,
    "start_time": "2023-06-12T05:18:22.804Z"
   },
   {
    "duration": 5,
    "start_time": "2023-06-12T05:18:39.774Z"
   },
   {
    "duration": 10,
    "start_time": "2023-06-12T05:18:57.877Z"
   },
   {
    "duration": 3,
    "start_time": "2023-06-12T05:18:58.823Z"
   },
   {
    "duration": 6,
    "start_time": "2023-06-12T05:18:59.541Z"
   },
   {
    "duration": 241,
    "start_time": "2023-06-12T05:19:05.650Z"
   },
   {
    "duration": 353,
    "start_time": "2023-06-12T05:19:25.442Z"
   },
   {
    "duration": 354,
    "start_time": "2023-06-12T05:20:18.285Z"
   },
   {
    "duration": 15,
    "start_time": "2023-06-12T05:20:49.691Z"
   },
   {
    "duration": 13,
    "start_time": "2023-06-12T05:22:05.668Z"
   },
   {
    "duration": 348,
    "start_time": "2023-06-12T05:22:12.367Z"
   },
   {
    "duration": 387,
    "start_time": "2023-06-12T05:23:18.398Z"
   },
   {
    "duration": 531,
    "start_time": "2023-06-12T05:23:33.709Z"
   },
   {
    "duration": 354,
    "start_time": "2023-06-12T05:24:14.393Z"
   },
   {
    "duration": 344,
    "start_time": "2023-06-12T05:24:23.141Z"
   },
   {
    "duration": 359,
    "start_time": "2023-06-12T05:24:40.294Z"
   },
   {
    "duration": 355,
    "start_time": "2023-06-12T05:25:02.451Z"
   },
   {
    "duration": 468,
    "start_time": "2023-06-12T05:25:09.338Z"
   },
   {
    "duration": 402,
    "start_time": "2023-06-12T05:25:15.606Z"
   },
   {
    "duration": 383,
    "start_time": "2023-06-12T05:25:21.174Z"
   },
   {
    "duration": 366,
    "start_time": "2023-06-12T05:25:26.720Z"
   },
   {
    "duration": 420,
    "start_time": "2023-06-12T05:25:31.449Z"
   },
   {
    "duration": 396,
    "start_time": "2023-06-12T05:25:37.480Z"
   },
   {
    "duration": 523,
    "start_time": "2023-06-12T05:25:42.442Z"
   },
   {
    "duration": 395,
    "start_time": "2023-06-12T05:25:45.804Z"
   },
   {
    "duration": 368,
    "start_time": "2023-06-12T05:25:50.039Z"
   },
   {
    "duration": 378,
    "start_time": "2023-06-12T05:25:55.051Z"
   },
   {
    "duration": 369,
    "start_time": "2023-06-12T05:26:00.315Z"
   },
   {
    "duration": 357,
    "start_time": "2023-06-12T05:26:05.040Z"
   },
   {
    "duration": 375,
    "start_time": "2023-06-12T05:26:23.846Z"
   },
   {
    "duration": 366,
    "start_time": "2023-06-12T05:26:36.139Z"
   },
   {
    "duration": 371,
    "start_time": "2023-06-12T05:26:46.209Z"
   },
   {
    "duration": 375,
    "start_time": "2023-06-12T05:26:49.993Z"
   },
   {
    "duration": 8,
    "start_time": "2023-06-12T05:26:54.825Z"
   },
   {
    "duration": 121,
    "start_time": "2023-06-12T05:27:48.392Z"
   },
   {
    "duration": 4,
    "start_time": "2023-06-12T05:28:38.786Z"
   },
   {
    "duration": 4,
    "start_time": "2023-06-12T05:29:00.418Z"
   },
   {
    "duration": 209,
    "start_time": "2023-06-12T05:29:55.639Z"
   },
   {
    "duration": 377,
    "start_time": "2023-06-12T05:30:11.297Z"
   },
   {
    "duration": 236,
    "start_time": "2023-06-12T05:30:28.197Z"
   },
   {
    "duration": 215,
    "start_time": "2023-06-12T05:30:51.713Z"
   },
   {
    "duration": 214,
    "start_time": "2023-06-12T05:31:16.401Z"
   },
   {
    "duration": 295,
    "start_time": "2023-06-12T05:35:23.603Z"
   },
   {
    "duration": 196,
    "start_time": "2023-06-12T05:36:54.850Z"
   },
   {
    "duration": 203,
    "start_time": "2023-06-12T05:37:26.937Z"
   },
   {
    "duration": 360,
    "start_time": "2023-06-12T05:40:09.000Z"
   },
   {
    "duration": 289,
    "start_time": "2023-06-12T05:40:27.653Z"
   },
   {
    "duration": 228,
    "start_time": "2023-06-12T05:42:07.480Z"
   },
   {
    "duration": 191,
    "start_time": "2023-06-12T05:42:59.360Z"
   },
   {
    "duration": 195,
    "start_time": "2023-06-12T05:43:04.437Z"
   },
   {
    "duration": 72,
    "start_time": "2023-06-12T05:43:27.399Z"
   },
   {
    "duration": 236,
    "start_time": "2023-06-12T05:43:32.275Z"
   },
   {
    "duration": 6,
    "start_time": "2023-06-12T05:45:33.244Z"
   },
   {
    "duration": 12,
    "start_time": "2023-06-12T05:53:41.974Z"
   },
   {
    "duration": 4,
    "start_time": "2023-06-12T05:53:49.673Z"
   },
   {
    "duration": 15,
    "start_time": "2023-06-12T05:53:56.945Z"
   },
   {
    "duration": 11,
    "start_time": "2023-06-12T05:54:08.179Z"
   },
   {
    "duration": 33,
    "start_time": "2023-06-12T05:54:35.860Z"
   },
   {
    "duration": 30,
    "start_time": "2023-06-12T05:54:55.846Z"
   },
   {
    "duration": 2049,
    "start_time": "2023-06-12T05:55:28.627Z"
   },
   {
    "duration": 1582,
    "start_time": "2023-06-12T05:55:30.678Z"
   },
   {
    "duration": 43,
    "start_time": "2023-06-12T05:55:32.262Z"
   },
   {
    "duration": 18,
    "start_time": "2023-06-12T05:55:32.307Z"
   },
   {
    "duration": 39,
    "start_time": "2023-06-12T05:55:32.328Z"
   },
   {
    "duration": 62,
    "start_time": "2023-06-12T05:55:32.368Z"
   },
   {
    "duration": 23,
    "start_time": "2023-06-12T05:55:32.432Z"
   },
   {
    "duration": 20,
    "start_time": "2023-06-12T05:55:32.457Z"
   },
   {
    "duration": 32,
    "start_time": "2023-06-12T05:55:32.478Z"
   },
   {
    "duration": 5,
    "start_time": "2023-06-12T05:55:32.511Z"
   },
   {
    "duration": 33,
    "start_time": "2023-06-12T05:55:32.518Z"
   },
   {
    "duration": 123,
    "start_time": "2023-06-12T05:55:32.553Z"
   },
   {
    "duration": 0,
    "start_time": "2023-06-12T05:55:32.678Z"
   },
   {
    "duration": 0,
    "start_time": "2023-06-12T05:55:32.679Z"
   },
   {
    "duration": 0,
    "start_time": "2023-06-12T05:55:32.680Z"
   },
   {
    "duration": 0,
    "start_time": "2023-06-12T05:55:32.681Z"
   },
   {
    "duration": 0,
    "start_time": "2023-06-12T05:55:32.682Z"
   },
   {
    "duration": 0,
    "start_time": "2023-06-12T05:55:32.683Z"
   },
   {
    "duration": 0,
    "start_time": "2023-06-12T05:55:32.684Z"
   },
   {
    "duration": 0,
    "start_time": "2023-06-12T05:55:32.685Z"
   },
   {
    "duration": 0,
    "start_time": "2023-06-12T05:55:32.685Z"
   },
   {
    "duration": 0,
    "start_time": "2023-06-12T05:55:32.687Z"
   },
   {
    "duration": 0,
    "start_time": "2023-06-12T05:55:32.688Z"
   },
   {
    "duration": 0,
    "start_time": "2023-06-12T05:55:32.689Z"
   },
   {
    "duration": 0,
    "start_time": "2023-06-12T05:55:32.690Z"
   },
   {
    "duration": 2241,
    "start_time": "2023-06-12T05:56:00.690Z"
   },
   {
    "duration": 1405,
    "start_time": "2023-06-12T05:56:02.933Z"
   },
   {
    "duration": 41,
    "start_time": "2023-06-12T05:56:04.340Z"
   },
   {
    "duration": 17,
    "start_time": "2023-06-12T05:56:04.383Z"
   },
   {
    "duration": 12,
    "start_time": "2023-06-12T05:56:04.402Z"
   },
   {
    "duration": 51,
    "start_time": "2023-06-12T05:56:04.415Z"
   },
   {
    "duration": 20,
    "start_time": "2023-06-12T05:56:04.468Z"
   },
   {
    "duration": 4,
    "start_time": "2023-06-12T05:56:04.490Z"
   },
   {
    "duration": 21,
    "start_time": "2023-06-12T05:56:04.495Z"
   },
   {
    "duration": 4,
    "start_time": "2023-06-12T05:56:04.519Z"
   },
   {
    "duration": 40,
    "start_time": "2023-06-12T05:56:04.524Z"
   },
   {
    "duration": 7,
    "start_time": "2023-06-12T05:56:04.566Z"
   },
   {
    "duration": 394,
    "start_time": "2023-06-12T05:56:04.574Z"
   },
   {
    "duration": 341,
    "start_time": "2023-06-12T05:56:04.969Z"
   },
   {
    "duration": 319,
    "start_time": "2023-06-12T05:56:05.311Z"
   },
   {
    "duration": 203,
    "start_time": "2023-06-12T05:56:05.632Z"
   },
   {
    "duration": 197,
    "start_time": "2023-06-12T05:56:05.837Z"
   },
   {
    "duration": 245,
    "start_time": "2023-06-12T05:56:06.035Z"
   },
   {
    "duration": 194,
    "start_time": "2023-06-12T05:56:06.282Z"
   },
   {
    "duration": 198,
    "start_time": "2023-06-12T05:56:06.477Z"
   },
   {
    "duration": 236,
    "start_time": "2023-06-12T05:56:06.677Z"
   },
   {
    "duration": 249,
    "start_time": "2023-06-12T05:56:06.915Z"
   },
   {
    "duration": 0,
    "start_time": "2023-06-12T05:56:07.165Z"
   },
   {
    "duration": 0,
    "start_time": "2023-06-12T05:56:07.166Z"
   },
   {
    "duration": 0,
    "start_time": "2023-06-12T05:56:07.167Z"
   },
   {
    "duration": 3,
    "start_time": "2023-06-12T06:08:53.847Z"
   },
   {
    "duration": 10,
    "start_time": "2023-06-12T06:08:54.605Z"
   },
   {
    "duration": 20,
    "start_time": "2023-06-12T07:34:49.554Z"
   },
   {
    "duration": 10,
    "start_time": "2023-06-12T07:38:28.626Z"
   },
   {
    "duration": 12,
    "start_time": "2023-06-12T07:38:36.320Z"
   },
   {
    "duration": 41,
    "start_time": "2023-06-12T07:39:25.073Z"
   },
   {
    "duration": 6,
    "start_time": "2023-06-12T07:39:49.633Z"
   },
   {
    "duration": 5,
    "start_time": "2023-06-12T07:40:58.226Z"
   },
   {
    "duration": 8,
    "start_time": "2023-06-12T07:42:00.407Z"
   },
   {
    "duration": 6,
    "start_time": "2023-06-12T07:42:09.662Z"
   },
   {
    "duration": 7,
    "start_time": "2023-06-12T07:42:17.536Z"
   },
   {
    "duration": 1972,
    "start_time": "2023-06-12T07:45:09.132Z"
   },
   {
    "duration": 1417,
    "start_time": "2023-06-12T07:45:11.106Z"
   },
   {
    "duration": 42,
    "start_time": "2023-06-12T07:45:12.525Z"
   },
   {
    "duration": 16,
    "start_time": "2023-06-12T07:45:12.569Z"
   },
   {
    "duration": 12,
    "start_time": "2023-06-12T07:45:12.587Z"
   },
   {
    "duration": 57,
    "start_time": "2023-06-12T07:45:12.601Z"
   },
   {
    "duration": 20,
    "start_time": "2023-06-12T07:45:12.660Z"
   },
   {
    "duration": 3,
    "start_time": "2023-06-12T07:45:12.682Z"
   },
   {
    "duration": 21,
    "start_time": "2023-06-12T07:45:12.687Z"
   },
   {
    "duration": 6,
    "start_time": "2023-06-12T07:45:12.710Z"
   },
   {
    "duration": 9,
    "start_time": "2023-06-12T07:45:12.717Z"
   },
   {
    "duration": 11,
    "start_time": "2023-06-12T07:45:12.758Z"
   },
   {
    "duration": 10,
    "start_time": "2023-06-12T07:45:12.771Z"
   },
   {
    "duration": 5,
    "start_time": "2023-06-12T07:45:12.784Z"
   },
   {
    "duration": 400,
    "start_time": "2023-06-12T07:45:12.790Z"
   },
   {
    "duration": 334,
    "start_time": "2023-06-12T07:45:13.192Z"
   },
   {
    "duration": 333,
    "start_time": "2023-06-12T07:45:13.528Z"
   },
   {
    "duration": 217,
    "start_time": "2023-06-12T07:45:13.863Z"
   },
   {
    "duration": 198,
    "start_time": "2023-06-12T07:45:14.081Z"
   },
   {
    "duration": 239,
    "start_time": "2023-06-12T07:45:14.281Z"
   },
   {
    "duration": 203,
    "start_time": "2023-06-12T07:45:14.522Z"
   },
   {
    "duration": 203,
    "start_time": "2023-06-12T07:45:14.727Z"
   },
   {
    "duration": 221,
    "start_time": "2023-06-12T07:45:14.931Z"
   },
   {
    "duration": 11,
    "start_time": "2023-06-12T07:45:15.157Z"
   },
   {
    "duration": 13,
    "start_time": "2023-06-12T07:45:15.170Z"
   },
   {
    "duration": 138,
    "start_time": "2023-06-12T07:45:15.185Z"
   },
   {
    "duration": 0,
    "start_time": "2023-06-12T07:45:15.324Z"
   },
   {
    "duration": 0,
    "start_time": "2023-06-12T07:45:15.326Z"
   },
   {
    "duration": 0,
    "start_time": "2023-06-12T07:45:15.327Z"
   },
   {
    "duration": 0,
    "start_time": "2023-06-12T07:45:15.328Z"
   },
   {
    "duration": 0,
    "start_time": "2023-06-12T07:45:15.329Z"
   },
   {
    "duration": 1,
    "start_time": "2023-06-12T07:45:15.330Z"
   },
   {
    "duration": 12,
    "start_time": "2023-06-12T07:46:23.293Z"
   },
   {
    "duration": 4,
    "start_time": "2023-06-12T07:46:25.663Z"
   },
   {
    "duration": 569,
    "start_time": "2023-06-12T07:46:31.974Z"
   },
   {
    "duration": 282,
    "start_time": "2023-06-12T07:46:34.331Z"
   },
   {
    "duration": 345,
    "start_time": "2023-06-12T07:46:38.017Z"
   },
   {
    "duration": 210,
    "start_time": "2023-06-12T07:46:41.466Z"
   },
   {
    "duration": 186,
    "start_time": "2023-06-12T07:46:44.184Z"
   },
   {
    "duration": 242,
    "start_time": "2023-06-12T07:46:47.298Z"
   },
   {
    "duration": 183,
    "start_time": "2023-06-12T07:46:51.332Z"
   },
   {
    "duration": 191,
    "start_time": "2023-06-12T07:46:56.226Z"
   },
   {
    "duration": 333,
    "start_time": "2023-06-12T07:46:59.432Z"
   },
   {
    "duration": 11,
    "start_time": "2023-06-12T07:47:03.491Z"
   },
   {
    "duration": 45,
    "start_time": "2023-06-12T07:47:07.223Z"
   },
   {
    "duration": 10,
    "start_time": "2023-06-12T07:47:35.873Z"
   },
   {
    "duration": 32,
    "start_time": "2023-06-12T07:47:51.119Z"
   },
   {
    "duration": 30,
    "start_time": "2023-06-12T07:47:59.886Z"
   },
   {
    "duration": 41,
    "start_time": "2023-06-12T07:49:11.095Z"
   },
   {
    "duration": 41,
    "start_time": "2023-06-12T07:52:15.009Z"
   },
   {
    "duration": 4,
    "start_time": "2023-06-12T07:54:49.034Z"
   },
   {
    "duration": 11,
    "start_time": "2023-06-12T07:55:57.322Z"
   },
   {
    "duration": 3,
    "start_time": "2023-06-12T07:56:14.589Z"
   },
   {
    "duration": 206929,
    "start_time": "2023-06-12T07:56:32.596Z"
   },
   {
    "duration": 0,
    "start_time": "2023-06-12T07:59:59.527Z"
   },
   {
    "duration": 3586,
    "start_time": "2023-06-12T08:00:12.996Z"
   },
   {
    "duration": 7409,
    "start_time": "2023-06-12T08:00:46.247Z"
   },
   {
    "duration": 12,
    "start_time": "2023-06-12T08:00:59.602Z"
   },
   {
    "duration": 11,
    "start_time": "2023-06-12T08:01:23.151Z"
   },
   {
    "duration": 3,
    "start_time": "2023-06-12T08:01:38.213Z"
   },
   {
    "duration": 151288,
    "start_time": "2023-06-12T08:02:07.988Z"
   },
   {
    "duration": 2069,
    "start_time": "2023-06-12T14:00:56.128Z"
   },
   {
    "duration": 1371,
    "start_time": "2023-06-12T14:00:58.200Z"
   },
   {
    "duration": 41,
    "start_time": "2023-06-12T14:00:59.573Z"
   },
   {
    "duration": 16,
    "start_time": "2023-06-12T14:00:59.616Z"
   },
   {
    "duration": 20,
    "start_time": "2023-06-12T14:00:59.634Z"
   },
   {
    "duration": 45,
    "start_time": "2023-06-12T14:00:59.656Z"
   },
   {
    "duration": 20,
    "start_time": "2023-06-12T14:00:59.703Z"
   },
   {
    "duration": 22,
    "start_time": "2023-06-12T14:00:59.725Z"
   },
   {
    "duration": 50,
    "start_time": "2023-06-12T14:00:59.749Z"
   },
   {
    "duration": 23,
    "start_time": "2023-06-12T14:00:59.801Z"
   },
   {
    "duration": 30,
    "start_time": "2023-06-12T14:00:59.826Z"
   },
   {
    "duration": 37,
    "start_time": "2023-06-12T14:00:59.858Z"
   },
   {
    "duration": 35,
    "start_time": "2023-06-12T14:00:59.897Z"
   },
   {
    "duration": 21,
    "start_time": "2023-06-12T14:00:59.934Z"
   },
   {
    "duration": 24,
    "start_time": "2023-06-12T14:00:59.956Z"
   },
   {
    "duration": 425,
    "start_time": "2023-06-12T14:00:59.982Z"
   },
   {
    "duration": 358,
    "start_time": "2023-06-12T14:01:00.409Z"
   },
   {
    "duration": 334,
    "start_time": "2023-06-12T14:01:00.768Z"
   },
   {
    "duration": 232,
    "start_time": "2023-06-12T14:01:01.104Z"
   },
   {
    "duration": 213,
    "start_time": "2023-06-12T14:01:01.338Z"
   },
   {
    "duration": 302,
    "start_time": "2023-06-12T14:01:01.557Z"
   },
   {
    "duration": 238,
    "start_time": "2023-06-12T14:01:01.862Z"
   },
   {
    "duration": 235,
    "start_time": "2023-06-12T14:01:02.102Z"
   },
   {
    "duration": 259,
    "start_time": "2023-06-12T14:01:02.338Z"
   },
   {
    "duration": 59,
    "start_time": "2023-06-12T14:01:02.599Z"
   },
   {
    "duration": 152502,
    "start_time": "2023-06-12T14:01:02.660Z"
   },
   {
    "duration": 4,
    "start_time": "2023-06-12T14:03:35.164Z"
   },
   {
    "duration": 4,
    "start_time": "2023-06-12T14:03:35.171Z"
   },
   {
    "duration": 118,
    "start_time": "2023-06-12T14:03:35.177Z"
   },
   {
    "duration": 1306,
    "start_time": "2023-06-12T14:15:57.670Z"
   },
   {
    "duration": 17,
    "start_time": "2023-06-12T14:16:56.842Z"
   },
   {
    "duration": 19,
    "start_time": "2023-06-12T14:19:19.868Z"
   },
   {
    "duration": 2130,
    "start_time": "2023-06-12T14:19:29.145Z"
   },
   {
    "duration": 1626,
    "start_time": "2023-06-12T14:19:31.277Z"
   },
   {
    "duration": 43,
    "start_time": "2023-06-12T14:19:32.908Z"
   },
   {
    "duration": 22,
    "start_time": "2023-06-12T14:19:32.953Z"
   },
   {
    "duration": 15,
    "start_time": "2023-06-12T14:19:32.977Z"
   },
   {
    "duration": 84,
    "start_time": "2023-06-12T14:19:32.994Z"
   },
   {
    "duration": 29,
    "start_time": "2023-06-12T14:19:33.080Z"
   },
   {
    "duration": 5,
    "start_time": "2023-06-12T14:19:33.112Z"
   },
   {
    "duration": 61,
    "start_time": "2023-06-12T14:19:33.121Z"
   },
   {
    "duration": 9,
    "start_time": "2023-06-12T14:19:33.184Z"
   },
   {
    "duration": 8,
    "start_time": "2023-06-12T14:19:33.195Z"
   },
   {
    "duration": 15,
    "start_time": "2023-06-12T14:19:33.205Z"
   },
   {
    "duration": 40,
    "start_time": "2023-06-12T14:19:33.222Z"
   },
   {
    "duration": 11,
    "start_time": "2023-06-12T14:19:33.264Z"
   },
   {
    "duration": 24,
    "start_time": "2023-06-12T14:19:33.277Z"
   },
   {
    "duration": 447,
    "start_time": "2023-06-12T14:19:33.303Z"
   },
   {
    "duration": 431,
    "start_time": "2023-06-12T14:19:33.751Z"
   },
   {
    "duration": 373,
    "start_time": "2023-06-12T14:19:34.184Z"
   },
   {
    "duration": 228,
    "start_time": "2023-06-12T14:19:34.559Z"
   },
   {
    "duration": 223,
    "start_time": "2023-06-12T14:19:34.789Z"
   },
   {
    "duration": 285,
    "start_time": "2023-06-12T14:19:35.014Z"
   },
   {
    "duration": 251,
    "start_time": "2023-06-12T14:19:35.302Z"
   },
   {
    "duration": 245,
    "start_time": "2023-06-12T14:19:35.557Z"
   },
   {
    "duration": 253,
    "start_time": "2023-06-12T14:19:35.804Z"
   },
   {
    "duration": 44,
    "start_time": "2023-06-12T14:19:36.059Z"
   },
   {
    "duration": 17,
    "start_time": "2023-06-12T14:19:36.105Z"
   },
   {
    "duration": 156045,
    "start_time": "2023-06-12T14:19:36.125Z"
   },
   {
    "duration": 21,
    "start_time": "2023-06-12T14:22:12.172Z"
   },
   {
    "duration": 5,
    "start_time": "2023-06-12T14:22:12.196Z"
   },
   {
    "duration": 7,
    "start_time": "2023-06-12T14:22:12.203Z"
   },
   {
    "duration": 22,
    "start_time": "2023-06-12T14:22:12.212Z"
   },
   {
    "duration": 1620,
    "start_time": "2023-06-12T14:22:12.236Z"
   },
   {
    "duration": 4,
    "start_time": "2023-06-12T14:24:02.789Z"
   },
   {
    "duration": 76,
    "start_time": "2023-06-12T14:25:57.120Z"
   },
   {
    "duration": 62,
    "start_time": "2023-06-12T14:27:35.156Z"
   },
   {
    "duration": 50,
    "start_time": "2023-06-12T14:33:52.376Z"
   },
   {
    "duration": 5,
    "start_time": "2023-06-12T14:34:06.187Z"
   },
   {
    "duration": 57,
    "start_time": "2023-06-12T14:34:20.681Z"
   },
   {
    "duration": 42,
    "start_time": "2023-06-12T14:36:01.590Z"
   },
   {
    "duration": 3,
    "start_time": "2023-06-12T14:36:03.052Z"
   },
   {
    "duration": 28,
    "start_time": "2023-06-12T14:36:13.957Z"
   },
   {
    "duration": 9,
    "start_time": "2023-06-12T14:36:41.182Z"
   },
   {
    "duration": 54,
    "start_time": "2023-06-12T14:50:44.109Z"
   },
   {
    "duration": 47,
    "start_time": "2023-06-12T14:51:44.009Z"
   },
   {
    "duration": 44,
    "start_time": "2023-06-12T14:51:45.154Z"
   },
   {
    "duration": 10,
    "start_time": "2023-06-12T15:12:37.176Z"
   },
   {
    "duration": 40,
    "start_time": "2023-06-12T15:12:53.609Z"
   },
   {
    "duration": 153670,
    "start_time": "2023-06-12T15:23:47.194Z"
   },
   {
    "duration": 3,
    "start_time": "2023-06-12T15:26:20.866Z"
   },
   {
    "duration": 49,
    "start_time": "2023-06-12T15:26:20.871Z"
   },
   {
    "duration": 3,
    "start_time": "2023-06-12T15:26:20.923Z"
   },
   {
    "duration": 2687,
    "start_time": "2023-06-13T11:28:16.400Z"
   },
   {
    "duration": 2804,
    "start_time": "2023-06-13T11:28:38.005Z"
   },
   {
    "duration": 2170,
    "start_time": "2023-06-13T11:28:40.813Z"
   },
   {
    "duration": 54,
    "start_time": "2023-06-13T11:28:42.985Z"
   },
   {
    "duration": 32,
    "start_time": "2023-06-13T11:28:43.041Z"
   },
   {
    "duration": 20,
    "start_time": "2023-06-13T11:28:43.076Z"
   },
   {
    "duration": 61,
    "start_time": "2023-06-13T11:28:43.098Z"
   },
   {
    "duration": 34,
    "start_time": "2023-06-13T11:28:43.162Z"
   },
   {
    "duration": 5,
    "start_time": "2023-06-13T11:28:43.199Z"
   },
   {
    "duration": 59,
    "start_time": "2023-06-13T11:28:43.206Z"
   },
   {
    "duration": 12,
    "start_time": "2023-06-13T11:28:43.269Z"
   },
   {
    "duration": 13,
    "start_time": "2023-06-13T11:28:43.284Z"
   },
   {
    "duration": 45,
    "start_time": "2023-06-13T11:28:43.299Z"
   },
   {
    "duration": 51,
    "start_time": "2023-06-13T11:28:43.347Z"
   },
   {
    "duration": 34,
    "start_time": "2023-06-13T11:28:43.404Z"
   },
   {
    "duration": 5,
    "start_time": "2023-06-13T11:28:43.440Z"
   },
   {
    "duration": 539,
    "start_time": "2023-06-13T11:28:43.447Z"
   },
   {
    "duration": 508,
    "start_time": "2023-06-13T11:28:43.995Z"
   },
   {
    "duration": 524,
    "start_time": "2023-06-13T11:28:44.506Z"
   },
   {
    "duration": 291,
    "start_time": "2023-06-13T11:28:45.033Z"
   },
   {
    "duration": 254,
    "start_time": "2023-06-13T11:28:45.327Z"
   },
   {
    "duration": 325,
    "start_time": "2023-06-13T11:28:45.584Z"
   },
   {
    "duration": 278,
    "start_time": "2023-06-13T11:28:45.912Z"
   },
   {
    "duration": 292,
    "start_time": "2023-06-13T11:28:46.192Z"
   },
   {
    "duration": 317,
    "start_time": "2023-06-13T11:28:46.487Z"
   },
   {
    "duration": 193195,
    "start_time": "2023-06-13T11:28:46.807Z"
   },
   {
    "duration": 10,
    "start_time": "2023-06-13T11:32:00.004Z"
   },
   {
    "duration": 117,
    "start_time": "2023-06-13T11:32:00.017Z"
   },
   {
    "duration": 59,
    "start_time": "2023-06-13T11:32:00.139Z"
   },
   {
    "duration": 209174,
    "start_time": "2023-06-13T11:32:00.200Z"
   },
   {
    "duration": 5,
    "start_time": "2023-06-13T11:35:29.383Z"
   },
   {
    "duration": 62,
    "start_time": "2023-06-13T11:35:29.390Z"
   },
   {
    "duration": 5,
    "start_time": "2023-06-13T11:35:29.454Z"
   },
   {
    "duration": 19,
    "start_time": "2023-06-13T11:35:29.461Z"
   },
   {
    "duration": 34,
    "start_time": "2023-06-13T11:35:29.482Z"
   },
   {
    "duration": 1888,
    "start_time": "2023-06-13T11:35:29.519Z"
   },
   {
    "duration": 2956,
    "start_time": "2023-06-13T11:37:05.828Z"
   },
   {
    "duration": 2131,
    "start_time": "2023-06-13T11:37:08.788Z"
   },
   {
    "duration": 69,
    "start_time": "2023-06-13T11:37:10.921Z"
   },
   {
    "duration": 25,
    "start_time": "2023-06-13T11:37:10.996Z"
   },
   {
    "duration": 50,
    "start_time": "2023-06-13T11:37:11.023Z"
   },
   {
    "duration": 67,
    "start_time": "2023-06-13T11:37:11.075Z"
   },
   {
    "duration": 35,
    "start_time": "2023-06-13T11:37:11.144Z"
   },
   {
    "duration": 5,
    "start_time": "2023-06-13T11:37:11.182Z"
   },
   {
    "duration": 45,
    "start_time": "2023-06-13T11:37:11.189Z"
   },
   {
    "duration": 22,
    "start_time": "2023-06-13T11:37:11.238Z"
   },
   {
    "duration": 9,
    "start_time": "2023-06-13T11:37:11.262Z"
   },
   {
    "duration": 18,
    "start_time": "2023-06-13T11:37:11.274Z"
   },
   {
    "duration": 20,
    "start_time": "2023-06-13T11:37:11.295Z"
   },
   {
    "duration": 15,
    "start_time": "2023-06-13T11:37:11.318Z"
   },
   {
    "duration": 6,
    "start_time": "2023-06-13T11:37:11.359Z"
   },
   {
    "duration": 588,
    "start_time": "2023-06-13T11:37:11.367Z"
   },
   {
    "duration": 481,
    "start_time": "2023-06-13T11:37:11.964Z"
   },
   {
    "duration": 523,
    "start_time": "2023-06-13T11:37:12.447Z"
   },
   {
    "duration": 290,
    "start_time": "2023-06-13T11:37:12.972Z"
   },
   {
    "duration": 270,
    "start_time": "2023-06-13T11:37:13.270Z"
   },
   {
    "duration": 380,
    "start_time": "2023-06-13T11:37:13.542Z"
   },
   {
    "duration": 337,
    "start_time": "2023-06-13T11:37:13.925Z"
   },
   {
    "duration": 437,
    "start_time": "2023-06-13T11:37:14.264Z"
   },
   {
    "duration": 402,
    "start_time": "2023-06-13T11:37:14.704Z"
   },
   {
    "duration": 714315,
    "start_time": "2023-06-13T11:37:15.109Z"
   },
   {
    "duration": 0,
    "start_time": "2023-06-13T11:49:09.426Z"
   },
   {
    "duration": 0,
    "start_time": "2023-06-13T11:49:09.428Z"
   },
   {
    "duration": 0,
    "start_time": "2023-06-13T11:49:09.430Z"
   },
   {
    "duration": 0,
    "start_time": "2023-06-13T11:49:09.431Z"
   },
   {
    "duration": 0,
    "start_time": "2023-06-13T11:49:09.433Z"
   },
   {
    "duration": 0,
    "start_time": "2023-06-13T11:49:09.434Z"
   },
   {
    "duration": 0,
    "start_time": "2023-06-13T11:49:09.436Z"
   },
   {
    "duration": 0,
    "start_time": "2023-06-13T11:49:09.437Z"
   },
   {
    "duration": 0,
    "start_time": "2023-06-13T11:49:09.438Z"
   },
   {
    "duration": 0,
    "start_time": "2023-06-13T11:49:09.439Z"
   },
   {
    "duration": 9176,
    "start_time": "2023-06-13T11:49:11.983Z"
   },
   {
    "duration": 12,
    "start_time": "2023-06-13T11:51:08.054Z"
   },
   {
    "duration": 14,
    "start_time": "2023-06-13T11:51:27.151Z"
   },
   {
    "duration": 6,
    "start_time": "2023-06-13T11:53:55.988Z"
   },
   {
    "duration": 15,
    "start_time": "2023-06-13T11:53:57.198Z"
   },
   {
    "duration": 6,
    "start_time": "2023-06-13T11:54:31.766Z"
   },
   {
    "duration": 50,
    "start_time": "2023-06-13T11:54:37.408Z"
   },
   {
    "duration": 1368,
    "start_time": "2023-06-13T11:54:50.511Z"
   },
   {
    "duration": 16,
    "start_time": "2023-06-13T11:58:37.127Z"
   },
   {
    "duration": 15,
    "start_time": "2023-06-13T11:58:42.304Z"
   },
   {
    "duration": 4,
    "start_time": "2023-06-13T11:58:46.351Z"
   },
   {
    "duration": 266682,
    "start_time": "2023-06-13T11:58:58.439Z"
   },
   {
    "duration": 242211,
    "start_time": "2023-06-13T12:03:31.448Z"
   },
   {
    "duration": 5,
    "start_time": "2023-06-13T12:07:37.631Z"
   },
   {
    "duration": 3,
    "start_time": "2023-06-13T12:08:07.708Z"
   },
   {
    "duration": 5,
    "start_time": "2023-06-13T12:08:34.177Z"
   },
   {
    "duration": 168438,
    "start_time": "2023-06-13T12:08:36.166Z"
   },
   {
    "duration": 24,
    "start_time": "2023-06-13T12:11:56.550Z"
   },
   {
    "duration": 28,
    "start_time": "2023-06-13T12:12:06.658Z"
   },
   {
    "duration": 12,
    "start_time": "2023-06-13T12:14:57.696Z"
   },
   {
    "duration": 21,
    "start_time": "2023-06-13T12:15:04.453Z"
   },
   {
    "duration": 5,
    "start_time": "2023-06-13T12:15:11.346Z"
   },
   {
    "duration": 17,
    "start_time": "2023-06-13T12:17:07.037Z"
   },
   {
    "duration": 9,
    "start_time": "2023-06-13T12:17:27.311Z"
   },
   {
    "duration": 12,
    "start_time": "2023-06-13T12:17:33.383Z"
   },
   {
    "duration": 20,
    "start_time": "2023-06-13T12:17:40.403Z"
   },
   {
    "duration": 99,
    "start_time": "2023-06-13T12:19:01.255Z"
   },
   {
    "duration": 51,
    "start_time": "2023-06-13T12:19:10.956Z"
   },
   {
    "duration": 9,
    "start_time": "2023-06-13T12:19:56.144Z"
   },
   {
    "duration": 17,
    "start_time": "2023-06-13T12:20:49.034Z"
   },
   {
    "duration": 30,
    "start_time": "2023-06-13T12:20:52.636Z"
   },
   {
    "duration": 75,
    "start_time": "2023-06-13T12:24:56.115Z"
   },
   {
    "duration": 45,
    "start_time": "2023-06-13T12:25:03.723Z"
   },
   {
    "duration": 4,
    "start_time": "2023-06-13T12:25:16.440Z"
   },
   {
    "duration": 26,
    "start_time": "2023-06-13T12:25:24.905Z"
   },
   {
    "duration": 1076,
    "start_time": "2023-06-13T12:25:44.816Z"
   },
   {
    "duration": 1114,
    "start_time": "2023-06-13T12:25:51.806Z"
   },
   {
    "duration": 51,
    "start_time": "2023-06-13T12:25:55.102Z"
   },
   {
    "duration": 39,
    "start_time": "2023-06-13T12:27:30.502Z"
   },
   {
    "duration": 51,
    "start_time": "2023-06-13T12:27:41.827Z"
   },
   {
    "duration": 59,
    "start_time": "2023-06-13T12:27:47.450Z"
   },
   {
    "duration": 83,
    "start_time": "2023-06-13T12:27:51.449Z"
   },
   {
    "duration": 6,
    "start_time": "2023-06-13T12:27:53.108Z"
   },
   {
    "duration": 73,
    "start_time": "2023-06-13T12:28:01.607Z"
   },
   {
    "duration": 23,
    "start_time": "2023-06-13T12:28:15.131Z"
   },
   {
    "duration": 1163,
    "start_time": "2023-06-13T12:29:28.152Z"
   },
   {
    "duration": 37,
    "start_time": "2023-06-13T12:29:33.935Z"
   },
   {
    "duration": 61,
    "start_time": "2023-06-13T12:29:38.523Z"
   },
   {
    "duration": 16,
    "start_time": "2023-06-13T12:29:41.611Z"
   },
   {
    "duration": 5,
    "start_time": "2023-06-13T12:30:08.808Z"
   },
   {
    "duration": 5,
    "start_time": "2023-06-13T12:30:17.806Z"
   },
   {
    "duration": 80,
    "start_time": "2023-06-13T12:30:53.263Z"
   },
   {
    "duration": 61,
    "start_time": "2023-06-13T12:31:39.185Z"
   },
   {
    "duration": 13,
    "start_time": "2023-06-13T12:31:42.757Z"
   },
   {
    "duration": 86,
    "start_time": "2023-06-13T12:31:43.603Z"
   },
   {
    "duration": 82,
    "start_time": "2023-06-13T12:31:44.510Z"
   },
   {
    "duration": 5,
    "start_time": "2023-06-13T12:33:20.450Z"
   },
   {
    "duration": 19,
    "start_time": "2023-06-13T12:34:20.106Z"
   },
   {
    "duration": 4,
    "start_time": "2023-06-13T12:34:25.644Z"
   },
   {
    "duration": 4,
    "start_time": "2023-06-13T12:34:34.431Z"
   },
   {
    "duration": 44,
    "start_time": "2023-06-13T12:34:46.499Z"
   },
   {
    "duration": 4,
    "start_time": "2023-06-13T12:35:19.010Z"
   },
   {
    "duration": 43,
    "start_time": "2023-06-13T12:35:23.490Z"
   },
   {
    "duration": 10,
    "start_time": "2023-06-13T12:37:30.437Z"
   },
   {
    "duration": 4,
    "start_time": "2023-06-13T13:06:21.224Z"
   },
   {
    "duration": 3,
    "start_time": "2023-06-13T13:06:22.245Z"
   },
   {
    "duration": 3,
    "start_time": "2023-06-13T13:06:29.492Z"
   },
   {
    "duration": 160850,
    "start_time": "2023-06-13T13:06:31.148Z"
   },
   {
    "duration": 11,
    "start_time": "2023-06-13T13:10:47.286Z"
   },
   {
    "duration": 4,
    "start_time": "2023-06-13T13:11:12.800Z"
   },
   {
    "duration": 299,
    "start_time": "2023-06-13T13:12:35.651Z"
   },
   {
    "duration": 2663,
    "start_time": "2023-06-13T13:14:31.815Z"
   },
   {
    "duration": 1885,
    "start_time": "2023-06-13T13:14:34.481Z"
   },
   {
    "duration": 442,
    "start_time": "2023-06-13T13:14:36.375Z"
   },
   {
    "duration": 21,
    "start_time": "2023-06-13T13:14:36.819Z"
   },
   {
    "duration": 22,
    "start_time": "2023-06-13T13:14:36.843Z"
   },
   {
    "duration": 58,
    "start_time": "2023-06-13T13:14:36.874Z"
   },
   {
    "duration": 56,
    "start_time": "2023-06-13T13:14:36.935Z"
   },
   {
    "duration": 8,
    "start_time": "2023-06-13T13:14:36.994Z"
   },
   {
    "duration": 27,
    "start_time": "2023-06-13T13:14:37.012Z"
   },
   {
    "duration": 8,
    "start_time": "2023-06-13T13:14:37.042Z"
   },
   {
    "duration": 23,
    "start_time": "2023-06-13T13:14:37.051Z"
   },
   {
    "duration": 18,
    "start_time": "2023-06-13T13:14:37.083Z"
   },
   {
    "duration": 15,
    "start_time": "2023-06-13T13:14:37.103Z"
   },
   {
    "duration": 13,
    "start_time": "2023-06-13T13:14:37.123Z"
   },
   {
    "duration": 21,
    "start_time": "2023-06-13T13:14:37.138Z"
   },
   {
    "duration": 19,
    "start_time": "2023-06-13T13:14:37.169Z"
   },
   {
    "duration": 1855,
    "start_time": "2023-06-13T13:14:37.190Z"
   },
   {
    "duration": 0,
    "start_time": "2023-06-13T13:14:39.047Z"
   },
   {
    "duration": 0,
    "start_time": "2023-06-13T13:14:39.049Z"
   },
   {
    "duration": 0,
    "start_time": "2023-06-13T13:14:39.050Z"
   },
   {
    "duration": 0,
    "start_time": "2023-06-13T13:14:39.051Z"
   },
   {
    "duration": 0,
    "start_time": "2023-06-13T13:14:39.052Z"
   },
   {
    "duration": 0,
    "start_time": "2023-06-13T13:14:39.053Z"
   },
   {
    "duration": 0,
    "start_time": "2023-06-13T13:14:39.055Z"
   },
   {
    "duration": 0,
    "start_time": "2023-06-13T13:14:39.056Z"
   },
   {
    "duration": 0,
    "start_time": "2023-06-13T13:14:39.063Z"
   },
   {
    "duration": 0,
    "start_time": "2023-06-13T13:14:39.064Z"
   },
   {
    "duration": 0,
    "start_time": "2023-06-13T13:14:39.066Z"
   },
   {
    "duration": 0,
    "start_time": "2023-06-13T13:14:39.067Z"
   },
   {
    "duration": 0,
    "start_time": "2023-06-13T13:14:39.069Z"
   },
   {
    "duration": 0,
    "start_time": "2023-06-13T13:14:39.070Z"
   },
   {
    "duration": 0,
    "start_time": "2023-06-13T13:14:39.071Z"
   },
   {
    "duration": 0,
    "start_time": "2023-06-13T13:14:39.071Z"
   },
   {
    "duration": 0,
    "start_time": "2023-06-13T13:14:39.073Z"
   },
   {
    "duration": 0,
    "start_time": "2023-06-13T13:14:39.074Z"
   },
   {
    "duration": 0,
    "start_time": "2023-06-13T13:14:39.075Z"
   },
   {
    "duration": 0,
    "start_time": "2023-06-13T13:14:39.076Z"
   },
   {
    "duration": 0,
    "start_time": "2023-06-13T13:14:39.078Z"
   },
   {
    "duration": 0,
    "start_time": "2023-06-13T13:14:39.079Z"
   },
   {
    "duration": 0,
    "start_time": "2023-06-13T13:14:39.080Z"
   },
   {
    "duration": 0,
    "start_time": "2023-06-13T13:14:39.082Z"
   },
   {
    "duration": 0,
    "start_time": "2023-06-13T13:14:39.083Z"
   },
   {
    "duration": 0,
    "start_time": "2023-06-13T13:14:39.084Z"
   },
   {
    "duration": 0,
    "start_time": "2023-06-13T13:14:39.086Z"
   },
   {
    "duration": 0,
    "start_time": "2023-06-13T13:14:39.087Z"
   },
   {
    "duration": 0,
    "start_time": "2023-06-13T13:14:39.088Z"
   },
   {
    "duration": 0,
    "start_time": "2023-06-13T13:14:39.090Z"
   },
   {
    "duration": 0,
    "start_time": "2023-06-13T13:14:39.091Z"
   },
   {
    "duration": 0,
    "start_time": "2023-06-13T13:14:39.092Z"
   },
   {
    "duration": 0,
    "start_time": "2023-06-13T13:14:39.094Z"
   },
   {
    "duration": 12,
    "start_time": "2023-06-13T13:17:00.938Z"
   },
   {
    "duration": 2450,
    "start_time": "2023-06-13T13:17:13.490Z"
   },
   {
    "duration": 1558,
    "start_time": "2023-06-13T13:17:15.942Z"
   },
   {
    "duration": 42,
    "start_time": "2023-06-13T13:17:17.502Z"
   },
   {
    "duration": 25,
    "start_time": "2023-06-13T13:17:17.546Z"
   },
   {
    "duration": 14,
    "start_time": "2023-06-13T13:17:17.574Z"
   },
   {
    "duration": 44,
    "start_time": "2023-06-13T13:17:17.590Z"
   },
   {
    "duration": 44,
    "start_time": "2023-06-13T13:17:17.636Z"
   },
   {
    "duration": 37,
    "start_time": "2023-06-13T13:17:17.681Z"
   },
   {
    "duration": 32,
    "start_time": "2023-06-13T13:17:17.720Z"
   },
   {
    "duration": 9,
    "start_time": "2023-06-13T13:17:17.755Z"
   },
   {
    "duration": 12,
    "start_time": "2023-06-13T13:17:17.766Z"
   },
   {
    "duration": 41,
    "start_time": "2023-06-13T13:17:17.781Z"
   },
   {
    "duration": 16,
    "start_time": "2023-06-13T13:17:17.823Z"
   },
   {
    "duration": 16,
    "start_time": "2023-06-13T13:17:17.843Z"
   },
   {
    "duration": 7,
    "start_time": "2023-06-13T13:17:17.864Z"
   },
   {
    "duration": 11,
    "start_time": "2023-06-13T13:17:17.877Z"
   },
   {
    "duration": 451,
    "start_time": "2023-06-13T13:17:17.890Z"
   },
   {
    "duration": 380,
    "start_time": "2023-06-13T13:17:18.343Z"
   },
   {
    "duration": 368,
    "start_time": "2023-06-13T13:17:18.724Z"
   },
   {
    "duration": 223,
    "start_time": "2023-06-13T13:17:19.094Z"
   },
   {
    "duration": 227,
    "start_time": "2023-06-13T13:17:19.319Z"
   },
   {
    "duration": 287,
    "start_time": "2023-06-13T13:17:19.547Z"
   },
   {
    "duration": 230,
    "start_time": "2023-06-13T13:17:19.836Z"
   },
   {
    "duration": 216,
    "start_time": "2023-06-13T13:17:20.072Z"
   },
   {
    "duration": 247,
    "start_time": "2023-06-13T13:17:20.290Z"
   },
   {
    "duration": 3,
    "start_time": "2023-06-13T13:17:20.539Z"
   },
   {
    "duration": 18532,
    "start_time": "2023-06-13T13:17:20.544Z"
   },
   {
    "duration": 0,
    "start_time": "2023-06-13T13:17:39.078Z"
   },
   {
    "duration": 0,
    "start_time": "2023-06-13T13:17:39.079Z"
   },
   {
    "duration": 0,
    "start_time": "2023-06-13T13:17:39.080Z"
   },
   {
    "duration": 0,
    "start_time": "2023-06-13T13:17:39.082Z"
   },
   {
    "duration": 0,
    "start_time": "2023-06-13T13:17:39.083Z"
   },
   {
    "duration": 0,
    "start_time": "2023-06-13T13:17:39.084Z"
   },
   {
    "duration": 0,
    "start_time": "2023-06-13T13:17:39.087Z"
   },
   {
    "duration": 0,
    "start_time": "2023-06-13T13:17:39.088Z"
   },
   {
    "duration": 0,
    "start_time": "2023-06-13T13:17:39.090Z"
   },
   {
    "duration": 0,
    "start_time": "2023-06-13T13:17:39.093Z"
   },
   {
    "duration": 0,
    "start_time": "2023-06-13T13:17:39.095Z"
   },
   {
    "duration": 0,
    "start_time": "2023-06-13T13:17:39.096Z"
   },
   {
    "duration": 0,
    "start_time": "2023-06-13T13:17:39.099Z"
   },
   {
    "duration": 0,
    "start_time": "2023-06-13T13:17:39.101Z"
   },
   {
    "duration": 0,
    "start_time": "2023-06-13T13:17:39.102Z"
   },
   {
    "duration": 0,
    "start_time": "2023-06-13T13:17:39.103Z"
   },
   {
    "duration": 0,
    "start_time": "2023-06-13T13:17:39.105Z"
   },
   {
    "duration": 0,
    "start_time": "2023-06-13T13:17:39.106Z"
   },
   {
    "duration": 0,
    "start_time": "2023-06-13T13:17:39.107Z"
   },
   {
    "duration": 0,
    "start_time": "2023-06-13T13:17:39.108Z"
   },
   {
    "duration": 0,
    "start_time": "2023-06-13T13:17:39.158Z"
   },
   {
    "duration": 0,
    "start_time": "2023-06-13T13:17:39.159Z"
   },
   {
    "duration": 4,
    "start_time": "2023-06-13T13:18:38.872Z"
   },
   {
    "duration": 3,
    "start_time": "2023-06-13T13:18:40.394Z"
   },
   {
    "duration": 4,
    "start_time": "2023-06-13T13:18:42.491Z"
   },
   {
    "duration": 7,
    "start_time": "2023-06-13T13:23:34.455Z"
   },
   {
    "duration": 5,
    "start_time": "2023-06-13T13:24:47.161Z"
   },
   {
    "duration": 3,
    "start_time": "2023-06-13T13:24:59.436Z"
   },
   {
    "duration": 4,
    "start_time": "2023-06-13T13:25:00.830Z"
   },
   {
    "duration": 92999,
    "start_time": "2023-06-13T13:25:35.745Z"
   },
   {
    "duration": 4,
    "start_time": "2023-06-13T13:27:15.595Z"
   },
   {
    "duration": 101903,
    "start_time": "2023-06-13T13:27:16.321Z"
   },
   {
    "duration": 23,
    "start_time": "2023-06-13T13:29:10.549Z"
   },
   {
    "duration": 6,
    "start_time": "2023-06-13T13:29:18.481Z"
   },
   {
    "duration": 16,
    "start_time": "2023-06-13T13:29:32.291Z"
   },
   {
    "duration": 251,
    "start_time": "2023-06-13T13:39:58.748Z"
   },
   {
    "duration": 4966,
    "start_time": "2023-06-13T15:11:49.208Z"
   },
   {
    "duration": 1800,
    "start_time": "2023-06-13T15:11:54.177Z"
   },
   {
    "duration": 186,
    "start_time": "2023-06-13T15:11:55.979Z"
   },
   {
    "duration": 18,
    "start_time": "2023-06-13T15:11:56.167Z"
   },
   {
    "duration": 16,
    "start_time": "2023-06-13T15:11:56.187Z"
   },
   {
    "duration": 48,
    "start_time": "2023-06-13T15:11:56.205Z"
   },
   {
    "duration": 24,
    "start_time": "2023-06-13T15:11:56.255Z"
   },
   {
    "duration": 4,
    "start_time": "2023-06-13T15:11:56.280Z"
   },
   {
    "duration": 57,
    "start_time": "2023-06-13T15:11:56.286Z"
   },
   {
    "duration": 6,
    "start_time": "2023-06-13T15:11:56.346Z"
   },
   {
    "duration": 12,
    "start_time": "2023-06-13T15:11:56.353Z"
   },
   {
    "duration": 16,
    "start_time": "2023-06-13T15:11:56.366Z"
   },
   {
    "duration": 13,
    "start_time": "2023-06-13T15:11:56.384Z"
   },
   {
    "duration": 33,
    "start_time": "2023-06-13T15:11:56.399Z"
   },
   {
    "duration": 4,
    "start_time": "2023-06-13T15:11:56.438Z"
   },
   {
    "duration": 17,
    "start_time": "2023-06-13T15:11:56.444Z"
   },
   {
    "duration": 467,
    "start_time": "2023-06-13T15:11:56.463Z"
   },
   {
    "duration": 372,
    "start_time": "2023-06-13T15:11:56.938Z"
   },
   {
    "duration": 394,
    "start_time": "2023-06-13T15:11:57.312Z"
   },
   {
    "duration": 240,
    "start_time": "2023-06-13T15:11:57.708Z"
   },
   {
    "duration": 232,
    "start_time": "2023-06-13T15:11:57.951Z"
   },
   {
    "duration": 284,
    "start_time": "2023-06-13T15:11:58.185Z"
   },
   {
    "duration": 225,
    "start_time": "2023-06-13T15:11:58.471Z"
   },
   {
    "duration": 240,
    "start_time": "2023-06-13T15:11:58.698Z"
   },
   {
    "duration": 275,
    "start_time": "2023-06-13T15:11:58.943Z"
   },
   {
    "duration": 17,
    "start_time": "2023-06-13T15:11:59.220Z"
   },
   {
    "duration": 57,
    "start_time": "2023-06-13T15:11:59.239Z"
   },
   {
    "duration": 51,
    "start_time": "2023-06-13T15:11:59.301Z"
   },
   {
    "duration": 33,
    "start_time": "2023-06-13T15:11:59.354Z"
   },
   {
    "duration": 14,
    "start_time": "2023-06-13T15:11:59.389Z"
   },
   {
    "duration": 107159,
    "start_time": "2023-06-13T15:11:59.405Z"
   },
   {
    "duration": 4,
    "start_time": "2023-06-13T15:13:46.566Z"
   },
   {
    "duration": 27,
    "start_time": "2023-06-13T15:13:46.572Z"
   },
   {
    "duration": 297,
    "start_time": "2023-06-13T15:13:46.601Z"
   },
   {
    "duration": 282,
    "start_time": "2023-06-13T15:13:46.900Z"
   },
   {
    "duration": 970,
    "start_time": "2023-06-13T15:13:47.184Z"
   },
   {
    "duration": 53,
    "start_time": "2023-06-13T15:13:48.156Z"
   },
   {
    "duration": 20,
    "start_time": "2023-06-13T15:13:48.211Z"
   },
   {
    "duration": 62,
    "start_time": "2023-06-13T15:13:48.237Z"
   },
   {
    "duration": 67,
    "start_time": "2023-06-13T15:13:48.302Z"
   },
   {
    "duration": 4,
    "start_time": "2023-06-13T15:13:48.371Z"
   },
   {
    "duration": 11,
    "start_time": "2023-06-13T15:13:48.377Z"
   },
   {
    "duration": 9,
    "start_time": "2023-06-13T15:13:48.391Z"
   },
   {
    "duration": 62071,
    "start_time": "2023-06-13T15:13:48.403Z"
   },
   {
    "duration": 0,
    "start_time": "2023-06-13T15:14:50.476Z"
   },
   {
    "duration": 0,
    "start_time": "2023-06-13T15:14:50.478Z"
   },
   {
    "duration": 0,
    "start_time": "2023-06-13T15:14:50.479Z"
   },
   {
    "duration": 0,
    "start_time": "2023-06-13T15:14:50.480Z"
   },
   {
    "duration": 0,
    "start_time": "2023-06-13T15:14:50.481Z"
   },
   {
    "duration": 0,
    "start_time": "2023-06-13T15:14:50.482Z"
   },
   {
    "duration": 112365,
    "start_time": "2023-06-13T15:15:07.210Z"
   },
   {
    "duration": 5,
    "start_time": "2023-06-13T15:26:22.063Z"
   },
   {
    "duration": 265,
    "start_time": "2023-06-13T15:26:23.177Z"
   },
   {
    "duration": 3,
    "start_time": "2023-06-13T15:26:24.316Z"
   },
   {
    "duration": 5,
    "start_time": "2023-06-13T15:26:48.317Z"
   },
   {
    "duration": 164489,
    "start_time": "2023-06-13T15:26:48.783Z"
   },
   {
    "duration": 4,
    "start_time": "2023-06-13T15:29:33.274Z"
   },
   {
    "duration": 6,
    "start_time": "2023-06-13T15:34:44.990Z"
   },
   {
    "duration": 292,
    "start_time": "2023-06-13T15:34:54.918Z"
   },
   {
    "duration": 272,
    "start_time": "2023-06-13T15:34:56.543Z"
   },
   {
    "duration": 997,
    "start_time": "2023-06-13T15:34:59.954Z"
   },
   {
    "duration": 55,
    "start_time": "2023-06-13T15:35:07.904Z"
   },
   {
    "duration": 5,
    "start_time": "2023-06-13T15:36:08.620Z"
   },
   {
    "duration": 356466,
    "start_time": "2023-06-13T15:36:10.892Z"
   },
   {
    "duration": 12,
    "start_time": "2023-06-13T15:42:07.364Z"
   },
   {
    "duration": 690,
    "start_time": "2023-06-13T16:23:17.942Z"
   },
   {
    "duration": 625,
    "start_time": "2023-06-13T16:23:31.170Z"
   },
   {
    "duration": 496,
    "start_time": "2023-06-13T16:24:04.559Z"
   },
   {
    "duration": 4,
    "start_time": "2023-06-13T16:26:24.182Z"
   },
   {
    "duration": 16,
    "start_time": "2023-06-13T16:26:28.258Z"
   },
   {
    "duration": 3,
    "start_time": "2023-06-13T16:26:41.118Z"
   },
   {
    "duration": 10112,
    "start_time": "2023-06-13T16:26:55.803Z"
   },
   {
    "duration": 4,
    "start_time": "2023-06-13T16:27:09.500Z"
   },
   {
    "duration": 109288,
    "start_time": "2023-06-13T16:27:15.530Z"
   },
   {
    "duration": 7,
    "start_time": "2023-06-13T16:29:04.826Z"
   },
   {
    "duration": 552,
    "start_time": "2023-06-13T16:32:00.186Z"
   },
   {
    "duration": 1423,
    "start_time": "2023-06-13T16:32:28.389Z"
   },
   {
    "duration": 4,
    "start_time": "2023-06-13T16:33:06.942Z"
   },
   {
    "duration": 3,
    "start_time": "2023-06-13T16:33:10.088Z"
   },
   {
    "duration": 28,
    "start_time": "2023-06-13T16:33:12.983Z"
   },
   {
    "duration": 3,
    "start_time": "2023-06-13T16:34:08.114Z"
   },
   {
    "duration": 3,
    "start_time": "2023-06-13T16:34:08.713Z"
   },
   {
    "duration": 3,
    "start_time": "2023-06-13T16:34:10.748Z"
   },
   {
    "duration": 106224,
    "start_time": "2023-06-13T16:34:11.667Z"
   },
   {
    "duration": 16,
    "start_time": "2023-06-13T16:46:06.733Z"
   },
   {
    "duration": 13,
    "start_time": "2023-06-13T16:46:40.594Z"
   },
   {
    "duration": 5,
    "start_time": "2023-06-13T16:47:49.608Z"
   },
   {
    "duration": 4,
    "start_time": "2023-06-13T16:47:58.137Z"
   },
   {
    "duration": 4,
    "start_time": "2023-06-13T16:48:13.311Z"
   },
   {
    "duration": 67256,
    "start_time": "2023-06-13T16:48:16.754Z"
   },
   {
    "duration": 0,
    "start_time": "2023-06-13T16:49:24.013Z"
   },
   {
    "duration": 0,
    "start_time": "2023-06-13T16:49:24.025Z"
   },
   {
    "duration": 0,
    "start_time": "2023-06-13T16:49:24.026Z"
   },
   {
    "duration": 0,
    "start_time": "2023-06-13T16:49:24.029Z"
   },
   {
    "duration": 11,
    "start_time": "2023-06-13T16:49:25.910Z"
   },
   {
    "duration": 333744,
    "start_time": "2023-06-13T16:49:28.664Z"
   },
   {
    "duration": 4,
    "start_time": "2023-06-13T16:55:02.410Z"
   },
   {
    "duration": 486,
    "start_time": "2023-06-13T16:55:02.426Z"
   },
   {
    "duration": 11,
    "start_time": "2023-06-13T16:55:02.915Z"
   },
   {
    "duration": 6842,
    "start_time": "2023-06-13T16:55:02.927Z"
   },
   {
    "duration": 0,
    "start_time": "2023-06-13T16:55:09.772Z"
   },
   {
    "duration": 0,
    "start_time": "2023-06-13T16:55:09.773Z"
   },
   {
    "duration": 0,
    "start_time": "2023-06-13T16:55:09.778Z"
   },
   {
    "duration": 5,
    "start_time": "2023-06-13T16:55:24.555Z"
   },
   {
    "duration": 5,
    "start_time": "2023-06-13T16:55:28.208Z"
   },
   {
    "duration": 4,
    "start_time": "2023-06-13T16:56:30.891Z"
   },
   {
    "duration": 4,
    "start_time": "2023-06-13T16:56:31.787Z"
   },
   {
    "duration": 3,
    "start_time": "2023-06-13T16:56:32.883Z"
   },
   {
    "duration": 6686,
    "start_time": "2023-06-13T16:56:39.631Z"
   },
   {
    "duration": 2458,
    "start_time": "2023-06-13T16:58:34.538Z"
   },
   {
    "duration": 1679,
    "start_time": "2023-06-13T16:58:36.998Z"
   },
   {
    "duration": 174,
    "start_time": "2023-06-13T16:58:38.678Z"
   },
   {
    "duration": 23,
    "start_time": "2023-06-13T16:58:38.855Z"
   },
   {
    "duration": 15,
    "start_time": "2023-06-13T16:58:38.880Z"
   },
   {
    "duration": 65,
    "start_time": "2023-06-13T16:58:38.897Z"
   },
   {
    "duration": 37,
    "start_time": "2023-06-13T16:58:38.964Z"
   },
   {
    "duration": 21,
    "start_time": "2023-06-13T16:58:39.004Z"
   },
   {
    "duration": 33,
    "start_time": "2023-06-13T16:58:39.027Z"
   },
   {
    "duration": 9,
    "start_time": "2023-06-13T16:58:39.064Z"
   },
   {
    "duration": 6,
    "start_time": "2023-06-13T16:58:39.075Z"
   },
   {
    "duration": 47,
    "start_time": "2023-06-13T16:58:39.083Z"
   },
   {
    "duration": 14,
    "start_time": "2023-06-13T16:58:39.132Z"
   },
   {
    "duration": 16,
    "start_time": "2023-06-13T16:58:39.148Z"
   },
   {
    "duration": 5,
    "start_time": "2023-06-13T16:58:39.167Z"
   },
   {
    "duration": 8,
    "start_time": "2023-06-13T16:58:39.174Z"
   },
   {
    "duration": 456,
    "start_time": "2023-06-13T16:58:39.183Z"
   },
   {
    "duration": 443,
    "start_time": "2023-06-13T16:58:39.642Z"
   },
   {
    "duration": 349,
    "start_time": "2023-06-13T16:58:40.087Z"
   },
   {
    "duration": 209,
    "start_time": "2023-06-13T16:58:40.438Z"
   },
   {
    "duration": 207,
    "start_time": "2023-06-13T16:58:40.648Z"
   },
   {
    "duration": 263,
    "start_time": "2023-06-13T16:58:40.858Z"
   },
   {
    "duration": 207,
    "start_time": "2023-06-13T16:58:41.123Z"
   },
   {
    "duration": 232,
    "start_time": "2023-06-13T16:58:41.332Z"
   },
   {
    "duration": 247,
    "start_time": "2023-06-13T16:58:41.565Z"
   },
   {
    "duration": 11,
    "start_time": "2023-06-13T16:58:41.814Z"
   },
   {
    "duration": 11,
    "start_time": "2023-06-13T16:58:41.827Z"
   },
   {
    "duration": 14,
    "start_time": "2023-06-13T16:58:41.842Z"
   },
   {
    "duration": 5,
    "start_time": "2023-06-13T16:58:41.857Z"
   },
   {
    "duration": 7,
    "start_time": "2023-06-13T16:58:41.863Z"
   },
   {
    "duration": 7,
    "start_time": "2023-06-13T16:58:41.872Z"
   },
   {
    "duration": 7,
    "start_time": "2023-06-13T16:58:41.880Z"
   },
   {
    "duration": 58903,
    "start_time": "2023-06-13T16:58:41.888Z"
   },
   {
    "duration": 6,
    "start_time": "2023-06-13T16:59:40.793Z"
   },
   {
    "duration": 541,
    "start_time": "2023-06-13T16:59:40.801Z"
   },
   {
    "duration": 4,
    "start_time": "2023-06-13T16:59:41.344Z"
   },
   {
    "duration": 58731,
    "start_time": "2023-06-13T16:59:41.350Z"
   },
   {
    "duration": 4,
    "start_time": "2023-06-13T17:00:40.083Z"
   },
   {
    "duration": 556,
    "start_time": "2023-06-13T17:00:40.089Z"
   },
   {
    "duration": 4,
    "start_time": "2023-06-13T17:07:41.351Z"
   },
   {
    "duration": 2597,
    "start_time": "2023-06-13T17:07:59.423Z"
   },
   {
    "duration": 1628,
    "start_time": "2023-06-13T17:08:02.022Z"
   },
   {
    "duration": 44,
    "start_time": "2023-06-13T17:08:03.651Z"
   },
   {
    "duration": 17,
    "start_time": "2023-06-13T17:08:03.697Z"
   },
   {
    "duration": 22,
    "start_time": "2023-06-13T17:08:03.715Z"
   },
   {
    "duration": 127,
    "start_time": "2023-06-13T17:08:03.739Z"
   },
   {
    "duration": 22,
    "start_time": "2023-06-13T17:08:03.868Z"
   },
   {
    "duration": 4,
    "start_time": "2023-06-13T17:08:03.891Z"
   },
   {
    "duration": 40,
    "start_time": "2023-06-13T17:08:03.896Z"
   },
   {
    "duration": 7,
    "start_time": "2023-06-13T17:08:03.939Z"
   },
   {
    "duration": 18,
    "start_time": "2023-06-13T17:08:03.947Z"
   },
   {
    "duration": 58,
    "start_time": "2023-06-13T17:08:03.967Z"
   },
   {
    "duration": 25,
    "start_time": "2023-06-13T17:08:04.027Z"
   },
   {
    "duration": 12,
    "start_time": "2023-06-13T17:08:04.053Z"
   },
   {
    "duration": 8,
    "start_time": "2023-06-13T17:08:04.066Z"
   },
   {
    "duration": 11,
    "start_time": "2023-06-13T17:08:04.075Z"
   },
   {
    "duration": 443,
    "start_time": "2023-06-13T17:08:04.088Z"
   },
   {
    "duration": 353,
    "start_time": "2023-06-13T17:08:04.532Z"
   },
   {
    "duration": 357,
    "start_time": "2023-06-13T17:08:04.887Z"
   },
   {
    "duration": 370,
    "start_time": "2023-06-13T17:08:05.246Z"
   },
   {
    "duration": 0,
    "start_time": "2023-06-13T17:08:05.618Z"
   },
   {
    "duration": 0,
    "start_time": "2023-06-13T17:08:05.619Z"
   },
   {
    "duration": 0,
    "start_time": "2023-06-13T17:08:05.620Z"
   },
   {
    "duration": 0,
    "start_time": "2023-06-13T17:08:05.626Z"
   },
   {
    "duration": 0,
    "start_time": "2023-06-13T17:08:05.627Z"
   },
   {
    "duration": 0,
    "start_time": "2023-06-13T17:08:05.628Z"
   },
   {
    "duration": 0,
    "start_time": "2023-06-13T17:08:05.629Z"
   },
   {
    "duration": 0,
    "start_time": "2023-06-13T17:08:05.630Z"
   },
   {
    "duration": 0,
    "start_time": "2023-06-13T17:08:05.632Z"
   },
   {
    "duration": 0,
    "start_time": "2023-06-13T17:08:05.633Z"
   },
   {
    "duration": 0,
    "start_time": "2023-06-13T17:08:05.634Z"
   },
   {
    "duration": 0,
    "start_time": "2023-06-13T17:08:05.635Z"
   },
   {
    "duration": 0,
    "start_time": "2023-06-13T17:08:05.636Z"
   },
   {
    "duration": 0,
    "start_time": "2023-06-13T17:08:05.637Z"
   },
   {
    "duration": 0,
    "start_time": "2023-06-13T17:08:05.638Z"
   },
   {
    "duration": 0,
    "start_time": "2023-06-13T17:08:05.640Z"
   },
   {
    "duration": 0,
    "start_time": "2023-06-13T17:08:05.641Z"
   },
   {
    "duration": 0,
    "start_time": "2023-06-13T17:08:05.642Z"
   },
   {
    "duration": 0,
    "start_time": "2023-06-13T17:08:05.643Z"
   },
   {
    "duration": 3996,
    "start_time": "2023-06-15T11:57:33.641Z"
   },
   {
    "duration": 1604,
    "start_time": "2023-06-15T11:57:37.640Z"
   },
   {
    "duration": 80,
    "start_time": "2023-06-15T11:57:39.245Z"
   },
   {
    "duration": 15,
    "start_time": "2023-06-15T11:57:39.327Z"
   },
   {
    "duration": 18,
    "start_time": "2023-06-15T11:57:39.343Z"
   },
   {
    "duration": 41,
    "start_time": "2023-06-15T11:57:39.362Z"
   },
   {
    "duration": 48,
    "start_time": "2023-06-15T11:57:39.405Z"
   },
   {
    "duration": 66,
    "start_time": "2023-06-15T11:57:39.455Z"
   },
   {
    "duration": 59,
    "start_time": "2023-06-15T11:57:39.523Z"
   },
   {
    "duration": 7,
    "start_time": "2023-06-15T11:57:39.585Z"
   },
   {
    "duration": 41,
    "start_time": "2023-06-15T11:57:39.594Z"
   },
   {
    "duration": 29,
    "start_time": "2023-06-15T11:57:39.637Z"
   },
   {
    "duration": 30,
    "start_time": "2023-06-15T11:57:39.668Z"
   },
   {
    "duration": 11,
    "start_time": "2023-06-15T11:57:39.699Z"
   },
   {
    "duration": 16,
    "start_time": "2023-06-15T11:57:39.711Z"
   },
   {
    "duration": 15,
    "start_time": "2023-06-15T11:57:39.728Z"
   },
   {
    "duration": 393,
    "start_time": "2023-06-15T11:57:39.745Z"
   },
   {
    "duration": 332,
    "start_time": "2023-06-15T11:57:40.139Z"
   },
   {
    "duration": 310,
    "start_time": "2023-06-15T11:57:40.473Z"
   },
   {
    "duration": 199,
    "start_time": "2023-06-15T11:57:40.785Z"
   },
   {
    "duration": 195,
    "start_time": "2023-06-15T11:57:40.987Z"
   },
   {
    "duration": 220,
    "start_time": "2023-06-15T11:57:41.184Z"
   },
   {
    "duration": 186,
    "start_time": "2023-06-15T11:57:41.406Z"
   },
   {
    "duration": 196,
    "start_time": "2023-06-15T11:57:41.594Z"
   },
   {
    "duration": 211,
    "start_time": "2023-06-15T11:57:41.792Z"
   },
   {
    "duration": 4,
    "start_time": "2023-06-15T11:57:42.004Z"
   },
   {
    "duration": 17,
    "start_time": "2023-06-15T11:57:42.009Z"
   },
   {
    "duration": 7,
    "start_time": "2023-06-15T11:57:42.032Z"
   },
   {
    "duration": 26,
    "start_time": "2023-06-15T11:57:42.041Z"
   },
   {
    "duration": 16,
    "start_time": "2023-06-15T11:57:42.068Z"
   },
   {
    "duration": 11,
    "start_time": "2023-06-15T11:57:42.085Z"
   },
   {
    "duration": 21,
    "start_time": "2023-06-15T11:57:42.097Z"
   },
   {
    "duration": 53243,
    "start_time": "2023-06-15T11:57:42.120Z"
   },
   {
    "duration": 4,
    "start_time": "2023-06-15T11:58:35.365Z"
   },
   {
    "duration": 489,
    "start_time": "2023-06-15T11:58:35.371Z"
   },
   {
    "duration": 3,
    "start_time": "2023-06-15T11:58:35.861Z"
   },
   {
    "duration": 52186,
    "start_time": "2023-06-15T11:58:35.865Z"
   },
   {
    "duration": 4,
    "start_time": "2023-06-15T11:59:28.053Z"
   },
   {
    "duration": 482,
    "start_time": "2023-06-15T11:59:28.058Z"
   },
   {
    "duration": 4,
    "start_time": "2023-06-15T11:59:28.542Z"
   },
   {
    "duration": 10,
    "start_time": "2023-06-15T11:59:28.548Z"
   },
   {
    "duration": 4,
    "start_time": "2023-06-15T12:04:26.755Z"
   },
   {
    "duration": 139,
    "start_time": "2023-06-15T12:05:18.209Z"
   },
   {
    "duration": 4,
    "start_time": "2023-06-15T12:05:24.755Z"
   },
   {
    "duration": 55,
    "start_time": "2023-06-15T12:05:25.453Z"
   },
   {
    "duration": 9,
    "start_time": "2023-06-15T12:06:27.549Z"
   },
   {
    "duration": 7,
    "start_time": "2023-06-15T12:07:37.296Z"
   },
   {
    "duration": 2,
    "start_time": "2023-06-15T12:10:44.298Z"
   },
   {
    "duration": 8,
    "start_time": "2023-06-15T12:10:57.499Z"
   },
   {
    "duration": 3,
    "start_time": "2023-06-15T12:16:22.877Z"
   },
   {
    "duration": 5,
    "start_time": "2023-06-15T12:16:23.474Z"
   },
   {
    "duration": 25,
    "start_time": "2023-06-15T12:16:35.409Z"
   },
   {
    "duration": 8,
    "start_time": "2023-06-15T12:17:02.013Z"
   },
   {
    "duration": 3,
    "start_time": "2023-06-15T12:17:08.393Z"
   },
   {
    "duration": 5,
    "start_time": "2023-06-15T12:17:10.730Z"
   },
   {
    "duration": 7,
    "start_time": "2023-06-15T12:17:17.541Z"
   },
   {
    "duration": 158,
    "start_time": "2023-06-15T12:17:18.312Z"
   },
   {
    "duration": 4,
    "start_time": "2023-06-15T12:17:39.516Z"
   },
   {
    "duration": 11,
    "start_time": "2023-06-15T12:18:55.882Z"
   },
   {
    "duration": 3,
    "start_time": "2023-06-15T12:19:02.660Z"
   },
   {
    "duration": 179,
    "start_time": "2023-06-15T12:19:03.208Z"
   },
   {
    "duration": 5,
    "start_time": "2023-06-15T12:19:04.224Z"
   },
   {
    "duration": 17,
    "start_time": "2023-06-15T12:19:05.201Z"
   },
   {
    "duration": 4,
    "start_time": "2023-06-15T12:19:23.275Z"
   },
   {
    "duration": 7,
    "start_time": "2023-06-15T12:19:23.837Z"
   },
   {
    "duration": 6,
    "start_time": "2023-06-15T12:20:04.705Z"
   },
   {
    "duration": 3,
    "start_time": "2023-06-15T12:20:12.432Z"
   },
   {
    "duration": 3,
    "start_time": "2023-06-15T12:20:40.667Z"
   },
   {
    "duration": 35,
    "start_time": "2023-06-15T12:20:41.063Z"
   },
   {
    "duration": 8,
    "start_time": "2023-06-15T12:27:31.203Z"
   },
   {
    "duration": 4,
    "start_time": "2023-06-15T12:34:14.146Z"
   },
   {
    "duration": 3,
    "start_time": "2023-06-15T12:34:43.958Z"
   },
   {
    "duration": 3,
    "start_time": "2023-06-15T12:34:54.852Z"
   },
   {
    "duration": 36,
    "start_time": "2023-06-15T12:34:57.937Z"
   },
   {
    "duration": 3,
    "start_time": "2023-06-15T12:35:00.157Z"
   },
   {
    "duration": 113,
    "start_time": "2023-06-15T12:35:01.857Z"
   },
   {
    "duration": 3,
    "start_time": "2023-06-15T12:35:57.158Z"
   },
   {
    "duration": 3,
    "start_time": "2023-06-15T12:36:02.768Z"
   },
   {
    "duration": 103,
    "start_time": "2023-06-15T12:36:04.514Z"
   },
   {
    "duration": 3,
    "start_time": "2023-06-15T12:36:29.373Z"
   },
   {
    "duration": 3,
    "start_time": "2023-06-15T12:36:34.373Z"
   },
   {
    "duration": 1386,
    "start_time": "2023-06-15T12:36:36.646Z"
   },
   {
    "duration": 5,
    "start_time": "2023-06-15T12:36:40.240Z"
   },
   {
    "duration": 19,
    "start_time": "2023-06-15T12:36:42.048Z"
   },
   {
    "duration": 59901,
    "start_time": "2023-06-15T12:49:13.108Z"
   },
   {
    "duration": 57,
    "start_time": "2023-06-15T12:53:18.490Z"
   },
   {
    "duration": 73,
    "start_time": "2023-06-15T12:53:35.113Z"
   },
   {
    "duration": 67,
    "start_time": "2023-06-15T12:53:45.329Z"
   },
   {
    "duration": 5,
    "start_time": "2023-06-15T12:54:00.348Z"
   },
   {
    "duration": 21,
    "start_time": "2023-06-15T12:54:10.208Z"
   },
   {
    "duration": 58,
    "start_time": "2023-06-15T12:54:25.065Z"
   },
   {
    "duration": 61,
    "start_time": "2023-06-15T12:54:42.255Z"
   },
   {
    "duration": 67,
    "start_time": "2023-06-15T12:54:51.585Z"
   },
   {
    "duration": 18,
    "start_time": "2023-06-15T12:54:55.419Z"
   },
   {
    "duration": 22,
    "start_time": "2023-06-15T12:55:10.448Z"
   },
   {
    "duration": 523,
    "start_time": "2023-06-15T12:55:45.732Z"
   },
   {
    "duration": 482,
    "start_time": "2023-06-15T12:56:08.820Z"
   },
   {
    "duration": 584,
    "start_time": "2023-06-15T12:56:21.334Z"
   },
   {
    "duration": 509,
    "start_time": "2023-06-15T12:56:26.626Z"
   },
   {
    "duration": 496,
    "start_time": "2023-06-15T12:56:33.520Z"
   },
   {
    "duration": 20,
    "start_time": "2023-06-15T12:57:01.409Z"
   },
   {
    "duration": 5,
    "start_time": "2023-06-15T12:57:12.443Z"
   },
   {
    "duration": 2604,
    "start_time": "2023-06-15T12:57:26.466Z"
   },
   {
    "duration": 1598,
    "start_time": "2023-06-15T12:57:29.072Z"
   },
   {
    "duration": 79,
    "start_time": "2023-06-15T12:57:30.674Z"
   },
   {
    "duration": 16,
    "start_time": "2023-06-15T12:57:30.755Z"
   },
   {
    "duration": 38,
    "start_time": "2023-06-15T12:57:30.773Z"
   },
   {
    "duration": 78,
    "start_time": "2023-06-15T12:57:30.813Z"
   },
   {
    "duration": 69,
    "start_time": "2023-06-15T12:57:30.893Z"
   },
   {
    "duration": 48,
    "start_time": "2023-06-15T12:57:30.964Z"
   },
   {
    "duration": 85,
    "start_time": "2023-06-15T12:57:31.016Z"
   },
   {
    "duration": 69,
    "start_time": "2023-06-15T12:57:31.103Z"
   },
   {
    "duration": 49,
    "start_time": "2023-06-15T12:57:31.174Z"
   },
   {
    "duration": 88,
    "start_time": "2023-06-15T12:57:31.225Z"
   },
   {
    "duration": 171,
    "start_time": "2023-06-15T12:57:31.315Z"
   },
   {
    "duration": 105,
    "start_time": "2023-06-15T12:57:31.487Z"
   },
   {
    "duration": 127,
    "start_time": "2023-06-15T12:57:31.594Z"
   },
   {
    "duration": 48,
    "start_time": "2023-06-15T12:57:31.723Z"
   },
   {
    "duration": 500,
    "start_time": "2023-06-15T12:57:31.773Z"
   },
   {
    "duration": 376,
    "start_time": "2023-06-15T12:57:32.275Z"
   },
   {
    "duration": 366,
    "start_time": "2023-06-15T12:57:32.654Z"
   },
   {
    "duration": 223,
    "start_time": "2023-06-15T12:57:33.022Z"
   },
   {
    "duration": 248,
    "start_time": "2023-06-15T12:57:33.248Z"
   },
   {
    "duration": 279,
    "start_time": "2023-06-15T12:57:33.498Z"
   },
   {
    "duration": 212,
    "start_time": "2023-06-15T12:57:33.779Z"
   },
   {
    "duration": 255,
    "start_time": "2023-06-15T12:57:33.993Z"
   },
   {
    "duration": 239,
    "start_time": "2023-06-15T12:57:34.250Z"
   },
   {
    "duration": 4,
    "start_time": "2023-06-15T12:57:34.491Z"
   },
   {
    "duration": 14,
    "start_time": "2023-06-15T12:57:34.499Z"
   },
   {
    "duration": 28,
    "start_time": "2023-06-15T12:57:34.515Z"
   },
   {
    "duration": 37,
    "start_time": "2023-06-15T12:57:34.545Z"
   },
   {
    "duration": 12,
    "start_time": "2023-06-15T12:57:34.585Z"
   },
   {
    "duration": 31,
    "start_time": "2023-06-15T12:57:34.599Z"
   },
   {
    "duration": 47,
    "start_time": "2023-06-15T12:57:34.633Z"
   },
   {
    "duration": 13,
    "start_time": "2023-06-15T12:57:34.683Z"
   },
   {
    "duration": 13,
    "start_time": "2023-06-15T12:57:34.698Z"
   },
   {
    "duration": 59245,
    "start_time": "2023-06-15T12:57:34.713Z"
   },
   {
    "duration": 6,
    "start_time": "2023-06-15T12:58:33.961Z"
   },
   {
    "duration": 515,
    "start_time": "2023-06-15T12:58:33.969Z"
   },
   {
    "duration": 4,
    "start_time": "2023-06-15T12:58:34.486Z"
   },
   {
    "duration": 58324,
    "start_time": "2023-06-15T12:58:34.492Z"
   },
   {
    "duration": 4,
    "start_time": "2023-06-15T12:59:32.818Z"
   },
   {
    "duration": 514,
    "start_time": "2023-06-15T12:59:32.832Z"
   },
   {
    "duration": 4,
    "start_time": "2023-06-15T12:59:33.360Z"
   },
   {
    "duration": 217,
    "start_time": "2023-06-15T12:59:33.365Z"
   },
   {
    "duration": 4,
    "start_time": "2023-06-15T12:59:33.583Z"
   },
   {
    "duration": 126,
    "start_time": "2023-06-15T12:59:33.588Z"
   },
   {
    "duration": 3,
    "start_time": "2023-06-15T12:59:33.716Z"
   },
   {
    "duration": 16,
    "start_time": "2023-06-15T12:59:33.721Z"
   },
   {
    "duration": 1014,
    "start_time": "2023-06-15T12:59:33.739Z"
   },
   {
    "duration": 15,
    "start_time": "2023-06-15T12:59:34.838Z"
   },
   {
    "duration": 101,
    "start_time": "2023-06-15T12:59:34.861Z"
   },
   {
    "duration": 457,
    "start_time": "2023-06-15T13:00:49.945Z"
   },
   {
    "duration": 429,
    "start_time": "2023-06-15T13:01:57.190Z"
   },
   {
    "duration": 470,
    "start_time": "2023-06-15T13:02:18.112Z"
   },
   {
    "duration": 471,
    "start_time": "2023-06-15T13:02:42.337Z"
   },
   {
    "duration": 29,
    "start_time": "2023-06-15T13:03:12.078Z"
   },
   {
    "duration": 22,
    "start_time": "2023-06-15T13:03:22.969Z"
   },
   {
    "duration": 17,
    "start_time": "2023-06-15T13:05:06.133Z"
   },
   {
    "duration": 20,
    "start_time": "2023-06-15T13:05:46.094Z"
   },
   {
    "duration": 503,
    "start_time": "2023-06-15T13:07:47.502Z"
   },
   {
    "duration": 451,
    "start_time": "2023-06-15T13:08:27.649Z"
   },
   {
    "duration": 2262,
    "start_time": "2023-06-15T13:14:04.104Z"
   },
   {
    "duration": 1428,
    "start_time": "2023-06-15T13:14:06.369Z"
   },
   {
    "duration": 42,
    "start_time": "2023-06-15T13:14:07.804Z"
   },
   {
    "duration": 19,
    "start_time": "2023-06-15T13:14:07.848Z"
   },
   {
    "duration": 22,
    "start_time": "2023-06-15T13:14:07.868Z"
   },
   {
    "duration": 52,
    "start_time": "2023-06-15T13:14:07.892Z"
   },
   {
    "duration": 22,
    "start_time": "2023-06-15T13:14:07.946Z"
   },
   {
    "duration": 11,
    "start_time": "2023-06-15T13:14:07.969Z"
   },
   {
    "duration": 23,
    "start_time": "2023-06-15T13:14:07.982Z"
   },
   {
    "duration": 29,
    "start_time": "2023-06-15T13:14:08.007Z"
   },
   {
    "duration": 29,
    "start_time": "2023-06-15T13:14:08.037Z"
   },
   {
    "duration": 17,
    "start_time": "2023-06-15T13:14:08.069Z"
   },
   {
    "duration": 19,
    "start_time": "2023-06-15T13:14:08.088Z"
   },
   {
    "duration": 17,
    "start_time": "2023-06-15T13:14:08.108Z"
   },
   {
    "duration": 2,
    "start_time": "2023-06-15T13:14:08.127Z"
   },
   {
    "duration": 26,
    "start_time": "2023-06-15T13:14:08.131Z"
   },
   {
    "duration": 385,
    "start_time": "2023-06-15T13:14:08.158Z"
   },
   {
    "duration": 335,
    "start_time": "2023-06-15T13:14:08.544Z"
   },
   {
    "duration": 342,
    "start_time": "2023-06-15T13:14:08.881Z"
   },
   {
    "duration": 227,
    "start_time": "2023-06-15T13:14:09.225Z"
   },
   {
    "duration": 197,
    "start_time": "2023-06-15T13:14:09.453Z"
   },
   {
    "duration": 248,
    "start_time": "2023-06-15T13:14:09.653Z"
   },
   {
    "duration": 193,
    "start_time": "2023-06-15T13:14:09.903Z"
   },
   {
    "duration": 196,
    "start_time": "2023-06-15T13:14:10.097Z"
   },
   {
    "duration": 218,
    "start_time": "2023-06-15T13:14:10.295Z"
   },
   {
    "duration": 4,
    "start_time": "2023-06-15T13:14:10.515Z"
   },
   {
    "duration": 3,
    "start_time": "2023-06-15T13:14:10.532Z"
   },
   {
    "duration": 22,
    "start_time": "2023-06-15T13:14:10.537Z"
   },
   {
    "duration": 29,
    "start_time": "2023-06-15T13:14:10.561Z"
   },
   {
    "duration": 16,
    "start_time": "2023-06-15T13:14:10.591Z"
   },
   {
    "duration": 32,
    "start_time": "2023-06-15T13:14:10.609Z"
   },
   {
    "duration": 44,
    "start_time": "2023-06-15T13:14:10.642Z"
   },
   {
    "duration": 7,
    "start_time": "2023-06-15T13:14:10.688Z"
   },
   {
    "duration": 13,
    "start_time": "2023-06-15T13:14:10.696Z"
   },
   {
    "duration": 51909,
    "start_time": "2023-06-15T13:14:10.710Z"
   },
   {
    "duration": 11,
    "start_time": "2023-06-15T13:15:02.621Z"
   },
   {
    "duration": 473,
    "start_time": "2023-06-15T13:15:02.634Z"
   },
   {
    "duration": 3,
    "start_time": "2023-06-15T13:15:03.109Z"
   },
   {
    "duration": 52214,
    "start_time": "2023-06-15T13:15:03.115Z"
   },
   {
    "duration": 4,
    "start_time": "2023-06-15T13:15:55.332Z"
   },
   {
    "duration": 472,
    "start_time": "2023-06-15T13:15:55.337Z"
   },
   {
    "duration": 4,
    "start_time": "2023-06-15T13:15:55.811Z"
   },
   {
    "duration": 188,
    "start_time": "2023-06-15T13:15:55.816Z"
   },
   {
    "duration": 5,
    "start_time": "2023-06-15T13:15:56.006Z"
   },
   {
    "duration": 86,
    "start_time": "2023-06-15T13:15:56.013Z"
   },
   {
    "duration": 106,
    "start_time": "2023-06-15T13:15:56.101Z"
   },
   {
    "duration": 20,
    "start_time": "2023-06-15T13:15:56.209Z"
   },
   {
    "duration": 1202,
    "start_time": "2023-06-15T13:15:56.231Z"
   },
   {
    "duration": 10,
    "start_time": "2023-06-15T13:15:57.435Z"
   },
   {
    "duration": 134,
    "start_time": "2023-06-15T13:15:57.449Z"
   },
   {
    "duration": 90,
    "start_time": "2023-06-15T13:18:01.664Z"
   },
   {
    "duration": 3,
    "start_time": "2023-06-15T13:18:07.017Z"
   },
   {
    "duration": 2546,
    "start_time": "2023-06-15T13:18:42.678Z"
   },
   {
    "duration": 1485,
    "start_time": "2023-06-15T13:18:45.227Z"
   },
   {
    "duration": 42,
    "start_time": "2023-06-15T13:18:46.716Z"
   },
   {
    "duration": 22,
    "start_time": "2023-06-15T13:18:46.760Z"
   },
   {
    "duration": 15,
    "start_time": "2023-06-15T13:18:46.784Z"
   },
   {
    "duration": 51,
    "start_time": "2023-06-15T13:18:46.801Z"
   },
   {
    "duration": 22,
    "start_time": "2023-06-15T13:18:46.854Z"
   },
   {
    "duration": 10,
    "start_time": "2023-06-15T13:18:46.877Z"
   },
   {
    "duration": 42,
    "start_time": "2023-06-15T13:18:46.889Z"
   },
   {
    "duration": 7,
    "start_time": "2023-06-15T13:18:46.933Z"
   },
   {
    "duration": 11,
    "start_time": "2023-06-15T13:18:46.942Z"
   },
   {
    "duration": 26,
    "start_time": "2023-06-15T13:18:46.955Z"
   },
   {
    "duration": 20,
    "start_time": "2023-06-15T13:18:46.984Z"
   },
   {
    "duration": 26,
    "start_time": "2023-06-15T13:18:47.006Z"
   },
   {
    "duration": 3,
    "start_time": "2023-06-15T13:18:47.034Z"
   },
   {
    "duration": 29,
    "start_time": "2023-06-15T13:18:47.039Z"
   },
   {
    "duration": 408,
    "start_time": "2023-06-15T13:18:47.071Z"
   },
   {
    "duration": 357,
    "start_time": "2023-06-15T13:18:47.481Z"
   },
   {
    "duration": 323,
    "start_time": "2023-06-15T13:18:47.839Z"
   },
   {
    "duration": 206,
    "start_time": "2023-06-15T13:18:48.164Z"
   },
   {
    "duration": 203,
    "start_time": "2023-06-15T13:18:48.372Z"
   },
   {
    "duration": 242,
    "start_time": "2023-06-15T13:18:48.577Z"
   },
   {
    "duration": 181,
    "start_time": "2023-06-15T13:18:48.821Z"
   },
   {
    "duration": 205,
    "start_time": "2023-06-15T13:18:49.004Z"
   },
   {
    "duration": 228,
    "start_time": "2023-06-15T13:18:49.211Z"
   },
   {
    "duration": 3,
    "start_time": "2023-06-15T13:18:49.441Z"
   },
   {
    "duration": 37,
    "start_time": "2023-06-15T13:18:49.447Z"
   },
   {
    "duration": 20,
    "start_time": "2023-06-15T13:18:49.486Z"
   },
   {
    "duration": 12,
    "start_time": "2023-06-15T13:18:49.507Z"
   },
   {
    "duration": 19,
    "start_time": "2023-06-15T13:18:49.521Z"
   },
   {
    "duration": 14,
    "start_time": "2023-06-15T13:18:49.541Z"
   },
   {
    "duration": 12,
    "start_time": "2023-06-15T13:18:49.557Z"
   },
   {
    "duration": 12,
    "start_time": "2023-06-15T13:18:49.570Z"
   },
   {
    "duration": 11,
    "start_time": "2023-06-15T13:18:49.583Z"
   },
   {
    "duration": 143146,
    "start_time": "2023-06-15T13:18:49.596Z"
   },
   {
    "duration": 5,
    "start_time": "2023-06-15T13:21:12.743Z"
   },
   {
    "duration": 469,
    "start_time": "2023-06-15T13:21:12.750Z"
   },
   {
    "duration": 3,
    "start_time": "2023-06-15T13:21:13.220Z"
   },
   {
    "duration": 142182,
    "start_time": "2023-06-15T13:21:13.224Z"
   },
   {
    "duration": 4,
    "start_time": "2023-06-15T13:23:35.407Z"
   },
   {
    "duration": 485,
    "start_time": "2023-06-15T13:23:35.413Z"
   },
   {
    "duration": 3,
    "start_time": "2023-06-15T13:23:35.900Z"
   },
   {
    "duration": 386,
    "start_time": "2023-06-15T13:23:35.905Z"
   },
   {
    "duration": 4,
    "start_time": "2023-06-15T13:23:36.294Z"
   },
   {
    "duration": 34,
    "start_time": "2023-06-15T13:23:36.300Z"
   },
   {
    "duration": 4,
    "start_time": "2023-06-15T13:23:36.336Z"
   },
   {
    "duration": 22,
    "start_time": "2023-06-15T13:23:36.341Z"
   },
   {
    "duration": 1775,
    "start_time": "2023-06-15T13:23:36.365Z"
   },
   {
    "duration": 108,
    "start_time": "2023-06-15T13:23:38.141Z"
   },
   {
    "duration": 105,
    "start_time": "2023-06-15T13:23:38.251Z"
   },
   {
    "duration": 4,
    "start_time": "2023-06-15T13:23:38.358Z"
   },
   {
    "duration": 386,
    "start_time": "2023-06-15T13:25:58.261Z"
   },
   {
    "duration": 4,
    "start_time": "2023-06-15T13:26:03.462Z"
   },
   {
    "duration": 4,
    "start_time": "2023-06-15T13:26:41.152Z"
   },
   {
    "duration": 3,
    "start_time": "2023-06-15T13:26:55.617Z"
   },
   {
    "duration": 342,
    "start_time": "2023-06-15T13:26:56.160Z"
   },
   {
    "duration": 4,
    "start_time": "2023-06-15T13:26:58.738Z"
   },
   {
    "duration": 20,
    "start_time": "2023-06-15T13:27:00.723Z"
   },
   {
    "duration": 3,
    "start_time": "2023-06-15T13:28:05.220Z"
   },
   {
    "duration": 3,
    "start_time": "2023-06-15T13:28:10.304Z"
   },
   {
    "duration": 3240,
    "start_time": "2023-06-15T13:28:10.505Z"
   },
   {
    "duration": 5,
    "start_time": "2023-06-15T13:28:17.003Z"
   },
   {
    "duration": 3,
    "start_time": "2023-06-15T13:28:40.152Z"
   },
   {
    "duration": 3,
    "start_time": "2023-06-15T13:28:40.519Z"
   },
   {
    "duration": 1494,
    "start_time": "2023-06-15T13:28:40.944Z"
   },
   {
    "duration": 4,
    "start_time": "2023-06-15T13:28:57.823Z"
   },
   {
    "duration": 4,
    "start_time": "2023-06-15T13:28:59.179Z"
   },
   {
    "duration": 1188,
    "start_time": "2023-06-15T13:28:59.560Z"
   },
   {
    "duration": 3,
    "start_time": "2023-06-15T13:29:09.563Z"
   },
   {
    "duration": 3,
    "start_time": "2023-06-15T13:29:12.717Z"
   },
   {
    "duration": 1327,
    "start_time": "2023-06-15T13:29:12.907Z"
   },
   {
    "duration": 3,
    "start_time": "2023-06-15T13:29:23.668Z"
   },
   {
    "duration": 3,
    "start_time": "2023-06-15T13:29:34.819Z"
   },
   {
    "duration": 1812,
    "start_time": "2023-06-15T13:29:35.224Z"
   },
   {
    "duration": 4,
    "start_time": "2023-06-15T13:30:00.917Z"
   },
   {
    "duration": 3,
    "start_time": "2023-06-15T13:30:07.173Z"
   },
   {
    "duration": 1794,
    "start_time": "2023-06-15T13:30:07.738Z"
   },
   {
    "duration": 4,
    "start_time": "2023-06-15T13:30:10.368Z"
   },
   {
    "duration": 14,
    "start_time": "2023-06-15T13:30:11.339Z"
   },
   {
    "duration": 4,
    "start_time": "2023-06-15T13:30:13.173Z"
   },
   {
    "duration": 4,
    "start_time": "2023-06-15T13:38:05.139Z"
   },
   {
    "duration": 5,
    "start_time": "2023-06-15T13:38:50.905Z"
   },
   {
    "duration": 5,
    "start_time": "2023-06-15T13:39:04.721Z"
   },
   {
    "duration": 4,
    "start_time": "2023-06-15T13:40:37.127Z"
   },
   {
    "duration": 64,
    "start_time": "2023-06-15T13:40:48.221Z"
   },
   {
    "duration": 5,
    "start_time": "2023-06-15T13:40:59.204Z"
   },
   {
    "duration": 4,
    "start_time": "2023-06-15T13:41:10.175Z"
   },
   {
    "duration": 103,
    "start_time": "2023-06-15T13:42:14.289Z"
   },
   {
    "duration": 13,
    "start_time": "2023-06-15T13:42:39.013Z"
   },
   {
    "duration": 10,
    "start_time": "2023-06-15T13:42:46.887Z"
   },
   {
    "duration": 12,
    "start_time": "2023-06-15T13:42:51.072Z"
   },
   {
    "duration": 13,
    "start_time": "2023-06-15T13:43:21.613Z"
   },
   {
    "duration": 59,
    "start_time": "2023-06-15T13:43:31.722Z"
   },
   {
    "duration": 4,
    "start_time": "2023-06-15T13:43:51.892Z"
   },
   {
    "duration": 5,
    "start_time": "2023-06-15T13:44:08.052Z"
   },
   {
    "duration": 4,
    "start_time": "2023-06-15T13:46:03.445Z"
   },
   {
    "duration": 5,
    "start_time": "2023-06-15T13:46:25.732Z"
   },
   {
    "duration": 4,
    "start_time": "2023-06-15T13:46:30.847Z"
   },
   {
    "duration": 57,
    "start_time": "2023-06-15T13:46:33.509Z"
   },
   {
    "duration": 87,
    "start_time": "2023-06-15T13:47:37.701Z"
   },
   {
    "duration": 3,
    "start_time": "2023-06-15T13:48:39.161Z"
   },
   {
    "duration": 469,
    "start_time": "2023-06-15T13:50:39.671Z"
   },
   {
    "duration": 455,
    "start_time": "2023-06-15T13:52:05.927Z"
   },
   {
    "duration": 10,
    "start_time": "2023-06-15T14:11:04.497Z"
   },
   {
    "duration": 6,
    "start_time": "2023-06-15T14:12:26.198Z"
   },
   {
    "duration": 141886,
    "start_time": "2023-06-15T14:12:26.802Z"
   },
   {
    "duration": 4,
    "start_time": "2023-06-15T14:14:48.690Z"
   },
   {
    "duration": 476,
    "start_time": "2023-06-15T14:16:00.131Z"
   },
   {
    "duration": 17,
    "start_time": "2023-06-15T14:16:11.627Z"
   },
   {
    "duration": 9,
    "start_time": "2023-06-15T14:18:24.174Z"
   },
   {
    "duration": 10,
    "start_time": "2023-06-15T14:18:51.548Z"
   },
   {
    "duration": 5,
    "start_time": "2023-06-15T14:19:13.667Z"
   },
   {
    "duration": 10,
    "start_time": "2023-06-15T14:19:46.793Z"
   },
   {
    "duration": 10,
    "start_time": "2023-06-15T14:19:56.136Z"
   },
   {
    "duration": 9,
    "start_time": "2023-06-15T14:20:01.806Z"
   },
   {
    "duration": 5,
    "start_time": "2023-06-15T14:20:07.170Z"
   },
   {
    "duration": 4,
    "start_time": "2023-06-15T14:20:17.248Z"
   },
   {
    "duration": 5,
    "start_time": "2023-06-15T14:20:24.501Z"
   },
   {
    "duration": 11,
    "start_time": "2023-06-15T14:33:07.289Z"
   },
   {
    "duration": 12,
    "start_time": "2023-06-15T14:33:45.694Z"
   },
   {
    "duration": 9,
    "start_time": "2023-06-15T14:34:02.819Z"
   },
   {
    "duration": 5,
    "start_time": "2023-06-15T14:34:10.669Z"
   },
   {
    "duration": 12,
    "start_time": "2023-06-15T14:34:40.548Z"
   },
   {
    "duration": 4,
    "start_time": "2023-06-15T14:35:05.315Z"
   },
   {
    "duration": 5,
    "start_time": "2023-06-15T14:35:22.213Z"
   },
   {
    "duration": 68,
    "start_time": "2023-06-15T14:38:51.049Z"
   },
   {
    "duration": 5,
    "start_time": "2023-06-15T14:39:03.944Z"
   },
   {
    "duration": 5,
    "start_time": "2023-06-15T14:39:23.222Z"
   },
   {
    "duration": 4,
    "start_time": "2023-06-15T14:39:37.395Z"
   },
   {
    "duration": 5,
    "start_time": "2023-06-15T14:39:58.018Z"
   },
   {
    "duration": 6,
    "start_time": "2023-06-15T14:40:15.006Z"
   },
   {
    "duration": 6,
    "start_time": "2023-06-15T14:40:26.210Z"
   },
   {
    "duration": 4,
    "start_time": "2023-06-15T14:43:43.214Z"
   },
   {
    "duration": 3,
    "start_time": "2023-06-15T14:46:16.145Z"
   },
   {
    "duration": 5227,
    "start_time": "2023-06-15T14:46:16.706Z"
   },
   {
    "duration": 12,
    "start_time": "2023-06-15T14:46:32.532Z"
   },
   {
    "duration": 4,
    "start_time": "2023-06-15T14:46:43.015Z"
   },
   {
    "duration": 4889,
    "start_time": "2023-06-15T14:46:43.884Z"
   },
   {
    "duration": 14,
    "start_time": "2023-06-15T14:48:35.960Z"
   },
   {
    "duration": 10,
    "start_time": "2023-06-15T14:48:52.340Z"
   },
   {
    "duration": 3,
    "start_time": "2023-06-15T14:48:55.544Z"
   },
   {
    "duration": 4537,
    "start_time": "2023-06-15T14:48:56.306Z"
   },
   {
    "duration": 462,
    "start_time": "2023-06-15T14:49:09.837Z"
   },
   {
    "duration": 470,
    "start_time": "2023-06-15T14:54:42.718Z"
   },
   {
    "duration": 4,
    "start_time": "2023-06-15T14:55:08.032Z"
   },
   {
    "duration": 4585,
    "start_time": "2023-06-15T14:55:08.515Z"
   },
   {
    "duration": 481,
    "start_time": "2023-06-15T14:55:43.143Z"
   },
   {
    "duration": 458,
    "start_time": "2023-06-15T14:55:50.944Z"
   },
   {
    "duration": 4,
    "start_time": "2023-06-15T14:59:28.979Z"
   },
   {
    "duration": 2238,
    "start_time": "2023-06-15T15:00:59.242Z"
   },
   {
    "duration": 1606,
    "start_time": "2023-06-15T15:01:01.482Z"
   },
   {
    "duration": 57,
    "start_time": "2023-06-15T15:01:03.091Z"
   },
   {
    "duration": 30,
    "start_time": "2023-06-15T15:01:03.152Z"
   },
   {
    "duration": 23,
    "start_time": "2023-06-15T15:01:03.184Z"
   },
   {
    "duration": 76,
    "start_time": "2023-06-15T15:01:03.209Z"
   },
   {
    "duration": 22,
    "start_time": "2023-06-15T15:01:03.287Z"
   },
   {
    "duration": 5,
    "start_time": "2023-06-15T15:01:03.331Z"
   },
   {
    "duration": 49,
    "start_time": "2023-06-15T15:01:03.339Z"
   },
   {
    "duration": 8,
    "start_time": "2023-06-15T15:01:03.392Z"
   },
   {
    "duration": 15,
    "start_time": "2023-06-15T15:01:03.402Z"
   },
   {
    "duration": 34,
    "start_time": "2023-06-15T15:01:03.419Z"
   },
   {
    "duration": 25,
    "start_time": "2023-06-15T15:01:03.456Z"
   },
   {
    "duration": 57,
    "start_time": "2023-06-15T15:01:03.483Z"
   },
   {
    "duration": 86,
    "start_time": "2023-06-15T15:01:03.543Z"
   },
   {
    "duration": 57,
    "start_time": "2023-06-15T15:01:03.631Z"
   },
   {
    "duration": 420,
    "start_time": "2023-06-15T15:01:03.693Z"
   },
   {
    "duration": 347,
    "start_time": "2023-06-15T15:01:04.115Z"
   },
   {
    "duration": 381,
    "start_time": "2023-06-15T15:01:04.465Z"
   },
   {
    "duration": 280,
    "start_time": "2023-06-15T15:01:04.849Z"
   },
   {
    "duration": 213,
    "start_time": "2023-06-15T15:01:05.131Z"
   },
   {
    "duration": 250,
    "start_time": "2023-06-15T15:01:05.346Z"
   },
   {
    "duration": 201,
    "start_time": "2023-06-15T15:01:05.598Z"
   },
   {
    "duration": 208,
    "start_time": "2023-06-15T15:01:05.801Z"
   },
   {
    "duration": 317,
    "start_time": "2023-06-15T15:01:06.011Z"
   },
   {
    "duration": 8,
    "start_time": "2023-06-15T15:01:06.331Z"
   },
   {
    "duration": 34,
    "start_time": "2023-06-15T15:01:06.341Z"
   },
   {
    "duration": 22,
    "start_time": "2023-06-15T15:01:06.383Z"
   },
   {
    "duration": 25,
    "start_time": "2023-06-15T15:01:06.408Z"
   },
   {
    "duration": 16,
    "start_time": "2023-06-15T15:01:06.436Z"
   },
   {
    "duration": 15,
    "start_time": "2023-06-15T15:01:06.454Z"
   },
   {
    "duration": 44,
    "start_time": "2023-06-15T15:01:06.471Z"
   },
   {
    "duration": 35,
    "start_time": "2023-06-15T15:01:06.517Z"
   },
   {
    "duration": 35,
    "start_time": "2023-06-15T15:01:06.553Z"
   },
   {
    "duration": 150275,
    "start_time": "2023-06-15T15:01:06.589Z"
   },
   {
    "duration": 4,
    "start_time": "2023-06-15T15:03:36.866Z"
   },
   {
    "duration": 480,
    "start_time": "2023-06-15T15:03:36.871Z"
   },
   {
    "duration": 3,
    "start_time": "2023-06-15T15:03:37.352Z"
   },
   {
    "duration": 144720,
    "start_time": "2023-06-15T15:03:37.356Z"
   },
   {
    "duration": 4,
    "start_time": "2023-06-15T15:06:02.078Z"
   },
   {
    "duration": 474,
    "start_time": "2023-06-15T15:06:02.083Z"
   },
   {
    "duration": 3,
    "start_time": "2023-06-15T15:06:02.559Z"
   },
   {
    "duration": 397,
    "start_time": "2023-06-15T15:06:02.563Z"
   },
   {
    "duration": 4,
    "start_time": "2023-06-15T15:06:02.961Z"
   },
   {
    "duration": 42,
    "start_time": "2023-06-15T15:06:02.967Z"
   },
   {
    "duration": 23,
    "start_time": "2023-06-15T15:06:03.010Z"
   },
   {
    "duration": 1407,
    "start_time": "2023-06-15T15:06:03.035Z"
   },
   {
    "duration": 88,
    "start_time": "2023-06-15T15:06:04.445Z"
   },
   {
    "duration": 136,
    "start_time": "2023-06-15T15:06:04.535Z"
   },
   {
    "duration": 22,
    "start_time": "2023-06-15T15:06:04.673Z"
   },
   {
    "duration": 29,
    "start_time": "2023-06-15T15:06:04.698Z"
   },
   {
    "duration": 42,
    "start_time": "2023-06-15T15:06:04.729Z"
   },
   {
    "duration": 4602,
    "start_time": "2023-06-15T15:06:04.774Z"
   },
   {
    "duration": 469,
    "start_time": "2023-06-15T15:06:09.377Z"
   },
   {
    "duration": 479,
    "start_time": "2023-06-15T15:06:09.847Z"
   },
   {
    "duration": 471,
    "start_time": "2023-06-15T15:06:10.328Z"
   },
   {
    "duration": 79,
    "start_time": "2023-06-15T15:06:10.801Z"
   },
   {
    "duration": 0,
    "start_time": "2023-06-15T15:06:10.882Z"
   },
   {
    "duration": 5,
    "start_time": "2023-06-15T15:06:45.045Z"
   },
   {
    "duration": 3,
    "start_time": "2023-06-15T15:06:48.770Z"
   },
   {
    "duration": 135,
    "start_time": "2023-06-15T15:07:35.528Z"
   },
   {
    "duration": 5,
    "start_time": "2023-06-15T15:09:04.722Z"
   },
   {
    "duration": 307,
    "start_time": "2023-06-15T15:09:09.934Z"
   },
   {
    "duration": 17,
    "start_time": "2023-06-15T15:10:42.162Z"
   },
   {
    "duration": 297,
    "start_time": "2023-06-15T15:10:49.425Z"
   },
   {
    "duration": 131,
    "start_time": "2023-06-15T15:13:03.009Z"
   },
   {
    "duration": 120,
    "start_time": "2023-06-15T15:13:09.513Z"
   },
   {
    "duration": 5,
    "start_time": "2023-06-15T15:14:43.972Z"
   },
   {
    "duration": 184783,
    "start_time": "2023-06-15T15:14:44.606Z"
   },
   {
    "duration": 4,
    "start_time": "2023-06-15T15:19:02.069Z"
   },
   {
    "duration": 433,
    "start_time": "2023-06-15T15:19:04.043Z"
   },
   {
    "duration": 4,
    "start_time": "2023-06-15T15:24:59.759Z"
   },
   {
    "duration": 4515,
    "start_time": "2023-06-15T15:25:00.909Z"
   },
   {
    "duration": 447,
    "start_time": "2023-06-15T15:25:06.521Z"
   },
   {
    "duration": 563,
    "start_time": "2023-06-15T15:25:14.632Z"
   },
   {
    "duration": 5164,
    "start_time": "2023-06-15T15:31:43.404Z"
   },
   {
    "duration": 2286,
    "start_time": "2023-06-15T15:31:48.570Z"
   },
   {
    "duration": 84,
    "start_time": "2023-06-15T15:31:50.857Z"
   },
   {
    "duration": 18,
    "start_time": "2023-06-15T15:31:50.943Z"
   },
   {
    "duration": 36,
    "start_time": "2023-06-15T15:31:50.962Z"
   },
   {
    "duration": 46,
    "start_time": "2023-06-15T15:31:51.000Z"
   },
   {
    "duration": 21,
    "start_time": "2023-06-15T15:31:51.048Z"
   },
   {
    "duration": 9,
    "start_time": "2023-06-15T15:31:51.071Z"
   },
   {
    "duration": 33,
    "start_time": "2023-06-15T15:31:51.082Z"
   },
   {
    "duration": 9,
    "start_time": "2023-06-15T15:31:51.117Z"
   },
   {
    "duration": 8,
    "start_time": "2023-06-15T15:31:51.127Z"
   },
   {
    "duration": 25,
    "start_time": "2023-06-15T15:31:51.137Z"
   },
   {
    "duration": 28,
    "start_time": "2023-06-15T15:31:51.164Z"
   },
   {
    "duration": 11,
    "start_time": "2023-06-15T15:31:51.194Z"
   },
   {
    "duration": 4,
    "start_time": "2023-06-15T15:31:51.206Z"
   },
   {
    "duration": 15,
    "start_time": "2023-06-15T15:31:51.212Z"
   },
   {
    "duration": 447,
    "start_time": "2023-06-15T15:31:51.228Z"
   },
   {
    "duration": 356,
    "start_time": "2023-06-15T15:31:51.676Z"
   },
   {
    "duration": 367,
    "start_time": "2023-06-15T15:31:52.034Z"
   },
   {
    "duration": 230,
    "start_time": "2023-06-15T15:31:52.403Z"
   },
   {
    "duration": 227,
    "start_time": "2023-06-15T15:31:52.635Z"
   },
   {
    "duration": 272,
    "start_time": "2023-06-15T15:31:52.864Z"
   },
   {
    "duration": 215,
    "start_time": "2023-06-15T15:31:53.138Z"
   },
   {
    "duration": 250,
    "start_time": "2023-06-15T15:31:53.355Z"
   },
   {
    "duration": 252,
    "start_time": "2023-06-15T15:31:53.608Z"
   },
   {
    "duration": 3,
    "start_time": "2023-06-15T15:31:53.862Z"
   },
   {
    "duration": 43,
    "start_time": "2023-06-15T15:31:53.867Z"
   },
   {
    "duration": 5,
    "start_time": "2023-06-15T15:31:53.915Z"
   },
   {
    "duration": 13,
    "start_time": "2023-06-15T15:31:53.922Z"
   },
   {
    "duration": 24,
    "start_time": "2023-06-15T15:31:53.938Z"
   },
   {
    "duration": 15,
    "start_time": "2023-06-15T15:31:53.964Z"
   },
   {
    "duration": 13,
    "start_time": "2023-06-15T15:31:53.980Z"
   },
   {
    "duration": 8,
    "start_time": "2023-06-15T15:31:53.995Z"
   },
   {
    "duration": 5,
    "start_time": "2023-06-15T15:31:54.005Z"
   },
   {
    "duration": 159374,
    "start_time": "2023-06-15T15:31:54.012Z"
   },
   {
    "duration": 16,
    "start_time": "2023-06-15T15:34:33.388Z"
   },
   {
    "duration": 528,
    "start_time": "2023-06-15T15:34:33.405Z"
   },
   {
    "duration": 3,
    "start_time": "2023-06-15T15:34:33.935Z"
   },
   {
    "duration": 211374,
    "start_time": "2023-06-15T15:34:33.939Z"
   },
   {
    "duration": 4,
    "start_time": "2023-06-15T15:38:05.315Z"
   },
   {
    "duration": 540,
    "start_time": "2023-06-15T15:38:05.321Z"
   },
   {
    "duration": 3,
    "start_time": "2023-06-15T15:38:05.862Z"
   },
   {
    "duration": 423,
    "start_time": "2023-06-15T15:38:05.867Z"
   },
   {
    "duration": 10,
    "start_time": "2023-06-15T15:38:06.292Z"
   },
   {
    "duration": 30,
    "start_time": "2023-06-15T15:38:06.304Z"
   },
   {
    "duration": 3,
    "start_time": "2023-06-15T15:38:06.336Z"
   },
   {
    "duration": 1466,
    "start_time": "2023-06-15T15:38:06.341Z"
   },
   {
    "duration": 92,
    "start_time": "2023-06-15T15:38:07.809Z"
   },
   {
    "duration": 117,
    "start_time": "2023-06-15T15:38:07.903Z"
   },
   {
    "duration": 24,
    "start_time": "2023-06-15T15:38:08.022Z"
   },
   {
    "duration": 12,
    "start_time": "2023-06-15T15:38:08.049Z"
   },
   {
    "duration": 46,
    "start_time": "2023-06-15T15:38:08.062Z"
   },
   {
    "duration": 5150,
    "start_time": "2023-06-15T15:38:08.110Z"
   },
   {
    "duration": 535,
    "start_time": "2023-06-15T15:38:13.261Z"
   },
   {
    "duration": 538,
    "start_time": "2023-06-15T15:38:13.801Z"
   },
   {
    "duration": 534,
    "start_time": "2023-06-15T15:38:14.341Z"
   },
   {
    "duration": 4,
    "start_time": "2023-06-15T15:38:14.877Z"
   },
   {
    "duration": 20,
    "start_time": "2023-06-15T15:38:14.882Z"
   },
   {
    "duration": 149,
    "start_time": "2023-06-15T15:38:14.904Z"
   },
   {
    "duration": 57,
    "start_time": "2023-06-16T05:05:27.693Z"
   },
   {
    "duration": 46,
    "start_time": "2023-06-16T05:05:45.116Z"
   },
   {
    "duration": 9575,
    "start_time": "2023-06-16T05:11:16.566Z"
   },
   {
    "duration": 6500,
    "start_time": "2023-06-17T06:14:49.030Z"
   },
   {
    "duration": 3752,
    "start_time": "2023-06-17T06:14:55.533Z"
   },
   {
    "duration": 1414,
    "start_time": "2023-06-17T06:14:59.287Z"
   },
   {
    "duration": 80,
    "start_time": "2023-06-17T06:15:00.703Z"
   },
   {
    "duration": 56,
    "start_time": "2023-06-17T06:15:00.785Z"
   },
   {
    "duration": 45,
    "start_time": "2023-06-17T06:15:00.842Z"
   },
   {
    "duration": 22,
    "start_time": "2023-06-17T06:16:46.536Z"
   },
   {
    "duration": 6,
    "start_time": "2023-06-17T06:17:04.151Z"
   },
   {
    "duration": 21,
    "start_time": "2023-06-17T06:17:12.315Z"
   },
   {
    "duration": 7,
    "start_time": "2023-06-17T06:25:49.698Z"
   },
   {
    "duration": 57,
    "start_time": "2023-06-17T06:25:56.303Z"
   },
   {
    "duration": 109,
    "start_time": "2023-06-17T06:26:10.802Z"
   },
   {
    "duration": 10,
    "start_time": "2023-06-17T06:26:17.881Z"
   },
   {
    "duration": 12,
    "start_time": "2023-06-17T06:26:28.043Z"
   },
   {
    "duration": 6,
    "start_time": "2023-06-17T06:29:36.081Z"
   },
   {
    "duration": 13,
    "start_time": "2023-06-17T06:29:51.777Z"
   },
   {
    "duration": 13,
    "start_time": "2023-06-17T06:37:22.837Z"
   },
   {
    "duration": 5,
    "start_time": "2023-06-17T06:37:34.465Z"
   },
   {
    "duration": 12,
    "start_time": "2023-06-17T06:37:42.102Z"
   },
   {
    "duration": 13,
    "start_time": "2023-06-17T06:37:42.890Z"
   },
   {
    "duration": 12,
    "start_time": "2023-06-17T06:38:25.571Z"
   },
   {
    "duration": 12,
    "start_time": "2023-06-17T06:38:36.607Z"
   },
   {
    "duration": 13,
    "start_time": "2023-06-17T06:41:44.829Z"
   },
   {
    "duration": 13,
    "start_time": "2023-06-17T06:42:00.976Z"
   },
   {
    "duration": 14,
    "start_time": "2023-06-17T06:42:10.960Z"
   },
   {
    "duration": 7,
    "start_time": "2023-06-17T06:42:24.950Z"
   },
   {
    "duration": 17,
    "start_time": "2023-06-17T06:47:30.527Z"
   },
   {
    "duration": 5,
    "start_time": "2023-06-17T06:47:44.347Z"
   },
   {
    "duration": 7,
    "start_time": "2023-06-17T06:47:45.438Z"
   },
   {
    "duration": 40,
    "start_time": "2023-06-17T06:47:46.640Z"
   },
   {
    "duration": 399,
    "start_time": "2023-06-17T06:51:14.468Z"
   },
   {
    "duration": 245,
    "start_time": "2023-06-17T06:51:39.525Z"
   },
   {
    "duration": 11,
    "start_time": "2023-06-17T07:16:17.255Z"
   },
   {
    "duration": 10,
    "start_time": "2023-06-17T07:16:31.821Z"
   },
   {
    "duration": 343,
    "start_time": "2023-06-17T07:16:54.114Z"
   },
   {
    "duration": 10,
    "start_time": "2023-06-17T07:18:02.325Z"
   },
   {
    "duration": 10564,
    "start_time": "2023-06-17T07:18:10.623Z"
   },
   {
    "duration": 163,
    "start_time": "2023-06-17T07:18:40.054Z"
   },
   {
    "duration": 116,
    "start_time": "2023-06-17T07:18:54.910Z"
   },
   {
    "duration": 113,
    "start_time": "2023-06-17T07:18:55.506Z"
   },
   {
    "duration": 281,
    "start_time": "2023-06-17T07:19:53.368Z"
   },
   {
    "duration": 15,
    "start_time": "2023-06-17T07:21:18.571Z"
   },
   {
    "duration": 2327,
    "start_time": "2023-06-17T07:26:48.047Z"
   },
   {
    "duration": 1660,
    "start_time": "2023-06-17T07:27:01.070Z"
   },
   {
    "duration": 2362,
    "start_time": "2023-06-17T07:27:08.521Z"
   },
   {
    "duration": 1572,
    "start_time": "2023-06-17T07:27:16.696Z"
   },
   {
    "duration": 1493,
    "start_time": "2023-06-17T07:27:30.868Z"
   },
   {
    "duration": 2309,
    "start_time": "2023-06-17T07:27:39.903Z"
   },
   {
    "duration": 18632,
    "start_time": "2023-06-17T07:36:55.924Z"
   },
   {
    "duration": 12,
    "start_time": "2023-06-17T07:37:30.815Z"
   },
   {
    "duration": 49346,
    "start_time": "2023-06-17T07:37:46.242Z"
   },
   {
    "duration": 0,
    "start_time": "2023-06-17T07:39:54.401Z"
   },
   {
    "duration": 72939,
    "start_time": "2023-06-17T07:40:09.400Z"
   },
   {
    "duration": 213,
    "start_time": "2023-06-17T07:43:50.755Z"
   },
   {
    "duration": 250,
    "start_time": "2023-06-17T07:44:54.636Z"
   },
   {
    "duration": 3,
    "start_time": "2023-06-17T07:50:30.100Z"
   },
   {
    "duration": 91,
    "start_time": "2023-06-17T08:17:41.113Z"
   },
   {
    "duration": 14,
    "start_time": "2023-06-17T08:31:49.276Z"
   },
   {
    "duration": 29,
    "start_time": "2023-06-17T08:32:05.833Z"
   },
   {
    "duration": 18,
    "start_time": "2023-06-17T08:33:37.511Z"
   },
   {
    "duration": 21,
    "start_time": "2023-06-17T08:34:22.670Z"
   },
   {
    "duration": 5,
    "start_time": "2023-06-17T08:35:23.139Z"
   },
   {
    "duration": 24,
    "start_time": "2023-06-17T08:35:33.590Z"
   },
   {
    "duration": 33,
    "start_time": "2023-06-17T08:35:53.395Z"
   },
   {
    "duration": 33,
    "start_time": "2023-06-17T08:36:17.708Z"
   },
   {
    "duration": 25,
    "start_time": "2023-06-17T08:38:54.274Z"
   },
   {
    "duration": 25,
    "start_time": "2023-06-17T08:39:43.974Z"
   },
   {
    "duration": 32,
    "start_time": "2023-06-17T08:40:07.430Z"
   },
   {
    "duration": 25,
    "start_time": "2023-06-17T08:40:50.962Z"
   },
   {
    "duration": 23,
    "start_time": "2023-06-17T08:41:30.549Z"
   },
   {
    "duration": 15,
    "start_time": "2023-06-17T08:43:14.826Z"
   },
   {
    "duration": 29,
    "start_time": "2023-06-17T08:43:24.559Z"
   },
   {
    "duration": 4,
    "start_time": "2023-06-17T08:44:26.615Z"
   },
   {
    "duration": 163,
    "start_time": "2023-06-18T08:01:23.676Z"
   },
   {
    "duration": 6785,
    "start_time": "2023-06-18T08:33:54.819Z"
   },
   {
    "duration": 4013,
    "start_time": "2023-06-18T08:34:03.369Z"
   },
   {
    "duration": 1477,
    "start_time": "2023-06-18T08:34:11.214Z"
   },
   {
    "duration": 83,
    "start_time": "2023-06-18T08:34:12.692Z"
   },
   {
    "duration": 5,
    "start_time": "2023-06-18T08:34:21.750Z"
   },
   {
    "duration": 5,
    "start_time": "2023-06-18T08:34:27.093Z"
   },
   {
    "duration": 11,
    "start_time": "2023-06-18T08:34:32.036Z"
   },
   {
    "duration": 7,
    "start_time": "2023-06-18T08:34:35.651Z"
   },
   {
    "duration": 22,
    "start_time": "2023-06-18T08:34:36.395Z"
   },
   {
    "duration": 49,
    "start_time": "2023-06-18T08:34:37.419Z"
   },
   {
    "duration": 6,
    "start_time": "2023-06-18T08:34:46.536Z"
   },
   {
    "duration": 386,
    "start_time": "2023-06-18T08:34:50.679Z"
   },
   {
    "duration": 20,
    "start_time": "2023-06-18T08:34:59.787Z"
   },
   {
    "duration": 21,
    "start_time": "2023-06-18T08:35:01.123Z"
   },
   {
    "duration": 81,
    "start_time": "2023-06-18T08:35:06.839Z"
   },
   {
    "duration": 102,
    "start_time": "2023-06-18T08:35:15.025Z"
   },
   {
    "duration": 101,
    "start_time": "2023-06-18T08:35:50.095Z"
   },
   {
    "duration": 59,
    "start_time": "2023-06-18T08:36:02.532Z"
   },
   {
    "duration": 106,
    "start_time": "2023-06-18T08:36:12.956Z"
   },
   {
    "duration": 68,
    "start_time": "2023-06-18T08:36:25.222Z"
   },
   {
    "duration": 88,
    "start_time": "2023-06-18T08:36:41.094Z"
   },
   {
    "duration": 190,
    "start_time": "2023-06-18T08:37:47.265Z"
   },
   {
    "duration": 1242,
    "start_time": "2023-06-18T08:38:05.097Z"
   },
   {
    "duration": 1304,
    "start_time": "2023-06-18T08:42:11.630Z"
   },
   {
    "duration": 11,
    "start_time": "2023-06-18T08:42:25.851Z"
   },
   {
    "duration": 11,
    "start_time": "2023-06-18T08:42:30.923Z"
   },
   {
    "duration": 17,
    "start_time": "2023-06-18T08:42:38.318Z"
   },
   {
    "duration": 26,
    "start_time": "2023-06-18T08:43:27.193Z"
   },
   {
    "duration": 18,
    "start_time": "2023-06-18T08:44:07.475Z"
   },
   {
    "duration": 19,
    "start_time": "2023-06-18T08:44:43.820Z"
   },
   {
    "duration": 24,
    "start_time": "2023-06-18T08:44:57.842Z"
   },
   {
    "duration": 14,
    "start_time": "2023-06-18T08:45:37.639Z"
   },
   {
    "duration": 1158,
    "start_time": "2023-06-18T08:45:51.284Z"
   },
   {
    "duration": 38,
    "start_time": "2023-06-18T08:45:57.847Z"
   },
   {
    "duration": 17,
    "start_time": "2023-06-18T08:45:58.812Z"
   },
   {
    "duration": 14,
    "start_time": "2023-06-18T08:45:59.015Z"
   },
   {
    "duration": 47,
    "start_time": "2023-06-18T08:45:59.197Z"
   },
   {
    "duration": 62,
    "start_time": "2023-06-18T08:46:00.575Z"
   },
   {
    "duration": 43,
    "start_time": "2023-06-18T08:46:00.779Z"
   },
   {
    "duration": 1666,
    "start_time": "2023-06-18T08:46:01.176Z"
   },
   {
    "duration": 19,
    "start_time": "2023-06-18T08:46:03.815Z"
   },
   {
    "duration": 5,
    "start_time": "2023-06-18T08:46:04.892Z"
   },
   {
    "duration": 6,
    "start_time": "2023-06-18T08:46:05.819Z"
   },
   {
    "duration": 4,
    "start_time": "2023-06-18T08:46:12.230Z"
   },
   {
    "duration": 2,
    "start_time": "2023-06-18T08:46:14.452Z"
   },
   {
    "duration": 12,
    "start_time": "2023-06-18T08:46:18.621Z"
   },
   {
    "duration": 14,
    "start_time": "2023-06-18T08:46:20.723Z"
   },
   {
    "duration": 6,
    "start_time": "2023-06-18T08:46:22.427Z"
   },
   {
    "duration": 8,
    "start_time": "2023-06-18T08:46:23.345Z"
   },
   {
    "duration": 52,
    "start_time": "2023-06-18T08:46:24.238Z"
   },
   {
    "duration": 30,
    "start_time": "2023-06-18T08:46:25.694Z"
   },
   {
    "duration": 20,
    "start_time": "2023-06-18T08:46:30.221Z"
   },
   {
    "duration": 24,
    "start_time": "2023-06-18T08:47:05.898Z"
   },
   {
    "duration": 25,
    "start_time": "2023-06-18T08:47:12.984Z"
   },
   {
    "duration": 12,
    "start_time": "2023-06-18T08:47:38.573Z"
   },
   {
    "duration": 15,
    "start_time": "2023-06-18T08:47:40.167Z"
   },
   {
    "duration": 30,
    "start_time": "2023-06-18T08:47:43.225Z"
   },
   {
    "duration": 32,
    "start_time": "2023-06-18T08:47:44.419Z"
   },
   {
    "duration": 12,
    "start_time": "2023-06-18T08:48:15.022Z"
   },
   {
    "duration": 14,
    "start_time": "2023-06-18T08:48:21.119Z"
   },
   {
    "duration": 20,
    "start_time": "2023-06-18T08:48:21.567Z"
   },
   {
    "duration": 11,
    "start_time": "2023-06-18T08:48:29.345Z"
   },
   {
    "duration": 32,
    "start_time": "2023-06-18T08:48:31.995Z"
   },
   {
    "duration": 23,
    "start_time": "2023-06-18T08:48:32.737Z"
   },
   {
    "duration": 12,
    "start_time": "2023-06-18T08:48:45.737Z"
   },
   {
    "duration": 23,
    "start_time": "2023-06-18T08:48:47.841Z"
   },
   {
    "duration": 27,
    "start_time": "2023-06-18T08:48:48.418Z"
   },
   {
    "duration": 56,
    "start_time": "2023-06-18T08:50:59.620Z"
   },
   {
    "duration": 26,
    "start_time": "2023-06-18T08:51:10.005Z"
   },
   {
    "duration": 21,
    "start_time": "2023-06-18T08:51:11.990Z"
   },
   {
    "duration": 13,
    "start_time": "2023-06-18T08:51:12.643Z"
   },
   {
    "duration": 5,
    "start_time": "2023-06-18T08:51:23.759Z"
   },
   {
    "duration": 412,
    "start_time": "2023-06-18T08:51:28.424Z"
   },
   {
    "duration": 355,
    "start_time": "2023-06-18T08:51:33.540Z"
   },
   {
    "duration": 646,
    "start_time": "2023-06-18T08:53:16.622Z"
   },
   {
    "duration": 605,
    "start_time": "2023-06-18T08:53:39.421Z"
   },
   {
    "duration": 395,
    "start_time": "2023-06-18T08:53:58.326Z"
   },
   {
    "duration": 291,
    "start_time": "2023-06-18T08:55:03.862Z"
   },
   {
    "duration": 224,
    "start_time": "2023-06-18T08:55:27.998Z"
   },
   {
    "duration": 28,
    "start_time": "2023-06-18T08:55:36.824Z"
   },
   {
    "duration": 28,
    "start_time": "2023-06-18T08:55:38.516Z"
   },
   {
    "duration": 1646,
    "start_time": "2023-06-18T08:55:42.825Z"
   },
   {
    "duration": 13,
    "start_time": "2023-06-18T08:56:19.724Z"
   },
   {
    "duration": 1190,
    "start_time": "2023-06-18T08:56:26.853Z"
   },
   {
    "duration": 4,
    "start_time": "2023-06-18T08:56:50.524Z"
   },
   {
    "duration": 1261,
    "start_time": "2023-06-18T08:56:58.969Z"
   },
   {
    "duration": 4,
    "start_time": "2023-06-18T08:57:41.278Z"
   },
   {
    "duration": 1195,
    "start_time": "2023-06-18T08:57:49.456Z"
   },
   {
    "duration": 1507,
    "start_time": "2023-06-18T08:58:07.374Z"
   },
   {
    "duration": 13,
    "start_time": "2023-06-18T09:07:01.742Z"
   },
   {
    "duration": 1460,
    "start_time": "2023-06-18T09:07:10.452Z"
   },
   {
    "duration": 1469,
    "start_time": "2023-06-18T09:07:26.048Z"
   },
   {
    "duration": 553339,
    "start_time": "2023-06-18T09:07:44.515Z"
   },
   {
    "duration": 0,
    "start_time": "2023-06-18T09:16:57.857Z"
   },
   {
    "duration": 6,
    "start_time": "2023-06-18T09:17:00.027Z"
   },
   {
    "duration": 62,
    "start_time": "2023-06-18T09:17:01.126Z"
   },
   {
    "duration": 4539,
    "start_time": "2023-06-18T09:17:14.935Z"
   },
   {
    "duration": 36709,
    "start_time": "2023-06-18T09:17:35.154Z"
   },
   {
    "duration": 3,
    "start_time": "2023-06-18T09:18:14.350Z"
   },
   {
    "duration": 3,
    "start_time": "2023-06-18T09:18:20.460Z"
   },
   {
    "duration": 31032,
    "start_time": "2023-06-18T09:18:21.127Z"
   },
   {
    "duration": 320114,
    "start_time": "2023-06-18T09:19:06.338Z"
   },
   {
    "duration": 13,
    "start_time": "2023-06-18T09:25:09.775Z"
   },
   {
    "duration": 7,
    "start_time": "2023-06-18T09:25:34.834Z"
   },
   {
    "duration": 73,
    "start_time": "2023-06-18T09:27:01.240Z"
   },
   {
    "duration": 29853,
    "start_time": "2023-06-18T09:27:10.931Z"
   },
   {
    "duration": 5,
    "start_time": "2023-06-18T09:27:50.155Z"
   },
   {
    "duration": 7,
    "start_time": "2023-06-18T09:28:00.001Z"
   },
   {
    "duration": 40210,
    "start_time": "2023-06-18T09:28:09.660Z"
   },
   {
    "duration": 4,
    "start_time": "2023-06-18T09:28:55.849Z"
   },
   {
    "duration": 42031,
    "start_time": "2023-06-18T09:29:14.526Z"
   },
   {
    "duration": 4,
    "start_time": "2023-06-18T09:30:00.772Z"
   },
   {
    "duration": 47077,
    "start_time": "2023-06-18T09:30:16.942Z"
   },
   {
    "duration": 10,
    "start_time": "2023-06-18T09:31:09.228Z"
   },
   {
    "duration": 2,
    "start_time": "2023-06-18T09:31:36.224Z"
   },
   {
    "duration": 64473,
    "start_time": "2023-06-18T09:31:53.976Z"
   },
   {
    "duration": 4,
    "start_time": "2023-06-18T09:32:58.451Z"
   },
   {
    "duration": 46142,
    "start_time": "2023-06-18T09:34:14.124Z"
   },
   {
    "duration": 68648,
    "start_time": "2023-06-18T09:35:25.266Z"
   },
   {
    "duration": 72234,
    "start_time": "2023-06-18T09:37:17.352Z"
   },
   {
    "duration": 39121,
    "start_time": "2023-06-18T09:40:35.722Z"
   },
   {
    "duration": 8810,
    "start_time": "2023-06-18T09:44:19.107Z"
   },
   {
    "duration": 7,
    "start_time": "2023-06-18T09:44:27.918Z"
   },
   {
    "duration": 20,
    "start_time": "2023-06-18T09:46:54.026Z"
   },
   {
    "duration": 20,
    "start_time": "2023-06-18T09:47:11.622Z"
   },
   {
    "duration": 20,
    "start_time": "2023-06-18T09:47:19.836Z"
   },
   {
    "duration": 19,
    "start_time": "2023-06-18T09:47:34.226Z"
   },
   {
    "duration": 23411,
    "start_time": "2023-06-18T09:47:55.571Z"
   },
   {
    "duration": 117,
    "start_time": "2023-06-18T10:39:11.444Z"
   },
   {
    "duration": 12,
    "start_time": "2023-06-18T10:39:17.318Z"
   },
   {
    "duration": 3,
    "start_time": "2023-06-18T10:39:27.994Z"
   },
   {
    "duration": 66,
    "start_time": "2023-06-18T10:41:32.336Z"
   },
   {
    "duration": 489,
    "start_time": "2023-06-18T10:42:09.793Z"
   },
   {
    "duration": 88,
    "start_time": "2023-06-18T10:42:23.968Z"
   },
   {
    "duration": 72,
    "start_time": "2023-06-18T10:42:32.724Z"
   },
   {
    "duration": 21,
    "start_time": "2023-06-18T10:42:41.597Z"
   },
   {
    "duration": 5,
    "start_time": "2023-06-18T10:43:03.152Z"
   },
   {
    "duration": 4,
    "start_time": "2023-06-18T10:44:04.634Z"
   },
   {
    "duration": 7,
    "start_time": "2023-06-18T10:44:05.604Z"
   },
   {
    "duration": 86,
    "start_time": "2023-06-18T10:44:11.501Z"
   },
   {
    "duration": 5,
    "start_time": "2023-06-18T10:44:34.747Z"
   },
   {
    "duration": 56,
    "start_time": "2023-06-18T10:49:18.835Z"
   },
   {
    "duration": 94,
    "start_time": "2023-06-18T10:52:18.962Z"
   },
   {
    "duration": 125,
    "start_time": "2023-06-18T11:15:39.025Z"
   },
   {
    "duration": 777,
    "start_time": "2023-06-18T11:15:57.314Z"
   },
   {
    "duration": 751,
    "start_time": "2023-06-18T11:16:12.690Z"
   },
   {
    "duration": 2729,
    "start_time": "2023-06-18T11:16:23.987Z"
   },
   {
    "duration": 578,
    "start_time": "2023-06-18T11:16:35.585Z"
   },
   {
    "duration": 4,
    "start_time": "2023-06-18T11:17:52.700Z"
   },
   {
    "duration": 4,
    "start_time": "2023-06-18T11:18:05.513Z"
   },
   {
    "duration": 8238,
    "start_time": "2023-06-18T11:20:02.554Z"
   },
   {
    "duration": 389,
    "start_time": "2023-06-18T11:20:20.292Z"
   },
   {
    "duration": 418,
    "start_time": "2023-06-18T11:20:48.644Z"
   },
   {
    "duration": 766,
    "start_time": "2023-06-18T11:20:57.451Z"
   },
   {
    "duration": 792,
    "start_time": "2023-06-18T11:21:27.196Z"
   },
   {
    "duration": 485,
    "start_time": "2023-06-18T11:22:15.850Z"
   },
   {
    "duration": 467,
    "start_time": "2023-06-18T11:23:36.610Z"
   },
   {
    "duration": 35,
    "start_time": "2023-06-18T11:24:18.590Z"
   },
   {
    "duration": 258,
    "start_time": "2023-06-18T11:24:33.326Z"
   },
   {
    "duration": 4,
    "start_time": "2023-06-18T11:26:53.639Z"
   },
   {
    "duration": 5,
    "start_time": "2023-06-18T11:27:13.137Z"
   },
   {
    "duration": 93219,
    "start_time": "2023-06-18T11:27:29.998Z"
   },
   {
    "duration": 47670,
    "start_time": "2023-06-18T11:29:03.232Z"
   },
   {
    "duration": 63740,
    "start_time": "2023-06-18T11:29:50.904Z"
   },
   {
    "duration": 23402,
    "start_time": "2023-06-18T11:30:54.646Z"
   },
   {
    "duration": 4,
    "start_time": "2023-06-18T11:31:18.049Z"
   },
   {
    "duration": 12,
    "start_time": "2023-06-18T11:33:01.950Z"
   },
   {
    "duration": 13,
    "start_time": "2023-06-18T11:33:40.949Z"
   },
   {
    "duration": 11,
    "start_time": "2023-06-18T11:37:22.865Z"
   },
   {
    "duration": 21,
    "start_time": "2023-06-18T11:37:35.449Z"
   },
   {
    "duration": 167,
    "start_time": "2023-06-18T11:37:52.850Z"
   },
   {
    "duration": 32,
    "start_time": "2023-06-18T11:38:16.116Z"
   },
   {
    "duration": 12,
    "start_time": "2023-06-18T11:38:32.972Z"
   },
   {
    "duration": 128,
    "start_time": "2023-06-18T11:38:37.846Z"
   },
   {
    "duration": 18,
    "start_time": "2023-06-18T11:39:43.425Z"
   },
   {
    "duration": 11,
    "start_time": "2023-06-18T11:39:45.237Z"
   },
   {
    "duration": 126,
    "start_time": "2023-06-18T11:39:45.951Z"
   },
   {
    "duration": 10,
    "start_time": "2023-06-18T11:39:49.884Z"
   },
   {
    "duration": 139,
    "start_time": "2023-06-18T11:39:50.500Z"
   },
   {
    "duration": 148,
    "start_time": "2023-06-18T11:40:19.930Z"
   },
   {
    "duration": 153,
    "start_time": "2023-06-18T11:40:35.691Z"
   },
   {
    "duration": 192,
    "start_time": "2023-06-18T11:45:34.833Z"
   },
   {
    "duration": 198,
    "start_time": "2023-06-18T11:46:06.769Z"
   },
   {
    "duration": 3,
    "start_time": "2023-06-18T11:46:40.177Z"
   },
   {
    "duration": 18,
    "start_time": "2023-06-18T11:50:22.726Z"
   },
   {
    "duration": 9,
    "start_time": "2023-06-18T11:50:32.068Z"
   },
   {
    "duration": 11,
    "start_time": "2023-06-18T11:50:34.474Z"
   },
   {
    "duration": 8,
    "start_time": "2023-06-18T11:52:38.314Z"
   },
   {
    "duration": 4,
    "start_time": "2023-06-18T12:03:33.116Z"
   },
   {
    "duration": 4,
    "start_time": "2023-06-18T12:03:47.024Z"
   },
   {
    "duration": 20,
    "start_time": "2023-06-18T12:09:55.491Z"
   },
   {
    "duration": 6,
    "start_time": "2023-06-18T12:10:05.290Z"
   },
   {
    "duration": 7,
    "start_time": "2023-06-18T12:10:28.162Z"
   },
   {
    "duration": 3,
    "start_time": "2023-06-18T12:15:57.022Z"
   },
   {
    "duration": 14,
    "start_time": "2023-06-18T12:15:57.764Z"
   },
   {
    "duration": 1074,
    "start_time": "2023-06-18T12:16:44.767Z"
   },
   {
    "duration": 1077,
    "start_time": "2023-06-18T12:16:58.052Z"
   },
   {
    "duration": 131,
    "start_time": "2023-06-18T12:17:00.630Z"
   },
   {
    "duration": 848,
    "start_time": "2023-06-18T12:17:41.790Z"
   },
   {
    "duration": 125,
    "start_time": "2023-06-18T12:17:43.395Z"
   },
   {
    "duration": 28,
    "start_time": "2023-06-18T12:27:30.861Z"
   },
   {
    "duration": 95,
    "start_time": "2023-06-18T12:28:59.534Z"
   },
   {
    "duration": 96,
    "start_time": "2023-06-18T12:31:56.662Z"
   },
   {
    "duration": 222,
    "start_time": "2023-06-18T12:32:01.227Z"
   },
   {
    "duration": 272,
    "start_time": "2023-06-18T12:32:18.294Z"
   },
   {
    "duration": 179,
    "start_time": "2023-06-18T12:32:24.319Z"
   },
   {
    "duration": 851,
    "start_time": "2023-06-18T12:41:25.238Z"
   },
   {
    "duration": 51,
    "start_time": "2023-06-18T12:41:26.745Z"
   },
   {
    "duration": 18,
    "start_time": "2023-06-18T12:41:27.550Z"
   },
   {
    "duration": 24,
    "start_time": "2023-06-18T12:41:37.524Z"
   },
   {
    "duration": 53,
    "start_time": "2023-06-18T12:42:13.095Z"
   },
   {
    "duration": 13,
    "start_time": "2023-06-18T12:42:14.371Z"
   },
   {
    "duration": 875,
    "start_time": "2023-06-18T12:42:27.144Z"
   },
   {
    "duration": 90,
    "start_time": "2023-06-18T12:42:29.550Z"
   },
   {
    "duration": 15,
    "start_time": "2023-06-18T12:42:50.426Z"
   },
   {
    "duration": 2351,
    "start_time": "2023-06-18T12:44:43.950Z"
   },
   {
    "duration": 2724,
    "start_time": "2023-06-18T12:44:46.314Z"
   },
   {
    "duration": 1476,
    "start_time": "2023-06-18T12:44:49.041Z"
   },
   {
    "duration": 55,
    "start_time": "2023-06-18T12:44:50.519Z"
   },
   {
    "duration": 16,
    "start_time": "2023-06-18T12:44:50.577Z"
   },
   {
    "duration": 42,
    "start_time": "2023-06-18T12:44:50.595Z"
   },
   {
    "duration": 48,
    "start_time": "2023-06-18T12:44:50.642Z"
   },
   {
    "duration": 81,
    "start_time": "2023-06-18T12:44:50.692Z"
   },
   {
    "duration": 47,
    "start_time": "2023-06-18T12:44:50.775Z"
   },
   {
    "duration": 2030,
    "start_time": "2023-06-18T12:44:50.823Z"
   },
   {
    "duration": 33,
    "start_time": "2023-06-18T12:44:52.855Z"
   },
   {
    "duration": 41,
    "start_time": "2023-06-18T12:44:52.910Z"
   },
   {
    "duration": 69,
    "start_time": "2023-06-18T12:44:52.953Z"
   },
   {
    "duration": 38,
    "start_time": "2023-06-18T12:44:53.026Z"
   },
   {
    "duration": 16,
    "start_time": "2023-06-18T12:44:53.066Z"
   },
   {
    "duration": 57,
    "start_time": "2023-06-18T12:44:53.084Z"
   },
   {
    "duration": 21,
    "start_time": "2023-06-18T12:44:53.143Z"
   },
   {
    "duration": 22,
    "start_time": "2023-06-18T12:44:53.165Z"
   },
   {
    "duration": 53,
    "start_time": "2023-06-18T12:44:53.189Z"
   },
   {
    "duration": 36,
    "start_time": "2023-06-18T12:44:53.244Z"
   },
   {
    "duration": 87,
    "start_time": "2023-06-18T12:44:53.282Z"
   },
   {
    "duration": 4,
    "start_time": "2023-06-18T12:44:53.370Z"
   },
   {
    "duration": 100,
    "start_time": "2023-06-18T12:44:53.376Z"
   },
   {
    "duration": 482,
    "start_time": "2023-06-18T12:44:53.478Z"
   },
   {
    "duration": 394,
    "start_time": "2023-06-18T12:44:53.962Z"
   },
   {
    "duration": 499,
    "start_time": "2023-06-18T12:44:54.358Z"
   },
   {
    "duration": 378,
    "start_time": "2023-06-18T12:44:54.859Z"
   },
   {
    "duration": 352,
    "start_time": "2023-06-18T12:44:55.243Z"
   },
   {
    "duration": 299,
    "start_time": "2023-06-18T12:44:55.599Z"
   },
   {
    "duration": 380,
    "start_time": "2023-06-18T12:44:55.900Z"
   },
   {
    "duration": 283,
    "start_time": "2023-06-18T12:44:56.282Z"
   },
   {
    "duration": 309,
    "start_time": "2023-06-18T12:44:56.567Z"
   },
   {
    "duration": 304,
    "start_time": "2023-06-18T12:44:56.878Z"
   },
   {
    "duration": 36,
    "start_time": "2023-06-18T12:44:57.185Z"
   },
   {
    "duration": 31,
    "start_time": "2023-06-18T12:44:57.223Z"
   },
   {
    "duration": 12,
    "start_time": "2023-06-18T12:44:57.258Z"
   },
   {
    "duration": 13,
    "start_time": "2023-06-18T12:44:57.272Z"
   },
   {
    "duration": 6,
    "start_time": "2023-06-18T12:44:57.286Z"
   },
   {
    "duration": 47,
    "start_time": "2023-06-18T12:44:57.294Z"
   },
   {
    "duration": 46,
    "start_time": "2023-06-18T12:44:57.346Z"
   },
   {
    "duration": 71,
    "start_time": "2023-06-18T12:44:57.397Z"
   },
   {
    "duration": 23,
    "start_time": "2023-06-18T12:44:57.469Z"
   },
   {
    "duration": 71,
    "start_time": "2023-06-18T12:44:57.495Z"
   },
   {
    "duration": 5,
    "start_time": "2023-06-18T12:44:57.568Z"
   },
   {
    "duration": 695,
    "start_time": "2023-06-18T12:44:57.575Z"
   },
   {
    "duration": 688,
    "start_time": "2023-06-18T12:44:58.273Z"
   },
   {
    "duration": 474,
    "start_time": "2023-06-18T12:44:58.963Z"
   },
   {
    "duration": 228,
    "start_time": "2023-06-18T12:44:59.444Z"
   },
   {
    "duration": 4,
    "start_time": "2023-06-18T12:44:59.674Z"
   },
   {
    "duration": 193,
    "start_time": "2023-06-18T12:44:59.680Z"
   },
   {
    "duration": 3,
    "start_time": "2023-06-18T12:44:59.875Z"
   },
   {
    "duration": 114437,
    "start_time": "2023-06-18T12:44:59.880Z"
   },
   {
    "duration": 0,
    "start_time": "2023-06-18T12:46:54.326Z"
   },
   {
    "duration": 0,
    "start_time": "2023-06-18T12:46:54.327Z"
   },
   {
    "duration": 0,
    "start_time": "2023-06-18T12:46:54.329Z"
   },
   {
    "duration": 0,
    "start_time": "2023-06-18T12:46:54.331Z"
   },
   {
    "duration": 0,
    "start_time": "2023-06-18T12:46:54.332Z"
   },
   {
    "duration": 0,
    "start_time": "2023-06-18T12:46:54.333Z"
   },
   {
    "duration": 0,
    "start_time": "2023-06-18T12:46:54.334Z"
   },
   {
    "duration": 0,
    "start_time": "2023-06-18T12:46:54.335Z"
   },
   {
    "duration": 0,
    "start_time": "2023-06-18T12:46:54.336Z"
   },
   {
    "duration": 0,
    "start_time": "2023-06-18T12:46:54.343Z"
   },
   {
    "duration": 0,
    "start_time": "2023-06-18T12:46:54.344Z"
   },
   {
    "duration": 0,
    "start_time": "2023-06-18T12:46:54.349Z"
   },
   {
    "duration": 0,
    "start_time": "2023-06-18T12:46:54.350Z"
   },
   {
    "duration": 0,
    "start_time": "2023-06-18T12:46:54.351Z"
   },
   {
    "duration": 100,
    "start_time": "2023-06-18T12:47:23.852Z"
   },
   {
    "duration": 5,
    "start_time": "2023-06-18T12:47:30.249Z"
   },
   {
    "duration": 2132,
    "start_time": "2023-06-18T12:47:37.042Z"
   },
   {
    "duration": 2253,
    "start_time": "2023-06-18T12:47:39.176Z"
   },
   {
    "duration": 2081,
    "start_time": "2023-06-18T12:47:41.431Z"
   },
   {
    "duration": 135,
    "start_time": "2023-06-18T12:47:43.522Z"
   },
   {
    "duration": 47,
    "start_time": "2023-06-18T12:47:43.668Z"
   },
   {
    "duration": 30,
    "start_time": "2023-06-18T12:47:43.716Z"
   },
   {
    "duration": 161,
    "start_time": "2023-06-18T12:47:43.748Z"
   },
   {
    "duration": 135,
    "start_time": "2023-06-18T12:47:43.911Z"
   },
   {
    "duration": 110,
    "start_time": "2023-06-18T12:47:44.047Z"
   },
   {
    "duration": 2086,
    "start_time": "2023-06-18T12:47:44.199Z"
   },
   {
    "duration": 30,
    "start_time": "2023-06-18T12:47:46.287Z"
   },
   {
    "duration": 40,
    "start_time": "2023-06-18T12:47:46.319Z"
   },
   {
    "duration": 27,
    "start_time": "2023-06-18T12:47:46.363Z"
   },
   {
    "duration": 95,
    "start_time": "2023-06-18T12:47:46.395Z"
   },
   {
    "duration": 83,
    "start_time": "2023-06-18T12:47:46.492Z"
   },
   {
    "duration": 80,
    "start_time": "2023-06-18T12:47:46.578Z"
   },
   {
    "duration": 22,
    "start_time": "2023-06-18T12:47:46.660Z"
   },
   {
    "duration": 80,
    "start_time": "2023-06-18T12:47:46.684Z"
   },
   {
    "duration": 80,
    "start_time": "2023-06-18T12:47:46.766Z"
   },
   {
    "duration": 11,
    "start_time": "2023-06-18T12:47:46.849Z"
   },
   {
    "duration": 122,
    "start_time": "2023-06-18T12:47:46.863Z"
   },
   {
    "duration": 4,
    "start_time": "2023-06-18T12:47:46.987Z"
   },
   {
    "duration": 32,
    "start_time": "2023-06-18T12:47:46.992Z"
   },
   {
    "duration": 642,
    "start_time": "2023-06-18T12:47:47.026Z"
   },
   {
    "duration": 401,
    "start_time": "2023-06-18T12:47:47.670Z"
   },
   {
    "duration": 408,
    "start_time": "2023-06-18T12:47:48.073Z"
   },
   {
    "duration": 509,
    "start_time": "2023-06-18T12:47:48.486Z"
   },
   {
    "duration": 221,
    "start_time": "2023-06-18T12:47:48.998Z"
   },
   {
    "duration": 233,
    "start_time": "2023-06-18T12:47:49.220Z"
   },
   {
    "duration": 365,
    "start_time": "2023-06-18T12:47:49.456Z"
   },
   {
    "duration": 260,
    "start_time": "2023-06-18T12:47:49.823Z"
   },
   {
    "duration": 238,
    "start_time": "2023-06-18T12:47:50.085Z"
   },
   {
    "duration": 236,
    "start_time": "2023-06-18T12:47:50.324Z"
   },
   {
    "duration": 20,
    "start_time": "2023-06-18T12:47:50.562Z"
   },
   {
    "duration": 41,
    "start_time": "2023-06-18T12:47:50.584Z"
   },
   {
    "duration": 37,
    "start_time": "2023-06-18T12:47:50.626Z"
   },
   {
    "duration": 5,
    "start_time": "2023-06-18T12:47:50.665Z"
   },
   {
    "duration": 13,
    "start_time": "2023-06-18T12:47:50.672Z"
   },
   {
    "duration": 51,
    "start_time": "2023-06-18T12:47:50.687Z"
   },
   {
    "duration": 23,
    "start_time": "2023-06-18T12:47:50.740Z"
   },
   {
    "duration": 11,
    "start_time": "2023-06-18T12:47:50.769Z"
   },
   {
    "duration": 12,
    "start_time": "2023-06-18T12:47:50.781Z"
   },
   {
    "duration": 5,
    "start_time": "2023-06-18T12:47:50.795Z"
   },
   {
    "duration": 2,
    "start_time": "2023-06-18T12:47:50.801Z"
   },
   {
    "duration": 618,
    "start_time": "2023-06-18T12:47:50.811Z"
   },
   {
    "duration": 646,
    "start_time": "2023-06-18T12:47:51.431Z"
   },
   {
    "duration": 462,
    "start_time": "2023-06-18T12:47:52.079Z"
   },
   {
    "duration": 201,
    "start_time": "2023-06-18T12:47:52.550Z"
   },
   {
    "duration": 3,
    "start_time": "2023-06-18T12:47:52.753Z"
   },
   {
    "duration": 215,
    "start_time": "2023-06-18T12:47:52.758Z"
   },
   {
    "duration": 162,
    "start_time": "2023-06-18T12:47:52.975Z"
   },
   {
    "duration": 0,
    "start_time": "2023-06-18T12:47:53.139Z"
   },
   {
    "duration": 0,
    "start_time": "2023-06-18T12:47:53.139Z"
   },
   {
    "duration": 0,
    "start_time": "2023-06-18T12:47:53.140Z"
   },
   {
    "duration": 0,
    "start_time": "2023-06-18T12:47:53.140Z"
   },
   {
    "duration": 0,
    "start_time": "2023-06-18T12:47:53.141Z"
   },
   {
    "duration": 0,
    "start_time": "2023-06-18T12:47:53.141Z"
   },
   {
    "duration": 0,
    "start_time": "2023-06-18T12:47:53.142Z"
   },
   {
    "duration": 0,
    "start_time": "2023-06-18T12:47:53.143Z"
   },
   {
    "duration": 0,
    "start_time": "2023-06-18T12:47:53.143Z"
   },
   {
    "duration": 0,
    "start_time": "2023-06-18T12:47:53.144Z"
   },
   {
    "duration": 0,
    "start_time": "2023-06-18T12:47:53.145Z"
   },
   {
    "duration": 0,
    "start_time": "2023-06-18T12:47:53.145Z"
   },
   {
    "duration": 0,
    "start_time": "2023-06-18T12:47:53.146Z"
   },
   {
    "duration": 0,
    "start_time": "2023-06-18T12:47:53.146Z"
   },
   {
    "duration": 0,
    "start_time": "2023-06-18T12:47:53.147Z"
   },
   {
    "duration": 2204,
    "start_time": "2023-06-18T12:49:31.679Z"
   },
   {
    "duration": 2200,
    "start_time": "2023-06-18T12:49:33.885Z"
   },
   {
    "duration": 1272,
    "start_time": "2023-06-18T12:49:36.087Z"
   },
   {
    "duration": 59,
    "start_time": "2023-06-18T12:49:37.362Z"
   },
   {
    "duration": 26,
    "start_time": "2023-06-18T12:49:37.431Z"
   },
   {
    "duration": 15,
    "start_time": "2023-06-18T12:49:37.459Z"
   },
   {
    "duration": 73,
    "start_time": "2023-06-18T12:49:37.476Z"
   },
   {
    "duration": 74,
    "start_time": "2023-06-18T12:49:37.551Z"
   },
   {
    "duration": 45,
    "start_time": "2023-06-18T12:49:37.627Z"
   },
   {
    "duration": 1854,
    "start_time": "2023-06-18T12:49:37.675Z"
   },
   {
    "duration": 28,
    "start_time": "2023-06-18T12:49:39.530Z"
   },
   {
    "duration": 23,
    "start_time": "2023-06-18T12:49:39.560Z"
   },
   {
    "duration": 7,
    "start_time": "2023-06-18T12:49:39.586Z"
   },
   {
    "duration": 47,
    "start_time": "2023-06-18T12:49:39.594Z"
   },
   {
    "duration": 13,
    "start_time": "2023-06-18T12:49:39.642Z"
   },
   {
    "duration": 12,
    "start_time": "2023-06-18T12:49:39.657Z"
   },
   {
    "duration": 12,
    "start_time": "2023-06-18T12:49:39.671Z"
   },
   {
    "duration": 32,
    "start_time": "2023-06-18T12:49:39.685Z"
   },
   {
    "duration": 33,
    "start_time": "2023-06-18T12:49:39.721Z"
   },
   {
    "duration": 19,
    "start_time": "2023-06-18T12:49:39.756Z"
   },
   {
    "duration": 66,
    "start_time": "2023-06-18T12:49:39.776Z"
   },
   {
    "duration": 6,
    "start_time": "2023-06-18T12:49:39.844Z"
   },
   {
    "duration": 13,
    "start_time": "2023-06-18T12:49:39.852Z"
   },
   {
    "duration": 387,
    "start_time": "2023-06-18T12:49:39.866Z"
   },
   {
    "duration": 298,
    "start_time": "2023-06-18T12:49:40.255Z"
   },
   {
    "duration": 403,
    "start_time": "2023-06-18T12:49:40.555Z"
   },
   {
    "duration": 296,
    "start_time": "2023-06-18T12:49:40.960Z"
   },
   {
    "duration": 207,
    "start_time": "2023-06-18T12:49:41.259Z"
   },
   {
    "duration": 246,
    "start_time": "2023-06-18T12:49:41.467Z"
   },
   {
    "duration": 230,
    "start_time": "2023-06-18T12:49:41.714Z"
   },
   {
    "duration": 255,
    "start_time": "2023-06-18T12:49:41.950Z"
   },
   {
    "duration": 246,
    "start_time": "2023-06-18T12:49:42.207Z"
   },
   {
    "duration": 221,
    "start_time": "2023-06-18T12:49:42.455Z"
   },
   {
    "duration": 37,
    "start_time": "2023-06-18T12:49:42.677Z"
   },
   {
    "duration": 22,
    "start_time": "2023-06-18T12:49:42.722Z"
   },
   {
    "duration": 2,
    "start_time": "2023-06-18T12:49:42.746Z"
   },
   {
    "duration": 7,
    "start_time": "2023-06-18T12:49:42.750Z"
   },
   {
    "duration": 13,
    "start_time": "2023-06-18T12:49:42.758Z"
   },
   {
    "duration": 6,
    "start_time": "2023-06-18T12:49:42.772Z"
   },
   {
    "duration": 9,
    "start_time": "2023-06-18T12:49:42.779Z"
   },
   {
    "duration": 8,
    "start_time": "2023-06-18T12:49:42.789Z"
   },
   {
    "duration": 43,
    "start_time": "2023-06-18T12:49:42.805Z"
   },
   {
    "duration": 10,
    "start_time": "2023-06-18T12:49:42.850Z"
   },
   {
    "duration": 7,
    "start_time": "2023-06-18T12:49:42.861Z"
   },
   {
    "duration": 615,
    "start_time": "2023-06-18T12:49:42.869Z"
   },
   {
    "duration": 559,
    "start_time": "2023-06-18T12:49:43.486Z"
   },
   {
    "duration": 453,
    "start_time": "2023-06-18T12:49:44.051Z"
   },
   {
    "duration": 182,
    "start_time": "2023-06-18T12:49:44.506Z"
   },
   {
    "duration": 3,
    "start_time": "2023-06-18T12:49:44.689Z"
   },
   {
    "duration": 232,
    "start_time": "2023-06-18T12:49:44.717Z"
   },
   {
    "duration": 3,
    "start_time": "2023-06-18T12:49:44.951Z"
   },
   {
    "duration": 15,
    "start_time": "2023-06-18T12:49:44.955Z"
   },
   {
    "duration": 17,
    "start_time": "2023-06-18T12:49:44.971Z"
   },
   {
    "duration": 47,
    "start_time": "2023-06-18T12:49:44.990Z"
   },
   {
    "duration": 98,
    "start_time": "2023-06-18T12:49:45.039Z"
   },
   {
    "duration": 92959,
    "start_time": "2023-06-18T12:49:45.139Z"
   },
   {
    "duration": 45079,
    "start_time": "2023-06-18T12:51:18.099Z"
   },
   {
    "duration": 78674,
    "start_time": "2023-06-18T12:52:03.180Z"
   },
   {
    "duration": 23715,
    "start_time": "2023-06-18T12:53:21.856Z"
   },
   {
    "duration": 4,
    "start_time": "2023-06-18T12:53:45.573Z"
   },
   {
    "duration": 258,
    "start_time": "2023-06-18T12:53:45.579Z"
   },
   {
    "duration": 8,
    "start_time": "2023-06-18T12:53:45.847Z"
   },
   {
    "duration": 829,
    "start_time": "2023-06-18T12:53:45.857Z"
   },
   {
    "duration": 111,
    "start_time": "2023-06-18T12:53:46.688Z"
   },
   {
    "duration": 269,
    "start_time": "2023-06-18T12:53:46.806Z"
   },
   {
    "duration": 5,
    "start_time": "2023-06-18T12:53:47.077Z"
   },
   {
    "duration": 148,
    "start_time": "2023-06-18T12:59:50.826Z"
   },
   {
    "duration": 6240,
    "start_time": "2023-06-19T03:12:08.045Z"
   },
   {
    "duration": 6694,
    "start_time": "2023-06-19T03:12:14.288Z"
   },
   {
    "duration": 1231,
    "start_time": "2023-06-19T03:12:20.983Z"
   },
   {
    "duration": 41,
    "start_time": "2023-06-19T03:12:22.215Z"
   },
   {
    "duration": 18,
    "start_time": "2023-06-19T03:12:22.257Z"
   },
   {
    "duration": 15,
    "start_time": "2023-06-19T03:12:22.277Z"
   },
   {
    "duration": 43,
    "start_time": "2023-06-19T03:12:22.294Z"
   },
   {
    "duration": 45,
    "start_time": "2023-06-19T03:12:22.338Z"
   },
   {
    "duration": 53,
    "start_time": "2023-06-19T03:12:22.384Z"
   },
   {
    "duration": 1897,
    "start_time": "2023-06-19T03:12:22.439Z"
   },
   {
    "duration": 19,
    "start_time": "2023-06-19T03:12:24.339Z"
   },
   {
    "duration": 12,
    "start_time": "2023-06-19T03:12:24.360Z"
   },
   {
    "duration": 24,
    "start_time": "2023-06-19T03:12:24.374Z"
   },
   {
    "duration": 4,
    "start_time": "2023-06-19T03:12:24.400Z"
   },
   {
    "duration": 40,
    "start_time": "2023-06-19T03:12:24.405Z"
   },
   {
    "duration": 28,
    "start_time": "2023-06-19T03:12:24.448Z"
   },
   {
    "duration": 51,
    "start_time": "2023-06-19T03:12:24.478Z"
   },
   {
    "duration": 35,
    "start_time": "2023-06-19T03:12:24.531Z"
   },
   {
    "duration": 146,
    "start_time": "2023-06-19T03:12:24.569Z"
   },
   {
    "duration": 75,
    "start_time": "2023-06-19T03:12:24.717Z"
   },
   {
    "duration": 130,
    "start_time": "2023-06-19T03:12:24.794Z"
   },
   {
    "duration": 2,
    "start_time": "2023-06-19T03:12:24.926Z"
   },
   {
    "duration": 46,
    "start_time": "2023-06-19T03:12:24.929Z"
   },
   {
    "duration": 377,
    "start_time": "2023-06-19T03:12:24.976Z"
   },
   {
    "duration": 270,
    "start_time": "2023-06-19T03:12:25.354Z"
   },
   {
    "duration": 402,
    "start_time": "2023-06-19T03:12:25.626Z"
   },
   {
    "duration": 371,
    "start_time": "2023-06-19T03:12:26.030Z"
   },
   {
    "duration": 236,
    "start_time": "2023-06-19T03:12:26.404Z"
   },
   {
    "duration": 226,
    "start_time": "2023-06-19T03:12:26.642Z"
   },
   {
    "duration": 257,
    "start_time": "2023-06-19T03:12:26.869Z"
   },
   {
    "duration": 200,
    "start_time": "2023-06-19T03:12:27.127Z"
   },
   {
    "duration": 211,
    "start_time": "2023-06-19T03:12:27.328Z"
   },
   {
    "duration": 250,
    "start_time": "2023-06-19T03:12:27.540Z"
   },
   {
    "duration": 22,
    "start_time": "2023-06-19T03:12:27.792Z"
   },
   {
    "duration": 34,
    "start_time": "2023-06-19T03:12:27.816Z"
   },
   {
    "duration": 18,
    "start_time": "2023-06-19T03:12:27.852Z"
   },
   {
    "duration": 16,
    "start_time": "2023-06-19T03:13:13.291Z"
   },
   {
    "duration": 112,
    "start_time": "2023-06-19T03:13:38.288Z"
   },
   {
    "duration": 11969,
    "start_time": "2023-06-19T13:52:59.497Z"
   },
   {
    "duration": 5816,
    "start_time": "2023-06-19T13:53:11.468Z"
   },
   {
    "duration": 1423,
    "start_time": "2023-06-19T13:53:17.286Z"
   },
   {
    "duration": 112,
    "start_time": "2023-06-19T13:53:18.711Z"
   },
   {
    "duration": 17,
    "start_time": "2023-06-19T13:53:18.825Z"
   },
   {
    "duration": 12,
    "start_time": "2023-06-19T13:53:18.843Z"
   },
   {
    "duration": 39,
    "start_time": "2023-06-19T13:53:18.856Z"
   },
   {
    "duration": 52,
    "start_time": "2023-06-19T13:53:18.897Z"
   },
   {
    "duration": 38,
    "start_time": "2023-06-19T13:53:18.950Z"
   },
   {
    "duration": 1793,
    "start_time": "2023-06-19T13:53:19.006Z"
   },
   {
    "duration": 23,
    "start_time": "2023-06-19T13:53:20.801Z"
   },
   {
    "duration": 18,
    "start_time": "2023-06-19T13:53:20.826Z"
   },
   {
    "duration": 41,
    "start_time": "2023-06-19T13:53:20.845Z"
   },
   {
    "duration": 56,
    "start_time": "2023-06-19T13:53:20.887Z"
   },
   {
    "duration": 26,
    "start_time": "2023-06-19T13:53:20.945Z"
   },
   {
    "duration": 23,
    "start_time": "2023-06-19T13:53:20.972Z"
   },
   {
    "duration": 76,
    "start_time": "2023-06-19T13:53:20.996Z"
   },
   {
    "duration": 15,
    "start_time": "2023-06-19T13:53:21.073Z"
   },
   {
    "duration": 58,
    "start_time": "2023-06-19T13:53:21.089Z"
   },
   {
    "duration": 33,
    "start_time": "2023-06-19T13:53:21.148Z"
   },
   {
    "duration": 77,
    "start_time": "2023-06-19T13:53:21.182Z"
   },
   {
    "duration": 15,
    "start_time": "2023-06-19T13:53:21.260Z"
   },
   {
    "duration": 22,
    "start_time": "2023-06-19T13:53:21.276Z"
   },
   {
    "duration": 425,
    "start_time": "2023-06-19T13:53:21.300Z"
   },
   {
    "duration": 261,
    "start_time": "2023-06-19T13:53:21.726Z"
   },
   {
    "duration": 372,
    "start_time": "2023-06-19T13:53:21.989Z"
   },
   {
    "duration": 307,
    "start_time": "2023-06-19T13:53:22.363Z"
   },
   {
    "duration": 206,
    "start_time": "2023-06-19T13:53:22.674Z"
   },
   {
    "duration": 224,
    "start_time": "2023-06-19T13:53:22.881Z"
   },
   {
    "duration": 342,
    "start_time": "2023-06-19T13:53:23.109Z"
   },
   {
    "duration": 248,
    "start_time": "2023-06-19T13:53:23.452Z"
   },
   {
    "duration": 210,
    "start_time": "2023-06-19T13:53:23.702Z"
   },
   {
    "duration": 227,
    "start_time": "2023-06-19T13:53:23.914Z"
   },
   {
    "duration": 19,
    "start_time": "2023-06-19T13:53:24.142Z"
   },
   {
    "duration": 20,
    "start_time": "2023-06-19T13:53:24.162Z"
   },
   {
    "duration": 21,
    "start_time": "2023-06-19T13:53:24.183Z"
   },
   {
    "duration": 24,
    "start_time": "2023-06-19T13:53:24.206Z"
   },
   {
    "duration": 14,
    "start_time": "2023-06-19T13:53:24.232Z"
   },
   {
    "duration": 21,
    "start_time": "2023-06-19T13:53:24.248Z"
   },
   {
    "duration": 11,
    "start_time": "2023-06-19T13:53:24.271Z"
   },
   {
    "duration": 6,
    "start_time": "2023-06-19T13:53:24.283Z"
   },
   {
    "duration": 5,
    "start_time": "2023-06-19T13:53:24.290Z"
   },
   {
    "duration": 32,
    "start_time": "2023-06-19T13:53:24.297Z"
   },
   {
    "duration": 6,
    "start_time": "2023-06-19T13:53:24.331Z"
   },
   {
    "duration": 1190,
    "start_time": "2023-06-19T13:53:24.339Z"
   },
   {
    "duration": 923,
    "start_time": "2023-06-19T13:53:25.530Z"
   },
   {
    "duration": 950,
    "start_time": "2023-06-19T13:53:26.454Z"
   },
   {
    "duration": 425,
    "start_time": "2023-06-19T13:53:27.406Z"
   },
   {
    "duration": 4,
    "start_time": "2023-06-19T13:53:27.832Z"
   },
   {
    "duration": 277,
    "start_time": "2023-06-19T13:53:27.837Z"
   },
   {
    "duration": 6,
    "start_time": "2023-06-19T13:53:28.116Z"
   },
   {
    "duration": 153,
    "start_time": "2023-06-19T13:53:28.124Z"
   },
   {
    "duration": 201,
    "start_time": "2023-06-19T13:53:28.278Z"
   },
   {
    "duration": 297,
    "start_time": "2023-06-19T13:53:28.481Z"
   },
   {
    "duration": 202,
    "start_time": "2023-06-19T13:53:28.779Z"
   },
   {
    "duration": 92,
    "start_time": "2023-06-19T13:53:28.982Z"
   },
   {
    "duration": 0,
    "start_time": "2023-06-19T13:53:29.076Z"
   },
   {
    "duration": 0,
    "start_time": "2023-06-19T13:53:29.077Z"
   },
   {
    "duration": 0,
    "start_time": "2023-06-19T13:53:29.078Z"
   },
   {
    "duration": 0,
    "start_time": "2023-06-19T13:53:29.100Z"
   },
   {
    "duration": 0,
    "start_time": "2023-06-19T13:53:29.101Z"
   },
   {
    "duration": 0,
    "start_time": "2023-06-19T13:53:29.102Z"
   },
   {
    "duration": 0,
    "start_time": "2023-06-19T13:53:29.103Z"
   },
   {
    "duration": 0,
    "start_time": "2023-06-19T13:53:29.104Z"
   },
   {
    "duration": 0,
    "start_time": "2023-06-19T13:53:29.105Z"
   },
   {
    "duration": 0,
    "start_time": "2023-06-19T13:53:29.106Z"
   },
   {
    "duration": 2009,
    "start_time": "2023-06-19T14:15:21.789Z"
   },
   {
    "duration": 1983,
    "start_time": "2023-06-19T14:15:23.808Z"
   },
   {
    "duration": 1199,
    "start_time": "2023-06-19T14:15:25.793Z"
   },
   {
    "duration": 48,
    "start_time": "2023-06-19T14:15:26.994Z"
   },
   {
    "duration": 15,
    "start_time": "2023-06-19T14:15:27.043Z"
   },
   {
    "duration": 50,
    "start_time": "2023-06-19T14:15:27.059Z"
   },
   {
    "duration": 49,
    "start_time": "2023-06-19T14:15:27.111Z"
   },
   {
    "duration": 68,
    "start_time": "2023-06-19T14:15:27.161Z"
   },
   {
    "duration": 42,
    "start_time": "2023-06-19T14:15:27.230Z"
   },
   {
    "duration": 1734,
    "start_time": "2023-06-19T14:15:27.275Z"
   },
   {
    "duration": 21,
    "start_time": "2023-06-19T14:15:29.010Z"
   },
   {
    "duration": 33,
    "start_time": "2023-06-19T14:15:29.032Z"
   },
   {
    "duration": 33,
    "start_time": "2023-06-19T14:15:29.067Z"
   },
   {
    "duration": 19,
    "start_time": "2023-06-19T14:15:29.102Z"
   },
   {
    "duration": 17,
    "start_time": "2023-06-19T14:15:29.122Z"
   },
   {
    "duration": 24,
    "start_time": "2023-06-19T14:15:29.141Z"
   },
   {
    "duration": 20,
    "start_time": "2023-06-19T14:15:29.167Z"
   },
   {
    "duration": 34,
    "start_time": "2023-06-19T14:15:29.188Z"
   },
   {
    "duration": 27,
    "start_time": "2023-06-19T14:15:29.224Z"
   },
   {
    "duration": 26,
    "start_time": "2023-06-19T14:15:29.253Z"
   },
   {
    "duration": 79,
    "start_time": "2023-06-19T14:15:29.281Z"
   },
   {
    "duration": 16,
    "start_time": "2023-06-19T14:15:29.362Z"
   },
   {
    "duration": 36,
    "start_time": "2023-06-19T14:15:29.380Z"
   },
   {
    "duration": 378,
    "start_time": "2023-06-19T14:15:29.417Z"
   },
   {
    "duration": 240,
    "start_time": "2023-06-19T14:15:29.797Z"
   },
   {
    "duration": 337,
    "start_time": "2023-06-19T14:15:30.039Z"
   },
   {
    "duration": 295,
    "start_time": "2023-06-19T14:15:30.377Z"
   },
   {
    "duration": 198,
    "start_time": "2023-06-19T14:15:30.676Z"
   },
   {
    "duration": 211,
    "start_time": "2023-06-19T14:15:30.875Z"
   },
   {
    "duration": 226,
    "start_time": "2023-06-19T14:15:31.088Z"
   },
   {
    "duration": 173,
    "start_time": "2023-06-19T14:15:31.316Z"
   },
   {
    "duration": 200,
    "start_time": "2023-06-19T14:15:31.491Z"
   },
   {
    "duration": 263,
    "start_time": "2023-06-19T14:15:31.692Z"
   },
   {
    "duration": 19,
    "start_time": "2023-06-19T14:15:31.957Z"
   },
   {
    "duration": 72,
    "start_time": "2023-06-19T14:15:31.978Z"
   },
   {
    "duration": 67,
    "start_time": "2023-06-19T14:15:32.051Z"
   },
   {
    "duration": 74,
    "start_time": "2023-06-19T14:15:32.120Z"
   },
   {
    "duration": 67,
    "start_time": "2023-06-19T14:15:32.195Z"
   },
   {
    "duration": 222,
    "start_time": "2023-06-19T14:15:32.264Z"
   },
   {
    "duration": 50,
    "start_time": "2023-06-19T14:15:32.488Z"
   },
   {
    "duration": 29,
    "start_time": "2023-06-19T14:15:32.540Z"
   },
   {
    "duration": 28,
    "start_time": "2023-06-19T14:15:32.570Z"
   },
   {
    "duration": 32,
    "start_time": "2023-06-19T14:15:32.599Z"
   },
   {
    "duration": 20,
    "start_time": "2023-06-19T14:15:32.633Z"
   },
   {
    "duration": 642,
    "start_time": "2023-06-19T14:15:32.655Z"
   },
   {
    "duration": 550,
    "start_time": "2023-06-19T14:15:33.300Z"
   },
   {
    "duration": 463,
    "start_time": "2023-06-19T14:15:33.851Z"
   },
   {
    "duration": 181,
    "start_time": "2023-06-19T14:15:34.316Z"
   },
   {
    "duration": 4,
    "start_time": "2023-06-19T14:15:34.499Z"
   },
   {
    "duration": 173,
    "start_time": "2023-06-19T14:15:34.505Z"
   },
   {
    "duration": 3,
    "start_time": "2023-06-19T14:15:34.679Z"
   },
   {
    "duration": 14,
    "start_time": "2023-06-19T14:15:34.683Z"
   },
   {
    "duration": 39,
    "start_time": "2023-06-19T14:15:34.700Z"
   },
   {
    "duration": 97,
    "start_time": "2023-06-19T14:15:34.740Z"
   },
   {
    "duration": 16,
    "start_time": "2023-06-19T14:15:34.839Z"
   },
   {
    "duration": 27,
    "start_time": "2023-06-19T14:15:34.857Z"
   },
   {
    "duration": 0,
    "start_time": "2023-06-19T14:15:34.886Z"
   },
   {
    "duration": 0,
    "start_time": "2023-06-19T14:15:34.887Z"
   },
   {
    "duration": 0,
    "start_time": "2023-06-19T14:15:34.888Z"
   },
   {
    "duration": 0,
    "start_time": "2023-06-19T14:15:34.889Z"
   },
   {
    "duration": 0,
    "start_time": "2023-06-19T14:15:34.890Z"
   },
   {
    "duration": 0,
    "start_time": "2023-06-19T14:15:34.891Z"
   },
   {
    "duration": 0,
    "start_time": "2023-06-19T14:15:34.892Z"
   },
   {
    "duration": 0,
    "start_time": "2023-06-19T14:15:34.893Z"
   },
   {
    "duration": 0,
    "start_time": "2023-06-19T14:15:34.894Z"
   },
   {
    "duration": 0,
    "start_time": "2023-06-19T14:15:34.895Z"
   },
   {
    "duration": 2948,
    "start_time": "2023-06-19T14:15:52.872Z"
   },
   {
    "duration": 2091,
    "start_time": "2023-06-19T14:16:01.811Z"
   },
   {
    "duration": 2214,
    "start_time": "2023-06-19T14:16:03.904Z"
   },
   {
    "duration": 1142,
    "start_time": "2023-06-19T14:16:06.120Z"
   },
   {
    "duration": 42,
    "start_time": "2023-06-19T14:16:07.264Z"
   },
   {
    "duration": 18,
    "start_time": "2023-06-19T14:16:07.308Z"
   },
   {
    "duration": 63,
    "start_time": "2023-06-19T14:16:07.328Z"
   },
   {
    "duration": 53,
    "start_time": "2023-06-19T14:16:07.393Z"
   },
   {
    "duration": 175,
    "start_time": "2023-06-19T14:16:07.447Z"
   },
   {
    "duration": 55,
    "start_time": "2023-06-19T14:16:07.623Z"
   },
   {
    "duration": 1757,
    "start_time": "2023-06-19T14:16:07.681Z"
   },
   {
    "duration": 19,
    "start_time": "2023-06-19T14:16:09.440Z"
   },
   {
    "duration": 66,
    "start_time": "2023-06-19T14:16:09.461Z"
   },
   {
    "duration": 17,
    "start_time": "2023-06-19T14:16:09.534Z"
   },
   {
    "duration": 47,
    "start_time": "2023-06-19T14:16:09.553Z"
   },
   {
    "duration": 44,
    "start_time": "2023-06-19T14:16:09.601Z"
   },
   {
    "duration": 26,
    "start_time": "2023-06-19T14:16:09.647Z"
   },
   {
    "duration": 50,
    "start_time": "2023-06-19T14:16:09.674Z"
   },
   {
    "duration": 86,
    "start_time": "2023-06-19T14:16:09.726Z"
   },
   {
    "duration": 33,
    "start_time": "2023-06-19T14:16:09.814Z"
   },
   {
    "duration": 54,
    "start_time": "2023-06-19T14:16:09.849Z"
   },
   {
    "duration": 142,
    "start_time": "2023-06-19T14:16:09.905Z"
   },
   {
    "duration": 54,
    "start_time": "2023-06-19T14:16:10.048Z"
   },
   {
    "duration": 41,
    "start_time": "2023-06-19T14:16:10.105Z"
   },
   {
    "duration": 987,
    "start_time": "2023-06-19T14:16:10.148Z"
   },
   {
    "duration": 471,
    "start_time": "2023-06-19T14:16:11.137Z"
   },
   {
    "duration": 533,
    "start_time": "2023-06-19T14:16:11.610Z"
   },
   {
    "duration": 415,
    "start_time": "2023-06-19T14:16:12.146Z"
   },
   {
    "duration": 254,
    "start_time": "2023-06-19T14:16:12.565Z"
   },
   {
    "duration": 232,
    "start_time": "2023-06-19T14:16:12.820Z"
   },
   {
    "duration": 245,
    "start_time": "2023-06-19T14:16:13.054Z"
   },
   {
    "duration": 199,
    "start_time": "2023-06-19T14:16:13.301Z"
   },
   {
    "duration": 268,
    "start_time": "2023-06-19T14:16:13.502Z"
   },
   {
    "duration": 222,
    "start_time": "2023-06-19T14:16:13.771Z"
   },
   {
    "duration": 32,
    "start_time": "2023-06-19T14:16:14.001Z"
   },
   {
    "duration": 28,
    "start_time": "2023-06-19T14:16:14.034Z"
   },
   {
    "duration": 3,
    "start_time": "2023-06-19T14:16:14.063Z"
   },
   {
    "duration": 32,
    "start_time": "2023-06-19T14:16:14.067Z"
   },
   {
    "duration": 17,
    "start_time": "2023-06-19T14:16:14.105Z"
   },
   {
    "duration": 22,
    "start_time": "2023-06-19T14:16:14.125Z"
   },
   {
    "duration": 21,
    "start_time": "2023-06-19T14:16:14.149Z"
   },
   {
    "duration": 11,
    "start_time": "2023-06-19T14:16:14.171Z"
   },
   {
    "duration": 40,
    "start_time": "2023-06-19T14:16:14.183Z"
   },
   {
    "duration": 8,
    "start_time": "2023-06-19T14:16:14.226Z"
   },
   {
    "duration": 16,
    "start_time": "2023-06-19T14:16:14.235Z"
   },
   {
    "duration": 615,
    "start_time": "2023-06-19T14:16:14.252Z"
   },
   {
    "duration": 548,
    "start_time": "2023-06-19T14:16:14.868Z"
   },
   {
    "duration": 467,
    "start_time": "2023-06-19T14:16:15.418Z"
   },
   {
    "duration": 201,
    "start_time": "2023-06-19T14:16:15.887Z"
   },
   {
    "duration": 17,
    "start_time": "2023-06-19T14:16:16.089Z"
   },
   {
    "duration": 342,
    "start_time": "2023-06-19T14:16:16.121Z"
   },
   {
    "duration": 3,
    "start_time": "2023-06-19T14:16:16.464Z"
   },
   {
    "duration": 63,
    "start_time": "2023-06-19T14:16:16.469Z"
   },
   {
    "duration": 42,
    "start_time": "2023-06-19T14:16:16.534Z"
   },
   {
    "duration": 41,
    "start_time": "2023-06-19T14:16:16.578Z"
   },
   {
    "duration": 26,
    "start_time": "2023-06-19T14:16:16.621Z"
   },
   {
    "duration": 91830,
    "start_time": "2023-06-19T14:16:16.649Z"
   },
   {
    "duration": 42289,
    "start_time": "2023-06-19T14:17:48.480Z"
   },
   {
    "duration": 59712,
    "start_time": "2023-06-19T14:18:30.771Z"
   },
   {
    "duration": 23978,
    "start_time": "2023-06-19T14:19:30.485Z"
   },
   {
    "duration": 3,
    "start_time": "2023-06-19T14:19:54.465Z"
   },
   {
    "duration": 250,
    "start_time": "2023-06-19T14:19:54.469Z"
   },
   {
    "duration": 3,
    "start_time": "2023-06-19T14:19:54.722Z"
   },
   {
    "duration": 1092,
    "start_time": "2023-06-19T14:19:54.726Z"
   },
   {
    "duration": 79,
    "start_time": "2023-06-19T14:19:55.820Z"
   },
   {
    "duration": 138,
    "start_time": "2023-06-19T14:19:55.902Z"
   },
   {
    "duration": 4,
    "start_time": "2023-06-19T14:19:56.042Z"
   },
   {
    "duration": 63,
    "start_time": "2023-08-03T17:00:24.217Z"
   },
   {
    "duration": 1352,
    "start_time": "2023-08-03T17:00:28.735Z"
   },
   {
    "duration": 77,
    "start_time": "2023-08-03T17:00:30.702Z"
   },
   {
    "duration": 4,
    "start_time": "2023-08-03T17:00:40.502Z"
   },
   {
    "duration": 4,
    "start_time": "2023-08-03T17:00:41.362Z"
   }
  ],
  "kernelspec": {
   "display_name": "Python 3 (ipykernel)",
   "language": "python",
   "name": "python3"
  },
  "language_info": {
   "codemirror_mode": {
    "name": "ipython",
    "version": 3
   },
   "file_extension": ".py",
   "mimetype": "text/x-python",
   "name": "python",
   "nbconvert_exporter": "python",
   "pygments_lexer": "ipython3",
   "version": "3.11.4"
  },
  "toc": {
   "base_numbering": 1,
   "nav_menu": {},
   "number_sections": true,
   "sideBar": true,
   "skip_h1_title": true,
   "title_cell": "Содержание",
   "title_sidebar": "Contents",
   "toc_cell": true,
   "toc_position": {
    "height": "calc(100% - 180px)",
    "left": "10px",
    "top": "150px",
    "width": "269.757px"
   },
   "toc_section_display": true,
   "toc_window_display": true
  }
 },
 "nbformat": 4,
 "nbformat_minor": 4
}
