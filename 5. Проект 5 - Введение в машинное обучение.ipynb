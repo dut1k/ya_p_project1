{
 "cells": [
  {
   "cell_type": "markdown",
   "metadata": {},
   "source": [
    "# Рекомендация тарифов"
   ]
  },
  {
   "cell_type": "markdown",
   "metadata": {},
   "source": [
    "В вашем распоряжении данные о поведении клиентов, которые уже перешли на эти тарифы (из проекта курса «Статистический анализ данных»). Нужно построить модель для задачи классификации, которая выберет подходящий тариф. Предобработка данных не понадобится — вы её уже сделали.\n",
    "\n",
    "Постройте модель с максимально большим значением *accuracy*. Чтобы сдать проект успешно, нужно довести долю правильных ответов по крайней мере до 0.75. Проверьте *accuracy* на тестовой выборке самостоятельно."
   ]
  },
  {
   "cell_type": "markdown",
   "metadata": {},
   "source": [
    "## Откройте и изучите файл"
   ]
  },
  {
   "cell_type": "markdown",
   "metadata": {},
   "source": [
    "Импортируем библиотеки"
   ]
  },
  {
   "cell_type": "code",
   "execution_count": 1,
   "metadata": {},
   "outputs": [
    {
     "name": "stdout",
     "output_type": "stream",
     "text": [
      "Requirement already satisfied: optuna in /opt/conda/lib/python3.9/site-packages (3.2.0)\n",
      "Requirement already satisfied: alembic>=1.5.0 in /opt/conda/lib/python3.9/site-packages (from optuna) (1.6.5)\n",
      "Requirement already satisfied: sqlalchemy>=1.3.0 in /opt/conda/lib/python3.9/site-packages (from optuna) (1.4.20)\n",
      "Requirement already satisfied: packaging>=20.0 in /opt/conda/lib/python3.9/site-packages (from optuna) (21.3)\n",
      "Requirement already satisfied: cmaes>=0.9.1 in /opt/conda/lib/python3.9/site-packages (from optuna) (0.9.1)\n",
      "Requirement already satisfied: colorlog in /opt/conda/lib/python3.9/site-packages (from optuna) (6.7.0)\n",
      "Requirement already satisfied: PyYAML in /opt/conda/lib/python3.9/site-packages (from optuna) (6.0)\n",
      "Requirement already satisfied: tqdm in /opt/conda/lib/python3.9/site-packages (from optuna) (4.61.2)\n",
      "Requirement already satisfied: numpy in /opt/conda/lib/python3.9/site-packages (from optuna) (1.21.1)\n",
      "Requirement already satisfied: Mako in /opt/conda/lib/python3.9/site-packages (from alembic>=1.5.0->optuna) (1.1.4)\n",
      "Requirement already satisfied: python-editor>=0.3 in /opt/conda/lib/python3.9/site-packages (from alembic>=1.5.0->optuna) (1.0.4)\n",
      "Requirement already satisfied: python-dateutil in /opt/conda/lib/python3.9/site-packages (from alembic>=1.5.0->optuna) (2.8.1)\n",
      "Requirement already satisfied: pyparsing!=3.0.5,>=2.0.2 in /opt/conda/lib/python3.9/site-packages (from packaging>=20.0->optuna) (2.4.7)\n",
      "Requirement already satisfied: greenlet!=0.4.17 in /opt/conda/lib/python3.9/site-packages (from sqlalchemy>=1.3.0->optuna) (1.1.0)\n",
      "Requirement already satisfied: MarkupSafe>=0.9.2 in /opt/conda/lib/python3.9/site-packages (from Mako->alembic>=1.5.0->optuna) (2.1.1)\n",
      "Requirement already satisfied: six>=1.5 in /opt/conda/lib/python3.9/site-packages (from python-dateutil->alembic>=1.5.0->optuna) (1.16.0)\n",
      "Note: you may need to restart the kernel to use updated packages.\n"
     ]
    }
   ],
   "source": [
    "pip install optuna"
   ]
  },
  {
   "cell_type": "code",
   "execution_count": 2,
   "metadata": {},
   "outputs": [
    {
     "name": "stdout",
     "output_type": "stream",
     "text": [
      "Requirement already satisfied: fast_ml in /opt/conda/lib/python3.9/site-packages (3.68)\n",
      "Note: you may need to restart the kernel to use updated packages.\n"
     ]
    }
   ],
   "source": [
    "pip install fast_ml"
   ]
  },
  {
   "cell_type": "code",
   "execution_count": 3,
   "metadata": {},
   "outputs": [],
   "source": [
    "import pandas as pd\n",
    "import matplotlib.pyplot as plt\n",
    "import numpy as np\n",
    "import optuna\n",
    "import sklearn\n",
    "from sklearn.ensemble import RandomForestClassifier\n",
    "from sklearn.tree import DecisionTreeClassifier\n",
    "from sklearn.linear_model import LogisticRegression\n",
    "from fast_ml.model_development import train_valid_test_split\n",
    "from sklearn.metrics import accuracy_score\n",
    "from sklearn.model_selection import GridSearchCV\n",
    "from datetime import datetime"
   ]
  },
  {
   "cell_type": "markdown",
   "metadata": {},
   "source": [
    "Загрузим данные и посмотрим, что у нас в датасете"
   ]
  },
  {
   "cell_type": "code",
   "execution_count": 4,
   "metadata": {},
   "outputs": [],
   "source": [
    "try:\n",
    "    data = pd.read_csv('/datasets/users_behavior.csv')\n",
    "except:\n",
    "    data = pd.read_csv('https://code.s3.yandex.net/datasets/users_behavior.csv')"
   ]
  },
  {
   "cell_type": "code",
   "execution_count": 5,
   "metadata": {},
   "outputs": [
    {
     "data": {
      "text/html": [
       "<div>\n",
       "<style scoped>\n",
       "    .dataframe tbody tr th:only-of-type {\n",
       "        vertical-align: middle;\n",
       "    }\n",
       "\n",
       "    .dataframe tbody tr th {\n",
       "        vertical-align: top;\n",
       "    }\n",
       "\n",
       "    .dataframe thead th {\n",
       "        text-align: right;\n",
       "    }\n",
       "</style>\n",
       "<table border=\"1\" class=\"dataframe\">\n",
       "  <thead>\n",
       "    <tr style=\"text-align: right;\">\n",
       "      <th></th>\n",
       "      <th>calls</th>\n",
       "      <th>minutes</th>\n",
       "      <th>messages</th>\n",
       "      <th>mb_used</th>\n",
       "      <th>is_ultra</th>\n",
       "    </tr>\n",
       "  </thead>\n",
       "  <tbody>\n",
       "    <tr>\n",
       "      <th>0</th>\n",
       "      <td>40.0</td>\n",
       "      <td>311.90</td>\n",
       "      <td>83.0</td>\n",
       "      <td>19915.42</td>\n",
       "      <td>0</td>\n",
       "    </tr>\n",
       "    <tr>\n",
       "      <th>1</th>\n",
       "      <td>85.0</td>\n",
       "      <td>516.75</td>\n",
       "      <td>56.0</td>\n",
       "      <td>22696.96</td>\n",
       "      <td>0</td>\n",
       "    </tr>\n",
       "    <tr>\n",
       "      <th>2</th>\n",
       "      <td>77.0</td>\n",
       "      <td>467.66</td>\n",
       "      <td>86.0</td>\n",
       "      <td>21060.45</td>\n",
       "      <td>0</td>\n",
       "    </tr>\n",
       "    <tr>\n",
       "      <th>3</th>\n",
       "      <td>106.0</td>\n",
       "      <td>745.53</td>\n",
       "      <td>81.0</td>\n",
       "      <td>8437.39</td>\n",
       "      <td>1</td>\n",
       "    </tr>\n",
       "    <tr>\n",
       "      <th>4</th>\n",
       "      <td>66.0</td>\n",
       "      <td>418.74</td>\n",
       "      <td>1.0</td>\n",
       "      <td>14502.75</td>\n",
       "      <td>0</td>\n",
       "    </tr>\n",
       "  </tbody>\n",
       "</table>\n",
       "</div>"
      ],
      "text/plain": [
       "   calls  minutes  messages   mb_used  is_ultra\n",
       "0   40.0   311.90      83.0  19915.42         0\n",
       "1   85.0   516.75      56.0  22696.96         0\n",
       "2   77.0   467.66      86.0  21060.45         0\n",
       "3  106.0   745.53      81.0   8437.39         1\n",
       "4   66.0   418.74       1.0  14502.75         0"
      ]
     },
     "execution_count": 5,
     "metadata": {},
     "output_type": "execute_result"
    }
   ],
   "source": [
    "data.head()"
   ]
  },
  {
   "cell_type": "code",
   "execution_count": 6,
   "metadata": {},
   "outputs": [
    {
     "name": "stdout",
     "output_type": "stream",
     "text": [
      "<class 'pandas.core.frame.DataFrame'>\n",
      "RangeIndex: 3214 entries, 0 to 3213\n",
      "Data columns (total 5 columns):\n",
      " #   Column    Non-Null Count  Dtype  \n",
      "---  ------    --------------  -----  \n",
      " 0   calls     3214 non-null   float64\n",
      " 1   minutes   3214 non-null   float64\n",
      " 2   messages  3214 non-null   float64\n",
      " 3   mb_used   3214 non-null   float64\n",
      " 4   is_ultra  3214 non-null   int64  \n",
      "dtypes: float64(4), int64(1)\n",
      "memory usage: 125.7 KB\n"
     ]
    }
   ],
   "source": [
    "data.info()"
   ]
  },
  {
   "cell_type": "code",
   "execution_count": 7,
   "metadata": {
    "scrolled": true
   },
   "outputs": [
    {
     "data": {
      "text/html": [
       "<div>\n",
       "<style scoped>\n",
       "    .dataframe tbody tr th:only-of-type {\n",
       "        vertical-align: middle;\n",
       "    }\n",
       "\n",
       "    .dataframe tbody tr th {\n",
       "        vertical-align: top;\n",
       "    }\n",
       "\n",
       "    .dataframe thead th {\n",
       "        text-align: right;\n",
       "    }\n",
       "</style>\n",
       "<table border=\"1\" class=\"dataframe\">\n",
       "  <thead>\n",
       "    <tr style=\"text-align: right;\">\n",
       "      <th></th>\n",
       "      <th>calls</th>\n",
       "      <th>minutes</th>\n",
       "      <th>messages</th>\n",
       "      <th>mb_used</th>\n",
       "      <th>is_ultra</th>\n",
       "    </tr>\n",
       "  </thead>\n",
       "  <tbody>\n",
       "    <tr>\n",
       "      <th>count</th>\n",
       "      <td>3214.000000</td>\n",
       "      <td>3214.000000</td>\n",
       "      <td>3214.000000</td>\n",
       "      <td>3214.000000</td>\n",
       "      <td>3214.000000</td>\n",
       "    </tr>\n",
       "    <tr>\n",
       "      <th>mean</th>\n",
       "      <td>63.038892</td>\n",
       "      <td>438.208787</td>\n",
       "      <td>38.281269</td>\n",
       "      <td>17207.673836</td>\n",
       "      <td>0.306472</td>\n",
       "    </tr>\n",
       "    <tr>\n",
       "      <th>std</th>\n",
       "      <td>33.236368</td>\n",
       "      <td>234.569872</td>\n",
       "      <td>36.148326</td>\n",
       "      <td>7570.968246</td>\n",
       "      <td>0.461100</td>\n",
       "    </tr>\n",
       "    <tr>\n",
       "      <th>min</th>\n",
       "      <td>0.000000</td>\n",
       "      <td>0.000000</td>\n",
       "      <td>0.000000</td>\n",
       "      <td>0.000000</td>\n",
       "      <td>0.000000</td>\n",
       "    </tr>\n",
       "    <tr>\n",
       "      <th>25%</th>\n",
       "      <td>40.000000</td>\n",
       "      <td>274.575000</td>\n",
       "      <td>9.000000</td>\n",
       "      <td>12491.902500</td>\n",
       "      <td>0.000000</td>\n",
       "    </tr>\n",
       "    <tr>\n",
       "      <th>50%</th>\n",
       "      <td>62.000000</td>\n",
       "      <td>430.600000</td>\n",
       "      <td>30.000000</td>\n",
       "      <td>16943.235000</td>\n",
       "      <td>0.000000</td>\n",
       "    </tr>\n",
       "    <tr>\n",
       "      <th>75%</th>\n",
       "      <td>82.000000</td>\n",
       "      <td>571.927500</td>\n",
       "      <td>57.000000</td>\n",
       "      <td>21424.700000</td>\n",
       "      <td>1.000000</td>\n",
       "    </tr>\n",
       "    <tr>\n",
       "      <th>max</th>\n",
       "      <td>244.000000</td>\n",
       "      <td>1632.060000</td>\n",
       "      <td>224.000000</td>\n",
       "      <td>49745.730000</td>\n",
       "      <td>1.000000</td>\n",
       "    </tr>\n",
       "  </tbody>\n",
       "</table>\n",
       "</div>"
      ],
      "text/plain": [
       "             calls      minutes     messages       mb_used     is_ultra\n",
       "count  3214.000000  3214.000000  3214.000000   3214.000000  3214.000000\n",
       "mean     63.038892   438.208787    38.281269  17207.673836     0.306472\n",
       "std      33.236368   234.569872    36.148326   7570.968246     0.461100\n",
       "min       0.000000     0.000000     0.000000      0.000000     0.000000\n",
       "25%      40.000000   274.575000     9.000000  12491.902500     0.000000\n",
       "50%      62.000000   430.600000    30.000000  16943.235000     0.000000\n",
       "75%      82.000000   571.927500    57.000000  21424.700000     1.000000\n",
       "max     244.000000  1632.060000   224.000000  49745.730000     1.000000"
      ]
     },
     "execution_count": 7,
     "metadata": {},
     "output_type": "execute_result"
    }
   ],
   "source": [
    "data.describe()"
   ]
  },
  {
   "cell_type": "markdown",
   "metadata": {},
   "source": [
    "Т.к. уже в задании было сказано, что никаких предобработок делать не нужно, просто смотрим и убеждаемся, что в данных всё ОК"
   ]
  },
  {
   "cell_type": "markdown",
   "metadata": {},
   "source": [
    "## Разбейте данные на выборки"
   ]
  },
  {
   "cell_type": "markdown",
   "metadata": {},
   "source": [
    "Делим данные на обучающую (70%), валидационную (15%) и тестовую (15%) выборки"
   ]
  },
  {
   "cell_type": "code",
   "execution_count": 8,
   "metadata": {},
   "outputs": [],
   "source": [
    "features_train, target_train, \\\n",
    "features_valid, target_valid, \\\n",
    "features_test, target_test = train_valid_test_split(data, 'is_ultra', train_size=0.7, valid_size=0.15, test_size=0.15)"
   ]
  },
  {
   "cell_type": "markdown",
   "metadata": {},
   "source": [
    "При импорте train_valid_test_split произошла ошибка, по этому используем train_test_split дважды. Вначале делим данные на обучающую и тестовую выборку, потом из обучающей выборки забираем валидационную"
   ]
  },
  {
   "cell_type": "markdown",
   "metadata": {},
   "source": [
    "Посмотрим размеры наших выборок:"
   ]
  },
  {
   "cell_type": "code",
   "execution_count": 9,
   "metadata": {},
   "outputs": [
    {
     "name": "stdout",
     "output_type": "stream",
     "text": [
      "Признаки обучающей выборки: 2249/4,\n",
      "Признаки валидационной выборки: 482/4,\n",
      "Признаки тестовой выборки: 483/4,\n",
      "Целевой признак обучающей выборки: 2249,\n",
      "Целевой признак валидационной выборки: 482,\n",
      "Целевой признак тестовой выборки: 483\n"
     ]
    }
   ],
   "source": [
    "print(f'Признаки обучающей выборки: {features_train.shape[0]}/{features_train.shape[1]},\\n\\\n",
    "Признаки валидационной выборки: {features_valid.shape[0]}/{features_valid.shape[1]},\\n\\\n",
    "Признаки тестовой выборки: {features_test.shape[0]}/{features_test.shape[1]},\\n\\\n",
    "Целевой признак обучающей выборки: {target_train.shape[0]},\\n\\\n",
    "Целевой признак валидационной выборки: {target_valid.shape[0]},\\n\\\n",
    "Целевой признак тестовой выборки: {target_test.shape[0]}')"
   ]
  },
  {
   "cell_type": "markdown",
   "metadata": {},
   "source": [
    "## Исследуйте модели"
   ]
  },
  {
   "cell_type": "markdown",
   "metadata": {},
   "source": [
    "#### GridSearchCV"
   ]
  },
  {
   "cell_type": "markdown",
   "metadata": {},
   "source": [
    "Перебираем параметры решающего дерева с помощью модели GridSearchCV"
   ]
  },
  {
   "cell_type": "code",
   "execution_count": 10,
   "metadata": {
    "scrolled": true
   },
   "outputs": [
    {
     "name": "stdout",
     "output_type": "stream",
     "text": [
      "0:00:13.930530\n"
     ]
    }
   ],
   "source": [
    "start = datetime.now()\n",
    "\n",
    "model_dtc = DecisionTreeClassifier(random_state=12345) # создаем модель решающего дерева\n",
    "parametrs = {'criterion': ('gini', 'entropy', 'log_loss'),\n",
    "             'max_depth': range (1, 14),\n",
    "             'splitter': ('best', 'random'),\n",
    "             'min_samples_split': range (2, 14, 2)} # список гиперпараметров для перебора модели решающего дерева\n",
    "model_dtc = GridSearchCV(model_dtc, parametrs) # создаем модель для перебора гиперпарамтеров\n",
    "model_dtc.fit(features_train, target_train) # обучаем и находим лучшие гиперпараметры\n",
    "\n",
    "print(datetime.now() - start)"
   ]
  },
  {
   "cell_type": "code",
   "execution_count": 11,
   "metadata": {},
   "outputs": [
    {
     "name": "stdout",
     "output_type": "stream",
     "text": [
      "0.7800829875518672\n"
     ]
    }
   ],
   "source": [
    "predictions_dtc = model_dtc.predict(features_valid)\n",
    "result_dtc = accuracy_score(target_valid, predictions_dtc)\n",
    "print(result_dtc)"
   ]
  },
  {
   "cell_type": "code",
   "execution_count": 12,
   "metadata": {},
   "outputs": [
    {
     "name": "stdout",
     "output_type": "stream",
     "text": [
      "Качество разбиения (criterion): entropy;\n",
      "Стратегия разбиения в узлах (splitter): best;\n",
      "Максимальная глубина дерева (max_depth): 6;\n",
      "Минимальное кол-во объектов в узле для разбиения (min_samples_split): 10\n"
     ]
    }
   ],
   "source": [
    "print(f\"Качество разбиения (criterion): {model_dtc.best_params_['criterion']};\\n\\\n",
    "Стратегия разбиения в узлах (splitter): {model_dtc.best_params_['splitter']};\\n\\\n",
    "Максимальная глубина дерева (max_depth): {model_dtc.best_params_['max_depth']};\\n\\\n",
    "Минимальное кол-во объектов в узле для разбиения (min_samples_split): {model_dtc.best_params_['min_samples_split']}\")"
   ]
  },
  {
   "cell_type": "markdown",
   "metadata": {},
   "source": [
    "#### optuna"
   ]
  },
  {
   "cell_type": "markdown",
   "metadata": {},
   "source": [
    "Попробую ещё и вторым способом. Первый раз использовал optuna на случайном лесу, показалось, что параметры подбираются быстрее"
   ]
  },
  {
   "cell_type": "code",
   "execution_count": 13,
   "metadata": {
    "scrolled": true
   },
   "outputs": [
    {
     "name": "stderr",
     "output_type": "stream",
     "text": [
      "[I 2023-06-03 14:45:44,807] A new study created in memory with name: no-name-dbc97bf0-7519-473d-a46c-47ad8847ea01\n",
      "[I 2023-06-03 14:45:44,823] Trial 0 finished with value: 0.6950207468879668 and parameters: {'criterion': 'gini', 'max_depth': 7, 'splitter': 'random', 'min_samples_split': 2}. Best is trial 0 with value: 0.6950207468879668.\n",
      "[I 2023-06-03 14:45:44,837] Trial 1 finished with value: 0.6950207468879668 and parameters: {'criterion': 'entropy', 'max_depth': 13, 'splitter': 'best', 'min_samples_split': 8}. Best is trial 0 with value: 0.6950207468879668.\n",
      "[I 2023-06-03 14:45:44,878] Trial 2 finished with value: 0.6950207468879668 and parameters: {'criterion': 'gini', 'max_depth': 3, 'splitter': 'random', 'min_samples_split': 14}. Best is trial 0 with value: 0.6950207468879668.\n",
      "[I 2023-06-03 14:45:44,901] Trial 3 finished with value: 0.6950207468879668 and parameters: {'criterion': 'entropy', 'max_depth': 8, 'splitter': 'best', 'min_samples_split': 8}. Best is trial 0 with value: 0.6950207468879668.\n",
      "[I 2023-06-03 14:45:44,918] Trial 4 finished with value: 0.6950207468879668 and parameters: {'criterion': 'gini', 'max_depth': 1, 'splitter': 'best', 'min_samples_split': 10}. Best is trial 0 with value: 0.6950207468879668.\n",
      "[I 2023-06-03 14:45:44,933] Trial 5 finished with value: 0.6950207468879668 and parameters: {'criterion': 'entropy', 'max_depth': 3, 'splitter': 'best', 'min_samples_split': 12}. Best is trial 0 with value: 0.6950207468879668.\n",
      "[I 2023-06-03 14:45:44,948] Trial 6 finished with value: 0.6950207468879668 and parameters: {'criterion': 'gini', 'max_depth': 1, 'splitter': 'best', 'min_samples_split': 2}. Best is trial 0 with value: 0.6950207468879668.\n",
      "[I 2023-06-03 14:45:44,971] Trial 7 finished with value: 0.6950207468879668 and parameters: {'criterion': 'entropy', 'max_depth': 8, 'splitter': 'best', 'min_samples_split': 8}. Best is trial 0 with value: 0.6950207468879668.\n",
      "[I 2023-06-03 14:45:45,002] Trial 8 finished with value: 0.6950207468879668 and parameters: {'criterion': 'entropy', 'max_depth': 3, 'splitter': 'best', 'min_samples_split': 6}. Best is trial 0 with value: 0.6950207468879668.\n",
      "[I 2023-06-03 14:45:45,021] Trial 9 finished with value: 0.6950207468879668 and parameters: {'criterion': 'gini', 'max_depth': 2, 'splitter': 'random', 'min_samples_split': 6}. Best is trial 0 with value: 0.6950207468879668.\n",
      "[I 2023-06-03 14:45:45,054] Trial 10 finished with value: 0.6950207468879668 and parameters: {'criterion': 'gini', 'max_depth': 12, 'splitter': 'random', 'min_samples_split': 2}. Best is trial 0 with value: 0.6950207468879668.\n",
      "[I 2023-06-03 14:45:45,098] Trial 11 finished with value: 0.6950207468879668 and parameters: {'criterion': 'entropy', 'max_depth': 14, 'splitter': 'random', 'min_samples_split': 4}. Best is trial 0 with value: 0.6950207468879668.\n",
      "[I 2023-06-03 14:45:45,129] Trial 12 finished with value: 0.6950207468879668 and parameters: {'criterion': 'entropy', 'max_depth': 10, 'splitter': 'random', 'min_samples_split': 4}. Best is trial 0 with value: 0.6950207468879668.\n",
      "[I 2023-06-03 14:45:45,163] Trial 13 finished with value: 0.6950207468879668 and parameters: {'criterion': 'gini', 'max_depth': 6, 'splitter': 'random', 'min_samples_split': 10}. Best is trial 0 with value: 0.6950207468879668.\n",
      "[I 2023-06-03 14:45:45,204] Trial 14 finished with value: 0.6950207468879668 and parameters: {'criterion': 'entropy', 'max_depth': 6, 'splitter': 'best', 'min_samples_split': 14}. Best is trial 0 with value: 0.6950207468879668.\n",
      "[I 2023-06-03 14:45:45,233] Trial 15 finished with value: 0.6950207468879668 and parameters: {'criterion': 'gini', 'max_depth': 11, 'splitter': 'random', 'min_samples_split': 4}. Best is trial 0 with value: 0.6950207468879668.\n",
      "[I 2023-06-03 14:45:45,272] Trial 16 finished with value: 0.6950207468879668 and parameters: {'criterion': 'entropy', 'max_depth': 14, 'splitter': 'random', 'min_samples_split': 6}. Best is trial 0 with value: 0.6950207468879668.\n",
      "[I 2023-06-03 14:45:45,316] Trial 17 finished with value: 0.6950207468879668 and parameters: {'criterion': 'gini', 'max_depth': 6, 'splitter': 'best', 'min_samples_split': 10}. Best is trial 0 with value: 0.6950207468879668.\n",
      "[I 2023-06-03 14:45:45,343] Trial 18 finished with value: 0.6950207468879668 and parameters: {'criterion': 'gini', 'max_depth': 9, 'splitter': 'best', 'min_samples_split': 2}. Best is trial 0 with value: 0.6950207468879668.\n",
      "[I 2023-06-03 14:45:45,397] Trial 19 finished with value: 0.6950207468879668 and parameters: {'criterion': 'entropy', 'max_depth': 5, 'splitter': 'random', 'min_samples_split': 12}. Best is trial 0 with value: 0.6950207468879668.\n",
      "[I 2023-06-03 14:45:45,436] Trial 20 finished with value: 0.6950207468879668 and parameters: {'criterion': 'gini', 'max_depth': 12, 'splitter': 'random', 'min_samples_split': 6}. Best is trial 0 with value: 0.6950207468879668.\n",
      "[I 2023-06-03 14:45:45,469] Trial 21 finished with value: 0.6950207468879668 and parameters: {'criterion': 'gini', 'max_depth': 4, 'splitter': 'random', 'min_samples_split': 14}. Best is trial 0 with value: 0.6950207468879668.\n",
      "[I 2023-06-03 14:45:45,515] Trial 22 finished with value: 0.6950207468879668 and parameters: {'criterion': 'gini', 'max_depth': 7, 'splitter': 'random', 'min_samples_split': 12}. Best is trial 0 with value: 0.6950207468879668.\n",
      "[I 2023-06-03 14:45:45,542] Trial 23 finished with value: 0.6950207468879668 and parameters: {'criterion': 'gini', 'max_depth': 4, 'splitter': 'random', 'min_samples_split': 8}. Best is trial 0 with value: 0.6950207468879668.\n",
      "[I 2023-06-03 14:45:45,583] Trial 24 finished with value: 0.6950207468879668 and parameters: {'criterion': 'gini', 'max_depth': 9, 'splitter': 'random', 'min_samples_split': 14}. Best is trial 0 with value: 0.6950207468879668.\n",
      "[I 2023-06-03 14:45:45,621] Trial 25 finished with value: 0.6950207468879668 and parameters: {'criterion': 'gini', 'max_depth': 13, 'splitter': 'random', 'min_samples_split': 10}. Best is trial 0 with value: 0.6950207468879668.\n",
      "[I 2023-06-03 14:45:45,649] Trial 26 finished with value: 0.6950207468879668 and parameters: {'criterion': 'entropy', 'max_depth': 10, 'splitter': 'best', 'min_samples_split': 8}. Best is trial 0 with value: 0.6950207468879668.\n",
      "[I 2023-06-03 14:45:45,705] Trial 27 finished with value: 0.6950207468879668 and parameters: {'criterion': 'gini', 'max_depth': 7, 'splitter': 'random', 'min_samples_split': 4}. Best is trial 0 with value: 0.6950207468879668.\n",
      "[I 2023-06-03 14:45:45,735] Trial 28 finished with value: 0.6950207468879668 and parameters: {'criterion': 'entropy', 'max_depth': 5, 'splitter': 'best', 'min_samples_split': 12}. Best is trial 0 with value: 0.6950207468879668.\n",
      "[I 2023-06-03 14:45:45,770] Trial 29 finished with value: 0.6950207468879668 and parameters: {'criterion': 'entropy', 'max_depth': 8, 'splitter': 'best', 'min_samples_split': 8}. Best is trial 0 with value: 0.6950207468879668.\n",
      "[I 2023-06-03 14:45:45,815] Trial 30 finished with value: 0.6950207468879668 and parameters: {'criterion': 'gini', 'max_depth': 11, 'splitter': 'random', 'min_samples_split': 2}. Best is trial 0 with value: 0.6950207468879668.\n",
      "[I 2023-06-03 14:45:45,844] Trial 31 finished with value: 0.6950207468879668 and parameters: {'criterion': 'entropy', 'max_depth': 2, 'splitter': 'best', 'min_samples_split': 10}. Best is trial 0 with value: 0.6950207468879668.\n",
      "[I 2023-06-03 14:45:45,884] Trial 32 finished with value: 0.6950207468879668 and parameters: {'criterion': 'entropy', 'max_depth': 1, 'splitter': 'best', 'min_samples_split': 8}. Best is trial 0 with value: 0.6950207468879668.\n",
      "[I 2023-06-03 14:45:45,921] Trial 33 finished with value: 0.6950207468879668 and parameters: {'criterion': 'entropy', 'max_depth': 9, 'splitter': 'best', 'min_samples_split': 12}. Best is trial 0 with value: 0.6950207468879668.\n",
      "[I 2023-06-03 14:45:45,963] Trial 34 finished with value: 0.6950207468879668 and parameters: {'criterion': 'entropy', 'max_depth': 3, 'splitter': 'best', 'min_samples_split': 6}. Best is trial 0 with value: 0.6950207468879668.\n",
      "[I 2023-06-03 14:45:46,011] Trial 35 finished with value: 0.6950207468879668 and parameters: {'criterion': 'entropy', 'max_depth': 5, 'splitter': 'best', 'min_samples_split': 10}. Best is trial 0 with value: 0.6950207468879668.\n",
      "[I 2023-06-03 14:45:46,043] Trial 36 finished with value: 0.6950207468879668 and parameters: {'criterion': 'gini', 'max_depth': 4, 'splitter': 'best', 'min_samples_split': 8}. Best is trial 0 with value: 0.6950207468879668.\n",
      "[I 2023-06-03 14:45:46,090] Trial 37 finished with value: 0.6950207468879668 and parameters: {'criterion': 'entropy', 'max_depth': 8, 'splitter': 'best', 'min_samples_split': 6}. Best is trial 0 with value: 0.6950207468879668.\n",
      "[I 2023-06-03 14:45:46,126] Trial 38 finished with value: 0.6950207468879668 and parameters: {'criterion': 'gini', 'max_depth': 13, 'splitter': 'best', 'min_samples_split': 4}. Best is trial 0 with value: 0.6950207468879668.\n",
      "[I 2023-06-03 14:45:46,169] Trial 39 finished with value: 0.6950207468879668 and parameters: {'criterion': 'entropy', 'max_depth': 2, 'splitter': 'random', 'min_samples_split': 10}. Best is trial 0 with value: 0.6950207468879668.\n",
      "[I 2023-06-03 14:45:46,215] Trial 40 finished with value: 0.6950207468879668 and parameters: {'criterion': 'gini', 'max_depth': 10, 'splitter': 'best', 'min_samples_split': 12}. Best is trial 0 with value: 0.6950207468879668.\n",
      "[I 2023-06-03 14:45:46,246] Trial 41 finished with value: 0.6950207468879668 and parameters: {'criterion': 'gini', 'max_depth': 1, 'splitter': 'best', 'min_samples_split': 6}. Best is trial 0 with value: 0.6950207468879668.\n",
      "[I 2023-06-03 14:45:46,294] Trial 42 finished with value: 0.6950207468879668 and parameters: {'criterion': 'gini', 'max_depth': 3, 'splitter': 'best', 'min_samples_split': 14}. Best is trial 0 with value: 0.6950207468879668.\n",
      "[I 2023-06-03 14:45:46,336] Trial 43 finished with value: 0.6950207468879668 and parameters: {'criterion': 'gini', 'max_depth': 2, 'splitter': 'best', 'min_samples_split': 8}. Best is trial 0 with value: 0.6950207468879668.\n",
      "[I 2023-06-03 14:45:46,377] Trial 44 finished with value: 0.6950207468879668 and parameters: {'criterion': 'gini', 'max_depth': 1, 'splitter': 'best', 'min_samples_split': 10}. Best is trial 0 with value: 0.6950207468879668.\n",
      "[I 2023-06-03 14:45:46,422] Trial 45 finished with value: 0.6950207468879668 and parameters: {'criterion': 'entropy', 'max_depth': 7, 'splitter': 'random', 'min_samples_split': 14}. Best is trial 0 with value: 0.6950207468879668.\n",
      "[I 2023-06-03 14:45:46,463] Trial 46 finished with value: 0.6950207468879668 and parameters: {'criterion': 'gini', 'max_depth': 11, 'splitter': 'best', 'min_samples_split': 2}. Best is trial 0 with value: 0.6950207468879668.\n",
      "[I 2023-06-03 14:45:46,514] Trial 47 finished with value: 0.6950207468879668 and parameters: {'criterion': 'entropy', 'max_depth': 2, 'splitter': 'random', 'min_samples_split': 6}. Best is trial 0 with value: 0.6950207468879668.\n",
      "[I 2023-06-03 14:45:46,544] Trial 48 finished with value: 0.6950207468879668 and parameters: {'criterion': 'gini', 'max_depth': 12, 'splitter': 'random', 'min_samples_split': 4}. Best is trial 0 with value: 0.6950207468879668.\n",
      "[I 2023-06-03 14:45:46,585] Trial 49 finished with value: 0.6950207468879668 and parameters: {'criterion': 'entropy', 'max_depth': 3, 'splitter': 'best', 'min_samples_split': 8}. Best is trial 0 with value: 0.6950207468879668.\n",
      "[I 2023-06-03 14:45:46,623] Trial 50 finished with value: 0.6950207468879668 and parameters: {'criterion': 'gini', 'max_depth': 6, 'splitter': 'random', 'min_samples_split': 12}. Best is trial 0 with value: 0.6950207468879668.\n",
      "[I 2023-06-03 14:45:46,656] Trial 51 finished with value: 0.6950207468879668 and parameters: {'criterion': 'entropy', 'max_depth': 4, 'splitter': 'best', 'min_samples_split': 12}. Best is trial 0 with value: 0.6950207468879668.\n",
      "[I 2023-06-03 14:45:46,701] Trial 52 finished with value: 0.6950207468879668 and parameters: {'criterion': 'entropy', 'max_depth': 3, 'splitter': 'best', 'min_samples_split': 14}. Best is trial 0 with value: 0.6950207468879668.\n",
      "[I 2023-06-03 14:45:46,735] Trial 53 finished with value: 0.6950207468879668 and parameters: {'criterion': 'entropy', 'max_depth': 1, 'splitter': 'best', 'min_samples_split': 10}. Best is trial 0 with value: 0.6950207468879668.\n",
      "[I 2023-06-03 14:45:46,787] Trial 54 finished with value: 0.6950207468879668 and parameters: {'criterion': 'entropy', 'max_depth': 5, 'splitter': 'best', 'min_samples_split': 12}. Best is trial 0 with value: 0.6950207468879668.\n",
      "[I 2023-06-03 14:45:46,826] Trial 55 finished with value: 0.6950207468879668 and parameters: {'criterion': 'gini', 'max_depth': 6, 'splitter': 'random', 'min_samples_split': 14}. Best is trial 0 with value: 0.6950207468879668.\n",
      "[I 2023-06-03 14:45:46,864] Trial 56 finished with value: 0.6950207468879668 and parameters: {'criterion': 'entropy', 'max_depth': 13, 'splitter': 'best', 'min_samples_split': 10}. Best is trial 0 with value: 0.6950207468879668.\n",
      "[I 2023-06-03 14:45:46,909] Trial 57 finished with value: 0.6950207468879668 and parameters: {'criterion': 'gini', 'max_depth': 4, 'splitter': 'random', 'min_samples_split': 12}. Best is trial 0 with value: 0.6950207468879668.\n",
      "[I 2023-06-03 14:45:46,941] Trial 58 finished with value: 0.6950207468879668 and parameters: {'criterion': 'entropy', 'max_depth': 10, 'splitter': 'best', 'min_samples_split': 14}. Best is trial 0 with value: 0.6950207468879668.\n",
      "[I 2023-06-03 14:45:46,983] Trial 59 finished with value: 0.6950207468879668 and parameters: {'criterion': 'gini', 'max_depth': 2, 'splitter': 'random', 'min_samples_split': 10}. Best is trial 0 with value: 0.6950207468879668.\n",
      "[I 2023-06-03 14:45:47,021] Trial 60 finished with value: 0.6950207468879668 and parameters: {'criterion': 'entropy', 'max_depth': 14, 'splitter': 'best', 'min_samples_split': 2}. Best is trial 0 with value: 0.6950207468879668.\n",
      "[I 2023-06-03 14:45:47,054] Trial 61 finished with value: 0.6950207468879668 and parameters: {'criterion': 'gini', 'max_depth': 1, 'splitter': 'best', 'min_samples_split': 2}. Best is trial 0 with value: 0.6950207468879668.\n",
      "[I 2023-06-03 14:45:47,103] Trial 62 finished with value: 0.6950207468879668 and parameters: {'criterion': 'gini', 'max_depth': 3, 'splitter': 'best', 'min_samples_split': 2}. Best is trial 0 with value: 0.6950207468879668.\n",
      "[I 2023-06-03 14:45:47,135] Trial 63 finished with value: 0.6950207468879668 and parameters: {'criterion': 'gini', 'max_depth': 2, 'splitter': 'best', 'min_samples_split': 4}. Best is trial 0 with value: 0.6950207468879668.\n",
      "[I 2023-06-03 14:45:47,177] Trial 64 finished with value: 0.6950207468879668 and parameters: {'criterion': 'gini', 'max_depth': 1, 'splitter': 'best', 'min_samples_split': 4}. Best is trial 0 with value: 0.6950207468879668.\n",
      "[I 2023-06-03 14:45:47,220] Trial 65 finished with value: 0.6950207468879668 and parameters: {'criterion': 'gini', 'max_depth': 7, 'splitter': 'random', 'min_samples_split': 8}. Best is trial 0 with value: 0.6950207468879668.\n",
      "[I 2023-06-03 14:45:47,257] Trial 66 finished with value: 0.6950207468879668 and parameters: {'criterion': 'gini', 'max_depth': 9, 'splitter': 'best', 'min_samples_split': 2}. Best is trial 0 with value: 0.6950207468879668.\n",
      "[I 2023-06-03 14:45:47,305] Trial 67 finished with value: 0.6950207468879668 and parameters: {'criterion': 'entropy', 'max_depth': 12, 'splitter': 'random', 'min_samples_split': 8}. Best is trial 0 with value: 0.6950207468879668.\n",
      "[I 2023-06-03 14:45:47,337] Trial 68 finished with value: 0.6950207468879668 and parameters: {'criterion': 'gini', 'max_depth': 5, 'splitter': 'best', 'min_samples_split': 12}. Best is trial 0 with value: 0.6950207468879668.\n",
      "[I 2023-06-03 14:45:47,377] Trial 69 finished with value: 0.6950207468879668 and parameters: {'criterion': 'entropy', 'max_depth': 4, 'splitter': 'best', 'min_samples_split': 6}. Best is trial 0 with value: 0.6950207468879668.\n",
      "[I 2023-06-03 14:45:47,415] Trial 70 finished with value: 0.6950207468879668 and parameters: {'criterion': 'gini', 'max_depth': 2, 'splitter': 'random', 'min_samples_split': 8}. Best is trial 0 with value: 0.6950207468879668.\n",
      "[I 2023-06-03 14:45:47,451] Trial 71 finished with value: 0.6950207468879668 and parameters: {'criterion': 'entropy', 'max_depth': 8, 'splitter': 'best', 'min_samples_split': 8}. Best is trial 0 with value: 0.6950207468879668.\n",
      "[I 2023-06-03 14:45:47,505] Trial 72 finished with value: 0.6950207468879668 and parameters: {'criterion': 'entropy', 'max_depth': 8, 'splitter': 'best', 'min_samples_split': 10}. Best is trial 0 with value: 0.6950207468879668.\n",
      "[I 2023-06-03 14:45:47,541] Trial 73 finished with value: 0.6950207468879668 and parameters: {'criterion': 'entropy', 'max_depth': 7, 'splitter': 'best', 'min_samples_split': 8}. Best is trial 0 with value: 0.6950207468879668.\n",
      "[I 2023-06-03 14:45:47,582] Trial 74 finished with value: 0.6950207468879668 and parameters: {'criterion': 'entropy', 'max_depth': 8, 'splitter': 'best', 'min_samples_split': 10}. Best is trial 0 with value: 0.6950207468879668.\n",
      "[I 2023-06-03 14:45:47,623] Trial 75 finished with value: 0.6950207468879668 and parameters: {'criterion': 'entropy', 'max_depth': 10, 'splitter': 'best', 'min_samples_split': 6}. Best is trial 0 with value: 0.6950207468879668.\n",
      "[I 2023-06-03 14:45:47,666] Trial 76 finished with value: 0.6950207468879668 and parameters: {'criterion': 'gini', 'max_depth': 9, 'splitter': 'best', 'min_samples_split': 14}. Best is trial 0 with value: 0.6950207468879668.\n",
      "[I 2023-06-03 14:45:47,716] Trial 77 finished with value: 0.6950207468879668 and parameters: {'criterion': 'entropy', 'max_depth': 1, 'splitter': 'random', 'min_samples_split': 2}. Best is trial 0 with value: 0.6950207468879668.\n",
      "[I 2023-06-03 14:45:47,747] Trial 78 finished with value: 0.6950207468879668 and parameters: {'criterion': 'gini', 'max_depth': 11, 'splitter': 'best', 'min_samples_split': 8}. Best is trial 0 with value: 0.6950207468879668.\n",
      "[I 2023-06-03 14:45:47,803] Trial 79 finished with value: 0.6950207468879668 and parameters: {'criterion': 'entropy', 'max_depth': 7, 'splitter': 'best', 'min_samples_split': 4}. Best is trial 0 with value: 0.6950207468879668.\n",
      "[I 2023-06-03 14:45:47,837] Trial 80 finished with value: 0.6950207468879668 and parameters: {'criterion': 'gini', 'max_depth': 6, 'splitter': 'random', 'min_samples_split': 12}. Best is trial 0 with value: 0.6950207468879668.\n",
      "[I 2023-06-03 14:45:47,889] Trial 81 finished with value: 0.6950207468879668 and parameters: {'criterion': 'entropy', 'max_depth': 3, 'splitter': 'best', 'min_samples_split': 8}. Best is trial 0 with value: 0.6950207468879668.\n",
      "[I 2023-06-03 14:45:47,927] Trial 82 finished with value: 0.6950207468879668 and parameters: {'criterion': 'entropy', 'max_depth': 4, 'splitter': 'best', 'min_samples_split': 6}. Best is trial 0 with value: 0.6950207468879668.\n",
      "[I 2023-06-03 14:45:47,962] Trial 83 finished with value: 0.6950207468879668 and parameters: {'criterion': 'entropy', 'max_depth': 3, 'splitter': 'best', 'min_samples_split': 10}. Best is trial 0 with value: 0.6950207468879668.\n",
      "[I 2023-06-03 14:45:48,010] Trial 84 finished with value: 0.6950207468879668 and parameters: {'criterion': 'entropy', 'max_depth': 2, 'splitter': 'best', 'min_samples_split': 6}. Best is trial 0 with value: 0.6950207468879668.\n",
      "[I 2023-06-03 14:45:48,043] Trial 85 finished with value: 0.6950207468879668 and parameters: {'criterion': 'entropy', 'max_depth': 5, 'splitter': 'best', 'min_samples_split': 8}. Best is trial 0 with value: 0.6950207468879668.\n",
      "[I 2023-06-03 14:45:48,095] Trial 86 finished with value: 0.6950207468879668 and parameters: {'criterion': 'entropy', 'max_depth': 9, 'splitter': 'best', 'min_samples_split': 4}. Best is trial 0 with value: 0.6950207468879668.\n",
      "[I 2023-06-03 14:45:48,133] Trial 87 finished with value: 0.6950207468879668 and parameters: {'criterion': 'gini', 'max_depth': 2, 'splitter': 'random', 'min_samples_split': 2}. Best is trial 0 with value: 0.6950207468879668.\n",
      "[I 2023-06-03 14:45:48,170] Trial 88 finished with value: 0.6950207468879668 and parameters: {'criterion': 'entropy', 'max_depth': 1, 'splitter': 'best', 'min_samples_split': 10}. Best is trial 0 with value: 0.6950207468879668.\n",
      "[I 2023-06-03 14:45:48,219] Trial 89 finished with value: 0.6950207468879668 and parameters: {'criterion': 'gini', 'max_depth': 3, 'splitter': 'best', 'min_samples_split': 8}. Best is trial 0 with value: 0.6950207468879668.\n",
      "[I 2023-06-03 14:45:48,259] Trial 90 finished with value: 0.6950207468879668 and parameters: {'criterion': 'entropy', 'max_depth': 14, 'splitter': 'random', 'min_samples_split': 6}. Best is trial 0 with value: 0.6950207468879668.\n",
      "[I 2023-06-03 14:45:48,312] Trial 91 finished with value: 0.6950207468879668 and parameters: {'criterion': 'gini', 'max_depth': 2, 'splitter': 'random', 'min_samples_split': 6}. Best is trial 0 with value: 0.6950207468879668.\n",
      "[I 2023-06-03 14:45:48,344] Trial 92 finished with value: 0.6950207468879668 and parameters: {'criterion': 'gini', 'max_depth': 1, 'splitter': 'random', 'min_samples_split': 8}. Best is trial 0 with value: 0.6950207468879668.\n",
      "[I 2023-06-03 14:45:48,388] Trial 93 finished with value: 0.6950207468879668 and parameters: {'criterion': 'gini', 'max_depth': 3, 'splitter': 'random', 'min_samples_split': 4}. Best is trial 0 with value: 0.6950207468879668.\n",
      "[I 2023-06-03 14:45:48,430] Trial 94 finished with value: 0.6950207468879668 and parameters: {'criterion': 'gini', 'max_depth': 2, 'splitter': 'random', 'min_samples_split': 10}. Best is trial 0 with value: 0.6950207468879668.\n",
      "[I 2023-06-03 14:45:48,476] Trial 95 finished with value: 0.6950207468879668 and parameters: {'criterion': 'gini', 'max_depth': 13, 'splitter': 'best', 'min_samples_split': 6}. Best is trial 0 with value: 0.6950207468879668.\n",
      "[I 2023-06-03 14:45:48,521] Trial 96 finished with value: 0.6950207468879668 and parameters: {'criterion': 'gini', 'max_depth': 4, 'splitter': 'random', 'min_samples_split': 14}. Best is trial 0 with value: 0.6950207468879668.\n",
      "[I 2023-06-03 14:45:48,559] Trial 97 finished with value: 0.6950207468879668 and parameters: {'criterion': 'entropy', 'max_depth': 1, 'splitter': 'best', 'min_samples_split': 8}. Best is trial 0 with value: 0.6950207468879668.\n",
      "[I 2023-06-03 14:45:48,607] Trial 98 finished with value: 0.6950207468879668 and parameters: {'criterion': 'gini', 'max_depth': 11, 'splitter': 'best', 'min_samples_split': 12}. Best is trial 0 with value: 0.6950207468879668.\n",
      "[I 2023-06-03 14:45:48,640] Trial 99 finished with value: 0.6950207468879668 and parameters: {'criterion': 'entropy', 'max_depth': 3, 'splitter': 'random', 'min_samples_split': 2}. Best is trial 0 with value: 0.6950207468879668.\n"
     ]
    },
    {
     "name": "stdout",
     "output_type": "stream",
     "text": [
      "0:00:03.834397\n"
     ]
    }
   ],
   "source": [
    "def find_params_dtc(trial: optuna.Trial):\n",
    "    params = {'criterion': trial.suggest_categorical('criterion', ['gini', 'entropy']),\n",
    "              'max_depth': trial.suggest_int('max_depth', 1, 14),\n",
    "              'splitter': trial.suggest_categorical('splitter', ['best', 'random']),\n",
    "              'min_samples_split': trial.suggest_int('min_samples_split', 2, 14, 2)}\n",
    "\n",
    "    model_dtc_opt = DecisionTreeClassifier(random_state=12345)\n",
    "    model_dtc_opt.fit(features_train, target_train)\n",
    "    predictions_dtc_opt = model_dtc_opt.predict(features_valid)\n",
    "    result_dtc_opt = accuracy_score(target_valid, predictions_dtc_opt)\n",
    "    return result_dtc_opt\n",
    "\n",
    "start = datetime.now()\n",
    "study = optuna.create_study(direction='minimize')\n",
    "# study = optuna.create_study()\n",
    "study.optimize(find_params_dtc, n_trials=100)\n",
    "\n",
    "print(datetime.now() - start)"
   ]
  },
  {
   "cell_type": "code",
   "execution_count": 14,
   "metadata": {},
   "outputs": [
    {
     "name": "stdout",
     "output_type": "stream",
     "text": [
      "0.7614107883817427\n"
     ]
    }
   ],
   "source": [
    "model_dtc_opt = DecisionTreeClassifier(**study.best_params, random_state=12345)\n",
    "model_dtc_opt.fit(features_train, target_train)\n",
    "predictions_dtc_opt = model_dtc_opt.predict(features_valid)\n",
    "result_dtc_opt = accuracy_score(target_valid, predictions_dtc_opt)\n",
    "print(result_dtc_opt)"
   ]
  },
  {
   "cell_type": "code",
   "execution_count": 15,
   "metadata": {},
   "outputs": [
    {
     "name": "stdout",
     "output_type": "stream",
     "text": [
      "Качество разбиения (criterion): gini;\n",
      "Стратегия разбиения в узлах  (splitter): random;\n",
      "Максимальная глубина деревьев (max_depth): 7;\n",
      "Минимальное кол-во объектов в узле для разбиения (min_samples_split): 2\n"
     ]
    }
   ],
   "source": [
    "print(f\"Качество разбиения (criterion): {study.best_params['criterion']};\\n\\\n",
    "Стратегия разбиения в узлах  (splitter): {study.best_params['splitter']};\\n\\\n",
    "Максимальная глубина деревьев (max_depth): {study.best_params['max_depth']};\\n\\\n",
    "Минимальное кол-во объектов в узле для разбиения (min_samples_split): {study.best_params['min_samples_split']}\")"
   ]
  },
  {
   "cell_type": "markdown",
   "metadata": {},
   "source": [
    "Результаты получились немного разными как и по значениям гиперпараметров, так и по скорости. Я не стал делать поиск более 4 парамтеров, т.к. это начинает занимать много время. Больше параметров было у случайного леса... там поиск затянулся аж на 1 мин. :( прошу прощения за это"
   ]
  },
  {
   "cell_type": "code",
   "execution_count": 16,
   "metadata": {},
   "outputs": [
    {
     "name": "stdout",
     "output_type": "stream",
     "text": [
      "0.24.1\n"
     ]
    }
   ],
   "source": [
    "print(sklearn.__version__)"
   ]
  },
  {
   "cell_type": "markdown",
   "metadata": {},
   "source": [
    "Мне пришлось убрать значение \"log_loss\" из гиперпараметра criterion тк в какой-то момент начала вылетать ошибка"
   ]
  },
  {
   "cell_type": "markdown",
   "metadata": {},
   "source": [
    "### случайный лес"
   ]
  },
  {
   "cell_type": "markdown",
   "metadata": {},
   "source": [
    "Перебираем параметры решающего дерева с помощью фреймворка optuna"
   ]
  },
  {
   "cell_type": "code",
   "execution_count": 17,
   "metadata": {
    "scrolled": true
   },
   "outputs": [
    {
     "name": "stderr",
     "output_type": "stream",
     "text": [
      "[I 2023-06-03 14:45:48,688] A new study created in memory with name: no-name-6fe485df-0b5d-4866-a81a-761b3c8d81cb\n",
      "[I 2023-06-03 14:45:49,247] Trial 0 finished with value: 0.7883817427385892 and parameters: {'n_estimators': 70, 'criterion': 'entropy', 'max_depth': 4, 'min_samples_split': 2, 'min_samples_leaf': 4}. Best is trial 0 with value: 0.7883817427385892.\n",
      "[I 2023-06-03 14:45:49,772] Trial 1 finished with value: 0.7883817427385892 and parameters: {'n_estimators': 80, 'criterion': 'gini', 'max_depth': 4, 'min_samples_split': 4, 'min_samples_leaf': 1}. Best is trial 0 with value: 0.7883817427385892.\n",
      "[I 2023-06-03 14:45:50,316] Trial 2 finished with value: 0.7883817427385892 and parameters: {'n_estimators': 70, 'criterion': 'gini', 'max_depth': 2, 'min_samples_split': 4, 'min_samples_leaf': 8}. Best is trial 0 with value: 0.7883817427385892.\n",
      "[I 2023-06-03 14:45:50,838] Trial 3 finished with value: 0.7883817427385892 and parameters: {'n_estimators': 100, 'criterion': 'entropy', 'max_depth': 15, 'min_samples_split': 10, 'min_samples_leaf': 2}. Best is trial 0 with value: 0.7883817427385892.\n",
      "[I 2023-06-03 14:45:51,369] Trial 4 finished with value: 0.7883817427385892 and parameters: {'n_estimators': 20, 'criterion': 'gini', 'max_depth': 2, 'min_samples_split': 6, 'min_samples_leaf': 11}. Best is trial 0 with value: 0.7883817427385892.\n",
      "[I 2023-06-03 14:45:51,924] Trial 5 finished with value: 0.7883817427385892 and parameters: {'n_estimators': 30, 'criterion': 'entropy', 'max_depth': 4, 'min_samples_split': 10, 'min_samples_leaf': 4}. Best is trial 0 with value: 0.7883817427385892.\n",
      "[I 2023-06-03 14:45:52,452] Trial 6 finished with value: 0.7883817427385892 and parameters: {'n_estimators': 50, 'criterion': 'gini', 'max_depth': 9, 'min_samples_split': 4, 'min_samples_leaf': 11}. Best is trial 0 with value: 0.7883817427385892.\n",
      "[I 2023-06-03 14:45:53,034] Trial 7 finished with value: 0.7883817427385892 and parameters: {'n_estimators': 90, 'criterion': 'entropy', 'max_depth': 4, 'min_samples_split': 6, 'min_samples_leaf': 4}. Best is trial 0 with value: 0.7883817427385892.\n",
      "[I 2023-06-03 14:45:53,601] Trial 8 finished with value: 0.7883817427385892 and parameters: {'n_estimators': 80, 'criterion': 'entropy', 'max_depth': 9, 'min_samples_split': 8, 'min_samples_leaf': 2}. Best is trial 0 with value: 0.7883817427385892.\n",
      "[I 2023-06-03 14:45:54,116] Trial 9 finished with value: 0.7883817427385892 and parameters: {'n_estimators': 20, 'criterion': 'gini', 'max_depth': 10, 'min_samples_split': 10, 'min_samples_leaf': 10}. Best is trial 0 with value: 0.7883817427385892.\n",
      "[I 2023-06-03 14:45:54,703] Trial 10 finished with value: 0.7883817427385892 and parameters: {'n_estimators': 60, 'criterion': 'entropy', 'max_depth': 13, 'min_samples_split': 2, 'min_samples_leaf': 6}. Best is trial 0 with value: 0.7883817427385892.\n",
      "[I 2023-06-03 14:45:55,267] Trial 11 finished with value: 0.7883817427385892 and parameters: {'n_estimators': 50, 'criterion': 'gini', 'max_depth': 6, 'min_samples_split': 2, 'min_samples_leaf': 1}. Best is trial 0 with value: 0.7883817427385892.\n",
      "[I 2023-06-03 14:45:55,858] Trial 12 finished with value: 0.7883817427385892 and parameters: {'n_estimators': 80, 'criterion': 'entropy', 'max_depth': 6, 'min_samples_split': 4, 'min_samples_leaf': 4}. Best is trial 0 with value: 0.7883817427385892.\n",
      "[I 2023-06-03 14:45:56,448] Trial 13 finished with value: 0.7883817427385892 and parameters: {'n_estimators': 70, 'criterion': 'gini', 'max_depth': 1, 'min_samples_split': 2, 'min_samples_leaf': 6}. Best is trial 0 with value: 0.7883817427385892.\n",
      "[I 2023-06-03 14:45:57,029] Trial 14 finished with value: 0.7883817427385892 and parameters: {'n_estimators': 100, 'criterion': 'entropy', 'max_depth': 6, 'min_samples_split': 4, 'min_samples_leaf': 1}. Best is trial 0 with value: 0.7883817427385892.\n",
      "[I 2023-06-03 14:45:57,592] Trial 15 finished with value: 0.7883817427385892 and parameters: {'n_estimators': 40, 'criterion': 'gini', 'max_depth': 4, 'min_samples_split': 6, 'min_samples_leaf': 3}. Best is trial 0 with value: 0.7883817427385892.\n",
      "[I 2023-06-03 14:45:58,127] Trial 16 finished with value: 0.7883817427385892 and parameters: {'n_estimators': 70, 'criterion': 'entropy', 'max_depth': 7, 'min_samples_split': 2, 'min_samples_leaf': 8}. Best is trial 0 with value: 0.7883817427385892.\n",
      "[I 2023-06-03 14:45:58,695] Trial 17 finished with value: 0.7883817427385892 and parameters: {'n_estimators': 90, 'criterion': 'gini', 'max_depth': 3, 'min_samples_split': 12, 'min_samples_leaf': 5}. Best is trial 0 with value: 0.7883817427385892.\n",
      "[I 2023-06-03 14:45:59,265] Trial 18 finished with value: 0.7883817427385892 and parameters: {'n_estimators': 60, 'criterion': 'gini', 'max_depth': 11, 'min_samples_split': 4, 'min_samples_leaf': 8}. Best is trial 0 with value: 0.7883817427385892.\n",
      "[I 2023-06-03 14:45:59,828] Trial 19 finished with value: 0.7883817427385892 and parameters: {'n_estimators': 80, 'criterion': 'entropy', 'max_depth': 5, 'min_samples_split': 8, 'min_samples_leaf': 2}. Best is trial 0 with value: 0.7883817427385892.\n",
      "[I 2023-06-03 14:46:00,377] Trial 20 finished with value: 0.7883817427385892 and parameters: {'n_estimators': 40, 'criterion': 'entropy', 'max_depth': 1, 'min_samples_split': 2, 'min_samples_leaf': 6}. Best is trial 0 with value: 0.7883817427385892.\n",
      "[I 2023-06-03 14:46:00,922] Trial 21 finished with value: 0.7883817427385892 and parameters: {'n_estimators': 70, 'criterion': 'gini', 'max_depth': 3, 'min_samples_split': 4, 'min_samples_leaf': 8}. Best is trial 0 with value: 0.7883817427385892.\n",
      "[I 2023-06-03 14:46:01,532] Trial 22 finished with value: 0.7883817427385892 and parameters: {'n_estimators': 70, 'criterion': 'gini', 'max_depth': 2, 'min_samples_split': 4, 'min_samples_leaf': 9}. Best is trial 0 with value: 0.7883817427385892.\n",
      "[I 2023-06-03 14:46:02,161] Trial 23 finished with value: 0.7883817427385892 and parameters: {'n_estimators': 90, 'criterion': 'gini', 'max_depth': 3, 'min_samples_split': 6, 'min_samples_leaf': 7}. Best is trial 0 with value: 0.7883817427385892.\n",
      "[I 2023-06-03 14:46:02,729] Trial 24 finished with value: 0.7883817427385892 and parameters: {'n_estimators': 60, 'criterion': 'gini', 'max_depth': 7, 'min_samples_split': 2, 'min_samples_leaf': 5}. Best is trial 0 with value: 0.7883817427385892.\n",
      "[I 2023-06-03 14:46:03,276] Trial 25 finished with value: 0.7883817427385892 and parameters: {'n_estimators': 80, 'criterion': 'gini', 'max_depth': 5, 'min_samples_split': 4, 'min_samples_leaf': 7}. Best is trial 0 with value: 0.7883817427385892.\n",
      "[I 2023-06-03 14:46:03,835] Trial 26 finished with value: 0.7883817427385892 and parameters: {'n_estimators': 10, 'criterion': 'gini', 'max_depth': 1, 'min_samples_split': 6, 'min_samples_leaf': 3}. Best is trial 0 with value: 0.7883817427385892.\n",
      "[I 2023-06-03 14:46:04,410] Trial 27 finished with value: 0.7883817427385892 and parameters: {'n_estimators': 70, 'criterion': 'gini', 'max_depth': 2, 'min_samples_split': 2, 'min_samples_leaf': 9}. Best is trial 0 with value: 0.7883817427385892.\n",
      "[I 2023-06-03 14:46:05,040] Trial 28 finished with value: 0.7883817427385892 and parameters: {'n_estimators': 90, 'criterion': 'entropy', 'max_depth': 5, 'min_samples_split': 8, 'min_samples_leaf': 3}. Best is trial 0 with value: 0.7883817427385892.\n",
      "[I 2023-06-03 14:46:05,614] Trial 29 finished with value: 0.7883817427385892 and parameters: {'n_estimators': 100, 'criterion': 'entropy', 'max_depth': 15, 'min_samples_split': 4, 'min_samples_leaf': 1}. Best is trial 0 with value: 0.7883817427385892.\n",
      "[I 2023-06-03 14:46:06,164] Trial 30 finished with value: 0.7883817427385892 and parameters: {'n_estimators': 50, 'criterion': 'gini', 'max_depth': 7, 'min_samples_split': 12, 'min_samples_leaf': 7}. Best is trial 0 with value: 0.7883817427385892.\n",
      "[I 2023-06-03 14:46:06,706] Trial 31 finished with value: 0.7883817427385892 and parameters: {'n_estimators': 100, 'criterion': 'entropy', 'max_depth': 12, 'min_samples_split': 10, 'min_samples_leaf': 2}. Best is trial 0 with value: 0.7883817427385892.\n",
      "[I 2023-06-03 14:46:07,234] Trial 32 finished with value: 0.7883817427385892 and parameters: {'n_estimators': 80, 'criterion': 'entropy', 'max_depth': 14, 'min_samples_split': 6, 'min_samples_leaf': 2}. Best is trial 0 with value: 0.7883817427385892.\n",
      "[I 2023-06-03 14:46:07,789] Trial 33 finished with value: 0.7883817427385892 and parameters: {'n_estimators': 90, 'criterion': 'entropy', 'max_depth': 3, 'min_samples_split': 10, 'min_samples_leaf': 3}. Best is trial 0 with value: 0.7883817427385892.\n",
      "[I 2023-06-03 14:46:08,376] Trial 34 finished with value: 0.7883817427385892 and parameters: {'n_estimators': 60, 'criterion': 'entropy', 'max_depth': 9, 'min_samples_split': 8, 'min_samples_leaf': 5}. Best is trial 0 with value: 0.7883817427385892.\n",
      "[I 2023-06-03 14:46:08,921] Trial 35 finished with value: 0.7883817427385892 and parameters: {'n_estimators': 100, 'criterion': 'entropy', 'max_depth': 4, 'min_samples_split': 12, 'min_samples_leaf': 4}. Best is trial 0 with value: 0.7883817427385892.\n",
      "[I 2023-06-03 14:46:09,449] Trial 36 finished with value: 0.7883817427385892 and parameters: {'n_estimators': 80, 'criterion': 'gini', 'max_depth': 8, 'min_samples_split': 4, 'min_samples_leaf': 11}. Best is trial 0 with value: 0.7883817427385892.\n",
      "[I 2023-06-03 14:46:10,006] Trial 37 finished with value: 0.7883817427385892 and parameters: {'n_estimators': 70, 'criterion': 'entropy', 'max_depth': 2, 'min_samples_split': 10, 'min_samples_leaf': 1}. Best is trial 0 with value: 0.7883817427385892.\n",
      "[I 2023-06-03 14:46:10,553] Trial 38 finished with value: 0.7883817427385892 and parameters: {'n_estimators': 90, 'criterion': 'entropy', 'max_depth': 11, 'min_samples_split': 6, 'min_samples_leaf': 2}. Best is trial 0 with value: 0.7883817427385892.\n",
      "[I 2023-06-03 14:46:11,135] Trial 39 finished with value: 0.7883817427385892 and parameters: {'n_estimators': 40, 'criterion': 'gini', 'max_depth': 4, 'min_samples_split': 2, 'min_samples_leaf': 4}. Best is trial 0 with value: 0.7883817427385892.\n",
      "[I 2023-06-03 14:46:11,714] Trial 40 finished with value: 0.7883817427385892 and parameters: {'n_estimators': 80, 'criterion': 'entropy', 'max_depth': 15, 'min_samples_split': 8, 'min_samples_leaf': 1}. Best is trial 0 with value: 0.7883817427385892.\n",
      "[I 2023-06-03 14:46:12,263] Trial 41 finished with value: 0.7883817427385892 and parameters: {'n_estimators': 30, 'criterion': 'gini', 'max_depth': 2, 'min_samples_split': 6, 'min_samples_leaf': 11}. Best is trial 0 with value: 0.7883817427385892.\n",
      "[I 2023-06-03 14:46:12,840] Trial 42 finished with value: 0.7883817427385892 and parameters: {'n_estimators': 10, 'criterion': 'gini', 'max_depth': 1, 'min_samples_split': 4, 'min_samples_leaf': 9}. Best is trial 0 with value: 0.7883817427385892.\n",
      "[I 2023-06-03 14:46:13,419] Trial 43 finished with value: 0.7883817427385892 and parameters: {'n_estimators': 20, 'criterion': 'gini', 'max_depth': 5, 'min_samples_split': 6, 'min_samples_leaf': 10}. Best is trial 0 with value: 0.7883817427385892.\n",
      "[I 2023-06-03 14:46:13,979] Trial 44 finished with value: 0.7883817427385892 and parameters: {'n_estimators': 60, 'criterion': 'gini', 'max_depth': 3, 'min_samples_split': 4, 'min_samples_leaf': 10}. Best is trial 0 with value: 0.7883817427385892.\n",
      "[I 2023-06-03 14:46:14,602] Trial 45 finished with value: 0.7883817427385892 and parameters: {'n_estimators': 30, 'criterion': 'gini', 'max_depth': 2, 'min_samples_split': 2, 'min_samples_leaf': 5}. Best is trial 0 with value: 0.7883817427385892.\n",
      "[I 2023-06-03 14:46:15,164] Trial 46 finished with value: 0.7883817427385892 and parameters: {'n_estimators': 50, 'criterion': 'gini', 'max_depth': 6, 'min_samples_split': 6, 'min_samples_leaf': 3}. Best is trial 0 with value: 0.7883817427385892.\n",
      "[I 2023-06-03 14:46:15,733] Trial 47 finished with value: 0.7883817427385892 and parameters: {'n_estimators': 20, 'criterion': 'entropy', 'max_depth': 4, 'min_samples_split': 8, 'min_samples_leaf': 2}. Best is trial 0 with value: 0.7883817427385892.\n",
      "[I 2023-06-03 14:46:16,294] Trial 48 finished with value: 0.7883817427385892 and parameters: {'n_estimators': 70, 'criterion': 'gini', 'max_depth': 10, 'min_samples_split': 4, 'min_samples_leaf': 4}. Best is trial 0 with value: 0.7883817427385892.\n",
      "[I 2023-06-03 14:46:16,872] Trial 49 finished with value: 0.7883817427385892 and parameters: {'n_estimators': 60, 'criterion': 'entropy', 'max_depth': 1, 'min_samples_split': 2, 'min_samples_leaf': 6}. Best is trial 0 with value: 0.7883817427385892.\n",
      "[I 2023-06-03 14:46:17,430] Trial 50 finished with value: 0.7883817427385892 and parameters: {'n_estimators': 90, 'criterion': 'gini', 'max_depth': 13, 'min_samples_split': 6, 'min_samples_leaf': 11}. Best is trial 0 with value: 0.7883817427385892.\n",
      "[I 2023-06-03 14:46:17,969] Trial 51 finished with value: 0.7883817427385892 and parameters: {'n_estimators': 30, 'criterion': 'entropy', 'max_depth': 4, 'min_samples_split': 10, 'min_samples_leaf': 1}. Best is trial 0 with value: 0.7883817427385892.\n",
      "[I 2023-06-03 14:46:18,514] Trial 52 finished with value: 0.7883817427385892 and parameters: {'n_estimators': 20, 'criterion': 'entropy', 'max_depth': 3, 'min_samples_split': 10, 'min_samples_leaf': 2}. Best is trial 0 with value: 0.7883817427385892.\n",
      "[I 2023-06-03 14:46:19,085] Trial 53 finished with value: 0.7883817427385892 and parameters: {'n_estimators': 10, 'criterion': 'entropy', 'max_depth': 8, 'min_samples_split': 12, 'min_samples_leaf': 6}. Best is trial 0 with value: 0.7883817427385892.\n",
      "[I 2023-06-03 14:46:19,674] Trial 54 finished with value: 0.7883817427385892 and parameters: {'n_estimators': 20, 'criterion': 'entropy', 'max_depth': 6, 'min_samples_split': 10, 'min_samples_leaf': 3}. Best is trial 0 with value: 0.7883817427385892.\n",
      "[I 2023-06-03 14:46:20,267] Trial 55 finished with value: 0.7883817427385892 and parameters: {'n_estimators': 40, 'criterion': 'entropy', 'max_depth': 5, 'min_samples_split': 2, 'min_samples_leaf': 5}. Best is trial 0 with value: 0.7883817427385892.\n",
      "[I 2023-06-03 14:46:20,878] Trial 56 finished with value: 0.7883817427385892 and parameters: {'n_estimators': 70, 'criterion': 'gini', 'max_depth': 2, 'min_samples_split': 8, 'min_samples_leaf': 8}. Best is trial 0 with value: 0.7883817427385892.\n",
      "[I 2023-06-03 14:46:21,490] Trial 57 finished with value: 0.7883817427385892 and parameters: {'n_estimators': 80, 'criterion': 'gini', 'max_depth': 3, 'min_samples_split': 4, 'min_samples_leaf': 4}. Best is trial 0 with value: 0.7883817427385892.\n",
      "[I 2023-06-03 14:46:22,114] Trial 58 finished with value: 0.7883817427385892 and parameters: {'n_estimators': 50, 'criterion': 'entropy', 'max_depth': 4, 'min_samples_split': 4, 'min_samples_leaf': 1}. Best is trial 0 with value: 0.7883817427385892.\n",
      "[I 2023-06-03 14:46:22,769] Trial 59 finished with value: 0.7883817427385892 and parameters: {'n_estimators': 70, 'criterion': 'gini', 'max_depth': 1, 'min_samples_split': 8, 'min_samples_leaf': 7}. Best is trial 0 with value: 0.7883817427385892.\n",
      "[I 2023-06-03 14:46:23,402] Trial 60 finished with value: 0.7883817427385892 and parameters: {'n_estimators': 30, 'criterion': 'entropy', 'max_depth': 7, 'min_samples_split': 10, 'min_samples_leaf': 9}. Best is trial 0 with value: 0.7883817427385892.\n",
      "[I 2023-06-03 14:46:24,037] Trial 61 finished with value: 0.7883817427385892 and parameters: {'n_estimators': 40, 'criterion': 'gini', 'max_depth': 10, 'min_samples_split': 4, 'min_samples_leaf': 10}. Best is trial 0 with value: 0.7883817427385892.\n",
      "[I 2023-06-03 14:46:24,726] Trial 62 finished with value: 0.7883817427385892 and parameters: {'n_estimators': 50, 'criterion': 'gini', 'max_depth': 13, 'min_samples_split': 4, 'min_samples_leaf': 10}. Best is trial 0 with value: 0.7883817427385892.\n",
      "[I 2023-06-03 14:46:25,421] Trial 63 finished with value: 0.7883817427385892 and parameters: {'n_estimators': 80, 'criterion': 'gini', 'max_depth': 8, 'min_samples_split': 2, 'min_samples_leaf': 11}. Best is trial 0 with value: 0.7883817427385892.\n",
      "[I 2023-06-03 14:46:26,092] Trial 64 finished with value: 0.7883817427385892 and parameters: {'n_estimators': 100, 'criterion': 'gini', 'max_depth': 12, 'min_samples_split': 6, 'min_samples_leaf': 11}. Best is trial 0 with value: 0.7883817427385892.\n",
      "[I 2023-06-03 14:46:26,737] Trial 65 finished with value: 0.7883817427385892 and parameters: {'n_estimators': 60, 'criterion': 'gini', 'max_depth': 5, 'min_samples_split': 4, 'min_samples_leaf': 10}. Best is trial 0 with value: 0.7883817427385892.\n",
      "[I 2023-06-03 14:46:27,432] Trial 66 finished with value: 0.7883817427385892 and parameters: {'n_estimators': 80, 'criterion': 'entropy', 'max_depth': 3, 'min_samples_split': 12, 'min_samples_leaf': 3}. Best is trial 0 with value: 0.7883817427385892.\n",
      "[I 2023-06-03 14:46:28,128] Trial 67 finished with value: 0.7883817427385892 and parameters: {'n_estimators': 60, 'criterion': 'gini', 'max_depth': 9, 'min_samples_split': 2, 'min_samples_leaf': 6}. Best is trial 0 with value: 0.7883817427385892.\n",
      "[I 2023-06-03 14:46:28,825] Trial 68 finished with value: 0.7883817427385892 and parameters: {'n_estimators': 30, 'criterion': 'entropy', 'max_depth': 14, 'min_samples_split': 6, 'min_samples_leaf': 8}. Best is trial 0 with value: 0.7883817427385892.\n",
      "[I 2023-06-03 14:46:29,456] Trial 69 finished with value: 0.7883817427385892 and parameters: {'n_estimators': 70, 'criterion': 'gini', 'max_depth': 2, 'min_samples_split': 4, 'min_samples_leaf': 2}. Best is trial 0 with value: 0.7883817427385892.\n",
      "[I 2023-06-03 14:46:30,086] Trial 70 finished with value: 0.7883817427385892 and parameters: {'n_estimators': 90, 'criterion': 'entropy', 'max_depth': 6, 'min_samples_split': 4, 'min_samples_leaf': 9}. Best is trial 0 with value: 0.7883817427385892.\n",
      "[I 2023-06-03 14:46:30,798] Trial 71 finished with value: 0.7883817427385892 and parameters: {'n_estimators': 100, 'criterion': 'entropy', 'max_depth': 4, 'min_samples_split': 6, 'min_samples_leaf': 4}. Best is trial 0 with value: 0.7883817427385892.\n",
      "[I 2023-06-03 14:46:31,476] Trial 72 finished with value: 0.7883817427385892 and parameters: {'n_estimators': 90, 'criterion': 'entropy', 'max_depth': 4, 'min_samples_split': 6, 'min_samples_leaf': 4}. Best is trial 0 with value: 0.7883817427385892.\n",
      "[I 2023-06-03 14:46:32,112] Trial 73 finished with value: 0.7883817427385892 and parameters: {'n_estimators': 100, 'criterion': 'entropy', 'max_depth': 3, 'min_samples_split': 8, 'min_samples_leaf': 5}. Best is trial 0 with value: 0.7883817427385892.\n",
      "[I 2023-06-03 14:46:32,782] Trial 74 finished with value: 0.7883817427385892 and parameters: {'n_estimators': 90, 'criterion': 'entropy', 'max_depth': 5, 'min_samples_split': 10, 'min_samples_leaf': 1}. Best is trial 0 with value: 0.7883817427385892.\n",
      "[I 2023-06-03 14:46:33,418] Trial 75 finished with value: 0.7883817427385892 and parameters: {'n_estimators': 90, 'criterion': 'gini', 'max_depth': 2, 'min_samples_split': 6, 'min_samples_leaf': 5}. Best is trial 0 with value: 0.7883817427385892.\n",
      "[I 2023-06-03 14:46:34,006] Trial 76 finished with value: 0.7883817427385892 and parameters: {'n_estimators': 10, 'criterion': 'entropy', 'max_depth': 6, 'min_samples_split': 2, 'min_samples_leaf': 3}. Best is trial 0 with value: 0.7883817427385892.\n",
      "[I 2023-06-03 14:46:34,689] Trial 77 finished with value: 0.7883817427385892 and parameters: {'n_estimators': 80, 'criterion': 'gini', 'max_depth': 11, 'min_samples_split': 6, 'min_samples_leaf': 3}. Best is trial 0 with value: 0.7883817427385892.\n",
      "[I 2023-06-03 14:46:35,324] Trial 78 finished with value: 0.7883817427385892 and parameters: {'n_estimators': 100, 'criterion': 'entropy', 'max_depth': 1, 'min_samples_split': 4, 'min_samples_leaf': 2}. Best is trial 0 with value: 0.7883817427385892.\n",
      "[I 2023-06-03 14:46:35,936] Trial 79 finished with value: 0.7883817427385892 and parameters: {'n_estimators': 70, 'criterion': 'gini', 'max_depth': 5, 'min_samples_split': 8, 'min_samples_leaf': 4}. Best is trial 0 with value: 0.7883817427385892.\n",
      "[I 2023-06-03 14:46:36,623] Trial 80 finished with value: 0.7883817427385892 and parameters: {'n_estimators': 80, 'criterion': 'entropy', 'max_depth': 3, 'min_samples_split': 4, 'min_samples_leaf': 11}. Best is trial 0 with value: 0.7883817427385892.\n",
      "[I 2023-06-03 14:46:37,266] Trial 81 finished with value: 0.7883817427385892 and parameters: {'n_estimators': 70, 'criterion': 'entropy', 'max_depth': 9, 'min_samples_split': 8, 'min_samples_leaf': 2}. Best is trial 0 with value: 0.7883817427385892.\n",
      "[I 2023-06-03 14:46:37,856] Trial 82 finished with value: 0.7883817427385892 and parameters: {'n_estimators': 80, 'criterion': 'entropy', 'max_depth': 10, 'min_samples_split': 10, 'min_samples_leaf': 1}. Best is trial 0 with value: 0.7883817427385892.\n",
      "[I 2023-06-03 14:46:38,439] Trial 83 finished with value: 0.7883817427385892 and parameters: {'n_estimators': 90, 'criterion': 'entropy', 'max_depth': 8, 'min_samples_split': 6, 'min_samples_leaf': 3}. Best is trial 0 with value: 0.7883817427385892.\n",
      "[I 2023-06-03 14:46:39,079] Trial 84 finished with value: 0.7883817427385892 and parameters: {'n_estimators': 20, 'criterion': 'entropy', 'max_depth': 9, 'min_samples_split': 10, 'min_samples_leaf': 1}. Best is trial 0 with value: 0.7883817427385892.\n",
      "[I 2023-06-03 14:46:39,662] Trial 85 finished with value: 0.7883817427385892 and parameters: {'n_estimators': 40, 'criterion': 'gini', 'max_depth': 2, 'min_samples_split': 12, 'min_samples_leaf': 2}. Best is trial 0 with value: 0.7883817427385892.\n",
      "[I 2023-06-03 14:46:40,269] Trial 86 finished with value: 0.7883817427385892 and parameters: {'n_estimators': 80, 'criterion': 'entropy', 'max_depth': 7, 'min_samples_split': 2, 'min_samples_leaf': 7}. Best is trial 0 with value: 0.7883817427385892.\n",
      "[I 2023-06-03 14:46:40,883] Trial 87 finished with value: 0.7883817427385892 and parameters: {'n_estimators': 80, 'criterion': 'gini', 'max_depth': 4, 'min_samples_split': 8, 'min_samples_leaf': 6}. Best is trial 0 with value: 0.7883817427385892.\n",
      "[I 2023-06-03 14:46:41,453] Trial 88 finished with value: 0.7883817427385892 and parameters: {'n_estimators': 70, 'criterion': 'entropy', 'max_depth': 12, 'min_samples_split': 6, 'min_samples_leaf': 3}. Best is trial 0 with value: 0.7883817427385892.\n",
      "[I 2023-06-03 14:46:42,033] Trial 89 finished with value: 0.7883817427385892 and parameters: {'n_estimators': 90, 'criterion': 'gini', 'max_depth': 5, 'min_samples_split': 10, 'min_samples_leaf': 4}. Best is trial 0 with value: 0.7883817427385892.\n",
      "[I 2023-06-03 14:46:42,670] Trial 90 finished with value: 0.7883817427385892 and parameters: {'n_estimators': 60, 'criterion': 'entropy', 'max_depth': 3, 'min_samples_split': 4, 'min_samples_leaf': 8}. Best is trial 0 with value: 0.7883817427385892.\n",
      "[I 2023-06-03 14:46:43,360] Trial 91 finished with value: 0.7883817427385892 and parameters: {'n_estimators': 20, 'criterion': 'gini', 'max_depth': 10, 'min_samples_split': 10, 'min_samples_leaf': 11}. Best is trial 0 with value: 0.7883817427385892.\n",
      "[I 2023-06-03 14:46:44,017] Trial 92 finished with value: 0.7883817427385892 and parameters: {'n_estimators': 10, 'criterion': 'gini', 'max_depth': 9, 'min_samples_split': 10, 'min_samples_leaf': 10}. Best is trial 0 with value: 0.7883817427385892.\n",
      "[I 2023-06-03 14:46:44,658] Trial 93 finished with value: 0.7883817427385892 and parameters: {'n_estimators': 20, 'criterion': 'gini', 'max_depth': 11, 'min_samples_split': 10, 'min_samples_leaf': 11}. Best is trial 0 with value: 0.7883817427385892.\n",
      "[I 2023-06-03 14:46:45,273] Trial 94 finished with value: 0.7883817427385892 and parameters: {'n_estimators': 30, 'criterion': 'gini', 'max_depth': 14, 'min_samples_split': 12, 'min_samples_leaf': 10}. Best is trial 0 with value: 0.7883817427385892.\n",
      "[I 2023-06-03 14:46:45,878] Trial 95 finished with value: 0.7883817427385892 and parameters: {'n_estimators': 20, 'criterion': 'gini', 'max_depth': 9, 'min_samples_split': 8, 'min_samples_leaf': 11}. Best is trial 0 with value: 0.7883817427385892.\n",
      "[I 2023-06-03 14:46:46,472] Trial 96 finished with value: 0.7883817427385892 and parameters: {'n_estimators': 30, 'criterion': 'gini', 'max_depth': 8, 'min_samples_split': 10, 'min_samples_leaf': 9}. Best is trial 0 with value: 0.7883817427385892.\n",
      "[I 2023-06-03 14:46:47,074] Trial 97 finished with value: 0.7883817427385892 and parameters: {'n_estimators': 100, 'criterion': 'entropy', 'max_depth': 10, 'min_samples_split': 2, 'min_samples_leaf': 1}. Best is trial 0 with value: 0.7883817427385892.\n",
      "[I 2023-06-03 14:46:47,689] Trial 98 finished with value: 0.7883817427385892 and parameters: {'n_estimators': 50, 'criterion': 'gini', 'max_depth': 4, 'min_samples_split': 4, 'min_samples_leaf': 2}. Best is trial 0 with value: 0.7883817427385892.\n",
      "[I 2023-06-03 14:46:48,320] Trial 99 finished with value: 0.7883817427385892 and parameters: {'n_estimators': 80, 'criterion': 'entropy', 'max_depth': 7, 'min_samples_split': 6, 'min_samples_leaf': 10}. Best is trial 0 with value: 0.7883817427385892.\n"
     ]
    },
    {
     "name": "stdout",
     "output_type": "stream",
     "text": [
      "0:00:59.636544\n"
     ]
    }
   ],
   "source": [
    "def find_params_rfc(trial: optuna.Trial):\n",
    "    params = {'n_estimators': trial.suggest_int('n_estimators', 10, 101, 10),\n",
    "              'criterion': trial.suggest_categorical('criterion', ['gini', 'entropy']),\n",
    "              'max_depth': trial.suggest_int('max_depth', 1, 15, 1),\n",
    "              'min_samples_split': trial.suggest_int('min_samples_split', 2, 12, 2),\n",
    "              'min_samples_leaf': trial.suggest_int('min_samples_leaf', 1, 11)}\n",
    "\n",
    "    model_rfc_opt = RandomForestClassifier(random_state=12345)\n",
    "    model_rfc_opt.fit(features_train, target_train)\n",
    "    predictions_rfc_opt = model_rfc_opt.predict(features_valid)\n",
    "    result_rfc_opt = accuracy_score(target_valid, predictions_rfc_opt)\n",
    "    return result_rfc_opt\n",
    "\n",
    "start = datetime.now()\n",
    "# study = optuna.create_study(direction='minimize')\n",
    "study = optuna.create_study()\n",
    "study.optimize(find_params_rfc, n_trials=100)\n",
    "\n",
    "print(datetime.now() - start)"
   ]
  },
  {
   "cell_type": "code",
   "execution_count": 18,
   "metadata": {},
   "outputs": [
    {
     "name": "stdout",
     "output_type": "stream",
     "text": [
      "0.7821576763485477\n"
     ]
    }
   ],
   "source": [
    "model_rfc_opt = RandomForestClassifier(**study.best_params, random_state=12345)\n",
    "model_rfc_opt.fit(features_train, target_train)\n",
    "predictions_rfc_opt = model_rfc_opt.predict(features_valid)\n",
    "result_rfc_opt = accuracy_score(target_valid, predictions_rfc_opt)\n",
    "print(result_rfc_opt)"
   ]
  },
  {
   "cell_type": "code",
   "execution_count": 19,
   "metadata": {},
   "outputs": [
    {
     "name": "stdout",
     "output_type": "stream",
     "text": [
      "Число деревьев (n_estimators): 70;\n",
      "Качество разбиения (criterion): entropy;\n",
      "Максимальная глубина деревьев (max_depth): 4;\n",
      "Минимальное кол-во объектов в узле для разбиения (min_samples_split): 2;\n",
      "Минимальное кол-во объектов в листьях (min_samples_leaf): 4\n"
     ]
    }
   ],
   "source": [
    "print(f\"Число деревьев (n_estimators): {study.best_params['n_estimators']};\\n\\\n",
    "Качество разбиения (criterion): {study.best_params['criterion']};\\n\\\n",
    "Максимальная глубина деревьев (max_depth): {study.best_params['max_depth']};\\n\\\n",
    "Минимальное кол-во объектов в узле для разбиения (min_samples_split): {study.best_params['min_samples_split']};\\n\\\n",
    "Минимальное кол-во объектов в листьях (min_samples_leaf): {study.best_params['min_samples_leaf']}\")"
   ]
  },
  {
   "cell_type": "markdown",
   "metadata": {},
   "source": [
    "### логистическая регрессия"
   ]
  },
  {
   "cell_type": "markdown",
   "metadata": {},
   "source": [
    "Перебираем параметры решающего дерева с помощью модели GridSearchCV.  \n",
    "Мне этот метод понравился только тем, что он из библиотеки sclear, хотя где-то в статье я прочитал, что optuna начал набирать популярности, я всё равно пока за GridSearchCV. Но объективно я разницы не понимаю"
   ]
  },
  {
   "cell_type": "code",
   "execution_count": 20,
   "metadata": {},
   "outputs": [
    {
     "name": "stdout",
     "output_type": "stream",
     "text": [
      "0:00:04.167889\n"
     ]
    }
   ],
   "source": [
    "start = datetime.now()\n",
    "\n",
    "model_lr = LogisticRegression(random_state=12345) # создаем модель логической регрессии\n",
    "parametrs = {'penalty': ('l1', 'l2', 'elasticnet', None),\n",
    "             'solver': ['lbfgs', 'liblinear', 'newton-cg', 'newton-cholesky', 'sag', 'saga'],\n",
    "             'C': (-5, 5, 75)} # список гиперпараметров для перебора модели решающего дерева\n",
    "model_lr = GridSearchCV(model_lr, parametrs) # создаем модель для перебора гиперпарамтеров\n",
    "model_lr.fit(features_train, target_train) # обучаем и находим лучшие гиперпараметры\n",
    "\n",
    "print(datetime.now() - start)"
   ]
  },
  {
   "cell_type": "code",
   "execution_count": 21,
   "metadata": {},
   "outputs": [
    {
     "name": "stdout",
     "output_type": "stream",
     "text": [
      "0.7282157676348547\n"
     ]
    }
   ],
   "source": [
    "predictions_lr = model_lr.predict(features_valid)\n",
    "result_lr = accuracy_score(target_valid, predictions_lr)\n",
    "print(result_lr)"
   ]
  },
  {
   "cell_type": "code",
   "execution_count": 22,
   "metadata": {
    "scrolled": true
   },
   "outputs": [
    {
     "name": "stdout",
     "output_type": "stream",
     "text": [
      "категория штрафа за ошибки (penalty): l2;\n",
      "Алгоритм решения (solver): newton-cg;\n",
      "Параметр неверной классификации (C): 5\n"
     ]
    }
   ],
   "source": [
    "print(f\"категория штрафа за ошибки (penalty): {model_lr.best_params_['penalty']};\\n\\\n",
    "Алгоритм решения (solver): {model_lr.best_params_['solver']};\\n\\\n",
    "Параметр неверной классификации (C): {model_lr.best_params_['C']}\")"
   ]
  },
  {
   "cell_type": "code",
   "execution_count": 23,
   "metadata": {},
   "outputs": [
    {
     "name": "stdout",
     "output_type": "stream",
     "text": [
      "Посмотрим результаты обученных моделей на валидационной выборке и выберим лучший:\n",
      "решающее дерево: 0.7800829875518672 / 0.7614107883817427;\n",
      "случайный лес: 0.7821576763485477;\n",
      "логистическая регрессия: 0.7282157676348547\n"
     ]
    }
   ],
   "source": [
    "print(f\"Посмотрим результаты обученных моделей на валидационной выборке и выберим лучший:\\n\\\n",
    "решающее дерево: {result_dtc} / {result_dtc_opt};\\n\\\n",
    "случайный лес: {result_rfc_opt};\\n\\\n",
    "логистическая регрессия: {result_lr}\")"
   ]
  },
  {
   "cell_type": "markdown",
   "metadata": {},
   "source": [
    "После использования автоматизации при подборе гиперпараметров произошли изменения в данных, но  \n",
    "всё равно ↓"
   ]
  },
  {
   "cell_type": "markdown",
   "metadata": {},
   "source": [
    "**Выбираем модель \"Случайный лес\"**"
   ]
  },
  {
   "cell_type": "markdown",
   "metadata": {},
   "source": [
    "## Проверьте модель на тестовой выборке"
   ]
  },
  {
   "cell_type": "markdown",
   "metadata": {},
   "source": [
    "Смотрим модель решающего дерева на тестовой выборке"
   ]
  },
  {
   "cell_type": "code",
   "execution_count": 24,
   "metadata": {},
   "outputs": [
    {
     "data": {
      "text/plain": [
       "0.8033126293995859"
      ]
     },
     "execution_count": 24,
     "metadata": {},
     "output_type": "execute_result"
    }
   ],
   "source": [
    "predictions_rfc2 = model_rfc_opt.predict(features_test) # получите предсказания модели\n",
    "result_rfc2 = accuracy_score(target_test, predictions_rfc2)\n",
    "result_rfc2"
   ]
  },
  {
   "cell_type": "markdown",
   "metadata": {},
   "source": [
    "На тестовой выборке модель показала себя почти также, как при валидации, это говорит о том. что модель и гиперпараметры подобраны хорошо"
   ]
  },
  {
   "cell_type": "markdown",
   "metadata": {},
   "source": [
    "## Общий вывод\n",
    "\n",
    "Мы посмотрели тры разные модели для задачи классификации:  \n",
    " - Решающее дерево\n",
    " - Случайный лес\n",
    " - Логическая регрессия  \n",
    " \n",
    "Случайный лес с глубиной 17 показал лучшее качество (accuracy) - 0.78 на валидационной выборке и 0.778 на тестовой выборке.[В обучении](https://practicum.yandex.ru/trainer/data-scientist/lesson/76a8579c-f459-4622-b24a-4472f2e46add/#:~:text=%D0%9E%D0%B1%D1%8A%D0%B5%D0%B4%D0%B8%D0%BD%D0%B8%D0%BC%20%D0%BA%D1%80%D0%B8%D1%82%D0%B5%D1%80%D0%B8%D0%B8%20%D0%B2-,%D1%82%D0%B0%D0%B1%D0%BB%D0%B8%D1%86%D1%83%3A,-Name) приводилась сравнительная таблица \"качество/скорость моелей\", вопреки таблицы Логическая регрессия показала худший результат"
   ]
  }
 ],
 "metadata": {
  "ExecuteTimeLog": [
   {
    "duration": 1203,
    "start_time": "2023-06-02T15:52:10.345Z"
   },
   {
    "duration": 154,
    "start_time": "2023-06-02T15:52:12.116Z"
   },
   {
    "duration": 19,
    "start_time": "2023-06-02T15:52:12.977Z"
   },
   {
    "duration": 75,
    "start_time": "2023-06-02T15:52:49.704Z"
   },
   {
    "duration": 12,
    "start_time": "2023-06-02T15:52:50.477Z"
   },
   {
    "duration": 31,
    "start_time": "2023-06-02T15:53:05.435Z"
   },
   {
    "duration": 15,
    "start_time": "2023-06-02T15:53:05.915Z"
   },
   {
    "duration": 41,
    "start_time": "2023-06-02T15:55:59.257Z"
   },
   {
    "duration": 12,
    "start_time": "2023-06-02T15:57:31.668Z"
   },
   {
    "duration": 8,
    "start_time": "2023-06-02T16:04:03.248Z"
   },
   {
    "duration": 153,
    "start_time": "2023-06-02T16:04:31.842Z"
   },
   {
    "duration": 3,
    "start_time": "2023-06-02T16:04:48.213Z"
   },
   {
    "duration": 324,
    "start_time": "2023-06-02T16:04:51.402Z"
   },
   {
    "duration": 304,
    "start_time": "2023-06-02T16:05:30.947Z"
   },
   {
    "duration": 12,
    "start_time": "2023-06-02T16:06:57.519Z"
   },
   {
    "duration": 3,
    "start_time": "2023-06-02T16:07:12.280Z"
   },
   {
    "duration": 19,
    "start_time": "2023-06-02T16:07:15.990Z"
   },
   {
    "duration": 23,
    "start_time": "2023-06-02T16:09:57.412Z"
   },
   {
    "duration": 3,
    "start_time": "2023-06-02T16:10:17.681Z"
   },
   {
    "duration": 53,
    "start_time": "2023-06-02T16:10:21.167Z"
   },
   {
    "duration": 53,
    "start_time": "2023-06-02T16:10:52.707Z"
   },
   {
    "duration": 50,
    "start_time": "2023-06-02T16:11:16.749Z"
   },
   {
    "duration": 51,
    "start_time": "2023-06-02T16:11:30.615Z"
   },
   {
    "duration": 46,
    "start_time": "2023-06-02T16:13:03.539Z"
   },
   {
    "duration": 54,
    "start_time": "2023-06-02T17:30:05.156Z"
   },
   {
    "duration": 69,
    "start_time": "2023-06-02T17:30:13.143Z"
   },
   {
    "duration": 126,
    "start_time": "2023-06-02T17:30:18.185Z"
   },
   {
    "duration": 547,
    "start_time": "2023-06-02T17:30:26.743Z"
   },
   {
    "duration": 533,
    "start_time": "2023-06-02T17:32:26.365Z"
   },
   {
    "duration": 8,
    "start_time": "2023-06-02T17:34:08.205Z"
   },
   {
    "duration": 4,
    "start_time": "2023-06-02T17:34:18.581Z"
   },
   {
    "duration": 1361,
    "start_time": "2023-06-02T17:54:42.165Z"
   },
   {
    "duration": 3,
    "start_time": "2023-06-02T17:55:10.698Z"
   },
   {
    "duration": 1704,
    "start_time": "2023-06-02T17:55:16.941Z"
   },
   {
    "duration": 3,
    "start_time": "2023-06-02T17:55:24.754Z"
   },
   {
    "duration": 2443,
    "start_time": "2023-06-02T17:55:32.399Z"
   },
   {
    "duration": 8,
    "start_time": "2023-06-02T18:01:36.671Z"
   },
   {
    "duration": 20,
    "start_time": "2023-06-02T18:01:40.521Z"
   },
   {
    "duration": 27721,
    "start_time": "2023-06-02T18:02:09.497Z"
   },
   {
    "duration": 563,
    "start_time": "2023-06-02T18:02:37.220Z"
   },
   {
    "duration": 969,
    "start_time": "2023-06-02T18:03:49.691Z"
   },
   {
    "duration": 35,
    "start_time": "2023-06-02T18:03:54.645Z"
   },
   {
    "duration": 16,
    "start_time": "2023-06-02T18:03:56.157Z"
   },
   {
    "duration": 12,
    "start_time": "2023-06-02T18:03:56.450Z"
   },
   {
    "duration": 23,
    "start_time": "2023-06-02T18:03:56.898Z"
   },
   {
    "duration": 7,
    "start_time": "2023-06-02T18:05:52.769Z"
   },
   {
    "duration": 152,
    "start_time": "2023-06-02T18:05:54.806Z"
   },
   {
    "duration": 10,
    "start_time": "2023-06-02T18:06:08.983Z"
   },
   {
    "duration": 7,
    "start_time": "2023-06-02T18:09:48.948Z"
   },
   {
    "duration": 10,
    "start_time": "2023-06-02T18:09:49.966Z"
   },
   {
    "duration": 7,
    "start_time": "2023-06-02T18:09:51.452Z"
   },
   {
    "duration": 149,
    "start_time": "2023-06-02T18:09:53.646Z"
   },
   {
    "duration": 655,
    "start_time": "2023-06-02T18:09:55.364Z"
   },
   {
    "duration": 2465,
    "start_time": "2023-06-02T18:09:57.795Z"
   },
   {
    "duration": 398,
    "start_time": "2023-06-02T18:14:32.092Z"
   },
   {
    "duration": 2998,
    "start_time": "2023-06-02T18:16:18.841Z"
   },
   {
    "duration": 13,
    "start_time": "2023-06-02T18:16:42.860Z"
   },
   {
    "duration": 3230,
    "start_time": "2023-06-02T18:16:42.878Z"
   },
   {
    "duration": 1646,
    "start_time": "2023-06-02T18:16:46.110Z"
   },
   {
    "duration": 53,
    "start_time": "2023-06-02T18:16:47.765Z"
   },
   {
    "duration": 41,
    "start_time": "2023-06-02T18:16:47.820Z"
   },
   {
    "duration": 23,
    "start_time": "2023-06-02T18:16:47.869Z"
   },
   {
    "duration": 43,
    "start_time": "2023-06-02T18:16:47.894Z"
   },
   {
    "duration": 4,
    "start_time": "2023-06-02T18:16:47.940Z"
   },
   {
    "duration": 8,
    "start_time": "2023-06-02T18:16:47.948Z"
   },
   {
    "duration": 19,
    "start_time": "2023-06-02T18:16:47.961Z"
   },
   {
    "duration": 15,
    "start_time": "2023-06-02T18:16:47.986Z"
   },
   {
    "duration": 147,
    "start_time": "2023-06-02T18:16:48.003Z"
   },
   {
    "duration": 0,
    "start_time": "2023-06-02T18:16:48.152Z"
   },
   {
    "duration": 0,
    "start_time": "2023-06-02T18:16:48.165Z"
   },
   {
    "duration": 12,
    "start_time": "2023-06-02T18:17:28.292Z"
   },
   {
    "duration": 8,
    "start_time": "2023-06-02T18:17:38.015Z"
   },
   {
    "duration": 6,
    "start_time": "2023-06-02T18:19:08.590Z"
   },
   {
    "duration": 2625,
    "start_time": "2023-06-02T18:19:27.103Z"
   },
   {
    "duration": 1445,
    "start_time": "2023-06-02T18:19:29.734Z"
   },
   {
    "duration": 32,
    "start_time": "2023-06-02T18:19:31.181Z"
   },
   {
    "duration": 29,
    "start_time": "2023-06-02T18:19:31.215Z"
   },
   {
    "duration": 35,
    "start_time": "2023-06-02T18:19:31.247Z"
   },
   {
    "duration": 57,
    "start_time": "2023-06-02T18:19:31.284Z"
   },
   {
    "duration": 17,
    "start_time": "2023-06-02T18:19:31.352Z"
   },
   {
    "duration": 61,
    "start_time": "2023-06-02T18:19:31.372Z"
   },
   {
    "duration": 197,
    "start_time": "2023-06-02T18:19:31.437Z"
   },
   {
    "duration": 745,
    "start_time": "2023-06-02T18:19:31.643Z"
   },
   {
    "duration": 170,
    "start_time": "2023-06-02T18:19:32.390Z"
   },
   {
    "duration": 24,
    "start_time": "2023-06-02T18:20:05.764Z"
   },
   {
    "duration": 33,
    "start_time": "2023-06-02T18:20:12.143Z"
   },
   {
    "duration": 44,
    "start_time": "2023-06-02T18:20:16.114Z"
   },
   {
    "duration": 201,
    "start_time": "2023-06-02T18:23:05.456Z"
   },
   {
    "duration": 754,
    "start_time": "2023-06-02T18:23:07.818Z"
   },
   {
    "duration": 373,
    "start_time": "2023-06-02T18:23:16.407Z"
   },
   {
    "duration": 125,
    "start_time": "2023-06-02T18:23:24.359Z"
   },
   {
    "duration": 2430,
    "start_time": "2023-06-02T18:23:29.942Z"
   },
   {
    "duration": 1456,
    "start_time": "2023-06-02T18:23:42.057Z"
   },
   {
    "duration": 41,
    "start_time": "2023-06-02T18:23:58.318Z"
   },
   {
    "duration": 28,
    "start_time": "2023-06-02T18:24:01.788Z"
   },
   {
    "duration": 40,
    "start_time": "2023-06-02T18:24:07.022Z"
   },
   {
    "duration": 23,
    "start_time": "2023-06-02T18:26:57.116Z"
   },
   {
    "duration": 19,
    "start_time": "2023-06-02T18:43:49.659Z"
   },
   {
    "duration": 113,
    "start_time": "2023-06-02T18:44:00.586Z"
   },
   {
    "duration": 1359,
    "start_time": "2023-06-02T18:44:02.903Z"
   },
   {
    "duration": 27,
    "start_time": "2023-06-02T18:44:06.460Z"
   },
   {
    "duration": 16,
    "start_time": "2023-06-02T18:44:08.200Z"
   },
   {
    "duration": 11,
    "start_time": "2023-06-02T18:44:10.121Z"
   },
   {
    "duration": 5,
    "start_time": "2023-06-02T18:56:01.851Z"
   },
   {
    "duration": 3074,
    "start_time": "2023-06-02T18:56:07.649Z"
   },
   {
    "duration": 1528,
    "start_time": "2023-06-02T18:56:10.725Z"
   },
   {
    "duration": 40,
    "start_time": "2023-06-02T18:56:12.257Z"
   },
   {
    "duration": 15,
    "start_time": "2023-06-02T18:56:12.299Z"
   },
   {
    "duration": 40,
    "start_time": "2023-06-02T18:56:12.315Z"
   },
   {
    "duration": 40,
    "start_time": "2023-06-02T18:56:12.357Z"
   },
   {
    "duration": 11,
    "start_time": "2023-06-02T18:56:12.399Z"
   },
   {
    "duration": 39,
    "start_time": "2023-06-02T18:56:12.412Z"
   },
   {
    "duration": 146,
    "start_time": "2023-06-02T18:56:12.455Z"
   },
   {
    "duration": 1382,
    "start_time": "2023-06-02T18:56:12.604Z"
   },
   {
    "duration": 67,
    "start_time": "2023-06-02T18:56:13.989Z"
   },
   {
    "duration": 20,
    "start_time": "2023-06-02T18:56:14.066Z"
   },
   {
    "duration": 112,
    "start_time": "2023-06-02T18:58:45.089Z"
   },
   {
    "duration": 1288,
    "start_time": "2023-06-02T18:58:47.394Z"
   },
   {
    "duration": 2003,
    "start_time": "2023-06-02T18:58:56.807Z"
   },
   {
    "duration": 412,
    "start_time": "2023-06-02T18:59:08.570Z"
   },
   {
    "duration": 2139,
    "start_time": "2023-06-02T18:59:18.281Z"
   },
   {
    "duration": 37,
    "start_time": "2023-06-02T18:59:21.961Z"
   },
   {
    "duration": 189,
    "start_time": "2023-06-02T19:03:53.114Z"
   },
   {
    "duration": 32,
    "start_time": "2023-06-02T19:04:09.898Z"
   },
   {
    "duration": 28,
    "start_time": "2023-06-02T19:04:25.503Z"
   },
   {
    "duration": 10,
    "start_time": "2023-06-02T19:04:41.377Z"
   },
   {
    "duration": 8,
    "start_time": "2023-06-02T19:05:12.294Z"
   },
   {
    "duration": 9,
    "start_time": "2023-06-02T19:07:04.080Z"
   },
   {
    "duration": 2900,
    "start_time": "2023-06-02T19:18:11.319Z"
   },
   {
    "duration": 1458,
    "start_time": "2023-06-02T19:18:14.221Z"
   },
   {
    "duration": 32,
    "start_time": "2023-06-02T19:18:15.681Z"
   },
   {
    "duration": 19,
    "start_time": "2023-06-02T19:18:15.715Z"
   },
   {
    "duration": 12,
    "start_time": "2023-06-02T19:18:15.739Z"
   },
   {
    "duration": 27,
    "start_time": "2023-06-02T19:18:15.753Z"
   },
   {
    "duration": 7,
    "start_time": "2023-06-02T19:18:15.781Z"
   },
   {
    "duration": 9,
    "start_time": "2023-06-02T19:18:15.790Z"
   },
   {
    "duration": 133,
    "start_time": "2023-06-02T19:18:15.800Z"
   },
   {
    "duration": 1926,
    "start_time": "2023-06-02T19:18:15.939Z"
   },
   {
    "duration": 37,
    "start_time": "2023-06-02T19:18:17.867Z"
   },
   {
    "duration": 22,
    "start_time": "2023-06-02T19:18:17.906Z"
   },
   {
    "duration": 4,
    "start_time": "2023-06-02T19:20:49.918Z"
   },
   {
    "duration": 5,
    "start_time": "2023-06-02T19:24:59.595Z"
   },
   {
    "duration": 3,
    "start_time": "2023-06-02T19:25:19.116Z"
   },
   {
    "duration": 3,
    "start_time": "2023-06-02T19:25:52.005Z"
   },
   {
    "duration": 3,
    "start_time": "2023-06-02T19:26:23.192Z"
   },
   {
    "duration": 4,
    "start_time": "2023-06-02T19:27:00.901Z"
   },
   {
    "duration": 6,
    "start_time": "2023-06-02T19:27:09.698Z"
   },
   {
    "duration": 3,
    "start_time": "2023-06-02T19:27:38.195Z"
   },
   {
    "duration": 3,
    "start_time": "2023-06-02T19:27:54.372Z"
   },
   {
    "duration": 7,
    "start_time": "2023-06-02T19:28:43.679Z"
   },
   {
    "duration": 131,
    "start_time": "2023-06-02T19:33:51.471Z"
   },
   {
    "duration": 11,
    "start_time": "2023-06-02T19:33:56.722Z"
   },
   {
    "duration": 9,
    "start_time": "2023-06-02T19:34:20.071Z"
   },
   {
    "duration": 7,
    "start_time": "2023-06-02T19:34:24.802Z"
   },
   {
    "duration": 22,
    "start_time": "2023-06-02T19:35:28.383Z"
   },
   {
    "duration": 8,
    "start_time": "2023-06-02T19:36:07.483Z"
   },
   {
    "duration": 107,
    "start_time": "2023-06-02T19:36:30.874Z"
   },
   {
    "duration": 1886,
    "start_time": "2023-06-02T19:37:08.090Z"
   },
   {
    "duration": 708,
    "start_time": "2023-06-02T19:37:21.068Z"
   },
   {
    "duration": 225,
    "start_time": "2023-06-02T19:37:37.392Z"
   },
   {
    "duration": 46,
    "start_time": "2023-06-02T19:38:30.965Z"
   },
   {
    "duration": 1377,
    "start_time": "2023-06-02T19:38:39.800Z"
   },
   {
    "duration": 39,
    "start_time": "2023-06-02T19:38:47.407Z"
   },
   {
    "duration": 91,
    "start_time": "2023-06-02T19:39:26.678Z"
   },
   {
    "duration": 412,
    "start_time": "2023-06-02T19:39:33.356Z"
   },
   {
    "duration": 106,
    "start_time": "2023-06-02T19:39:36.791Z"
   },
   {
    "duration": 1355,
    "start_time": "2023-06-02T19:39:45.467Z"
   },
   {
    "duration": 33,
    "start_time": "2023-06-02T19:39:55.589Z"
   },
   {
    "duration": 21,
    "start_time": "2023-06-02T19:40:33.180Z"
   },
   {
    "duration": 21,
    "start_time": "2023-06-02T19:40:45.982Z"
   },
   {
    "duration": 13,
    "start_time": "2023-06-02T19:40:50.587Z"
   },
   {
    "duration": 2002,
    "start_time": "2023-06-02T21:56:49.568Z"
   },
   {
    "duration": 3595,
    "start_time": "2023-06-02T21:57:02.114Z"
   },
   {
    "duration": 93,
    "start_time": "2023-06-02T21:57:07.275Z"
   },
   {
    "duration": 133,
    "start_time": "2023-06-02T21:57:09.109Z"
   },
   {
    "duration": 17,
    "start_time": "2023-06-02T21:57:09.479Z"
   },
   {
    "duration": 16,
    "start_time": "2023-06-02T21:57:09.673Z"
   },
   {
    "duration": 23,
    "start_time": "2023-06-02T21:57:09.905Z"
   },
   {
    "duration": 13,
    "start_time": "2023-06-02T21:57:14.738Z"
   },
   {
    "duration": 12,
    "start_time": "2023-06-02T21:57:18.971Z"
   },
   {
    "duration": 2094,
    "start_time": "2023-06-03T09:08:02.498Z"
   },
   {
    "duration": 0,
    "start_time": "2023-06-03T09:08:04.594Z"
   },
   {
    "duration": 3436,
    "start_time": "2023-06-03T09:08:08.179Z"
   },
   {
    "duration": 1761,
    "start_time": "2023-06-03T09:09:02.387Z"
   },
   {
    "duration": 90,
    "start_time": "2023-06-03T09:09:05.600Z"
   },
   {
    "duration": 21,
    "start_time": "2023-06-03T09:09:07.379Z"
   },
   {
    "duration": 12,
    "start_time": "2023-06-03T09:09:07.710Z"
   },
   {
    "duration": 24,
    "start_time": "2023-06-03T09:09:08.395Z"
   },
   {
    "duration": 8,
    "start_time": "2023-06-03T09:09:13.111Z"
   },
   {
    "duration": 135,
    "start_time": "2023-06-03T09:09:20.696Z"
   },
   {
    "duration": 24,
    "start_time": "2023-06-03T09:09:39.862Z"
   },
   {
    "duration": 29,
    "start_time": "2023-06-03T09:09:49.294Z"
   },
   {
    "duration": 32,
    "start_time": "2023-06-03T09:10:06.523Z"
   },
   {
    "duration": 31,
    "start_time": "2023-06-03T09:10:10.779Z"
   },
   {
    "duration": 56,
    "start_time": "2023-06-03T09:10:14.143Z"
   },
   {
    "duration": 37,
    "start_time": "2023-06-03T09:14:04.383Z"
   },
   {
    "duration": 21,
    "start_time": "2023-06-03T09:14:36.480Z"
   },
   {
    "duration": 14400,
    "start_time": "2023-06-03T09:14:45.829Z"
   },
   {
    "duration": 14523,
    "start_time": "2023-06-03T09:15:18.678Z"
   },
   {
    "duration": 4,
    "start_time": "2023-06-03T09:16:38.921Z"
   },
   {
    "duration": 3,
    "start_time": "2023-06-03T09:20:46.318Z"
   },
   {
    "duration": 113709,
    "start_time": "2023-06-03T09:22:38.385Z"
   },
   {
    "duration": 75098,
    "start_time": "2023-06-03T09:24:33.725Z"
   },
   {
    "duration": 4,
    "start_time": "2023-06-03T09:25:53.899Z"
   },
   {
    "duration": 7771,
    "start_time": "2023-06-03T09:26:17.892Z"
   },
   {
    "duration": 9127,
    "start_time": "2023-06-03T09:26:32.641Z"
   },
   {
    "duration": 9399,
    "start_time": "2023-06-03T09:26:45.642Z"
   },
   {
    "duration": 4,
    "start_time": "2023-06-03T09:26:57.441Z"
   },
   {
    "duration": 11,
    "start_time": "2023-06-03T12:35:02.787Z"
   },
   {
    "duration": 4416,
    "start_time": "2023-06-03T12:35:28.508Z"
   },
   {
    "duration": 232,
    "start_time": "2023-06-03T12:35:37.993Z"
   },
   {
    "duration": 56,
    "start_time": "2023-06-03T12:35:43.849Z"
   },
   {
    "duration": 9,
    "start_time": "2023-06-03T12:35:48.191Z"
   },
   {
    "duration": 8,
    "start_time": "2023-06-03T12:35:51.448Z"
   },
   {
    "duration": 31,
    "start_time": "2023-06-03T12:35:57.996Z"
   },
   {
    "duration": 6,
    "start_time": "2023-06-03T12:36:31.288Z"
   },
   {
    "duration": 53422,
    "start_time": "2023-06-03T12:36:35.539Z"
   },
   {
    "duration": 10,
    "start_time": "2023-06-03T12:37:52.996Z"
   },
   {
    "duration": 181,
    "start_time": "2023-06-03T12:38:07.487Z"
   },
   {
    "duration": 54085,
    "start_time": "2023-06-03T12:38:49.190Z"
   },
   {
    "duration": 55906,
    "start_time": "2023-06-03T12:40:39.024Z"
   },
   {
    "duration": 62,
    "start_time": "2023-06-03T12:42:02.700Z"
   },
   {
    "duration": 8,
    "start_time": "2023-06-03T12:42:29.208Z"
   },
   {
    "duration": 4,
    "start_time": "2023-06-03T12:44:36.125Z"
   },
   {
    "duration": 51289,
    "start_time": "2023-06-03T12:45:23.395Z"
   },
   {
    "duration": 7607,
    "start_time": "2023-06-03T12:56:46.936Z"
   },
   {
    "duration": 4,
    "start_time": "2023-06-03T12:57:00.910Z"
   },
   {
    "duration": 81,
    "start_time": "2023-06-03T12:57:10.699Z"
   },
   {
    "duration": 3896,
    "start_time": "2023-06-03T12:57:38.096Z"
   },
   {
    "duration": 4,
    "start_time": "2023-06-03T12:57:53.695Z"
   },
   {
    "duration": 1922,
    "start_time": "2023-06-03T13:00:56.503Z"
   },
   {
    "duration": 42,
    "start_time": "2023-06-03T13:01:01.149Z"
   },
   {
    "duration": 11,
    "start_time": "2023-06-03T13:01:04.773Z"
   },
   {
    "duration": 7404,
    "start_time": "2023-06-03T13:01:53.374Z"
   },
   {
    "duration": 6,
    "start_time": "2023-06-03T13:02:02.685Z"
   },
   {
    "duration": 3847,
    "start_time": "2023-06-03T13:02:08.291Z"
   },
   {
    "duration": 169,
    "start_time": "2023-06-03T13:02:18.179Z"
   },
   {
    "duration": 1134,
    "start_time": "2023-06-03T13:03:08.585Z"
   },
   {
    "duration": 55509,
    "start_time": "2023-06-03T13:03:13.667Z"
   },
   {
    "duration": 119,
    "start_time": "2023-06-03T13:04:21.379Z"
   },
   {
    "duration": 6,
    "start_time": "2023-06-03T13:04:23.582Z"
   },
   {
    "duration": 14,
    "start_time": "2023-06-03T13:04:36.773Z"
   },
   {
    "duration": 4130,
    "start_time": "2023-06-03T13:04:42.280Z"
   },
   {
    "duration": 26,
    "start_time": "2023-06-03T13:05:02.276Z"
   },
   {
    "duration": 4,
    "start_time": "2023-06-03T13:05:06.137Z"
   },
   {
    "duration": 9,
    "start_time": "2023-06-03T13:05:39.786Z"
   },
   {
    "duration": 7483,
    "start_time": "2023-06-03T13:06:19.622Z"
   },
   {
    "duration": 7,
    "start_time": "2023-06-03T13:06:29.001Z"
   },
   {
    "duration": 10,
    "start_time": "2023-06-03T13:06:37.901Z"
   },
   {
    "duration": 4,
    "start_time": "2023-06-03T13:18:40.478Z"
   },
   {
    "duration": 31,
    "start_time": "2023-06-03T13:50:53.818Z"
   },
   {
    "duration": 2871,
    "start_time": "2023-06-03T13:51:35.914Z"
   },
   {
    "duration": 7,
    "start_time": "2023-06-03T13:51:41.727Z"
   },
   {
    "duration": 6,
    "start_time": "2023-06-03T13:51:58.167Z"
   },
   {
    "duration": 4,
    "start_time": "2023-06-03T13:55:27.383Z"
   },
   {
    "duration": 4,
    "start_time": "2023-06-03T13:58:42.364Z"
   },
   {
    "duration": 4,
    "start_time": "2023-06-03T14:00:42.665Z"
   },
   {
    "duration": 4019,
    "start_time": "2023-06-03T14:01:00.831Z"
   },
   {
    "duration": 2173,
    "start_time": "2023-06-03T14:01:04.853Z"
   },
   {
    "duration": 1799,
    "start_time": "2023-06-03T14:01:07.027Z"
   },
   {
    "duration": 45,
    "start_time": "2023-06-03T14:01:08.828Z"
   },
   {
    "duration": 15,
    "start_time": "2023-06-03T14:01:08.875Z"
   },
   {
    "duration": 13,
    "start_time": "2023-06-03T14:01:08.892Z"
   },
   {
    "duration": 25,
    "start_time": "2023-06-03T14:01:08.906Z"
   },
   {
    "duration": 6,
    "start_time": "2023-06-03T14:01:08.933Z"
   },
   {
    "duration": 14,
    "start_time": "2023-06-03T14:01:08.940Z"
   },
   {
    "duration": 7088,
    "start_time": "2023-06-03T14:01:08.959Z"
   },
   {
    "duration": 12,
    "start_time": "2023-06-03T14:01:16.052Z"
   },
   {
    "duration": 5,
    "start_time": "2023-06-03T14:01:16.069Z"
   },
   {
    "duration": 3592,
    "start_time": "2023-06-03T14:01:16.077Z"
   },
   {
    "duration": 155,
    "start_time": "2023-06-03T14:01:19.671Z"
   },
   {
    "duration": 0,
    "start_time": "2023-06-03T14:01:19.827Z"
   },
   {
    "duration": 0,
    "start_time": "2023-06-03T14:01:19.829Z"
   },
   {
    "duration": 0,
    "start_time": "2023-06-03T14:01:19.830Z"
   },
   {
    "duration": 0,
    "start_time": "2023-06-03T14:01:19.831Z"
   },
   {
    "duration": 1,
    "start_time": "2023-06-03T14:01:19.832Z"
   },
   {
    "duration": 0,
    "start_time": "2023-06-03T14:01:19.833Z"
   },
   {
    "duration": 0,
    "start_time": "2023-06-03T14:01:19.834Z"
   },
   {
    "duration": 0,
    "start_time": "2023-06-03T14:01:19.835Z"
   },
   {
    "duration": 0,
    "start_time": "2023-06-03T14:01:19.852Z"
   },
   {
    "duration": 15,
    "start_time": "2023-06-03T14:01:43.405Z"
   },
   {
    "duration": 4,
    "start_time": "2023-06-03T14:01:44.823Z"
   },
   {
    "duration": 3369,
    "start_time": "2023-06-03T14:02:06.024Z"
   },
   {
    "duration": 9,
    "start_time": "2023-06-03T14:02:15.663Z"
   },
   {
    "duration": 3,
    "start_time": "2023-06-03T14:02:28.184Z"
   },
   {
    "duration": 2291,
    "start_time": "2023-06-03T14:03:02.887Z"
   },
   {
    "duration": 2112,
    "start_time": "2023-06-03T14:03:05.180Z"
   },
   {
    "duration": 1806,
    "start_time": "2023-06-03T14:03:07.294Z"
   },
   {
    "duration": 30,
    "start_time": "2023-06-03T14:03:09.102Z"
   },
   {
    "duration": 14,
    "start_time": "2023-06-03T14:03:09.134Z"
   },
   {
    "duration": 22,
    "start_time": "2023-06-03T14:03:09.149Z"
   },
   {
    "duration": 23,
    "start_time": "2023-06-03T14:03:09.173Z"
   },
   {
    "duration": 8,
    "start_time": "2023-06-03T14:03:09.197Z"
   },
   {
    "duration": 24,
    "start_time": "2023-06-03T14:03:09.206Z"
   },
   {
    "duration": 6761,
    "start_time": "2023-06-03T14:03:09.233Z"
   },
   {
    "duration": 5,
    "start_time": "2023-06-03T14:03:15.996Z"
   },
   {
    "duration": 7,
    "start_time": "2023-06-03T14:03:16.002Z"
   },
   {
    "duration": 3264,
    "start_time": "2023-06-03T14:03:16.011Z"
   },
   {
    "duration": 147,
    "start_time": "2023-06-03T14:03:19.277Z"
   },
   {
    "duration": 0,
    "start_time": "2023-06-03T14:03:19.426Z"
   },
   {
    "duration": 0,
    "start_time": "2023-06-03T14:03:19.427Z"
   },
   {
    "duration": 0,
    "start_time": "2023-06-03T14:03:19.428Z"
   },
   {
    "duration": 0,
    "start_time": "2023-06-03T14:03:19.429Z"
   },
   {
    "duration": 0,
    "start_time": "2023-06-03T14:03:19.430Z"
   },
   {
    "duration": 0,
    "start_time": "2023-06-03T14:03:19.432Z"
   },
   {
    "duration": 0,
    "start_time": "2023-06-03T14:03:19.433Z"
   },
   {
    "duration": 0,
    "start_time": "2023-06-03T14:03:19.433Z"
   },
   {
    "duration": 0,
    "start_time": "2023-06-03T14:03:19.453Z"
   },
   {
    "duration": 15,
    "start_time": "2023-06-03T14:03:32.994Z"
   },
   {
    "duration": 4,
    "start_time": "2023-06-03T14:03:38.966Z"
   },
   {
    "duration": 17,
    "start_time": "2023-06-03T14:06:00.460Z"
   },
   {
    "duration": 2203,
    "start_time": "2023-06-03T14:06:40.662Z"
   },
   {
    "duration": 2208,
    "start_time": "2023-06-03T14:06:42.868Z"
   },
   {
    "duration": 1719,
    "start_time": "2023-06-03T14:06:45.078Z"
   },
   {
    "duration": 29,
    "start_time": "2023-06-03T14:06:46.799Z"
   },
   {
    "duration": 14,
    "start_time": "2023-06-03T14:06:46.830Z"
   },
   {
    "duration": 14,
    "start_time": "2023-06-03T14:06:46.845Z"
   },
   {
    "duration": 34,
    "start_time": "2023-06-03T14:06:46.862Z"
   },
   {
    "duration": 8,
    "start_time": "2023-06-03T14:06:46.898Z"
   },
   {
    "duration": 5,
    "start_time": "2023-06-03T14:06:46.907Z"
   },
   {
    "duration": 6561,
    "start_time": "2023-06-03T14:06:46.913Z"
   },
   {
    "duration": 5,
    "start_time": "2023-06-03T14:06:53.475Z"
   },
   {
    "duration": 5,
    "start_time": "2023-06-03T14:06:53.482Z"
   },
   {
    "duration": 49652,
    "start_time": "2023-06-03T14:06:53.489Z"
   },
   {
    "duration": 165,
    "start_time": "2023-06-03T14:07:43.151Z"
   },
   {
    "duration": 0,
    "start_time": "2023-06-03T14:07:43.318Z"
   },
   {
    "duration": 0,
    "start_time": "2023-06-03T14:07:43.319Z"
   },
   {
    "duration": 0,
    "start_time": "2023-06-03T14:07:43.320Z"
   },
   {
    "duration": 0,
    "start_time": "2023-06-03T14:07:43.322Z"
   },
   {
    "duration": 0,
    "start_time": "2023-06-03T14:07:43.323Z"
   },
   {
    "duration": 0,
    "start_time": "2023-06-03T14:07:43.324Z"
   },
   {
    "duration": 0,
    "start_time": "2023-06-03T14:07:43.325Z"
   },
   {
    "duration": 8807,
    "start_time": "2023-06-03T14:08:11.216Z"
   },
   {
    "duration": 6,
    "start_time": "2023-06-03T14:08:23.597Z"
   },
   {
    "duration": 1067,
    "start_time": "2023-06-03T14:10:35.174Z"
   },
   {
    "duration": 80,
    "start_time": "2023-06-03T14:11:03.596Z"
   },
   {
    "duration": 5,
    "start_time": "2023-06-03T14:11:05.867Z"
   },
   {
    "duration": 43,
    "start_time": "2023-06-03T14:11:10.724Z"
   },
   {
    "duration": 38,
    "start_time": "2023-06-03T14:11:33.383Z"
   },
   {
    "duration": 38,
    "start_time": "2023-06-03T14:13:24.527Z"
   },
   {
    "duration": 2647,
    "start_time": "2023-06-03T14:13:30.698Z"
   },
   {
    "duration": 2498,
    "start_time": "2023-06-03T14:13:33.347Z"
   },
   {
    "duration": 1876,
    "start_time": "2023-06-03T14:13:35.847Z"
   },
   {
    "duration": 31,
    "start_time": "2023-06-03T14:13:37.725Z"
   },
   {
    "duration": 18,
    "start_time": "2023-06-03T14:13:37.760Z"
   },
   {
    "duration": 17,
    "start_time": "2023-06-03T14:13:37.780Z"
   },
   {
    "duration": 24,
    "start_time": "2023-06-03T14:13:37.799Z"
   },
   {
    "duration": 26,
    "start_time": "2023-06-03T14:13:37.825Z"
   },
   {
    "duration": 5,
    "start_time": "2023-06-03T14:13:37.860Z"
   },
   {
    "duration": 9498,
    "start_time": "2023-06-03T14:13:37.868Z"
   },
   {
    "duration": 7,
    "start_time": "2023-06-03T14:13:47.368Z"
   },
   {
    "duration": 5,
    "start_time": "2023-06-03T14:13:47.377Z"
   },
   {
    "duration": 294,
    "start_time": "2023-06-03T14:13:47.383Z"
   },
   {
    "duration": 0,
    "start_time": "2023-06-03T14:13:47.679Z"
   },
   {
    "duration": 0,
    "start_time": "2023-06-03T14:13:47.680Z"
   },
   {
    "duration": 0,
    "start_time": "2023-06-03T14:13:47.681Z"
   },
   {
    "duration": 0,
    "start_time": "2023-06-03T14:13:47.682Z"
   },
   {
    "duration": 0,
    "start_time": "2023-06-03T14:13:47.686Z"
   },
   {
    "duration": 0,
    "start_time": "2023-06-03T14:13:47.687Z"
   },
   {
    "duration": 0,
    "start_time": "2023-06-03T14:13:47.688Z"
   },
   {
    "duration": 0,
    "start_time": "2023-06-03T14:13:47.689Z"
   },
   {
    "duration": 0,
    "start_time": "2023-06-03T14:13:47.691Z"
   },
   {
    "duration": 0,
    "start_time": "2023-06-03T14:13:47.692Z"
   },
   {
    "duration": 0,
    "start_time": "2023-06-03T14:13:47.693Z"
   },
   {
    "duration": 71,
    "start_time": "2023-06-03T14:14:38.300Z"
   },
   {
    "duration": 32,
    "start_time": "2023-06-03T14:14:47.584Z"
   },
   {
    "duration": 30,
    "start_time": "2023-06-03T14:14:51.590Z"
   },
   {
    "duration": 39,
    "start_time": "2023-06-03T14:15:04.407Z"
   },
   {
    "duration": 53,
    "start_time": "2023-06-03T14:15:30.850Z"
   },
   {
    "duration": 39,
    "start_time": "2023-06-03T14:15:39.880Z"
   },
   {
    "duration": 43,
    "start_time": "2023-06-03T14:16:00.070Z"
   },
   {
    "duration": 58,
    "start_time": "2023-06-03T14:16:05.371Z"
   },
   {
    "duration": 2471,
    "start_time": "2023-06-03T14:16:13.692Z"
   },
   {
    "duration": 51,
    "start_time": "2023-06-03T14:16:29.090Z"
   },
   {
    "duration": 2417,
    "start_time": "2023-06-03T14:17:53.507Z"
   },
   {
    "duration": 10537,
    "start_time": "2023-06-03T14:18:02.761Z"
   },
   {
    "duration": 2311,
    "start_time": "2023-06-03T14:19:37.238Z"
   },
   {
    "duration": 2110,
    "start_time": "2023-06-03T14:19:39.556Z"
   },
   {
    "duration": 1813,
    "start_time": "2023-06-03T14:19:41.668Z"
   },
   {
    "duration": 30,
    "start_time": "2023-06-03T14:19:43.483Z"
   },
   {
    "duration": 14,
    "start_time": "2023-06-03T14:19:43.514Z"
   },
   {
    "duration": 13,
    "start_time": "2023-06-03T14:19:43.529Z"
   },
   {
    "duration": 29,
    "start_time": "2023-06-03T14:19:43.544Z"
   },
   {
    "duration": 8,
    "start_time": "2023-06-03T14:19:43.575Z"
   },
   {
    "duration": 5,
    "start_time": "2023-06-03T14:19:43.585Z"
   },
   {
    "duration": 8826,
    "start_time": "2023-06-03T14:19:43.593Z"
   },
   {
    "duration": 6,
    "start_time": "2023-06-03T14:19:52.420Z"
   },
   {
    "duration": 8,
    "start_time": "2023-06-03T14:19:52.428Z"
   },
   {
    "duration": 2459,
    "start_time": "2023-06-03T14:19:52.452Z"
   },
   {
    "duration": 9,
    "start_time": "2023-06-03T14:19:54.913Z"
   },
   {
    "duration": 15,
    "start_time": "2023-06-03T14:19:54.924Z"
   },
   {
    "duration": 10,
    "start_time": "2023-06-03T14:19:54.956Z"
   },
   {
    "duration": 19551,
    "start_time": "2023-06-03T14:19:54.968Z"
   },
   {
    "duration": 114,
    "start_time": "2023-06-03T14:20:14.521Z"
   },
   {
    "duration": 5,
    "start_time": "2023-06-03T14:20:14.637Z"
   },
   {
    "duration": 2597,
    "start_time": "2023-06-03T14:20:14.650Z"
   },
   {
    "duration": 10,
    "start_time": "2023-06-03T14:20:17.250Z"
   },
   {
    "duration": 4,
    "start_time": "2023-06-03T14:20:17.263Z"
   },
   {
    "duration": 4,
    "start_time": "2023-06-03T14:20:17.270Z"
   },
   {
    "duration": 15,
    "start_time": "2023-06-03T14:20:17.275Z"
   },
   {
    "duration": 2417,
    "start_time": "2023-06-03T14:23:34.211Z"
   },
   {
    "duration": 9,
    "start_time": "2023-06-03T14:23:41.898Z"
   },
   {
    "duration": 3,
    "start_time": "2023-06-03T14:23:43.805Z"
   },
   {
    "duration": 9,
    "start_time": "2023-06-03T14:23:58.894Z"
   },
   {
    "duration": 9,
    "start_time": "2023-06-03T14:24:03.798Z"
   },
   {
    "duration": 2394,
    "start_time": "2023-06-03T14:24:28.597Z"
   },
   {
    "duration": 9,
    "start_time": "2023-06-03T14:24:36.966Z"
   },
   {
    "duration": 4,
    "start_time": "2023-06-03T14:24:37.965Z"
   },
   {
    "duration": 2925,
    "start_time": "2023-06-03T14:24:49.260Z"
   },
   {
    "duration": 16,
    "start_time": "2023-06-03T14:24:54.784Z"
   },
   {
    "duration": 4,
    "start_time": "2023-06-03T14:24:55.926Z"
   },
   {
    "duration": 12189,
    "start_time": "2023-06-03T14:25:06.350Z"
   },
   {
    "duration": 7,
    "start_time": "2023-06-03T14:25:19.567Z"
   },
   {
    "duration": 3,
    "start_time": "2023-06-03T14:25:22.127Z"
   },
   {
    "duration": 303,
    "start_time": "2023-06-03T14:26:17.339Z"
   },
   {
    "duration": 12342,
    "start_time": "2023-06-03T14:26:27.277Z"
   },
   {
    "duration": 99,
    "start_time": "2023-06-03T14:26:42.997Z"
   },
   {
    "duration": 98,
    "start_time": "2023-06-03T14:26:51.275Z"
   },
   {
    "duration": 4,
    "start_time": "2023-06-03T14:26:58.677Z"
   },
   {
    "duration": 48734,
    "start_time": "2023-06-03T14:27:06.564Z"
   },
   {
    "duration": 10,
    "start_time": "2023-06-03T14:30:13.208Z"
   },
   {
    "duration": 4,
    "start_time": "2023-06-03T14:30:37.731Z"
   },
   {
    "duration": 14,
    "start_time": "2023-06-03T14:30:43.060Z"
   },
   {
    "duration": 3,
    "start_time": "2023-06-03T14:30:50.069Z"
   },
   {
    "duration": 2294,
    "start_time": "2023-06-03T14:31:13.748Z"
   },
   {
    "duration": 2212,
    "start_time": "2023-06-03T14:31:16.044Z"
   },
   {
    "duration": 1728,
    "start_time": "2023-06-03T14:31:18.263Z"
   },
   {
    "duration": 32,
    "start_time": "2023-06-03T14:31:19.993Z"
   },
   {
    "duration": 14,
    "start_time": "2023-06-03T14:31:20.027Z"
   },
   {
    "duration": 18,
    "start_time": "2023-06-03T14:31:20.043Z"
   },
   {
    "duration": 25,
    "start_time": "2023-06-03T14:31:20.065Z"
   },
   {
    "duration": 8,
    "start_time": "2023-06-03T14:31:20.091Z"
   },
   {
    "duration": 14,
    "start_time": "2023-06-03T14:31:20.101Z"
   },
   {
    "duration": 12361,
    "start_time": "2023-06-03T14:31:20.117Z"
   },
   {
    "duration": 6,
    "start_time": "2023-06-03T14:31:32.480Z"
   },
   {
    "duration": 22,
    "start_time": "2023-06-03T14:31:32.487Z"
   },
   {
    "duration": 2495,
    "start_time": "2023-06-03T14:31:32.511Z"
   },
   {
    "duration": 8,
    "start_time": "2023-06-03T14:31:35.008Z"
   },
   {
    "duration": 7,
    "start_time": "2023-06-03T14:31:35.018Z"
   },
   {
    "duration": 18,
    "start_time": "2023-06-03T14:31:35.026Z"
   },
   {
    "duration": 49693,
    "start_time": "2023-06-03T14:31:35.046Z"
   },
   {
    "duration": 428,
    "start_time": "2023-06-03T14:32:24.741Z"
   },
   {
    "duration": 6,
    "start_time": "2023-06-03T14:32:25.171Z"
   },
   {
    "duration": 2760,
    "start_time": "2023-06-03T14:32:25.179Z"
   },
   {
    "duration": 18,
    "start_time": "2023-06-03T14:32:27.941Z"
   },
   {
    "duration": 8,
    "start_time": "2023-06-03T14:32:27.962Z"
   },
   {
    "duration": 134,
    "start_time": "2023-06-03T14:32:27.972Z"
   },
   {
    "duration": 0,
    "start_time": "2023-06-03T14:32:28.108Z"
   },
   {
    "duration": 5,
    "start_time": "2023-06-03T14:36:06.750Z"
   },
   {
    "duration": 17379,
    "start_time": "2023-06-03T14:36:49.447Z"
   },
   {
    "duration": 22,
    "start_time": "2023-06-03T14:37:10.855Z"
   },
   {
    "duration": 4,
    "start_time": "2023-06-03T14:37:11.927Z"
   },
   {
    "duration": 3426,
    "start_time": "2023-06-03T14:37:26.176Z"
   },
   {
    "duration": 19,
    "start_time": "2023-06-03T14:37:43.967Z"
   },
   {
    "duration": 4,
    "start_time": "2023-06-03T14:37:56.378Z"
   },
   {
    "duration": 17,
    "start_time": "2023-06-03T14:38:49.992Z"
   },
   {
    "duration": 6,
    "start_time": "2023-06-03T14:39:07.379Z"
   },
   {
    "duration": 2326,
    "start_time": "2023-06-03T14:40:53.080Z"
   },
   {
    "duration": 2232,
    "start_time": "2023-06-03T14:40:55.408Z"
   },
   {
    "duration": 1827,
    "start_time": "2023-06-03T14:40:57.642Z"
   },
   {
    "duration": 31,
    "start_time": "2023-06-03T14:40:59.470Z"
   },
   {
    "duration": 14,
    "start_time": "2023-06-03T14:40:59.503Z"
   },
   {
    "duration": 12,
    "start_time": "2023-06-03T14:40:59.519Z"
   },
   {
    "duration": 44,
    "start_time": "2023-06-03T14:40:59.533Z"
   },
   {
    "duration": 8,
    "start_time": "2023-06-03T14:40:59.582Z"
   },
   {
    "duration": 5,
    "start_time": "2023-06-03T14:40:59.591Z"
   },
   {
    "duration": 12910,
    "start_time": "2023-06-03T14:40:59.598Z"
   },
   {
    "duration": 8,
    "start_time": "2023-06-03T14:41:12.515Z"
   },
   {
    "duration": 14,
    "start_time": "2023-06-03T14:41:12.526Z"
   },
   {
    "duration": 3790,
    "start_time": "2023-06-03T14:41:12.542Z"
   },
   {
    "duration": 20,
    "start_time": "2023-06-03T14:41:16.335Z"
   },
   {
    "duration": 5,
    "start_time": "2023-06-03T14:41:16.357Z"
   },
   {
    "duration": 8,
    "start_time": "2023-06-03T14:41:16.372Z"
   },
   {
    "duration": 54435,
    "start_time": "2023-06-03T14:41:16.382Z"
   },
   {
    "duration": 144,
    "start_time": "2023-06-03T14:42:10.819Z"
   },
   {
    "duration": 7,
    "start_time": "2023-06-03T14:42:10.971Z"
   },
   {
    "duration": 2986,
    "start_time": "2023-06-03T14:42:10.979Z"
   },
   {
    "duration": 7,
    "start_time": "2023-06-03T14:42:13.966Z"
   },
   {
    "duration": 13,
    "start_time": "2023-06-03T14:42:13.976Z"
   },
   {
    "duration": 4,
    "start_time": "2023-06-03T14:42:13.990Z"
   },
   {
    "duration": 197,
    "start_time": "2023-06-03T14:42:13.997Z"
   },
   {
    "duration": 13,
    "start_time": "2023-06-03T14:42:39.805Z"
   },
   {
    "duration": 2667,
    "start_time": "2023-06-03T14:45:23.081Z"
   },
   {
    "duration": 2541,
    "start_time": "2023-06-03T14:45:25.750Z"
   },
   {
    "duration": 2265,
    "start_time": "2023-06-03T14:45:28.293Z"
   },
   {
    "duration": 48,
    "start_time": "2023-06-03T14:45:30.563Z"
   },
   {
    "duration": 14,
    "start_time": "2023-06-03T14:45:30.613Z"
   },
   {
    "duration": 37,
    "start_time": "2023-06-03T14:45:30.628Z"
   },
   {
    "duration": 45,
    "start_time": "2023-06-03T14:45:30.668Z"
   },
   {
    "duration": 36,
    "start_time": "2023-06-03T14:45:30.715Z"
   },
   {
    "duration": 70,
    "start_time": "2023-06-03T14:45:30.753Z"
   },
   {
    "duration": 13951,
    "start_time": "2023-06-03T14:45:30.825Z"
   },
   {
    "duration": 10,
    "start_time": "2023-06-03T14:45:44.779Z"
   },
   {
    "duration": 9,
    "start_time": "2023-06-03T14:45:44.790Z"
   },
   {
    "duration": 3841,
    "start_time": "2023-06-03T14:45:44.802Z"
   },
   {
    "duration": 15,
    "start_time": "2023-06-03T14:45:48.645Z"
   },
   {
    "duration": 5,
    "start_time": "2023-06-03T14:45:48.662Z"
   },
   {
    "duration": 5,
    "start_time": "2023-06-03T14:45:48.668Z"
   },
   {
    "duration": 59646,
    "start_time": "2023-06-03T14:45:48.682Z"
   },
   {
    "duration": 304,
    "start_time": "2023-06-03T14:46:48.331Z"
   },
   {
    "duration": 4,
    "start_time": "2023-06-03T14:46:48.637Z"
   },
   {
    "duration": 4175,
    "start_time": "2023-06-03T14:46:48.643Z"
   },
   {
    "duration": 12,
    "start_time": "2023-06-03T14:46:52.821Z"
   },
   {
    "duration": 206,
    "start_time": "2023-06-03T14:46:52.837Z"
   },
   {
    "duration": 26,
    "start_time": "2023-06-03T14:46:53.045Z"
   },
   {
    "duration": 58,
    "start_time": "2023-06-03T14:46:53.073Z"
   }
  ],
  "kernelspec": {
   "display_name": "Python 3 (ipykernel)",
   "language": "python",
   "name": "python3"
  },
  "language_info": {
   "codemirror_mode": {
    "name": "ipython",
    "version": 3
   },
   "file_extension": ".py",
   "mimetype": "text/x-python",
   "name": "python",
   "nbconvert_exporter": "python",
   "pygments_lexer": "ipython3",
   "version": "3.11.4"
  },
  "toc": {
   "base_numbering": 1,
   "nav_menu": {},
   "number_sections": true,
   "sideBar": true,
   "skip_h1_title": true,
   "title_cell": "Table of Contents",
   "title_sidebar": "Contents",
   "toc_cell": false,
   "toc_position": {
    "height": "calc(100% - 180px)",
    "left": "10px",
    "top": "150px",
    "width": "499px"
   },
   "toc_section_display": true,
   "toc_window_display": false
  }
 },
 "nbformat": 4,
 "nbformat_minor": 4
}
