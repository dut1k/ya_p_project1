{
 "cells": [
  {
   "cell_type": "markdown",
   "id": "96cb070d",
   "metadata": {},
   "source": [
    "# Статистический анализ данных\n",
    "\n",
    "Для сервиса аренды самокатов GoFast необходимо проанализировать данные и проверите некоторые гипотезы:\n",
    " - Важно понять, тратят ли пользователи с подпиской больше времени на поездки? Если да, то действительно ли пользователи с подпиской «выгоднее» для компании?\n",
    " - Расстояние одной поездки в 3130 метров — оптимальное с точки зрения износа самоката. Можно ли сказать, что расстояние, которое проезжают пользователи с подпиской за одну поездку, не превышает 3130 метров?\n",
    " - Будет ли помесячная выручка от пользователей с подпиской по месяцам выше, чем выручка от пользователей без подписки?\n",
    "\n",
    "Нам передали данные о некоторых пользователях из нескольких городов, а также об их поездках. Чтобы совершать поездки по городу, пользователи сервиса GoFast пользуются мобильным приложением. Сервисом можно пользоваться:\n",
    "**без подписки**\n",
    "абонентская плата отсутствует;\n",
    "стоимость одной минуты поездки — 8 рублей;\n",
    "стоимость старта (начала поездки) — 50 рублей;\n",
    "\n",
    "**с подпиской Ultra**\n",
    "абонентская плата — 199 рублей в месяц;\n",
    "стоимость одной минуты поездки — 6 рублей;\n",
    "стоимость старта — бесплатно\n",
    "\n",
    "ПЛАН РАБОТЫ:\n",
    " - Загрузка данных\n",
    " - Предобработка данных\n",
    " - Исследовательский анализ данных\n",
    " - Объединение данных\n",
    " - Подсчёт выручки\n",
    " - Проверка гипотез"
   ]
  },
  {
   "cell_type": "code",
   "execution_count": 1,
   "id": "72576667",
   "metadata": {},
   "outputs": [],
   "source": [
    "from scipy import stats as st\n",
    "import numpy as np\n",
    "import pandas as pd\n",
    "import matplotlib.pyplot as plt\n",
    "import seaborn as sns\n",
    "from scipy.stats import binom\n",
    "from math import factorial"
   ]
  },
  {
   "cell_type": "markdown",
   "id": "c42cbe00",
   "metadata": {},
   "source": [
    "### Шаг 1. Загрузка данных"
   ]
  },
  {
   "cell_type": "markdown",
   "id": "ef4efe03",
   "metadata": {},
   "source": [
    "#### Считайте CSV-файлы с данными с помощью библиотеки Pandas и сохраните их в датафреймы. Пути к файлам:"
   ]
  },
  {
   "cell_type": "code",
   "execution_count": 2,
   "id": "eff9f206",
   "metadata": {},
   "outputs": [],
   "source": [
    "try:\n",
    "    users_go = pd.read_csv('/datasets/users_go.csv')\n",
    "except:\n",
    "    users_go = pd.read_csv('https://code.s3.yandex.net/datasets/users_go.csv')"
   ]
  },
  {
   "cell_type": "code",
   "execution_count": 3,
   "id": "2b231248",
   "metadata": {},
   "outputs": [],
   "source": [
    "try:\n",
    "    rides_go = pd.read_csv('/datasets/rides_go.csv')\n",
    "except:\n",
    "    rides_go = pd.read_csv('https://code.s3.yandex.net/datasets/rides_go.csv')"
   ]
  },
  {
   "cell_type": "code",
   "execution_count": 4,
   "id": "4e77bd94",
   "metadata": {},
   "outputs": [],
   "source": [
    "try:\n",
    "    sub_go = pd.read_csv('/datasets/subscriptions_go.csv')\n",
    "except:\n",
    "    sub_go = pd.read_csv('https://code.s3.yandex.net/datasets/subscriptions_go.csv')"
   ]
  },
  {
   "cell_type": "markdown",
   "id": "5dbce14c",
   "metadata": {},
   "source": [
    "#### Выведите первые строки каждого набора данных. Изучите общую информацию о каждом датафрейме."
   ]
  },
  {
   "cell_type": "code",
   "execution_count": 5,
   "id": "c8ac4468",
   "metadata": {
    "scrolled": true
   },
   "outputs": [
    {
     "data": {
      "text/html": [
       "<div>\n",
       "<style scoped>\n",
       "    .dataframe tbody tr th:only-of-type {\n",
       "        vertical-align: middle;\n",
       "    }\n",
       "\n",
       "    .dataframe tbody tr th {\n",
       "        vertical-align: top;\n",
       "    }\n",
       "\n",
       "    .dataframe thead th {\n",
       "        text-align: right;\n",
       "    }\n",
       "</style>\n",
       "<table border=\"1\" class=\"dataframe\">\n",
       "  <thead>\n",
       "    <tr style=\"text-align: right;\">\n",
       "      <th></th>\n",
       "      <th>user_id</th>\n",
       "      <th>name</th>\n",
       "      <th>age</th>\n",
       "      <th>city</th>\n",
       "      <th>subscription_type</th>\n",
       "    </tr>\n",
       "  </thead>\n",
       "  <tbody>\n",
       "    <tr>\n",
       "      <th>0</th>\n",
       "      <td>1</td>\n",
       "      <td>Кира</td>\n",
       "      <td>22</td>\n",
       "      <td>Тюмень</td>\n",
       "      <td>ultra</td>\n",
       "    </tr>\n",
       "    <tr>\n",
       "      <th>1</th>\n",
       "      <td>2</td>\n",
       "      <td>Станислав</td>\n",
       "      <td>31</td>\n",
       "      <td>Омск</td>\n",
       "      <td>ultra</td>\n",
       "    </tr>\n",
       "    <tr>\n",
       "      <th>2</th>\n",
       "      <td>3</td>\n",
       "      <td>Алексей</td>\n",
       "      <td>20</td>\n",
       "      <td>Москва</td>\n",
       "      <td>ultra</td>\n",
       "    </tr>\n",
       "    <tr>\n",
       "      <th>3</th>\n",
       "      <td>4</td>\n",
       "      <td>Константин</td>\n",
       "      <td>26</td>\n",
       "      <td>Ростов-на-Дону</td>\n",
       "      <td>ultra</td>\n",
       "    </tr>\n",
       "    <tr>\n",
       "      <th>4</th>\n",
       "      <td>5</td>\n",
       "      <td>Адель</td>\n",
       "      <td>28</td>\n",
       "      <td>Омск</td>\n",
       "      <td>ultra</td>\n",
       "    </tr>\n",
       "  </tbody>\n",
       "</table>\n",
       "</div>"
      ],
      "text/plain": [
       "   user_id        name  age            city subscription_type\n",
       "0        1        Кира   22          Тюмень             ultra\n",
       "1        2   Станислав   31            Омск             ultra\n",
       "2        3     Алексей   20          Москва             ultra\n",
       "3        4  Константин   26  Ростов-на-Дону             ultra\n",
       "4        5       Адель   28            Омск             ultra"
      ]
     },
     "execution_count": 5,
     "metadata": {},
     "output_type": "execute_result"
    }
   ],
   "source": [
    "users_go.head()"
   ]
  },
  {
   "cell_type": "code",
   "execution_count": 6,
   "id": "20f2a480",
   "metadata": {},
   "outputs": [
    {
     "data": {
      "text/html": [
       "<div>\n",
       "<style scoped>\n",
       "    .dataframe tbody tr th:only-of-type {\n",
       "        vertical-align: middle;\n",
       "    }\n",
       "\n",
       "    .dataframe tbody tr th {\n",
       "        vertical-align: top;\n",
       "    }\n",
       "\n",
       "    .dataframe thead th {\n",
       "        text-align: right;\n",
       "    }\n",
       "</style>\n",
       "<table border=\"1\" class=\"dataframe\">\n",
       "  <thead>\n",
       "    <tr style=\"text-align: right;\">\n",
       "      <th></th>\n",
       "      <th>user_id</th>\n",
       "      <th>distance</th>\n",
       "      <th>duration</th>\n",
       "      <th>date</th>\n",
       "    </tr>\n",
       "  </thead>\n",
       "  <tbody>\n",
       "    <tr>\n",
       "      <th>0</th>\n",
       "      <td>1</td>\n",
       "      <td>4409.919140</td>\n",
       "      <td>25.599769</td>\n",
       "      <td>2021-01-01</td>\n",
       "    </tr>\n",
       "    <tr>\n",
       "      <th>1</th>\n",
       "      <td>1</td>\n",
       "      <td>2617.592153</td>\n",
       "      <td>15.816871</td>\n",
       "      <td>2021-01-18</td>\n",
       "    </tr>\n",
       "    <tr>\n",
       "      <th>2</th>\n",
       "      <td>1</td>\n",
       "      <td>754.159807</td>\n",
       "      <td>6.232113</td>\n",
       "      <td>2021-04-20</td>\n",
       "    </tr>\n",
       "    <tr>\n",
       "      <th>3</th>\n",
       "      <td>1</td>\n",
       "      <td>2694.783254</td>\n",
       "      <td>18.511000</td>\n",
       "      <td>2021-08-11</td>\n",
       "    </tr>\n",
       "    <tr>\n",
       "      <th>4</th>\n",
       "      <td>1</td>\n",
       "      <td>4028.687306</td>\n",
       "      <td>26.265803</td>\n",
       "      <td>2021-08-28</td>\n",
       "    </tr>\n",
       "  </tbody>\n",
       "</table>\n",
       "</div>"
      ],
      "text/plain": [
       "   user_id     distance   duration        date\n",
       "0        1  4409.919140  25.599769  2021-01-01\n",
       "1        1  2617.592153  15.816871  2021-01-18\n",
       "2        1   754.159807   6.232113  2021-04-20\n",
       "3        1  2694.783254  18.511000  2021-08-11\n",
       "4        1  4028.687306  26.265803  2021-08-28"
      ]
     },
     "execution_count": 6,
     "metadata": {},
     "output_type": "execute_result"
    }
   ],
   "source": [
    "rides_go.head()"
   ]
  },
  {
   "cell_type": "code",
   "execution_count": 7,
   "id": "5ef7d415",
   "metadata": {},
   "outputs": [
    {
     "data": {
      "text/html": [
       "<div>\n",
       "<style scoped>\n",
       "    .dataframe tbody tr th:only-of-type {\n",
       "        vertical-align: middle;\n",
       "    }\n",
       "\n",
       "    .dataframe tbody tr th {\n",
       "        vertical-align: top;\n",
       "    }\n",
       "\n",
       "    .dataframe thead th {\n",
       "        text-align: right;\n",
       "    }\n",
       "</style>\n",
       "<table border=\"1\" class=\"dataframe\">\n",
       "  <thead>\n",
       "    <tr style=\"text-align: right;\">\n",
       "      <th></th>\n",
       "      <th>subscription_type</th>\n",
       "      <th>minute_price</th>\n",
       "      <th>start_ride_price</th>\n",
       "      <th>subscription_fee</th>\n",
       "    </tr>\n",
       "  </thead>\n",
       "  <tbody>\n",
       "    <tr>\n",
       "      <th>0</th>\n",
       "      <td>free</td>\n",
       "      <td>8</td>\n",
       "      <td>50</td>\n",
       "      <td>0</td>\n",
       "    </tr>\n",
       "    <tr>\n",
       "      <th>1</th>\n",
       "      <td>ultra</td>\n",
       "      <td>6</td>\n",
       "      <td>0</td>\n",
       "      <td>199</td>\n",
       "    </tr>\n",
       "  </tbody>\n",
       "</table>\n",
       "</div>"
      ],
      "text/plain": [
       "  subscription_type  minute_price  start_ride_price  subscription_fee\n",
       "0              free             8                50                 0\n",
       "1             ultra             6                 0               199"
      ]
     },
     "execution_count": 7,
     "metadata": {},
     "output_type": "execute_result"
    }
   ],
   "source": [
    " sub_go.head()"
   ]
  },
  {
   "cell_type": "code",
   "execution_count": 8,
   "id": "3fc50eb4",
   "metadata": {},
   "outputs": [
    {
     "name": "stdout",
     "output_type": "stream",
     "text": [
      "<class 'pandas.core.frame.DataFrame'>\n",
      "RangeIndex: 1565 entries, 0 to 1564\n",
      "Data columns (total 5 columns):\n",
      " #   Column             Non-Null Count  Dtype \n",
      "---  ------             --------------  ----- \n",
      " 0   user_id            1565 non-null   int64 \n",
      " 1   name               1565 non-null   object\n",
      " 2   age                1565 non-null   int64 \n",
      " 3   city               1565 non-null   object\n",
      " 4   subscription_type  1565 non-null   object\n",
      "dtypes: int64(2), object(3)\n",
      "memory usage: 61.3+ KB\n"
     ]
    }
   ],
   "source": [
    "users_go.info()"
   ]
  },
  {
   "cell_type": "code",
   "execution_count": 9,
   "id": "22622678",
   "metadata": {
    "scrolled": true
   },
   "outputs": [
    {
     "name": "stdout",
     "output_type": "stream",
     "text": [
      "<class 'pandas.core.frame.DataFrame'>\n",
      "RangeIndex: 18068 entries, 0 to 18067\n",
      "Data columns (total 4 columns):\n",
      " #   Column    Non-Null Count  Dtype  \n",
      "---  ------    --------------  -----  \n",
      " 0   user_id   18068 non-null  int64  \n",
      " 1   distance  18068 non-null  float64\n",
      " 2   duration  18068 non-null  float64\n",
      " 3   date      18068 non-null  object \n",
      "dtypes: float64(2), int64(1), object(1)\n",
      "memory usage: 564.8+ KB\n"
     ]
    }
   ],
   "source": [
    "rides_go.info()"
   ]
  },
  {
   "cell_type": "code",
   "execution_count": 10,
   "id": "a7e29838",
   "metadata": {},
   "outputs": [
    {
     "name": "stdout",
     "output_type": "stream",
     "text": [
      "<class 'pandas.core.frame.DataFrame'>\n",
      "RangeIndex: 2 entries, 0 to 1\n",
      "Data columns (total 4 columns):\n",
      " #   Column             Non-Null Count  Dtype \n",
      "---  ------             --------------  ----- \n",
      " 0   subscription_type  2 non-null      object\n",
      " 1   minute_price       2 non-null      int64 \n",
      " 2   start_ride_price   2 non-null      int64 \n",
      " 3   subscription_fee   2 non-null      int64 \n",
      "dtypes: int64(3), object(1)\n",
      "memory usage: 192.0+ bytes\n"
     ]
    }
   ],
   "source": [
    "sub_go.info()"
   ]
  },
  {
   "cell_type": "code",
   "execution_count": 11,
   "id": "e459d47f",
   "metadata": {},
   "outputs": [
    {
     "data": {
      "text/html": [
       "<div>\n",
       "<style scoped>\n",
       "    .dataframe tbody tr th:only-of-type {\n",
       "        vertical-align: middle;\n",
       "    }\n",
       "\n",
       "    .dataframe tbody tr th {\n",
       "        vertical-align: top;\n",
       "    }\n",
       "\n",
       "    .dataframe thead th {\n",
       "        text-align: right;\n",
       "    }\n",
       "</style>\n",
       "<table border=\"1\" class=\"dataframe\">\n",
       "  <thead>\n",
       "    <tr style=\"text-align: right;\">\n",
       "      <th></th>\n",
       "      <th>count</th>\n",
       "      <th>mean</th>\n",
       "      <th>std</th>\n",
       "      <th>min</th>\n",
       "      <th>25%</th>\n",
       "      <th>50%</th>\n",
       "      <th>75%</th>\n",
       "      <th>max</th>\n",
       "    </tr>\n",
       "  </thead>\n",
       "  <tbody>\n",
       "    <tr>\n",
       "      <th>user_id</th>\n",
       "      <td>1565.0</td>\n",
       "      <td>762.633866</td>\n",
       "      <td>443.260155</td>\n",
       "      <td>1.0</td>\n",
       "      <td>378.0</td>\n",
       "      <td>762.0</td>\n",
       "      <td>1146.0</td>\n",
       "      <td>1534.0</td>\n",
       "    </tr>\n",
       "    <tr>\n",
       "      <th>age</th>\n",
       "      <td>1565.0</td>\n",
       "      <td>24.922045</td>\n",
       "      <td>4.553496</td>\n",
       "      <td>12.0</td>\n",
       "      <td>22.0</td>\n",
       "      <td>25.0</td>\n",
       "      <td>28.0</td>\n",
       "      <td>43.0</td>\n",
       "    </tr>\n",
       "  </tbody>\n",
       "</table>\n",
       "</div>"
      ],
      "text/plain": [
       "          count        mean         std   min    25%    50%     75%     max\n",
       "user_id  1565.0  762.633866  443.260155   1.0  378.0  762.0  1146.0  1534.0\n",
       "age      1565.0   24.922045    4.553496  12.0   22.0   25.0    28.0    43.0"
      ]
     },
     "execution_count": 11,
     "metadata": {},
     "output_type": "execute_result"
    }
   ],
   "source": [
    "users_go.describe().T"
   ]
  },
  {
   "cell_type": "code",
   "execution_count": 12,
   "id": "34b30eef",
   "metadata": {},
   "outputs": [
    {
     "data": {
      "text/html": [
       "<div>\n",
       "<style scoped>\n",
       "    .dataframe tbody tr th:only-of-type {\n",
       "        vertical-align: middle;\n",
       "    }\n",
       "\n",
       "    .dataframe tbody tr th {\n",
       "        vertical-align: top;\n",
       "    }\n",
       "\n",
       "    .dataframe thead th {\n",
       "        text-align: right;\n",
       "    }\n",
       "</style>\n",
       "<table border=\"1\" class=\"dataframe\">\n",
       "  <thead>\n",
       "    <tr style=\"text-align: right;\">\n",
       "      <th></th>\n",
       "      <th>count</th>\n",
       "      <th>mean</th>\n",
       "      <th>std</th>\n",
       "      <th>min</th>\n",
       "      <th>25%</th>\n",
       "      <th>50%</th>\n",
       "      <th>75%</th>\n",
       "      <th>max</th>\n",
       "    </tr>\n",
       "  </thead>\n",
       "  <tbody>\n",
       "    <tr>\n",
       "      <th>user_id</th>\n",
       "      <td>18068.0</td>\n",
       "      <td>842.869936</td>\n",
       "      <td>434.734317</td>\n",
       "      <td>1.000000</td>\n",
       "      <td>487.000000</td>\n",
       "      <td>889.000000</td>\n",
       "      <td>1213.250000</td>\n",
       "      <td>1534.000000</td>\n",
       "    </tr>\n",
       "    <tr>\n",
       "      <th>distance</th>\n",
       "      <td>18068.0</td>\n",
       "      <td>3070.659976</td>\n",
       "      <td>1116.831209</td>\n",
       "      <td>0.855683</td>\n",
       "      <td>2543.226360</td>\n",
       "      <td>3133.609994</td>\n",
       "      <td>3776.222735</td>\n",
       "      <td>7211.007745</td>\n",
       "    </tr>\n",
       "    <tr>\n",
       "      <th>duration</th>\n",
       "      <td>18068.0</td>\n",
       "      <td>17.805011</td>\n",
       "      <td>6.091051</td>\n",
       "      <td>0.500000</td>\n",
       "      <td>13.597563</td>\n",
       "      <td>17.678395</td>\n",
       "      <td>21.724800</td>\n",
       "      <td>40.823963</td>\n",
       "    </tr>\n",
       "  </tbody>\n",
       "</table>\n",
       "</div>"
      ],
      "text/plain": [
       "            count         mean          std       min          25%  \\\n",
       "user_id   18068.0   842.869936   434.734317  1.000000   487.000000   \n",
       "distance  18068.0  3070.659976  1116.831209  0.855683  2543.226360   \n",
       "duration  18068.0    17.805011     6.091051  0.500000    13.597563   \n",
       "\n",
       "                  50%          75%          max  \n",
       "user_id    889.000000  1213.250000  1534.000000  \n",
       "distance  3133.609994  3776.222735  7211.007745  \n",
       "duration    17.678395    21.724800    40.823963  "
      ]
     },
     "execution_count": 12,
     "metadata": {},
     "output_type": "execute_result"
    }
   ],
   "source": [
    "rides_go.describe().T"
   ]
  },
  {
   "cell_type": "code",
   "execution_count": 13,
   "id": "55f48286",
   "metadata": {},
   "outputs": [
    {
     "data": {
      "text/html": [
       "<div>\n",
       "<style scoped>\n",
       "    .dataframe tbody tr th:only-of-type {\n",
       "        vertical-align: middle;\n",
       "    }\n",
       "\n",
       "    .dataframe tbody tr th {\n",
       "        vertical-align: top;\n",
       "    }\n",
       "\n",
       "    .dataframe thead th {\n",
       "        text-align: right;\n",
       "    }\n",
       "</style>\n",
       "<table border=\"1\" class=\"dataframe\">\n",
       "  <thead>\n",
       "    <tr style=\"text-align: right;\">\n",
       "      <th></th>\n",
       "      <th>count</th>\n",
       "      <th>mean</th>\n",
       "      <th>std</th>\n",
       "      <th>min</th>\n",
       "      <th>25%</th>\n",
       "      <th>50%</th>\n",
       "      <th>75%</th>\n",
       "      <th>max</th>\n",
       "    </tr>\n",
       "  </thead>\n",
       "  <tbody>\n",
       "    <tr>\n",
       "      <th>minute_price</th>\n",
       "      <td>2.0</td>\n",
       "      <td>7.0</td>\n",
       "      <td>1.414214</td>\n",
       "      <td>6.0</td>\n",
       "      <td>6.50</td>\n",
       "      <td>7.0</td>\n",
       "      <td>7.50</td>\n",
       "      <td>8.0</td>\n",
       "    </tr>\n",
       "    <tr>\n",
       "      <th>start_ride_price</th>\n",
       "      <td>2.0</td>\n",
       "      <td>25.0</td>\n",
       "      <td>35.355339</td>\n",
       "      <td>0.0</td>\n",
       "      <td>12.50</td>\n",
       "      <td>25.0</td>\n",
       "      <td>37.50</td>\n",
       "      <td>50.0</td>\n",
       "    </tr>\n",
       "    <tr>\n",
       "      <th>subscription_fee</th>\n",
       "      <td>2.0</td>\n",
       "      <td>99.5</td>\n",
       "      <td>140.714249</td>\n",
       "      <td>0.0</td>\n",
       "      <td>49.75</td>\n",
       "      <td>99.5</td>\n",
       "      <td>149.25</td>\n",
       "      <td>199.0</td>\n",
       "    </tr>\n",
       "  </tbody>\n",
       "</table>\n",
       "</div>"
      ],
      "text/plain": [
       "                  count  mean         std  min    25%   50%     75%    max\n",
       "minute_price        2.0   7.0    1.414214  6.0   6.50   7.0    7.50    8.0\n",
       "start_ride_price    2.0  25.0   35.355339  0.0  12.50  25.0   37.50   50.0\n",
       "subscription_fee    2.0  99.5  140.714249  0.0  49.75  99.5  149.25  199.0"
      ]
     },
     "execution_count": 13,
     "metadata": {},
     "output_type": "execute_result"
    }
   ],
   "source": [
    "sub_go.describe().T"
   ]
  },
  {
   "cell_type": "markdown",
   "id": "9c5ece65",
   "metadata": {},
   "source": [
    "Данне представлены без пропусков, почти все типы данных определены верно."
   ]
  },
  {
   "cell_type": "markdown",
   "id": "e95ebca7",
   "metadata": {},
   "source": [
    "### Шаг 2. Предобработка данных"
   ]
  },
  {
   "cell_type": "markdown",
   "id": "0d15d6f9",
   "metadata": {
    "tags": []
   },
   "source": [
    "#### Приведите столбец ``date`` к типу даты Pandas."
   ]
  },
  {
   "cell_type": "code",
   "execution_count": 14,
   "id": "b7d746c8",
   "metadata": {},
   "outputs": [],
   "source": [
    "rides_go['date'] = pd.to_datetime(rides_go['date'],format='%Y-%m-%d')"
   ]
  },
  {
   "cell_type": "markdown",
   "id": "5a4f8fb8",
   "metadata": {},
   "source": [
    "#### Создайте новый столбец с номером месяца на основе столбца ``date``."
   ]
  },
  {
   "cell_type": "code",
   "execution_count": 15,
   "id": "af6d202c",
   "metadata": {},
   "outputs": [],
   "source": [
    "rides_go['month'] = pd.DatetimeIndex(rides_go['date']).month"
   ]
  },
  {
   "cell_type": "markdown",
   "id": "69133d13",
   "metadata": {},
   "source": [
    "Проверим, данные, за какие года представлены в датасете:"
   ]
  },
  {
   "cell_type": "code",
   "execution_count": 16,
   "id": "9bf3f784",
   "metadata": {},
   "outputs": [
    {
     "name": "stdout",
     "output_type": "stream",
     "text": [
      "Список годов: [2021]\n"
     ]
    }
   ],
   "source": [
    "print(f\"Список годов: {pd.DatetimeIndex(rides_go['date']).year.unique().to_list()}\")"
   ]
  },
  {
   "cell_type": "markdown",
   "id": "5633dedb",
   "metadata": {},
   "source": [
    "#### Проверьте наличие пропущенных значений и дубликатов в датафреймах. Обработайте их, если такие значения присутствуют."
   ]
  },
  {
   "cell_type": "markdown",
   "id": "71ed31de",
   "metadata": {},
   "source": [
    "##### Пропуски"
   ]
  },
  {
   "cell_type": "code",
   "execution_count": 17,
   "id": "53a2e423",
   "metadata": {},
   "outputs": [
    {
     "data": {
      "text/plain": [
       "user_id              0\n",
       "name                 0\n",
       "age                  0\n",
       "city                 0\n",
       "subscription_type    0\n",
       "dtype: int64"
      ]
     },
     "execution_count": 17,
     "metadata": {},
     "output_type": "execute_result"
    }
   ],
   "source": [
    "users_go.isnull().sum()"
   ]
  },
  {
   "cell_type": "code",
   "execution_count": 18,
   "id": "2b45754a",
   "metadata": {},
   "outputs": [
    {
     "data": {
      "text/plain": [
       "user_id     0\n",
       "distance    0\n",
       "duration    0\n",
       "date        0\n",
       "month       0\n",
       "dtype: int64"
      ]
     },
     "execution_count": 18,
     "metadata": {},
     "output_type": "execute_result"
    }
   ],
   "source": [
    "rides_go.isnull().sum()"
   ]
  },
  {
   "cell_type": "code",
   "execution_count": 19,
   "id": "24b9371b",
   "metadata": {
    "scrolled": true
   },
   "outputs": [
    {
     "data": {
      "text/plain": [
       "subscription_type    0\n",
       "minute_price         0\n",
       "start_ride_price     0\n",
       "subscription_fee     0\n",
       "dtype: int64"
      ]
     },
     "execution_count": 19,
     "metadata": {},
     "output_type": "execute_result"
    }
   ],
   "source": [
    "sub_go.isnull().sum()"
   ]
  },
  {
   "cell_type": "markdown",
   "id": "0f8b31db",
   "metadata": {},
   "source": [
    "**Пропусков в данных нет**"
   ]
  },
  {
   "cell_type": "markdown",
   "id": "336db52d",
   "metadata": {},
   "source": [
    "##### Дубликаты"
   ]
  },
  {
   "cell_type": "markdown",
   "id": "3101b8ab",
   "metadata": {},
   "source": [
    "Смотрим, в каких таблицах есть дубликаты"
   ]
  },
  {
   "cell_type": "code",
   "execution_count": 20,
   "id": "c6e3f912",
   "metadata": {
    "scrolled": true
   },
   "outputs": [
    {
     "data": {
      "text/plain": [
       "31"
      ]
     },
     "execution_count": 20,
     "metadata": {},
     "output_type": "execute_result"
    }
   ],
   "source": [
    "users_go.duplicated().sum()"
   ]
  },
  {
   "cell_type": "code",
   "execution_count": 21,
   "id": "fda4ed9a",
   "metadata": {},
   "outputs": [
    {
     "data": {
      "text/plain": [
       "0"
      ]
     },
     "execution_count": 21,
     "metadata": {},
     "output_type": "execute_result"
    }
   ],
   "source": [
    "rides_go.duplicated().sum()"
   ]
  },
  {
   "cell_type": "code",
   "execution_count": 22,
   "id": "fe84792c",
   "metadata": {},
   "outputs": [
    {
     "data": {
      "text/plain": [
       "0"
      ]
     },
     "execution_count": 22,
     "metadata": {},
     "output_type": "execute_result"
    }
   ],
   "source": [
    "sub_go.duplicated().sum()"
   ]
  },
  {
   "cell_type": "markdown",
   "id": "877694dc",
   "metadata": {},
   "source": [
    "Посмотрим, какие имена и города встречаются. Может так будет понятно, где есть дубликаты"
   ]
  },
  {
   "cell_type": "code",
   "execution_count": 23,
   "id": "56773eb4",
   "metadata": {},
   "outputs": [
    {
     "data": {
      "text/plain": [
       "array(['Агата', 'Аделина', 'Адель', 'Айдар', 'Александр', 'Александра',\n",
       "       'Алексей', 'Алина', 'Алиса', 'Алия', 'Алла', 'Альберт', 'Альбина',\n",
       "       'Алёна', 'Амалия', 'Амина', 'Амир', 'Анастасия', 'Анатолий',\n",
       "       'Ангелина', 'Андрей', 'Анжелика', 'Анна', 'Антон', 'Антонина',\n",
       "       'Ариана', 'Арина', 'Арсен', 'Арсений', 'Артемий', 'Артур', 'Артём',\n",
       "       'Богдан', 'Борис', 'Вадим', 'Валентина', 'Валерий', 'Валерия',\n",
       "       'Варвара', 'Василий', 'Василина', 'Василиса', 'Вера', 'Вероника',\n",
       "       'Виктор', 'Виктория', 'Виолетта', 'Виталий', 'Виталина', 'Влад',\n",
       "       'Влада', 'Владимир', 'Владислав', 'Владислава', 'Всеволод',\n",
       "       'Вячеслав', 'Галина', 'Георгий', 'Герман', 'Глеб', 'Гордей',\n",
       "       'Григорий', 'Давид', 'Дамир', 'Даниил', 'Данил', 'Данила',\n",
       "       'Даниэль', 'Дарина', 'Дарья', 'Демид', 'Денис', 'Диана', 'Дмитрий',\n",
       "       'Ева', 'Евгений', 'Евгения', 'Егор', 'Екатерина', 'Елена',\n",
       "       'Елизавета', 'Елисей', 'Есения', 'Жанна', 'Зарина', 'Захар',\n",
       "       'Злата', 'Иван', 'Игнат', 'Игорь', 'Ильдар', 'Илья', 'Инна',\n",
       "       'Ирина', 'Камилла', 'Карина', 'Каролина', 'Кира', 'Кирилл',\n",
       "       'Константин', 'Кристина', 'Ксения', 'Лариса', 'Лев', 'Леонид',\n",
       "       'Лиана', 'Лидия', 'Лилия', 'Любовь', 'Людмила', 'Мадина', 'Майя',\n",
       "       'Макар', 'Максим', 'Марат', 'Маргарита', 'Марина', 'Мария', 'Марк',\n",
       "       'Марсель', 'Матвей', 'Мелания', 'Милана', 'Милена', 'Мирон',\n",
       "       'Мирослав', 'Мирослава', 'Михаил', 'Назар', 'Наталия', 'Наталья',\n",
       "       'Наташа', 'Нелли', 'Ника', 'Никита', 'Николай', 'Нина', 'Одиссей',\n",
       "       'Оксана', 'Олег', 'Олеся', 'Ольга', 'Павел', 'Петр', 'Платон',\n",
       "       'Полина', 'Радмир', 'Рамиль', 'Регина', 'Роберт', 'Родион',\n",
       "       'Роман', 'Ростислав', 'Руслан', 'Рустам', 'Савелий', 'Самир',\n",
       "       'Самира', 'Светлана', 'Святогор', 'Святослав', 'Семен', 'Сергей',\n",
       "       'Снежана', 'София', 'Софья', 'Станислав', 'Степан', 'Стефания',\n",
       "       'Таисия', 'Тамара', 'Тамерлан', 'Татьяна', 'Тимофей', 'Тимур',\n",
       "       'Тихон', 'Ульяна', 'Федор', 'Эвелина', 'Эдуард', 'Элина',\n",
       "       'Эльвира', 'Эльмира', 'Эмилия', 'Эмиль', 'Юлиана', 'Юлия', 'Юрий',\n",
       "       'Ян', 'Яна', 'Яромир', 'Ярослав', 'Ярослава', 'Ясмина'],\n",
       "      dtype=object)"
      ]
     },
     "execution_count": 23,
     "metadata": {},
     "output_type": "execute_result"
    }
   ],
   "source": [
    "users_go['name'].sort_values().unique()"
   ]
  },
  {
   "cell_type": "code",
   "execution_count": 24,
   "id": "902fc720",
   "metadata": {},
   "outputs": [
    {
     "data": {
      "text/plain": [
       "array(['Тюмень', 'Омск', 'Москва', 'Ростов-на-Дону', 'Краснодар',\n",
       "       'Пятигорск', 'Екатеринбург', 'Сочи'], dtype=object)"
      ]
     },
     "execution_count": 24,
     "metadata": {},
     "output_type": "execute_result"
    }
   ],
   "source": [
    "users_go['city'].unique()"
   ]
  },
  {
   "cell_type": "markdown",
   "id": "080d3e04",
   "metadata": {},
   "source": [
    "Удаляем дубликаты из таблице с пользователями"
   ]
  },
  {
   "cell_type": "code",
   "execution_count": 25,
   "id": "ee246e48",
   "metadata": {},
   "outputs": [],
   "source": [
    "users_go = users_go.drop_duplicates()"
   ]
  },
  {
   "cell_type": "markdown",
   "id": "02ad6fa4",
   "metadata": {},
   "source": [
    "Мы преобразовали тип данных даты из \"object\" к дате\n",
    "В таблице с поездками создали новый параметр \"Месяц\", куда поместили номер месяца поездки\n",
    "Проверили таблицы на наличие полных дубликатов. Обнаружили в таблице пользователей 31 похожую запись, убрали лишнее"
   ]
  },
  {
   "cell_type": "markdown",
   "id": "212593c7",
   "metadata": {},
   "source": [
    "### Шаг 3. Исследовательский анализ данных"
   ]
  },
  {
   "cell_type": "markdown",
   "id": "ee984f4f",
   "metadata": {},
   "source": [
    "***Опишите и визуализируйте общую информацию о пользователях и поездках:***"
   ]
  },
  {
   "cell_type": "markdown",
   "id": "ed8cb171",
   "metadata": {},
   "source": [
    "#### частота встречаемости городов:"
   ]
  },
  {
   "cell_type": "code",
   "execution_count": 26,
   "id": "a68b6fc1",
   "metadata": {},
   "outputs": [],
   "source": [
    "p1 = users_go.pivot_table(index='city', values='user_id', aggfunc='count')"
   ]
  },
  {
   "cell_type": "code",
   "execution_count": 27,
   "id": "f7b54fb0",
   "metadata": {},
   "outputs": [],
   "source": [
    "p1['user_id'] = p1['user_id']/len(users_go)"
   ]
  },
  {
   "cell_type": "code",
   "execution_count": 28,
   "id": "410d04a0",
   "metadata": {},
   "outputs": [],
   "source": [
    "p1 = p1.sort_values(by='user_id')\n",
    "p1.rename(columns={'user_id':'ratio'}, inplace=True)"
   ]
  },
  {
   "cell_type": "code",
   "execution_count": 29,
   "id": "2810dcb8",
   "metadata": {},
   "outputs": [
    {
     "data": {
      "text/html": [
       "<div>\n",
       "<style scoped>\n",
       "    .dataframe tbody tr th:only-of-type {\n",
       "        vertical-align: middle;\n",
       "    }\n",
       "\n",
       "    .dataframe tbody tr th {\n",
       "        vertical-align: top;\n",
       "    }\n",
       "\n",
       "    .dataframe thead th {\n",
       "        text-align: right;\n",
       "    }\n",
       "</style>\n",
       "<table border=\"1\" class=\"dataframe\">\n",
       "  <thead>\n",
       "    <tr style=\"text-align: right;\">\n",
       "      <th></th>\n",
       "      <th>ratio</th>\n",
       "    </tr>\n",
       "    <tr>\n",
       "      <th>city</th>\n",
       "      <th></th>\n",
       "    </tr>\n",
       "  </thead>\n",
       "  <tbody>\n",
       "    <tr>\n",
       "      <th>Москва</th>\n",
       "      <td>0.109518</td>\n",
       "    </tr>\n",
       "    <tr>\n",
       "      <th>Тюмень</th>\n",
       "      <td>0.117340</td>\n",
       "    </tr>\n",
       "    <tr>\n",
       "      <th>Омск</th>\n",
       "      <td>0.119296</td>\n",
       "    </tr>\n",
       "    <tr>\n",
       "      <th>Сочи</th>\n",
       "      <td>0.123207</td>\n",
       "    </tr>\n",
       "    <tr>\n",
       "      <th>Краснодар</th>\n",
       "      <td>0.125815</td>\n",
       "    </tr>\n",
       "    <tr>\n",
       "      <th>Ростов-на-Дону</th>\n",
       "      <td>0.129074</td>\n",
       "    </tr>\n",
       "    <tr>\n",
       "      <th>Екатеринбург</th>\n",
       "      <td>0.132986</td>\n",
       "    </tr>\n",
       "    <tr>\n",
       "      <th>Пятигорск</th>\n",
       "      <td>0.142764</td>\n",
       "    </tr>\n",
       "  </tbody>\n",
       "</table>\n",
       "</div>"
      ],
      "text/plain": [
       "                   ratio\n",
       "city                    \n",
       "Москва          0.109518\n",
       "Тюмень          0.117340\n",
       "Омск            0.119296\n",
       "Сочи            0.123207\n",
       "Краснодар       0.125815\n",
       "Ростов-на-Дону  0.129074\n",
       "Екатеринбург    0.132986\n",
       "Пятигорск       0.142764"
      ]
     },
     "execution_count": 29,
     "metadata": {},
     "output_type": "execute_result"
    }
   ],
   "source": [
    "p1"
   ]
  },
  {
   "cell_type": "code",
   "execution_count": 30,
   "id": "ae44ef39-dba6-46e4-bb78-75ef7dd82877",
   "metadata": {},
   "outputs": [],
   "source": [
    "sns.set(style='darkgrid')"
   ]
  },
  {
   "cell_type": "code",
   "execution_count": 31,
   "id": "5f4852ca",
   "metadata": {},
   "outputs": [
    {
     "data": {
      "image/png": "[encoded data removed]",
      "text/plain": [
       "<Figure size 1500x600 with 1 Axes>"
      ]
     },
     "metadata": {},
     "output_type": "display_data"
    }
   ],
   "source": [
    "ax = p1.plot.barh(figsize=(15,6), legend=False)\n",
    "ax.set_xlabel(\"частота встречаемости городов\")\n",
    "ax.set_ylabel(\"города\")\n",
    "plt.suptitle('Частота встречаемости городов', fontsize = 22, color = 'SteelBlue');"
   ]
  },
  {
   "cell_type": "markdown",
   "id": "bc905305",
   "metadata": {},
   "source": [
    "Видим, что Пятигорск на первом месте, Москва - последняя, что удивляет"
   ]
  },
  {
   "cell_type": "markdown",
   "id": "bb4473b8",
   "metadata": {},
   "source": [
    "#### соотношение пользователей с подпиской и без подписки:"
   ]
  },
  {
   "cell_type": "code",
   "execution_count": 32,
   "id": "8c3c2c68",
   "metadata": {
    "scrolled": true
   },
   "outputs": [],
   "source": [
    "p2 = users_go.pivot_table(index='subscription_type', values='user_id', aggfunc='count')\n",
    "p2['user_id'] = p2['user_id']/len(users_go)\n",
    "p2 = p2.sort_values(by='user_id', ascending=False)\n",
    "p2.rename(columns={'user_id':'ratio'}, inplace=True)"
   ]
  },
  {
   "cell_type": "code",
   "execution_count": 33,
   "id": "f0f0e56a",
   "metadata": {},
   "outputs": [
    {
     "data": {
      "image/png": "[encoded data removed]",
      "text/plain": [
       "<Figure size 640x480 with 1 Axes>"
      ]
     },
     "metadata": {},
     "output_type": "display_data"
    }
   ],
   "source": [
    "# Create a pieplot\n",
    "plt.pie(p2.ratio, labels=p2.index, wedgeprops = { 'linewidth' : 7, 'edgecolor' : 'white' }, autopct='%1.1f%%')\n",
    "\n",
    "# add a circle at the center to transform it in a donut chart\n",
    "my_circle=plt.Circle( (0,0), 0.7, color='white')\n",
    "\n",
    "p=plt.gcf()\n",
    "p.gca().add_artist(my_circle)\n",
    "plt.suptitle('Соотношение пользователей с подпиской', fontsize = 22, color = 'SteelBlue')\n",
    "plt.show()"
   ]
  },
  {
   "cell_type": "markdown",
   "id": "6634afe1",
   "metadata": {},
   "source": [
    "Пользователей бех подписки ~ на 10% больше, чем пользователей с подпиской"
   ]
  },
  {
   "cell_type": "markdown",
   "id": "69886892",
   "metadata": {},
   "source": [
    "#### возраст пользователей:"
   ]
  },
  {
   "cell_type": "code",
   "execution_count": 34,
   "id": "e1fcda99",
   "metadata": {},
   "outputs": [
    {
     "data": {
      "image/png": "[encoded data removed]",
      "text/plain": [
       "<Figure size 1300x500 with 1 Axes>"
      ]
     },
     "metadata": {},
     "output_type": "display_data"
    }
   ],
   "source": [
    "users_go.plot(\n",
    "    kind='hist',\n",
    "    y='age',\n",
    "    histtype='bar',\n",
    "    bins=users_go['age'].nunique()+1,\n",
    "    grid=True,\n",
    "    figsize=(13,5)\n",
    ")\n",
    "plt.suptitle('Возраст пользователей', fontsize = 22, color = 'SteelBlue');"
   ]
  },
  {
   "cell_type": "markdown",
   "id": "eabcd805",
   "metadata": {},
   "source": [
    "Диаграмма показывает нормальное распределение возраста. Больше всего пользователей в возрасте 25 лет"
   ]
  },
  {
   "cell_type": "code",
   "execution_count": 35,
   "id": "964d6e75",
   "metadata": {
    "scrolled": true
   },
   "outputs": [
    {
     "data": {
      "text/html": [
       "<div>\n",
       "<style scoped>\n",
       "    .dataframe tbody tr th:only-of-type {\n",
       "        vertical-align: middle;\n",
       "    }\n",
       "\n",
       "    .dataframe tbody tr th {\n",
       "        vertical-align: top;\n",
       "    }\n",
       "\n",
       "    .dataframe thead th {\n",
       "        text-align: right;\n",
       "    }\n",
       "</style>\n",
       "<table border=\"1\" class=\"dataframe\">\n",
       "  <thead>\n",
       "    <tr style=\"text-align: right;\">\n",
       "      <th></th>\n",
       "      <th>count</th>\n",
       "      <th>mean</th>\n",
       "      <th>std</th>\n",
       "      <th>min</th>\n",
       "      <th>25%</th>\n",
       "      <th>50%</th>\n",
       "      <th>75%</th>\n",
       "      <th>max</th>\n",
       "    </tr>\n",
       "  </thead>\n",
       "  <tbody>\n",
       "    <tr>\n",
       "      <th>user_id</th>\n",
       "      <td>1534.0</td>\n",
       "      <td>767.50000</td>\n",
       "      <td>442.971971</td>\n",
       "      <td>1.0</td>\n",
       "      <td>384.25</td>\n",
       "      <td>767.5</td>\n",
       "      <td>1150.75</td>\n",
       "      <td>1534.0</td>\n",
       "    </tr>\n",
       "    <tr>\n",
       "      <th>age</th>\n",
       "      <td>1534.0</td>\n",
       "      <td>24.90352</td>\n",
       "      <td>4.572367</td>\n",
       "      <td>12.0</td>\n",
       "      <td>22.00</td>\n",
       "      <td>25.0</td>\n",
       "      <td>28.00</td>\n",
       "      <td>43.0</td>\n",
       "    </tr>\n",
       "  </tbody>\n",
       "</table>\n",
       "</div>"
      ],
      "text/plain": [
       "          count       mean         std   min     25%    50%      75%     max\n",
       "user_id  1534.0  767.50000  442.971971   1.0  384.25  767.5  1150.75  1534.0\n",
       "age      1534.0   24.90352    4.572367  12.0   22.00   25.0    28.00    43.0"
      ]
     },
     "execution_count": 35,
     "metadata": {},
     "output_type": "execute_result"
    }
   ],
   "source": [
    "users_go.describe().T"
   ]
  },
  {
   "cell_type": "markdown",
   "id": "f30317f6",
   "metadata": {},
   "source": [
    "Основной диапазон возрастов от 20 до 30 лет (Стандартное отклонение ~5 лет)"
   ]
  },
  {
   "cell_type": "markdown",
   "id": "baf76ca1",
   "metadata": {},
   "source": [
    "#### расстояние, которое пользователь преодолел за одну поездку:"
   ]
  },
  {
   "cell_type": "code",
   "execution_count": 36,
   "id": "ea184d62",
   "metadata": {},
   "outputs": [
    {
     "data": {
      "image/png": "[encoded data removed]",
      "text/plain": [
       "<Figure size 1300x500 with 1 Axes>"
      ]
     },
     "metadata": {},
     "output_type": "display_data"
    }
   ],
   "source": [
    "rides_go.plot(\n",
    "    kind='hist',\n",
    "    y='distance',\n",
    "    histtype='bar',\n",
    "    bins=80,\n",
    "    grid=True,\n",
    "    figsize=(13,5)\n",
    ")\n",
    "plt.suptitle('Расстояние, которое пользователь преодолел за одну поездку', fontsize = 22, color = 'SteelBlue');"
   ]
  },
  {
   "cell_type": "markdown",
   "id": "93b22d68",
   "metadata": {},
   "source": [
    "На графике видны два пика, локальный максимум у 700м и глобальный максимум в районе 3000м"
   ]
  },
  {
   "cell_type": "markdown",
   "id": "2adf9fd4",
   "metadata": {},
   "source": [
    "#### продолжительность поездок"
   ]
  },
  {
   "cell_type": "markdown",
   "id": "f28aa94f",
   "metadata": {},
   "source": [
    "Т.к. может быть интересен показатель, как среднего, так и суммарного значения по пользователю, а я до конца не уверен, что имелось ввиду именно среднее, показал два параметра продолжительности (для расстояния было чётно укзаано - \"за одну поездку\")"
   ]
  },
  {
   "cell_type": "code",
   "execution_count": 37,
   "id": "87b239aa",
   "metadata": {
    "scrolled": true
   },
   "outputs": [],
   "source": [
    "p3 = rides_go.pivot_table(index='user_id', values='duration', aggfunc=['mean','sum'])\n",
    "p3.columns = p3.columns.droplevel(1)"
   ]
  },
  {
   "cell_type": "markdown",
   "id": "6cfb271b",
   "metadata": {},
   "source": [
    "Среднее за одну поездку"
   ]
  },
  {
   "cell_type": "code",
   "execution_count": 38,
   "id": "447d21e9",
   "metadata": {},
   "outputs": [
    {
     "data": {
      "text/html": [
       "<div>\n",
       "<style scoped>\n",
       "    .dataframe tbody tr th:only-of-type {\n",
       "        vertical-align: middle;\n",
       "    }\n",
       "\n",
       "    .dataframe tbody tr th {\n",
       "        vertical-align: top;\n",
       "    }\n",
       "\n",
       "    .dataframe thead th {\n",
       "        text-align: right;\n",
       "    }\n",
       "</style>\n",
       "<table border=\"1\" class=\"dataframe\">\n",
       "  <thead>\n",
       "    <tr style=\"text-align: right;\">\n",
       "      <th></th>\n",
       "      <th>mean</th>\n",
       "      <th>sum</th>\n",
       "    </tr>\n",
       "    <tr>\n",
       "      <th>user_id</th>\n",
       "      <th></th>\n",
       "      <th></th>\n",
       "    </tr>\n",
       "  </thead>\n",
       "  <tbody>\n",
       "    <tr>\n",
       "      <th>657</th>\n",
       "      <td>26.136000</td>\n",
       "      <td>130.680002</td>\n",
       "    </tr>\n",
       "    <tr>\n",
       "      <th>643</th>\n",
       "      <td>25.839621</td>\n",
       "      <td>103.358486</td>\n",
       "    </tr>\n",
       "    <tr>\n",
       "      <th>354</th>\n",
       "      <td>25.661979</td>\n",
       "      <td>76.985937</td>\n",
       "    </tr>\n",
       "    <tr>\n",
       "      <th>522</th>\n",
       "      <td>25.377577</td>\n",
       "      <td>152.265464</td>\n",
       "    </tr>\n",
       "    <tr>\n",
       "      <th>126</th>\n",
       "      <td>25.364371</td>\n",
       "      <td>126.821853</td>\n",
       "    </tr>\n",
       "    <tr>\n",
       "      <th>...</th>\n",
       "      <td>...</td>\n",
       "      <td>...</td>\n",
       "    </tr>\n",
       "    <tr>\n",
       "      <th>801</th>\n",
       "      <td>12.857021</td>\n",
       "      <td>102.856168</td>\n",
       "    </tr>\n",
       "    <tr>\n",
       "      <th>1256</th>\n",
       "      <td>12.818559</td>\n",
       "      <td>115.367027</td>\n",
       "    </tr>\n",
       "    <tr>\n",
       "      <th>1243</th>\n",
       "      <td>12.119112</td>\n",
       "      <td>109.072005</td>\n",
       "    </tr>\n",
       "    <tr>\n",
       "      <th>73</th>\n",
       "      <td>11.385922</td>\n",
       "      <td>34.157765</td>\n",
       "    </tr>\n",
       "    <tr>\n",
       "      <th>908</th>\n",
       "      <td>11.163431</td>\n",
       "      <td>89.307448</td>\n",
       "    </tr>\n",
       "  </tbody>\n",
       "</table>\n",
       "<p>1534 rows × 2 columns</p>\n",
       "</div>"
      ],
      "text/plain": [
       "              mean         sum\n",
       "user_id                       \n",
       "657      26.136000  130.680002\n",
       "643      25.839621  103.358486\n",
       "354      25.661979   76.985937\n",
       "522      25.377577  152.265464\n",
       "126      25.364371  126.821853\n",
       "...            ...         ...\n",
       "801      12.857021  102.856168\n",
       "1256     12.818559  115.367027\n",
       "1243     12.119112  109.072005\n",
       "73       11.385922   34.157765\n",
       "908      11.163431   89.307448\n",
       "\n",
       "[1534 rows x 2 columns]"
      ]
     },
     "execution_count": 38,
     "metadata": {},
     "output_type": "execute_result"
    }
   ],
   "source": [
    "p3.sort_values(by='mean', ascending=False)"
   ]
  },
  {
   "cell_type": "code",
   "execution_count": 39,
   "id": "a0cefdf6",
   "metadata": {},
   "outputs": [
    {
     "data": {
      "image/png": "[encoded data removed]",
      "text/plain": [
       "<Figure size 1300x500 with 1 Axes>"
      ]
     },
     "metadata": {},
     "output_type": "display_data"
    }
   ],
   "source": [
    "p3.sort_values(by='mean', ascending=False).plot(\n",
    "    kind='hist',\n",
    "    y='mean',\n",
    "    histtype='bar',\n",
    "    bins=50,\n",
    "    grid=True,\n",
    "    legend=True,\n",
    "    figsize=(13,5)\n",
    ")\n",
    "plt.suptitle('Средняя продолжительность поездки', fontsize = 22, color = 'SteelBlue');"
   ]
  },
  {
   "cell_type": "code",
   "execution_count": 40,
   "id": "63d78a6c",
   "metadata": {},
   "outputs": [
    {
     "name": "stdout",
     "output_type": "stream",
     "text": [
      "Самая большая средняя продолжительность поездок пользователя: 26 мин. ,\n",
      "Самая маленькая средняя продолжительность поездок пользователя: 11 мин.\n",
      "Средний показатель на уровне: 18 мин.\n"
     ]
    }
   ],
   "source": [
    "print(f'''Самая большая средняя продолжительность поездок пользователя: {round(max(p3['mean']))} мин. ,\n",
    "Самая маленькая средняя продолжительность поездок пользователя: {round(min(p3['mean']))} мин.\n",
    "Средний показатель на уровне: {round(p3['mean'].median())} мин.''')"
   ]
  },
  {
   "cell_type": "code",
   "execution_count": 41,
   "id": "864eb061",
   "metadata": {
    "scrolled": true
   },
   "outputs": [
    {
     "data": {
      "image/png": "[encoded data removed]",
      "text/plain": [
       "<Figure size 1300x500 with 1 Axes>"
      ]
     },
     "metadata": {},
     "output_type": "display_data"
    }
   ],
   "source": [
    "p3.sort_values(by='sum', ascending=False).plot(\n",
    "    kind='hist',\n",
    "    y='sum',\n",
    "    histtype='bar',\n",
    "    bins=50,\n",
    "    grid=True,\n",
    "    legend=True,\n",
    "    figsize=(13,5)\n",
    ")\n",
    "plt.suptitle('Суммарная продолжительность поездок', fontsize = 22, color = 'SteelBlue');"
   ]
  },
  {
   "cell_type": "code",
   "execution_count": 42,
   "id": "85d358d6",
   "metadata": {},
   "outputs": [
    {
     "name": "stdout",
     "output_type": "stream",
     "text": [
      "Самая большая общая продолжительность поездок пользователя: 446 мин. ,\n",
      "Самая маленькая общая продолжительность поездок пользователя: 34 мин.\n",
      "Средний показатель на уровне: 205 мин.\n"
     ]
    }
   ],
   "source": [
    "print(f'''Самая большая общая продолжительность поездок пользователя: {round(max(p3['sum']))} мин. ,\n",
    "Самая маленькая общая продолжительность поездок пользователя: {round(min(p3['sum']))} мин.\n",
    "Средний показатель на уровне: {round(p3['sum'].median())} мин.''')"
   ]
  },
  {
   "cell_type": "code",
   "execution_count": 43,
   "id": "91251284",
   "metadata": {},
   "outputs": [
    {
     "data": {
      "image/png": "[encoded data removed]",
      "text/plain": [
       "<Figure size 1300x500 with 1 Axes>"
      ]
     },
     "metadata": {},
     "output_type": "display_data"
    }
   ],
   "source": [
    "rides_go.plot(\n",
    "    kind='hist',\n",
    "    y='duration',\n",
    "    histtype='bar',\n",
    "    bins=50,\n",
    "    grid=True,\n",
    "    figsize=(13,5)\n",
    ")\n",
    "plt.suptitle('Средняя продолжительность поездки', fontsize = 22, color = 'SteelBlue');"
   ]
  },
  {
   "cell_type": "markdown",
   "id": "9a2e33d2",
   "metadata": {},
   "source": [
    "На графике видно, что пик поездок приходится на 12-20 минут, в этом диапазоне количество поездок примерно равнее"
   ]
  },
  {
   "cell_type": "markdown",
   "id": "4ef51331",
   "metadata": {},
   "source": [
    "### Шаг 4. Объединение данных"
   ]
  },
  {
   "cell_type": "markdown",
   "id": "2c27774e",
   "metadata": {},
   "source": [
    "#### Объедините данные о пользователях, поездках и подписках в один датафрейм. Для этого воспользуйтесь методом ``merge()``"
   ]
  },
  {
   "cell_type": "code",
   "execution_count": 44,
   "id": "2aa13703",
   "metadata": {},
   "outputs": [],
   "source": [
    "all_data = users_go"
   ]
  },
  {
   "cell_type": "code",
   "execution_count": 45,
   "id": "83a42e73",
   "metadata": {},
   "outputs": [],
   "source": [
    "all_data = all_data.merge(\n",
    "    rides_go,\n",
    "    on='user_id',\n",
    "    how='inner',\n",
    ")"
   ]
  },
  {
   "cell_type": "code",
   "execution_count": 46,
   "id": "54cebd70",
   "metadata": {},
   "outputs": [],
   "source": [
    "all_data = all_data.merge(\n",
    "    sub_go,\n",
    "    on='subscription_type',\n",
    "    how='inner',\n",
    ")"
   ]
  },
  {
   "cell_type": "code",
   "execution_count": 47,
   "id": "f746d851",
   "metadata": {},
   "outputs": [
    {
     "name": "stdout",
     "output_type": "stream",
     "text": [
      "<class 'pandas.core.frame.DataFrame'>\n",
      "Int64Index: 18068 entries, 0 to 18067\n",
      "Data columns (total 12 columns):\n",
      " #   Column             Non-Null Count  Dtype         \n",
      "---  ------             --------------  -----         \n",
      " 0   user_id            18068 non-null  int64         \n",
      " 1   name               18068 non-null  object        \n",
      " 2   age                18068 non-null  int64         \n",
      " 3   city               18068 non-null  object        \n",
      " 4   subscription_type  18068 non-null  object        \n",
      " 5   distance           18068 non-null  float64       \n",
      " 6   duration           18068 non-null  float64       \n",
      " 7   date               18068 non-null  datetime64[ns]\n",
      " 8   month              18068 non-null  int64         \n",
      " 9   minute_price       18068 non-null  int64         \n",
      " 10  start_ride_price   18068 non-null  int64         \n",
      " 11  subscription_fee   18068 non-null  int64         \n",
      "dtypes: datetime64[ns](1), float64(2), int64(6), object(3)\n",
      "memory usage: 1.8+ MB\n"
     ]
    }
   ],
   "source": [
    "all_data.info()"
   ]
  },
  {
   "cell_type": "code",
   "execution_count": 48,
   "id": "4ca92075",
   "metadata": {
    "scrolled": true
   },
   "outputs": [
    {
     "data": {
      "text/html": [
       "<div>\n",
       "<style scoped>\n",
       "    .dataframe tbody tr th:only-of-type {\n",
       "        vertical-align: middle;\n",
       "    }\n",
       "\n",
       "    .dataframe tbody tr th {\n",
       "        vertical-align: top;\n",
       "    }\n",
       "\n",
       "    .dataframe thead th {\n",
       "        text-align: right;\n",
       "    }\n",
       "</style>\n",
       "<table border=\"1\" class=\"dataframe\">\n",
       "  <thead>\n",
       "    <tr style=\"text-align: right;\">\n",
       "      <th></th>\n",
       "      <th>user_id</th>\n",
       "      <th>name</th>\n",
       "      <th>age</th>\n",
       "      <th>city</th>\n",
       "      <th>subscription_type</th>\n",
       "      <th>distance</th>\n",
       "      <th>duration</th>\n",
       "      <th>date</th>\n",
       "      <th>month</th>\n",
       "      <th>minute_price</th>\n",
       "      <th>start_ride_price</th>\n",
       "      <th>subscription_fee</th>\n",
       "    </tr>\n",
       "  </thead>\n",
       "  <tbody>\n",
       "    <tr>\n",
       "      <th>0</th>\n",
       "      <td>1</td>\n",
       "      <td>Кира</td>\n",
       "      <td>22</td>\n",
       "      <td>Тюмень</td>\n",
       "      <td>ultra</td>\n",
       "      <td>4409.919140</td>\n",
       "      <td>25.599769</td>\n",
       "      <td>2021-01-01</td>\n",
       "      <td>1</td>\n",
       "      <td>6</td>\n",
       "      <td>0</td>\n",
       "      <td>199</td>\n",
       "    </tr>\n",
       "    <tr>\n",
       "      <th>1</th>\n",
       "      <td>1</td>\n",
       "      <td>Кира</td>\n",
       "      <td>22</td>\n",
       "      <td>Тюмень</td>\n",
       "      <td>ultra</td>\n",
       "      <td>2617.592153</td>\n",
       "      <td>15.816871</td>\n",
       "      <td>2021-01-18</td>\n",
       "      <td>1</td>\n",
       "      <td>6</td>\n",
       "      <td>0</td>\n",
       "      <td>199</td>\n",
       "    </tr>\n",
       "    <tr>\n",
       "      <th>2</th>\n",
       "      <td>1</td>\n",
       "      <td>Кира</td>\n",
       "      <td>22</td>\n",
       "      <td>Тюмень</td>\n",
       "      <td>ultra</td>\n",
       "      <td>754.159807</td>\n",
       "      <td>6.232113</td>\n",
       "      <td>2021-04-20</td>\n",
       "      <td>4</td>\n",
       "      <td>6</td>\n",
       "      <td>0</td>\n",
       "      <td>199</td>\n",
       "    </tr>\n",
       "    <tr>\n",
       "      <th>3</th>\n",
       "      <td>1</td>\n",
       "      <td>Кира</td>\n",
       "      <td>22</td>\n",
       "      <td>Тюмень</td>\n",
       "      <td>ultra</td>\n",
       "      <td>2694.783254</td>\n",
       "      <td>18.511000</td>\n",
       "      <td>2021-08-11</td>\n",
       "      <td>8</td>\n",
       "      <td>6</td>\n",
       "      <td>0</td>\n",
       "      <td>199</td>\n",
       "    </tr>\n",
       "    <tr>\n",
       "      <th>4</th>\n",
       "      <td>1</td>\n",
       "      <td>Кира</td>\n",
       "      <td>22</td>\n",
       "      <td>Тюмень</td>\n",
       "      <td>ultra</td>\n",
       "      <td>4028.687306</td>\n",
       "      <td>26.265803</td>\n",
       "      <td>2021-08-28</td>\n",
       "      <td>8</td>\n",
       "      <td>6</td>\n",
       "      <td>0</td>\n",
       "      <td>199</td>\n",
       "    </tr>\n",
       "  </tbody>\n",
       "</table>\n",
       "</div>"
      ],
      "text/plain": [
       "   user_id  name  age    city subscription_type     distance   duration  \\\n",
       "0        1  Кира   22  Тюмень             ultra  4409.919140  25.599769   \n",
       "1        1  Кира   22  Тюмень             ultra  2617.592153  15.816871   \n",
       "2        1  Кира   22  Тюмень             ultra   754.159807   6.232113   \n",
       "3        1  Кира   22  Тюмень             ultra  2694.783254  18.511000   \n",
       "4        1  Кира   22  Тюмень             ultra  4028.687306  26.265803   \n",
       "\n",
       "        date  month  minute_price  start_ride_price  subscription_fee  \n",
       "0 2021-01-01      1             6                 0               199  \n",
       "1 2021-01-18      1             6                 0               199  \n",
       "2 2021-04-20      4             6                 0               199  \n",
       "3 2021-08-11      8             6                 0               199  \n",
       "4 2021-08-28      8             6                 0               199  "
      ]
     },
     "execution_count": 48,
     "metadata": {},
     "output_type": "execute_result"
    }
   ],
   "source": [
    "all_data.head()"
   ]
  },
  {
   "cell_type": "markdown",
   "id": "f02460e7",
   "metadata": {},
   "source": [
    "#### Создайте ещё два датафрейма из датафрейма, созданного на этапе 4.1:"
   ]
  },
  {
   "cell_type": "markdown",
   "id": "ac8dc6bc",
   "metadata": {},
   "source": [
    "##### c данными о пользователях без подписки:"
   ]
  },
  {
   "cell_type": "code",
   "execution_count": 49,
   "id": "b8f2fb1f",
   "metadata": {
    "scrolled": true
   },
   "outputs": [],
   "source": [
    "all_data_unsub = all_data[all_data['subscription_type'] == 'free']"
   ]
  },
  {
   "cell_type": "code",
   "execution_count": 50,
   "id": "6c9fd42f",
   "metadata": {},
   "outputs": [
    {
     "data": {
      "text/plain": [
       "11568"
      ]
     },
     "execution_count": 50,
     "metadata": {},
     "output_type": "execute_result"
    }
   ],
   "source": [
    "# Код ревьюера\n",
    "all_data_unsub.shape[0]"
   ]
  },
  {
   "cell_type": "markdown",
   "id": "356d6801",
   "metadata": {},
   "source": [
    "##### c данными о пользователях c подписой:"
   ]
  },
  {
   "cell_type": "code",
   "execution_count": 51,
   "id": "5a1ba839",
   "metadata": {},
   "outputs": [],
   "source": [
    "all_data_sub = all_data[all_data['subscription_type'] == 'ultra']"
   ]
  },
  {
   "cell_type": "code",
   "execution_count": 52,
   "id": "af6da904",
   "metadata": {
    "scrolled": true
   },
   "outputs": [
    {
     "name": "stdout",
     "output_type": "stream",
     "text": [
      "<class 'pandas.core.frame.DataFrame'>\n",
      "Int64Index: 6500 entries, 0 to 6499\n",
      "Data columns (total 12 columns):\n",
      " #   Column             Non-Null Count  Dtype         \n",
      "---  ------             --------------  -----         \n",
      " 0   user_id            6500 non-null   int64         \n",
      " 1   name               6500 non-null   object        \n",
      " 2   age                6500 non-null   int64         \n",
      " 3   city               6500 non-null   object        \n",
      " 4   subscription_type  6500 non-null   object        \n",
      " 5   distance           6500 non-null   float64       \n",
      " 6   duration           6500 non-null   float64       \n",
      " 7   date               6500 non-null   datetime64[ns]\n",
      " 8   month              6500 non-null   int64         \n",
      " 9   minute_price       6500 non-null   int64         \n",
      " 10  start_ride_price   6500 non-null   int64         \n",
      " 11  subscription_fee   6500 non-null   int64         \n",
      "dtypes: datetime64[ns](1), float64(2), int64(6), object(3)\n",
      "memory usage: 660.2+ KB\n"
     ]
    }
   ],
   "source": [
    "all_data_sub.info()"
   ]
  },
  {
   "cell_type": "markdown",
   "id": "f11d53b6",
   "metadata": {},
   "source": [
    "#### Визуализируйте информацию о расстоянии и времени поездок для пользователей обеих категорий"
   ]
  },
  {
   "cell_type": "markdown",
   "id": "02e4e003",
   "metadata": {},
   "source": [
    "**РАССТОЯНИЕ**"
   ]
  },
  {
   "cell_type": "markdown",
   "id": "1317400a",
   "metadata": {},
   "source": [
    "Пользователи без подписки"
   ]
  },
  {
   "cell_type": "code",
   "execution_count": 53,
   "id": "e7cd4b2e",
   "metadata": {},
   "outputs": [
    {
     "data": {
      "image/png": "[encoded data removed]",
      "text/plain": [
       "<Figure size 1300x500 with 1 Axes>"
      ]
     },
     "metadata": {},
     "output_type": "display_data"
    }
   ],
   "source": [
    "all_data_unsub.plot(\n",
    "    kind='hist',\n",
    "    y='distance',\n",
    "    histtype='bar',\n",
    "    bins=50,\n",
    "    grid=True,\n",
    "    legend=True,\n",
    "    figsize=(13,5)\n",
    ")\n",
    "plt.suptitle('Пойденное расстояние пользователей без подписки', fontsize = 22, color = 'SteelBlue');"
   ]
  },
  {
   "cell_type": "markdown",
   "id": "95ff097d",
   "metadata": {},
   "source": [
    "Пользователи с подпиской"
   ]
  },
  {
   "cell_type": "code",
   "execution_count": 54,
   "id": "dddc68f1",
   "metadata": {},
   "outputs": [
    {
     "data": {
      "image/png": "[encoded data removed]",
      "text/plain": [
       "<Figure size 1300x500 with 1 Axes>"
      ]
     },
     "metadata": {},
     "output_type": "display_data"
    }
   ],
   "source": [
    "all_data_sub.plot(\n",
    "    kind='hist',\n",
    "    y='distance',\n",
    "    histtype='bar',\n",
    "    bins=50,\n",
    "    grid=True,\n",
    "    legend=True,\n",
    "    figsize=(13,5)\n",
    ")\n",
    "plt.suptitle('Пойденное расстояние пользователей с подпиской', fontsize = 22, color = 'SteelBlue');"
   ]
  },
  {
   "cell_type": "markdown",
   "id": "07f44a1e",
   "metadata": {},
   "source": [
    "У пользователей с подпиской явно выражен пик дистанции - 3100м, чаще всего пользователи именно столько проезжают за одну поездку\n",
    "Пользователи без подписки чаще всего осуществляют поездки в диапазоне от 2300 до 3800 м.\n",
    "\n",
    "У польователей без подписки часть поездок заканчиваются не проехав ни метра, у пользователей с подпиской - нет таких поездок"
   ]
  },
  {
   "cell_type": "markdown",
   "id": "bdafdbdf",
   "metadata": {},
   "source": [
    "**ПРОДОЛЖИТЕЛЬНОСТЬ ПРОЕЗДКИ**"
   ]
  },
  {
   "cell_type": "markdown",
   "id": "32290e70",
   "metadata": {},
   "source": [
    "Пользователи без подписки"
   ]
  },
  {
   "cell_type": "code",
   "execution_count": 55,
   "id": "5cd39bdc",
   "metadata": {},
   "outputs": [
    {
     "data": {
      "image/png": "[encoded data removed]",
      "text/plain": [
       "<Figure size 1300x500 with 1 Axes>"
      ]
     },
     "metadata": {},
     "output_type": "display_data"
    }
   ],
   "source": [
    "all_data_unsub.plot(\n",
    "    kind='hist',\n",
    "    y='duration',\n",
    "    histtype='bar',\n",
    "    bins=50,\n",
    "    grid=True,\n",
    "    legend=True,\n",
    "    figsize=(13,5)\n",
    ")\n",
    "plt.suptitle('Продолжительность поездок пользователей без подписки', fontsize = 22, color = 'SteelBlue');"
   ]
  },
  {
   "cell_type": "markdown",
   "id": "77bd179c",
   "metadata": {},
   "source": [
    "Пользователи с подпиской"
   ]
  },
  {
   "cell_type": "code",
   "execution_count": 56,
   "id": "598bc952",
   "metadata": {},
   "outputs": [
    {
     "data": {
      "image/png": "[encoded data removed]",
      "text/plain": [
       "<Figure size 1300x500 with 1 Axes>"
      ]
     },
     "metadata": {},
     "output_type": "display_data"
    }
   ],
   "source": [
    "all_data_sub.plot(\n",
    "    kind='hist',\n",
    "    y='duration',\n",
    "    histtype='bar',\n",
    "    bins=50,\n",
    "    grid=True,\n",
    "    legend=True,\n",
    "    figsize=(13,5)\n",
    ")\n",
    "plt.suptitle('Продолжительность поездок пользователей с подпиской', fontsize = 22, color = 'SteelBlue');"
   ]
  },
  {
   "cell_type": "markdown",
   "id": "10f64634",
   "metadata": {},
   "source": [
    "Пользователей с подпиской чаще всего катаются 13-23 минуты. У пользователей без подписки схожая история.\n",
    "\n",
    "В нашей выборке пользователи с подпиской максимальная поездка составляла более 40 минут, у пользователей без подписки - 35 минут.\n",
    "\n",
    "Так же, как и с пройденым расстоянием, у пользователей без подписки есть поездки, в которых время составляет 1 минуту. Возможно это поездки неопытхых пользователей, которые не смогли разобраться и завершили поездку сразу"
   ]
  },
  {
   "cell_type": "code",
   "execution_count": 57,
   "id": "17d0a903",
   "metadata": {},
   "outputs": [
    {
     "data": {
      "image/png": "[encoded data removed]",
      "text/plain": [
       "<Figure size 1300x500 with 1 Axes>"
      ]
     },
     "metadata": {},
     "output_type": "display_data"
    }
   ],
   "source": [
    "ax2 = all_data_unsub.plot(\n",
    "        kind='hist',\n",
    "        y='duration',\n",
    "        histtype='bar',\n",
    "        label='Без подписки',\n",
    "        bins=50\n",
    "    );\n",
    "\n",
    "all_data_sub.plot(\n",
    "    kind='hist',\n",
    "    y='duration',\n",
    "    histtype='bar',\n",
    "    bins=50,\n",
    "    grid=True,\n",
    "    legend=True,\n",
    "    figsize=(13,5),\n",
    "    label='С Подпиской',\n",
    "    ax=ax2\n",
    ")\n",
    "plt.suptitle('Продолжительность поездок пользователей', fontsize = 22, color = 'SteelBlue');\n",
    "plt.show()"
   ]
  },
  {
   "cell_type": "markdown",
   "id": "402d620f",
   "metadata": {},
   "source": [
    "### Шаг 5. Подсчёт выручки"
   ]
  },
  {
   "cell_type": "markdown",
   "id": "db772564",
   "metadata": {},
   "source": [
    "#### Создайте датафрейм с агрегированными данными о поездках на основе датафрейма с объединёнными данными из шага 4: найдите \n",
    "-суммарное расстояние,\n",
    "\n",
    "-количество поездок и\n",
    "\n",
    "-суммарное время для каждого пользователя за каждый месяц"
   ]
  },
  {
   "cell_type": "markdown",
   "id": "c613f4c7",
   "metadata": {},
   "source": [
    "**Сводная таблица для всех пользователей**"
   ]
  },
  {
   "cell_type": "code",
   "execution_count": 58,
   "id": "30381b67",
   "metadata": {},
   "outputs": [
    {
     "name": "stderr",
     "output_type": "stream",
     "text": [
      "C:\\Users\\user\\AppData\\Local\\Temp\\ipykernel_23836\\2829491126.py:2: FutureWarning: ['date'] did not aggregate successfully. If any error is raised this will raise in a future version of pandas. Drop these columns/ops to avoid this warning.\n",
      "  all_pivot_table = all_data.pivot_table(index=['user_id','month'], values=['distance','date','duration'], aggfunc={'sum','count','sum'})\n"
     ]
    }
   ],
   "source": [
    "# Создаём сводную таблицу\n",
    "all_pivot_table = all_data.pivot_table(index=['user_id','month'], values=['distance','date','duration'], aggfunc={'sum','count','sum'})\n",
    "\n",
    "# Убариаем лишний уровень заголовков таблицы\n",
    "all_pivot_table.columns = all_pivot_table.columns.droplevel(1)\n",
    "\n",
    "# Переименновываем колонки, как нам нужно\n",
    "all_pivot_table.columns = ['cnt_1', 'distance', 'cnt_rides', 'duration']\n",
    "\n",
    "# Удалем ненужный столбец, сбрасываем индексы в таблицы\n",
    "all_pivot_table = all_pivot_table.drop('cnt_1', axis=1).reset_index()\n",
    "\n",
    "# Добавляем столбец \"тип подписки\"\n",
    "all_pivot_table = all_pivot_table.merge(users_go[['user_id', 'subscription_type']], left_on='user_id', right_on='user_id', how='left')"
   ]
  },
  {
   "cell_type": "code",
   "execution_count": 59,
   "id": "eb8ab737",
   "metadata": {},
   "outputs": [],
   "source": [
    "def income_v2(x):\n",
    "    try:\n",
    "        if (x.subscription_type == 'free'):\n",
    "            start_ride_price = 50\n",
    "            minute_price = 8\n",
    "            subscription_fee = 0\n",
    "            \n",
    "        else:\n",
    "            start_ride_price = 0\n",
    "            minute_price = 6\n",
    "            subscription_fee = 199\n",
    "\n",
    "        income_value = round((start_ride_price * x.cnt_rides) + (minute_price * round(x.duration)) + subscription_fee)\n",
    "\n",
    "        return income_value\n",
    "\n",
    "    except:\n",
    "        return 0"
   ]
  },
  {
   "cell_type": "code",
   "execution_count": 60,
   "id": "f74cd06f",
   "metadata": {},
   "outputs": [
    {
     "data": {
      "text/html": [
       "<div>\n",
       "<style scoped>\n",
       "    .dataframe tbody tr th:only-of-type {\n",
       "        vertical-align: middle;\n",
       "    }\n",
       "\n",
       "    .dataframe tbody tr th {\n",
       "        vertical-align: top;\n",
       "    }\n",
       "\n",
       "    .dataframe thead th {\n",
       "        text-align: right;\n",
       "    }\n",
       "</style>\n",
       "<table border=\"1\" class=\"dataframe\">\n",
       "  <thead>\n",
       "    <tr style=\"text-align: right;\">\n",
       "      <th></th>\n",
       "      <th>user_id</th>\n",
       "      <th>month</th>\n",
       "      <th>distance</th>\n",
       "      <th>cnt_rides</th>\n",
       "      <th>duration</th>\n",
       "      <th>subscription_type</th>\n",
       "    </tr>\n",
       "  </thead>\n",
       "  <tbody>\n",
       "    <tr>\n",
       "      <th>0</th>\n",
       "      <td>1</td>\n",
       "      <td>1</td>\n",
       "      <td>7027.511294</td>\n",
       "      <td>2</td>\n",
       "      <td>41.416640</td>\n",
       "      <td>ultra</td>\n",
       "    </tr>\n",
       "    <tr>\n",
       "      <th>1</th>\n",
       "      <td>1</td>\n",
       "      <td>4</td>\n",
       "      <td>754.159807</td>\n",
       "      <td>1</td>\n",
       "      <td>6.232113</td>\n",
       "      <td>ultra</td>\n",
       "    </tr>\n",
       "    <tr>\n",
       "      <th>2</th>\n",
       "      <td>1</td>\n",
       "      <td>8</td>\n",
       "      <td>6723.470560</td>\n",
       "      <td>2</td>\n",
       "      <td>44.776802</td>\n",
       "      <td>ultra</td>\n",
       "    </tr>\n",
       "    <tr>\n",
       "      <th>3</th>\n",
       "      <td>1</td>\n",
       "      <td>10</td>\n",
       "      <td>5809.911100</td>\n",
       "      <td>2</td>\n",
       "      <td>31.578017</td>\n",
       "      <td>ultra</td>\n",
       "    </tr>\n",
       "    <tr>\n",
       "      <th>4</th>\n",
       "      <td>1</td>\n",
       "      <td>11</td>\n",
       "      <td>7003.499363</td>\n",
       "      <td>3</td>\n",
       "      <td>53.397424</td>\n",
       "      <td>ultra</td>\n",
       "    </tr>\n",
       "    <tr>\n",
       "      <th>...</th>\n",
       "      <td>...</td>\n",
       "      <td>...</td>\n",
       "      <td>...</td>\n",
       "      <td>...</td>\n",
       "      <td>...</td>\n",
       "      <td>...</td>\n",
       "    </tr>\n",
       "    <tr>\n",
       "      <th>11326</th>\n",
       "      <td>1534</td>\n",
       "      <td>6</td>\n",
       "      <td>3409.468534</td>\n",
       "      <td>2</td>\n",
       "      <td>24.812678</td>\n",
       "      <td>free</td>\n",
       "    </tr>\n",
       "    <tr>\n",
       "      <th>11327</th>\n",
       "      <td>1534</td>\n",
       "      <td>8</td>\n",
       "      <td>7622.453034</td>\n",
       "      <td>2</td>\n",
       "      <td>47.205960</td>\n",
       "      <td>free</td>\n",
       "    </tr>\n",
       "    <tr>\n",
       "      <th>11328</th>\n",
       "      <td>1534</td>\n",
       "      <td>9</td>\n",
       "      <td>4928.173852</td>\n",
       "      <td>1</td>\n",
       "      <td>22.560373</td>\n",
       "      <td>free</td>\n",
       "    </tr>\n",
       "    <tr>\n",
       "      <th>11329</th>\n",
       "      <td>1534</td>\n",
       "      <td>11</td>\n",
       "      <td>13350.015305</td>\n",
       "      <td>4</td>\n",
       "      <td>76.342174</td>\n",
       "      <td>free</td>\n",
       "    </tr>\n",
       "    <tr>\n",
       "      <th>11330</th>\n",
       "      <td>1534</td>\n",
       "      <td>12</td>\n",
       "      <td>2371.711192</td>\n",
       "      <td>1</td>\n",
       "      <td>15.893917</td>\n",
       "      <td>free</td>\n",
       "    </tr>\n",
       "  </tbody>\n",
       "</table>\n",
       "<p>11331 rows × 6 columns</p>\n",
       "</div>"
      ],
      "text/plain": [
       "       user_id  month      distance  cnt_rides   duration subscription_type\n",
       "0            1      1   7027.511294          2  41.416640             ultra\n",
       "1            1      4    754.159807          1   6.232113             ultra\n",
       "2            1      8   6723.470560          2  44.776802             ultra\n",
       "3            1     10   5809.911100          2  31.578017             ultra\n",
       "4            1     11   7003.499363          3  53.397424             ultra\n",
       "...        ...    ...           ...        ...        ...               ...\n",
       "11326     1534      6   3409.468534          2  24.812678              free\n",
       "11327     1534      8   7622.453034          2  47.205960              free\n",
       "11328     1534      9   4928.173852          1  22.560373              free\n",
       "11329     1534     11  13350.015305          4  76.342174              free\n",
       "11330     1534     12   2371.711192          1  15.893917              free\n",
       "\n",
       "[11331 rows x 6 columns]"
      ]
     },
     "execution_count": 60,
     "metadata": {},
     "output_type": "execute_result"
    }
   ],
   "source": [
    "all_pivot_table"
   ]
  },
  {
   "cell_type": "markdown",
   "id": "d1e625e7",
   "metadata": {},
   "source": [
    "**Сводная таблица для пользователей без подписки**"
   ]
  },
  {
   "cell_type": "code",
   "execution_count": 61,
   "id": "2cd2c003",
   "metadata": {},
   "outputs": [
    {
     "name": "stderr",
     "output_type": "stream",
     "text": [
      "C:\\Users\\user\\AppData\\Local\\Temp\\ipykernel_23836\\533892670.py:1: FutureWarning: ['date'] did not aggregate successfully. If any error is raised this will raise in a future version of pandas. Drop these columns/ops to avoid this warning.\n",
      "  unsub_pivot_table = all_data_unsub.pivot_table(index=['user_id','month'], values=['distance','date','duration'], aggfunc={'sum','count','sum'})\n"
     ]
    }
   ],
   "source": [
    "unsub_pivot_table = all_data_unsub.pivot_table(index=['user_id','month'], values=['distance','date','duration'], aggfunc={'sum','count','sum'})\n",
    "unsub_pivot_table.columns = unsub_pivot_table.columns.droplevel(1)\n",
    "unsub_pivot_table.columns = ['cnt_1', 'distance', 'cnt_rides', 'duration']\n",
    "unsub_pivot_table = unsub_pivot_table.drop('cnt_1', axis=1)"
   ]
  },
  {
   "cell_type": "code",
   "execution_count": 62,
   "id": "9473ad9b",
   "metadata": {},
   "outputs": [
    {
     "data": {
      "text/html": [
       "<div>\n",
       "<style scoped>\n",
       "    .dataframe tbody tr th:only-of-type {\n",
       "        vertical-align: middle;\n",
       "    }\n",
       "\n",
       "    .dataframe tbody tr th {\n",
       "        vertical-align: top;\n",
       "    }\n",
       "\n",
       "    .dataframe thead th {\n",
       "        text-align: right;\n",
       "    }\n",
       "</style>\n",
       "<table border=\"1\" class=\"dataframe\">\n",
       "  <thead>\n",
       "    <tr style=\"text-align: right;\">\n",
       "      <th></th>\n",
       "      <th></th>\n",
       "      <th>distance</th>\n",
       "      <th>cnt_rides</th>\n",
       "      <th>duration</th>\n",
       "    </tr>\n",
       "    <tr>\n",
       "      <th>user_id</th>\n",
       "      <th>month</th>\n",
       "      <th></th>\n",
       "      <th></th>\n",
       "      <th></th>\n",
       "    </tr>\n",
       "  </thead>\n",
       "  <tbody>\n",
       "    <tr>\n",
       "      <th rowspan=\"5\" valign=\"top\">700</th>\n",
       "      <th>1</th>\n",
       "      <td>2515.690719</td>\n",
       "      <td>1</td>\n",
       "      <td>14.944286</td>\n",
       "    </tr>\n",
       "    <tr>\n",
       "      <th>2</th>\n",
       "      <td>13446.659764</td>\n",
       "      <td>5</td>\n",
       "      <td>85.829845</td>\n",
       "    </tr>\n",
       "    <tr>\n",
       "      <th>3</th>\n",
       "      <td>3798.334905</td>\n",
       "      <td>1</td>\n",
       "      <td>18.243756</td>\n",
       "    </tr>\n",
       "    <tr>\n",
       "      <th>4</th>\n",
       "      <td>2984.551206</td>\n",
       "      <td>1</td>\n",
       "      <td>15.424899</td>\n",
       "    </tr>\n",
       "    <tr>\n",
       "      <th>6</th>\n",
       "      <td>5927.650988</td>\n",
       "      <td>2</td>\n",
       "      <td>28.077657</td>\n",
       "    </tr>\n",
       "    <tr>\n",
       "      <th>...</th>\n",
       "      <th>...</th>\n",
       "      <td>...</td>\n",
       "      <td>...</td>\n",
       "      <td>...</td>\n",
       "    </tr>\n",
       "    <tr>\n",
       "      <th rowspan=\"5\" valign=\"top\">1534</th>\n",
       "      <th>6</th>\n",
       "      <td>3409.468534</td>\n",
       "      <td>2</td>\n",
       "      <td>24.812678</td>\n",
       "    </tr>\n",
       "    <tr>\n",
       "      <th>8</th>\n",
       "      <td>7622.453034</td>\n",
       "      <td>2</td>\n",
       "      <td>47.205960</td>\n",
       "    </tr>\n",
       "    <tr>\n",
       "      <th>9</th>\n",
       "      <td>4928.173852</td>\n",
       "      <td>1</td>\n",
       "      <td>22.560373</td>\n",
       "    </tr>\n",
       "    <tr>\n",
       "      <th>11</th>\n",
       "      <td>13350.015305</td>\n",
       "      <td>4</td>\n",
       "      <td>76.342174</td>\n",
       "    </tr>\n",
       "    <tr>\n",
       "      <th>12</th>\n",
       "      <td>2371.711192</td>\n",
       "      <td>1</td>\n",
       "      <td>15.893917</td>\n",
       "    </tr>\n",
       "  </tbody>\n",
       "</table>\n",
       "<p>6798 rows × 3 columns</p>\n",
       "</div>"
      ],
      "text/plain": [
       "                   distance  cnt_rides   duration\n",
       "user_id month                                    \n",
       "700     1       2515.690719          1  14.944286\n",
       "        2      13446.659764          5  85.829845\n",
       "        3       3798.334905          1  18.243756\n",
       "        4       2984.551206          1  15.424899\n",
       "        6       5927.650988          2  28.077657\n",
       "...                     ...        ...        ...\n",
       "1534    6       3409.468534          2  24.812678\n",
       "        8       7622.453034          2  47.205960\n",
       "        9       4928.173852          1  22.560373\n",
       "        11     13350.015305          4  76.342174\n",
       "        12      2371.711192          1  15.893917\n",
       "\n",
       "[6798 rows x 3 columns]"
      ]
     },
     "execution_count": 62,
     "metadata": {},
     "output_type": "execute_result"
    }
   ],
   "source": [
    "unsub_pivot_table"
   ]
  },
  {
   "cell_type": "markdown",
   "id": "ba81aeab",
   "metadata": {},
   "source": [
    "**Сводная таблица для пользователей с подпиской**"
   ]
  },
  {
   "cell_type": "code",
   "execution_count": 63,
   "id": "9394a34b",
   "metadata": {},
   "outputs": [
    {
     "name": "stderr",
     "output_type": "stream",
     "text": [
      "C:\\Users\\user\\AppData\\Local\\Temp\\ipykernel_23836\\1448975454.py:1: FutureWarning: ['date'] did not aggregate successfully. If any error is raised this will raise in a future version of pandas. Drop these columns/ops to avoid this warning.\n",
      "  sub_pivot_table = all_data_sub.pivot_table(index=['user_id','month'], values=['distance','date','duration'], aggfunc={'sum','count','sum'})\n"
     ]
    }
   ],
   "source": [
    "sub_pivot_table = all_data_sub.pivot_table(index=['user_id','month'], values=['distance','date','duration'], aggfunc={'sum','count','sum'})\n",
    "sub_pivot_table.columns = sub_pivot_table.columns.droplevel(1)\n",
    "sub_pivot_table.columns = ['cnt_1', 'distance', 'cnt_rides', 'duration']\n",
    "sub_pivot_table = sub_pivot_table.drop('cnt_1', axis=1)"
   ]
  },
  {
   "cell_type": "code",
   "execution_count": 64,
   "id": "0a9c73c9",
   "metadata": {},
   "outputs": [
    {
     "data": {
      "text/html": [
       "<div>\n",
       "<style scoped>\n",
       "    .dataframe tbody tr th:only-of-type {\n",
       "        vertical-align: middle;\n",
       "    }\n",
       "\n",
       "    .dataframe tbody tr th {\n",
       "        vertical-align: top;\n",
       "    }\n",
       "\n",
       "    .dataframe thead th {\n",
       "        text-align: right;\n",
       "    }\n",
       "</style>\n",
       "<table border=\"1\" class=\"dataframe\">\n",
       "  <thead>\n",
       "    <tr style=\"text-align: right;\">\n",
       "      <th></th>\n",
       "      <th></th>\n",
       "      <th>distance</th>\n",
       "      <th>cnt_rides</th>\n",
       "      <th>duration</th>\n",
       "    </tr>\n",
       "    <tr>\n",
       "      <th>user_id</th>\n",
       "      <th>month</th>\n",
       "      <th></th>\n",
       "      <th></th>\n",
       "      <th></th>\n",
       "    </tr>\n",
       "  </thead>\n",
       "  <tbody>\n",
       "    <tr>\n",
       "      <th rowspan=\"5\" valign=\"top\">1</th>\n",
       "      <th>1</th>\n",
       "      <td>7027.511294</td>\n",
       "      <td>2</td>\n",
       "      <td>41.416640</td>\n",
       "    </tr>\n",
       "    <tr>\n",
       "      <th>4</th>\n",
       "      <td>754.159807</td>\n",
       "      <td>1</td>\n",
       "      <td>6.232113</td>\n",
       "    </tr>\n",
       "    <tr>\n",
       "      <th>8</th>\n",
       "      <td>6723.470560</td>\n",
       "      <td>2</td>\n",
       "      <td>44.776802</td>\n",
       "    </tr>\n",
       "    <tr>\n",
       "      <th>10</th>\n",
       "      <td>5809.911100</td>\n",
       "      <td>2</td>\n",
       "      <td>31.578017</td>\n",
       "    </tr>\n",
       "    <tr>\n",
       "      <th>11</th>\n",
       "      <td>7003.499363</td>\n",
       "      <td>3</td>\n",
       "      <td>53.397424</td>\n",
       "    </tr>\n",
       "    <tr>\n",
       "      <th>...</th>\n",
       "      <th>...</th>\n",
       "      <td>...</td>\n",
       "      <td>...</td>\n",
       "      <td>...</td>\n",
       "    </tr>\n",
       "    <tr>\n",
       "      <th rowspan=\"5\" valign=\"top\">699</th>\n",
       "      <th>6</th>\n",
       "      <td>4072.797406</td>\n",
       "      <td>1</td>\n",
       "      <td>16.575991</td>\n",
       "    </tr>\n",
       "    <tr>\n",
       "      <th>8</th>\n",
       "      <td>7018.324143</td>\n",
       "      <td>2</td>\n",
       "      <td>44.281768</td>\n",
       "    </tr>\n",
       "    <tr>\n",
       "      <th>9</th>\n",
       "      <td>6364.861911</td>\n",
       "      <td>2</td>\n",
       "      <td>30.282412</td>\n",
       "    </tr>\n",
       "    <tr>\n",
       "      <th>10</th>\n",
       "      <td>4707.845501</td>\n",
       "      <td>1</td>\n",
       "      <td>15.839579</td>\n",
       "    </tr>\n",
       "    <tr>\n",
       "      <th>12</th>\n",
       "      <td>3202.890770</td>\n",
       "      <td>1</td>\n",
       "      <td>25.217345</td>\n",
       "    </tr>\n",
       "  </tbody>\n",
       "</table>\n",
       "<p>4533 rows × 3 columns</p>\n",
       "</div>"
      ],
      "text/plain": [
       "                  distance  cnt_rides   duration\n",
       "user_id month                                   \n",
       "1       1      7027.511294          2  41.416640\n",
       "        4       754.159807          1   6.232113\n",
       "        8      6723.470560          2  44.776802\n",
       "        10     5809.911100          2  31.578017\n",
       "        11     7003.499363          3  53.397424\n",
       "...                    ...        ...        ...\n",
       "699     6      4072.797406          1  16.575991\n",
       "        8      7018.324143          2  44.281768\n",
       "        9      6364.861911          2  30.282412\n",
       "        10     4707.845501          1  15.839579\n",
       "        12     3202.890770          1  25.217345\n",
       "\n",
       "[4533 rows x 3 columns]"
      ]
     },
     "execution_count": 64,
     "metadata": {},
     "output_type": "execute_result"
    }
   ],
   "source": [
    "sub_pivot_table"
   ]
  },
  {
   "cell_type": "markdown",
   "id": "16dfe609",
   "metadata": {},
   "source": [
    "#### В этот же датафрейм добавьте столбец с помесячной выручкой, которую принёс каждый пользователь — обратитесь к информации об условиях оплаты для подписчиков и и тех, у кого нет подписки. Минуты при подсчёте стоимости округляются до ближайшего целого числа"
   ]
  },
  {
   "cell_type": "markdown",
   "id": "e752f3bf",
   "metadata": {},
   "source": [
    "Создадим функцию для расчета выручки"
   ]
  },
  {
   "cell_type": "code",
   "execution_count": 65,
   "id": "7d881b64",
   "metadata": {},
   "outputs": [],
   "source": [
    "def income(cnt_rides, duration, subscription_type):\n",
    "    try:\n",
    "        start_ride_price = sub_go[sub_go['subscription_type'] == subscription_type]['start_ride_price']\n",
    "        minute_price = sub_go[sub_go['subscription_type'] == subscription_type]['minute_price']\n",
    "        subscription_fee = sub_go[sub_go['subscription_type'] == subscription_type]['subscription_fee']\n",
    "        \n",
    "        income_value = (start_ride_price * cnt_rides) + (minute_price * round(duration)) + subscription_fee\n",
    "\n",
    "        return income_value\n",
    "    except:\n",
    "        return 0"
   ]
  },
  {
   "cell_type": "markdown",
   "id": "b90880cd",
   "metadata": {},
   "source": [
    "Добавляем колонку с выручкой во все таблицы"
   ]
  },
  {
   "cell_type": "code",
   "execution_count": 66,
   "id": "59038873",
   "metadata": {},
   "outputs": [],
   "source": [
    "unsub_pivot_table['income'] = unsub_pivot_table.apply(lambda x: income(x.cnt_rides, x.duration, 'free'), axis=1)"
   ]
  },
  {
   "cell_type": "code",
   "execution_count": 67,
   "id": "74bdfee9",
   "metadata": {},
   "outputs": [],
   "source": [
    "sub_pivot_table['income'] = sub_pivot_table.apply(lambda x: income(x.cnt_rides, x.duration, 'ultra'), axis=1)"
   ]
  },
  {
   "cell_type": "code",
   "execution_count": 68,
   "id": "cbeb2114",
   "metadata": {},
   "outputs": [],
   "source": [
    "all_pivot_table['income'] = all_pivot_table.apply(income_v2, axis=1)"
   ]
  },
  {
   "cell_type": "code",
   "execution_count": 69,
   "id": "5fd1c111",
   "metadata": {},
   "outputs": [
    {
     "data": {
      "text/html": [
       "<div>\n",
       "<style scoped>\n",
       "    .dataframe tbody tr th:only-of-type {\n",
       "        vertical-align: middle;\n",
       "    }\n",
       "\n",
       "    .dataframe tbody tr th {\n",
       "        vertical-align: top;\n",
       "    }\n",
       "\n",
       "    .dataframe thead th {\n",
       "        text-align: right;\n",
       "    }\n",
       "</style>\n",
       "<table border=\"1\" class=\"dataframe\">\n",
       "  <thead>\n",
       "    <tr style=\"text-align: right;\">\n",
       "      <th></th>\n",
       "      <th>user_id</th>\n",
       "      <th>month</th>\n",
       "      <th>distance</th>\n",
       "      <th>cnt_rides</th>\n",
       "      <th>duration</th>\n",
       "      <th>subscription_type</th>\n",
       "      <th>income</th>\n",
       "    </tr>\n",
       "  </thead>\n",
       "  <tbody>\n",
       "    <tr>\n",
       "      <th>0</th>\n",
       "      <td>1</td>\n",
       "      <td>1</td>\n",
       "      <td>7027.511294</td>\n",
       "      <td>2</td>\n",
       "      <td>41.416640</td>\n",
       "      <td>ultra</td>\n",
       "      <td>445</td>\n",
       "    </tr>\n",
       "    <tr>\n",
       "      <th>1</th>\n",
       "      <td>1</td>\n",
       "      <td>4</td>\n",
       "      <td>754.159807</td>\n",
       "      <td>1</td>\n",
       "      <td>6.232113</td>\n",
       "      <td>ultra</td>\n",
       "      <td>235</td>\n",
       "    </tr>\n",
       "    <tr>\n",
       "      <th>2</th>\n",
       "      <td>1</td>\n",
       "      <td>8</td>\n",
       "      <td>6723.470560</td>\n",
       "      <td>2</td>\n",
       "      <td>44.776802</td>\n",
       "      <td>ultra</td>\n",
       "      <td>469</td>\n",
       "    </tr>\n",
       "    <tr>\n",
       "      <th>3</th>\n",
       "      <td>1</td>\n",
       "      <td>10</td>\n",
       "      <td>5809.911100</td>\n",
       "      <td>2</td>\n",
       "      <td>31.578017</td>\n",
       "      <td>ultra</td>\n",
       "      <td>391</td>\n",
       "    </tr>\n",
       "    <tr>\n",
       "      <th>4</th>\n",
       "      <td>1</td>\n",
       "      <td>11</td>\n",
       "      <td>7003.499363</td>\n",
       "      <td>3</td>\n",
       "      <td>53.397424</td>\n",
       "      <td>ultra</td>\n",
       "      <td>517</td>\n",
       "    </tr>\n",
       "  </tbody>\n",
       "</table>\n",
       "</div>"
      ],
      "text/plain": [
       "   user_id  month     distance  cnt_rides   duration subscription_type  income\n",
       "0        1      1  7027.511294          2  41.416640             ultra     445\n",
       "1        1      4   754.159807          1   6.232113             ultra     235\n",
       "2        1      8  6723.470560          2  44.776802             ultra     469\n",
       "3        1     10  5809.911100          2  31.578017             ultra     391\n",
       "4        1     11  7003.499363          3  53.397424             ultra     517"
      ]
     },
     "execution_count": 69,
     "metadata": {},
     "output_type": "execute_result"
    }
   ],
   "source": [
    "# Код ревьюера\n",
    "all_pivot_table.head()"
   ]
  },
  {
   "cell_type": "code",
   "execution_count": 70,
   "id": "54c07430",
   "metadata": {},
   "outputs": [
    {
     "data": {
      "text/html": [
       "<div>\n",
       "<style scoped>\n",
       "    .dataframe tbody tr th:only-of-type {\n",
       "        vertical-align: middle;\n",
       "    }\n",
       "\n",
       "    .dataframe tbody tr th {\n",
       "        vertical-align: top;\n",
       "    }\n",
       "\n",
       "    .dataframe thead th {\n",
       "        text-align: right;\n",
       "    }\n",
       "</style>\n",
       "<table border=\"1\" class=\"dataframe\">\n",
       "  <thead>\n",
       "    <tr style=\"text-align: right;\">\n",
       "      <th></th>\n",
       "      <th>user_id</th>\n",
       "      <th>month</th>\n",
       "      <th>distance</th>\n",
       "      <th>cnt_rides</th>\n",
       "      <th>duration</th>\n",
       "      <th>subscription_type</th>\n",
       "      <th>income</th>\n",
       "    </tr>\n",
       "  </thead>\n",
       "  <tbody>\n",
       "    <tr>\n",
       "      <th>0</th>\n",
       "      <td>1</td>\n",
       "      <td>1</td>\n",
       "      <td>7027.511294</td>\n",
       "      <td>2</td>\n",
       "      <td>41.416640</td>\n",
       "      <td>ultra</td>\n",
       "      <td>445</td>\n",
       "    </tr>\n",
       "    <tr>\n",
       "      <th>1</th>\n",
       "      <td>1</td>\n",
       "      <td>4</td>\n",
       "      <td>754.159807</td>\n",
       "      <td>1</td>\n",
       "      <td>6.232113</td>\n",
       "      <td>ultra</td>\n",
       "      <td>235</td>\n",
       "    </tr>\n",
       "    <tr>\n",
       "      <th>2</th>\n",
       "      <td>1</td>\n",
       "      <td>8</td>\n",
       "      <td>6723.470560</td>\n",
       "      <td>2</td>\n",
       "      <td>44.776802</td>\n",
       "      <td>ultra</td>\n",
       "      <td>469</td>\n",
       "    </tr>\n",
       "    <tr>\n",
       "      <th>3</th>\n",
       "      <td>1</td>\n",
       "      <td>10</td>\n",
       "      <td>5809.911100</td>\n",
       "      <td>2</td>\n",
       "      <td>31.578017</td>\n",
       "      <td>ultra</td>\n",
       "      <td>391</td>\n",
       "    </tr>\n",
       "    <tr>\n",
       "      <th>4</th>\n",
       "      <td>1</td>\n",
       "      <td>11</td>\n",
       "      <td>7003.499363</td>\n",
       "      <td>3</td>\n",
       "      <td>53.397424</td>\n",
       "      <td>ultra</td>\n",
       "      <td>517</td>\n",
       "    </tr>\n",
       "    <tr>\n",
       "      <th>...</th>\n",
       "      <td>...</td>\n",
       "      <td>...</td>\n",
       "      <td>...</td>\n",
       "      <td>...</td>\n",
       "      <td>...</td>\n",
       "      <td>...</td>\n",
       "      <td>...</td>\n",
       "    </tr>\n",
       "    <tr>\n",
       "      <th>11326</th>\n",
       "      <td>1534</td>\n",
       "      <td>6</td>\n",
       "      <td>3409.468534</td>\n",
       "      <td>2</td>\n",
       "      <td>24.812678</td>\n",
       "      <td>free</td>\n",
       "      <td>300</td>\n",
       "    </tr>\n",
       "    <tr>\n",
       "      <th>11327</th>\n",
       "      <td>1534</td>\n",
       "      <td>8</td>\n",
       "      <td>7622.453034</td>\n",
       "      <td>2</td>\n",
       "      <td>47.205960</td>\n",
       "      <td>free</td>\n",
       "      <td>476</td>\n",
       "    </tr>\n",
       "    <tr>\n",
       "      <th>11328</th>\n",
       "      <td>1534</td>\n",
       "      <td>9</td>\n",
       "      <td>4928.173852</td>\n",
       "      <td>1</td>\n",
       "      <td>22.560373</td>\n",
       "      <td>free</td>\n",
       "      <td>234</td>\n",
       "    </tr>\n",
       "    <tr>\n",
       "      <th>11329</th>\n",
       "      <td>1534</td>\n",
       "      <td>11</td>\n",
       "      <td>13350.015305</td>\n",
       "      <td>4</td>\n",
       "      <td>76.342174</td>\n",
       "      <td>free</td>\n",
       "      <td>808</td>\n",
       "    </tr>\n",
       "    <tr>\n",
       "      <th>11330</th>\n",
       "      <td>1534</td>\n",
       "      <td>12</td>\n",
       "      <td>2371.711192</td>\n",
       "      <td>1</td>\n",
       "      <td>15.893917</td>\n",
       "      <td>free</td>\n",
       "      <td>178</td>\n",
       "    </tr>\n",
       "  </tbody>\n",
       "</table>\n",
       "<p>11331 rows × 7 columns</p>\n",
       "</div>"
      ],
      "text/plain": [
       "       user_id  month      distance  cnt_rides   duration subscription_type  \\\n",
       "0            1      1   7027.511294          2  41.416640             ultra   \n",
       "1            1      4    754.159807          1   6.232113             ultra   \n",
       "2            1      8   6723.470560          2  44.776802             ultra   \n",
       "3            1     10   5809.911100          2  31.578017             ultra   \n",
       "4            1     11   7003.499363          3  53.397424             ultra   \n",
       "...        ...    ...           ...        ...        ...               ...   \n",
       "11326     1534      6   3409.468534          2  24.812678              free   \n",
       "11327     1534      8   7622.453034          2  47.205960              free   \n",
       "11328     1534      9   4928.173852          1  22.560373              free   \n",
       "11329     1534     11  13350.015305          4  76.342174              free   \n",
       "11330     1534     12   2371.711192          1  15.893917              free   \n",
       "\n",
       "       income  \n",
       "0         445  \n",
       "1         235  \n",
       "2         469  \n",
       "3         391  \n",
       "4         517  \n",
       "...       ...  \n",
       "11326     300  \n",
       "11327     476  \n",
       "11328     234  \n",
       "11329     808  \n",
       "11330     178  \n",
       "\n",
       "[11331 rows x 7 columns]"
      ]
     },
     "execution_count": 70,
     "metadata": {},
     "output_type": "execute_result"
    }
   ],
   "source": [
    "all_pivot_table"
   ]
  },
  {
   "cell_type": "code",
   "execution_count": 71,
   "id": "fa8d2ec1",
   "metadata": {},
   "outputs": [
    {
     "data": {
      "text/html": [
       "<div>\n",
       "<style scoped>\n",
       "    .dataframe tbody tr th:only-of-type {\n",
       "        vertical-align: middle;\n",
       "    }\n",
       "\n",
       "    .dataframe tbody tr th {\n",
       "        vertical-align: top;\n",
       "    }\n",
       "\n",
       "    .dataframe thead th {\n",
       "        text-align: right;\n",
       "    }\n",
       "</style>\n",
       "<table border=\"1\" class=\"dataframe\">\n",
       "  <thead>\n",
       "    <tr style=\"text-align: right;\">\n",
       "      <th></th>\n",
       "      <th></th>\n",
       "      <th>distance</th>\n",
       "      <th>cnt_rides</th>\n",
       "      <th>duration</th>\n",
       "      <th>income</th>\n",
       "    </tr>\n",
       "    <tr>\n",
       "      <th>user_id</th>\n",
       "      <th>month</th>\n",
       "      <th></th>\n",
       "      <th></th>\n",
       "      <th></th>\n",
       "      <th></th>\n",
       "    </tr>\n",
       "  </thead>\n",
       "  <tbody>\n",
       "    <tr>\n",
       "      <th rowspan=\"5\" valign=\"top\">700</th>\n",
       "      <th>1</th>\n",
       "      <td>2515.690719</td>\n",
       "      <td>1</td>\n",
       "      <td>14.944286</td>\n",
       "      <td>170.0</td>\n",
       "    </tr>\n",
       "    <tr>\n",
       "      <th>2</th>\n",
       "      <td>13446.659764</td>\n",
       "      <td>5</td>\n",
       "      <td>85.829845</td>\n",
       "      <td>938.0</td>\n",
       "    </tr>\n",
       "    <tr>\n",
       "      <th>3</th>\n",
       "      <td>3798.334905</td>\n",
       "      <td>1</td>\n",
       "      <td>18.243756</td>\n",
       "      <td>194.0</td>\n",
       "    </tr>\n",
       "    <tr>\n",
       "      <th>4</th>\n",
       "      <td>2984.551206</td>\n",
       "      <td>1</td>\n",
       "      <td>15.424899</td>\n",
       "      <td>170.0</td>\n",
       "    </tr>\n",
       "    <tr>\n",
       "      <th>6</th>\n",
       "      <td>5927.650988</td>\n",
       "      <td>2</td>\n",
       "      <td>28.077657</td>\n",
       "      <td>324.0</td>\n",
       "    </tr>\n",
       "  </tbody>\n",
       "</table>\n",
       "</div>"
      ],
      "text/plain": [
       "                   distance  cnt_rides   duration  income\n",
       "user_id month                                            \n",
       "700     1       2515.690719          1  14.944286   170.0\n",
       "        2      13446.659764          5  85.829845   938.0\n",
       "        3       3798.334905          1  18.243756   194.0\n",
       "        4       2984.551206          1  15.424899   170.0\n",
       "        6       5927.650988          2  28.077657   324.0"
      ]
     },
     "execution_count": 71,
     "metadata": {},
     "output_type": "execute_result"
    }
   ],
   "source": [
    "unsub_pivot_table.head()"
   ]
  },
  {
   "cell_type": "code",
   "execution_count": 72,
   "id": "d86e7ea1",
   "metadata": {},
   "outputs": [
    {
     "name": "stdout",
     "output_type": "stream",
     "text": [
      "321.7840541335687\n"
     ]
    },
    {
     "data": {
      "text/plain": [
       "358.5380542686962"
      ]
     },
     "execution_count": 72,
     "metadata": {},
     "output_type": "execute_result"
    }
   ],
   "source": [
    "# Код ревьюера\n",
    "print(unsub_pivot_table['income'].mean())\n",
    "sub_pivot_table['income'].mean()"
   ]
  },
  {
   "cell_type": "markdown",
   "id": "41545ac0",
   "metadata": {},
   "source": [
    "### Шаг 6. Проверка гипотез"
   ]
  },
  {
   "cell_type": "markdown",
   "id": "ec3fbd31",
   "metadata": {},
   "source": [
    "#### Важно понять, тратят ли пользователи с подпиской больше времени на поездки? Если да, то действительно ли пользователи с подпиской «выгоднее» для компании. Проверьте гипотезу. Используйте исходные данные о продолжительности каждой сессии — отдельно для подписчиков и тех, у кого нет подписки"
   ]
  },
  {
   "cell_type": "markdown",
   "id": "99cdde76",
   "metadata": {},
   "source": [
    "- **Нулевая гипотеза:** пользователи с подпиской тратят больше время на поездки, чем пользователи без подписки.\n",
    "- **Альтернативная гипотеза:** пользователи с подпиской тратят НЕ больше время на поездки, чем пользователи без подписки"
   ]
  },
  {
   "cell_type": "code",
   "execution_count": 73,
   "id": "5c495428",
   "metadata": {},
   "outputs": [
    {
     "name": "stdout",
     "output_type": "stream",
     "text": [
      "p-значение: 1.0\n",
      "Не получилось отвергнуть нулевую гипотезу\n"
     ]
    }
   ],
   "source": [
    "alpha = 0.05 # уровень статистической значимости\n",
    "\n",
    "results = st.ttest_1samp(all_data_sub['duration'], \n",
    "                         all_data_unsub['duration'].mean(),\n",
    "                         alternative='less')\n",
    "\n",
    "print('p-значение:', results.pvalue)\n",
    "\n",
    "if results.pvalue < alpha:\n",
    "    print('Отвергаем нулевую гипотезу')\n",
    "else:\n",
    "    print('Не получилось отвергнуть нулевую гипотезу') "
   ]
  },
  {
   "cell_type": "code",
   "execution_count": 74,
   "id": "f5d165d9",
   "metadata": {
    "scrolled": true
   },
   "outputs": [
    {
     "name": "stdout",
     "output_type": "stream",
     "text": [
      "p-значение: 1.0 - похоже время, которое пользователи с подпиской тратят на поездки выше\n"
     ]
    }
   ],
   "source": [
    "print(f'p-значение: {results.pvalue} - похоже время, которое пользователи с подпиской тратят на поездки выше')"
   ]
  },
  {
   "cell_type": "markdown",
   "id": "6dfa8c1b",
   "metadata": {},
   "source": [
    "#### Расстояние одной поездки в 3130 метров — оптимальное с точки зрения износа самоката. Можно ли сказать, что расстояние, которое проезжают пользователи с подпиской за одну поездку, не превышает 3130 метров? Проверьте гипотезу и сделайте выводы."
   ]
  },
  {
   "cell_type": "markdown",
   "id": "ce3d3892",
   "metadata": {},
   "source": [
    "- **Нулевая гипотеза:** пользователи с подпиской проезжают расстояние равное 3130 метров или меньше за одну поездку.\n",
    "- **Альтернативная гипотеза:** пользователи с подпиской проезжают больше 3130 метров за одну поездку"
   ]
  },
  {
   "cell_type": "code",
   "execution_count": 75,
   "id": "02b26e66",
   "metadata": {},
   "outputs": [
    {
     "name": "stdout",
     "output_type": "stream",
     "text": [
      "p-значение: 0.9195368847849785\n",
      "Не получилось отвергнуть нулевую гипотезу\n"
     ]
    }
   ],
   "source": [
    "optimal_ride_dist = 3130 # оптимальное с точки зрения износа самоката\n",
    "\n",
    "alpha = 0.05 # уровень статистической значимости\n",
    "            # можно указать .05 или 0.05\n",
    "\n",
    "results = st.ttest_1samp(all_data_sub['distance'],\n",
    "                         optimal_ride_dist,\n",
    "                         alternative='greater')\n",
    "\n",
    "print('p-значение:', results.pvalue)\n",
    "\n",
    "if results.pvalue < alpha:\n",
    "    print('Отвергаем нулевую гипотезу')\n",
    "else:\n",
    "    print('Не получилось отвергнуть нулевую гипотезу')"
   ]
  },
  {
   "cell_type": "code",
   "execution_count": 76,
   "id": "e5188e79",
   "metadata": {},
   "outputs": [
    {
     "name": "stdout",
     "output_type": "stream",
     "text": [
      "p-значение: 0.9195368847849785 - достаточно большое. Посмотрим соотношение таких поездок к общему числу поездок пользователей с подпиской 0.4846153846153846. Таких поездок меньше половины\n"
     ]
    }
   ],
   "source": [
    "print(f\"p-значение: {results.pvalue} - достаточно большое. Посмотрим соотношение таких поездок к общему числу поездок пользователей с подпиской {len(all_data_sub[all_data_sub['distance'] <= 3130]['distance'])/len(all_data_sub)}. Таких поездок меньше половины\")"
   ]
  },
  {
   "cell_type": "markdown",
   "id": "c463d78f",
   "metadata": {},
   "source": [
    "Износ самокатов у платных подписчиков оптимален"
   ]
  },
  {
   "cell_type": "markdown",
   "id": "7b79d418",
   "metadata": {},
   "source": [
    "#### Проверьте гипотезу о том, будет ли помесячная выручка от пользователей с подпиской по месяцам выше, чем выручка от пользователей без подписки. Сделайте вывод."
   ]
  },
  {
   "cell_type": "markdown",
   "id": "ea4dab1b",
   "metadata": {},
   "source": [
    "- **Нулевая гипотеза:** помесячная выручка у пользователей с подпиской равна выручке пользователей без подписки.\n",
    "- **Альтернативная гипотеза:** помесячная выручка у пользователей с подпиской ниже, чем у пользователей без подписки."
   ]
  },
  {
   "cell_type": "code",
   "execution_count": 77,
   "id": "6345ef49",
   "metadata": {},
   "outputs": [
    {
     "name": "stdout",
     "output_type": "stream",
     "text": [
      "p-значение: 1.0\n",
      "Не получилось отвергнуть нулевую гипотезу\n"
     ]
    }
   ],
   "source": [
    "alpha = 0.05 # уровень статистической значимости\n",
    "\n",
    "results = st.ttest_1samp(sub_pivot_table['income'],\n",
    "                         unsub_pivot_table['income'].mean(),\n",
    "                         alternative='less')\n",
    "\n",
    "print('p-значение:', results.pvalue)\n",
    "\n",
    "if results.pvalue < alpha:\n",
    "    print('Отвергаем нулевую гипотезу')\n",
    "else:\n",
    "    print('Не получилось отвергнуть нулевую гипотезу') "
   ]
  },
  {
   "cell_type": "markdown",
   "id": "4809920d",
   "metadata": {},
   "source": [
    "По-видемому, помесячная выручка у пользователей с подпиской больше выручки от пользователей без подписки"
   ]
  },
  {
   "cell_type": "markdown",
   "id": "4f22f4c4",
   "metadata": {},
   "source": [
    "#### Представьте такую ситуацию: техническая команда сервиса обновила сервера, с которыми взаимодействует мобильное приложение. Она надеется, что из-за этого количество обращений в техподдержку значимо снизилось. Некоторый файл содержит для каждого пользователя данные о количестве обращений до обновления и после него. Какой тест вам понадобился бы для проверки этой гипотезы?"
   ]
  },
  {
   "cell_type": "markdown",
   "id": "078f6ab5",
   "metadata": {},
   "source": [
    "Нам нужно провести \"Проверку равенстве средних для зависимых (парных) выборок\" (st.ttest_rel), где данные до и после обновления"
   ]
  },
  {
   "cell_type": "markdown",
   "id": "61213c5e",
   "metadata": {},
   "source": [
    "### Шаг 7. Распределения"
   ]
  },
  {
   "cell_type": "markdown",
   "id": "a608f254",
   "metadata": {},
   "source": [
    "7.1 Отделу маркетинга GoFast поставили задачу: нужно провести акцию с раздачей промокодов на один бесплатный месяц подписки, в рамках которой как минимум 100 существующих клиентов должны продлить эту подписку. То есть по завершении периода действия подписки пользователь может либо отказаться от неё, либо продлить, совершив соотвествующий платёж. \n",
    "Эта акция уже проводилась ранее и по итогу выяснилось, что после бесплатного пробного периода подписку продлевают 10 % пользователей. Выясните, какое минимальное количество промокодов нужно разослать, чтобы вероятность не выполнить план была примерно 5 %. Подберите параметры распределения, описывающего эту ситуацию, постройте график распределения и сформулируйте ответ на вопрос о количестве промокодов."
   ]
  },
  {
   "cell_type": "code",
   "execution_count": 78,
   "id": "f1d03866",
   "metadata": {},
   "outputs": [
    {
     "name": "stderr",
     "output_type": "stream",
     "text": [
      "C:\\Users\\user\\anaconda3\\lib\\site-packages\\scipy\\stats\\_discrete_distns.py:78: RuntimeWarning: divide by zero encountered in _binom_pdf\n",
      "  return _boost._binom_pdf(x, n, p)\n"
     ]
    },
    {
     "data": {
      "image/png": "[encoded data removed]",
      "text/plain": [
       "<Figure size 640x480 with 1 Axes>"
      ]
     },
     "metadata": {},
     "output_type": "display_data"
    }
   ],
   "source": [
    "n = 1000\n",
    "p = 0.1\n",
    "\n",
    "distr = []\n",
    "\n",
    "for k in range(0, n + 1):\n",
    "    current_value = binom.pmf(k, n, p)\n",
    "    distr.append(current_value)\n",
    "\n",
    "    \n",
    "plt.bar(range(0, n + 1), distr)\n",
    "plt.xlim(50,150);\n"
   ]
  },
  {
   "cell_type": "code",
   "execution_count": 79,
   "id": "eb22ac4a",
   "metadata": {},
   "outputs": [
    {
     "data": {
      "text/plain": [
       "[110, 0.36553956160455514]"
      ]
     },
     "execution_count": 79,
     "metadata": {},
     "output_type": "execute_result"
    }
   ],
   "source": [
    "def cdf():\n",
    "    min_n = 100\n",
    "    p = 0.1\n",
    "    p_1 = 0\n",
    "#     while p_1 < 0.95:\n",
    "    for k in range(0, 10):\n",
    "        p_1 += binom.pmf(k, min_n, p)\n",
    "        min_n +=1\n",
    "    return [min_n, p_1]\n",
    "\n",
    "        \n",
    "cdf()"
   ]
  },
  {
   "cell_type": "markdown",
   "id": "b242887d",
   "metadata": {},
   "source": [
    "## Общий вывод\n",
    "\n",
    "Полученные данные представлены без пропусков, почти все типы данных определены верно. Убрали дубликаты из таблицы с пользователями. Добавили столбец номер месяца поездки в таблицу с поездками. Создали сводные таблици с типом подписки и месяцем поездки. Для помесячных данных посчитали выручку.\n",
    "\n",
    "Проверили ряд гипотез:\n",
    "1. Тратят ли пользователи с подпиской больше время на одну поездку - **тратят**\n",
    "2. Оптимальны ли поездки пользователей с подпиской для износа самоката - **оптимальны**\n",
    "3. Помесячная выручка пользователей с подпиской выше - **выше**"
   ]
  },
  {
   "cell_type": "markdown",
   "id": "33fc82bb",
   "metadata": {},
   "source": [
    "Мы получали данные из 8 городов. Больше всего данных из Пятигорска, меньше всего - Москва"
   ]
  },
  {
   "cell_type": "code",
   "execution_count": 80,
   "id": "60e87ef2",
   "metadata": {
    "scrolled": true
   },
   "outputs": [
    {
     "data": {
      "image/png": "[encoded data removed]",
      "text/plain": [
       "<Figure size 1500x400 with 1 Axes>"
      ]
     },
     "metadata": {},
     "output_type": "display_data"
    }
   ],
   "source": [
    "ax = p1.plot.barh(figsize=(15,4), legend=False)\n",
    "ax.set_xlabel(\"частота встречаемости городов\")\n",
    "ax.set_ylabel(\"города\")\n",
    "plt.suptitle('Частота встречаемости городов', fontsize = 22, color = 'SteelBlue');"
   ]
  },
  {
   "cell_type": "markdown",
   "id": "4637dff8",
   "metadata": {},
   "source": [
    "Пользователей с подпиской оказалось меньше, 44% против 56% пользователей с подпиской"
   ]
  },
  {
   "cell_type": "code",
   "execution_count": 81,
   "id": "64da7533",
   "metadata": {
    "scrolled": true
   },
   "outputs": [
    {
     "data": {
      "image/png": "[encoded data removed]",
      "text/plain": [
       "<Figure size 640x480 with 1 Axes>"
      ]
     },
     "metadata": {},
     "output_type": "display_data"
    }
   ],
   "source": [
    "# Create a pieplot\n",
    "plt.pie(p2.ratio, labels=p2.index, wedgeprops = { 'linewidth' : 7, 'edgecolor' : 'white' }, autopct='%1.1f%%')\n",
    "\n",
    "# add a circle at the center to transform it in a donut chart\n",
    "my_circle=plt.Circle( (0,0), 0.7, color='white')\n",
    "\n",
    "p=plt.gcf()\n",
    "p.gca().add_artist(my_circle)\n",
    "plt.suptitle('Соотношение пользователей с подпиской', fontsize = 22, color = 'SteelBlue')\n",
    "plt.show()"
   ]
  },
  {
   "cell_type": "markdown",
   "id": "2073947f",
   "metadata": {},
   "source": [
    "Средний возрас пользователей - 25 лет. Основная часть пользователей 20-30 лет"
   ]
  },
  {
   "cell_type": "code",
   "execution_count": 82,
   "id": "9a25a8d1",
   "metadata": {},
   "outputs": [
    {
     "data": {
      "image/png": "[encoded data removed]",
      "text/plain": [
       "<Figure size 1300x500 with 1 Axes>"
      ]
     },
     "metadata": {},
     "output_type": "display_data"
    }
   ],
   "source": [
    "users_go.plot(\n",
    "    kind='hist',\n",
    "    y='age',\n",
    "    histtype='bar',\n",
    "    bins=users_go['age'].nunique()+1,\n",
    "    grid=True,\n",
    "    figsize=(13,5)\n",
    ")\n",
    "plt.suptitle('Средний возрас пользователей', fontsize = 22, color = 'SteelBlue');"
   ]
  },
  {
   "cell_type": "code",
   "execution_count": 83,
   "id": "1b960b50",
   "metadata": {
    "scrolled": true
   },
   "outputs": [
    {
     "data": {
      "text/html": [
       "<div>\n",
       "<style scoped>\n",
       "    .dataframe tbody tr th:only-of-type {\n",
       "        vertical-align: middle;\n",
       "    }\n",
       "\n",
       "    .dataframe tbody tr th {\n",
       "        vertical-align: top;\n",
       "    }\n",
       "\n",
       "    .dataframe thead th {\n",
       "        text-align: right;\n",
       "    }\n",
       "</style>\n",
       "<table border=\"1\" class=\"dataframe\">\n",
       "  <thead>\n",
       "    <tr style=\"text-align: right;\">\n",
       "      <th></th>\n",
       "      <th>user_id</th>\n",
       "      <th>age</th>\n",
       "    </tr>\n",
       "  </thead>\n",
       "  <tbody>\n",
       "    <tr>\n",
       "      <th>count</th>\n",
       "      <td>1534.000000</td>\n",
       "      <td>1534.000000</td>\n",
       "    </tr>\n",
       "    <tr>\n",
       "      <th>mean</th>\n",
       "      <td>767.500000</td>\n",
       "      <td>24.903520</td>\n",
       "    </tr>\n",
       "    <tr>\n",
       "      <th>std</th>\n",
       "      <td>442.971971</td>\n",
       "      <td>4.572367</td>\n",
       "    </tr>\n",
       "    <tr>\n",
       "      <th>min</th>\n",
       "      <td>1.000000</td>\n",
       "      <td>12.000000</td>\n",
       "    </tr>\n",
       "    <tr>\n",
       "      <th>25%</th>\n",
       "      <td>384.250000</td>\n",
       "      <td>22.000000</td>\n",
       "    </tr>\n",
       "    <tr>\n",
       "      <th>50%</th>\n",
       "      <td>767.500000</td>\n",
       "      <td>25.000000</td>\n",
       "    </tr>\n",
       "    <tr>\n",
       "      <th>75%</th>\n",
       "      <td>1150.750000</td>\n",
       "      <td>28.000000</td>\n",
       "    </tr>\n",
       "    <tr>\n",
       "      <th>max</th>\n",
       "      <td>1534.000000</td>\n",
       "      <td>43.000000</td>\n",
       "    </tr>\n",
       "  </tbody>\n",
       "</table>\n",
       "</div>"
      ],
      "text/plain": [
       "           user_id          age\n",
       "count  1534.000000  1534.000000\n",
       "mean    767.500000    24.903520\n",
       "std     442.971971     4.572367\n",
       "min       1.000000    12.000000\n",
       "25%     384.250000    22.000000\n",
       "50%     767.500000    25.000000\n",
       "75%    1150.750000    28.000000\n",
       "max    1534.000000    43.000000"
      ]
     },
     "execution_count": 83,
     "metadata": {},
     "output_type": "execute_result"
    }
   ],
   "source": [
    "users_go.describe()"
   ]
  },
  {
   "cell_type": "markdown",
   "id": "04183419",
   "metadata": {},
   "source": [
    "За одну поездку преодолевалось до 7 км.\n",
    "\n",
    "Совершались, как короткие поездки (средняя дистанция 700 м.), так и длинные (средняя дистанция 3000 м.)"
   ]
  },
  {
   "cell_type": "code",
   "execution_count": 84,
   "id": "e532ff45",
   "metadata": {},
   "outputs": [
    {
     "data": {
      "image/png": "[encoded data removed]",
      "text/plain": [
       "<Figure size 1300x500 with 1 Axes>"
      ]
     },
     "metadata": {},
     "output_type": "display_data"
    }
   ],
   "source": [
    "rides_go.plot(\n",
    "    kind='hist',\n",
    "    y='distance',\n",
    "    histtype='bar',\n",
    "    bins=80,\n",
    "    grid=True,\n",
    "    figsize=(13,5)\n",
    ")\n",
    "plt.suptitle('Пройденное расстояние за поездку', fontsize = 22, color = 'SteelBlue');"
   ]
  },
  {
   "cell_type": "markdown",
   "id": "5efa50ff",
   "metadata": {},
   "source": [
    "Пользователи с подпиской и без подписки тратят примерно одинаковое время на поездки 13-23 минуты.\n",
    "\n",
    "В нашей выборке пользователи с подпиской максимальная поездка составляла более 40 минут, у пользователей без подписки - 35 минут.\n",
    "\n",
    "Так же, как и с пройденым расстоянием, у пользователей без подписки есть поездки, в которых время составляет 1 минуту. Возможно это поездки неопытхых пользователей, которые не смогли разобраться и завершили поездку сразу"
   ]
  },
  {
   "cell_type": "code",
   "execution_count": 85,
   "id": "30fc93ce",
   "metadata": {},
   "outputs": [
    {
     "data": {
      "image/png": "[encoded data removed]",
      "text/plain": [
       "<Figure size 1300x500 with 1 Axes>"
      ]
     },
     "metadata": {},
     "output_type": "display_data"
    }
   ],
   "source": [
    "ax2 = all_data_unsub.plot(\n",
    "        kind='hist',\n",
    "        y='duration',\n",
    "        histtype='bar',\n",
    "        label='Без подписки',\n",
    "        bins=50\n",
    "    );\n",
    "\n",
    "all_data_sub.plot(\n",
    "    kind='hist',\n",
    "    y='duration',\n",
    "    histtype='bar',\n",
    "    bins=50,\n",
    "    grid=True,\n",
    "    legend=True,\n",
    "    figsize=(13,5),\n",
    "    label='С Подпиской',\n",
    "    ax=ax2\n",
    ");\n",
    "plt.suptitle('Продолжительность поездки пользователей', fontsize = 22, color = 'SteelBlue');\n",
    "plt.show()"
   ]
  },
  {
   "cell_type": "code",
   "execution_count": null,
   "id": "84e24fb7",
   "metadata": {},
   "outputs": [],
   "source": []
  }
 ],
 "metadata": {
  "ExecuteTimeLog": [
   {
    "duration": 405,
    "start_time": "2023-05-01T09:58:17.729Z"
   },
   {
    "duration": 84,
    "start_time": "2023-05-01T09:58:19.232Z"
   },
   {
    "duration": 12,
    "start_time": "2023-05-01T09:58:19.939Z"
   },
   {
    "duration": 28,
    "start_time": "2023-05-01T09:58:37.608Z"
   },
   {
    "duration": 8,
    "start_time": "2023-05-01T09:58:39.592Z"
   },
   {
    "duration": 81,
    "start_time": "2023-05-01T09:59:24.100Z"
   },
   {
    "duration": 9,
    "start_time": "2023-05-01T09:59:28.608Z"
   },
   {
    "duration": 66,
    "start_time": "2023-05-01T10:00:37.645Z"
   },
   {
    "duration": 39,
    "start_time": "2023-05-01T10:00:46.242Z"
   },
   {
    "duration": 52,
    "start_time": "2023-05-01T10:00:46.820Z"
   },
   {
    "duration": 8,
    "start_time": "2023-05-01T10:00:47.674Z"
   },
   {
    "duration": 12,
    "start_time": "2023-05-01T10:00:51.724Z"
   },
   {
    "duration": 12,
    "start_time": "2023-05-01T10:00:56.412Z"
   },
   {
    "duration": 11,
    "start_time": "2023-05-01T10:01:00.659Z"
   },
   {
    "duration": 9,
    "start_time": "2023-05-01T10:01:48.141Z"
   },
   {
    "duration": 8,
    "start_time": "2023-05-01T10:01:49.412Z"
   },
   {
    "duration": 7,
    "start_time": "2023-05-01T10:01:50.439Z"
   },
   {
    "duration": 6,
    "start_time": "2023-05-01T10:05:51.117Z"
   },
   {
    "duration": 7,
    "start_time": "2023-05-01T10:05:52.096Z"
   },
   {
    "duration": 8,
    "start_time": "2023-05-01T10:05:52.650Z"
   },
   {
    "duration": 8,
    "start_time": "2023-05-01T10:11:23.645Z"
   },
   {
    "duration": 7,
    "start_time": "2023-05-01T10:11:24.490Z"
   },
   {
    "duration": 13,
    "start_time": "2023-05-01T10:11:30.397Z"
   },
   {
    "duration": 7,
    "start_time": "2023-05-01T10:12:39.497Z"
   },
   {
    "duration": 13,
    "start_time": "2023-05-01T10:12:52.322Z"
   },
   {
    "duration": 13,
    "start_time": "2023-05-01T10:13:00.100Z"
   },
   {
    "duration": 17,
    "start_time": "2023-05-01T10:17:00.627Z"
   },
   {
    "duration": 23,
    "start_time": "2023-05-01T10:17:05.406Z"
   },
   {
    "duration": 17,
    "start_time": "2023-05-01T10:17:06.548Z"
   },
   {
    "duration": 6,
    "start_time": "2023-05-01T10:18:54.751Z"
   },
   {
    "duration": 7,
    "start_time": "2023-05-01T10:18:55.330Z"
   },
   {
    "duration": 6,
    "start_time": "2023-05-01T10:18:55.797Z"
   },
   {
    "duration": 423,
    "start_time": "2023-05-01T10:21:37.731Z"
   },
   {
    "duration": 29,
    "start_time": "2023-05-01T10:21:38.156Z"
   },
   {
    "duration": 29,
    "start_time": "2023-05-01T10:21:38.187Z"
   },
   {
    "duration": 17,
    "start_time": "2023-05-01T10:21:38.219Z"
   },
   {
    "duration": 20,
    "start_time": "2023-05-01T10:21:38.238Z"
   },
   {
    "duration": 21,
    "start_time": "2023-05-01T10:21:38.260Z"
   },
   {
    "duration": 18,
    "start_time": "2023-05-01T10:21:38.282Z"
   },
   {
    "duration": 21,
    "start_time": "2023-05-01T10:21:38.302Z"
   },
   {
    "duration": 38,
    "start_time": "2023-05-01T10:21:38.325Z"
   },
   {
    "duration": 27,
    "start_time": "2023-05-01T10:21:38.365Z"
   },
   {
    "duration": 46,
    "start_time": "2023-05-01T10:21:38.394Z"
   },
   {
    "duration": 28,
    "start_time": "2023-05-01T10:21:38.442Z"
   },
   {
    "duration": 17,
    "start_time": "2023-05-01T10:21:38.472Z"
   },
   {
    "duration": 17,
    "start_time": "2023-05-01T10:21:38.490Z"
   },
   {
    "duration": 30,
    "start_time": "2023-05-01T10:21:38.508Z"
   },
   {
    "duration": 12,
    "start_time": "2023-05-01T10:21:38.540Z"
   },
   {
    "duration": 26,
    "start_time": "2023-05-01T10:21:38.554Z"
   },
   {
    "duration": 20,
    "start_time": "2023-05-01T10:21:38.582Z"
   },
   {
    "duration": 26,
    "start_time": "2023-05-01T10:21:38.603Z"
   },
   {
    "duration": 17,
    "start_time": "2023-05-01T10:21:38.631Z"
   },
   {
    "duration": 8,
    "start_time": "2023-05-01T10:33:18.993Z"
   },
   {
    "duration": 9,
    "start_time": "2023-05-01T10:33:19.738Z"
   },
   {
    "duration": 5,
    "start_time": "2023-05-01T10:33:20.440Z"
   },
   {
    "duration": 5,
    "start_time": "2023-05-01T10:34:35.885Z"
   },
   {
    "duration": 4,
    "start_time": "2023-05-01T10:36:59.048Z"
   },
   {
    "duration": 6,
    "start_time": "2023-05-01T10:36:59.721Z"
   },
   {
    "duration": 7,
    "start_time": "2023-05-01T10:37:00.212Z"
   },
   {
    "duration": 10,
    "start_time": "2023-05-01T10:39:33.452Z"
   },
   {
    "duration": 76,
    "start_time": "2023-05-01T10:39:35.125Z"
   },
   {
    "duration": 4,
    "start_time": "2023-05-01T10:39:40.211Z"
   },
   {
    "duration": 10,
    "start_time": "2023-05-01T10:39:41.620Z"
   },
   {
    "duration": 6,
    "start_time": "2023-05-01T10:41:13.148Z"
   },
   {
    "duration": 8,
    "start_time": "2023-05-01T10:41:13.653Z"
   },
   {
    "duration": 5,
    "start_time": "2023-05-01T10:41:14.214Z"
   },
   {
    "duration": 4,
    "start_time": "2023-05-01T10:41:51.509Z"
   },
   {
    "duration": 5,
    "start_time": "2023-05-01T10:41:52.234Z"
   },
   {
    "duration": 5,
    "start_time": "2023-05-01T10:41:59.992Z"
   },
   {
    "duration": 411,
    "start_time": "2023-05-01T10:42:14.227Z"
   },
   {
    "duration": 29,
    "start_time": "2023-05-01T10:42:14.640Z"
   },
   {
    "duration": 28,
    "start_time": "2023-05-01T10:42:14.671Z"
   },
   {
    "duration": 15,
    "start_time": "2023-05-01T10:42:14.701Z"
   },
   {
    "duration": 15,
    "start_time": "2023-05-01T10:42:14.718Z"
   },
   {
    "duration": 10,
    "start_time": "2023-05-01T10:42:14.735Z"
   },
   {
    "duration": 13,
    "start_time": "2023-05-01T10:42:14.747Z"
   },
   {
    "duration": 15,
    "start_time": "2023-05-01T10:42:14.762Z"
   },
   {
    "duration": 13,
    "start_time": "2023-05-01T10:42:14.779Z"
   },
   {
    "duration": 12,
    "start_time": "2023-05-01T10:42:14.817Z"
   },
   {
    "duration": 15,
    "start_time": "2023-05-01T10:42:14.831Z"
   },
   {
    "duration": 21,
    "start_time": "2023-05-01T10:42:14.848Z"
   },
   {
    "duration": 49,
    "start_time": "2023-05-01T10:42:14.870Z"
   },
   {
    "duration": 7,
    "start_time": "2023-05-01T10:42:14.921Z"
   },
   {
    "duration": 12,
    "start_time": "2023-05-01T10:42:14.930Z"
   },
   {
    "duration": 11,
    "start_time": "2023-05-01T10:42:14.943Z"
   },
   {
    "duration": 15,
    "start_time": "2023-05-01T10:42:14.955Z"
   },
   {
    "duration": 12,
    "start_time": "2023-05-01T10:42:14.972Z"
   },
   {
    "duration": 10,
    "start_time": "2023-05-01T10:42:14.986Z"
   },
   {
    "duration": 42,
    "start_time": "2023-05-01T10:42:14.997Z"
   },
   {
    "duration": 20,
    "start_time": "2023-05-01T10:42:15.041Z"
   },
   {
    "duration": 16,
    "start_time": "2023-05-01T10:42:15.063Z"
   },
   {
    "duration": 6,
    "start_time": "2023-05-01T10:42:15.081Z"
   },
   {
    "duration": 12,
    "start_time": "2023-05-01T10:42:15.089Z"
   },
   {
    "duration": 18,
    "start_time": "2023-05-01T10:42:15.103Z"
   },
   {
    "duration": 12,
    "start_time": "2023-05-01T10:42:15.123Z"
   },
   {
    "duration": 21,
    "start_time": "2023-05-01T10:42:15.137Z"
   },
   {
    "duration": 16,
    "start_time": "2023-05-01T10:42:15.161Z"
   },
   {
    "duration": 28,
    "start_time": "2023-05-01T10:42:15.179Z"
   },
   {
    "duration": 22,
    "start_time": "2023-05-01T10:42:15.208Z"
   },
   {
    "duration": 6,
    "start_time": "2023-05-01T10:42:15.232Z"
   },
   {
    "duration": 19,
    "start_time": "2023-05-01T10:42:15.239Z"
   },
   {
    "duration": 5,
    "start_time": "2023-05-01T10:42:43.315Z"
   },
   {
    "duration": 5,
    "start_time": "2023-05-01T10:42:45.593Z"
   },
   {
    "duration": 5,
    "start_time": "2023-05-01T10:42:51.400Z"
   },
   {
    "duration": 3,
    "start_time": "2023-05-01T10:42:51.915Z"
   },
   {
    "duration": 6,
    "start_time": "2023-05-01T10:42:53.028Z"
   },
   {
    "duration": 8,
    "start_time": "2023-05-01T10:42:53.236Z"
   },
   {
    "duration": 6,
    "start_time": "2023-05-01T10:42:53.705Z"
   },
   {
    "duration": 4,
    "start_time": "2023-05-01T10:42:54.115Z"
   },
   {
    "duration": 4,
    "start_time": "2023-05-01T10:42:54.845Z"
   },
   {
    "duration": 4,
    "start_time": "2023-05-01T10:42:55.395Z"
   },
   {
    "duration": 6,
    "start_time": "2023-05-01T10:43:10.609Z"
   },
   {
    "duration": 68,
    "start_time": "2023-05-01T10:43:27.696Z"
   },
   {
    "duration": 6,
    "start_time": "2023-05-01T10:43:53.155Z"
   },
   {
    "duration": 7,
    "start_time": "2023-05-01T10:46:38.738Z"
   },
   {
    "duration": 4,
    "start_time": "2023-05-01T10:46:40.408Z"
   },
   {
    "duration": 6,
    "start_time": "2023-05-01T10:47:22.148Z"
   },
   {
    "duration": 13,
    "start_time": "2023-05-01T10:47:23.203Z"
   },
   {
    "duration": 427,
    "start_time": "2023-05-01T10:47:42.027Z"
   },
   {
    "duration": 31,
    "start_time": "2023-05-01T10:47:42.457Z"
   },
   {
    "duration": 38,
    "start_time": "2023-05-01T10:47:42.491Z"
   },
   {
    "duration": 16,
    "start_time": "2023-05-01T10:47:42.532Z"
   },
   {
    "duration": 30,
    "start_time": "2023-05-01T10:47:42.550Z"
   },
   {
    "duration": 43,
    "start_time": "2023-05-01T10:47:42.582Z"
   },
   {
    "duration": 23,
    "start_time": "2023-05-01T10:47:42.628Z"
   },
   {
    "duration": 40,
    "start_time": "2023-05-01T10:47:42.654Z"
   },
   {
    "duration": 22,
    "start_time": "2023-05-01T10:47:42.696Z"
   },
   {
    "duration": 11,
    "start_time": "2023-05-01T10:47:42.722Z"
   },
   {
    "duration": 25,
    "start_time": "2023-05-01T10:47:42.735Z"
   },
   {
    "duration": 19,
    "start_time": "2023-05-01T10:47:42.762Z"
   },
   {
    "duration": 40,
    "start_time": "2023-05-01T10:47:42.782Z"
   },
   {
    "duration": 7,
    "start_time": "2023-05-01T10:47:42.823Z"
   },
   {
    "duration": 12,
    "start_time": "2023-05-01T10:47:42.832Z"
   },
   {
    "duration": 6,
    "start_time": "2023-05-01T10:47:42.845Z"
   },
   {
    "duration": 16,
    "start_time": "2023-05-01T10:47:42.853Z"
   },
   {
    "duration": 20,
    "start_time": "2023-05-01T10:47:42.870Z"
   },
   {
    "duration": 26,
    "start_time": "2023-05-01T10:47:42.892Z"
   },
   {
    "duration": 25,
    "start_time": "2023-05-01T10:47:42.919Z"
   },
   {
    "duration": 8,
    "start_time": "2023-05-01T10:47:42.946Z"
   },
   {
    "duration": 11,
    "start_time": "2023-05-01T10:47:42.956Z"
   },
   {
    "duration": 13,
    "start_time": "2023-05-01T10:47:42.969Z"
   },
   {
    "duration": 14,
    "start_time": "2023-05-01T10:47:42.984Z"
   },
   {
    "duration": 13,
    "start_time": "2023-05-01T10:47:42.999Z"
   },
   {
    "duration": 7,
    "start_time": "2023-05-01T10:47:43.017Z"
   },
   {
    "duration": 59,
    "start_time": "2023-05-01T10:48:56.551Z"
   },
   {
    "duration": 85,
    "start_time": "2023-05-01T10:50:53.518Z"
   },
   {
    "duration": 9,
    "start_time": "2023-05-01T10:50:59.891Z"
   },
   {
    "duration": 7,
    "start_time": "2023-05-01T10:51:28.411Z"
   },
   {
    "duration": 6,
    "start_time": "2023-05-01T10:51:38.814Z"
   },
   {
    "duration": 22,
    "start_time": "2023-05-01T13:08:39.457Z"
   },
   {
    "duration": 11,
    "start_time": "2023-05-01T13:08:59.485Z"
   },
   {
    "duration": 9,
    "start_time": "2023-05-01T13:09:00.312Z"
   },
   {
    "duration": 4,
    "start_time": "2023-05-01T13:09:17.210Z"
   },
   {
    "duration": 8,
    "start_time": "2023-05-01T13:09:26.466Z"
   },
   {
    "duration": 10,
    "start_time": "2023-05-01T13:09:55.783Z"
   },
   {
    "duration": 11,
    "start_time": "2023-05-01T13:10:32.234Z"
   },
   {
    "duration": 8,
    "start_time": "2023-05-01T13:11:39.686Z"
   },
   {
    "duration": 9,
    "start_time": "2023-05-01T13:12:08.444Z"
   },
   {
    "duration": 9,
    "start_time": "2023-05-01T13:12:26.420Z"
   },
   {
    "duration": 10,
    "start_time": "2023-05-01T13:12:43.118Z"
   },
   {
    "duration": 9,
    "start_time": "2023-05-01T13:12:50.383Z"
   },
   {
    "duration": 9,
    "start_time": "2023-05-01T13:12:50.991Z"
   },
   {
    "duration": 9,
    "start_time": "2023-05-01T13:12:59.584Z"
   },
   {
    "duration": 11,
    "start_time": "2023-05-01T13:12:59.983Z"
   },
   {
    "duration": 11,
    "start_time": "2023-05-01T13:13:19.753Z"
   },
   {
    "duration": 7,
    "start_time": "2023-05-01T13:13:20.204Z"
   },
   {
    "duration": 9,
    "start_time": "2023-05-01T13:13:25.430Z"
   },
   {
    "duration": 6,
    "start_time": "2023-05-01T13:13:26.100Z"
   },
   {
    "duration": 10,
    "start_time": "2023-05-01T13:13:29.468Z"
   },
   {
    "duration": 8,
    "start_time": "2023-05-01T13:13:29.943Z"
   },
   {
    "duration": 697,
    "start_time": "2023-05-01T13:14:31.638Z"
   },
   {
    "duration": 159,
    "start_time": "2023-05-01T13:14:44.497Z"
   },
   {
    "duration": 12,
    "start_time": "2023-05-01T13:15:26.809Z"
   },
   {
    "duration": 8,
    "start_time": "2023-05-01T13:15:27.336Z"
   },
   {
    "duration": 10,
    "start_time": "2023-05-01T13:15:37.899Z"
   },
   {
    "duration": 7,
    "start_time": "2023-05-01T13:15:38.699Z"
   },
   {
    "duration": 159,
    "start_time": "2023-05-01T13:15:42.201Z"
   },
   {
    "duration": 11,
    "start_time": "2023-05-01T13:15:48.054Z"
   },
   {
    "duration": 8,
    "start_time": "2023-05-01T13:15:48.778Z"
   },
   {
    "duration": 149,
    "start_time": "2023-05-01T13:15:50.004Z"
   },
   {
    "duration": 11,
    "start_time": "2023-05-01T13:16:00.778Z"
   },
   {
    "duration": 7,
    "start_time": "2023-05-01T13:16:01.285Z"
   },
   {
    "duration": 232,
    "start_time": "2023-05-01T13:16:02.584Z"
   },
   {
    "duration": 185,
    "start_time": "2023-05-01T13:16:34.726Z"
   },
   {
    "duration": 26,
    "start_time": "2023-05-01T13:16:43.974Z"
   },
   {
    "duration": 196,
    "start_time": "2023-05-01T13:16:57.102Z"
   },
   {
    "duration": 13,
    "start_time": "2023-05-01T13:18:07.517Z"
   },
   {
    "duration": 9,
    "start_time": "2023-05-01T13:18:08.030Z"
   },
   {
    "duration": 156,
    "start_time": "2023-05-01T13:18:09.147Z"
   },
   {
    "duration": 193,
    "start_time": "2023-05-01T13:18:10.995Z"
   },
   {
    "duration": 16,
    "start_time": "2023-05-01T13:18:37.393Z"
   },
   {
    "duration": 156,
    "start_time": "2023-05-01T13:18:55.412Z"
   },
   {
    "duration": 191,
    "start_time": "2023-05-01T13:18:59.982Z"
   },
   {
    "duration": 153,
    "start_time": "2023-05-01T13:19:50.986Z"
   },
   {
    "duration": 12,
    "start_time": "2023-05-01T13:20:01.516Z"
   },
   {
    "duration": 8,
    "start_time": "2023-05-01T13:20:02.321Z"
   },
   {
    "duration": 10,
    "start_time": "2023-05-01T13:20:05.718Z"
   },
   {
    "duration": 8,
    "start_time": "2023-05-01T13:20:06.115Z"
   },
   {
    "duration": 184,
    "start_time": "2023-05-01T13:20:06.682Z"
   },
   {
    "duration": 173,
    "start_time": "2023-05-01T13:20:09.288Z"
   },
   {
    "duration": 8,
    "start_time": "2023-05-01T13:21:04.028Z"
   },
   {
    "duration": 4,
    "start_time": "2023-05-01T13:21:04.512Z"
   },
   {
    "duration": 5,
    "start_time": "2023-05-01T13:21:04.948Z"
   },
   {
    "duration": 8,
    "start_time": "2023-05-01T13:21:05.856Z"
   },
   {
    "duration": 171,
    "start_time": "2023-05-01T13:21:06.473Z"
   },
   {
    "duration": 15,
    "start_time": "2023-05-01T13:23:05.019Z"
   },
   {
    "duration": 9,
    "start_time": "2023-05-01T13:24:20.585Z"
   },
   {
    "duration": 717,
    "start_time": "2023-05-01T13:24:21.016Z"
   },
   {
    "duration": 0,
    "start_time": "2023-05-01T13:24:21.735Z"
   },
   {
    "duration": 7,
    "start_time": "2023-05-01T13:24:21.878Z"
   },
   {
    "duration": 1112,
    "start_time": "2023-05-01T13:25:14.698Z"
   },
   {
    "duration": 8,
    "start_time": "2023-05-01T13:25:26.748Z"
   },
   {
    "duration": 6,
    "start_time": "2023-05-01T13:25:29.683Z"
   },
   {
    "duration": 11,
    "start_time": "2023-05-01T13:25:59.366Z"
   },
   {
    "duration": 6,
    "start_time": "2023-05-01T13:26:02.205Z"
   },
   {
    "duration": 180,
    "start_time": "2023-05-01T13:26:04.651Z"
   },
   {
    "duration": 9,
    "start_time": "2023-05-01T13:28:05.551Z"
   },
   {
    "duration": 5,
    "start_time": "2023-05-01T13:28:06.179Z"
   },
   {
    "duration": 49,
    "start_time": "2023-05-01T13:28:06.686Z"
   },
   {
    "duration": 8,
    "start_time": "2023-05-01T13:28:24.763Z"
   },
   {
    "duration": 8,
    "start_time": "2023-05-01T13:28:30.709Z"
   },
   {
    "duration": 9,
    "start_time": "2023-05-01T13:28:50.586Z"
   },
   {
    "duration": 4,
    "start_time": "2023-05-01T13:28:51.036Z"
   },
   {
    "duration": 4,
    "start_time": "2023-05-01T13:28:51.582Z"
   },
   {
    "duration": 7,
    "start_time": "2023-05-01T13:28:52.695Z"
   },
   {
    "duration": 9,
    "start_time": "2023-05-01T13:29:01.109Z"
   },
   {
    "duration": 5,
    "start_time": "2023-05-01T13:29:01.537Z"
   },
   {
    "duration": 10,
    "start_time": "2023-05-01T13:29:01.956Z"
   },
   {
    "duration": 7,
    "start_time": "2023-05-01T13:29:02.794Z"
   },
   {
    "duration": 4,
    "start_time": "2023-05-01T13:29:10.288Z"
   },
   {
    "duration": 7,
    "start_time": "2023-05-01T13:29:10.796Z"
   },
   {
    "duration": 156,
    "start_time": "2023-05-01T13:29:11.585Z"
   },
   {
    "duration": 10,
    "start_time": "2023-05-01T13:29:18.596Z"
   },
   {
    "duration": 7,
    "start_time": "2023-05-01T13:29:19.542Z"
   },
   {
    "duration": 119,
    "start_time": "2023-05-01T13:29:22.031Z"
   },
   {
    "duration": 11,
    "start_time": "2023-05-01T13:30:30.282Z"
   },
   {
    "duration": 8,
    "start_time": "2023-05-01T13:30:31.041Z"
   },
   {
    "duration": 265,
    "start_time": "2023-05-01T13:30:33.627Z"
   },
   {
    "duration": 10,
    "start_time": "2023-05-01T13:30:57.358Z"
   },
   {
    "duration": 7,
    "start_time": "2023-05-01T13:30:57.848Z"
   },
   {
    "duration": 262,
    "start_time": "2023-05-01T13:30:59.288Z"
   },
   {
    "duration": 10,
    "start_time": "2023-05-01T13:31:15.246Z"
   },
   {
    "duration": 6,
    "start_time": "2023-05-01T13:31:15.751Z"
   },
   {
    "duration": 9,
    "start_time": "2023-05-01T13:31:23.991Z"
   },
   {
    "duration": 6,
    "start_time": "2023-05-01T13:31:24.387Z"
   },
   {
    "duration": 269,
    "start_time": "2023-05-01T13:31:24.981Z"
   },
   {
    "duration": 9,
    "start_time": "2023-05-01T13:31:53.511Z"
   },
   {
    "duration": 6,
    "start_time": "2023-05-01T13:31:53.930Z"
   },
   {
    "duration": 263,
    "start_time": "2023-05-01T13:31:54.817Z"
   },
   {
    "duration": 12,
    "start_time": "2023-05-01T13:32:08.511Z"
   },
   {
    "duration": 7,
    "start_time": "2023-05-01T13:32:09.131Z"
   },
   {
    "duration": 276,
    "start_time": "2023-05-01T13:32:21.586Z"
   },
   {
    "duration": 402,
    "start_time": "2023-05-01T13:32:51.812Z"
   },
   {
    "duration": 9,
    "start_time": "2023-05-01T13:32:59.083Z"
   },
   {
    "duration": 3,
    "start_time": "2023-05-01T13:32:59.512Z"
   },
   {
    "duration": 5,
    "start_time": "2023-05-01T13:32:59.895Z"
   },
   {
    "duration": 8,
    "start_time": "2023-05-01T13:33:00.283Z"
   },
   {
    "duration": 208,
    "start_time": "2023-05-01T13:33:01.686Z"
   },
   {
    "duration": 198,
    "start_time": "2023-05-01T13:33:07.219Z"
   },
   {
    "duration": 11,
    "start_time": "2023-05-01T13:33:19.648Z"
   },
   {
    "duration": 6,
    "start_time": "2023-05-01T13:33:20.152Z"
   },
   {
    "duration": 150,
    "start_time": "2023-05-01T13:33:20.897Z"
   },
   {
    "duration": 300,
    "start_time": "2023-05-01T13:33:33.232Z"
   },
   {
    "duration": 450,
    "start_time": "2023-05-01T13:36:13.643Z"
   },
   {
    "duration": 63,
    "start_time": "2023-05-01T13:36:14.095Z"
   },
   {
    "duration": 29,
    "start_time": "2023-05-01T13:36:14.159Z"
   },
   {
    "duration": 17,
    "start_time": "2023-05-01T13:36:14.190Z"
   },
   {
    "duration": 16,
    "start_time": "2023-05-01T13:36:14.209Z"
   },
   {
    "duration": 28,
    "start_time": "2023-05-01T13:36:14.227Z"
   },
   {
    "duration": 10,
    "start_time": "2023-05-01T13:36:14.257Z"
   },
   {
    "duration": 15,
    "start_time": "2023-05-01T13:36:14.269Z"
   },
   {
    "duration": 13,
    "start_time": "2023-05-01T13:36:14.285Z"
   },
   {
    "duration": 24,
    "start_time": "2023-05-01T13:36:14.300Z"
   },
   {
    "duration": 41,
    "start_time": "2023-05-01T13:36:14.330Z"
   },
   {
    "duration": 19,
    "start_time": "2023-05-01T13:36:14.374Z"
   },
   {
    "duration": 18,
    "start_time": "2023-05-01T13:36:14.395Z"
   },
   {
    "duration": 27,
    "start_time": "2023-05-01T13:36:14.424Z"
   },
   {
    "duration": 11,
    "start_time": "2023-05-01T13:36:14.453Z"
   },
   {
    "duration": 14,
    "start_time": "2023-05-01T13:36:14.466Z"
   },
   {
    "duration": 9,
    "start_time": "2023-05-01T13:36:14.482Z"
   },
   {
    "duration": 11,
    "start_time": "2023-05-01T13:36:14.493Z"
   },
   {
    "duration": 5,
    "start_time": "2023-05-01T13:36:14.506Z"
   },
   {
    "duration": 38,
    "start_time": "2023-05-01T13:36:14.512Z"
   },
   {
    "duration": 19,
    "start_time": "2023-05-01T13:36:14.552Z"
   },
   {
    "duration": 14,
    "start_time": "2023-05-01T13:36:14.573Z"
   },
   {
    "duration": 5,
    "start_time": "2023-05-01T13:36:14.589Z"
   },
   {
    "duration": 14,
    "start_time": "2023-05-01T13:36:14.595Z"
   },
   {
    "duration": 13,
    "start_time": "2023-05-01T13:36:14.611Z"
   },
   {
    "duration": 54,
    "start_time": "2023-05-01T13:36:14.628Z"
   },
   {
    "duration": 38,
    "start_time": "2023-05-01T13:36:14.684Z"
   },
   {
    "duration": 29,
    "start_time": "2023-05-01T13:36:14.726Z"
   },
   {
    "duration": 8,
    "start_time": "2023-05-01T13:36:14.757Z"
   },
   {
    "duration": 14,
    "start_time": "2023-05-01T13:36:14.767Z"
   },
   {
    "duration": 488,
    "start_time": "2023-05-01T13:36:14.783Z"
   },
   {
    "duration": 11,
    "start_time": "2023-05-01T13:36:15.272Z"
   },
   {
    "duration": 19,
    "start_time": "2023-05-01T13:36:15.285Z"
   },
   {
    "duration": 162,
    "start_time": "2023-05-01T13:36:15.305Z"
   },
   {
    "duration": 324,
    "start_time": "2023-05-01T13:36:15.469Z"
   },
   {
    "duration": 463,
    "start_time": "2023-05-01T13:37:05.243Z"
   },
   {
    "duration": 42,
    "start_time": "2023-05-01T13:37:05.708Z"
   },
   {
    "duration": 34,
    "start_time": "2023-05-01T13:37:05.751Z"
   },
   {
    "duration": 16,
    "start_time": "2023-05-01T13:37:05.787Z"
   },
   {
    "duration": 30,
    "start_time": "2023-05-01T13:37:05.805Z"
   },
   {
    "duration": 11,
    "start_time": "2023-05-01T13:37:05.842Z"
   },
   {
    "duration": 16,
    "start_time": "2023-05-01T13:37:05.855Z"
   },
   {
    "duration": 27,
    "start_time": "2023-05-01T13:37:05.872Z"
   },
   {
    "duration": 22,
    "start_time": "2023-05-01T13:37:05.900Z"
   },
   {
    "duration": 20,
    "start_time": "2023-05-01T13:37:05.925Z"
   },
   {
    "duration": 24,
    "start_time": "2023-05-01T13:37:05.948Z"
   },
   {
    "duration": 21,
    "start_time": "2023-05-01T13:37:05.973Z"
   },
   {
    "duration": 16,
    "start_time": "2023-05-01T13:37:05.996Z"
   },
   {
    "duration": 40,
    "start_time": "2023-05-01T13:37:06.021Z"
   },
   {
    "duration": 24,
    "start_time": "2023-05-01T13:37:06.063Z"
   },
   {
    "duration": 13,
    "start_time": "2023-05-01T13:37:06.089Z"
   },
   {
    "duration": 19,
    "start_time": "2023-05-01T13:37:06.104Z"
   },
   {
    "duration": 26,
    "start_time": "2023-05-01T13:37:06.125Z"
   },
   {
    "duration": 19,
    "start_time": "2023-05-01T13:37:06.152Z"
   },
   {
    "duration": 10,
    "start_time": "2023-05-01T13:37:06.173Z"
   },
   {
    "duration": 29,
    "start_time": "2023-05-01T13:37:06.185Z"
   },
   {
    "duration": 31,
    "start_time": "2023-05-01T13:37:06.216Z"
   },
   {
    "duration": 8,
    "start_time": "2023-05-01T13:37:06.249Z"
   },
   {
    "duration": 11,
    "start_time": "2023-05-01T13:37:06.259Z"
   },
   {
    "duration": 13,
    "start_time": "2023-05-01T13:37:06.271Z"
   },
   {
    "duration": 26,
    "start_time": "2023-05-01T13:37:06.286Z"
   },
   {
    "duration": 22,
    "start_time": "2023-05-01T13:37:06.314Z"
   },
   {
    "duration": 30,
    "start_time": "2023-05-01T13:37:06.337Z"
   },
   {
    "duration": 12,
    "start_time": "2023-05-01T13:37:06.369Z"
   },
   {
    "duration": 25,
    "start_time": "2023-05-01T13:37:06.383Z"
   },
   {
    "duration": 576,
    "start_time": "2023-05-01T13:37:06.410Z"
   },
   {
    "duration": 10,
    "start_time": "2023-05-01T13:37:06.988Z"
   },
   {
    "duration": 41,
    "start_time": "2023-05-01T13:37:07.000Z"
   },
   {
    "duration": 166,
    "start_time": "2023-05-01T13:37:07.043Z"
   },
   {
    "duration": 350,
    "start_time": "2023-05-01T13:37:07.222Z"
   },
   {
    "duration": 0,
    "start_time": "2023-05-01T13:37:28.868Z"
   },
   {
    "duration": 9,
    "start_time": "2023-05-01T13:37:36.086Z"
   },
   {
    "duration": 15,
    "start_time": "2023-05-01T13:37:42.044Z"
   },
   {
    "duration": 7,
    "start_time": "2023-05-01T13:37:42.906Z"
   },
   {
    "duration": 10,
    "start_time": "2023-05-01T13:38:01.556Z"
   },
   {
    "duration": 8,
    "start_time": "2023-05-01T13:38:02.242Z"
   },
   {
    "duration": 10,
    "start_time": "2023-05-01T13:38:47.875Z"
   },
   {
    "duration": 18,
    "start_time": "2023-05-01T13:38:47.886Z"
   },
   {
    "duration": 6,
    "start_time": "2023-05-01T13:39:07.793Z"
   },
   {
    "duration": 12,
    "start_time": "2023-05-01T13:40:06.555Z"
   },
   {
    "duration": 7,
    "start_time": "2023-05-01T13:40:11.700Z"
   },
   {
    "duration": 25328,
    "start_time": "2023-05-01T13:40:22.901Z"
   },
   {
    "duration": 169,
    "start_time": "2023-05-01T13:41:26.942Z"
   },
   {
    "duration": 84,
    "start_time": "2023-05-01T13:42:11.691Z"
   },
   {
    "duration": 239,
    "start_time": "2023-05-01T13:42:23.393Z"
   },
   {
    "duration": 8,
    "start_time": "2023-05-01T13:44:56.733Z"
   },
   {
    "duration": 5,
    "start_time": "2023-05-01T13:45:09.686Z"
   },
   {
    "duration": 76,
    "start_time": "2023-05-01T13:46:29.648Z"
   },
   {
    "duration": 80,
    "start_time": "2023-05-01T13:46:41.789Z"
   },
   {
    "duration": 4,
    "start_time": "2023-05-01T13:50:16.816Z"
   },
   {
    "duration": 4,
    "start_time": "2023-05-01T13:50:24.436Z"
   },
   {
    "duration": 5,
    "start_time": "2023-05-01T13:50:48.247Z"
   },
   {
    "duration": 8,
    "start_time": "2023-05-01T13:53:06.744Z"
   },
   {
    "duration": 7,
    "start_time": "2023-05-01T13:53:27.486Z"
   },
   {
    "duration": 5,
    "start_time": "2023-05-01T13:54:06.830Z"
   },
   {
    "duration": 530,
    "start_time": "2023-05-01T13:54:23.617Z"
   },
   {
    "duration": 347,
    "start_time": "2023-05-01T13:54:40.592Z"
   },
   {
    "duration": 262,
    "start_time": "2023-05-01T13:54:45.820Z"
   },
   {
    "duration": 224,
    "start_time": "2023-05-01T13:54:49.437Z"
   },
   {
    "duration": 7,
    "start_time": "2023-05-01T13:58:56.243Z"
   },
   {
    "duration": 17,
    "start_time": "2023-05-01T13:58:59.342Z"
   },
   {
    "duration": 10,
    "start_time": "2023-05-01T13:59:00.195Z"
   },
   {
    "duration": 19,
    "start_time": "2023-05-01T14:03:05.538Z"
   },
   {
    "duration": 11,
    "start_time": "2023-05-01T14:03:06.148Z"
   },
   {
    "duration": 16,
    "start_time": "2023-05-01T14:03:59.737Z"
   },
   {
    "duration": 8,
    "start_time": "2023-05-01T14:04:00.187Z"
   },
   {
    "duration": 30,
    "start_time": "2023-05-01T14:04:24.729Z"
   },
   {
    "duration": 270,
    "start_time": "2023-05-01T14:05:46.942Z"
   },
   {
    "duration": 244,
    "start_time": "2023-05-01T14:06:04.392Z"
   },
   {
    "duration": 5,
    "start_time": "2023-05-01T14:08:07.261Z"
   },
   {
    "duration": 6,
    "start_time": "2023-05-01T14:08:30.366Z"
   },
   {
    "duration": 17,
    "start_time": "2023-05-01T14:09:32.545Z"
   },
   {
    "duration": 376,
    "start_time": "2023-05-01T14:09:38.565Z"
   },
   {
    "duration": 295,
    "start_time": "2023-05-01T14:09:46.486Z"
   },
   {
    "duration": 17,
    "start_time": "2023-05-01T14:10:08.718Z"
   },
   {
    "duration": 9,
    "start_time": "2023-05-01T14:13:05.364Z"
   },
   {
    "duration": 282,
    "start_time": "2023-05-01T14:13:36.280Z"
   },
   {
    "duration": 7,
    "start_time": "2023-05-01T14:13:49.938Z"
   },
   {
    "duration": 10,
    "start_time": "2023-05-01T14:14:10.703Z"
   },
   {
    "duration": 5,
    "start_time": "2023-05-01T14:15:03.749Z"
   },
   {
    "duration": 6,
    "start_time": "2023-05-01T14:18:36.266Z"
   },
   {
    "duration": 3,
    "start_time": "2023-05-01T14:49:33.041Z"
   },
   {
    "duration": 3,
    "start_time": "2023-05-01T14:52:16.242Z"
   },
   {
    "duration": 3,
    "start_time": "2023-05-01T14:53:14.601Z"
   },
   {
    "duration": 28,
    "start_time": "2023-05-01T14:53:15.010Z"
   },
   {
    "duration": 23,
    "start_time": "2023-05-01T14:53:16.552Z"
   },
   {
    "duration": 2,
    "start_time": "2023-05-01T14:53:35.412Z"
   },
   {
    "duration": 10,
    "start_time": "2023-05-01T14:53:35.780Z"
   },
   {
    "duration": 25,
    "start_time": "2023-05-01T14:53:36.444Z"
   },
   {
    "duration": 12,
    "start_time": "2023-05-01T14:53:37.410Z"
   },
   {
    "duration": 13,
    "start_time": "2023-05-01T15:01:44.253Z"
   },
   {
    "duration": 25,
    "start_time": "2023-05-01T15:03:14.151Z"
   },
   {
    "duration": 17,
    "start_time": "2023-05-01T15:03:15.369Z"
   },
   {
    "duration": 3,
    "start_time": "2023-05-01T15:03:52.156Z"
   },
   {
    "duration": 15,
    "start_time": "2023-05-01T15:03:52.644Z"
   },
   {
    "duration": 23,
    "start_time": "2023-05-01T15:03:53.616Z"
   },
   {
    "duration": 10,
    "start_time": "2023-05-01T15:03:54.401Z"
   },
   {
    "duration": 23,
    "start_time": "2023-05-01T15:04:03.834Z"
   },
   {
    "duration": 17,
    "start_time": "2023-05-01T15:04:10.536Z"
   },
   {
    "duration": 13,
    "start_time": "2023-05-01T15:06:29.960Z"
   },
   {
    "duration": 8,
    "start_time": "2023-05-01T15:07:42.960Z"
   },
   {
    "duration": 14,
    "start_time": "2023-05-01T15:07:43.662Z"
   },
   {
    "duration": 5,
    "start_time": "2023-05-01T15:08:01.343Z"
   },
   {
    "duration": 12,
    "start_time": "2023-05-01T15:08:02.104Z"
   },
   {
    "duration": 16,
    "start_time": "2023-05-01T15:08:21.134Z"
   },
   {
    "duration": 14,
    "start_time": "2023-05-01T15:08:40.276Z"
   },
   {
    "duration": 8,
    "start_time": "2023-05-01T15:09:50.346Z"
   },
   {
    "duration": 8,
    "start_time": "2023-05-01T15:09:59.259Z"
   },
   {
    "duration": 12,
    "start_time": "2023-05-01T15:09:59.847Z"
   },
   {
    "duration": 9,
    "start_time": "2023-05-01T15:10:01.112Z"
   },
   {
    "duration": 8,
    "start_time": "2023-05-01T15:10:12.756Z"
   },
   {
    "duration": 20,
    "start_time": "2023-05-01T15:10:13.518Z"
   },
   {
    "duration": 18,
    "start_time": "2023-05-01T15:10:15.056Z"
   },
   {
    "duration": 21,
    "start_time": "2023-05-01T15:10:40.248Z"
   },
   {
    "duration": 7,
    "start_time": "2023-05-01T15:11:28.070Z"
   },
   {
    "duration": 14,
    "start_time": "2023-05-01T15:12:55.733Z"
   },
   {
    "duration": 18,
    "start_time": "2023-05-01T15:16:02.698Z"
   },
   {
    "duration": 297,
    "start_time": "2023-05-01T15:16:52.656Z"
   },
   {
    "duration": 11,
    "start_time": "2023-05-01T15:18:00.686Z"
   },
   {
    "duration": 11,
    "start_time": "2023-05-01T15:18:04.464Z"
   },
   {
    "duration": 276,
    "start_time": "2023-05-01T15:18:04.899Z"
   },
   {
    "duration": 6,
    "start_time": "2023-05-01T15:18:06.707Z"
   },
   {
    "duration": 12,
    "start_time": "2023-05-01T15:18:59.965Z"
   },
   {
    "duration": 313,
    "start_time": "2023-05-01T15:19:00.642Z"
   },
   {
    "duration": 322,
    "start_time": "2023-05-01T15:19:09.642Z"
   },
   {
    "duration": 5,
    "start_time": "2023-05-01T15:19:11.750Z"
   },
   {
    "duration": 13,
    "start_time": "2023-05-01T15:19:20.906Z"
   },
   {
    "duration": 28,
    "start_time": "2023-05-01T15:23:56.580Z"
   },
   {
    "duration": 18,
    "start_time": "2023-05-01T15:24:28.381Z"
   },
   {
    "duration": 24,
    "start_time": "2023-05-01T15:24:53.591Z"
   },
   {
    "duration": 35,
    "start_time": "2023-05-01T15:24:55.201Z"
   },
   {
    "duration": 15,
    "start_time": "2023-05-01T15:25:16.230Z"
   },
   {
    "duration": 13,
    "start_time": "2023-05-01T15:25:18.049Z"
   },
   {
    "duration": 12,
    "start_time": "2023-05-01T15:25:31.696Z"
   },
   {
    "duration": 17,
    "start_time": "2023-05-01T15:26:05.466Z"
   },
   {
    "duration": 12,
    "start_time": "2023-05-01T15:26:05.986Z"
   },
   {
    "duration": 259,
    "start_time": "2023-05-01T15:26:10.274Z"
   },
   {
    "duration": 5,
    "start_time": "2023-05-01T15:26:12.158Z"
   },
   {
    "duration": 274,
    "start_time": "2023-05-01T15:26:51.053Z"
   },
   {
    "duration": 5,
    "start_time": "2023-05-01T15:26:53.758Z"
   },
   {
    "duration": 268,
    "start_time": "2023-05-01T15:27:52.037Z"
   },
   {
    "duration": 15,
    "start_time": "2023-05-01T15:29:11.250Z"
   },
   {
    "duration": 247,
    "start_time": "2023-05-01T15:29:12.141Z"
   },
   {
    "duration": 4,
    "start_time": "2023-05-01T15:29:13.599Z"
   },
   {
    "duration": 47,
    "start_time": "2023-05-01T15:29:14.829Z"
   },
   {
    "duration": 264,
    "start_time": "2023-05-01T15:29:20.819Z"
   },
   {
    "duration": 5,
    "start_time": "2023-05-01T15:29:25.485Z"
   },
   {
    "duration": 21,
    "start_time": "2023-05-01T15:40:33.531Z"
   },
   {
    "duration": 43,
    "start_time": "2023-05-01T16:06:46.867Z"
   },
   {
    "duration": 364,
    "start_time": "2023-05-01T16:06:58.775Z"
   },
   {
    "duration": 23,
    "start_time": "2023-05-01T16:08:20.354Z"
   },
   {
    "duration": 16,
    "start_time": "2023-05-01T16:08:21.751Z"
   },
   {
    "duration": 70,
    "start_time": "2023-05-01T16:11:17.195Z"
   },
   {
    "duration": 22,
    "start_time": "2023-05-01T16:11:32.352Z"
   },
   {
    "duration": 39,
    "start_time": "2023-05-01T16:11:49.214Z"
   },
   {
    "duration": 18,
    "start_time": "2023-05-01T16:14:17.452Z"
   },
   {
    "duration": 21,
    "start_time": "2023-05-01T16:14:18.619Z"
   },
   {
    "duration": 19,
    "start_time": "2023-05-01T16:14:39.842Z"
   },
   {
    "duration": 13,
    "start_time": "2023-05-01T16:14:40.842Z"
   },
   {
    "duration": 34,
    "start_time": "2023-05-01T16:15:04.930Z"
   },
   {
    "duration": 27,
    "start_time": "2023-05-01T16:15:25.444Z"
   },
   {
    "duration": 44,
    "start_time": "2023-05-01T16:15:44.897Z"
   },
   {
    "duration": 48,
    "start_time": "2023-05-01T16:15:49.319Z"
   },
   {
    "duration": 15,
    "start_time": "2023-05-01T16:15:49.940Z"
   },
   {
    "duration": 37,
    "start_time": "2023-05-01T16:17:05.533Z"
   },
   {
    "duration": 18,
    "start_time": "2023-05-01T16:17:06.048Z"
   },
   {
    "duration": 41,
    "start_time": "2023-05-01T16:17:24.684Z"
   },
   {
    "duration": 47,
    "start_time": "2023-05-01T16:17:31.347Z"
   },
   {
    "duration": 23,
    "start_time": "2023-05-01T16:17:31.935Z"
   },
   {
    "duration": 44,
    "start_time": "2023-05-01T16:20:20.386Z"
   },
   {
    "duration": 25,
    "start_time": "2023-05-01T16:20:21.071Z"
   },
   {
    "duration": 60,
    "start_time": "2023-05-01T16:20:31.836Z"
   },
   {
    "duration": 60,
    "start_time": "2023-05-01T16:20:36.299Z"
   },
   {
    "duration": 25,
    "start_time": "2023-05-01T16:20:37.755Z"
   },
   {
    "duration": 50,
    "start_time": "2023-05-01T16:22:14.891Z"
   },
   {
    "duration": 22,
    "start_time": "2023-05-01T16:22:15.538Z"
   },
   {
    "duration": 42,
    "start_time": "2023-05-01T16:25:09.783Z"
   },
   {
    "duration": 16,
    "start_time": "2023-05-01T16:25:10.480Z"
   },
   {
    "duration": 35,
    "start_time": "2023-05-01T16:25:12.134Z"
   },
   {
    "duration": 41,
    "start_time": "2023-05-01T16:26:34.797Z"
   },
   {
    "duration": 25,
    "start_time": "2023-05-01T16:26:35.113Z"
   },
   {
    "duration": 7,
    "start_time": "2023-05-01T16:33:39.082Z"
   },
   {
    "duration": 374,
    "start_time": "2023-05-01T16:35:44.482Z"
   },
   {
    "duration": 8,
    "start_time": "2023-05-01T16:36:05.278Z"
   },
   {
    "duration": 6,
    "start_time": "2023-05-01T16:36:24.204Z"
   },
   {
    "duration": 7,
    "start_time": "2023-05-01T16:36:39.129Z"
   },
   {
    "duration": 6,
    "start_time": "2023-05-01T16:36:44.598Z"
   },
   {
    "duration": 4,
    "start_time": "2023-05-01T16:48:31.577Z"
   },
   {
    "duration": 9246,
    "start_time": "2023-05-01T16:48:32.467Z"
   },
   {
    "duration": 24,
    "start_time": "2023-05-01T16:48:43.913Z"
   },
   {
    "duration": 4,
    "start_time": "2023-05-01T16:51:28.398Z"
   },
   {
    "duration": 6,
    "start_time": "2023-05-01T16:51:32.072Z"
   },
   {
    "duration": 5,
    "start_time": "2023-05-01T16:51:58.881Z"
   },
   {
    "duration": 29,
    "start_time": "2023-05-01T16:52:11.588Z"
   },
   {
    "duration": 16,
    "start_time": "2023-05-01T16:52:12.261Z"
   },
   {
    "duration": 10,
    "start_time": "2023-05-01T16:52:21.325Z"
   },
   {
    "duration": 10386,
    "start_time": "2023-05-01T16:52:22.179Z"
   },
   {
    "duration": 24,
    "start_time": "2023-05-01T16:52:32.568Z"
   },
   {
    "duration": 48,
    "start_time": "2023-05-01T16:53:54.498Z"
   },
   {
    "duration": 22,
    "start_time": "2023-05-01T16:53:55.122Z"
   },
   {
    "duration": 37,
    "start_time": "2023-05-01T16:53:57.688Z"
   },
   {
    "duration": 22,
    "start_time": "2023-05-01T16:53:58.622Z"
   },
   {
    "duration": 8,
    "start_time": "2023-05-01T16:54:00.903Z"
   },
   {
    "duration": 6,
    "start_time": "2023-05-01T16:54:01.513Z"
   },
   {
    "duration": 14433,
    "start_time": "2023-05-01T16:54:02.056Z"
   },
   {
    "duration": 10098,
    "start_time": "2023-05-01T16:54:16.491Z"
   },
   {
    "duration": 17,
    "start_time": "2023-05-01T16:54:26.591Z"
   },
   {
    "duration": 29,
    "start_time": "2023-05-01T16:54:26.618Z"
   },
   {
    "duration": 17,
    "start_time": "2023-05-01T16:54:37.531Z"
   },
   {
    "duration": 407,
    "start_time": "2023-05-01T17:00:03.740Z"
   },
   {
    "duration": 922,
    "start_time": "2023-05-01T17:16:58.718Z"
   },
   {
    "duration": 30,
    "start_time": "2023-05-01T17:16:59.641Z"
   },
   {
    "duration": 29,
    "start_time": "2023-05-01T17:16:59.672Z"
   },
   {
    "duration": 17,
    "start_time": "2023-05-01T17:16:59.703Z"
   },
   {
    "duration": 20,
    "start_time": "2023-05-01T17:16:59.722Z"
   },
   {
    "duration": 21,
    "start_time": "2023-05-01T17:16:59.743Z"
   },
   {
    "duration": 26,
    "start_time": "2023-05-01T17:16:59.766Z"
   },
   {
    "duration": 27,
    "start_time": "2023-05-01T17:16:59.794Z"
   },
   {
    "duration": 32,
    "start_time": "2023-05-01T17:16:59.824Z"
   },
   {
    "duration": 13,
    "start_time": "2023-05-01T17:16:59.859Z"
   },
   {
    "duration": 22,
    "start_time": "2023-05-01T17:16:59.874Z"
   },
   {
    "duration": 19,
    "start_time": "2023-05-01T17:16:59.898Z"
   },
   {
    "duration": 22,
    "start_time": "2023-05-01T17:16:59.920Z"
   },
   {
    "duration": 7,
    "start_time": "2023-05-01T17:16:59.943Z"
   },
   {
    "duration": 8,
    "start_time": "2023-05-01T17:16:59.952Z"
   },
   {
    "duration": 16,
    "start_time": "2023-05-01T17:16:59.962Z"
   },
   {
    "duration": 16,
    "start_time": "2023-05-01T17:16:59.980Z"
   },
   {
    "duration": 20,
    "start_time": "2023-05-01T17:16:59.998Z"
   },
   {
    "duration": 21,
    "start_time": "2023-05-01T17:17:00.021Z"
   },
   {
    "duration": 11,
    "start_time": "2023-05-01T17:17:00.044Z"
   },
   {
    "duration": 46,
    "start_time": "2023-05-01T17:17:00.056Z"
   },
   {
    "duration": 31,
    "start_time": "2023-05-01T17:17:00.104Z"
   },
   {
    "duration": 39,
    "start_time": "2023-05-01T17:17:00.137Z"
   },
   {
    "duration": 71,
    "start_time": "2023-05-01T17:17:00.177Z"
   },
   {
    "duration": 40,
    "start_time": "2023-05-01T17:17:00.250Z"
   },
   {
    "duration": 41,
    "start_time": "2023-05-01T17:17:00.292Z"
   },
   {
    "duration": 49,
    "start_time": "2023-05-01T17:17:00.335Z"
   },
   {
    "duration": 47,
    "start_time": "2023-05-01T17:17:00.390Z"
   },
   {
    "duration": 44,
    "start_time": "2023-05-01T17:17:00.439Z"
   },
   {
    "duration": 73,
    "start_time": "2023-05-01T17:17:00.484Z"
   },
   {
    "duration": 579,
    "start_time": "2023-05-01T17:17:00.559Z"
   },
   {
    "duration": 12,
    "start_time": "2023-05-01T17:17:01.141Z"
   },
   {
    "duration": 65,
    "start_time": "2023-05-01T17:17:01.154Z"
   },
   {
    "duration": 193,
    "start_time": "2023-05-01T17:17:01.221Z"
   },
   {
    "duration": 332,
    "start_time": "2023-05-01T17:17:01.416Z"
   },
   {
    "duration": 10,
    "start_time": "2023-05-01T17:17:01.750Z"
   },
   {
    "duration": 335,
    "start_time": "2023-05-01T17:17:01.762Z"
   },
   {
    "duration": 5,
    "start_time": "2023-05-01T17:17:02.099Z"
   },
   {
    "duration": 72,
    "start_time": "2023-05-01T17:17:02.106Z"
   },
   {
    "duration": 119,
    "start_time": "2023-05-01T17:17:02.180Z"
   },
   {
    "duration": 353,
    "start_time": "2023-05-01T17:17:02.301Z"
   },
   {
    "duration": 5,
    "start_time": "2023-05-01T17:17:02.657Z"
   },
   {
    "duration": 287,
    "start_time": "2023-05-01T17:17:02.664Z"
   },
   {
    "duration": 5,
    "start_time": "2023-05-01T17:17:02.952Z"
   },
   {
    "duration": 18,
    "start_time": "2023-05-01T17:17:02.959Z"
   },
   {
    "duration": 36,
    "start_time": "2023-05-01T17:17:02.979Z"
   },
   {
    "duration": 34,
    "start_time": "2023-05-01T17:17:03.017Z"
   },
   {
    "duration": 23,
    "start_time": "2023-05-01T17:17:03.053Z"
   },
   {
    "duration": 28,
    "start_time": "2023-05-01T17:17:03.078Z"
   },
   {
    "duration": 26,
    "start_time": "2023-05-01T17:17:03.108Z"
   },
   {
    "duration": 10,
    "start_time": "2023-05-01T17:17:03.136Z"
   },
   {
    "duration": 18,
    "start_time": "2023-05-01T17:17:03.148Z"
   },
   {
    "duration": 34,
    "start_time": "2023-05-01T17:17:03.168Z"
   },
   {
    "duration": 282,
    "start_time": "2023-05-01T17:17:03.205Z"
   },
   {
    "duration": 5,
    "start_time": "2023-05-01T17:17:03.489Z"
   },
   {
    "duration": 43,
    "start_time": "2023-05-01T17:17:03.496Z"
   },
   {
    "duration": 359,
    "start_time": "2023-05-01T17:17:03.540Z"
   },
   {
    "duration": 5,
    "start_time": "2023-05-01T17:17:03.901Z"
   },
   {
    "duration": 54,
    "start_time": "2023-05-01T17:17:03.907Z"
   },
   {
    "duration": 241,
    "start_time": "2023-05-01T17:17:03.962Z"
   },
   {
    "duration": 5,
    "start_time": "2023-05-01T17:17:04.205Z"
   },
   {
    "duration": 261,
    "start_time": "2023-05-01T17:17:04.217Z"
   },
   {
    "duration": 5,
    "start_time": "2023-05-01T17:17:04.480Z"
   },
   {
    "duration": 31,
    "start_time": "2023-05-01T17:17:04.487Z"
   },
   {
    "duration": 253,
    "start_time": "2023-05-01T17:17:04.521Z"
   },
   {
    "duration": 4,
    "start_time": "2023-05-01T17:17:04.777Z"
   },
   {
    "duration": 290,
    "start_time": "2023-05-01T17:17:04.783Z"
   },
   {
    "duration": 5,
    "start_time": "2023-05-01T17:17:05.075Z"
   },
   {
    "duration": 81,
    "start_time": "2023-05-01T17:17:05.082Z"
   },
   {
    "duration": 33,
    "start_time": "2023-05-01T17:17:05.164Z"
   },
   {
    "duration": 129,
    "start_time": "2023-05-01T17:17:05.199Z"
   },
   {
    "duration": 14,
    "start_time": "2023-05-01T17:17:05.331Z"
   },
   {
    "duration": 26,
    "start_time": "2023-05-01T17:17:05.347Z"
   },
   {
    "duration": 14259,
    "start_time": "2023-05-01T17:17:05.375Z"
   },
   {
    "duration": 9852,
    "start_time": "2023-05-01T17:17:19.636Z"
   },
   {
    "duration": 6,
    "start_time": "2023-05-01T17:17:29.489Z"
   },
   {
    "duration": 7,
    "start_time": "2023-05-01T17:20:20.239Z"
   },
   {
    "duration": 5,
    "start_time": "2023-05-01T17:24:41.706Z"
   },
   {
    "duration": 5,
    "start_time": "2023-05-01T17:25:54.660Z"
   },
   {
    "duration": 4,
    "start_time": "2023-05-01T17:25:55.432Z"
   },
   {
    "duration": 4,
    "start_time": "2023-05-01T17:26:29.092Z"
   },
   {
    "duration": 5,
    "start_time": "2023-05-01T17:28:05.837Z"
   },
   {
    "duration": 7,
    "start_time": "2023-05-01T17:28:50.260Z"
   },
   {
    "duration": 6,
    "start_time": "2023-05-01T17:29:00.400Z"
   },
   {
    "duration": 8,
    "start_time": "2023-05-01T17:32:43.504Z"
   },
   {
    "duration": 8,
    "start_time": "2023-05-01T17:32:56.629Z"
   },
   {
    "duration": 7,
    "start_time": "2023-05-01T17:33:40.400Z"
   },
   {
    "duration": 78,
    "start_time": "2023-05-01T17:34:52.798Z"
   },
   {
    "duration": 5,
    "start_time": "2023-05-01T17:35:10.623Z"
   },
   {
    "duration": 6,
    "start_time": "2023-05-01T17:35:27.404Z"
   },
   {
    "duration": 15,
    "start_time": "2023-05-01T17:37:32.411Z"
   },
   {
    "duration": 21,
    "start_time": "2023-05-01T17:37:37.588Z"
   },
   {
    "duration": 7,
    "start_time": "2023-05-01T17:38:48.989Z"
   },
   {
    "duration": 803,
    "start_time": "2023-05-03T04:54:14.183Z"
   },
   {
    "duration": 25,
    "start_time": "2023-05-03T04:54:14.988Z"
   },
   {
    "duration": 43,
    "start_time": "2023-05-03T04:54:15.015Z"
   },
   {
    "duration": 13,
    "start_time": "2023-05-03T04:54:15.059Z"
   },
   {
    "duration": 13,
    "start_time": "2023-05-03T04:54:15.074Z"
   },
   {
    "duration": 17,
    "start_time": "2023-05-03T04:54:15.088Z"
   },
   {
    "duration": 10,
    "start_time": "2023-05-03T04:54:15.106Z"
   },
   {
    "duration": 17,
    "start_time": "2023-05-03T04:54:15.117Z"
   },
   {
    "duration": 12,
    "start_time": "2023-05-03T04:54:15.135Z"
   },
   {
    "duration": 11,
    "start_time": "2023-05-03T04:54:15.149Z"
   },
   {
    "duration": 12,
    "start_time": "2023-05-03T04:54:15.162Z"
   },
   {
    "duration": 20,
    "start_time": "2023-05-03T04:54:15.176Z"
   },
   {
    "duration": 14,
    "start_time": "2023-05-03T04:54:15.198Z"
   },
   {
    "duration": 9,
    "start_time": "2023-05-03T04:54:15.214Z"
   },
   {
    "duration": 5,
    "start_time": "2023-05-03T04:54:15.224Z"
   },
   {
    "duration": 7,
    "start_time": "2023-05-03T04:54:15.230Z"
   },
   {
    "duration": 21,
    "start_time": "2023-05-03T04:54:15.238Z"
   },
   {
    "duration": 19,
    "start_time": "2023-05-03T04:54:15.260Z"
   },
   {
    "duration": 12,
    "start_time": "2023-05-03T04:54:15.280Z"
   },
   {
    "duration": 13,
    "start_time": "2023-05-03T04:54:15.294Z"
   },
   {
    "duration": 15,
    "start_time": "2023-05-03T04:54:15.308Z"
   },
   {
    "duration": 18,
    "start_time": "2023-05-03T04:54:15.324Z"
   },
   {
    "duration": 7,
    "start_time": "2023-05-03T04:54:15.344Z"
   },
   {
    "duration": 29,
    "start_time": "2023-05-03T04:54:15.353Z"
   },
   {
    "duration": 22,
    "start_time": "2023-05-03T04:54:15.384Z"
   },
   {
    "duration": 23,
    "start_time": "2023-05-03T04:54:15.408Z"
   },
   {
    "duration": 25,
    "start_time": "2023-05-03T04:54:15.433Z"
   },
   {
    "duration": 15,
    "start_time": "2023-05-03T04:54:15.460Z"
   },
   {
    "duration": 16,
    "start_time": "2023-05-03T04:54:15.476Z"
   },
   {
    "duration": 15,
    "start_time": "2023-05-03T04:54:15.493Z"
   },
   {
    "duration": 446,
    "start_time": "2023-05-03T04:54:15.510Z"
   },
   {
    "duration": 10,
    "start_time": "2023-05-03T04:54:15.958Z"
   },
   {
    "duration": 14,
    "start_time": "2023-05-03T04:54:15.970Z"
   },
   {
    "duration": 129,
    "start_time": "2023-05-03T04:54:15.985Z"
   },
   {
    "duration": 250,
    "start_time": "2023-05-03T04:54:16.116Z"
   },
   {
    "duration": 9,
    "start_time": "2023-05-03T04:54:16.368Z"
   },
   {
    "duration": 224,
    "start_time": "2023-05-03T04:54:16.378Z"
   },
   {
    "duration": 6,
    "start_time": "2023-05-03T04:54:16.603Z"
   },
   {
    "duration": 17,
    "start_time": "2023-05-03T04:54:16.611Z"
   },
   {
    "duration": 10,
    "start_time": "2023-05-03T04:54:16.630Z"
   },
   {
    "duration": 211,
    "start_time": "2023-05-03T04:54:16.645Z"
   },
   {
    "duration": 5,
    "start_time": "2023-05-03T04:54:16.858Z"
   },
   {
    "duration": 191,
    "start_time": "2023-05-03T04:54:16.865Z"
   },
   {
    "duration": 5,
    "start_time": "2023-05-03T04:54:17.058Z"
   },
   {
    "duration": 5,
    "start_time": "2023-05-03T04:54:17.065Z"
   },
   {
    "duration": 24,
    "start_time": "2023-05-03T04:54:17.072Z"
   },
   {
    "duration": 9,
    "start_time": "2023-05-03T04:54:17.098Z"
   },
   {
    "duration": 13,
    "start_time": "2023-05-03T04:54:17.109Z"
   },
   {
    "duration": 14,
    "start_time": "2023-05-03T04:54:17.124Z"
   },
   {
    "duration": 9,
    "start_time": "2023-05-03T04:54:17.140Z"
   },
   {
    "duration": 5,
    "start_time": "2023-05-03T04:54:17.150Z"
   },
   {
    "duration": 44,
    "start_time": "2023-05-03T04:54:17.157Z"
   },
   {
    "duration": 7,
    "start_time": "2023-05-03T04:54:17.203Z"
   },
   {
    "duration": 218,
    "start_time": "2023-05-03T04:54:17.212Z"
   },
   {
    "duration": 4,
    "start_time": "2023-05-03T04:54:17.432Z"
   },
   {
    "duration": 19,
    "start_time": "2023-05-03T04:54:17.437Z"
   },
   {
    "duration": 257,
    "start_time": "2023-05-03T04:54:17.457Z"
   },
   {
    "duration": 5,
    "start_time": "2023-05-03T04:54:17.715Z"
   },
   {
    "duration": 18,
    "start_time": "2023-05-03T04:54:17.721Z"
   },
   {
    "duration": 187,
    "start_time": "2023-05-03T04:54:17.740Z"
   },
   {
    "duration": 3,
    "start_time": "2023-05-03T04:54:17.929Z"
   },
   {
    "duration": 223,
    "start_time": "2023-05-03T04:54:17.934Z"
   },
   {
    "duration": 5,
    "start_time": "2023-05-03T04:54:18.159Z"
   },
   {
    "duration": 30,
    "start_time": "2023-05-03T04:54:18.165Z"
   },
   {
    "duration": 182,
    "start_time": "2023-05-03T04:54:18.196Z"
   },
   {
    "duration": 3,
    "start_time": "2023-05-03T04:54:18.380Z"
   },
   {
    "duration": 198,
    "start_time": "2023-05-03T04:54:18.385Z"
   },
   {
    "duration": 9,
    "start_time": "2023-05-03T04:54:18.585Z"
   },
   {
    "duration": 33,
    "start_time": "2023-05-03T04:54:18.595Z"
   },
   {
    "duration": 13,
    "start_time": "2023-05-03T04:54:18.630Z"
   },
   {
    "duration": 113,
    "start_time": "2023-05-03T04:54:18.644Z"
   },
   {
    "duration": 12,
    "start_time": "2023-05-03T04:54:18.758Z"
   },
   {
    "duration": 17,
    "start_time": "2023-05-03T04:54:18.771Z"
   },
   {
    "duration": 11037,
    "start_time": "2023-05-03T04:54:18.789Z"
   },
   {
    "duration": 7540,
    "start_time": "2023-05-03T04:54:29.828Z"
   },
   {
    "duration": 8,
    "start_time": "2023-05-03T04:54:37.369Z"
   },
   {
    "duration": 5,
    "start_time": "2023-05-03T04:54:37.378Z"
   },
   {
    "duration": 11,
    "start_time": "2023-05-03T04:54:37.384Z"
   },
   {
    "duration": 5,
    "start_time": "2023-05-03T04:54:37.397Z"
   },
   {
    "duration": 9,
    "start_time": "2023-05-03T04:54:37.403Z"
   },
   {
    "duration": 14,
    "start_time": "2023-05-03T04:54:37.413Z"
   },
   {
    "duration": 809,
    "start_time": "2023-05-03T05:34:20.038Z"
   },
   {
    "duration": 25,
    "start_time": "2023-05-03T05:34:20.849Z"
   },
   {
    "duration": 50,
    "start_time": "2023-05-03T05:34:20.876Z"
   },
   {
    "duration": 12,
    "start_time": "2023-05-03T05:34:20.928Z"
   },
   {
    "duration": 13,
    "start_time": "2023-05-03T05:34:20.942Z"
   },
   {
    "duration": 7,
    "start_time": "2023-05-03T05:34:20.956Z"
   },
   {
    "duration": 6,
    "start_time": "2023-05-03T05:34:20.965Z"
   },
   {
    "duration": 10,
    "start_time": "2023-05-03T05:34:20.973Z"
   },
   {
    "duration": 18,
    "start_time": "2023-05-03T05:34:20.984Z"
   },
   {
    "duration": 8,
    "start_time": "2023-05-03T05:34:21.005Z"
   },
   {
    "duration": 26,
    "start_time": "2023-05-03T05:34:21.015Z"
   },
   {
    "duration": 16,
    "start_time": "2023-05-03T05:34:21.042Z"
   },
   {
    "duration": 15,
    "start_time": "2023-05-03T05:34:21.059Z"
   },
   {
    "duration": 23,
    "start_time": "2023-05-03T05:34:21.076Z"
   },
   {
    "duration": 19,
    "start_time": "2023-05-03T05:34:21.101Z"
   },
   {
    "duration": 7,
    "start_time": "2023-05-03T05:34:21.122Z"
   },
   {
    "duration": 10,
    "start_time": "2023-05-03T05:34:21.130Z"
   },
   {
    "duration": 5,
    "start_time": "2023-05-03T05:34:21.142Z"
   },
   {
    "duration": 3,
    "start_time": "2023-05-03T05:34:21.149Z"
   },
   {
    "duration": 6,
    "start_time": "2023-05-03T05:34:21.153Z"
   },
   {
    "duration": 9,
    "start_time": "2023-05-03T05:34:21.161Z"
   },
   {
    "duration": 23,
    "start_time": "2023-05-03T05:34:21.172Z"
   },
   {
    "duration": 5,
    "start_time": "2023-05-03T05:34:21.197Z"
   },
   {
    "duration": 6,
    "start_time": "2023-05-03T05:34:21.203Z"
   },
   {
    "duration": 12,
    "start_time": "2023-05-03T05:34:21.211Z"
   },
   {
    "duration": 6,
    "start_time": "2023-05-03T05:34:21.224Z"
   },
   {
    "duration": 10,
    "start_time": "2023-05-03T05:34:21.232Z"
   },
   {
    "duration": 4,
    "start_time": "2023-05-03T05:34:21.247Z"
   },
   {
    "duration": 5,
    "start_time": "2023-05-03T05:34:21.253Z"
   },
   {
    "duration": 36,
    "start_time": "2023-05-03T05:34:21.260Z"
   },
   {
    "duration": 433,
    "start_time": "2023-05-03T05:34:21.298Z"
   },
   {
    "duration": 9,
    "start_time": "2023-05-03T05:34:21.733Z"
   },
   {
    "duration": 9,
    "start_time": "2023-05-03T05:34:21.743Z"
   },
   {
    "duration": 131,
    "start_time": "2023-05-03T05:34:21.753Z"
   },
   {
    "duration": 256,
    "start_time": "2023-05-03T05:34:21.885Z"
   },
   {
    "duration": 8,
    "start_time": "2023-05-03T05:34:22.143Z"
   },
   {
    "duration": 215,
    "start_time": "2023-05-03T05:34:22.153Z"
   },
   {
    "duration": 5,
    "start_time": "2023-05-03T05:34:22.370Z"
   },
   {
    "duration": 25,
    "start_time": "2023-05-03T05:34:22.376Z"
   },
   {
    "duration": 8,
    "start_time": "2023-05-03T05:34:22.403Z"
   },
   {
    "duration": 207,
    "start_time": "2023-05-03T05:34:22.413Z"
   },
   {
    "duration": 6,
    "start_time": "2023-05-03T05:34:22.621Z"
   },
   {
    "duration": 220,
    "start_time": "2023-05-03T05:34:22.628Z"
   },
   {
    "duration": 4,
    "start_time": "2023-05-03T05:34:22.849Z"
   },
   {
    "duration": 8,
    "start_time": "2023-05-03T05:34:22.855Z"
   },
   {
    "duration": 21,
    "start_time": "2023-05-03T05:34:22.864Z"
   },
   {
    "duration": 13,
    "start_time": "2023-05-03T05:34:22.886Z"
   },
   {
    "duration": 14,
    "start_time": "2023-05-03T05:34:22.900Z"
   },
   {
    "duration": 15,
    "start_time": "2023-05-03T05:34:22.916Z"
   },
   {
    "duration": 11,
    "start_time": "2023-05-03T05:34:22.932Z"
   },
   {
    "duration": 10,
    "start_time": "2023-05-03T05:34:22.945Z"
   },
   {
    "duration": 11,
    "start_time": "2023-05-03T05:34:22.957Z"
   },
   {
    "duration": 28,
    "start_time": "2023-05-03T05:34:22.969Z"
   },
   {
    "duration": 198,
    "start_time": "2023-05-03T05:34:22.998Z"
   },
   {
    "duration": 5,
    "start_time": "2023-05-03T05:34:23.197Z"
   },
   {
    "duration": 9,
    "start_time": "2023-05-03T05:34:23.203Z"
   },
   {
    "duration": 319,
    "start_time": "2023-05-03T05:34:23.214Z"
   },
   {
    "duration": 5,
    "start_time": "2023-05-03T05:34:23.534Z"
   },
   {
    "duration": 16,
    "start_time": "2023-05-03T05:34:23.540Z"
   },
   {
    "duration": 229,
    "start_time": "2023-05-03T05:34:23.558Z"
   },
   {
    "duration": 7,
    "start_time": "2023-05-03T05:34:23.789Z"
   },
   {
    "duration": 213,
    "start_time": "2023-05-03T05:34:23.798Z"
   },
   {
    "duration": 4,
    "start_time": "2023-05-03T05:34:24.012Z"
   },
   {
    "duration": 16,
    "start_time": "2023-05-03T05:34:24.017Z"
   },
   {
    "duration": 250,
    "start_time": "2023-05-03T05:34:24.034Z"
   },
   {
    "duration": 10,
    "start_time": "2023-05-03T05:34:24.286Z"
   },
   {
    "duration": 218,
    "start_time": "2023-05-03T05:34:24.297Z"
   },
   {
    "duration": 4,
    "start_time": "2023-05-03T05:34:24.517Z"
   },
   {
    "duration": 35,
    "start_time": "2023-05-03T05:34:24.524Z"
   },
   {
    "duration": 12,
    "start_time": "2023-05-03T05:34:24.561Z"
   },
   {
    "duration": 89,
    "start_time": "2023-05-03T05:34:24.594Z"
   },
   {
    "duration": 20,
    "start_time": "2023-05-03T05:34:24.685Z"
   },
   {
    "duration": 3,
    "start_time": "2023-05-03T05:34:24.706Z"
   },
   {
    "duration": 11315,
    "start_time": "2023-05-03T05:34:24.711Z"
   },
   {
    "duration": 7475,
    "start_time": "2023-05-03T05:34:36.027Z"
   },
   {
    "duration": 9,
    "start_time": "2023-05-03T05:34:43.504Z"
   },
   {
    "duration": 7,
    "start_time": "2023-05-03T05:34:43.515Z"
   },
   {
    "duration": 4,
    "start_time": "2023-05-03T05:34:43.523Z"
   },
   {
    "duration": 6,
    "start_time": "2023-05-03T05:34:43.528Z"
   },
   {
    "duration": 7,
    "start_time": "2023-05-03T05:34:43.535Z"
   },
   {
    "duration": 13,
    "start_time": "2023-05-03T05:34:43.543Z"
   },
   {
    "duration": 4,
    "start_time": "2023-05-03T05:43:50.878Z"
   },
   {
    "duration": 4,
    "start_time": "2023-05-03T05:47:59.953Z"
   },
   {
    "duration": 5,
    "start_time": "2023-05-03T05:48:22.077Z"
   },
   {
    "duration": 1046,
    "start_time": "2023-05-03T09:00:01.032Z"
   },
   {
    "duration": 97,
    "start_time": "2023-05-03T09:00:02.081Z"
   },
   {
    "duration": 68,
    "start_time": "2023-05-03T09:00:02.181Z"
   },
   {
    "duration": 81,
    "start_time": "2023-05-03T09:00:02.252Z"
   },
   {
    "duration": 21,
    "start_time": "2023-05-03T09:00:02.335Z"
   },
   {
    "duration": 33,
    "start_time": "2023-05-03T09:00:02.357Z"
   },
   {
    "duration": 41,
    "start_time": "2023-05-03T09:00:02.392Z"
   },
   {
    "duration": 26,
    "start_time": "2023-05-03T09:00:02.435Z"
   },
   {
    "duration": 39,
    "start_time": "2023-05-03T09:00:02.464Z"
   },
   {
    "duration": 35,
    "start_time": "2023-05-03T09:00:02.506Z"
   },
   {
    "duration": 28,
    "start_time": "2023-05-03T09:00:02.543Z"
   },
   {
    "duration": 28,
    "start_time": "2023-05-03T09:00:02.573Z"
   },
   {
    "duration": 30,
    "start_time": "2023-05-03T09:00:02.604Z"
   },
   {
    "duration": 35,
    "start_time": "2023-05-03T09:00:02.636Z"
   },
   {
    "duration": 32,
    "start_time": "2023-05-03T09:00:02.673Z"
   },
   {
    "duration": 35,
    "start_time": "2023-05-03T09:00:02.707Z"
   },
   {
    "duration": 25,
    "start_time": "2023-05-03T09:00:02.744Z"
   },
   {
    "duration": 32,
    "start_time": "2023-05-03T09:00:02.771Z"
   },
   {
    "duration": 5,
    "start_time": "2023-05-03T09:00:02.805Z"
   },
   {
    "duration": 16,
    "start_time": "2023-05-03T09:00:02.812Z"
   },
   {
    "duration": 17,
    "start_time": "2023-05-03T09:00:02.830Z"
   },
   {
    "duration": 18,
    "start_time": "2023-05-03T09:00:02.848Z"
   },
   {
    "duration": 26,
    "start_time": "2023-05-03T09:00:02.868Z"
   },
   {
    "duration": 31,
    "start_time": "2023-05-03T09:00:02.896Z"
   },
   {
    "duration": 19,
    "start_time": "2023-05-03T09:00:02.929Z"
   },
   {
    "duration": 13,
    "start_time": "2023-05-03T09:00:02.950Z"
   },
   {
    "duration": 27,
    "start_time": "2023-05-03T09:00:02.965Z"
   },
   {
    "duration": 38,
    "start_time": "2023-05-03T09:00:02.998Z"
   },
   {
    "duration": 14,
    "start_time": "2023-05-03T09:00:03.038Z"
   },
   {
    "duration": 51,
    "start_time": "2023-05-03T09:00:03.054Z"
   },
   {
    "duration": 708,
    "start_time": "2023-05-03T09:00:03.107Z"
   },
   {
    "duration": 12,
    "start_time": "2023-05-03T09:00:03.817Z"
   },
   {
    "duration": 24,
    "start_time": "2023-05-03T09:00:03.831Z"
   },
   {
    "duration": 158,
    "start_time": "2023-05-03T09:00:03.857Z"
   },
   {
    "duration": 323,
    "start_time": "2023-05-03T09:00:04.017Z"
   },
   {
    "duration": 12,
    "start_time": "2023-05-03T09:00:04.342Z"
   },
   {
    "duration": 276,
    "start_time": "2023-05-03T09:00:04.356Z"
   },
   {
    "duration": 6,
    "start_time": "2023-05-03T09:00:04.634Z"
   },
   {
    "duration": 32,
    "start_time": "2023-05-03T09:00:04.642Z"
   },
   {
    "duration": 21,
    "start_time": "2023-05-03T09:00:04.677Z"
   },
   {
    "duration": 256,
    "start_time": "2023-05-03T09:00:04.699Z"
   },
   {
    "duration": 5,
    "start_time": "2023-05-03T09:00:04.956Z"
   },
   {
    "duration": 241,
    "start_time": "2023-05-03T09:00:04.963Z"
   },
   {
    "duration": 5,
    "start_time": "2023-05-03T09:00:05.206Z"
   },
   {
    "duration": 68,
    "start_time": "2023-05-03T09:00:05.213Z"
   },
   {
    "duration": 26,
    "start_time": "2023-05-03T09:00:05.283Z"
   },
   {
    "duration": 11,
    "start_time": "2023-05-03T09:00:05.311Z"
   },
   {
    "duration": 26,
    "start_time": "2023-05-03T09:00:05.324Z"
   },
   {
    "duration": 17,
    "start_time": "2023-05-03T09:00:05.353Z"
   },
   {
    "duration": 24,
    "start_time": "2023-05-03T09:00:05.372Z"
   },
   {
    "duration": 10,
    "start_time": "2023-05-03T09:00:05.399Z"
   },
   {
    "duration": 15,
    "start_time": "2023-05-03T09:00:05.412Z"
   },
   {
    "duration": 119,
    "start_time": "2023-05-03T09:00:05.429Z"
   },
   {
    "duration": 12,
    "start_time": "2023-05-03T09:00:05.550Z"
   },
   {
    "duration": 261,
    "start_time": "2023-05-03T09:00:05.564Z"
   },
   {
    "duration": 6,
    "start_time": "2023-05-03T09:00:05.827Z"
   },
   {
    "duration": 39,
    "start_time": "2023-05-03T09:00:05.836Z"
   },
   {
    "duration": 253,
    "start_time": "2023-05-03T09:00:05.877Z"
   },
   {
    "duration": 5,
    "start_time": "2023-05-03T09:00:06.132Z"
   },
   {
    "duration": 39,
    "start_time": "2023-05-03T09:00:06.139Z"
   },
   {
    "duration": 239,
    "start_time": "2023-05-03T09:00:06.180Z"
   },
   {
    "duration": 5,
    "start_time": "2023-05-03T09:00:06.421Z"
   },
   {
    "duration": 271,
    "start_time": "2023-05-03T09:00:06.428Z"
   },
   {
    "duration": 6,
    "start_time": "2023-05-03T09:00:06.702Z"
   },
   {
    "duration": 36,
    "start_time": "2023-05-03T09:00:06.709Z"
   },
   {
    "duration": 309,
    "start_time": "2023-05-03T09:00:06.748Z"
   },
   {
    "duration": 5,
    "start_time": "2023-05-03T09:00:07.059Z"
   },
   {
    "duration": 276,
    "start_time": "2023-05-03T09:00:07.066Z"
   },
   {
    "duration": 5,
    "start_time": "2023-05-03T09:00:07.344Z"
   },
   {
    "duration": 142,
    "start_time": "2023-05-03T09:00:07.350Z"
   },
   {
    "duration": 15,
    "start_time": "2023-05-03T09:00:07.494Z"
   },
   {
    "duration": 35,
    "start_time": "2023-05-03T09:00:07.511Z"
   },
   {
    "duration": 42,
    "start_time": "2023-05-03T09:00:07.548Z"
   },
   {
    "duration": 4,
    "start_time": "2023-05-03T09:00:07.592Z"
   },
   {
    "duration": 14697,
    "start_time": "2023-05-03T09:00:07.598Z"
   },
   {
    "duration": 9520,
    "start_time": "2023-05-03T09:00:22.297Z"
   },
   {
    "duration": 11,
    "start_time": "2023-05-03T09:00:31.820Z"
   },
   {
    "duration": 31,
    "start_time": "2023-05-03T09:00:31.833Z"
   },
   {
    "duration": 56,
    "start_time": "2023-05-03T09:00:31.865Z"
   },
   {
    "duration": 36,
    "start_time": "2023-05-03T09:00:31.923Z"
   },
   {
    "duration": 26,
    "start_time": "2023-05-03T09:00:31.961Z"
   },
   {
    "duration": 29,
    "start_time": "2023-05-03T09:00:31.992Z"
   },
   {
    "duration": 23,
    "start_time": "2023-05-03T09:00:32.023Z"
   },
   {
    "duration": 8,
    "start_time": "2023-05-03T09:35:13.335Z"
   },
   {
    "duration": 81,
    "start_time": "2023-05-03T09:36:31.633Z"
   },
   {
    "duration": 6,
    "start_time": "2023-05-03T09:36:38.828Z"
   },
   {
    "duration": 6,
    "start_time": "2023-05-03T09:36:53.017Z"
   },
   {
    "duration": 6,
    "start_time": "2023-05-03T09:36:58.357Z"
   },
   {
    "duration": 5,
    "start_time": "2023-05-03T09:37:02.401Z"
   },
   {
    "duration": 5,
    "start_time": "2023-05-03T09:37:06.417Z"
   },
   {
    "duration": 7,
    "start_time": "2023-05-03T09:37:10.064Z"
   },
   {
    "duration": 79,
    "start_time": "2023-05-03T09:37:48.721Z"
   },
   {
    "duration": 7,
    "start_time": "2023-05-03T09:38:05.600Z"
   },
   {
    "duration": 7,
    "start_time": "2023-05-03T09:38:19.536Z"
   },
   {
    "duration": 6,
    "start_time": "2023-05-03T09:38:31.456Z"
   },
   {
    "duration": 5,
    "start_time": "2023-05-03T09:38:39.981Z"
   },
   {
    "duration": 106,
    "start_time": "2023-05-03T09:39:14.597Z"
   },
   {
    "duration": 6,
    "start_time": "2023-05-03T09:39:57.993Z"
   },
   {
    "duration": 6,
    "start_time": "2023-05-03T09:40:22.725Z"
   },
   {
    "duration": 335,
    "start_time": "2023-05-03T09:55:39.251Z"
   },
   {
    "duration": 17,
    "start_time": "2023-05-03T09:55:48.447Z"
   },
   {
    "duration": 4,
    "start_time": "2023-05-03T09:57:46.711Z"
   },
   {
    "duration": 183,
    "start_time": "2023-05-03T09:57:53.282Z"
   },
   {
    "duration": 149,
    "start_time": "2023-05-03T10:00:05.454Z"
   },
   {
    "duration": 147,
    "start_time": "2023-05-03T10:00:16.461Z"
   },
   {
    "duration": 147,
    "start_time": "2023-05-03T10:03:17.560Z"
   },
   {
    "duration": 149,
    "start_time": "2023-05-03T10:05:47.021Z"
   },
   {
    "duration": 401,
    "start_time": "2023-05-03T10:06:16.194Z"
   },
   {
    "duration": 158,
    "start_time": "2023-05-03T10:11:46.285Z"
   },
   {
    "duration": 15,
    "start_time": "2023-05-03T10:12:30.589Z"
   },
   {
    "duration": 3,
    "start_time": "2023-05-03T10:13:14.756Z"
   },
   {
    "duration": 129,
    "start_time": "2023-05-03T10:13:42.552Z"
   },
   {
    "duration": 8,
    "start_time": "2023-05-03T10:14:29.544Z"
   },
   {
    "duration": 1332,
    "start_time": "2023-05-03T10:14:36.923Z"
   },
   {
    "duration": 12,
    "start_time": "2023-05-03T10:16:02.713Z"
   },
   {
    "duration": 5,
    "start_time": "2023-05-03T10:16:19.556Z"
   },
   {
    "duration": 7,
    "start_time": "2023-05-03T10:16:27.524Z"
   },
   {
    "duration": 6,
    "start_time": "2023-05-03T10:16:32.964Z"
   },
   {
    "duration": 79,
    "start_time": "2023-05-03T10:16:40.798Z"
   },
   {
    "duration": 76,
    "start_time": "2023-05-03T10:19:37.338Z"
   },
   {
    "duration": 67,
    "start_time": "2023-05-03T10:20:53.589Z"
   },
   {
    "duration": 120,
    "start_time": "2023-05-03T11:16:22.035Z"
   },
   {
    "duration": 76,
    "start_time": "2023-05-03T11:16:33.017Z"
   },
   {
    "duration": 84,
    "start_time": "2023-05-03T11:16:42.589Z"
   },
   {
    "duration": 91,
    "start_time": "2023-05-03T11:16:58.152Z"
   },
   {
    "duration": 11,
    "start_time": "2023-05-03T11:17:16.090Z"
   },
   {
    "duration": 10,
    "start_time": "2023-05-03T11:17:25.239Z"
   },
   {
    "duration": 6,
    "start_time": "2023-05-03T11:17:34.784Z"
   },
   {
    "duration": 96,
    "start_time": "2023-05-03T11:17:47.851Z"
   },
   {
    "duration": 80,
    "start_time": "2023-05-03T11:18:16.717Z"
   },
   {
    "duration": 97,
    "start_time": "2023-05-03T11:18:24.226Z"
   },
   {
    "duration": 117,
    "start_time": "2023-05-03T11:18:55.097Z"
   },
   {
    "duration": 129,
    "start_time": "2023-05-03T11:19:21.607Z"
   },
   {
    "duration": 80,
    "start_time": "2023-05-03T11:23:39.562Z"
   },
   {
    "duration": 97,
    "start_time": "2023-05-03T11:26:15.119Z"
   },
   {
    "duration": 80,
    "start_time": "2023-05-03T11:26:28.450Z"
   },
   {
    "duration": 104,
    "start_time": "2023-05-03T11:26:41.448Z"
   },
   {
    "duration": 117,
    "start_time": "2023-05-03T11:27:33.858Z"
   },
   {
    "duration": 148,
    "start_time": "2023-05-03T11:29:01.086Z"
   },
   {
    "duration": 87,
    "start_time": "2023-05-03T11:29:09.318Z"
   },
   {
    "duration": 90,
    "start_time": "2023-05-03T11:29:18.529Z"
   },
   {
    "duration": 114,
    "start_time": "2023-05-03T11:32:22.519Z"
   },
   {
    "duration": 5,
    "start_time": "2023-05-03T11:32:38.718Z"
   },
   {
    "duration": 95,
    "start_time": "2023-05-03T11:32:44.418Z"
   },
   {
    "duration": 104,
    "start_time": "2023-05-03T11:33:19.119Z"
   },
   {
    "duration": 102,
    "start_time": "2023-05-03T11:33:36.030Z"
   },
   {
    "duration": 121,
    "start_time": "2023-05-03T11:35:20.371Z"
   },
   {
    "duration": 88,
    "start_time": "2023-05-03T11:35:33.715Z"
   },
   {
    "duration": 204,
    "start_time": "2023-05-03T11:52:35.117Z"
   },
   {
    "duration": 15,
    "start_time": "2023-05-03T11:54:27.066Z"
   },
   {
    "duration": 16,
    "start_time": "2023-05-03T11:56:10.639Z"
   },
   {
    "duration": 11,
    "start_time": "2023-05-03T11:56:34.146Z"
   },
   {
    "duration": 235,
    "start_time": "2023-05-03T11:56:43.008Z"
   },
   {
    "duration": 15,
    "start_time": "2023-05-03T12:00:12.870Z"
   },
   {
    "duration": 10,
    "start_time": "2023-05-03T12:00:59.052Z"
   },
   {
    "duration": 75,
    "start_time": "2023-05-03T12:01:17.980Z"
   },
   {
    "duration": 160,
    "start_time": "2023-05-03T12:01:31.523Z"
   },
   {
    "duration": 146,
    "start_time": "2023-05-03T12:01:41.322Z"
   },
   {
    "duration": 188,
    "start_time": "2023-05-03T12:02:10.618Z"
   },
   {
    "duration": 189,
    "start_time": "2023-05-03T12:02:31.823Z"
   },
   {
    "duration": 15,
    "start_time": "2023-05-03T12:03:03.368Z"
   },
   {
    "duration": 178,
    "start_time": "2023-05-03T12:03:22.943Z"
   },
   {
    "duration": 200,
    "start_time": "2023-05-03T12:03:32.009Z"
   },
   {
    "duration": 15,
    "start_time": "2023-05-03T12:04:52.526Z"
   },
   {
    "duration": 10,
    "start_time": "2023-05-03T12:05:07.126Z"
   },
   {
    "duration": 233,
    "start_time": "2023-05-03T12:05:47.726Z"
   },
   {
    "duration": 213,
    "start_time": "2023-05-03T12:06:31.622Z"
   },
   {
    "duration": 818,
    "start_time": "2023-05-03T12:20:51.604Z"
   },
   {
    "duration": 233,
    "start_time": "2023-05-03T12:21:18.922Z"
   },
   {
    "duration": 17,
    "start_time": "2023-05-03T12:40:05.695Z"
   },
   {
    "duration": 12,
    "start_time": "2023-05-03T12:40:22.590Z"
   },
   {
    "duration": 18,
    "start_time": "2023-05-03T12:40:47.845Z"
   },
   {
    "duration": 11,
    "start_time": "2023-05-03T12:41:13.209Z"
   },
   {
    "duration": 13,
    "start_time": "2023-05-03T12:41:25.139Z"
   },
   {
    "duration": 16,
    "start_time": "2023-05-03T12:42:10.502Z"
   },
   {
    "duration": 14,
    "start_time": "2023-05-03T12:42:29.370Z"
   },
   {
    "duration": 15,
    "start_time": "2023-05-03T12:42:41.786Z"
   },
   {
    "duration": 1234,
    "start_time": "2023-05-03T12:42:59.197Z"
   },
   {
    "duration": 11,
    "start_time": "2023-05-03T12:43:14.366Z"
   },
   {
    "duration": 12,
    "start_time": "2023-05-03T12:43:29.338Z"
   },
   {
    "duration": 21,
    "start_time": "2023-05-03T12:43:34.017Z"
   },
   {
    "duration": 1365,
    "start_time": "2023-05-03T12:53:01.180Z"
   },
   {
    "duration": 26,
    "start_time": "2023-05-03T12:53:02.548Z"
   },
   {
    "duration": 55,
    "start_time": "2023-05-03T12:53:02.576Z"
   },
   {
    "duration": 14,
    "start_time": "2023-05-03T12:53:02.634Z"
   },
   {
    "duration": 13,
    "start_time": "2023-05-03T12:53:02.650Z"
   },
   {
    "duration": 51,
    "start_time": "2023-05-03T12:53:02.665Z"
   },
   {
    "duration": 96,
    "start_time": "2023-05-03T12:53:02.718Z"
   },
   {
    "duration": 19,
    "start_time": "2023-05-03T12:53:02.816Z"
   },
   {
    "duration": 27,
    "start_time": "2023-05-03T12:53:02.837Z"
   },
   {
    "duration": 30,
    "start_time": "2023-05-03T12:53:02.867Z"
   },
   {
    "duration": 23,
    "start_time": "2023-05-03T12:53:02.902Z"
   },
   {
    "duration": 43,
    "start_time": "2023-05-03T12:53:02.927Z"
   },
   {
    "duration": 29,
    "start_time": "2023-05-03T12:53:02.972Z"
   },
   {
    "duration": 9,
    "start_time": "2023-05-03T12:53:03.009Z"
   },
   {
    "duration": 15,
    "start_time": "2023-05-03T12:53:03.020Z"
   },
   {
    "duration": 30,
    "start_time": "2023-05-03T12:53:03.037Z"
   },
   {
    "duration": 12,
    "start_time": "2023-05-03T12:53:03.069Z"
   },
   {
    "duration": 51,
    "start_time": "2023-05-03T12:53:03.082Z"
   },
   {
    "duration": 18,
    "start_time": "2023-05-03T12:53:03.135Z"
   },
   {
    "duration": 17,
    "start_time": "2023-05-03T12:53:03.155Z"
   },
   {
    "duration": 12,
    "start_time": "2023-05-03T12:53:03.174Z"
   },
   {
    "duration": 13,
    "start_time": "2023-05-03T12:53:03.188Z"
   },
   {
    "duration": 18,
    "start_time": "2023-05-03T12:53:03.203Z"
   },
   {
    "duration": 8,
    "start_time": "2023-05-03T12:53:03.223Z"
   },
   {
    "duration": 22,
    "start_time": "2023-05-03T12:53:03.233Z"
   },
   {
    "duration": 8,
    "start_time": "2023-05-03T12:53:03.257Z"
   },
   {
    "duration": 30,
    "start_time": "2023-05-03T12:53:03.266Z"
   },
   {
    "duration": 20,
    "start_time": "2023-05-03T12:53:03.309Z"
   },
   {
    "duration": 9,
    "start_time": "2023-05-03T12:53:03.331Z"
   },
   {
    "duration": 14,
    "start_time": "2023-05-03T12:53:03.341Z"
   },
   {
    "duration": 22,
    "start_time": "2023-05-03T12:53:03.357Z"
   },
   {
    "duration": 230,
    "start_time": "2023-05-03T12:53:03.380Z"
   },
   {
    "duration": 13,
    "start_time": "2023-05-03T12:53:03.616Z"
   },
   {
    "duration": 15,
    "start_time": "2023-05-03T12:53:03.631Z"
   },
   {
    "duration": 175,
    "start_time": "2023-05-03T12:53:03.648Z"
   },
   {
    "duration": 98,
    "start_time": "2023-05-03T12:53:03.825Z"
   },
   {
    "duration": 251,
    "start_time": "2023-05-03T12:53:03.926Z"
   },
   {
    "duration": 20,
    "start_time": "2023-05-03T12:53:04.179Z"
   },
   {
    "duration": 268,
    "start_time": "2023-05-03T12:53:04.201Z"
   },
   {
    "duration": 6,
    "start_time": "2023-05-03T12:53:04.471Z"
   },
   {
    "duration": 36,
    "start_time": "2023-05-03T12:53:04.478Z"
   },
   {
    "duration": 12,
    "start_time": "2023-05-03T12:53:04.516Z"
   },
   {
    "duration": 288,
    "start_time": "2023-05-03T12:53:04.529Z"
   },
   {
    "duration": 5,
    "start_time": "2023-05-03T12:53:04.819Z"
   },
   {
    "duration": 248,
    "start_time": "2023-05-03T12:53:04.826Z"
   },
   {
    "duration": 5,
    "start_time": "2023-05-03T12:53:05.076Z"
   },
   {
    "duration": 25,
    "start_time": "2023-05-03T12:53:05.089Z"
   },
   {
    "duration": 50,
    "start_time": "2023-05-03T12:53:05.117Z"
   },
   {
    "duration": 30,
    "start_time": "2023-05-03T12:53:05.169Z"
   },
   {
    "duration": 33,
    "start_time": "2023-05-03T12:53:05.203Z"
   },
   {
    "duration": 16,
    "start_time": "2023-05-03T12:53:05.238Z"
   },
   {
    "duration": 27,
    "start_time": "2023-05-03T12:53:05.256Z"
   },
   {
    "duration": 33,
    "start_time": "2023-05-03T12:53:05.286Z"
   },
   {
    "duration": 15,
    "start_time": "2023-05-03T12:53:05.320Z"
   },
   {
    "duration": 119,
    "start_time": "2023-05-03T12:53:05.337Z"
   },
   {
    "duration": 10,
    "start_time": "2023-05-03T12:53:05.458Z"
   },
   {
    "duration": 281,
    "start_time": "2023-05-03T12:53:05.469Z"
   },
   {
    "duration": 5,
    "start_time": "2023-05-03T12:53:05.752Z"
   },
   {
    "duration": 12,
    "start_time": "2023-05-03T12:53:05.760Z"
   },
   {
    "duration": 282,
    "start_time": "2023-05-03T12:53:05.774Z"
   },
   {
    "duration": 5,
    "start_time": "2023-05-03T12:53:06.058Z"
   },
   {
    "duration": 46,
    "start_time": "2023-05-03T12:53:06.065Z"
   },
   {
    "duration": 292,
    "start_time": "2023-05-03T12:53:06.117Z"
   },
   {
    "duration": 7,
    "start_time": "2023-05-03T12:53:06.413Z"
   },
   {
    "duration": 293,
    "start_time": "2023-05-03T12:53:06.422Z"
   },
   {
    "duration": 5,
    "start_time": "2023-05-03T12:53:06.717Z"
   },
   {
    "duration": 128,
    "start_time": "2023-05-03T12:53:06.724Z"
   },
   {
    "duration": 318,
    "start_time": "2023-05-03T12:53:06.855Z"
   },
   {
    "duration": 5,
    "start_time": "2023-05-03T12:53:07.175Z"
   },
   {
    "duration": 427,
    "start_time": "2023-05-03T12:53:07.192Z"
   },
   {
    "duration": 4,
    "start_time": "2023-05-03T12:53:07.621Z"
   },
   {
    "duration": 145,
    "start_time": "2023-05-03T12:53:07.627Z"
   },
   {
    "duration": 32,
    "start_time": "2023-05-03T12:53:07.774Z"
   },
   {
    "duration": 40,
    "start_time": "2023-05-03T12:53:07.807Z"
   },
   {
    "duration": 18,
    "start_time": "2023-05-03T12:53:07.849Z"
   },
   {
    "duration": 25,
    "start_time": "2023-05-03T12:53:07.869Z"
   },
   {
    "duration": 14930,
    "start_time": "2023-05-03T12:53:07.896Z"
   },
   {
    "duration": 9979,
    "start_time": "2023-05-03T12:53:22.829Z"
   },
   {
    "duration": 11,
    "start_time": "2023-05-03T12:53:32.813Z"
   },
   {
    "duration": 20,
    "start_time": "2023-05-03T12:53:32.825Z"
   },
   {
    "duration": 23,
    "start_time": "2023-05-03T12:53:32.847Z"
   },
   {
    "duration": 26,
    "start_time": "2023-05-03T12:53:32.876Z"
   },
   {
    "duration": 26,
    "start_time": "2023-05-03T12:53:32.903Z"
   },
   {
    "duration": 31,
    "start_time": "2023-05-03T12:53:32.931Z"
   },
   {
    "duration": 12,
    "start_time": "2023-05-03T12:53:32.963Z"
   },
   {
    "duration": 1769,
    "start_time": "2023-05-03T12:59:03.816Z"
   },
   {
    "duration": 1600,
    "start_time": "2023-05-03T12:59:50.850Z"
   },
   {
    "duration": 245,
    "start_time": "2023-05-03T13:00:09.159Z"
   },
   {
    "duration": 361,
    "start_time": "2023-05-03T13:00:34.608Z"
   },
   {
    "duration": 433,
    "start_time": "2023-05-03T13:14:54.025Z"
   },
   {
    "duration": 375,
    "start_time": "2023-05-03T13:15:39.114Z"
   },
   {
    "duration": 211,
    "start_time": "2023-05-03T13:15:47.262Z"
   },
   {
    "duration": 270,
    "start_time": "2023-05-03T13:15:57.118Z"
   },
   {
    "duration": 368,
    "start_time": "2023-05-03T13:16:36.383Z"
   },
   {
    "duration": 330,
    "start_time": "2023-05-03T13:16:41.932Z"
   },
   {
    "duration": 501,
    "start_time": "2023-05-03T13:16:52.286Z"
   },
   {
    "duration": 310,
    "start_time": "2023-05-03T13:16:55.711Z"
   },
   {
    "duration": 282,
    "start_time": "2023-05-03T13:43:32.622Z"
   },
   {
    "duration": 268,
    "start_time": "2023-05-03T13:45:49.731Z"
   },
   {
    "duration": 282,
    "start_time": "2023-05-03T13:46:20.363Z"
   },
   {
    "duration": 254,
    "start_time": "2023-05-03T13:49:16.772Z"
   },
   {
    "duration": 80,
    "start_time": "2023-05-03T14:14:06.375Z"
   },
   {
    "duration": 14,
    "start_time": "2023-05-03T14:17:52.107Z"
   },
   {
    "duration": 192,
    "start_time": "2023-05-03T14:18:14.349Z"
   },
   {
    "duration": 12,
    "start_time": "2023-05-03T14:18:43.170Z"
   },
   {
    "duration": 14,
    "start_time": "2023-05-03T14:19:00.621Z"
   },
   {
    "duration": 55,
    "start_time": "2023-05-03T14:22:18.398Z"
   },
   {
    "duration": 68,
    "start_time": "2023-05-03T14:23:23.513Z"
   },
   {
    "duration": 1317,
    "start_time": "2023-05-03T14:45:51.749Z"
   },
   {
    "duration": 25,
    "start_time": "2023-05-03T14:45:53.068Z"
   },
   {
    "duration": 27,
    "start_time": "2023-05-03T14:45:53.095Z"
   },
   {
    "duration": 14,
    "start_time": "2023-05-03T14:45:53.124Z"
   },
   {
    "duration": 25,
    "start_time": "2023-05-03T14:45:53.140Z"
   },
   {
    "duration": 10,
    "start_time": "2023-05-03T14:45:53.167Z"
   },
   {
    "duration": 27,
    "start_time": "2023-05-03T14:45:53.179Z"
   },
   {
    "duration": 16,
    "start_time": "2023-05-03T14:45:53.208Z"
   },
   {
    "duration": 16,
    "start_time": "2023-05-03T14:45:53.226Z"
   },
   {
    "duration": 11,
    "start_time": "2023-05-03T14:45:53.246Z"
   },
   {
    "duration": 20,
    "start_time": "2023-05-03T14:45:53.259Z"
   },
   {
    "duration": 25,
    "start_time": "2023-05-03T14:45:53.281Z"
   },
   {
    "duration": 18,
    "start_time": "2023-05-03T14:45:53.308Z"
   },
   {
    "duration": 8,
    "start_time": "2023-05-03T14:45:53.328Z"
   },
   {
    "duration": 15,
    "start_time": "2023-05-03T14:45:53.338Z"
   },
   {
    "duration": 10,
    "start_time": "2023-05-03T14:45:53.355Z"
   },
   {
    "duration": 30,
    "start_time": "2023-05-03T14:45:53.366Z"
   },
   {
    "duration": 11,
    "start_time": "2023-05-03T14:45:53.398Z"
   },
   {
    "duration": 11,
    "start_time": "2023-05-03T14:45:53.410Z"
   },
   {
    "duration": 6,
    "start_time": "2023-05-03T14:45:53.423Z"
   },
   {
    "duration": 6,
    "start_time": "2023-05-03T14:45:53.432Z"
   },
   {
    "duration": 11,
    "start_time": "2023-05-03T14:45:53.439Z"
   },
   {
    "duration": 44,
    "start_time": "2023-05-03T14:45:53.452Z"
   },
   {
    "duration": 7,
    "start_time": "2023-05-03T14:45:53.498Z"
   },
   {
    "duration": 15,
    "start_time": "2023-05-03T14:45:53.507Z"
   },
   {
    "duration": 6,
    "start_time": "2023-05-03T14:45:53.524Z"
   },
   {
    "duration": 12,
    "start_time": "2023-05-03T14:45:53.532Z"
   },
   {
    "duration": 12,
    "start_time": "2023-05-03T14:45:53.548Z"
   },
   {
    "duration": 27,
    "start_time": "2023-05-03T14:45:53.562Z"
   },
   {
    "duration": 8,
    "start_time": "2023-05-03T14:45:53.591Z"
   },
   {
    "duration": 10,
    "start_time": "2023-05-03T14:45:53.601Z"
   },
   {
    "duration": 227,
    "start_time": "2023-05-03T14:45:53.613Z"
   },
   {
    "duration": 12,
    "start_time": "2023-05-03T14:45:53.842Z"
   },
   {
    "duration": 101,
    "start_time": "2023-05-03T14:45:53.856Z"
   },
   {
    "duration": 232,
    "start_time": "2023-05-03T14:45:53.959Z"
   },
   {
    "duration": 333,
    "start_time": "2023-05-03T14:45:54.194Z"
   },
   {
    "duration": 18,
    "start_time": "2023-05-03T14:45:54.529Z"
   },
   {
    "duration": 12,
    "start_time": "2023-05-03T14:45:54.550Z"
   },
   {
    "duration": 284,
    "start_time": "2023-05-03T14:45:54.564Z"
   },
   {
    "duration": 5,
    "start_time": "2023-05-03T14:45:54.850Z"
   },
   {
    "duration": 242,
    "start_time": "2023-05-03T14:45:54.858Z"
   },
   {
    "duration": 5,
    "start_time": "2023-05-03T14:45:55.102Z"
   },
   {
    "duration": 268,
    "start_time": "2023-05-03T14:45:55.109Z"
   },
   {
    "duration": 3,
    "start_time": "2023-05-03T14:45:55.378Z"
   },
   {
    "duration": 29,
    "start_time": "2023-05-03T14:45:55.382Z"
   },
   {
    "duration": 21,
    "start_time": "2023-05-03T14:45:55.413Z"
   },
   {
    "duration": 31,
    "start_time": "2023-05-03T14:45:55.436Z"
   },
   {
    "duration": 69,
    "start_time": "2023-05-03T14:45:55.469Z"
   },
   {
    "duration": 58,
    "start_time": "2023-05-03T14:45:55.540Z"
   },
   {
    "duration": 44,
    "start_time": "2023-05-03T14:45:55.600Z"
   },
   {
    "duration": 12,
    "start_time": "2023-05-03T14:45:55.646Z"
   },
   {
    "duration": 27,
    "start_time": "2023-05-03T14:45:55.660Z"
   },
   {
    "duration": 363,
    "start_time": "2023-05-03T14:45:55.689Z"
   },
   {
    "duration": 239,
    "start_time": "2023-05-03T14:45:56.054Z"
   },
   {
    "duration": 255,
    "start_time": "2023-05-03T14:45:56.295Z"
   },
   {
    "duration": 275,
    "start_time": "2023-05-03T14:45:56.552Z"
   },
   {
    "duration": 60,
    "start_time": "2023-05-03T14:45:56.829Z"
   },
   {
    "duration": 132,
    "start_time": "2023-05-03T14:45:56.891Z"
   },
   {
    "duration": 16,
    "start_time": "2023-05-03T14:45:57.025Z"
   },
   {
    "duration": 53,
    "start_time": "2023-05-03T14:45:57.042Z"
   },
   {
    "duration": 17,
    "start_time": "2023-05-03T14:45:57.096Z"
   },
   {
    "duration": 20,
    "start_time": "2023-05-03T14:45:57.115Z"
   },
   {
    "duration": 22,
    "start_time": "2023-05-03T14:45:57.137Z"
   },
   {
    "duration": 14,
    "start_time": "2023-05-03T14:45:57.160Z"
   },
   {
    "duration": 14070,
    "start_time": "2023-05-03T14:45:57.175Z"
   },
   {
    "duration": 9169,
    "start_time": "2023-05-03T14:46:11.247Z"
   },
   {
    "duration": 171,
    "start_time": "2023-05-03T14:46:20.418Z"
   },
   {
    "duration": 0,
    "start_time": "2023-05-03T14:46:20.591Z"
   },
   {
    "duration": 0,
    "start_time": "2023-05-03T14:46:20.592Z"
   },
   {
    "duration": 0,
    "start_time": "2023-05-03T14:46:20.593Z"
   },
   {
    "duration": 0,
    "start_time": "2023-05-03T14:46:20.595Z"
   },
   {
    "duration": 0,
    "start_time": "2023-05-03T14:46:20.596Z"
   },
   {
    "duration": 0,
    "start_time": "2023-05-03T14:46:20.598Z"
   },
   {
    "duration": 0,
    "start_time": "2023-05-03T14:46:20.599Z"
   },
   {
    "duration": 22,
    "start_time": "2023-05-03T14:46:38.346Z"
   },
   {
    "duration": 17,
    "start_time": "2023-05-03T14:52:47.020Z"
   },
   {
    "duration": 15,
    "start_time": "2023-05-03T14:54:15.636Z"
   },
   {
    "duration": 1231,
    "start_time": "2023-05-03T15:05:58.135Z"
   },
   {
    "duration": 1180,
    "start_time": "2023-05-03T15:06:17.134Z"
   },
   {
    "duration": 15,
    "start_time": "2023-05-03T15:06:28.963Z"
   },
   {
    "duration": 9,
    "start_time": "2023-05-03T15:06:45.383Z"
   },
   {
    "duration": 10,
    "start_time": "2023-05-03T15:06:57.647Z"
   },
   {
    "duration": 11,
    "start_time": "2023-05-03T15:07:51.745Z"
   },
   {
    "duration": 7,
    "start_time": "2023-05-03T15:07:58.919Z"
   },
   {
    "duration": 7,
    "start_time": "2023-05-03T15:08:07.903Z"
   },
   {
    "duration": 4,
    "start_time": "2023-05-03T15:08:20.211Z"
   },
   {
    "duration": 6,
    "start_time": "2023-05-03T15:08:27.439Z"
   },
   {
    "duration": 16,
    "start_time": "2023-05-03T15:36:45.597Z"
   },
   {
    "duration": 131,
    "start_time": "2023-05-03T15:37:33.142Z"
   },
   {
    "duration": 63,
    "start_time": "2023-05-03T15:40:52.393Z"
   },
   {
    "duration": 59,
    "start_time": "2023-05-03T15:43:34.843Z"
   },
   {
    "duration": 61,
    "start_time": "2023-05-03T15:50:13.522Z"
   },
   {
    "duration": 96,
    "start_time": "2023-05-03T15:50:25.842Z"
   },
   {
    "duration": 129,
    "start_time": "2023-05-03T16:15:49.217Z"
   },
   {
    "duration": 75,
    "start_time": "2023-05-03T17:13:11.345Z"
   },
   {
    "duration": 17,
    "start_time": "2023-05-03T17:13:16.915Z"
   },
   {
    "duration": 1305,
    "start_time": "2023-05-03T19:35:29.961Z"
   },
   {
    "duration": 90,
    "start_time": "2023-05-03T19:35:31.269Z"
   },
   {
    "duration": 76,
    "start_time": "2023-05-03T19:35:31.361Z"
   },
   {
    "duration": 68,
    "start_time": "2023-05-03T19:35:31.439Z"
   },
   {
    "duration": 15,
    "start_time": "2023-05-03T19:35:31.508Z"
   },
   {
    "duration": 34,
    "start_time": "2023-05-03T19:35:31.525Z"
   },
   {
    "duration": 31,
    "start_time": "2023-05-03T19:35:31.560Z"
   },
   {
    "duration": 53,
    "start_time": "2023-05-03T19:35:31.593Z"
   },
   {
    "duration": 50,
    "start_time": "2023-05-03T19:35:31.647Z"
   },
   {
    "duration": 16,
    "start_time": "2023-05-03T19:35:31.699Z"
   },
   {
    "duration": 45,
    "start_time": "2023-05-03T19:35:31.716Z"
   },
   {
    "duration": 28,
    "start_time": "2023-05-03T19:35:31.763Z"
   },
   {
    "duration": 33,
    "start_time": "2023-05-03T19:35:31.793Z"
   },
   {
    "duration": 33,
    "start_time": "2023-05-03T19:35:31.828Z"
   },
   {
    "duration": 28,
    "start_time": "2023-05-03T19:35:31.863Z"
   },
   {
    "duration": 18,
    "start_time": "2023-05-03T19:35:31.893Z"
   },
   {
    "duration": 16,
    "start_time": "2023-05-03T19:35:31.913Z"
   },
   {
    "duration": 16,
    "start_time": "2023-05-03T19:35:31.931Z"
   },
   {
    "duration": 20,
    "start_time": "2023-05-03T19:35:31.948Z"
   },
   {
    "duration": 7,
    "start_time": "2023-05-03T19:35:31.969Z"
   },
   {
    "duration": 17,
    "start_time": "2023-05-03T19:35:31.978Z"
   },
   {
    "duration": 8,
    "start_time": "2023-05-03T19:35:31.997Z"
   },
   {
    "duration": 13,
    "start_time": "2023-05-03T19:35:32.006Z"
   },
   {
    "duration": 6,
    "start_time": "2023-05-03T19:35:32.020Z"
   },
   {
    "duration": 7,
    "start_time": "2023-05-03T19:35:32.028Z"
   },
   {
    "duration": 13,
    "start_time": "2023-05-03T19:35:32.036Z"
   },
   {
    "duration": 18,
    "start_time": "2023-05-03T19:35:32.051Z"
   },
   {
    "duration": 24,
    "start_time": "2023-05-03T19:35:32.073Z"
   },
   {
    "duration": 14,
    "start_time": "2023-05-03T19:35:32.099Z"
   },
   {
    "duration": 10,
    "start_time": "2023-05-03T19:35:32.115Z"
   },
   {
    "duration": 17,
    "start_time": "2023-05-03T19:35:32.126Z"
   },
   {
    "duration": 182,
    "start_time": "2023-05-03T19:35:32.145Z"
   },
   {
    "duration": 9,
    "start_time": "2023-05-03T19:35:32.329Z"
   },
   {
    "duration": 71,
    "start_time": "2023-05-03T19:35:32.339Z"
   },
   {
    "duration": 186,
    "start_time": "2023-05-03T19:35:32.412Z"
   },
   {
    "duration": 255,
    "start_time": "2023-05-03T19:35:32.599Z"
   },
   {
    "duration": 13,
    "start_time": "2023-05-03T19:35:32.856Z"
   },
   {
    "duration": 8,
    "start_time": "2023-05-03T19:35:32.871Z"
   },
   {
    "duration": 191,
    "start_time": "2023-05-03T19:35:32.894Z"
   },
   {
    "duration": 10,
    "start_time": "2023-05-03T19:35:33.086Z"
   },
   {
    "duration": 199,
    "start_time": "2023-05-03T19:35:33.097Z"
   },
   {
    "duration": 5,
    "start_time": "2023-05-03T19:35:33.297Z"
   },
   {
    "duration": 219,
    "start_time": "2023-05-03T19:35:33.304Z"
   },
   {
    "duration": 3,
    "start_time": "2023-05-03T19:35:33.524Z"
   },
   {
    "duration": 13,
    "start_time": "2023-05-03T19:35:33.528Z"
   },
   {
    "duration": 8,
    "start_time": "2023-05-03T19:35:33.543Z"
   },
   {
    "duration": 12,
    "start_time": "2023-05-03T19:35:33.552Z"
   },
   {
    "duration": 29,
    "start_time": "2023-05-03T19:35:33.566Z"
   },
   {
    "duration": 7,
    "start_time": "2023-05-03T19:35:33.597Z"
   },
   {
    "duration": 4,
    "start_time": "2023-05-03T19:35:33.606Z"
   },
   {
    "duration": 5,
    "start_time": "2023-05-03T19:35:33.611Z"
   },
   {
    "duration": 11,
    "start_time": "2023-05-03T19:35:33.617Z"
   },
   {
    "duration": 296,
    "start_time": "2023-05-03T19:35:33.629Z"
   },
   {
    "duration": 232,
    "start_time": "2023-05-03T19:35:33.927Z"
   },
   {
    "duration": 224,
    "start_time": "2023-05-03T19:35:34.161Z"
   },
   {
    "duration": 204,
    "start_time": "2023-05-03T19:35:34.386Z"
   },
   {
    "duration": 62,
    "start_time": "2023-05-03T19:35:34.591Z"
   },
   {
    "duration": 13,
    "start_time": "2023-05-03T19:35:34.655Z"
   },
   {
    "duration": 37,
    "start_time": "2023-05-03T19:35:34.669Z"
   },
   {
    "duration": 105,
    "start_time": "2023-05-03T19:35:34.708Z"
   },
   {
    "duration": 13,
    "start_time": "2023-05-03T19:35:34.815Z"
   },
   {
    "duration": 26,
    "start_time": "2023-05-03T19:35:34.829Z"
   },
   {
    "duration": 11,
    "start_time": "2023-05-03T19:35:34.856Z"
   },
   {
    "duration": 25,
    "start_time": "2023-05-03T19:35:34.868Z"
   },
   {
    "duration": 7,
    "start_time": "2023-05-03T19:35:34.895Z"
   },
   {
    "duration": 12,
    "start_time": "2023-05-03T19:35:34.903Z"
   },
   {
    "duration": 11088,
    "start_time": "2023-05-03T19:35:34.917Z"
   },
   {
    "duration": 7345,
    "start_time": "2023-05-03T19:35:46.007Z"
   },
   {
    "duration": 13,
    "start_time": "2023-05-03T19:35:53.353Z"
   },
   {
    "duration": 252989,
    "start_time": "2023-05-03T19:35:53.367Z"
   },
   {
    "duration": 0,
    "start_time": "2023-05-03T19:40:06.358Z"
   },
   {
    "duration": 0,
    "start_time": "2023-05-03T19:40:06.359Z"
   },
   {
    "duration": 0,
    "start_time": "2023-05-03T19:40:06.360Z"
   },
   {
    "duration": 0,
    "start_time": "2023-05-03T19:40:06.361Z"
   },
   {
    "duration": 0,
    "start_time": "2023-05-03T19:40:06.362Z"
   },
   {
    "duration": 0,
    "start_time": "2023-05-03T19:40:06.363Z"
   },
   {
    "duration": 0,
    "start_time": "2023-05-03T19:40:06.364Z"
   },
   {
    "duration": 1134,
    "start_time": "2023-05-03T19:41:16.502Z"
   },
   {
    "duration": 26,
    "start_time": "2023-05-03T19:41:17.638Z"
   },
   {
    "duration": 25,
    "start_time": "2023-05-03T19:41:17.666Z"
   },
   {
    "duration": 15,
    "start_time": "2023-05-03T19:41:17.693Z"
   },
   {
    "duration": 11,
    "start_time": "2023-05-03T19:41:17.709Z"
   },
   {
    "duration": 18,
    "start_time": "2023-05-03T19:41:17.722Z"
   },
   {
    "duration": 17,
    "start_time": "2023-05-03T19:41:17.741Z"
   },
   {
    "duration": 27,
    "start_time": "2023-05-03T19:41:17.760Z"
   },
   {
    "duration": 22,
    "start_time": "2023-05-03T19:41:17.789Z"
   },
   {
    "duration": 9,
    "start_time": "2023-05-03T19:41:17.814Z"
   },
   {
    "duration": 17,
    "start_time": "2023-05-03T19:41:17.824Z"
   },
   {
    "duration": 21,
    "start_time": "2023-05-03T19:41:17.843Z"
   },
   {
    "duration": 34,
    "start_time": "2023-05-03T19:41:17.866Z"
   },
   {
    "duration": 13,
    "start_time": "2023-05-03T19:41:17.902Z"
   },
   {
    "duration": 10,
    "start_time": "2023-05-03T19:41:17.916Z"
   },
   {
    "duration": 4,
    "start_time": "2023-05-03T19:41:17.928Z"
   },
   {
    "duration": 6,
    "start_time": "2023-05-03T19:41:17.934Z"
   },
   {
    "duration": 9,
    "start_time": "2023-05-03T19:41:17.941Z"
   },
   {
    "duration": 5,
    "start_time": "2023-05-03T19:41:17.951Z"
   },
   {
    "duration": 5,
    "start_time": "2023-05-03T19:41:17.957Z"
   },
   {
    "duration": 5,
    "start_time": "2023-05-03T19:41:17.963Z"
   },
   {
    "duration": 30,
    "start_time": "2023-05-03T19:41:17.969Z"
   },
   {
    "duration": 8,
    "start_time": "2023-05-03T19:41:18.000Z"
   },
   {
    "duration": 4,
    "start_time": "2023-05-03T19:41:18.010Z"
   },
   {
    "duration": 6,
    "start_time": "2023-05-03T19:41:18.016Z"
   },
   {
    "duration": 4,
    "start_time": "2023-05-03T19:41:18.024Z"
   },
   {
    "duration": 5,
    "start_time": "2023-05-03T19:41:18.029Z"
   },
   {
    "duration": 9,
    "start_time": "2023-05-03T19:41:18.038Z"
   },
   {
    "duration": 3,
    "start_time": "2023-05-03T19:41:18.049Z"
   },
   {
    "duration": 44,
    "start_time": "2023-05-03T19:41:18.053Z"
   },
   {
    "duration": 8,
    "start_time": "2023-05-03T19:41:18.099Z"
   },
   {
    "duration": 177,
    "start_time": "2023-05-03T19:41:18.109Z"
   },
   {
    "duration": 15,
    "start_time": "2023-05-03T19:41:18.288Z"
   },
   {
    "duration": 62,
    "start_time": "2023-05-03T19:41:18.305Z"
   },
   {
    "duration": 182,
    "start_time": "2023-05-03T19:41:18.369Z"
   },
   {
    "duration": 249,
    "start_time": "2023-05-03T19:41:18.553Z"
   },
   {
    "duration": 14,
    "start_time": "2023-05-03T19:41:18.804Z"
   },
   {
    "duration": 8,
    "start_time": "2023-05-03T19:41:18.820Z"
   },
   {
    "duration": 213,
    "start_time": "2023-05-03T19:41:18.829Z"
   },
   {
    "duration": 5,
    "start_time": "2023-05-03T19:41:19.043Z"
   },
   {
    "duration": 201,
    "start_time": "2023-05-03T19:41:19.049Z"
   },
   {
    "duration": 5,
    "start_time": "2023-05-03T19:41:19.251Z"
   },
   {
    "duration": 210,
    "start_time": "2023-05-03T19:41:19.257Z"
   },
   {
    "duration": 2,
    "start_time": "2023-05-03T19:41:19.469Z"
   },
   {
    "duration": 11,
    "start_time": "2023-05-03T19:41:19.472Z"
   },
   {
    "duration": 15,
    "start_time": "2023-05-03T19:41:19.484Z"
   },
   {
    "duration": 12,
    "start_time": "2023-05-03T19:41:19.501Z"
   },
   {
    "duration": 17,
    "start_time": "2023-05-03T19:41:19.514Z"
   },
   {
    "duration": 8,
    "start_time": "2023-05-03T19:41:19.533Z"
   },
   {
    "duration": 5,
    "start_time": "2023-05-03T19:41:19.542Z"
   },
   {
    "duration": 23,
    "start_time": "2023-05-03T19:41:19.548Z"
   },
   {
    "duration": 16,
    "start_time": "2023-05-03T19:41:19.573Z"
   },
   {
    "duration": 273,
    "start_time": "2023-05-03T19:41:19.591Z"
   },
   {
    "duration": 190,
    "start_time": "2023-05-03T19:41:19.865Z"
   },
   {
    "duration": 199,
    "start_time": "2023-05-03T19:41:20.056Z"
   },
   {
    "duration": 208,
    "start_time": "2023-05-03T19:41:20.257Z"
   },
   {
    "duration": 71,
    "start_time": "2023-05-03T19:41:20.466Z"
   },
   {
    "duration": 14,
    "start_time": "2023-05-03T19:41:20.538Z"
   },
   {
    "duration": 243,
    "start_time": "2023-05-03T19:41:20.553Z"
   },
   {
    "duration": 13,
    "start_time": "2023-05-03T19:41:20.798Z"
   },
   {
    "duration": 117,
    "start_time": "2023-05-03T19:41:20.812Z"
   },
   {
    "duration": 27,
    "start_time": "2023-05-03T19:41:20.930Z"
   },
   {
    "duration": 26,
    "start_time": "2023-05-03T19:41:20.959Z"
   },
   {
    "duration": 17,
    "start_time": "2023-05-03T19:41:20.986Z"
   },
   {
    "duration": 21,
    "start_time": "2023-05-03T19:41:21.004Z"
   },
   {
    "duration": 11553,
    "start_time": "2023-05-03T19:41:21.026Z"
   },
   {
    "duration": 7469,
    "start_time": "2023-05-03T19:41:32.581Z"
   },
   {
    "duration": 13,
    "start_time": "2023-05-03T19:41:40.052Z"
   },
   {
    "duration": 667,
    "start_time": "2023-05-03T19:41:40.066Z"
   },
   {
    "duration": 0,
    "start_time": "2023-05-03T19:41:40.734Z"
   },
   {
    "duration": 0,
    "start_time": "2023-05-03T19:41:40.735Z"
   },
   {
    "duration": 0,
    "start_time": "2023-05-03T19:41:40.736Z"
   },
   {
    "duration": 0,
    "start_time": "2023-05-03T19:41:40.737Z"
   },
   {
    "duration": 0,
    "start_time": "2023-05-03T19:41:40.739Z"
   },
   {
    "duration": 0,
    "start_time": "2023-05-03T19:41:40.739Z"
   },
   {
    "duration": 0,
    "start_time": "2023-05-03T19:41:40.740Z"
   },
   {
    "duration": 1081,
    "start_time": "2023-05-03T19:42:37.778Z"
   },
   {
    "duration": 25,
    "start_time": "2023-05-03T19:42:38.861Z"
   },
   {
    "duration": 24,
    "start_time": "2023-05-03T19:42:38.887Z"
   },
   {
    "duration": 14,
    "start_time": "2023-05-03T19:42:38.913Z"
   },
   {
    "duration": 10,
    "start_time": "2023-05-03T19:42:38.929Z"
   },
   {
    "duration": 11,
    "start_time": "2023-05-03T19:42:38.940Z"
   },
   {
    "duration": 10,
    "start_time": "2023-05-03T19:42:38.952Z"
   },
   {
    "duration": 11,
    "start_time": "2023-05-03T19:42:38.964Z"
   },
   {
    "duration": 17,
    "start_time": "2023-05-03T19:42:38.977Z"
   },
   {
    "duration": 8,
    "start_time": "2023-05-03T19:42:38.996Z"
   },
   {
    "duration": 22,
    "start_time": "2023-05-03T19:42:39.006Z"
   },
   {
    "duration": 15,
    "start_time": "2023-05-03T19:42:39.029Z"
   },
   {
    "duration": 12,
    "start_time": "2023-05-03T19:42:39.046Z"
   },
   {
    "duration": 7,
    "start_time": "2023-05-03T19:42:39.060Z"
   },
   {
    "duration": 4,
    "start_time": "2023-05-03T19:42:39.068Z"
   },
   {
    "duration": 21,
    "start_time": "2023-05-03T19:42:39.073Z"
   },
   {
    "duration": 5,
    "start_time": "2023-05-03T19:42:39.096Z"
   },
   {
    "duration": 21,
    "start_time": "2023-05-03T19:42:39.102Z"
   },
   {
    "duration": 4,
    "start_time": "2023-05-03T19:42:39.125Z"
   },
   {
    "duration": 6,
    "start_time": "2023-05-03T19:42:39.131Z"
   },
   {
    "duration": 4,
    "start_time": "2023-05-03T19:42:39.138Z"
   },
   {
    "duration": 6,
    "start_time": "2023-05-03T19:42:39.143Z"
   },
   {
    "duration": 8,
    "start_time": "2023-05-03T19:42:39.150Z"
   },
   {
    "duration": 4,
    "start_time": "2023-05-03T19:42:39.159Z"
   },
   {
    "duration": 30,
    "start_time": "2023-05-03T19:42:39.165Z"
   },
   {
    "duration": 5,
    "start_time": "2023-05-03T19:42:39.197Z"
   },
   {
    "duration": 5,
    "start_time": "2023-05-03T19:42:39.204Z"
   },
   {
    "duration": 8,
    "start_time": "2023-05-03T19:42:39.212Z"
   },
   {
    "duration": 4,
    "start_time": "2023-05-03T19:42:39.221Z"
   },
   {
    "duration": 4,
    "start_time": "2023-05-03T19:42:39.226Z"
   },
   {
    "duration": 6,
    "start_time": "2023-05-03T19:42:39.232Z"
   },
   {
    "duration": 203,
    "start_time": "2023-05-03T19:42:39.240Z"
   },
   {
    "duration": 11,
    "start_time": "2023-05-03T19:42:39.444Z"
   },
   {
    "duration": 76,
    "start_time": "2023-05-03T19:42:39.456Z"
   },
   {
    "duration": 180,
    "start_time": "2023-05-03T19:42:39.534Z"
   },
   {
    "duration": 257,
    "start_time": "2023-05-03T19:42:39.716Z"
   },
   {
    "duration": 23,
    "start_time": "2023-05-03T19:42:39.974Z"
   },
   {
    "duration": 10,
    "start_time": "2023-05-03T19:42:39.998Z"
   },
   {
    "duration": 203,
    "start_time": "2023-05-03T19:42:40.009Z"
   },
   {
    "duration": 5,
    "start_time": "2023-05-03T19:42:40.213Z"
   },
   {
    "duration": 189,
    "start_time": "2023-05-03T19:42:40.219Z"
   },
   {
    "duration": 4,
    "start_time": "2023-05-03T19:42:40.410Z"
   },
   {
    "duration": 209,
    "start_time": "2023-05-03T19:42:40.415Z"
   },
   {
    "duration": 2,
    "start_time": "2023-05-03T19:42:40.625Z"
   },
   {
    "duration": 11,
    "start_time": "2023-05-03T19:42:40.629Z"
   },
   {
    "duration": 9,
    "start_time": "2023-05-03T19:42:40.642Z"
   },
   {
    "duration": 12,
    "start_time": "2023-05-03T19:42:40.652Z"
   },
   {
    "duration": 34,
    "start_time": "2023-05-03T19:42:40.665Z"
   },
   {
    "duration": 7,
    "start_time": "2023-05-03T19:42:40.701Z"
   },
   {
    "duration": 3,
    "start_time": "2023-05-03T19:42:40.710Z"
   },
   {
    "duration": 5,
    "start_time": "2023-05-03T19:42:40.714Z"
   },
   {
    "duration": 11,
    "start_time": "2023-05-03T19:42:40.720Z"
   },
   {
    "duration": 298,
    "start_time": "2023-05-03T19:42:40.732Z"
   },
   {
    "duration": 180,
    "start_time": "2023-05-03T19:42:41.031Z"
   },
   {
    "duration": 197,
    "start_time": "2023-05-03T19:42:41.213Z"
   },
   {
    "duration": 210,
    "start_time": "2023-05-03T19:42:41.412Z"
   },
   {
    "duration": 46,
    "start_time": "2023-05-03T19:42:41.624Z"
   },
   {
    "duration": 25,
    "start_time": "2023-05-03T19:42:41.672Z"
   },
   {
    "duration": 21,
    "start_time": "2023-05-03T19:42:41.699Z"
   },
   {
    "duration": 13,
    "start_time": "2023-05-03T19:42:41.721Z"
   },
   {
    "duration": 131,
    "start_time": "2023-05-03T19:42:41.736Z"
   },
   {
    "duration": 13,
    "start_time": "2023-05-03T19:42:41.868Z"
   },
   {
    "duration": 38,
    "start_time": "2023-05-03T19:42:41.882Z"
   },
   {
    "duration": 13,
    "start_time": "2023-05-03T19:42:41.921Z"
   },
   {
    "duration": 6,
    "start_time": "2023-05-03T19:42:41.935Z"
   },
   {
    "duration": 11390,
    "start_time": "2023-05-03T19:42:41.942Z"
   },
   {
    "duration": 1256,
    "start_time": "2023-05-05T06:45:09.773Z"
   },
   {
    "duration": 24,
    "start_time": "2023-05-05T06:45:11.031Z"
   },
   {
    "duration": 26,
    "start_time": "2023-05-05T06:45:11.056Z"
   },
   {
    "duration": 13,
    "start_time": "2023-05-05T06:45:11.084Z"
   },
   {
    "duration": 11,
    "start_time": "2023-05-05T06:45:11.099Z"
   },
   {
    "duration": 15,
    "start_time": "2023-05-05T06:45:11.112Z"
   },
   {
    "duration": 10,
    "start_time": "2023-05-05T06:45:11.128Z"
   },
   {
    "duration": 17,
    "start_time": "2023-05-05T06:45:11.139Z"
   },
   {
    "duration": 15,
    "start_time": "2023-05-05T06:45:11.157Z"
   },
   {
    "duration": 18,
    "start_time": "2023-05-05T06:45:11.174Z"
   },
   {
    "duration": 15,
    "start_time": "2023-05-05T06:45:11.193Z"
   },
   {
    "duration": 19,
    "start_time": "2023-05-05T06:45:11.210Z"
   },
   {
    "duration": 18,
    "start_time": "2023-05-05T06:45:11.231Z"
   },
   {
    "duration": 46,
    "start_time": "2023-05-05T06:45:11.250Z"
   },
   {
    "duration": 6,
    "start_time": "2023-05-05T06:45:11.298Z"
   },
   {
    "duration": 7,
    "start_time": "2023-05-05T06:45:11.306Z"
   },
   {
    "duration": 14,
    "start_time": "2023-05-05T06:45:11.314Z"
   },
   {
    "duration": 9,
    "start_time": "2023-05-05T06:45:11.329Z"
   },
   {
    "duration": 5,
    "start_time": "2023-05-05T06:45:11.340Z"
   },
   {
    "duration": 3,
    "start_time": "2023-05-05T06:45:11.347Z"
   },
   {
    "duration": 5,
    "start_time": "2023-05-05T06:45:11.352Z"
   },
   {
    "duration": 8,
    "start_time": "2023-05-05T06:45:11.386Z"
   },
   {
    "duration": 11,
    "start_time": "2023-05-05T06:45:11.397Z"
   },
   {
    "duration": 6,
    "start_time": "2023-05-05T06:45:11.410Z"
   },
   {
    "duration": 34,
    "start_time": "2023-05-05T06:45:11.417Z"
   },
   {
    "duration": 4,
    "start_time": "2023-05-05T06:45:11.453Z"
   },
   {
    "duration": 6,
    "start_time": "2023-05-05T06:45:11.459Z"
   },
   {
    "duration": 21,
    "start_time": "2023-05-05T06:45:11.487Z"
   },
   {
    "duration": 4,
    "start_time": "2023-05-05T06:45:11.510Z"
   },
   {
    "duration": 5,
    "start_time": "2023-05-05T06:45:11.516Z"
   },
   {
    "duration": 12,
    "start_time": "2023-05-05T06:45:11.522Z"
   },
   {
    "duration": 202,
    "start_time": "2023-05-05T06:45:11.536Z"
   },
   {
    "duration": 11,
    "start_time": "2023-05-05T06:45:11.739Z"
   },
   {
    "duration": 90,
    "start_time": "2023-05-05T06:45:11.751Z"
   },
   {
    "duration": 207,
    "start_time": "2023-05-05T06:45:11.843Z"
   },
   {
    "duration": 306,
    "start_time": "2023-05-05T06:45:12.051Z"
   },
   {
    "duration": 17,
    "start_time": "2023-05-05T06:45:12.359Z"
   },
   {
    "duration": 10,
    "start_time": "2023-05-05T06:45:12.385Z"
   },
   {
    "duration": 237,
    "start_time": "2023-05-05T06:45:12.397Z"
   },
   {
    "duration": 5,
    "start_time": "2023-05-05T06:45:12.636Z"
   },
   {
    "duration": 215,
    "start_time": "2023-05-05T06:45:12.643Z"
   },
   {
    "duration": 5,
    "start_time": "2023-05-05T06:45:12.860Z"
   },
   {
    "duration": 245,
    "start_time": "2023-05-05T06:45:12.866Z"
   },
   {
    "duration": 2,
    "start_time": "2023-05-05T06:45:13.113Z"
   },
   {
    "duration": 31,
    "start_time": "2023-05-05T06:45:13.116Z"
   },
   {
    "duration": 12,
    "start_time": "2023-05-05T06:45:13.149Z"
   },
   {
    "duration": 13,
    "start_time": "2023-05-05T06:45:13.163Z"
   },
   {
    "duration": 14,
    "start_time": "2023-05-05T06:45:13.178Z"
   },
   {
    "duration": 29,
    "start_time": "2023-05-05T06:45:13.193Z"
   },
   {
    "duration": 35,
    "start_time": "2023-05-05T06:45:13.224Z"
   },
   {
    "duration": 18,
    "start_time": "2023-05-05T06:45:13.261Z"
   },
   {
    "duration": 30,
    "start_time": "2023-05-05T06:45:13.281Z"
   },
   {
    "duration": 326,
    "start_time": "2023-05-05T06:45:13.313Z"
   },
   {
    "duration": 214,
    "start_time": "2023-05-05T06:45:13.642Z"
   },
   {
    "duration": 282,
    "start_time": "2023-05-05T06:45:13.858Z"
   },
   {
    "duration": 258,
    "start_time": "2023-05-05T06:45:14.143Z"
   },
   {
    "duration": 57,
    "start_time": "2023-05-05T06:45:14.403Z"
   },
   {
    "duration": 29,
    "start_time": "2023-05-05T06:45:14.462Z"
   },
   {
    "duration": 126,
    "start_time": "2023-05-05T06:45:14.493Z"
   },
   {
    "duration": 14,
    "start_time": "2023-05-05T06:45:14.621Z"
   },
   {
    "duration": 30,
    "start_time": "2023-05-05T06:45:14.636Z"
   },
   {
    "duration": 30,
    "start_time": "2023-05-05T06:45:14.668Z"
   },
   {
    "duration": 4,
    "start_time": "2023-05-05T06:45:14.700Z"
   },
   {
    "duration": 12504,
    "start_time": "2023-05-05T06:45:14.706Z"
   },
   {
    "duration": 8733,
    "start_time": "2023-05-05T06:45:27.212Z"
   },
   {
    "duration": 22102,
    "start_time": "2023-05-05T06:45:35.946Z"
   },
   {
    "duration": 15,
    "start_time": "2023-05-05T06:45:58.050Z"
   },
   {
    "duration": 25,
    "start_time": "2023-05-05T06:45:58.066Z"
   },
   {
    "duration": 9,
    "start_time": "2023-05-05T06:45:58.093Z"
   },
   {
    "duration": 5,
    "start_time": "2023-05-05T06:45:58.104Z"
   },
   {
    "duration": 11,
    "start_time": "2023-05-05T06:45:58.111Z"
   },
   {
    "duration": 9,
    "start_time": "2023-05-05T06:45:58.124Z"
   },
   {
    "duration": 14,
    "start_time": "2023-05-05T06:45:58.134Z"
   },
   {
    "duration": 6,
    "start_time": "2023-05-05T06:45:58.150Z"
   },
   {
    "duration": 1613,
    "start_time": "2023-05-05T06:45:58.158Z"
   },
   {
    "duration": 23,
    "start_time": "2023-05-05T06:45:59.773Z"
   },
   {
    "duration": 12,
    "start_time": "2023-05-05T07:01:03.478Z"
   },
   {
    "duration": 17,
    "start_time": "2023-05-05T07:11:05.302Z"
   },
   {
    "duration": 7,
    "start_time": "2023-05-05T07:11:27.880Z"
   },
   {
    "duration": 143,
    "start_time": "2023-05-05T07:14:27.219Z"
   },
   {
    "duration": 107,
    "start_time": "2023-05-05T07:29:41.149Z"
   },
   {
    "duration": 48,
    "start_time": "2023-05-05T07:32:10.797Z"
   },
   {
    "duration": 1371,
    "start_time": "2023-05-05T07:32:22.517Z"
   },
   {
    "duration": 92,
    "start_time": "2023-05-05T07:32:23.891Z"
   },
   {
    "duration": 389,
    "start_time": "2023-05-05T07:32:23.985Z"
   },
   {
    "duration": 61,
    "start_time": "2023-05-05T07:32:24.376Z"
   },
   {
    "duration": 12,
    "start_time": "2023-05-05T07:32:24.439Z"
   },
   {
    "duration": 17,
    "start_time": "2023-05-05T07:32:24.452Z"
   },
   {
    "duration": 25,
    "start_time": "2023-05-05T07:32:24.471Z"
   },
   {
    "duration": 17,
    "start_time": "2023-05-05T07:32:24.498Z"
   },
   {
    "duration": 26,
    "start_time": "2023-05-05T07:32:24.517Z"
   },
   {
    "duration": 14,
    "start_time": "2023-05-05T07:32:24.545Z"
   },
   {
    "duration": 33,
    "start_time": "2023-05-05T07:32:24.560Z"
   },
   {
    "duration": 23,
    "start_time": "2023-05-05T07:32:24.594Z"
   },
   {
    "duration": 21,
    "start_time": "2023-05-05T07:32:24.619Z"
   },
   {
    "duration": 34,
    "start_time": "2023-05-05T07:32:24.642Z"
   },
   {
    "duration": 8,
    "start_time": "2023-05-05T07:32:24.678Z"
   },
   {
    "duration": 17,
    "start_time": "2023-05-05T07:32:24.687Z"
   },
   {
    "duration": 20,
    "start_time": "2023-05-05T07:32:24.705Z"
   },
   {
    "duration": 30,
    "start_time": "2023-05-05T07:32:24.726Z"
   },
   {
    "duration": 20,
    "start_time": "2023-05-05T07:32:24.759Z"
   },
   {
    "duration": 9,
    "start_time": "2023-05-05T07:32:24.780Z"
   },
   {
    "duration": 36,
    "start_time": "2023-05-05T07:32:24.792Z"
   },
   {
    "duration": 23,
    "start_time": "2023-05-05T07:32:24.831Z"
   },
   {
    "duration": 39,
    "start_time": "2023-05-05T07:32:24.857Z"
   },
   {
    "duration": 39,
    "start_time": "2023-05-05T07:32:24.898Z"
   },
   {
    "duration": 19,
    "start_time": "2023-05-05T07:32:24.938Z"
   },
   {
    "duration": 19,
    "start_time": "2023-05-05T07:32:24.959Z"
   },
   {
    "duration": 21,
    "start_time": "2023-05-05T07:32:24.980Z"
   },
   {
    "duration": 21,
    "start_time": "2023-05-05T07:32:25.005Z"
   },
   {
    "duration": 19,
    "start_time": "2023-05-05T07:32:25.027Z"
   },
   {
    "duration": 12,
    "start_time": "2023-05-05T07:32:25.048Z"
   },
   {
    "duration": 22,
    "start_time": "2023-05-05T07:32:25.061Z"
   },
   {
    "duration": 186,
    "start_time": "2023-05-05T07:32:25.085Z"
   },
   {
    "duration": 19,
    "start_time": "2023-05-05T07:32:25.273Z"
   },
   {
    "duration": 66,
    "start_time": "2023-05-05T07:32:25.294Z"
   },
   {
    "duration": 209,
    "start_time": "2023-05-05T07:32:25.362Z"
   },
   {
    "duration": 21,
    "start_time": "2023-05-05T07:32:25.573Z"
   },
   {
    "duration": 294,
    "start_time": "2023-05-05T07:32:25.596Z"
   },
   {
    "duration": 15,
    "start_time": "2023-05-05T07:32:25.892Z"
   },
   {
    "duration": 11,
    "start_time": "2023-05-05T07:32:25.909Z"
   },
   {
    "duration": 250,
    "start_time": "2023-05-05T07:32:25.921Z"
   },
   {
    "duration": 12,
    "start_time": "2023-05-05T07:32:26.173Z"
   },
   {
    "duration": 197,
    "start_time": "2023-05-05T07:32:26.187Z"
   },
   {
    "duration": 4,
    "start_time": "2023-05-05T07:32:26.386Z"
   },
   {
    "duration": 242,
    "start_time": "2023-05-05T07:32:26.392Z"
   },
   {
    "duration": 2,
    "start_time": "2023-05-05T07:32:26.636Z"
   },
   {
    "duration": 19,
    "start_time": "2023-05-05T07:32:26.639Z"
   },
   {
    "duration": 12,
    "start_time": "2023-05-05T07:32:26.659Z"
   },
   {
    "duration": 21,
    "start_time": "2023-05-05T07:32:26.673Z"
   },
   {
    "duration": 13,
    "start_time": "2023-05-05T07:32:26.695Z"
   },
   {
    "duration": 16,
    "start_time": "2023-05-05T07:32:26.710Z"
   },
   {
    "duration": 27,
    "start_time": "2023-05-05T07:32:26.728Z"
   },
   {
    "duration": 14,
    "start_time": "2023-05-05T07:32:26.757Z"
   },
   {
    "duration": 17,
    "start_time": "2023-05-05T07:32:26.773Z"
   },
   {
    "duration": 295,
    "start_time": "2023-05-05T07:32:26.791Z"
   },
   {
    "duration": 210,
    "start_time": "2023-05-05T07:32:27.088Z"
   },
   {
    "duration": 215,
    "start_time": "2023-05-05T07:32:27.300Z"
   },
   {
    "duration": 231,
    "start_time": "2023-05-05T07:32:27.516Z"
   },
   {
    "duration": 61,
    "start_time": "2023-05-05T07:32:27.749Z"
   },
   {
    "duration": 15,
    "start_time": "2023-05-05T07:32:27.812Z"
   },
   {
    "duration": 139,
    "start_time": "2023-05-05T07:32:27.828Z"
   },
   {
    "duration": 22,
    "start_time": "2023-05-05T07:32:27.969Z"
   },
   {
    "duration": 45,
    "start_time": "2023-05-05T07:32:27.993Z"
   },
   {
    "duration": 22,
    "start_time": "2023-05-05T07:32:28.040Z"
   },
   {
    "duration": 4,
    "start_time": "2023-05-05T07:32:28.083Z"
   },
   {
    "duration": 13117,
    "start_time": "2023-05-05T07:32:28.089Z"
   },
   {
    "duration": 8557,
    "start_time": "2023-05-05T07:32:41.209Z"
   },
   {
    "duration": 22097,
    "start_time": "2023-05-05T07:32:49.768Z"
   },
   {
    "duration": 16,
    "start_time": "2023-05-05T07:33:11.867Z"
   },
   {
    "duration": 17,
    "start_time": "2023-05-05T07:33:11.885Z"
   },
   {
    "duration": 29,
    "start_time": "2023-05-05T07:33:11.904Z"
   },
   {
    "duration": 19,
    "start_time": "2023-05-05T07:33:11.936Z"
   },
   {
    "duration": 9,
    "start_time": "2023-05-05T07:33:11.957Z"
   },
   {
    "duration": 36,
    "start_time": "2023-05-05T07:33:11.968Z"
   },
   {
    "duration": 18,
    "start_time": "2023-05-05T07:33:12.007Z"
   },
   {
    "duration": 29,
    "start_time": "2023-05-05T07:33:12.027Z"
   },
   {
    "duration": 26,
    "start_time": "2023-05-05T07:33:12.058Z"
   },
   {
    "duration": 1520,
    "start_time": "2023-05-05T07:33:12.086Z"
   },
   {
    "duration": 8,
    "start_time": "2023-05-05T07:33:13.608Z"
   },
   {
    "duration": 107,
    "start_time": "2023-05-05T07:34:31.018Z"
   },
   {
    "duration": 8,
    "start_time": "2023-05-05T07:34:42.130Z"
   },
   {
    "duration": 4,
    "start_time": "2023-05-05T07:34:42.778Z"
   },
   {
    "duration": 4,
    "start_time": "2023-05-05T07:34:43.814Z"
   },
   {
    "duration": 7,
    "start_time": "2023-05-05T07:34:47.230Z"
   },
   {
    "duration": 191,
    "start_time": "2023-05-05T07:34:49.027Z"
   },
   {
    "duration": 427,
    "start_time": "2023-05-05T07:43:41.560Z"
   },
   {
    "duration": 233,
    "start_time": "2023-05-05T07:44:49.266Z"
   },
   {
    "duration": 459,
    "start_time": "2023-05-05T07:44:57.266Z"
   },
   {
    "duration": 357,
    "start_time": "2023-05-05T07:45:28.841Z"
   },
   {
    "duration": 312,
    "start_time": "2023-05-05T07:45:57.444Z"
   },
   {
    "duration": 346,
    "start_time": "2023-05-05T07:46:16.002Z"
   },
   {
    "duration": 353,
    "start_time": "2023-05-05T07:46:23.322Z"
   },
   {
    "duration": 126,
    "start_time": "2023-05-05T07:46:43.928Z"
   },
   {
    "duration": 421,
    "start_time": "2023-05-05T07:46:51.820Z"
   },
   {
    "duration": 349,
    "start_time": "2023-05-05T07:47:00.881Z"
   },
   {
    "duration": 355,
    "start_time": "2023-05-05T07:47:07.461Z"
   },
   {
    "duration": 332,
    "start_time": "2023-05-05T08:10:47.806Z"
   },
   {
    "duration": 417,
    "start_time": "2023-05-05T08:10:53.920Z"
   },
   {
    "duration": 255,
    "start_time": "2023-05-05T08:11:17.846Z"
   },
   {
    "duration": 306,
    "start_time": "2023-05-05T08:11:27.985Z"
   },
   {
    "duration": 467,
    "start_time": "2023-05-05T08:11:34.897Z"
   },
   {
    "duration": 55,
    "start_time": "2023-05-05T08:16:13.994Z"
   },
   {
    "duration": 4,
    "start_time": "2023-05-05T08:16:16.293Z"
   },
   {
    "duration": 25021,
    "start_time": "2023-05-05T08:16:17.373Z"
   },
   {
    "duration": 4,
    "start_time": "2023-05-05T08:18:03.328Z"
   },
   {
    "duration": 9,
    "start_time": "2023-05-05T08:18:09.088Z"
   },
   {
    "duration": 12,
    "start_time": "2023-05-05T08:18:31.131Z"
   },
   {
    "duration": 9,
    "start_time": "2023-05-05T08:18:37.288Z"
   },
   {
    "duration": 4,
    "start_time": "2023-05-05T08:21:01.262Z"
   },
   {
    "duration": 50,
    "start_time": "2023-05-05T08:21:21.569Z"
   },
   {
    "duration": 24888,
    "start_time": "2023-05-05T08:21:29.367Z"
   },
   {
    "duration": 4,
    "start_time": "2023-05-05T09:06:14.047Z"
   },
   {
    "duration": 11,
    "start_time": "2023-05-05T09:06:14.741Z"
   },
   {
    "duration": 4,
    "start_time": "2023-05-05T09:07:42.598Z"
   },
   {
    "duration": 9,
    "start_time": "2023-05-05T09:07:43.605Z"
   },
   {
    "duration": 74,
    "start_time": "2023-05-05T09:31:21.343Z"
   },
   {
    "duration": 1151,
    "start_time": "2023-05-05T09:43:54.378Z"
   },
   {
    "duration": 27,
    "start_time": "2023-05-05T09:43:55.531Z"
   },
   {
    "duration": 27,
    "start_time": "2023-05-05T09:43:55.559Z"
   },
   {
    "duration": 14,
    "start_time": "2023-05-05T09:43:55.587Z"
   },
   {
    "duration": 10,
    "start_time": "2023-05-05T09:43:55.603Z"
   },
   {
    "duration": 7,
    "start_time": "2023-05-05T09:43:55.615Z"
   },
   {
    "duration": 8,
    "start_time": "2023-05-05T09:43:55.623Z"
   },
   {
    "duration": 15,
    "start_time": "2023-05-05T09:43:55.633Z"
   },
   {
    "duration": 17,
    "start_time": "2023-05-05T09:43:55.649Z"
   },
   {
    "duration": 20,
    "start_time": "2023-05-05T09:43:55.667Z"
   },
   {
    "duration": 24,
    "start_time": "2023-05-05T09:43:55.689Z"
   },
   {
    "duration": 17,
    "start_time": "2023-05-05T09:43:55.715Z"
   },
   {
    "duration": 15,
    "start_time": "2023-05-05T09:43:55.733Z"
   },
   {
    "duration": 7,
    "start_time": "2023-05-05T09:43:55.750Z"
   },
   {
    "duration": 25,
    "start_time": "2023-05-05T09:43:55.758Z"
   },
   {
    "duration": 5,
    "start_time": "2023-05-05T09:43:55.784Z"
   },
   {
    "duration": 24,
    "start_time": "2023-05-05T09:43:55.790Z"
   },
   {
    "duration": 16,
    "start_time": "2023-05-05T09:43:55.815Z"
   },
   {
    "duration": 5,
    "start_time": "2023-05-05T09:43:55.832Z"
   },
   {
    "duration": 5,
    "start_time": "2023-05-05T09:43:55.839Z"
   },
   {
    "duration": 8,
    "start_time": "2023-05-05T09:43:55.846Z"
   },
   {
    "duration": 10,
    "start_time": "2023-05-05T09:43:55.855Z"
   },
   {
    "duration": 10,
    "start_time": "2023-05-05T09:43:55.866Z"
   },
   {
    "duration": 9,
    "start_time": "2023-05-05T09:43:55.877Z"
   },
   {
    "duration": 17,
    "start_time": "2023-05-05T09:43:55.887Z"
   },
   {
    "duration": 22,
    "start_time": "2023-05-05T09:43:55.906Z"
   },
   {
    "duration": 8,
    "start_time": "2023-05-05T09:43:55.929Z"
   },
   {
    "duration": 19,
    "start_time": "2023-05-05T09:43:55.938Z"
   },
   {
    "duration": 8,
    "start_time": "2023-05-05T09:43:55.958Z"
   },
   {
    "duration": 10,
    "start_time": "2023-05-05T09:43:55.968Z"
   },
   {
    "duration": 18,
    "start_time": "2023-05-05T09:43:55.980Z"
   },
   {
    "duration": 183,
    "start_time": "2023-05-05T09:43:56.000Z"
   },
   {
    "duration": 9,
    "start_time": "2023-05-05T09:43:56.185Z"
   },
   {
    "duration": 74,
    "start_time": "2023-05-05T09:43:56.196Z"
   },
   {
    "duration": 185,
    "start_time": "2023-05-05T09:43:56.271Z"
   },
   {
    "duration": 14,
    "start_time": "2023-05-05T09:43:56.457Z"
   },
   {
    "duration": 288,
    "start_time": "2023-05-05T09:43:56.472Z"
   },
   {
    "duration": 25,
    "start_time": "2023-05-05T09:43:56.762Z"
   },
   {
    "duration": 10,
    "start_time": "2023-05-05T09:43:56.788Z"
   },
   {
    "duration": 213,
    "start_time": "2023-05-05T09:43:56.800Z"
   },
   {
    "duration": 16,
    "start_time": "2023-05-05T09:43:57.018Z"
   },
   {
    "duration": 214,
    "start_time": "2023-05-05T09:43:57.035Z"
   },
   {
    "duration": 5,
    "start_time": "2023-05-05T09:43:57.250Z"
   },
   {
    "duration": 268,
    "start_time": "2023-05-05T09:43:57.256Z"
   },
   {
    "duration": 3,
    "start_time": "2023-05-05T09:43:57.525Z"
   },
   {
    "duration": 17,
    "start_time": "2023-05-05T09:43:57.529Z"
   },
   {
    "duration": 12,
    "start_time": "2023-05-05T09:43:57.547Z"
   },
   {
    "duration": 29,
    "start_time": "2023-05-05T09:43:57.560Z"
   },
   {
    "duration": 26,
    "start_time": "2023-05-05T09:43:57.590Z"
   },
   {
    "duration": 32,
    "start_time": "2023-05-05T09:43:57.618Z"
   },
   {
    "duration": 26,
    "start_time": "2023-05-05T09:43:57.654Z"
   },
   {
    "duration": 13,
    "start_time": "2023-05-05T09:43:57.682Z"
   },
   {
    "duration": 23,
    "start_time": "2023-05-05T09:43:57.696Z"
   },
   {
    "duration": 279,
    "start_time": "2023-05-05T09:43:57.720Z"
   },
   {
    "duration": 208,
    "start_time": "2023-05-05T09:43:58.001Z"
   },
   {
    "duration": 222,
    "start_time": "2023-05-05T09:43:58.211Z"
   },
   {
    "duration": 239,
    "start_time": "2023-05-05T09:43:58.435Z"
   },
   {
    "duration": 292,
    "start_time": "2023-05-05T09:43:58.684Z"
   },
   {
    "duration": 130,
    "start_time": "2023-05-05T09:43:58.982Z"
   },
   {
    "duration": 3,
    "start_time": "2023-05-05T09:43:59.113Z"
   },
   {
    "duration": 17,
    "start_time": "2023-05-05T09:43:59.118Z"
   },
   {
    "duration": 6,
    "start_time": "2023-05-05T09:43:59.136Z"
   },
   {
    "duration": 36,
    "start_time": "2023-05-05T09:43:59.144Z"
   },
   {
    "duration": 23,
    "start_time": "2023-05-05T09:43:59.183Z"
   },
   {
    "duration": 56,
    "start_time": "2023-05-05T09:43:59.208Z"
   },
   {
    "duration": 14,
    "start_time": "2023-05-05T09:43:59.266Z"
   },
   {
    "duration": 33,
    "start_time": "2023-05-05T09:43:59.282Z"
   },
   {
    "duration": 14,
    "start_time": "2023-05-05T09:43:59.316Z"
   },
   {
    "duration": 6,
    "start_time": "2023-05-05T09:43:59.331Z"
   },
   {
    "duration": 13505,
    "start_time": "2023-05-05T09:43:59.339Z"
   },
   {
    "duration": 8663,
    "start_time": "2023-05-05T09:44:12.845Z"
   },
   {
    "duration": 22120,
    "start_time": "2023-05-05T09:44:21.509Z"
   },
   {
    "duration": 12,
    "start_time": "2023-05-05T09:44:43.630Z"
   },
   {
    "duration": 40,
    "start_time": "2023-05-05T09:44:43.644Z"
   },
   {
    "duration": 54,
    "start_time": "2023-05-05T09:44:43.686Z"
   },
   {
    "duration": 33,
    "start_time": "2023-05-05T09:44:43.742Z"
   },
   {
    "duration": 31,
    "start_time": "2023-05-05T09:44:43.777Z"
   },
   {
    "duration": 20,
    "start_time": "2023-05-05T09:44:43.810Z"
   },
   {
    "duration": 16,
    "start_time": "2023-05-05T09:44:43.832Z"
   },
   {
    "duration": 47,
    "start_time": "2023-05-05T09:44:43.850Z"
   },
   {
    "duration": 11,
    "start_time": "2023-05-05T09:44:43.898Z"
   },
   {
    "duration": 1720,
    "start_time": "2023-05-05T09:44:43.914Z"
   },
   {
    "duration": 8,
    "start_time": "2023-05-05T09:44:45.636Z"
   },
   {
    "duration": 155,
    "start_time": "2023-05-05T09:45:45.231Z"
   },
   {
    "duration": 11,
    "start_time": "2023-05-05T09:47:08.576Z"
   },
   {
    "duration": 4,
    "start_time": "2023-05-05T09:47:09.225Z"
   },
   {
    "duration": 5,
    "start_time": "2023-05-05T09:47:09.777Z"
   },
   {
    "duration": 9,
    "start_time": "2023-05-05T09:47:10.829Z"
   },
   {
    "duration": 10,
    "start_time": "2023-05-05T09:47:17.407Z"
   },
   {
    "duration": 66,
    "start_time": "2023-05-05T09:47:18.365Z"
   },
   {
    "duration": 354,
    "start_time": "2023-05-05T09:47:24.701Z"
   },
   {
    "duration": 72,
    "start_time": "2023-05-05T09:49:06.053Z"
   },
   {
    "duration": 206,
    "start_time": "2023-05-05T09:53:41.937Z"
   },
   {
    "duration": 15,
    "start_time": "2023-05-05T09:53:52.855Z"
   },
   {
    "duration": 276,
    "start_time": "2023-05-05T09:56:31.037Z"
   },
   {
    "duration": 194,
    "start_time": "2023-05-05T10:01:03.845Z"
   },
   {
    "duration": 298,
    "start_time": "2023-05-05T10:01:04.477Z"
   },
   {
    "duration": 278,
    "start_time": "2023-05-05T10:01:35.405Z"
   },
   {
    "duration": 431,
    "start_time": "2023-05-05T10:03:22.767Z"
   },
   {
    "duration": 443,
    "start_time": "2023-05-05T10:05:41.205Z"
   },
   {
    "duration": 320,
    "start_time": "2023-05-05T10:06:18.297Z"
   },
   {
    "duration": 1227,
    "start_time": "2023-05-05T10:10:36.210Z"
   },
   {
    "duration": 28,
    "start_time": "2023-05-05T10:10:37.439Z"
   },
   {
    "duration": 48,
    "start_time": "2023-05-05T10:10:37.470Z"
   },
   {
    "duration": 21,
    "start_time": "2023-05-05T10:10:37.520Z"
   },
   {
    "duration": 27,
    "start_time": "2023-05-05T10:10:37.543Z"
   },
   {
    "duration": 45,
    "start_time": "2023-05-05T10:10:37.572Z"
   },
   {
    "duration": 41,
    "start_time": "2023-05-05T10:10:37.618Z"
   },
   {
    "duration": 44,
    "start_time": "2023-05-05T10:10:37.661Z"
   },
   {
    "duration": 44,
    "start_time": "2023-05-05T10:10:37.707Z"
   },
   {
    "duration": 33,
    "start_time": "2023-05-05T10:10:37.754Z"
   },
   {
    "duration": 38,
    "start_time": "2023-05-05T10:10:37.789Z"
   },
   {
    "duration": 45,
    "start_time": "2023-05-05T10:10:37.829Z"
   },
   {
    "duration": 28,
    "start_time": "2023-05-05T10:10:37.876Z"
   },
   {
    "duration": 22,
    "start_time": "2023-05-05T10:10:37.906Z"
   },
   {
    "duration": 38,
    "start_time": "2023-05-05T10:10:37.930Z"
   },
   {
    "duration": 35,
    "start_time": "2023-05-05T10:10:37.970Z"
   },
   {
    "duration": 42,
    "start_time": "2023-05-05T10:10:38.006Z"
   },
   {
    "duration": 21,
    "start_time": "2023-05-05T10:10:38.050Z"
   },
   {
    "duration": 35,
    "start_time": "2023-05-05T10:10:38.073Z"
   },
   {
    "duration": 19,
    "start_time": "2023-05-05T10:10:38.110Z"
   },
   {
    "duration": 46,
    "start_time": "2023-05-05T10:10:38.131Z"
   },
   {
    "duration": 18,
    "start_time": "2023-05-05T10:10:38.179Z"
   },
   {
    "duration": 36,
    "start_time": "2023-05-05T10:10:38.199Z"
   },
   {
    "duration": 35,
    "start_time": "2023-05-05T10:10:38.237Z"
   },
   {
    "duration": 35,
    "start_time": "2023-05-05T10:10:38.274Z"
   },
   {
    "duration": 27,
    "start_time": "2023-05-05T10:10:38.310Z"
   },
   {
    "duration": 20,
    "start_time": "2023-05-05T10:10:38.339Z"
   },
   {
    "duration": 31,
    "start_time": "2023-05-05T10:10:38.364Z"
   },
   {
    "duration": 13,
    "start_time": "2023-05-05T10:10:38.397Z"
   },
   {
    "duration": 32,
    "start_time": "2023-05-05T10:10:38.411Z"
   },
   {
    "duration": 47,
    "start_time": "2023-05-05T10:10:38.445Z"
   },
   {
    "duration": 203,
    "start_time": "2023-05-05T10:10:38.494Z"
   },
   {
    "duration": 10,
    "start_time": "2023-05-05T10:10:38.699Z"
   },
   {
    "duration": 84,
    "start_time": "2023-05-05T10:10:38.710Z"
   },
   {
    "duration": 211,
    "start_time": "2023-05-05T10:10:38.795Z"
   },
   {
    "duration": 15,
    "start_time": "2023-05-05T10:10:39.007Z"
   },
   {
    "duration": 296,
    "start_time": "2023-05-05T10:10:39.024Z"
   },
   {
    "duration": 14,
    "start_time": "2023-05-05T10:10:39.322Z"
   },
   {
    "duration": 15,
    "start_time": "2023-05-05T10:10:39.337Z"
   },
   {
    "duration": 261,
    "start_time": "2023-05-05T10:10:39.354Z"
   },
   {
    "duration": 5,
    "start_time": "2023-05-05T10:10:39.617Z"
   },
   {
    "duration": 288,
    "start_time": "2023-05-05T10:10:39.624Z"
   },
   {
    "duration": 5,
    "start_time": "2023-05-05T10:10:39.917Z"
   },
   {
    "duration": 286,
    "start_time": "2023-05-05T10:10:39.924Z"
   },
   {
    "duration": 3,
    "start_time": "2023-05-05T10:10:40.213Z"
   },
   {
    "duration": 27,
    "start_time": "2023-05-05T10:10:40.217Z"
   },
   {
    "duration": 34,
    "start_time": "2023-05-05T10:10:40.246Z"
   },
   {
    "duration": 36,
    "start_time": "2023-05-05T10:10:40.282Z"
   },
   {
    "duration": 28,
    "start_time": "2023-05-05T10:10:40.321Z"
   },
   {
    "duration": 37,
    "start_time": "2023-05-05T10:10:40.351Z"
   },
   {
    "duration": 24,
    "start_time": "2023-05-05T10:10:40.390Z"
   },
   {
    "duration": 45,
    "start_time": "2023-05-05T10:10:40.416Z"
   },
   {
    "duration": 134,
    "start_time": "2023-05-05T10:10:40.463Z"
   },
   {
    "duration": 233,
    "start_time": "2023-05-05T10:10:40.599Z"
   },
   {
    "duration": 232,
    "start_time": "2023-05-05T10:10:40.833Z"
   },
   {
    "duration": 245,
    "start_time": "2023-05-05T10:10:41.068Z"
   },
   {
    "duration": 246,
    "start_time": "2023-05-05T10:10:41.315Z"
   },
   {
    "duration": 340,
    "start_time": "2023-05-05T10:10:41.563Z"
   },
   {
    "duration": 163,
    "start_time": "2023-05-05T10:10:41.905Z"
   },
   {
    "duration": 4,
    "start_time": "2023-05-05T10:10:42.070Z"
   },
   {
    "duration": 24,
    "start_time": "2023-05-05T10:10:42.076Z"
   },
   {
    "duration": 19,
    "start_time": "2023-05-05T10:10:42.103Z"
   },
   {
    "duration": 40,
    "start_time": "2023-05-05T10:10:42.124Z"
   },
   {
    "duration": 60,
    "start_time": "2023-05-05T10:10:42.166Z"
   },
   {
    "duration": 58,
    "start_time": "2023-05-05T10:10:42.228Z"
   },
   {
    "duration": 42,
    "start_time": "2023-05-05T10:10:42.288Z"
   },
   {
    "duration": 61,
    "start_time": "2023-05-05T10:10:42.332Z"
   },
   {
    "duration": 14,
    "start_time": "2023-05-05T10:10:42.395Z"
   },
   {
    "duration": 15,
    "start_time": "2023-05-05T10:10:42.410Z"
   },
   {
    "duration": 12533,
    "start_time": "2023-05-05T10:10:42.426Z"
   },
   {
    "duration": 8518,
    "start_time": "2023-05-05T10:10:54.963Z"
   },
   {
    "duration": 21771,
    "start_time": "2023-05-05T10:11:03.482Z"
   },
   {
    "duration": 9,
    "start_time": "2023-05-05T10:11:25.254Z"
   },
   {
    "duration": 31,
    "start_time": "2023-05-05T10:11:25.265Z"
   },
   {
    "duration": 12,
    "start_time": "2023-05-05T10:11:25.298Z"
   },
   {
    "duration": 7,
    "start_time": "2023-05-05T10:11:25.311Z"
   },
   {
    "duration": 5,
    "start_time": "2023-05-05T10:11:25.320Z"
   },
   {
    "duration": 9,
    "start_time": "2023-05-05T10:11:25.327Z"
   },
   {
    "duration": 12,
    "start_time": "2023-05-05T10:11:25.338Z"
   },
   {
    "duration": 6,
    "start_time": "2023-05-05T10:11:25.352Z"
   },
   {
    "duration": 5,
    "start_time": "2023-05-05T10:11:25.383Z"
   },
   {
    "duration": 1452,
    "start_time": "2023-05-05T10:11:25.394Z"
   },
   {
    "duration": 7,
    "start_time": "2023-05-05T10:11:26.848Z"
   },
   {
    "duration": 175,
    "start_time": "2023-05-05T10:11:26.857Z"
   },
   {
    "duration": 71,
    "start_time": "2023-05-05T10:11:27.034Z"
   },
   {
    "duration": 311,
    "start_time": "2023-05-05T10:11:27.106Z"
   },
   {
    "duration": 15,
    "start_time": "2023-05-05T10:11:27.419Z"
   },
   {
    "duration": 300,
    "start_time": "2023-05-05T10:11:27.436Z"
   },
   {
    "duration": 316,
    "start_time": "2023-05-05T10:11:27.738Z"
   },
   {
    "duration": 1180,
    "start_time": "2023-05-06T04:17:53.479Z"
   },
   {
    "duration": 57,
    "start_time": "2023-05-06T04:17:54.661Z"
   },
   {
    "duration": 41,
    "start_time": "2023-05-06T04:17:54.720Z"
   },
   {
    "duration": 27,
    "start_time": "2023-05-06T04:17:54.765Z"
   },
   {
    "duration": 25,
    "start_time": "2023-05-06T04:17:54.794Z"
   },
   {
    "duration": 46,
    "start_time": "2023-05-06T04:17:54.821Z"
   },
   {
    "duration": 67,
    "start_time": "2023-05-06T04:17:54.874Z"
   },
   {
    "duration": 64,
    "start_time": "2023-05-06T04:17:54.948Z"
   },
   {
    "duration": 31,
    "start_time": "2023-05-06T04:17:55.014Z"
   },
   {
    "duration": 44,
    "start_time": "2023-05-06T04:17:55.047Z"
   },
   {
    "duration": 20,
    "start_time": "2023-05-06T04:17:55.093Z"
   },
   {
    "duration": 32,
    "start_time": "2023-05-06T04:17:55.115Z"
   },
   {
    "duration": 38,
    "start_time": "2023-05-06T04:17:55.153Z"
   },
   {
    "duration": 8,
    "start_time": "2023-05-06T04:17:55.194Z"
   },
   {
    "duration": 7,
    "start_time": "2023-05-06T04:17:55.203Z"
   },
   {
    "duration": 12,
    "start_time": "2023-05-06T04:17:55.212Z"
   },
   {
    "duration": 7,
    "start_time": "2023-05-06T04:17:55.226Z"
   },
   {
    "duration": 22,
    "start_time": "2023-05-06T04:17:55.240Z"
   },
   {
    "duration": 44,
    "start_time": "2023-05-06T04:17:55.263Z"
   },
   {
    "duration": 17,
    "start_time": "2023-05-06T04:17:55.310Z"
   },
   {
    "duration": 73,
    "start_time": "2023-05-06T04:17:55.330Z"
   },
   {
    "duration": 8,
    "start_time": "2023-05-06T04:17:55.404Z"
   },
   {
    "duration": 10,
    "start_time": "2023-05-06T04:17:55.414Z"
   },
   {
    "duration": 7,
    "start_time": "2023-05-06T04:17:55.425Z"
   },
   {
    "duration": 64,
    "start_time": "2023-05-06T04:17:55.433Z"
   },
   {
    "duration": 7,
    "start_time": "2023-05-06T04:17:55.499Z"
   },
   {
    "duration": 10,
    "start_time": "2023-05-06T04:17:55.508Z"
   },
   {
    "duration": 12,
    "start_time": "2023-05-06T04:17:55.520Z"
   },
   {
    "duration": 6,
    "start_time": "2023-05-06T04:17:55.533Z"
   },
   {
    "duration": 50,
    "start_time": "2023-05-06T04:17:55.544Z"
   },
   {
    "duration": 13,
    "start_time": "2023-05-06T04:17:55.596Z"
   },
   {
    "duration": 219,
    "start_time": "2023-05-06T04:17:55.610Z"
   },
   {
    "duration": 10,
    "start_time": "2023-05-06T04:17:55.831Z"
   },
   {
    "duration": 139,
    "start_time": "2023-05-06T04:17:55.842Z"
   },
   {
    "duration": 225,
    "start_time": "2023-05-06T04:17:55.984Z"
   },
   {
    "duration": 26,
    "start_time": "2023-05-06T04:17:56.211Z"
   },
   {
    "duration": 384,
    "start_time": "2023-05-06T04:17:56.239Z"
   },
   {
    "duration": 32,
    "start_time": "2023-05-06T04:17:56.625Z"
   },
   {
    "duration": 28,
    "start_time": "2023-05-06T04:17:56.665Z"
   },
   {
    "duration": 283,
    "start_time": "2023-05-06T04:17:56.695Z"
   },
   {
    "duration": 5,
    "start_time": "2023-05-06T04:17:56.985Z"
   },
   {
    "duration": 235,
    "start_time": "2023-05-06T04:17:56.992Z"
   },
   {
    "duration": 16,
    "start_time": "2023-05-06T04:17:57.229Z"
   },
   {
    "duration": 379,
    "start_time": "2023-05-06T04:17:57.247Z"
   },
   {
    "duration": 12,
    "start_time": "2023-05-06T04:17:57.628Z"
   },
   {
    "duration": 51,
    "start_time": "2023-05-06T04:17:57.644Z"
   },
   {
    "duration": 9,
    "start_time": "2023-05-06T04:17:57.697Z"
   },
   {
    "duration": 16,
    "start_time": "2023-05-06T04:17:57.707Z"
   },
   {
    "duration": 16,
    "start_time": "2023-05-06T04:17:57.726Z"
   },
   {
    "duration": 40,
    "start_time": "2023-05-06T04:17:57.744Z"
   },
   {
    "duration": 4,
    "start_time": "2023-05-06T04:17:57.785Z"
   },
   {
    "duration": 7,
    "start_time": "2023-05-06T04:17:57.792Z"
   },
   {
    "duration": 16,
    "start_time": "2023-05-06T04:17:57.801Z"
   },
   {
    "duration": 280,
    "start_time": "2023-05-06T04:17:57.820Z"
   },
   {
    "duration": 266,
    "start_time": "2023-05-06T04:17:58.102Z"
   },
   {
    "duration": 268,
    "start_time": "2023-05-06T04:17:58.376Z"
   },
   {
    "duration": 294,
    "start_time": "2023-05-06T04:17:58.650Z"
   },
   {
    "duration": 360,
    "start_time": "2023-05-06T04:17:58.953Z"
   },
   {
    "duration": 159,
    "start_time": "2023-05-06T04:17:59.314Z"
   },
   {
    "duration": 4,
    "start_time": "2023-05-06T04:17:59.479Z"
   },
   {
    "duration": 13,
    "start_time": "2023-05-06T04:17:59.485Z"
   },
   {
    "duration": 5,
    "start_time": "2023-05-06T04:17:59.499Z"
   },
   {
    "duration": 20,
    "start_time": "2023-05-06T04:17:59.505Z"
   },
   {
    "duration": 19,
    "start_time": "2023-05-06T04:17:59.527Z"
   },
   {
    "duration": 104,
    "start_time": "2023-05-06T04:17:59.547Z"
   },
   {
    "duration": 17,
    "start_time": "2023-05-06T04:17:59.653Z"
   },
   {
    "duration": 50,
    "start_time": "2023-05-06T04:17:59.671Z"
   },
   {
    "duration": 15,
    "start_time": "2023-05-06T04:17:59.722Z"
   },
   {
    "duration": 52,
    "start_time": "2023-05-06T04:17:59.739Z"
   },
   {
    "duration": 12976,
    "start_time": "2023-05-06T04:17:59.792Z"
   },
   {
    "duration": 8774,
    "start_time": "2023-05-06T04:18:12.769Z"
   },
   {
    "duration": 22950,
    "start_time": "2023-05-06T04:18:21.544Z"
   },
   {
    "duration": 9,
    "start_time": "2023-05-06T04:18:44.496Z"
   },
   {
    "duration": 22,
    "start_time": "2023-05-06T04:18:44.506Z"
   },
   {
    "duration": 27,
    "start_time": "2023-05-06T04:18:44.534Z"
   },
   {
    "duration": 43,
    "start_time": "2023-05-06T04:18:44.563Z"
   },
   {
    "duration": 12,
    "start_time": "2023-05-06T04:18:44.608Z"
   },
   {
    "duration": 6,
    "start_time": "2023-05-06T04:18:44.622Z"
   },
   {
    "duration": 63,
    "start_time": "2023-05-06T04:18:44.629Z"
   },
   {
    "duration": 29,
    "start_time": "2023-05-06T04:18:44.694Z"
   },
   {
    "duration": 69,
    "start_time": "2023-05-06T04:18:44.725Z"
   },
   {
    "duration": 1575,
    "start_time": "2023-05-06T04:18:44.798Z"
   },
   {
    "duration": 7,
    "start_time": "2023-05-06T04:18:46.377Z"
   },
   {
    "duration": 194,
    "start_time": "2023-05-06T04:18:46.386Z"
   },
   {
    "duration": 74,
    "start_time": "2023-05-06T04:18:46.581Z"
   },
   {
    "duration": 239,
    "start_time": "2023-05-06T04:18:46.657Z"
   },
   {
    "duration": 13,
    "start_time": "2023-05-06T04:18:46.898Z"
   },
   {
    "duration": 330,
    "start_time": "2023-05-06T04:18:46.912Z"
   },
   {
    "duration": 477,
    "start_time": "2023-05-06T04:18:47.244Z"
   },
   {
    "duration": 1076,
    "start_time": "2023-05-06T14:32:12.665Z"
   },
   {
    "duration": 88,
    "start_time": "2023-05-06T14:32:13.743Z"
   },
   {
    "duration": 174,
    "start_time": "2023-05-06T14:32:13.832Z"
   },
   {
    "duration": 66,
    "start_time": "2023-05-06T14:32:14.008Z"
   },
   {
    "duration": 13,
    "start_time": "2023-05-06T14:32:14.075Z"
   },
   {
    "duration": 11,
    "start_time": "2023-05-06T14:32:14.090Z"
   },
   {
    "duration": 8,
    "start_time": "2023-05-06T14:32:14.102Z"
   },
   {
    "duration": 12,
    "start_time": "2023-05-06T14:32:14.111Z"
   },
   {
    "duration": 9,
    "start_time": "2023-05-06T14:32:14.124Z"
   },
   {
    "duration": 8,
    "start_time": "2023-05-06T14:32:14.136Z"
   },
   {
    "duration": 16,
    "start_time": "2023-05-06T14:32:14.149Z"
   },
   {
    "duration": 31,
    "start_time": "2023-05-06T14:32:14.167Z"
   },
   {
    "duration": 14,
    "start_time": "2023-05-06T14:32:14.199Z"
   },
   {
    "duration": 8,
    "start_time": "2023-05-06T14:32:14.214Z"
   },
   {
    "duration": 4,
    "start_time": "2023-05-06T14:32:14.223Z"
   },
   {
    "duration": 20,
    "start_time": "2023-05-06T14:32:14.229Z"
   },
   {
    "duration": 26,
    "start_time": "2023-05-06T14:32:14.250Z"
   },
   {
    "duration": 6,
    "start_time": "2023-05-06T14:32:14.278Z"
   },
   {
    "duration": 6,
    "start_time": "2023-05-06T14:32:14.285Z"
   },
   {
    "duration": 3,
    "start_time": "2023-05-06T14:32:14.292Z"
   },
   {
    "duration": 8,
    "start_time": "2023-05-06T14:32:14.297Z"
   },
   {
    "duration": 7,
    "start_time": "2023-05-06T14:32:14.307Z"
   },
   {
    "duration": 8,
    "start_time": "2023-05-06T14:32:14.316Z"
   },
   {
    "duration": 4,
    "start_time": "2023-05-06T14:32:14.325Z"
   },
   {
    "duration": 24,
    "start_time": "2023-05-06T14:32:14.331Z"
   },
   {
    "duration": 12,
    "start_time": "2023-05-06T14:32:14.358Z"
   },
   {
    "duration": 7,
    "start_time": "2023-05-06T14:32:14.371Z"
   },
   {
    "duration": 9,
    "start_time": "2023-05-06T14:32:14.382Z"
   },
   {
    "duration": 3,
    "start_time": "2023-05-06T14:32:14.392Z"
   },
   {
    "duration": 9,
    "start_time": "2023-05-06T14:32:14.396Z"
   },
   {
    "duration": 7,
    "start_time": "2023-05-06T14:32:14.407Z"
   },
   {
    "duration": 245,
    "start_time": "2023-05-06T14:32:14.416Z"
   },
   {
    "duration": 11,
    "start_time": "2023-05-06T14:32:14.664Z"
   },
   {
    "duration": 97,
    "start_time": "2023-05-06T14:32:14.677Z"
   },
   {
    "duration": 195,
    "start_time": "2023-05-06T14:32:14.776Z"
   },
   {
    "duration": 12,
    "start_time": "2023-05-06T14:32:14.973Z"
   },
   {
    "duration": 290,
    "start_time": "2023-05-06T14:32:14.987Z"
   },
   {
    "duration": 13,
    "start_time": "2023-05-06T14:32:15.278Z"
   },
   {
    "duration": 9,
    "start_time": "2023-05-06T14:32:15.293Z"
   },
   {
    "duration": 229,
    "start_time": "2023-05-06T14:32:15.304Z"
   },
   {
    "duration": 13,
    "start_time": "2023-05-06T14:32:15.535Z"
   },
   {
    "duration": 199,
    "start_time": "2023-05-06T14:32:15.549Z"
   },
   {
    "duration": 6,
    "start_time": "2023-05-06T14:32:15.753Z"
   },
   {
    "duration": 240,
    "start_time": "2023-05-06T14:32:15.760Z"
   },
   {
    "duration": 2,
    "start_time": "2023-05-06T14:32:16.002Z"
   },
   {
    "duration": 14,
    "start_time": "2023-05-06T14:32:16.006Z"
   },
   {
    "duration": 8,
    "start_time": "2023-05-06T14:32:16.021Z"
   },
   {
    "duration": 28,
    "start_time": "2023-05-06T14:32:16.031Z"
   },
   {
    "duration": 14,
    "start_time": "2023-05-06T14:32:16.060Z"
   },
   {
    "duration": 8,
    "start_time": "2023-05-06T14:32:16.075Z"
   },
   {
    "duration": 4,
    "start_time": "2023-05-06T14:32:16.084Z"
   },
   {
    "duration": 7,
    "start_time": "2023-05-06T14:32:16.090Z"
   },
   {
    "duration": 102,
    "start_time": "2023-05-06T14:32:16.098Z"
   },
   {
    "duration": 225,
    "start_time": "2023-05-06T14:32:16.202Z"
   },
   {
    "duration": 222,
    "start_time": "2023-05-06T14:32:16.429Z"
   },
   {
    "duration": 225,
    "start_time": "2023-05-06T14:32:16.652Z"
   },
   {
    "duration": 233,
    "start_time": "2023-05-06T14:32:16.879Z"
   },
   {
    "duration": 301,
    "start_time": "2023-05-06T14:32:17.114Z"
   },
   {
    "duration": 126,
    "start_time": "2023-05-06T14:32:17.417Z"
   },
   {
    "duration": 3,
    "start_time": "2023-05-06T14:32:17.548Z"
   },
   {
    "duration": 23,
    "start_time": "2023-05-06T14:32:17.553Z"
   },
   {
    "duration": 7,
    "start_time": "2023-05-06T14:32:17.577Z"
   },
   {
    "duration": 22,
    "start_time": "2023-05-06T14:32:17.585Z"
   },
   {
    "duration": 18,
    "start_time": "2023-05-06T14:32:17.608Z"
   },
   {
    "duration": 39,
    "start_time": "2023-05-06T14:32:17.628Z"
   },
   {
    "duration": 14,
    "start_time": "2023-05-06T14:32:17.669Z"
   },
   {
    "duration": 30,
    "start_time": "2023-05-06T14:32:17.685Z"
   },
   {
    "duration": 34,
    "start_time": "2023-05-06T14:32:17.717Z"
   },
   {
    "duration": 15,
    "start_time": "2023-05-06T14:32:17.753Z"
   },
   {
    "duration": 11400,
    "start_time": "2023-05-06T14:32:17.770Z"
   },
   {
    "duration": 8138,
    "start_time": "2023-05-06T14:32:29.172Z"
   },
   {
    "duration": 20486,
    "start_time": "2023-05-06T14:32:37.311Z"
   },
   {
    "duration": 9,
    "start_time": "2023-05-06T14:32:57.799Z"
   },
   {
    "duration": 33,
    "start_time": "2023-05-06T14:32:57.810Z"
   },
   {
    "duration": 15,
    "start_time": "2023-05-06T14:32:57.848Z"
   },
   {
    "duration": 8,
    "start_time": "2023-05-06T14:32:57.865Z"
   },
   {
    "duration": 5,
    "start_time": "2023-05-06T14:32:57.875Z"
   },
   {
    "duration": 14,
    "start_time": "2023-05-06T14:32:57.881Z"
   },
   {
    "duration": 5,
    "start_time": "2023-05-06T14:32:57.897Z"
   },
   {
    "duration": 19,
    "start_time": "2023-05-06T14:32:57.904Z"
   },
   {
    "duration": 6,
    "start_time": "2023-05-06T14:32:57.925Z"
   },
   {
    "duration": 1365,
    "start_time": "2023-05-06T14:32:57.950Z"
   },
   {
    "duration": 6,
    "start_time": "2023-05-06T14:32:59.316Z"
   },
   {
    "duration": 174,
    "start_time": "2023-05-06T14:32:59.324Z"
   },
   {
    "duration": 80,
    "start_time": "2023-05-06T14:32:59.499Z"
   },
   {
    "duration": 309,
    "start_time": "2023-05-06T14:32:59.580Z"
   },
   {
    "duration": 14,
    "start_time": "2023-05-06T14:32:59.890Z"
   },
   {
    "duration": 282,
    "start_time": "2023-05-06T14:32:59.905Z"
   },
   {
    "duration": 311,
    "start_time": "2023-05-06T14:33:00.189Z"
   },
   {
    "duration": 6,
    "start_time": "2023-05-06T14:34:30.792Z"
   },
   {
    "duration": 3,
    "start_time": "2023-05-06T14:38:13.825Z"
   },
   {
    "duration": 6,
    "start_time": "2023-05-06T14:40:25.738Z"
   },
   {
    "duration": 6,
    "start_time": "2023-05-06T14:40:36.752Z"
   },
   {
    "duration": 9,
    "start_time": "2023-05-06T14:40:37.224Z"
   },
   {
    "duration": 1106,
    "start_time": "2023-05-06T14:40:50.034Z"
   },
   {
    "duration": 35,
    "start_time": "2023-05-06T14:40:51.141Z"
   },
   {
    "duration": 26,
    "start_time": "2023-05-06T14:40:51.178Z"
   },
   {
    "duration": 15,
    "start_time": "2023-05-06T14:40:51.207Z"
   },
   {
    "duration": 11,
    "start_time": "2023-05-06T14:40:51.223Z"
   },
   {
    "duration": 14,
    "start_time": "2023-05-06T14:40:51.236Z"
   },
   {
    "duration": 29,
    "start_time": "2023-05-06T14:40:51.252Z"
   },
   {
    "duration": 41,
    "start_time": "2023-05-06T14:40:51.283Z"
   },
   {
    "duration": 11,
    "start_time": "2023-05-06T14:40:51.326Z"
   },
   {
    "duration": 10,
    "start_time": "2023-05-06T14:40:51.339Z"
   },
   {
    "duration": 59,
    "start_time": "2023-05-06T14:40:51.351Z"
   },
   {
    "duration": 22,
    "start_time": "2023-05-06T14:40:51.411Z"
   },
   {
    "duration": 19,
    "start_time": "2023-05-06T14:40:51.435Z"
   },
   {
    "duration": 20,
    "start_time": "2023-05-06T14:40:51.456Z"
   },
   {
    "duration": 23,
    "start_time": "2023-05-06T14:40:51.477Z"
   },
   {
    "duration": 21,
    "start_time": "2023-05-06T14:40:51.501Z"
   },
   {
    "duration": 5,
    "start_time": "2023-05-06T14:40:51.524Z"
   },
   {
    "duration": 14,
    "start_time": "2023-05-06T14:40:51.530Z"
   },
   {
    "duration": 19,
    "start_time": "2023-05-06T14:40:51.545Z"
   },
   {
    "duration": 11,
    "start_time": "2023-05-06T14:40:51.565Z"
   },
   {
    "duration": 23,
    "start_time": "2023-05-06T14:40:51.577Z"
   },
   {
    "duration": 38,
    "start_time": "2023-05-06T14:40:51.601Z"
   },
   {
    "duration": 35,
    "start_time": "2023-05-06T14:40:51.640Z"
   },
   {
    "duration": 11,
    "start_time": "2023-05-06T14:40:51.676Z"
   },
   {
    "duration": 9,
    "start_time": "2023-05-06T14:40:51.688Z"
   },
   {
    "duration": 36,
    "start_time": "2023-05-06T14:40:51.698Z"
   },
   {
    "duration": 39,
    "start_time": "2023-05-06T14:40:51.735Z"
   },
   {
    "duration": 36,
    "start_time": "2023-05-06T14:40:51.778Z"
   },
   {
    "duration": 7,
    "start_time": "2023-05-06T14:40:51.815Z"
   },
   {
    "duration": 5,
    "start_time": "2023-05-06T14:40:51.824Z"
   },
   {
    "duration": 11,
    "start_time": "2023-05-06T14:40:51.830Z"
   },
   {
    "duration": 209,
    "start_time": "2023-05-06T14:40:51.842Z"
   },
   {
    "duration": 11,
    "start_time": "2023-05-06T14:40:52.053Z"
   },
   {
    "duration": 69,
    "start_time": "2023-05-06T14:40:52.066Z"
   },
   {
    "duration": 205,
    "start_time": "2023-05-06T14:40:52.137Z"
   },
   {
    "duration": 17,
    "start_time": "2023-05-06T14:40:52.349Z"
   },
   {
    "duration": 280,
    "start_time": "2023-05-06T14:40:52.368Z"
   },
   {
    "duration": 17,
    "start_time": "2023-05-06T14:40:52.650Z"
   },
   {
    "duration": 10,
    "start_time": "2023-05-06T14:40:52.669Z"
   },
   {
    "duration": 219,
    "start_time": "2023-05-06T14:40:52.680Z"
   },
   {
    "duration": 4,
    "start_time": "2023-05-06T14:40:52.900Z"
   },
   {
    "duration": 210,
    "start_time": "2023-05-06T14:40:52.906Z"
   },
   {
    "duration": 4,
    "start_time": "2023-05-06T14:40:53.117Z"
   },
   {
    "duration": 260,
    "start_time": "2023-05-06T14:40:53.123Z"
   },
   {
    "duration": 2,
    "start_time": "2023-05-06T14:40:53.385Z"
   },
   {
    "duration": 18,
    "start_time": "2023-05-06T14:40:53.388Z"
   },
   {
    "duration": 9,
    "start_time": "2023-05-06T14:40:53.407Z"
   },
   {
    "duration": 19,
    "start_time": "2023-05-06T14:40:53.418Z"
   },
   {
    "duration": 16,
    "start_time": "2023-05-06T14:40:53.438Z"
   },
   {
    "duration": 23,
    "start_time": "2023-05-06T14:40:53.456Z"
   },
   {
    "duration": 8,
    "start_time": "2023-05-06T14:40:53.481Z"
   },
   {
    "duration": 5,
    "start_time": "2023-05-06T14:40:53.490Z"
   },
   {
    "duration": 85,
    "start_time": "2023-05-06T14:40:53.497Z"
   },
   {
    "duration": 217,
    "start_time": "2023-05-06T14:40:53.583Z"
   },
   {
    "duration": 211,
    "start_time": "2023-05-06T14:40:53.801Z"
   },
   {
    "duration": 205,
    "start_time": "2023-05-06T14:40:54.014Z"
   },
   {
    "duration": 222,
    "start_time": "2023-05-06T14:40:54.220Z"
   },
   {
    "duration": 348,
    "start_time": "2023-05-06T14:40:54.443Z"
   },
   {
    "duration": 125,
    "start_time": "2023-05-06T14:40:54.792Z"
   },
   {
    "duration": 3,
    "start_time": "2023-05-06T14:40:54.918Z"
   },
   {
    "duration": 22,
    "start_time": "2023-05-06T14:40:54.922Z"
   },
   {
    "duration": 23,
    "start_time": "2023-05-06T14:40:54.946Z"
   },
   {
    "duration": 27,
    "start_time": "2023-05-06T14:40:54.970Z"
   },
   {
    "duration": 18,
    "start_time": "2023-05-06T14:40:54.998Z"
   },
   {
    "duration": 26,
    "start_time": "2023-05-06T14:40:55.018Z"
   },
   {
    "duration": 42,
    "start_time": "2023-05-06T14:40:55.045Z"
   },
   {
    "duration": 25,
    "start_time": "2023-05-06T14:40:55.088Z"
   },
   {
    "duration": 49,
    "start_time": "2023-05-06T14:40:55.116Z"
   },
   {
    "duration": 17,
    "start_time": "2023-05-06T14:40:55.168Z"
   },
   {
    "duration": 39,
    "start_time": "2023-05-06T14:40:55.187Z"
   },
   {
    "duration": 23,
    "start_time": "2023-05-06T14:40:55.228Z"
   },
   {
    "duration": 30,
    "start_time": "2023-05-06T14:40:55.253Z"
   },
   {
    "duration": 11061,
    "start_time": "2023-05-06T14:40:55.284Z"
   },
   {
    "duration": 7457,
    "start_time": "2023-05-06T14:41:06.346Z"
   },
   {
    "duration": 1109,
    "start_time": "2023-05-06T14:41:25.875Z"
   },
   {
    "duration": 28,
    "start_time": "2023-05-06T14:41:26.986Z"
   },
   {
    "duration": 27,
    "start_time": "2023-05-06T14:41:27.016Z"
   },
   {
    "duration": 15,
    "start_time": "2023-05-06T14:41:27.045Z"
   },
   {
    "duration": 13,
    "start_time": "2023-05-06T14:41:27.062Z"
   },
   {
    "duration": 8,
    "start_time": "2023-05-06T14:41:27.076Z"
   },
   {
    "duration": 10,
    "start_time": "2023-05-06T14:41:27.086Z"
   },
   {
    "duration": 13,
    "start_time": "2023-05-06T14:41:27.097Z"
   },
   {
    "duration": 11,
    "start_time": "2023-05-06T14:41:27.112Z"
   },
   {
    "duration": 32,
    "start_time": "2023-05-06T14:41:27.125Z"
   },
   {
    "duration": 19,
    "start_time": "2023-05-06T14:41:27.160Z"
   },
   {
    "duration": 17,
    "start_time": "2023-05-06T14:41:27.181Z"
   },
   {
    "duration": 14,
    "start_time": "2023-05-06T14:41:27.199Z"
   },
   {
    "duration": 7,
    "start_time": "2023-05-06T14:41:27.215Z"
   },
   {
    "duration": 27,
    "start_time": "2023-05-06T14:41:27.223Z"
   },
   {
    "duration": 7,
    "start_time": "2023-05-06T14:41:27.252Z"
   },
   {
    "duration": 14,
    "start_time": "2023-05-06T14:41:27.260Z"
   },
   {
    "duration": 8,
    "start_time": "2023-05-06T14:41:27.276Z"
   },
   {
    "duration": 8,
    "start_time": "2023-05-06T14:41:27.285Z"
   },
   {
    "duration": 3,
    "start_time": "2023-05-06T14:41:27.294Z"
   },
   {
    "duration": 3,
    "start_time": "2023-05-06T14:41:27.299Z"
   },
   {
    "duration": 7,
    "start_time": "2023-05-06T14:41:27.303Z"
   },
   {
    "duration": 11,
    "start_time": "2023-05-06T14:41:27.311Z"
   },
   {
    "duration": 6,
    "start_time": "2023-05-06T14:41:27.349Z"
   },
   {
    "duration": 12,
    "start_time": "2023-05-06T14:41:27.357Z"
   },
   {
    "duration": 4,
    "start_time": "2023-05-06T14:41:27.371Z"
   },
   {
    "duration": 9,
    "start_time": "2023-05-06T14:41:27.377Z"
   },
   {
    "duration": 9,
    "start_time": "2023-05-06T14:41:27.390Z"
   },
   {
    "duration": 4,
    "start_time": "2023-05-06T14:41:27.400Z"
   },
   {
    "duration": 6,
    "start_time": "2023-05-06T14:41:27.405Z"
   },
   {
    "duration": 14,
    "start_time": "2023-05-06T14:41:27.412Z"
   },
   {
    "duration": 206,
    "start_time": "2023-05-06T14:41:27.428Z"
   },
   {
    "duration": 17,
    "start_time": "2023-05-06T14:41:27.635Z"
   },
   {
    "duration": 70,
    "start_time": "2023-05-06T14:41:27.654Z"
   },
   {
    "duration": 190,
    "start_time": "2023-05-06T14:41:27.725Z"
   },
   {
    "duration": 13,
    "start_time": "2023-05-06T14:41:27.916Z"
   },
   {
    "duration": 280,
    "start_time": "2023-05-06T14:41:27.930Z"
   },
   {
    "duration": 14,
    "start_time": "2023-05-06T14:41:28.212Z"
   },
   {
    "duration": 22,
    "start_time": "2023-05-06T14:41:28.227Z"
   },
   {
    "duration": 230,
    "start_time": "2023-05-06T14:41:28.251Z"
   },
   {
    "duration": 5,
    "start_time": "2023-05-06T14:41:28.483Z"
   },
   {
    "duration": 199,
    "start_time": "2023-05-06T14:41:28.490Z"
   },
   {
    "duration": 4,
    "start_time": "2023-05-06T14:41:28.691Z"
   },
   {
    "duration": 227,
    "start_time": "2023-05-06T14:41:28.697Z"
   },
   {
    "duration": 2,
    "start_time": "2023-05-06T14:41:28.926Z"
   },
   {
    "duration": 20,
    "start_time": "2023-05-06T14:41:28.929Z"
   },
   {
    "duration": 14,
    "start_time": "2023-05-06T14:41:28.951Z"
   },
   {
    "duration": 31,
    "start_time": "2023-05-06T14:41:28.967Z"
   },
   {
    "duration": 11,
    "start_time": "2023-05-06T14:41:28.999Z"
   },
   {
    "duration": 9,
    "start_time": "2023-05-06T14:41:29.011Z"
   },
   {
    "duration": 5,
    "start_time": "2023-05-06T14:41:29.022Z"
   },
   {
    "duration": 12,
    "start_time": "2023-05-06T14:41:29.028Z"
   },
   {
    "duration": 95,
    "start_time": "2023-05-06T14:41:29.041Z"
   },
   {
    "duration": 207,
    "start_time": "2023-05-06T14:41:29.137Z"
   },
   {
    "duration": 204,
    "start_time": "2023-05-06T14:41:29.345Z"
   },
   {
    "duration": 223,
    "start_time": "2023-05-06T14:41:29.551Z"
   },
   {
    "duration": 229,
    "start_time": "2023-05-06T14:41:29.776Z"
   },
   {
    "duration": 310,
    "start_time": "2023-05-06T14:41:30.007Z"
   },
   {
    "duration": 139,
    "start_time": "2023-05-06T14:41:30.318Z"
   },
   {
    "duration": 3,
    "start_time": "2023-05-06T14:41:30.459Z"
   },
   {
    "duration": 46,
    "start_time": "2023-05-06T14:41:30.464Z"
   },
   {
    "duration": 19,
    "start_time": "2023-05-06T14:41:30.512Z"
   },
   {
    "duration": 48,
    "start_time": "2023-05-06T14:41:30.532Z"
   },
   {
    "duration": 37,
    "start_time": "2023-05-06T14:41:30.582Z"
   },
   {
    "duration": 39,
    "start_time": "2023-05-06T14:41:30.620Z"
   },
   {
    "duration": 168,
    "start_time": "2023-05-06T14:41:30.661Z"
   },
   {
    "duration": 0,
    "start_time": "2023-05-06T14:41:30.832Z"
   },
   {
    "duration": 0,
    "start_time": "2023-05-06T14:41:30.833Z"
   },
   {
    "duration": 0,
    "start_time": "2023-05-06T14:41:30.835Z"
   },
   {
    "duration": 0,
    "start_time": "2023-05-06T14:41:30.836Z"
   },
   {
    "duration": 0,
    "start_time": "2023-05-06T14:41:30.838Z"
   },
   {
    "duration": 0,
    "start_time": "2023-05-06T14:41:30.849Z"
   },
   {
    "duration": 0,
    "start_time": "2023-05-06T14:41:30.851Z"
   },
   {
    "duration": 0,
    "start_time": "2023-05-06T14:41:30.852Z"
   },
   {
    "duration": 0,
    "start_time": "2023-05-06T14:41:30.854Z"
   },
   {
    "duration": 0,
    "start_time": "2023-05-06T14:41:30.855Z"
   },
   {
    "duration": 0,
    "start_time": "2023-05-06T14:41:30.856Z"
   },
   {
    "duration": 0,
    "start_time": "2023-05-06T14:41:30.857Z"
   },
   {
    "duration": 0,
    "start_time": "2023-05-06T14:41:30.859Z"
   },
   {
    "duration": 0,
    "start_time": "2023-05-06T14:41:30.860Z"
   },
   {
    "duration": 0,
    "start_time": "2023-05-06T14:41:30.861Z"
   },
   {
    "duration": 0,
    "start_time": "2023-05-06T14:41:30.862Z"
   },
   {
    "duration": 0,
    "start_time": "2023-05-06T14:41:30.863Z"
   },
   {
    "duration": 0,
    "start_time": "2023-05-06T14:41:30.864Z"
   },
   {
    "duration": 0,
    "start_time": "2023-05-06T14:41:30.865Z"
   },
   {
    "duration": 0,
    "start_time": "2023-05-06T14:41:30.867Z"
   },
   {
    "duration": 0,
    "start_time": "2023-05-06T14:41:30.868Z"
   },
   {
    "duration": 0,
    "start_time": "2023-05-06T14:41:30.869Z"
   },
   {
    "duration": 0,
    "start_time": "2023-05-06T14:41:30.871Z"
   },
   {
    "duration": 0,
    "start_time": "2023-05-06T14:41:30.872Z"
   },
   {
    "duration": 0,
    "start_time": "2023-05-06T14:41:30.873Z"
   },
   {
    "duration": 0,
    "start_time": "2023-05-06T14:41:30.874Z"
   },
   {
    "duration": 0,
    "start_time": "2023-05-06T14:41:30.875Z"
   },
   {
    "duration": 5,
    "start_time": "2023-05-06T14:42:10.824Z"
   },
   {
    "duration": 5,
    "start_time": "2023-05-06T14:42:15.598Z"
   },
   {
    "duration": 3,
    "start_time": "2023-05-06T14:42:20.265Z"
   },
   {
    "duration": 10,
    "start_time": "2023-05-06T14:42:20.838Z"
   },
   {
    "duration": 12,
    "start_time": "2023-05-06T14:42:25.869Z"
   },
   {
    "duration": 5,
    "start_time": "2023-05-06T14:42:27.965Z"
   },
   {
    "duration": 3,
    "start_time": "2023-05-06T14:43:48.941Z"
   },
   {
    "duration": 9,
    "start_time": "2023-05-06T14:43:49.391Z"
   },
   {
    "duration": 3,
    "start_time": "2023-05-06T14:43:50.389Z"
   },
   {
    "duration": 57,
    "start_time": "2023-05-06T14:43:51.138Z"
   },
   {
    "duration": 10,
    "start_time": "2023-05-06T14:43:54.007Z"
   },
   {
    "duration": 5,
    "start_time": "2023-05-06T14:44:03.926Z"
   },
   {
    "duration": 3,
    "start_time": "2023-05-06T14:44:23.940Z"
   },
   {
    "duration": 12,
    "start_time": "2023-05-06T14:44:24.343Z"
   },
   {
    "duration": 57,
    "start_time": "2023-05-06T14:44:26.825Z"
   },
   {
    "duration": 4,
    "start_time": "2023-05-06T14:44:58.115Z"
   },
   {
    "duration": 11,
    "start_time": "2023-05-06T14:44:59.607Z"
   },
   {
    "duration": 5,
    "start_time": "2023-05-06T14:45:11.852Z"
   },
   {
    "duration": 10,
    "start_time": "2023-05-06T14:45:12.670Z"
   },
   {
    "duration": 6,
    "start_time": "2023-05-06T14:45:23.979Z"
   },
   {
    "duration": 2,
    "start_time": "2023-05-06T14:45:36.211Z"
   },
   {
    "duration": 9,
    "start_time": "2023-05-06T14:45:36.602Z"
   },
   {
    "duration": 2,
    "start_time": "2023-05-06T14:45:39.492Z"
   },
   {
    "duration": 14,
    "start_time": "2023-05-06T14:45:40.702Z"
   },
   {
    "duration": 6,
    "start_time": "2023-05-06T14:45:45.596Z"
   },
   {
    "duration": 11,
    "start_time": "2023-05-06T14:45:48.993Z"
   },
   {
    "duration": 5,
    "start_time": "2023-05-06T14:45:49.930Z"
   },
   {
    "duration": 3,
    "start_time": "2023-05-06T14:46:08.189Z"
   },
   {
    "duration": 2,
    "start_time": "2023-05-06T14:46:10.642Z"
   },
   {
    "duration": 8,
    "start_time": "2023-05-06T14:46:10.853Z"
   },
   {
    "duration": 3,
    "start_time": "2023-05-06T14:46:11.388Z"
   },
   {
    "duration": 3,
    "start_time": "2023-05-06T14:46:11.794Z"
   },
   {
    "duration": 11,
    "start_time": "2023-05-06T14:46:12.673Z"
   },
   {
    "duration": 5,
    "start_time": "2023-05-06T14:46:13.147Z"
   },
   {
    "duration": 3,
    "start_time": "2023-05-06T14:46:25.563Z"
   },
   {
    "duration": 3,
    "start_time": "2023-05-06T14:46:28.631Z"
   },
   {
    "duration": 8,
    "start_time": "2023-05-06T14:46:28.850Z"
   },
   {
    "duration": 4,
    "start_time": "2023-05-06T14:46:29.371Z"
   },
   {
    "duration": 3,
    "start_time": "2023-05-06T14:46:29.621Z"
   },
   {
    "duration": 11,
    "start_time": "2023-05-06T14:46:30.147Z"
   },
   {
    "duration": 15,
    "start_time": "2023-05-06T14:46:30.716Z"
   },
   {
    "duration": 4,
    "start_time": "2023-05-06T14:48:51.304Z"
   },
   {
    "duration": 4,
    "start_time": "2023-05-06T14:48:54.013Z"
   },
   {
    "duration": 11,
    "start_time": "2023-05-06T14:48:54.454Z"
   },
   {
    "duration": 4,
    "start_time": "2023-05-06T14:48:55.428Z"
   },
   {
    "duration": 4,
    "start_time": "2023-05-06T14:48:55.837Z"
   },
   {
    "duration": 14,
    "start_time": "2023-05-06T14:48:56.814Z"
   },
   {
    "duration": 19,
    "start_time": "2023-05-06T14:48:57.786Z"
   },
   {
    "duration": 3,
    "start_time": "2023-05-06T14:49:20.394Z"
   },
   {
    "duration": 5,
    "start_time": "2023-05-06T14:49:22.850Z"
   },
   {
    "duration": 8,
    "start_time": "2023-05-06T14:49:23.200Z"
   },
   {
    "duration": 5,
    "start_time": "2023-05-06T14:49:23.550Z"
   },
   {
    "duration": 4,
    "start_time": "2023-05-06T14:49:23.961Z"
   },
   {
    "duration": 13,
    "start_time": "2023-05-06T14:49:24.745Z"
   },
   {
    "duration": 11,
    "start_time": "2023-05-06T14:49:25.187Z"
   },
   {
    "duration": 10,
    "start_time": "2023-05-06T14:49:25.898Z"
   },
   {
    "duration": 2,
    "start_time": "2023-05-06T14:49:56.445Z"
   },
   {
    "duration": 11,
    "start_time": "2023-05-06T14:49:58.330Z"
   },
   {
    "duration": 8,
    "start_time": "2023-05-06T14:49:58.854Z"
   },
   {
    "duration": 4,
    "start_time": "2023-05-06T14:50:04.247Z"
   },
   {
    "duration": 10,
    "start_time": "2023-05-06T14:50:04.705Z"
   },
   {
    "duration": 3,
    "start_time": "2023-05-06T14:50:06.535Z"
   },
   {
    "duration": 3,
    "start_time": "2023-05-06T14:50:07.037Z"
   },
   {
    "duration": 11,
    "start_time": "2023-05-06T14:50:09.121Z"
   },
   {
    "duration": 5,
    "start_time": "2023-05-06T14:50:10.626Z"
   },
   {
    "duration": 3,
    "start_time": "2023-05-06T14:59:23.474Z"
   },
   {
    "duration": 3,
    "start_time": "2023-05-06T14:59:26.721Z"
   },
   {
    "duration": 9,
    "start_time": "2023-05-06T14:59:26.916Z"
   },
   {
    "duration": 5,
    "start_time": "2023-05-06T14:59:27.560Z"
   },
   {
    "duration": 3,
    "start_time": "2023-05-06T14:59:28.007Z"
   },
   {
    "duration": 10,
    "start_time": "2023-05-06T14:59:28.734Z"
   },
   {
    "duration": 13,
    "start_time": "2023-05-06T14:59:29.728Z"
   },
   {
    "duration": 3,
    "start_time": "2023-05-06T15:06:23.511Z"
   },
   {
    "duration": 5,
    "start_time": "2023-05-06T15:06:26.067Z"
   },
   {
    "duration": 12,
    "start_time": "2023-05-06T15:06:26.469Z"
   },
   {
    "duration": 5,
    "start_time": "2023-05-06T15:06:26.902Z"
   },
   {
    "duration": 4,
    "start_time": "2023-05-06T15:06:27.283Z"
   },
   {
    "duration": 15,
    "start_time": "2023-05-06T15:06:28.168Z"
   },
   {
    "duration": 19,
    "start_time": "2023-05-06T15:06:28.965Z"
   },
   {
    "duration": 3,
    "start_time": "2023-05-06T15:11:49.561Z"
   },
   {
    "duration": 13,
    "start_time": "2023-05-06T15:11:49.907Z"
   },
   {
    "duration": 11,
    "start_time": "2023-05-06T15:11:59.672Z"
   },
   {
    "duration": 3,
    "start_time": "2023-05-06T15:13:16.593Z"
   },
   {
    "duration": 5,
    "start_time": "2023-05-06T15:13:20.461Z"
   },
   {
    "duration": 7,
    "start_time": "2023-05-06T15:13:20.707Z"
   },
   {
    "duration": 9,
    "start_time": "2023-05-06T15:13:32.526Z"
   },
   {
    "duration": 3,
    "start_time": "2023-05-06T15:13:37.491Z"
   },
   {
    "duration": 7,
    "start_time": "2023-05-06T15:13:41.562Z"
   },
   {
    "duration": 9,
    "start_time": "2023-05-06T15:14:05.206Z"
   },
   {
    "duration": 10,
    "start_time": "2023-05-06T15:14:05.833Z"
   },
   {
    "duration": 4,
    "start_time": "2023-05-06T15:15:17.879Z"
   },
   {
    "duration": 5,
    "start_time": "2023-05-06T15:15:22.867Z"
   },
   {
    "duration": 4,
    "start_time": "2023-05-06T15:15:26.778Z"
   },
   {
    "duration": 9,
    "start_time": "2023-05-06T15:15:29.202Z"
   },
   {
    "duration": 1735,
    "start_time": "2023-05-06T15:15:29.866Z"
   },
   {
    "duration": 4,
    "start_time": "2023-05-06T15:17:15.313Z"
   },
   {
    "duration": 10,
    "start_time": "2023-05-06T15:17:20.769Z"
   },
   {
    "duration": 863,
    "start_time": "2023-05-06T15:17:21.361Z"
   },
   {
    "duration": 3,
    "start_time": "2023-05-06T15:18:02.914Z"
   },
   {
    "duration": 13,
    "start_time": "2023-05-06T15:18:08.196Z"
   },
   {
    "duration": 15,
    "start_time": "2023-05-06T15:18:08.730Z"
   },
   {
    "duration": 4,
    "start_time": "2023-05-06T15:25:04.981Z"
   },
   {
    "duration": 13,
    "start_time": "2023-05-06T15:25:09.708Z"
   },
   {
    "duration": 23,
    "start_time": "2023-05-06T15:25:10.277Z"
   },
   {
    "duration": 5,
    "start_time": "2023-05-06T15:25:32.679Z"
   },
   {
    "duration": 10,
    "start_time": "2023-05-06T15:25:35.037Z"
   },
   {
    "duration": 17,
    "start_time": "2023-05-06T15:25:35.689Z"
   },
   {
    "duration": 49,
    "start_time": "2023-05-06T15:28:32.096Z"
   },
   {
    "duration": 4,
    "start_time": "2023-05-06T15:28:46.798Z"
   },
   {
    "duration": 9,
    "start_time": "2023-05-06T15:28:50.826Z"
   },
   {
    "duration": 16,
    "start_time": "2023-05-06T15:28:51.343Z"
   },
   {
    "duration": 4,
    "start_time": "2023-05-06T15:29:29.487Z"
   },
   {
    "duration": 9,
    "start_time": "2023-05-06T15:29:36.701Z"
   },
   {
    "duration": 16,
    "start_time": "2023-05-06T15:29:37.600Z"
   },
   {
    "duration": 4,
    "start_time": "2023-05-06T15:31:13.173Z"
   },
   {
    "duration": 9,
    "start_time": "2023-05-06T15:31:19.882Z"
   },
   {
    "duration": 15,
    "start_time": "2023-05-06T15:31:20.382Z"
   },
   {
    "duration": 5,
    "start_time": "2023-05-06T15:31:48.039Z"
   },
   {
    "duration": 17,
    "start_time": "2023-05-06T15:31:53.444Z"
   },
   {
    "duration": 14,
    "start_time": "2023-05-06T15:31:53.909Z"
   },
   {
    "duration": 3,
    "start_time": "2023-05-06T15:32:24.208Z"
   },
   {
    "duration": 9,
    "start_time": "2023-05-06T15:32:29.286Z"
   },
   {
    "duration": 14,
    "start_time": "2023-05-06T15:32:29.922Z"
   },
   {
    "duration": 42,
    "start_time": "2023-05-06T15:33:04.467Z"
   },
   {
    "duration": 53,
    "start_time": "2023-05-06T15:33:36.068Z"
   },
   {
    "duration": 46,
    "start_time": "2023-05-06T15:33:48.760Z"
   },
   {
    "duration": 5,
    "start_time": "2023-05-06T15:33:55.143Z"
   },
   {
    "duration": 12,
    "start_time": "2023-05-06T15:33:57.952Z"
   },
   {
    "duration": 16,
    "start_time": "2023-05-06T15:33:58.385Z"
   },
   {
    "duration": 53,
    "start_time": "2023-05-06T15:34:09.141Z"
   },
   {
    "duration": 6,
    "start_time": "2023-05-06T15:34:17.996Z"
   },
   {
    "duration": 8,
    "start_time": "2023-05-06T15:34:20.620Z"
   },
   {
    "duration": 16,
    "start_time": "2023-05-06T15:34:21.011Z"
   },
   {
    "duration": 4,
    "start_time": "2023-05-06T15:34:28.699Z"
   },
   {
    "duration": 4,
    "start_time": "2023-05-06T15:34:41.309Z"
   },
   {
    "duration": 12,
    "start_time": "2023-05-06T15:34:43.965Z"
   },
   {
    "duration": 19,
    "start_time": "2023-05-06T15:34:44.375Z"
   },
   {
    "duration": 4,
    "start_time": "2023-05-06T15:34:53.221Z"
   },
   {
    "duration": 9,
    "start_time": "2023-05-06T15:34:56.400Z"
   },
   {
    "duration": 19,
    "start_time": "2023-05-06T15:34:56.764Z"
   },
   {
    "duration": 5,
    "start_time": "2023-05-06T15:35:03.498Z"
   },
   {
    "duration": 9,
    "start_time": "2023-05-06T15:35:06.885Z"
   },
   {
    "duration": 15,
    "start_time": "2023-05-06T15:35:07.269Z"
   },
   {
    "duration": 4,
    "start_time": "2023-05-06T15:35:08.068Z"
   },
   {
    "duration": 12,
    "start_time": "2023-05-06T17:05:06.139Z"
   },
   {
    "duration": 14,
    "start_time": "2023-05-06T17:05:11.569Z"
   },
   {
    "duration": 13,
    "start_time": "2023-05-06T17:05:16.647Z"
   },
   {
    "duration": 13,
    "start_time": "2023-05-06T17:05:24.966Z"
   },
   {
    "duration": 22,
    "start_time": "2023-05-06T17:05:29.996Z"
   },
   {
    "duration": 4,
    "start_time": "2023-05-06T17:06:16.283Z"
   },
   {
    "duration": 9,
    "start_time": "2023-05-06T17:06:19.961Z"
   },
   {
    "duration": 15,
    "start_time": "2023-05-06T17:06:20.412Z"
   },
   {
    "duration": 4,
    "start_time": "2023-05-06T17:06:21.765Z"
   },
   {
    "duration": 4,
    "start_time": "2023-05-06T17:06:22.102Z"
   },
   {
    "duration": 4,
    "start_time": "2023-05-06T17:08:05.772Z"
   },
   {
    "duration": 12,
    "start_time": "2023-05-06T17:08:10.736Z"
   },
   {
    "duration": 11,
    "start_time": "2023-05-06T17:08:11.306Z"
   },
   {
    "duration": 4,
    "start_time": "2023-05-06T17:09:49.525Z"
   },
   {
    "duration": 9,
    "start_time": "2023-05-06T17:09:52.989Z"
   },
   {
    "duration": 16,
    "start_time": "2023-05-06T17:09:53.467Z"
   },
   {
    "duration": 84,
    "start_time": "2023-05-06T17:11:32.922Z"
   },
   {
    "duration": 67,
    "start_time": "2023-05-06T17:11:50.328Z"
   },
   {
    "duration": 4,
    "start_time": "2023-05-06T17:12:21.694Z"
   },
   {
    "duration": 9,
    "start_time": "2023-05-06T17:12:25.132Z"
   },
   {
    "duration": 10,
    "start_time": "2023-05-06T17:12:25.733Z"
   },
   {
    "duration": 1097,
    "start_time": "2023-05-06T17:14:56.005Z"
   },
   {
    "duration": 28,
    "start_time": "2023-05-06T17:14:57.104Z"
   },
   {
    "duration": 40,
    "start_time": "2023-05-06T17:14:57.133Z"
   },
   {
    "duration": 14,
    "start_time": "2023-05-06T17:14:57.176Z"
   },
   {
    "duration": 13,
    "start_time": "2023-05-06T17:14:57.192Z"
   },
   {
    "duration": 9,
    "start_time": "2023-05-06T17:14:57.207Z"
   },
   {
    "duration": 8,
    "start_time": "2023-05-06T17:14:57.217Z"
   },
   {
    "duration": 16,
    "start_time": "2023-05-06T17:14:57.226Z"
   },
   {
    "duration": 37,
    "start_time": "2023-05-06T17:14:57.252Z"
   },
   {
    "duration": 9,
    "start_time": "2023-05-06T17:14:57.292Z"
   },
   {
    "duration": 17,
    "start_time": "2023-05-06T17:14:57.302Z"
   },
   {
    "duration": 16,
    "start_time": "2023-05-06T17:14:57.320Z"
   },
   {
    "duration": 34,
    "start_time": "2023-05-06T17:14:57.337Z"
   },
   {
    "duration": 21,
    "start_time": "2023-05-06T17:14:57.372Z"
   },
   {
    "duration": 13,
    "start_time": "2023-05-06T17:14:57.394Z"
   },
   {
    "duration": 8,
    "start_time": "2023-05-06T17:14:57.409Z"
   },
   {
    "duration": 7,
    "start_time": "2023-05-06T17:14:57.418Z"
   },
   {
    "duration": 6,
    "start_time": "2023-05-06T17:14:57.426Z"
   },
   {
    "duration": 26,
    "start_time": "2023-05-06T17:14:57.433Z"
   },
   {
    "duration": 16,
    "start_time": "2023-05-06T17:14:57.464Z"
   },
   {
    "duration": 19,
    "start_time": "2023-05-06T17:14:57.481Z"
   },
   {
    "duration": 9,
    "start_time": "2023-05-06T17:14:57.501Z"
   },
   {
    "duration": 12,
    "start_time": "2023-05-06T17:14:57.511Z"
   },
   {
    "duration": 5,
    "start_time": "2023-05-06T17:14:57.525Z"
   },
   {
    "duration": 6,
    "start_time": "2023-05-06T17:14:57.532Z"
   },
   {
    "duration": 11,
    "start_time": "2023-05-06T17:14:57.540Z"
   },
   {
    "duration": 28,
    "start_time": "2023-05-06T17:14:57.552Z"
   },
   {
    "duration": 8,
    "start_time": "2023-05-06T17:14:57.585Z"
   },
   {
    "duration": 12,
    "start_time": "2023-05-06T17:14:57.594Z"
   },
   {
    "duration": 5,
    "start_time": "2023-05-06T17:14:57.608Z"
   },
   {
    "duration": 7,
    "start_time": "2023-05-06T17:14:57.615Z"
   },
   {
    "duration": 194,
    "start_time": "2023-05-06T17:14:57.624Z"
   },
   {
    "duration": 10,
    "start_time": "2023-05-06T17:14:57.819Z"
   },
   {
    "duration": 84,
    "start_time": "2023-05-06T17:14:57.830Z"
   },
   {
    "duration": 207,
    "start_time": "2023-05-06T17:14:57.915Z"
   },
   {
    "duration": 13,
    "start_time": "2023-05-06T17:14:58.124Z"
   },
   {
    "duration": 281,
    "start_time": "2023-05-06T17:14:58.139Z"
   },
   {
    "duration": 27,
    "start_time": "2023-05-06T17:14:58.422Z"
   },
   {
    "duration": 11,
    "start_time": "2023-05-06T17:14:58.453Z"
   },
   {
    "duration": 228,
    "start_time": "2023-05-06T17:14:58.466Z"
   },
   {
    "duration": 5,
    "start_time": "2023-05-06T17:14:58.696Z"
   },
   {
    "duration": 219,
    "start_time": "2023-05-06T17:14:58.703Z"
   },
   {
    "duration": 5,
    "start_time": "2023-05-06T17:14:58.924Z"
   },
   {
    "duration": 247,
    "start_time": "2023-05-06T17:14:58.931Z"
   },
   {
    "duration": 2,
    "start_time": "2023-05-06T17:14:59.180Z"
   },
   {
    "duration": 17,
    "start_time": "2023-05-06T17:14:59.183Z"
   },
   {
    "duration": 9,
    "start_time": "2023-05-06T17:14:59.201Z"
   },
   {
    "duration": 13,
    "start_time": "2023-05-06T17:14:59.212Z"
   },
   {
    "duration": 41,
    "start_time": "2023-05-06T17:14:59.227Z"
   },
   {
    "duration": 20,
    "start_time": "2023-05-06T17:14:59.270Z"
   },
   {
    "duration": 11,
    "start_time": "2023-05-06T17:14:59.291Z"
   },
   {
    "duration": 15,
    "start_time": "2023-05-06T17:14:59.304Z"
   },
   {
    "duration": 80,
    "start_time": "2023-05-06T17:14:59.321Z"
   },
   {
    "duration": 240,
    "start_time": "2023-05-06T17:14:59.403Z"
   },
   {
    "duration": 258,
    "start_time": "2023-05-06T17:14:59.645Z"
   },
   {
    "duration": 229,
    "start_time": "2023-05-06T17:14:59.904Z"
   },
   {
    "duration": 244,
    "start_time": "2023-05-06T17:15:00.135Z"
   },
   {
    "duration": 353,
    "start_time": "2023-05-06T17:15:00.381Z"
   },
   {
    "duration": 165,
    "start_time": "2023-05-06T17:15:00.737Z"
   },
   {
    "duration": 5,
    "start_time": "2023-05-06T17:15:00.904Z"
   },
   {
    "duration": 38,
    "start_time": "2023-05-06T17:15:00.910Z"
   },
   {
    "duration": 16,
    "start_time": "2023-05-06T17:15:00.963Z"
   },
   {
    "duration": 45,
    "start_time": "2023-05-06T17:15:00.981Z"
   },
   {
    "duration": 64,
    "start_time": "2023-05-06T17:15:01.028Z"
   },
   {
    "duration": 38,
    "start_time": "2023-05-06T17:15:01.093Z"
   },
   {
    "duration": 44,
    "start_time": "2023-05-06T17:15:01.133Z"
   },
   {
    "duration": 19,
    "start_time": "2023-05-06T17:15:01.179Z"
   },
   {
    "duration": 38,
    "start_time": "2023-05-06T17:15:01.200Z"
   },
   {
    "duration": 11652,
    "start_time": "2023-05-06T17:15:01.240Z"
   },
   {
    "duration": 8095,
    "start_time": "2023-05-06T17:15:12.895Z"
   },
   {
    "duration": 103,
    "start_time": "2023-05-06T17:15:20.993Z"
   },
   {
    "duration": 0,
    "start_time": "2023-05-06T17:15:21.098Z"
   },
   {
    "duration": 0,
    "start_time": "2023-05-06T17:15:21.099Z"
   },
   {
    "duration": 0,
    "start_time": "2023-05-06T17:15:21.100Z"
   },
   {
    "duration": 0,
    "start_time": "2023-05-06T17:15:21.101Z"
   },
   {
    "duration": 0,
    "start_time": "2023-05-06T17:15:21.102Z"
   },
   {
    "duration": 0,
    "start_time": "2023-05-06T17:15:21.103Z"
   },
   {
    "duration": 0,
    "start_time": "2023-05-06T17:15:21.104Z"
   },
   {
    "duration": 0,
    "start_time": "2023-05-06T17:15:21.106Z"
   },
   {
    "duration": 0,
    "start_time": "2023-05-06T17:15:21.106Z"
   },
   {
    "duration": 0,
    "start_time": "2023-05-06T17:15:21.107Z"
   },
   {
    "duration": 0,
    "start_time": "2023-05-06T17:15:21.108Z"
   },
   {
    "duration": 0,
    "start_time": "2023-05-06T17:15:21.109Z"
   },
   {
    "duration": 0,
    "start_time": "2023-05-06T17:15:21.110Z"
   },
   {
    "duration": 0,
    "start_time": "2023-05-06T17:15:21.111Z"
   },
   {
    "duration": 0,
    "start_time": "2023-05-06T17:15:21.112Z"
   },
   {
    "duration": 0,
    "start_time": "2023-05-06T17:15:21.113Z"
   },
   {
    "duration": 0,
    "start_time": "2023-05-06T17:15:21.114Z"
   },
   {
    "duration": 0,
    "start_time": "2023-05-06T17:15:21.115Z"
   },
   {
    "duration": 78,
    "start_time": "2023-05-06T17:16:44.202Z"
   },
   {
    "duration": 113,
    "start_time": "2023-05-06T17:16:54.792Z"
   },
   {
    "duration": 8,
    "start_time": "2023-05-06T17:17:02.131Z"
   },
   {
    "duration": 222,
    "start_time": "2023-05-06T17:17:06.400Z"
   },
   {
    "duration": 16,
    "start_time": "2023-05-06T17:17:09.017Z"
   }
  ],
  "kernelspec": {
   "display_name": "Python 3 (ipykernel)",
   "language": "python",
   "name": "python3"
  },
  "language_info": {
   "codemirror_mode": {
    "name": "ipython",
    "version": 3
   },
   "file_extension": ".py",
   "mimetype": "text/x-python",
   "name": "python",
   "nbconvert_exporter": "python",
   "pygments_lexer": "ipython3",
   "version": "3.9.13"
  },
  "toc": {
   "base_numbering": 1,
   "nav_menu": {},
   "number_sections": true,
   "sideBar": true,
   "skip_h1_title": true,
   "title_cell": "Table of Contents",
   "title_sidebar": "Contents",
   "toc_cell": false,
   "toc_position": {
    "height": "calc(100% - 180px)",
    "left": "10px",
    "top": "150px",
    "width": "371px"
   },
   "toc_section_display": true,
   "toc_window_display": true
  }
 },
 "nbformat": 4,
 "nbformat_minor": 5
}
